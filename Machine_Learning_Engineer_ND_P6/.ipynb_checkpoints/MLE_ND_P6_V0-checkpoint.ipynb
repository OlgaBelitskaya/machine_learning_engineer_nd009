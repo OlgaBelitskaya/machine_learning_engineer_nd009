{
 "cells": [
  {
   "cell_type": "markdown",
   "metadata": {},
   "source": [
    "# &#x1F4D1; &nbsp; $\\mathfrak {\\color{#348ABD} {P6: \\ Capstone \\ Proposal \\ and \\ Capstone \\ Project}}$"
   ]
  },
  {
   "cell_type": "markdown",
   "metadata": {},
   "source": [
    "## $\\mathfrak {\\color{#348ABD} {0. \\ Code \\ Library }}$"
   ]
  },
  {
   "cell_type": "code",
   "execution_count": 1,
   "metadata": {},
   "outputs": [
    {
     "data": {
      "text/html": [
       "<script> code_show = true;\n",
       "\n",
       "function code_display() {\n",
       "    if (code_show) {\n",
       "        $('div.input').each(function(id) {if (id == 0 || $(this).html().indexOf('hide_code') > -1) {$(this).hide();}\n",
       "        });\n",
       "        $('div.output_prompt').css('opacity', 0);\n",
       "    } else { \n",
       "        $('div.input').each(function(id) {$(this).show();});\n",
       "        $('div.output_prompt').css('opacity', 1);\n",
       "    }\n",
       "    code_show = !code_show;\n",
       "}\n",
       "\n",
       "$(document).ready(code_display);</script>\n",
       "<form action=\"javascript: code_display()\">\n",
       "<input style=\"color: #348ABD; background: ghostwhite; opacity: 0.9;\"\n",
       "type=\"submit\" value=\"Click to display or hide code\"></form>"
      ],
      "text/plain": [
       "<IPython.core.display.HTML object>"
      ]
     },
     "execution_count": 1,
     "metadata": {},
     "output_type": "execute_result"
    }
   ],
   "source": [
    "from IPython.core.display import HTML\n",
    "hide_code = ''\n",
    "HTML('''<script> code_show = true;\n",
    "\n",
    "function code_display() {\n",
    "    if (code_show) {\n",
    "        $('div.input').each(function(id) {if (id == 0 || $(this).html().indexOf('hide_code') > -1) {$(this).hide();}\n",
    "        });\n",
    "        $('div.output_prompt').css('opacity', 0);\n",
    "    } else { \n",
    "        $('div.input').each(function(id) {$(this).show();});\n",
    "        $('div.output_prompt').css('opacity', 1);\n",
    "    }\n",
    "    code_show = !code_show;\n",
    "}\n",
    "\n",
    "$(document).ready(code_display);</script>\n",
    "<form action=\"javascript: code_display()\">\n",
    "<input style=\"color: #348ABD; background: ghostwhite; opacity: 0.9;\"\n",
    "type=\"submit\" value=\"Click to display or hide code\"></form>''')"
   ]
  },
  {
   "cell_type": "code",
   "execution_count": 4,
   "metadata": {
    "collapsed": true
   },
   "outputs": [],
   "source": [
    "hide_code\n",
    "import numpy as np\n",
    "import turtle\n",
    "import sys"
   ]
  },
  {
   "cell_type": "code",
   "execution_count": 3,
   "metadata": {
    "collapsed": true
   },
   "outputs": [],
   "source": [
    "# https://github.com/udacity/machine-learning/blob/master/projects/capstone/open_projects/robot_motion_planning/maze.py\n",
    "hide_code\n",
    "\n",
    "class Maze(object):\n",
    "    def __init__(self, filename):\n",
    "        '''\n",
    "        Maze objects have two main attributes:\n",
    "        - dim: mazes should be square, with sides of even length. (integer)\n",
    "        - walls: passages are coded as a 4-bit number, with a bit value taking\n",
    "            0 if there is a wall and 1 if there is no wall. The 1s register\n",
    "            corresponds with a square's top edge, 2s register the right edge,\n",
    "            4s register the bottom edge, and 8s register the left edge. (numpy\n",
    "            array)\n",
    "        The initialization function also performs some consistency checks for\n",
    "        wall positioning.\n",
    "        '''\n",
    "        with open(filename, 'rb') as f_in:\n",
    "\n",
    "            # First line should be an integer with the maze dimensions\n",
    "            self.dim = int(f_in.next())\n",
    "\n",
    "            # Subsequent lines describe the permissability of walls\n",
    "            walls = []\n",
    "            for line in f_in:\n",
    "                walls.append(map(int,line.split(',')))\n",
    "            self.walls = np.array(walls)\n",
    "\n",
    "        # Perform validation on maze\n",
    "        # Maze dimensions\n",
    "        if self.dim % 2:\n",
    "            raise Exception('Maze dimensions must be even in length!')\n",
    "        if self.walls.shape != (self.dim, self.dim):\n",
    "            raise Exception('Maze shape does not match dimension attribute!')\n",
    "\n",
    "        # Wall permeability\n",
    "        wall_errors = []\n",
    "        # vertical walls\n",
    "        for x in range(self.dim-1):\n",
    "            for y in range(self.dim):\n",
    "                if (self.walls[x,y] & 2 != 0) != (self.walls[x+1,y] & 8 != 0):\n",
    "                    wall_errors.append([(x,y), 'v'])\n",
    "        # horizontal walls\n",
    "        for y in range(self.dim-1):\n",
    "            for x in range(self.dim):\n",
    "                if (self.walls[x,y] & 1 != 0) != (self.walls[x,y+1] & 4 != 0):\n",
    "                    wall_errors.append([(x,y), 'h'])\n",
    "\n",
    "        if wall_errors:\n",
    "            for cell, wall_type in wall_errors:\n",
    "                if wall_type == 'v':\n",
    "                    cell2 = (cell[0]+1, cell[1])\n",
    "                    print 'Inconsistent vertical wall betweeen {} and {}'.format(cell, cell2)\n",
    "                else:\n",
    "                    cell2 = (cell[0], cell[1]+1)\n",
    "                    print 'Inconsistent horizontal wall betweeen {} and {}'.format(cell, cell2)\n",
    "            raise Exception('Consistency errors found in wall specifications!')\n",
    "\n",
    "\n",
    "    def is_permissible(self, cell, direction):\n",
    "        \"\"\"\n",
    "        Returns a boolean designating whether or not a cell is passable in the\n",
    "        given direction. Cell is input as a list. Directions may be\n",
    "        input as single letter 'u', 'r', 'd', 'l', or complete words 'up', \n",
    "        'right', 'down', 'left'.\n",
    "        \"\"\"\n",
    "        dir_int = {'u': 1, 'r': 2, 'd': 4, 'l': 8,\n",
    "                   'up': 1, 'right': 2, 'down': 4, 'left': 8}\n",
    "        try:\n",
    "            return (self.walls[tuple(cell)] & dir_int[direction] != 0)\n",
    "        except:\n",
    "            print 'Invalid direction provided!'\n",
    "\n",
    "\n",
    "    def dist_to_wall(self, cell, direction):\n",
    "        \"\"\"\n",
    "        Returns a number designating the number of open cells to the nearest\n",
    "        wall in the indicated direction. Cell is input as a list. Directions\n",
    "        may be input as a single letter 'u', 'r', 'd', 'l', or complete words\n",
    "        'up', 'right', 'down', 'left'.\n",
    "        \"\"\"\n",
    "        dir_move = {'u': [0, 1], 'r': [1, 0], 'd': [0, -1], 'l': [-1, 0],\n",
    "                    'up': [0, 1], 'right': [1, 0], 'down': [0, -1], 'left': [-1, 0]}\n",
    "\n",
    "        sensing = True\n",
    "        distance = 0\n",
    "        curr_cell = list(cell) # make copy to preserve original\n",
    "        while sensing:\n",
    "            if self.is_permissible(curr_cell, direction):\n",
    "                distance += 1\n",
    "                curr_cell[0] += dir_move[direction][0]\n",
    "                curr_cell[1] += dir_move[direction][1]\n",
    "            else:\n",
    "                sensing = False\n",
    "        return distance"
   ]
  },
  {
   "cell_type": "code",
   "execution_count": null,
   "metadata": {
    "collapsed": true
   },
   "outputs": [],
   "source": [
    "# https://github.com/udacity/machine-learning/blob/master/projects/capstone/ \n",
    "# open_projects/robot_motion_planning/robot.py\n",
    "hide_code\n",
    "class Robot(object):\n",
    "    def __init__(self, maze_dim):\n",
    "        '''\n",
    "        Use the initialization function to set up attributes that your robot\n",
    "        will use to learn and navigate the maze. Some initial attributes are\n",
    "        provided based on common information, including the size of the maze\n",
    "        the robot is placed in.\n",
    "        '''\n",
    "\n",
    "        self.location = [0, 0]\n",
    "        self.heading = 'up'\n",
    "        self.maze_dim = maze_dim\n",
    "\n",
    "    def next_move(self, sensors):\n",
    "        '''\n",
    "        Use this function to determine the next move the robot should make,\n",
    "        based on the input from the sensors after its previous move. Sensor\n",
    "        inputs are a list of three distances from the robot's left, front, and\n",
    "        right-facing sensors, in that order.\n",
    "        Outputs should be a tuple of two values. The first value indicates\n",
    "        robot rotation (if any), as a number: 0 for no rotation, +90 for a\n",
    "        90-degree rotation clockwise, and -90 for a 90-degree rotation\n",
    "        counterclockwise. Other values will result in no rotation. The second\n",
    "        value indicates robot movement, and the robot will attempt to move the\n",
    "        number of indicated squares: a positive number indicates forwards\n",
    "        movement, while a negative number indicates backwards movement. The\n",
    "        robot may move a maximum of three units per turn. Any excess movement\n",
    "        is ignored.\n",
    "        If the robot wants to end a run (e.g. during the first training run in\n",
    "        the maze) then returing the tuple ('Reset', 'Reset') will indicate to\n",
    "        the tester to end the run and return the robot to the start.\n",
    "        '''\n",
    "\n",
    "        rotation = 0\n",
    "        movement = 0\n",
    "\n",
    "        return rotation, movement"
   ]
  },
  {
   "cell_type": "code",
   "execution_count": null,
   "metadata": {
    "collapsed": true
   },
   "outputs": [],
   "source": [
    "# https://github.com/udacity/machine-learning/blob/master/projects/capstone/\n",
    "# open_projects/robot_motion_planning/showmaze.py\n",
    "hide_code\n",
    "\n",
    "if __name__ == '__main__':\n",
    "    '''\n",
    "    This function uses Python's turtle library to draw a picture of the maze\n",
    "    given as an argument when running the script.\n",
    "    '''\n",
    "\n",
    "    # Create a maze based on input argument on command line.\n",
    "    testmaze = Maze( str(sys.argv[1]) )\n",
    "\n",
    "    # Intialize the window and drawing turtle.\n",
    "    window = turtle.Screen()\n",
    "    wally = turtle.Turtle()\n",
    "    wally.speed(0)\n",
    "    wally.hideturtle()\n",
    "    wally.penup()\n",
    "\n",
    "    # maze centered on (0,0), squares are 20 units in length.\n",
    "    sq_size = 20\n",
    "    origin = testmaze.dim * sq_size / -2\n",
    "\n",
    "    # iterate through squares one by one to decide where to draw walls\n",
    "    for x in range(testmaze.dim):\n",
    "        for y in range(testmaze.dim):\n",
    "            if not testmaze.is_permissible([x,y], 'up'):\n",
    "                wally.goto(origin + sq_size * x, origin + sq_size * (y+1))\n",
    "                wally.setheading(0)\n",
    "                wally.pendown()\n",
    "                wally.forward(sq_size)\n",
    "                wally.penup()\n",
    "\n",
    "            if not testmaze.is_permissible([x,y], 'right'):\n",
    "                wally.goto(origin + sq_size * (x+1), origin + sq_size * y)\n",
    "                wally.setheading(90)\n",
    "                wally.pendown()\n",
    "                wally.forward(sq_size)\n",
    "                wally.penup()\n",
    "\n",
    "            # only check bottom wall if on lowest row\n",
    "            if y == 0 and not testmaze.is_permissible([x,y], 'down'):\n",
    "                wally.goto(origin + sq_size * x, origin)\n",
    "                wally.setheading(0)\n",
    "                wally.pendown()\n",
    "                wally.forward(sq_size)\n",
    "                wally.penup()\n",
    "\n",
    "            # only check left wall if on leftmost column\n",
    "            if x == 0 and not testmaze.is_permissible([x,y], 'left'):\n",
    "                wally.goto(origin, origin + sq_size * y)\n",
    "                wally.setheading(90)\n",
    "                wally.pendown()\n",
    "                wally.forward(sq_size)\n",
    "                wally.penup()\n",
    "\n",
    "    window.exitonclick()"
   ]
  },
  {
   "cell_type": "code",
   "execution_count": null,
   "metadata": {
    "collapsed": true
   },
   "outputs": [],
   "source": [
    "# https://github.com/udacity/machine-learning/blob/master/projects/capstone/\n",
    "# open_projects/robot_motion_planning/tester.py\n",
    "hide_code\n",
    "\n",
    "# global dictionaries for robot movement and sensing\n",
    "dir_sensors = {'u': ['l', 'u', 'r'], 'r': ['u', 'r', 'd'],\n",
    "               'd': ['r', 'd', 'l'], 'l': ['d', 'l', 'u'],\n",
    "               'up': ['l', 'u', 'r'], 'right': ['u', 'r', 'd'],\n",
    "               'down': ['r', 'd', 'l'], 'left': ['d', 'l', 'u']}\n",
    "dir_move = {'u': [0, 1], 'r': [1, 0], 'd': [0, -1], 'l': [-1, 0],\n",
    "            'up': [0, 1], 'right': [1, 0], 'down': [0, -1], 'left': [-1, 0]}\n",
    "dir_reverse = {'u': 'd', 'r': 'l', 'd': 'u', 'l': 'r',\n",
    "               'up': 'd', 'right': 'l', 'down': 'u', 'left': 'r'}\n",
    "\n",
    "# test and score parameters\n",
    "max_time = 1000\n",
    "train_score_mult = 1/30.\n",
    "\n",
    "if __name__ == '__main__':\n",
    "    '''\n",
    "    This script tests a robot based on the code in robot.py on a maze given\n",
    "    as an argument when running the script.\n",
    "    '''\n",
    "\n",
    "    # Create a maze based on input argument on command line.\n",
    "    testmaze = Maze( str(sys.argv[1]) )\n",
    "\n",
    "    # Intitialize a robot; robot receives info about maze dimensions.\n",
    "    testrobot = Robot(testmaze.dim)\n",
    "\n",
    "    # Record robot performance over two runs.\n",
    "    runtimes = []\n",
    "    total_time = 0\n",
    "    for run in range(2):\n",
    "        print \"Starting run {}.\".format(run)\n",
    "\n",
    "        # Set the robot in the start position. Note that robot position\n",
    "        # parameters are independent of the robot itself.\n",
    "        robot_pos = {'location': [0, 0], 'heading': 'up'}\n",
    "\n",
    "        run_active = True\n",
    "        hit_goal = False\n",
    "        while run_active:\n",
    "            # check for end of time\n",
    "            total_time += 1\n",
    "            if total_time > max_time:\n",
    "                run_active = False\n",
    "                print \"Allotted time exceeded.\"\n",
    "                break\n",
    "\n",
    "            # provide robot with sensor information, get actions\n",
    "            sensing = [testmaze.dist_to_wall(robot_pos['location'], heading)\n",
    "                       for heading in dir_sensors[robot_pos['heading']]]\n",
    "            rotation, movement = testrobot.next_move(sensing)\n",
    "\n",
    "            # check for a reset\n",
    "            if (rotation, movement) == ('Reset', 'Reset'):\n",
    "                if run == 0 and hit_goal:\n",
    "                    run_active = False\n",
    "                    runtimes.append(total_time)\n",
    "                    print \"Ending first run. Starting next run.\"\n",
    "                    break\n",
    "                elif run == 0 and not hit_goal:\n",
    "                    print \"Cannot reset - robot has not hit goal yet.\"\n",
    "                    continue\n",
    "                else:\n",
    "                    print \"Cannot reset on runs after the first.\"\n",
    "                    continue\n",
    "\n",
    "            # perform rotation\n",
    "            if rotation == -90:\n",
    "                robot_pos['heading'] = dir_sensors[robot_pos['heading']][0]\n",
    "            elif rotation == 90:\n",
    "                robot_pos['heading'] = dir_sensors[robot_pos['heading']][2]\n",
    "            elif rotation == 0:\n",
    "                pass\n",
    "            else:\n",
    "                print \"Invalid rotation value, no rotation performed.\"\n",
    "\n",
    "            # perform movement\n",
    "            if abs(movement) > 3:\n",
    "                print \"Movement limited to three squares in a turn.\"\n",
    "            movement = max(min(int(movement), 3), -3) # fix to range [-3, 3]\n",
    "            while movement:\n",
    "                if movement > 0:\n",
    "                    if testmaze.is_permissible(robot_pos['location'], robot_pos['heading']):\n",
    "                        robot_pos['location'][0] += dir_move[robot_pos['heading']][0]\n",
    "                        robot_pos['location'][1] += dir_move[robot_pos['heading']][1]\n",
    "                        movement -= 1\n",
    "                    else:\n",
    "                        print \"Movement stopped by wall.\"\n",
    "                        movement = 0\n",
    "                else:\n",
    "                    rev_heading = dir_reverse[robot_pos['heading']]\n",
    "                    if testmaze.is_permissible(robot_pos['location'], rev_heading):\n",
    "                        robot_pos['location'][0] += dir_move[rev_heading][0]\n",
    "                        robot_pos['location'][1] += dir_move[rev_heading][1]\n",
    "                        movement += 1\n",
    "                    else:\n",
    "                        print \"Movement stopped by wall.\"\n",
    "                        movement = 0\n",
    "\n",
    "            # check for goal entered\n",
    "            goal_bounds = [testmaze.dim/2 - 1, testmaze.dim/2]\n",
    "            if robot_pos['location'][0] in goal_bounds and robot_pos['location'][1] in goal_bounds:\n",
    "                hit_goal = True\n",
    "                if run != 0:\n",
    "                    runtimes.append(total_time - sum(runtimes))\n",
    "                    run_active = False\n",
    "                    print \"Goal found; run {} completed!\".format(run)\n",
    "\n",
    "    # Report score if robot is successful.\n",
    "    if len(runtimes) == 2:\n",
    "        print \"Task complete! Score: {:4.3f}\".format(runtimes[1] + train_score_mult*runtimes[0])"
   ]
  },
  {
   "cell_type": "markdown",
   "metadata": {
    "collapsed": true
   },
   "source": [
    "## $\\mathfrak {\\color{#348ABD} {1. \\ Capstone \\ Proposal \\ Overview }}$\n",
    "In this capstone project proposal, prior to completing the following **Capstone Project**, we will leverage what we've learned throughout the Nanodegree program to author a proposal for solving a problem of our choice by applying machine learning algorithms and techniques. A project proposal encompasses seven key points: \n",
    "\n",
    "- The project's **domain background** : the field of research where the project is derived;\n",
    "- A **problem statement** : a problem being investigated for which a solution will be defined;\n",
    "- The **datasets and inputs** : data or inputs being used for the problem;\n",
    "- A **solution statement** : a the solution proposed for the problem given;\n",
    "- A **benchmark model** : some simple or historical model or result to compare the defined solution to;\n",
    "- A set of **evaluation metrics** : functional representations for how the solution can be measured;\n",
    "- An outline of the **project design** : how the solution will be developed and results obtained."
   ]
  },
  {
   "cell_type": "markdown",
   "metadata": {
    "collapsed": true
   },
   "source": [
    "## $\\mathfrak {\\color{#348ABD} {2. \\ Domain \\ Background }}$"
   ]
  },
  {
   "cell_type": "code",
   "execution_count": null,
   "metadata": {
    "collapsed": true
   },
   "outputs": [],
   "source": []
  },
  {
   "cell_type": "markdown",
   "metadata": {
    "collapsed": true
   },
   "source": [
    "## $\\mathfrak {\\color{#348ABD} {3. \\ Problem \\ Statement }}$"
   ]
  },
  {
   "cell_type": "code",
   "execution_count": null,
   "metadata": {
    "collapsed": true
   },
   "outputs": [],
   "source": []
  },
  {
   "cell_type": "markdown",
   "metadata": {},
   "source": [
    "## $\\mathfrak {\\color{#348ABD} {4. \\ Datasets \\ and \\ Inputs }}$"
   ]
  },
  {
   "cell_type": "code",
   "execution_count": null,
   "metadata": {
    "collapsed": true
   },
   "outputs": [],
   "source": []
  },
  {
   "cell_type": "markdown",
   "metadata": {},
   "source": [
    "## $\\mathfrak {\\color{#348ABD} {5. \\ Solution \\ Statement }}$"
   ]
  },
  {
   "cell_type": "code",
   "execution_count": null,
   "metadata": {
    "collapsed": true
   },
   "outputs": [],
   "source": []
  },
  {
   "cell_type": "markdown",
   "metadata": {},
   "source": [
    "## $\\mathfrak {\\color{#348ABD} {6. \\ Benchmark \\ Model }}$"
   ]
  },
  {
   "cell_type": "code",
   "execution_count": null,
   "metadata": {
    "collapsed": true
   },
   "outputs": [],
   "source": []
  },
  {
   "cell_type": "markdown",
   "metadata": {},
   "source": [
    "## $\\mathfrak {\\color{#348ABD} {7. \\  Evaluation \\ Metrics }}$"
   ]
  },
  {
   "cell_type": "code",
   "execution_count": null,
   "metadata": {
    "collapsed": true
   },
   "outputs": [],
   "source": []
  },
  {
   "cell_type": "markdown",
   "metadata": {
    "collapsed": true
   },
   "source": [
    "## $\\mathfrak {\\color{#348ABD} {8. \\  Project \\ Design }}$"
   ]
  },
  {
   "cell_type": "code",
   "execution_count": null,
   "metadata": {
    "collapsed": true
   },
   "outputs": [],
   "source": []
  },
  {
   "cell_type": "code",
   "execution_count": null,
   "metadata": {
    "collapsed": true
   },
   "outputs": [],
   "source": []
  },
  {
   "cell_type": "code",
   "execution_count": null,
   "metadata": {
    "collapsed": true
   },
   "outputs": [],
   "source": []
  }
 ],
 "metadata": {
  "anaconda-cloud": {},
  "hide_input": false,
  "kernelspec": {
   "display_name": "Python 2",
   "language": "python",
   "name": "python2"
  },
  "language_info": {
   "codemirror_mode": {
    "name": "ipython",
    "version": 2
   },
   "file_extension": ".py",
   "mimetype": "text/x-python",
   "name": "python",
   "nbconvert_exporter": "python",
   "pygments_lexer": "ipython2",
   "version": "2.7.13"
  },
  "latex_envs": {
   "bibliofile": "biblio.bib",
   "cite_by": "apalike",
   "current_citInitial": 1,
   "eqLabelWithNumbers": true,
   "eqNumInitial": 0
  }
 },
 "nbformat": 4,
 "nbformat_minor": 2
}
