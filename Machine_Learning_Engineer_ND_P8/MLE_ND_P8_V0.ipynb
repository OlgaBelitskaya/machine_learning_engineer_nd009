{
 "cells": [
  {
   "cell_type": "markdown",
   "metadata": {},
   "source": [
    "# &#x1F4D1; &nbsp; $\\mathfrak {P8: \\ Analyzing \\ the \\ NYC \\ Subway \\ Dataset}$"
   ]
  },
  {
   "cell_type": "markdown",
   "metadata": {},
   "source": [
    "###  &#x1F4CA; &nbsp; Section 0. References and Code Library"
   ]
  },
  {
   "cell_type": "markdown",
   "metadata": {
    "collapsed": true
   },
   "source": [
    "Turnstile and Weather Variables: \n",
    "https://s3.amazonaws.com/uploads.hipchat.com/23756/665149/05bgLZqSsMycnkg/turnstile-weather-variables.pdf\n",
    "\n",
    "Scipy. Statistics in Python:\n",
    "http://www.scipy-lectures.org/packages/statistics/index.html\n",
    "\n",
    "Hypothesis Testing - MIT OpenCourseWare:\n",
    "https://ocw.mit.edu/resources/res-6-009-how-to-process-analyze-and-visualize-data-january-iap-2012/lectures-and-labs/MITRES_6_009IAP12_lab3a.pdf\n",
    "\n",
    "Assumptions of the Mann-Whitney U test:\n",
    "https://statistics.laerd.com/premium-sample/mwut/mann-whitney-test-in-spss-2.php"
   ]
  },
  {
   "cell_type": "code",
   "execution_count": 1,
   "metadata": {
    "collapsed": false
   },
   "outputs": [
    {
     "data": {
      "text/html": [
       "\n",
       "<style>\n",
       "body {background-color: aliceblue;}\n",
       "a {color: steelblue;}\n",
       "h1, h2, h3 { color: #348ABD;}\n",
       "</style>\n",
       "<script>code_show = true; \n",
       "function code_display() {\n",
       "    if (code_show) {\n",
       "        $('div.input').each(function(id) {\n",
       "            if (id == 0 || $(this).html().indexOf('hide_code') > -1) {$(this).hide();}\n",
       "        });\n",
       "        $('div.output_prompt').css('opacity', 0);\n",
       "    } else {\n",
       "        $('div.input').each(function(id) {$(this).show();});\n",
       "        $('div.output_prompt').css('opacity', 1);\n",
       "    }\n",
       "    code_show = !code_show;\n",
       "} \n",
       "$(document).ready(code_display);</script>\n",
       "<form action=\"javascript: code_display()\"><input style=\"color: steelblue; background: ghostwhite; opacity: 0.9; \" type=\"submit\" value=\"Click to display or hide code\"></form>"
      ],
      "text/plain": [
       "<IPython.core.display.HTML object>"
      ]
     },
     "execution_count": 1,
     "metadata": {},
     "output_type": "execute_result"
    }
   ],
   "source": [
    "from IPython.core.display import HTML\n",
    "hide_code = ''\n",
    "HTML('''\n",
    "<style>\n",
    "body {background-color: aliceblue;}\n",
    "a {color: steelblue;}\n",
    "h1, h2, h3 { color: #348ABD;}\n",
    "</style>\n",
    "<script>code_show = true; \n",
    "function code_display() {\n",
    "    if (code_show) {\n",
    "        $('div.input').each(function(id) {\n",
    "            if (id == 0 || $(this).html().indexOf('hide_code') > -1) {$(this).hide();}\n",
    "        });\n",
    "        $('div.output_prompt').css('opacity', 0);\n",
    "    } else {\n",
    "        $('div.input').each(function(id) {$(this).show();});\n",
    "        $('div.output_prompt').css('opacity', 1);\n",
    "    }\n",
    "    code_show = !code_show;\n",
    "} \n",
    "$(document).ready(code_display);</script>\n",
    "<form action=\"javascript: code_display()\"><input \\\n",
    "style=\"color: steelblue; background: ghostwhite; opacity: 0.9; \" \\\n",
    "type=\"submit\" value=\"Click to display or hide code\"></form>''')"
   ]
  },
  {
   "cell_type": "code",
   "execution_count": 262,
   "metadata": {
    "collapsed": false
   },
   "outputs": [],
   "source": [
    "hide_code\n",
    "# Import libraries\n",
    "import numpy as np\n",
    "import pandas as pd\n",
    "import time\n",
    "import warnings\n",
    "import matplotlib\n",
    "import matplotlib.pyplot as plt\n",
    "from ggplot import *\n",
    "from IPython.core.display import display \n",
    "\n",
    "# Display for notebooks\n",
    "%matplotlib inline\n",
    "\n",
    "################################\n",
    "### ADD EXTRA LIBRARIES HERE ###\n",
    "################################\n",
    "from scipy.stats import mannwhitneyu\n",
    "import seaborn as sns\n",
    "from sklearn import linear_model\n",
    "import statsmodels.api as sm\n",
    "from sklearn.metrics import r2_score\n",
    "from scipy.stats import linregress"
   ]
  },
  {
   "cell_type": "markdown",
   "metadata": {},
   "source": [
    "### &#x1F4CA; &nbsp;  Section 1. Statistical Test"
   ]
  },
  {
   "cell_type": "markdown",
   "metadata": {},
   "source": [
    "#### 1.1 Data Extraction and Description"
   ]
  },
  {
   "cell_type": "code",
   "execution_count": 3,
   "metadata": {
    "collapsed": false
   },
   "outputs": [
    {
     "data": {
      "text/html": [
       "<div>\n",
       "<table border=\"1\" class=\"dataframe\">\n",
       "  <thead>\n",
       "    <tr style=\"text-align: right;\">\n",
       "      <th></th>\n",
       "      <th>count</th>\n",
       "      <th>mean</th>\n",
       "      <th>std</th>\n",
       "      <th>min</th>\n",
       "      <th>25%</th>\n",
       "      <th>50%</th>\n",
       "      <th>75%</th>\n",
       "      <th>max</th>\n",
       "    </tr>\n",
       "  </thead>\n",
       "  <tbody>\n",
       "    <tr>\n",
       "      <th>Hour</th>\n",
       "      <td>131951.0</td>\n",
       "      <td>10.896158</td>\n",
       "      <td>6.892084</td>\n",
       "      <td>0.00</td>\n",
       "      <td>5.00</td>\n",
       "      <td>12.00</td>\n",
       "      <td>17.00</td>\n",
       "      <td>23.00</td>\n",
       "    </tr>\n",
       "    <tr>\n",
       "      <th>ENTRIESn_hourly</th>\n",
       "      <td>131951.0</td>\n",
       "      <td>1095.348478</td>\n",
       "      <td>2337.015421</td>\n",
       "      <td>0.00</td>\n",
       "      <td>39.00</td>\n",
       "      <td>279.00</td>\n",
       "      <td>1109.00</td>\n",
       "      <td>51839.00</td>\n",
       "    </tr>\n",
       "    <tr>\n",
       "      <th>EXITSn_hourly</th>\n",
       "      <td>131951.0</td>\n",
       "      <td>886.890838</td>\n",
       "      <td>2008.604886</td>\n",
       "      <td>0.00</td>\n",
       "      <td>32.00</td>\n",
       "      <td>232.00</td>\n",
       "      <td>847.00</td>\n",
       "      <td>45249.00</td>\n",
       "    </tr>\n",
       "    <tr>\n",
       "      <th>maxpressurei</th>\n",
       "      <td>131951.0</td>\n",
       "      <td>30.031894</td>\n",
       "      <td>0.125689</td>\n",
       "      <td>29.74</td>\n",
       "      <td>29.96</td>\n",
       "      <td>30.03</td>\n",
       "      <td>30.10</td>\n",
       "      <td>30.31</td>\n",
       "    </tr>\n",
       "    <tr>\n",
       "      <th>maxdewpti</th>\n",
       "      <td>131951.0</td>\n",
       "      <td>57.241302</td>\n",
       "      <td>8.770891</td>\n",
       "      <td>39.00</td>\n",
       "      <td>50.00</td>\n",
       "      <td>57.00</td>\n",
       "      <td>64.00</td>\n",
       "      <td>70.00</td>\n",
       "    </tr>\n",
       "    <tr>\n",
       "      <th>mindewpti</th>\n",
       "      <td>131951.0</td>\n",
       "      <td>48.259013</td>\n",
       "      <td>11.305312</td>\n",
       "      <td>22.00</td>\n",
       "      <td>38.00</td>\n",
       "      <td>51.00</td>\n",
       "      <td>55.00</td>\n",
       "      <td>66.00</td>\n",
       "    </tr>\n",
       "    <tr>\n",
       "      <th>minpressurei</th>\n",
       "      <td>131951.0</td>\n",
       "      <td>29.892714</td>\n",
       "      <td>0.146384</td>\n",
       "      <td>29.54</td>\n",
       "      <td>29.84</td>\n",
       "      <td>29.91</td>\n",
       "      <td>29.97</td>\n",
       "      <td>30.23</td>\n",
       "    </tr>\n",
       "    <tr>\n",
       "      <th>meandewpti</th>\n",
       "      <td>131951.0</td>\n",
       "      <td>52.703526</td>\n",
       "      <td>9.943590</td>\n",
       "      <td>31.00</td>\n",
       "      <td>45.00</td>\n",
       "      <td>54.00</td>\n",
       "      <td>60.00</td>\n",
       "      <td>68.00</td>\n",
       "    </tr>\n",
       "    <tr>\n",
       "      <th>meanpressurei</th>\n",
       "      <td>131951.0</td>\n",
       "      <td>29.965077</td>\n",
       "      <td>0.130461</td>\n",
       "      <td>29.64</td>\n",
       "      <td>29.91</td>\n",
       "      <td>29.96</td>\n",
       "      <td>30.05</td>\n",
       "      <td>30.27</td>\n",
       "    </tr>\n",
       "    <tr>\n",
       "      <th>fog</th>\n",
       "      <td>131951.0</td>\n",
       "      <td>0.167100</td>\n",
       "      <td>0.373066</td>\n",
       "      <td>0.00</td>\n",
       "      <td>0.00</td>\n",
       "      <td>0.00</td>\n",
       "      <td>0.00</td>\n",
       "      <td>1.00</td>\n",
       "    </tr>\n",
       "    <tr>\n",
       "      <th>rain</th>\n",
       "      <td>131951.0</td>\n",
       "      <td>0.334245</td>\n",
       "      <td>0.471728</td>\n",
       "      <td>0.00</td>\n",
       "      <td>0.00</td>\n",
       "      <td>0.00</td>\n",
       "      <td>1.00</td>\n",
       "      <td>1.00</td>\n",
       "    </tr>\n",
       "    <tr>\n",
       "      <th>meanwindspdi</th>\n",
       "      <td>131951.0</td>\n",
       "      <td>5.543065</td>\n",
       "      <td>1.982441</td>\n",
       "      <td>1.00</td>\n",
       "      <td>5.00</td>\n",
       "      <td>5.00</td>\n",
       "      <td>6.00</td>\n",
       "      <td>12.00</td>\n",
       "    </tr>\n",
       "    <tr>\n",
       "      <th>mintempi</th>\n",
       "      <td>131951.0</td>\n",
       "      <td>56.169775</td>\n",
       "      <td>6.338875</td>\n",
       "      <td>46.00</td>\n",
       "      <td>52.00</td>\n",
       "      <td>54.00</td>\n",
       "      <td>60.00</td>\n",
       "      <td>70.00</td>\n",
       "    </tr>\n",
       "    <tr>\n",
       "      <th>meantempi</th>\n",
       "      <td>131951.0</td>\n",
       "      <td>64.269729</td>\n",
       "      <td>6.568289</td>\n",
       "      <td>55.00</td>\n",
       "      <td>60.00</td>\n",
       "      <td>63.00</td>\n",
       "      <td>68.00</td>\n",
       "      <td>78.00</td>\n",
       "    </tr>\n",
       "    <tr>\n",
       "      <th>maxtempi</th>\n",
       "      <td>131951.0</td>\n",
       "      <td>71.769968</td>\n",
       "      <td>7.627218</td>\n",
       "      <td>58.00</td>\n",
       "      <td>65.00</td>\n",
       "      <td>71.00</td>\n",
       "      <td>78.00</td>\n",
       "      <td>86.00</td>\n",
       "    </tr>\n",
       "    <tr>\n",
       "      <th>precipi</th>\n",
       "      <td>131951.0</td>\n",
       "      <td>0.172276</td>\n",
       "      <td>0.429005</td>\n",
       "      <td>0.00</td>\n",
       "      <td>0.00</td>\n",
       "      <td>0.00</td>\n",
       "      <td>0.10</td>\n",
       "      <td>2.18</td>\n",
       "    </tr>\n",
       "    <tr>\n",
       "      <th>thunder</th>\n",
       "      <td>131951.0</td>\n",
       "      <td>0.000000</td>\n",
       "      <td>0.000000</td>\n",
       "      <td>0.00</td>\n",
       "      <td>0.00</td>\n",
       "      <td>0.00</td>\n",
       "      <td>0.00</td>\n",
       "      <td>0.00</td>\n",
       "    </tr>\n",
       "  </tbody>\n",
       "</table>\n",
       "</div>"
      ],
      "text/plain": [
       "                    count         mean          std    min    25%     50%  \\\n",
       "Hour             131951.0    10.896158     6.892084   0.00   5.00   12.00   \n",
       "ENTRIESn_hourly  131951.0  1095.348478  2337.015421   0.00  39.00  279.00   \n",
       "EXITSn_hourly    131951.0   886.890838  2008.604886   0.00  32.00  232.00   \n",
       "maxpressurei     131951.0    30.031894     0.125689  29.74  29.96   30.03   \n",
       "maxdewpti        131951.0    57.241302     8.770891  39.00  50.00   57.00   \n",
       "mindewpti        131951.0    48.259013    11.305312  22.00  38.00   51.00   \n",
       "minpressurei     131951.0    29.892714     0.146384  29.54  29.84   29.91   \n",
       "meandewpti       131951.0    52.703526     9.943590  31.00  45.00   54.00   \n",
       "meanpressurei    131951.0    29.965077     0.130461  29.64  29.91   29.96   \n",
       "fog              131951.0     0.167100     0.373066   0.00   0.00    0.00   \n",
       "rain             131951.0     0.334245     0.471728   0.00   0.00    0.00   \n",
       "meanwindspdi     131951.0     5.543065     1.982441   1.00   5.00    5.00   \n",
       "mintempi         131951.0    56.169775     6.338875  46.00  52.00   54.00   \n",
       "meantempi        131951.0    64.269729     6.568289  55.00  60.00   63.00   \n",
       "maxtempi         131951.0    71.769968     7.627218  58.00  65.00   71.00   \n",
       "precipi          131951.0     0.172276     0.429005   0.00   0.00    0.00   \n",
       "thunder          131951.0     0.000000     0.000000   0.00   0.00    0.00   \n",
       "\n",
       "                     75%       max  \n",
       "Hour               17.00     23.00  \n",
       "ENTRIESn_hourly  1109.00  51839.00  \n",
       "EXITSn_hourly     847.00  45249.00  \n",
       "maxpressurei       30.10     30.31  \n",
       "maxdewpti          64.00     70.00  \n",
       "mindewpti          55.00     66.00  \n",
       "minpressurei       29.97     30.23  \n",
       "meandewpti         60.00     68.00  \n",
       "meanpressurei      30.05     30.27  \n",
       "fog                 0.00      1.00  \n",
       "rain                1.00      1.00  \n",
       "meanwindspdi        6.00     12.00  \n",
       "mintempi           60.00     70.00  \n",
       "meantempi          68.00     78.00  \n",
       "maxtempi           78.00     86.00  \n",
       "precipi             0.10      2.18  \n",
       "thunder             0.00      0.00  "
      ]
     },
     "execution_count": 3,
     "metadata": {},
     "output_type": "execute_result"
    }
   ],
   "source": [
    "hide_code\n",
    "# Load the data from the csv file\n",
    "turnstile_data = pd.read_csv('turnstile_data_master_with_weather.csv').drop('index', 1)\n",
    "# Display the data description\n",
    "turnstile_data.describe().T"
   ]
  },
  {
   "cell_type": "code",
   "execution_count": 4,
   "metadata": {
    "collapsed": false
   },
   "outputs": [
    {
     "name": "stdout",
     "output_type": "stream",
     "text": [
      "Data Medians\n"
     ]
    },
    {
     "data": {
      "text/plain": [
       "Hour                12.00\n",
       "ENTRIESn_hourly    279.00\n",
       "EXITSn_hourly      232.00\n",
       "maxpressurei        30.03\n",
       "maxdewpti           57.00\n",
       "mindewpti           51.00\n",
       "minpressurei        29.91\n",
       "meandewpti          54.00\n",
       "meanpressurei       29.96\n",
       "fog                  0.00\n",
       "rain                 0.00\n",
       "meanwindspdi         5.00\n",
       "mintempi            54.00\n",
       "meantempi           63.00\n",
       "maxtempi            71.00\n",
       "precipi              0.00\n",
       "thunder              0.00\n",
       "dtype: float64"
      ]
     },
     "execution_count": 4,
     "metadata": {},
     "output_type": "execute_result"
    }
   ],
   "source": [
    "hide_code\n",
    "print ('Data Medians')\n",
    "turnstile_data.median()"
   ]
  },
  {
   "cell_type": "markdown",
   "metadata": {},
   "source": [
    "#### 1.2 Test Selection"
   ]
  },
  {
   "cell_type": "markdown",
   "metadata": {
    "collapsed": true
   },
   "source": [
    "***Question 1.1*** Which statistical test did you use to analyze the NYC subway data? Did you use a one-tail or a two-tail P value? What is the null hypothesis? What is your p-critical value?\n",
    "\n",
    "***Answer 1.1*** \n",
    "\n",
    "The *Mann-Whitney U Test* to compare the ridership of NYC subway in rainy and non-rainy days is a good choice. \n",
    "\n",
    "The column *'ENTRIESn_hourly'* will be the target and the column *'rain'* - the feature. \n",
    "\n",
    "I will test the *null hypothesis*: the median / the mean of ridership in NYC subway is the same for rainy and non-rainy days. Another variant of this hypothesis could be: the difference between ridership medians / means for rainy and non-rainy days is equal to zero.\n",
    "\n",
    "I will use a *two-tailed test* to find the statistical significance in both possible directions of interest.\n",
    "\n",
    "Let's setup the *p-critical value* is equal to 0.05: we will reject the null hypothesis at the *confidence level* of 95%."
   ]
  },
  {
   "cell_type": "markdown",
   "metadata": {
    "collapsed": true
   },
   "source": [
    "***Question 1.2*** Why is this statistical test applicable to the dataset? In particular, consider the assumptions that the test is making about the distribution of ridership in the two samples.\n",
    "\n",
    "***Answer 1.2***\n",
    "\n",
    "The *Mann-Whitney U Test* is a non-parametric alternative test for comparing two sample medians / means (or two distributions) that come from the same population.\n",
    "\n",
    "I have noted that the distribution of *'ENTRIESn_hourly'* is not normal so I cannot use the t-test in this case.\n",
    "\n",
    "The features' specifics for the Mann-Whitney U test:\n",
    "\n",
    "- 1) one dependent variable is measured at the continuous or ordinal level (*'ENTRIESn_hourly'*),\n",
    "- 2) one independent variable consists of two categorical, independent groups (*'rain'*),\n",
    "- 3) independence of observations (true for this data, the samples do not affect each other),\n",
    "- 4) if two distributions have the same shapes, the test determines differences in the medians / means of two groups, if they have different shapes - differences in the distributions of two groups (distributions in our case, the shapes are similar but with different levels),\n",
    "- 5) two samples under consideration could not have the same number of observations (true for this data)."
   ]
  },
  {
   "cell_type": "markdown",
   "metadata": {},
   "source": [
    "#### 1.3 Test\n",
    "At first,I will describe two samples, then I will run the test and display the results."
   ]
  },
  {
   "cell_type": "code",
   "execution_count": 12,
   "metadata": {
    "collapsed": false
   },
   "outputs": [
    {
     "name": "stdout",
     "output_type": "stream",
     "text": [
      "ENTRIESn_hourly in rainy days\n"
     ]
    },
    {
     "data": {
      "text/plain": [
       "count    44104.000000\n",
       "mean      1105.446377\n",
       "std       2370.527674\n",
       "min          0.000000\n",
       "25%         41.000000\n",
       "50%        282.000000\n",
       "75%       1103.250000\n",
       "max      51839.000000\n",
       "Name: ENTRIESn_hourly, dtype: float64"
      ]
     },
     "execution_count": 12,
     "metadata": {},
     "output_type": "execute_result"
    }
   ],
   "source": [
    "hide_code\n",
    "print(\"ENTRIESn_hourly in rainy days\")\n",
    "rainy_entries_hourly.describe()"
   ]
  },
  {
   "cell_type": "code",
   "execution_count": 13,
   "metadata": {
    "collapsed": false
   },
   "outputs": [
    {
     "name": "stdout",
     "output_type": "stream",
     "text": [
      "ENTRIESn_hourly in non-rainy days\n"
     ]
    },
    {
     "data": {
      "text/plain": [
       "count    87847.000000\n",
       "mean      1090.278780\n",
       "std       2320.004938\n",
       "min          0.000000\n",
       "25%         38.000000\n",
       "50%        278.000000\n",
       "75%       1111.000000\n",
       "max      43199.000000\n",
       "Name: ENTRIESn_hourly, dtype: float64"
      ]
     },
     "execution_count": 13,
     "metadata": {},
     "output_type": "execute_result"
    }
   ],
   "source": [
    "hide_code\n",
    "print(\"ENTRIESn_hourly in non-rainy days\")\n",
    "non_rainy_entries_hourly.describe()"
   ]
  },
  {
   "cell_type": "code",
   "execution_count": 23,
   "metadata": {
    "collapsed": false
   },
   "outputs": [
    {
     "name": "stdout",
     "output_type": "stream",
     "text": [
      "Mean for rainy days: 1105\n",
      "Mean for non-rainy days: 1090\n",
      "Median for rainy days: 282\n",
      "Median for non-rainy days: 278\n",
      "Number of rainy days: 44104\n",
      "Number for non-rainy days: 87847\n",
      "Mann-Whitney U test: U = 1949994921, p = 0.04988\n"
     ]
    }
   ],
   "source": [
    "hide_code\n",
    "with_rain_median = np.median(rainy_entries_hourly)\n",
    "without_rain_median = np.median(non_rainy_entries_hourly)\n",
    "with_rain_mean = np.mean(rainy_entries_hourly)\n",
    "without_rain_mean = np.mean(non_rainy_entries_hourly)\n",
    "U, p = mannwhitneyu(rainy_entries_hourly, non_rainy_entries_hourly, alternative='two-sided')\n",
    "\n",
    "print (\"Mean for rainy days: {:.0f}\".format(with_rain_mean))\n",
    "print (\"Mean for non-rainy days: {:.0f}\".format(without_rain_mean))\n",
    "print (\"Median for rainy days: {:.0f}\".format(with_rain_median))\n",
    "print (\"Median for non-rainy days: {:.0f}\".format(without_rain_median))\n",
    "print (\"Number of rainy days: {:.0f}\".format(len(rainy_entries_hourly)))\n",
    "print (\"Number for non-rainy days: {:.0f}\".format(len(non_rainy_entries_hourly)))\n",
    "print (\"Mann-Whitney U test: U = {:.0f}, p = {:.5f}\".format(U,p))"
   ]
  },
  {
   "cell_type": "markdown",
   "metadata": {},
   "source": [
    "***Question 1.3*** What results did you get from this statistical test? These should include the following numerical values: p-values, as well as the medians / means for each of the two samples under test.\n",
    "\n",
    "***Answer 1.3***\n",
    "\n",
    "The mean values of ENTRIESn_hourly in rainy days and in non-rainy days are 1105 and 1090. \n",
    "\n",
    "The median values of ENTRIESn_hourly in rainy days and in non-rainy days are 282 and 278.\n",
    "\n",
    "The number of rainy and non-rainy days are 44104 and 87847.\n",
    "\n",
    "The p-value of Mann-Whitney U-Test is 0.04988."
   ]
  },
  {
   "cell_type": "markdown",
   "metadata": {},
   "source": [
    "***Question 1.4*** What is the significance and interpretation of these results?\n",
    "\n",
    "***Answer 1.4***\n",
    "\n",
    "The median / mean values of ENTRIESn_hourly in rainy days is only a little bit larger than in non-rainy days. I cannot determine whether the null hypothesis is rejected or not based on the difference between each pair of values.\n",
    "\n",
    "The Mann-Whitney U-Test detects more informative results on whether the null hypothesis is true or not. The p-value of this test is 0.04988 and it's less than the p-critical value. Therefore, I can confirm that the null hypothesis is rejected with 95% of confidence level."
   ]
  },
  {
   "cell_type": "markdown",
   "metadata": {
    "collapsed": true
   },
   "source": [
    "### &#x1F4CA; &nbsp;  Section 2. Linear Regression\n",
    "In this section, I will use the improved dataset turnstile_weather_v2.csv. Let's load and describe it."
   ]
  },
  {
   "cell_type": "code",
   "execution_count": 232,
   "metadata": {
    "collapsed": false
   },
   "outputs": [
    {
     "data": {
      "text/html": [
       "<div>\n",
       "<table border=\"1\" class=\"dataframe\">\n",
       "  <thead>\n",
       "    <tr style=\"text-align: right;\">\n",
       "      <th></th>\n",
       "      <th>0</th>\n",
       "      <th>1</th>\n",
       "      <th>2</th>\n",
       "      <th>3</th>\n",
       "      <th>4</th>\n",
       "    </tr>\n",
       "  </thead>\n",
       "  <tbody>\n",
       "    <tr>\n",
       "      <th>UNIT</th>\n",
       "      <td>R003</td>\n",
       "      <td>R003</td>\n",
       "      <td>R003</td>\n",
       "      <td>R003</td>\n",
       "      <td>R003</td>\n",
       "    </tr>\n",
       "    <tr>\n",
       "      <th>DATEn</th>\n",
       "      <td>05-01-11</td>\n",
       "      <td>05-01-11</td>\n",
       "      <td>05-01-11</td>\n",
       "      <td>05-01-11</td>\n",
       "      <td>05-01-11</td>\n",
       "    </tr>\n",
       "    <tr>\n",
       "      <th>TIMEn</th>\n",
       "      <td>00:00:00</td>\n",
       "      <td>04:00:00</td>\n",
       "      <td>12:00:00</td>\n",
       "      <td>16:00:00</td>\n",
       "      <td>20:00:00</td>\n",
       "    </tr>\n",
       "    <tr>\n",
       "      <th>ENTRIESn</th>\n",
       "      <td>4388333</td>\n",
       "      <td>4388333</td>\n",
       "      <td>4388333</td>\n",
       "      <td>4388333</td>\n",
       "      <td>4388333</td>\n",
       "    </tr>\n",
       "    <tr>\n",
       "      <th>EXITSn</th>\n",
       "      <td>2911002</td>\n",
       "      <td>2911002</td>\n",
       "      <td>2911002</td>\n",
       "      <td>2911002</td>\n",
       "      <td>2911002</td>\n",
       "    </tr>\n",
       "    <tr>\n",
       "      <th>ENTRIESn_hourly</th>\n",
       "      <td>0</td>\n",
       "      <td>0</td>\n",
       "      <td>0</td>\n",
       "      <td>0</td>\n",
       "      <td>0</td>\n",
       "    </tr>\n",
       "    <tr>\n",
       "      <th>EXITSn_hourly</th>\n",
       "      <td>0</td>\n",
       "      <td>0</td>\n",
       "      <td>0</td>\n",
       "      <td>0</td>\n",
       "      <td>0</td>\n",
       "    </tr>\n",
       "    <tr>\n",
       "      <th>datetime</th>\n",
       "      <td>2011-05-01 00:00:00</td>\n",
       "      <td>2011-05-01 04:00:00</td>\n",
       "      <td>2011-05-01 12:00:00</td>\n",
       "      <td>2011-05-01 16:00:00</td>\n",
       "      <td>2011-05-01 20:00:00</td>\n",
       "    </tr>\n",
       "    <tr>\n",
       "      <th>hour</th>\n",
       "      <td>0</td>\n",
       "      <td>4</td>\n",
       "      <td>12</td>\n",
       "      <td>16</td>\n",
       "      <td>20</td>\n",
       "    </tr>\n",
       "    <tr>\n",
       "      <th>day_week</th>\n",
       "      <td>6</td>\n",
       "      <td>6</td>\n",
       "      <td>6</td>\n",
       "      <td>6</td>\n",
       "      <td>6</td>\n",
       "    </tr>\n",
       "    <tr>\n",
       "      <th>weekday</th>\n",
       "      <td>0</td>\n",
       "      <td>0</td>\n",
       "      <td>0</td>\n",
       "      <td>0</td>\n",
       "      <td>0</td>\n",
       "    </tr>\n",
       "    <tr>\n",
       "      <th>station</th>\n",
       "      <td>CYPRESS HILLS</td>\n",
       "      <td>CYPRESS HILLS</td>\n",
       "      <td>CYPRESS HILLS</td>\n",
       "      <td>CYPRESS HILLS</td>\n",
       "      <td>CYPRESS HILLS</td>\n",
       "    </tr>\n",
       "    <tr>\n",
       "      <th>latitude</th>\n",
       "      <td>40.6899</td>\n",
       "      <td>40.6899</td>\n",
       "      <td>40.6899</td>\n",
       "      <td>40.6899</td>\n",
       "      <td>40.6899</td>\n",
       "    </tr>\n",
       "    <tr>\n",
       "      <th>longitude</th>\n",
       "      <td>-73.8726</td>\n",
       "      <td>-73.8726</td>\n",
       "      <td>-73.8726</td>\n",
       "      <td>-73.8726</td>\n",
       "      <td>-73.8726</td>\n",
       "    </tr>\n",
       "    <tr>\n",
       "      <th>conds</th>\n",
       "      <td>Clear</td>\n",
       "      <td>Partly Cloudy</td>\n",
       "      <td>Mostly Cloudy</td>\n",
       "      <td>Mostly Cloudy</td>\n",
       "      <td>Mostly Cloudy</td>\n",
       "    </tr>\n",
       "    <tr>\n",
       "      <th>fog</th>\n",
       "      <td>0</td>\n",
       "      <td>0</td>\n",
       "      <td>0</td>\n",
       "      <td>0</td>\n",
       "      <td>0</td>\n",
       "    </tr>\n",
       "    <tr>\n",
       "      <th>precipi</th>\n",
       "      <td>0</td>\n",
       "      <td>0</td>\n",
       "      <td>0</td>\n",
       "      <td>0</td>\n",
       "      <td>0</td>\n",
       "    </tr>\n",
       "    <tr>\n",
       "      <th>pressurei</th>\n",
       "      <td>30.22</td>\n",
       "      <td>30.25</td>\n",
       "      <td>30.28</td>\n",
       "      <td>30.26</td>\n",
       "      <td>30.28</td>\n",
       "    </tr>\n",
       "    <tr>\n",
       "      <th>rain</th>\n",
       "      <td>0</td>\n",
       "      <td>0</td>\n",
       "      <td>0</td>\n",
       "      <td>0</td>\n",
       "      <td>0</td>\n",
       "    </tr>\n",
       "    <tr>\n",
       "      <th>tempi</th>\n",
       "      <td>55.9</td>\n",
       "      <td>52</td>\n",
       "      <td>62.1</td>\n",
       "      <td>57.9</td>\n",
       "      <td>52</td>\n",
       "    </tr>\n",
       "    <tr>\n",
       "      <th>wspdi</th>\n",
       "      <td>3.5</td>\n",
       "      <td>3.5</td>\n",
       "      <td>6.9</td>\n",
       "      <td>15</td>\n",
       "      <td>10.4</td>\n",
       "    </tr>\n",
       "    <tr>\n",
       "      <th>meanprecipi</th>\n",
       "      <td>0</td>\n",
       "      <td>0</td>\n",
       "      <td>0</td>\n",
       "      <td>0</td>\n",
       "      <td>0</td>\n",
       "    </tr>\n",
       "    <tr>\n",
       "      <th>meanpressurei</th>\n",
       "      <td>30.258</td>\n",
       "      <td>30.258</td>\n",
       "      <td>30.258</td>\n",
       "      <td>30.258</td>\n",
       "      <td>30.258</td>\n",
       "    </tr>\n",
       "    <tr>\n",
       "      <th>meantempi</th>\n",
       "      <td>55.98</td>\n",
       "      <td>55.98</td>\n",
       "      <td>55.98</td>\n",
       "      <td>55.98</td>\n",
       "      <td>55.98</td>\n",
       "    </tr>\n",
       "    <tr>\n",
       "      <th>meanwspdi</th>\n",
       "      <td>7.86</td>\n",
       "      <td>7.86</td>\n",
       "      <td>7.86</td>\n",
       "      <td>7.86</td>\n",
       "      <td>7.86</td>\n",
       "    </tr>\n",
       "    <tr>\n",
       "      <th>weather_lat</th>\n",
       "      <td>40.7003</td>\n",
       "      <td>40.7003</td>\n",
       "      <td>40.7003</td>\n",
       "      <td>40.7003</td>\n",
       "      <td>40.7003</td>\n",
       "    </tr>\n",
       "    <tr>\n",
       "      <th>weather_lon</th>\n",
       "      <td>-73.8872</td>\n",
       "      <td>-73.8872</td>\n",
       "      <td>-73.8872</td>\n",
       "      <td>-73.8872</td>\n",
       "      <td>-73.8872</td>\n",
       "    </tr>\n",
       "  </tbody>\n",
       "</table>\n",
       "</div>"
      ],
      "text/plain": [
       "                                   0                    1  \\\n",
       "UNIT                            R003                 R003   \n",
       "DATEn                       05-01-11             05-01-11   \n",
       "TIMEn                       00:00:00             04:00:00   \n",
       "ENTRIESn                     4388333              4388333   \n",
       "EXITSn                       2911002              2911002   \n",
       "ENTRIESn_hourly                    0                    0   \n",
       "EXITSn_hourly                      0                    0   \n",
       "datetime         2011-05-01 00:00:00  2011-05-01 04:00:00   \n",
       "hour                               0                    4   \n",
       "day_week                           6                    6   \n",
       "weekday                            0                    0   \n",
       "station                CYPRESS HILLS        CYPRESS HILLS   \n",
       "latitude                     40.6899              40.6899   \n",
       "longitude                   -73.8726             -73.8726   \n",
       "conds                          Clear        Partly Cloudy   \n",
       "fog                                0                    0   \n",
       "precipi                            0                    0   \n",
       "pressurei                      30.22                30.25   \n",
       "rain                               0                    0   \n",
       "tempi                           55.9                   52   \n",
       "wspdi                            3.5                  3.5   \n",
       "meanprecipi                        0                    0   \n",
       "meanpressurei                 30.258               30.258   \n",
       "meantempi                      55.98                55.98   \n",
       "meanwspdi                       7.86                 7.86   \n",
       "weather_lat                  40.7003              40.7003   \n",
       "weather_lon                 -73.8872             -73.8872   \n",
       "\n",
       "                                   2                    3                    4  \n",
       "UNIT                            R003                 R003                 R003  \n",
       "DATEn                       05-01-11             05-01-11             05-01-11  \n",
       "TIMEn                       12:00:00             16:00:00             20:00:00  \n",
       "ENTRIESn                     4388333              4388333              4388333  \n",
       "EXITSn                       2911002              2911002              2911002  \n",
       "ENTRIESn_hourly                    0                    0                    0  \n",
       "EXITSn_hourly                      0                    0                    0  \n",
       "datetime         2011-05-01 12:00:00  2011-05-01 16:00:00  2011-05-01 20:00:00  \n",
       "hour                              12                   16                   20  \n",
       "day_week                           6                    6                    6  \n",
       "weekday                            0                    0                    0  \n",
       "station                CYPRESS HILLS        CYPRESS HILLS        CYPRESS HILLS  \n",
       "latitude                     40.6899              40.6899              40.6899  \n",
       "longitude                   -73.8726             -73.8726             -73.8726  \n",
       "conds                  Mostly Cloudy        Mostly Cloudy        Mostly Cloudy  \n",
       "fog                                0                    0                    0  \n",
       "precipi                            0                    0                    0  \n",
       "pressurei                      30.28                30.26                30.28  \n",
       "rain                               0                    0                    0  \n",
       "tempi                           62.1                 57.9                   52  \n",
       "wspdi                            6.9                   15                 10.4  \n",
       "meanprecipi                        0                    0                    0  \n",
       "meanpressurei                 30.258               30.258               30.258  \n",
       "meantempi                      55.98                55.98                55.98  \n",
       "meanwspdi                       7.86                 7.86                 7.86  \n",
       "weather_lat                  40.7003              40.7003              40.7003  \n",
       "weather_lon                 -73.8872             -73.8872             -73.8872  "
      ]
     },
     "execution_count": 232,
     "metadata": {},
     "output_type": "execute_result"
    }
   ],
   "source": [
    "hide_code\n",
    "# Load the data from the csv file\n",
    "turnstile_data2 = pd.read_csv('turnstile_weather_v2.csv')\n",
    "# Display the data example\n",
    "turnstile_data2.head().T"
   ]
  },
  {
   "cell_type": "markdown",
   "metadata": {},
   "source": [
    "***Question 2.1*** What approach did you use to compute the coefficients theta and produce prediction for ENTRIESn_hourly in your regression model:\n",
    "\n",
    "- OLS using Statsmodels or Scikit Learn\n",
    "- Gradient descent using Scikit Learn\n",
    "- Or something different?\n",
    "\n",
    "***Answer 2.1***\n",
    "\n",
    "To produce predictions I would like to try a simple ordinary least squares model *OLS Statsmodels*, stochastic gradient descent regression *SGDRegressor Scikit Learn* and the set of built functions (*normalize_features()*, *compute_cost()*, *gradient_descent()*, *predictions()*). It will be interesting to compare the results."
   ]
  },
  {
   "cell_type": "markdown",
   "metadata": {},
   "source": [
    "##### 2.1.1 Predictions by the Set of Built Functions"
   ]
  },
  {
   "cell_type": "code",
   "execution_count": 196,
   "metadata": {
    "collapsed": false
   },
   "outputs": [],
   "source": [
    "hide_code\n",
    "# Function for normalizing the features \n",
    "def normalize_features(data):\n",
    "    mu, sigma = data.mean(), data.std()\n",
    "    \n",
    "    if (sigma == 0).any():\n",
    "        raise Exception(\"One of the features had the same value for all samples and could not be normalized.\" +  \n",
    "                        \"Do not include features with only a single value in the model.\")\n",
    "        \n",
    "    data_normalized = (data - mu) / sigma\n",
    "    return data_normalized, mu, sigma\n",
    "\n",
    "# Cost function\n",
    "def compute_cost(features, values, theta):\n",
    "    \n",
    "    sum_of_square_errors = np.square(np.dot(features, theta) - values).sum()\n",
    "    cost = sum_of_square_errors / (2 * len(values))\n",
    "\n",
    "    return cost\n",
    "\n",
    "# Gradient descent function\n",
    "def gradient_descent(features, values, theta, alpha, num_iterations):\n",
    "    cost_history = []\n",
    "\n",
    "    for i in range(num_iterations):\n",
    "        delta = (np.dot((values - np.dot(features, theta)), features)) / len(values)\n",
    "        theta = theta + alpha * delta\n",
    "        cost_history.append(compute_cost(features, values, theta))\n",
    "\n",
    "    return theta, pd.Series(cost_history)\n",
    "\n",
    "# Gradient descent function\n",
    "def predictions(dataframe, numerical, target):\n",
    "    # Add selected features \n",
    "    features = dataframe[numerical]\n",
    "    \n",
    "    # Add UNIT to features using dummy variables\n",
    "    dummy_units = pd.get_dummies(dataframe['UNIT'], prefix='unit')\n",
    "    features = features.join(dummy_units)\n",
    "    \n",
    "    # Target values\n",
    "    values = dataframe[target]\n",
    "\n",
    "    # Normalize features\n",
    "    features, mu, sigma = normalize_features(features)\n",
    "    \n",
    "    # Add a column of 1s (y intercept)\n",
    "    features['ones'] = np.ones(len(values))\n",
    "    \n",
    "    # Convert features and values to numpy arrays\n",
    "    features_array = np.array(features)\n",
    "    values_array = np.array(values)\n",
    "\n",
    "    # Set values for alpha, number of iterations.\n",
    "    alpha = 0.1 \n",
    "    num_iterations = 50 \n",
    "\n",
    "    # Initialize theta, perform gradient descent\n",
    "    theta_gradient_descent = np.zeros(len(features.columns))\n",
    "    theta_gradient_descent, cost_history = \\\n",
    "    gradient_descent(features_array, values_array, theta_gradient_descent, alpha, num_iterations)\n",
    "    \n",
    "    predictions = np.dot(features_array, theta_gradient_descent)\n",
    "    return predictions"
   ]
  },
  {
   "cell_type": "markdown",
   "metadata": {},
   "source": [
    "The code cells below produce predictions and display the histogram of residuals (the differences between the observed values and the estimated values)"
   ]
  },
  {
   "cell_type": "code",
   "execution_count": 233,
   "metadata": {
    "collapsed": false
   },
   "outputs": [
    {
     "data": {
      "text/plain": [
       "<module 'matplotlib.pyplot' from '/Users/olgabelitskaya/anaconda/lib/python3.5/site-packages/matplotlib/pyplot.py'>"
      ]
     },
     "execution_count": 233,
     "metadata": {},
     "output_type": "execute_result"
    },
    {
     "data": {
      "image/png": "[encoded data removed]",
      "text/plain": [
       "<matplotlib.figure.Figure at 0x113b82b00>"
      ]
     },
     "metadata": {},
     "output_type": "display_data"
    }
   ],
   "source": [
    "hide_code\n",
    "def plot_residuals(data, predictions):\n",
    "    matplotlib.rcParams['figure.figsize'] = (18, 8)\n",
    "    plt.figure()\n",
    "    (data['ENTRIESn_hourly'] - predictions).hist(bins=200, color='steelblue', edgecolor='black')\n",
    "\n",
    "    plt.title(\"Histogram of Residauls 'ENTRIESn_hourly', Theta Gradient Descent\", fontsize=20)\n",
    "    return plt\n",
    "\n",
    "predict = predictions(turnstile_data2, numerical2, 'ENTRIESn_hourly')\n",
    "plot_residuals(turnstile_data2, predict)"
   ]
  },
  {
   "cell_type": "markdown",
   "metadata": {},
   "source": [
    "##### 2.1.2 Predictions by the OLS Model"
   ]
  },
  {
   "cell_type": "code",
   "execution_count": 234,
   "metadata": {
    "collapsed": false
   },
   "outputs": [],
   "source": [
    "hide_code\n",
    "def ols_predictions(data, feature_list):\n",
    "    # Choose features and a target \n",
    "    X = data[feature_list]\n",
    "    y = data['ENTRIESn_hourly']\n",
    "    \n",
    "    # Add UNIT to features using dummy variables\n",
    "    dummy_units = pd.get_dummies(data['UNIT'], prefix='unit')\n",
    "    X = data[feature_list].join(dummy_units)\n",
    "    \n",
    "    # Normalize features\n",
    "    X, mu, sigma = normalize_features(X)\n",
    "    X = sm.add_constant(X)\n",
    "    \n",
    "    # Fit ordinary least squares model\n",
    "    model = sm.OLS(y,X)\n",
    "    results = model.fit()\n",
    "    predictions = results.predict(X)\n",
    "    coefficients = results.params\n",
    "    r2 = results.rsquared\n",
    "    return predictions, coefficients, r2"
   ]
  },
  {
   "cell_type": "markdown",
   "metadata": {},
   "source": [
    "##### 2.1.3 Predictions by the SGDRegressor"
   ]
  },
  {
   "cell_type": "code",
   "execution_count": 250,
   "metadata": {
    "collapsed": false
   },
   "outputs": [],
   "source": [
    "hide_code\n",
    "# SGDRegressor\n",
    "def sgd_predictions(data, feature_list):\n",
    "    # Choose features and a target \n",
    "    X = data[feature_list]\n",
    "    y = data['ENTRIESn_hourly']\n",
    "    \n",
    "    # Add UNIT to features using dummy variables\n",
    "    dummy_units = pd.get_dummies(data['UNIT'], prefix='unit')\n",
    "    X = data[feature_list].join(dummy_units)\n",
    "    \n",
    "    # Normalize features\n",
    "    X, mu, sigma = normalize_features(X)\n",
    "    \n",
    "    # Fit the model\n",
    "    clf = linear_model.SGDRegressor()\n",
    "    clf.fit(X, y)\n",
    "    predicitons = clf.predict(X)\n",
    "    coefficients = clf.coef_\n",
    "    r2 = clf.score(X, y)\n",
    "    return predictions, coefficients, r2"
   ]
  },
  {
   "cell_type": "markdown",
   "metadata": {
    "collapsed": true
   },
   "source": [
    "***Question 2.2*** What features (input variables) did you use in your model? Did you use any dummy variables as part of your features?\n",
    "\n",
    "***Answer 2.2***\n",
    "\n",
    "I have included the spectrum of the features in the dataset in the model: \n",
    "\n",
    "- all feature: 'rain', 'hour', 'weekday', 'Unit', 'meantempi';\n",
    "- dummy features  that takes the value 0 or 1 to indicate the absence or presence of some categorical effect: 'rain', 'Unit'."
   ]
  },
  {
   "cell_type": "code",
   "execution_count": 236,
   "metadata": {
    "collapsed": true
   },
   "outputs": [],
   "source": [
    "hide_code\n",
    "numerical2 = ['rain', 'hour', 'weekday', 'meantempi']"
   ]
  },
  {
   "cell_type": "markdown",
   "metadata": {},
   "source": [
    "***Question 2.3*** Why did you select these features in your model? We are looking for specific reasons that lead you to believe that the selected features will contribute to the predictive power of your model.\n",
    "Your reasons might be based on intuition. For example, response for fog might be: “I decided to use fog because I thought that when it is very foggy outside people might decide to use the subway more often.”\n",
    "Your reasons might also be based on data exploration and experimentation, for example: “I used feature X because as soon as I included it in my model, it drastically improved my R2 value.”  \n",
    "\n",
    "***Answer 2.3***\n",
    "\n",
    "Based on intuitive assumptions, uncomfortable weather conditions increase the metro traffic, so I added a variable 'rain' and 'meantempi'.  Passenger traffic also depends on the time of day and the station, then the variables 'Unit' and 'hour' should be added to the feature list also."
   ]
  },
  {
   "cell_type": "markdown",
   "metadata": {},
   "source": [
    "***Question 2.4*** What are the parameters (also known as \"coefficients\" or \"weights\") of the non-dummy features in your linear regression model?\n",
    "\n",
    "***Answer 2.4***"
   ]
  },
  {
   "cell_type": "markdown",
   "metadata": {},
   "source": [
    "##### 2.4.1 Coefficients by the Set of Built Functions"
   ]
  },
  {
   "cell_type": "code",
   "execution_count": null,
   "metadata": {
    "collapsed": false
   },
   "outputs": [],
   "source": []
  },
  {
   "cell_type": "markdown",
   "metadata": {},
   "source": [
    "##### 2.4.2 Coefficients by the OLS Model"
   ]
  },
  {
   "cell_type": "code",
   "execution_count": 260,
   "metadata": {
    "collapsed": false
   },
   "outputs": [
    {
     "data": {
      "text/plain": [
       "hour         856.263938\n",
       "weekday      443.949792\n",
       "meantempi    -96.169254\n",
       "dtype: float64"
      ]
     },
     "execution_count": 260,
     "metadata": {},
     "output_type": "execute_result"
    }
   ],
   "source": [
    "hide_code\n",
    "ols_predict = ols_predictions(turnstile_data2, numerical2)\n",
    "ols_predict[1][2:5]"
   ]
  },
  {
   "cell_type": "markdown",
   "metadata": {},
   "source": [
    "##### 2.4.3 Coefficients by the SGDRegressor"
   ]
  },
  {
   "cell_type": "code",
   "execution_count": 258,
   "metadata": {
    "collapsed": false
   },
   "outputs": [
    {
     "name": "stdout",
     "output_type": "stream",
     "text": [
      "hour 819.0183206285664\n",
      "weekday 447.07075589230385\n",
      "meantempi -75.16991645925094\n"
     ]
    }
   ],
   "source": [
    "hide_code\n",
    "sgd_predict = sgd_predictions(turnstile_data2, numerical2)\n",
    "print ('hour {}'.format(sgd_predict[1][1]))\n",
    "print ('weekday {}'.format(sgd_predict[1][2]))\n",
    "print ('meantempi {}'.format(sgd_predict[1][3]))"
   ]
  },
  {
   "cell_type": "markdown",
   "metadata": {},
   "source": [
    "***Question 2.5*** What is your model’s R2 (coefficients of determination) value?\n",
    "\n",
    "***Answer 2.5***\n",
    "\n",
    "There are lots of statistic code libraries for the coefficient of determination R2. Let's try some of them in this project."
   ]
  },
  {
   "cell_type": "markdown",
   "metadata": {},
   "source": [
    "##### 2.5.1 R2 Score for the Set of Built Functions"
   ]
  },
  {
   "cell_type": "code",
   "execution_count": 244,
   "metadata": {
    "collapsed": false
   },
   "outputs": [
    {
     "name": "stdout",
     "output_type": "stream",
     "text": [
      "sklearn.metrics, R^2 = 0.48231177470460174\n",
      "scipy.stats, R^2 = 0.4823366497539876\n"
     ]
    }
   ],
   "source": [
    "hide_code\n",
    "print (\"sklearn.metrics, R^2 = {}\".format(r2_score(turnstile_data2['ENTRIESn_hourly'], predict)))\n",
    "slope, intercept, r_value, p_value, std_err = linregress(turnstile_data2['ENTRIESn_hourly'], predict)\n",
    "print (\"scipy.stats, R^2 = {}\".format(r_value**2))"
   ]
  },
  {
   "cell_type": "markdown",
   "metadata": {},
   "source": [
    "##### 2.5.2 R2 Score for the OLS Model"
   ]
  },
  {
   "cell_type": "code",
   "execution_count": 261,
   "metadata": {
    "collapsed": false
   },
   "outputs": [
    {
     "name": "stdout",
     "output_type": "stream",
     "text": [
      "OLS model, R^2 = 0.48234004950865594\n"
     ]
    }
   ],
   "source": [
    "hide_code\n",
    "print ('OLS model, R^2 = {}'.format(ols_predict[2]))"
   ]
  },
  {
   "cell_type": "markdown",
   "metadata": {},
   "source": [
    "##### 2.5.3 R2 Score for the SGDRegressor"
   ]
  },
  {
   "cell_type": "code",
   "execution_count": 259,
   "metadata": {
    "collapsed": false
   },
   "outputs": [
    {
     "name": "stdout",
     "output_type": "stream",
     "text": [
      "SGDRegressor, R^2 = 0.45535810260360915\n"
     ]
    }
   ],
   "source": [
    "hide_code\n",
    "print ('SGDRegressor, R^2 = {}'.format(sgd_predict[2]))"
   ]
  },
  {
   "cell_type": "markdown",
   "metadata": {},
   "source": [
    "***Question 2.6*** What does this R2 value mean for the goodness of fit for your regression model? Do you think this linear model to predict ridership is appropriate for this dataset, given this R2  value?\n",
    "\n",
    "***Answer 2.6***\n",
    "\n",
    "R2 measures how close the data are to the fitted regression line and represents the percentage of the response variable variation that is explained by the linear model.\n",
    "\n",
    "For simplicity, *R-squared = Explained variation / Total variation*.\n",
    "\n",
    "In my experiments, 45-48% of variations of the dependent variable 'ENTRIESn_hourly' are explained by the models. It's a reasonable and statistically significant result. I suppose including the weather and the place features is not enough to explain the subway ridership. So it's it's a good reason for the next experiments."
   ]
  },
  {
   "cell_type": "markdown",
   "metadata": {},
   "source": [
    "### &#x1F4CA; &nbsp; Section 3. Visualization\n",
    "\n",
    "Please include two visualizations that show the relationships between two or more variables in the NYC subway data.\n",
    "Remember to add appropriate titles and axes labels to your plots. Also, please add a short description below each figure commenting on the key insights depicted in the figure.\n",
    "\n",
    "***Question 3.1*** One visualization should contain two histograms: one of  ENTRIESn_hourly for rainy days and one of ENTRIESn_hourly for non-rainy days.\n",
    "\n",
    "You can combine the two histograms in a single plot or you can use two separate plots.\n",
    "If you decide to use to two separate plots for the two histograms, please ensure that the x-axis limits for both of the plots are identical. It is much easier to compare the two in that case.\n",
    "For the histograms, you should have intervals representing the volume of ridership (value of ENTRIESn_hourly) on the x-axis and the frequency of occurrence on the y-axis. For example, each interval (along the x-axis), the height of the bar for this interval will represent the number of records (rows in our data) that have ENTRIESn_hourly that falls in this interval.\n",
    "\n",
    "Remember to increase the number of bins in the histogram (by having larger number of bars). The default bin width is not sufficient to capture the variability in the two samples.\n",
    "\n",
    "***Answer 3.1***\n",
    "Let's plot the distribution of *'ENTRIESn_hourly'*. The x-axis and y-axis ranges are limited for better visualization."
   ]
  },
  {
   "cell_type": "code",
   "execution_count": 10,
   "metadata": {
    "collapsed": false
   },
   "outputs": [
    {
     "data": {
      "text/plain": [
       "<matplotlib.legend.Legend at 0x10315b860>"
      ]
     },
     "execution_count": 10,
     "metadata": {},
     "output_type": "execute_result"
    },
    {
     "data": {
      "image/png": "[encoded data removed]",
      "text/plain": [
       "<matplotlib.figure.Figure at 0x1046e32b0>"
      ]
     },
     "metadata": {},
     "output_type": "display_data"
    }
   ],
   "source": [
    "hide_code\n",
    "rainy_entries_hourly = turnstile_data['ENTRIESn_hourly'][turnstile_data['rain']==1]\n",
    "non_rainy_entries_hourly = turnstile_data['ENTRIESn_hourly'][turnstile_data['rain']==0]\n",
    "\n",
    "matplotlib.rcParams['figure.figsize'] = (18, 8)\n",
    "plt.style.use('seaborn-whitegrid')\n",
    "plt.figure()\n",
    "\n",
    "non_rainy_entries_hourly.hist(bins=200, color = 'lightblue', edgecolor='grey',alpha=0.7)\n",
    "rainy_entries_hourly.hist(bins=200, color='steelblue', edgecolor='black', alpha=0.6)\n",
    "\n",
    "plt.xlabel(\"ENTRIESn_hourly\", fontsize=20)\n",
    "plt.ylabel(\"Frequency\", fontsize=20)\n",
    "plt.tick_params(axis='both', labelsize=15)\n",
    "plt.axis((-200,6200,0,41000))\n",
    "plt.title(\"Histogram of 'ENTRIESn_hourly': Rainy vs Non-Rainy\", fontsize=20)\n",
    "plt.legend(['Non-Rainy','Rainy'], fontsize=20)"
   ]
  },
  {
   "cell_type": "markdown",
   "metadata": {},
   "source": [
    "As the reader can see, two distributions have the very similar shapes but with different levels of *'ENTRIESn_hourly'* and the data is not normally distributed. I should note that the mean and the median vary significantly (indicating a large skew). If I apply a non-linear logarithmic scaling we will observe very similar shapes with different levels too but it looks closer to the normal distributions."
   ]
  },
  {
   "cell_type": "code",
   "execution_count": 281,
   "metadata": {
    "collapsed": false
   },
   "outputs": [
    {
     "data": {
      "text/plain": [
       "<matplotlib.legend.Legend at 0x1157526a0>"
      ]
     },
     "execution_count": 281,
     "metadata": {},
     "output_type": "execute_result"
    },
    {
     "data": {
      "image/png": "[encoded data removed]",
      "text/plain": [
       "<matplotlib.figure.Figure at 0x115752f60>"
      ]
     },
     "metadata": {},
     "output_type": "display_data"
    }
   ],
   "source": [
    "hide_code\n",
    "matplotlib.rcParams['figure.figsize'] = (18, 8)\n",
    "plt.style.use('seaborn-bright')\n",
    "plt.figure()\n",
    "\n",
    "np.log(non_rainy_entries_hourly+1).hist(bins=100, color = 'lightblue', edgecolor='grey',alpha=0.7)\n",
    "np.log(rainy_entries_hourly+1).hist(bins=100, color='steelblue', edgecolor='black', alpha=0.6)\n",
    "\n",
    "plt.axis((0.5,11.5,0,2000))\n",
    "plt.xlabel(\"log(ENTRIESn_hourly)\", fontsize=20)\n",
    "plt.ylabel(\"Frequency\", fontsize=20)\n",
    "plt.tick_params(axis='both', labelsize=15)\n",
    "plt.title(\"Histogram of 'ENTRIESn_hourly': Rainy vs Non-Rainy. Logarithmic Scale\", fontsize=20)\n",
    "plt.legend(['Non-Rainy','Rainy'], fontsize=20)"
   ]
  },
  {
   "cell_type": "markdown",
   "metadata": {
    "collapsed": true
   },
   "source": [
    "***Question 3.2*** One visualization can be more freeform. You should feel free to implement something that we discussed in class (e.g., scatter plots, line plots) or attempt to implement something more advanced if you'd like. Some suggestions are:\n",
    "\n",
    "- Ridership by time-of-day\n",
    "- Ridership by day-of-week\n",
    "\n",
    "***Answer 3.2***"
   ]
  },
  {
   "cell_type": "code",
   "execution_count": 327,
   "metadata": {
    "collapsed": false
   },
   "outputs": [
    {
     "data": {
      "text/plain": [
       "<matplotlib.text.Text at 0x116173320>"
      ]
     },
     "execution_count": 327,
     "metadata": {},
     "output_type": "execute_result"
    },
    {
     "data": {
      "image/png": "[encoded data removed]",
      "text/plain": [
       "<matplotlib.figure.Figure at 0x11e0899e8>"
      ]
     },
     "metadata": {},
     "output_type": "display_data"
    }
   ],
   "source": [
    "turnstile_data['entries_exits'] = turnstile_data['ENTRIESn_hourly'] - turnstile_data['EXITSn_hourly']\n",
    "data = turnstile_data[['Hour','entries_exits']].groupby('Hour',as_index=False).sum()\n",
    "\n",
    "matplotlib.rcParams['figure.figsize'] = (18, 12)\n",
    "plt.style.use('seaborn-bright')\n",
    "\n",
    "plt.figure()\n",
    "\n",
    "plt.plot(data['Hour'], data['entries_exits'], '--', color='steelblue')\n",
    "\n",
    "psize=list(2000*data['entries_exits'].abs()/data['entries_exits'].abs().mean())\n",
    "plt.scatter(data['Hour'], data['entries_exits'], s=psize, marker='8', color='lightblue', alpha=0.9)\n",
    "\n",
    "plt.axis((-0.5,23.5,-1000000,5000000))\n",
    "plt.xlabel('Hour', fontsize=20)\n",
    "plt.ylabel('Entries - Exits', fontsize=20)\n",
    "plt.title('Entries - Exits By Hour', fontsize=30)\n"
   ]
  },
  {
   "cell_type": "markdown",
   "metadata": {},
   "source": [
    "### &#x1F4CA; &nbsp;  Section 4. Conclusion\n",
    "\n",
    "Please address the following questions in detail. Your answers should be 1-2 paragraphs long.\n",
    "\n",
    "***Question 4.1*** From your analysis and interpretation of the data, do more people ride\n",
    "the NYC subway when it is raining or when it is not raining?  \n",
    "\n",
    "***Answer 4.1***\n",
    "\n",
    "***Question 4.2*** What analyses lead you to this conclusion? You should use results from both your statistical\n",
    "tests and your linear regression to support your analysis.\n",
    "\n",
    "***Answer 4.2***"
   ]
  },
  {
   "cell_type": "code",
   "execution_count": null,
   "metadata": {
    "collapsed": true
   },
   "outputs": [],
   "source": []
  },
  {
   "cell_type": "markdown",
   "metadata": {},
   "source": [
    "### &#x1F4CA; &nbsp;  Section 5. Reflection\n",
    "\n",
    "Please address the following questions in detail. Your answers should be 1-2 paragraphs long.\n",
    "\n",
    "***Question 5.1*** Please discuss potential shortcomings of the methods of your analysis, including:\n",
    "\n",
    "- Dataset,\n",
    "- Analysis, such as the linear regression model or statistical test.\n",
    "\n",
    "***Answer 5.1***\n",
    "\n",
    "***Question 5.2*** (Optional) Do you have any other insight about the dataset that you would like to share with us?\n",
    "\n",
    "***Answer 5.2***"
   ]
  },
  {
   "cell_type": "code",
   "execution_count": null,
   "metadata": {
    "collapsed": true
   },
   "outputs": [],
   "source": []
  }
 ],
 "metadata": {
  "anaconda-cloud": {},
  "hide_input": false,
  "kernelspec": {
   "display_name": "Python [conda root]",
   "language": "python",
   "name": "conda-root-py"
  },
  "language_info": {
   "codemirror_mode": {
    "name": "ipython",
    "version": 3
   },
   "file_extension": ".py",
   "mimetype": "text/x-python",
   "name": "python",
   "nbconvert_exporter": "python",
   "pygments_lexer": "ipython3",
   "version": "3.5.2"
  },
  "latex_envs": {
   "bibliofile": "biblio.bib",
   "cite_by": "apalike",
   "current_citInitial": 1,
   "eqLabelWithNumbers": true,
   "eqNumInitial": 0
  }
 },
 "nbformat": 4,
 "nbformat_minor": 2
}
