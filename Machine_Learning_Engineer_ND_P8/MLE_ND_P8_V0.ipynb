{
 "cells": [
  {
   "cell_type": "markdown",
   "metadata": {},
   "source": [
    "# &#x1F4D1; &nbsp; $\\mathfrak {P8: \\ Analyzing \\ the \\ NYC \\ Subway \\ Dataset}$"
   ]
  },
  {
   "cell_type": "markdown",
   "metadata": {},
   "source": [
    "###  &#x1F4CA; &nbsp; Section 0. References and Code Library"
   ]
  },
  {
   "cell_type": "markdown",
   "metadata": {
    "collapsed": true
   },
   "source": [
    "Turnstile and Weather Variables: \n",
    "https://s3.amazonaws.com/uploads.hipchat.com/23756/665149/05bgLZqSsMycnkg/turnstile-weather-variables.pdf\n",
    "\n",
    "Scipy. Statistics in Python:\n",
    "http://www.scipy-lectures.org/packages/statistics/index.html\n",
    "\n",
    "Hypothesis Testing - MIT OpenCourseWare:\n",
    "https://ocw.mit.edu/resources/res-6-009-how-to-process-analyze-and-visualize-data-january-iap-2012/lectures-and-labs/MITRES_6_009IAP12_lab3a.pdf\n",
    "\n",
    "Assumptions of the Mann-Whitney U test:\n",
    "https://statistics.laerd.com/premium-sample/mwut/mann-whitney-test-in-spss-2.php"
   ]
  },
  {
   "cell_type": "code",
   "execution_count": 107,
   "metadata": {
    "collapsed": false
   },
   "outputs": [
    {
     "data": {
      "text/html": [
       "\n",
       "<style>\n",
       "body {background-color: aliceblue;}\n",
       "a {color: steelblue;}\n",
       "h1, h2, h3 { color: #348ABD;}\n",
       "</style>\n",
       "<script>code_show = true; \n",
       "function code_display() {\n",
       "    if (code_show) {\n",
       "        $('div.input').each(function(id) {\n",
       "            if (id == 0 || $(this).html().indexOf('hide_code') > -1) {$(this).hide();}\n",
       "        });\n",
       "        $('div.output_prompt').css('opacity', 0);\n",
       "    } else {\n",
       "        $('div.input').each(function(id) {$(this).show();});\n",
       "        $('div.output_prompt').css('opacity', 1);\n",
       "    }\n",
       "    code_show = !code_show;\n",
       "} \n",
       "$(document).ready(code_display);</script>\n",
       "<form action=\"javascript: code_display()\"><input style=\"color: steelblue; background: ghostwhite; opacity: 0.9; \" type=\"submit\" value=\"Click to display or hide code\"></form>"
      ],
      "text/plain": [
       "<IPython.core.display.HTML object>"
      ]
     },
     "execution_count": 107,
     "metadata": {},
     "output_type": "execute_result"
    }
   ],
   "source": [
    "from IPython.core.display import HTML\n",
    "hide_code = ''\n",
    "HTML('''\n",
    "<style>\n",
    "body {background-color: aliceblue;}\n",
    "a {color: steelblue;}\n",
    "h1, h2, h3 { color: #348ABD;}\n",
    "</style>\n",
    "<script>code_show = true; \n",
    "function code_display() {\n",
    "    if (code_show) {\n",
    "        $('div.input').each(function(id) {\n",
    "            if (id == 0 || $(this).html().indexOf('hide_code') > -1) {$(this).hide();}\n",
    "        });\n",
    "        $('div.output_prompt').css('opacity', 0);\n",
    "    } else {\n",
    "        $('div.input').each(function(id) {$(this).show();});\n",
    "        $('div.output_prompt').css('opacity', 1);\n",
    "    }\n",
    "    code_show = !code_show;\n",
    "} \n",
    "$(document).ready(code_display);</script>\n",
    "<form action=\"javascript: code_display()\"><input \\\n",
    "style=\"color: steelblue; background: ghostwhite; opacity: 0.9; \" \\\n",
    "type=\"submit\" value=\"Click to display or hide code\"></form>''')"
   ]
  },
  {
   "cell_type": "code",
   "execution_count": 108,
   "metadata": {
    "collapsed": false
   },
   "outputs": [],
   "source": [
    "hide_code\n",
    "# Import libraries\n",
    "import numpy as np\n",
    "import pandas as pd\n",
    "import time\n",
    "import warnings\n",
    "import matplotlib\n",
    "import matplotlib.pyplot as plt\n",
    "from IPython.core.display import display \n",
    "\n",
    "# Display for notebooks\n",
    "%matplotlib inline\n",
    "\n",
    "################################\n",
    "### ADD EXTRA LIBRARIES HERE ###\n",
    "################################\n",
    "from scipy.stats import mannwhitneyu\n",
    "import seaborn as sns"
   ]
  },
  {
   "cell_type": "markdown",
   "metadata": {},
   "source": [
    "### &#x1F4CA; &nbsp;  Section 1. Statistical Test"
   ]
  },
  {
   "cell_type": "markdown",
   "metadata": {},
   "source": [
    "#### 1.1 Data Extraction and Description"
   ]
  },
  {
   "cell_type": "code",
   "execution_count": 109,
   "metadata": {
    "collapsed": false
   },
   "outputs": [
    {
     "data": {
      "text/html": [
       "<div>\n",
       "<table border=\"1\" class=\"dataframe\">\n",
       "  <thead>\n",
       "    <tr style=\"text-align: right;\">\n",
       "      <th></th>\n",
       "      <th>count</th>\n",
       "      <th>mean</th>\n",
       "      <th>std</th>\n",
       "      <th>min</th>\n",
       "      <th>25%</th>\n",
       "      <th>50%</th>\n",
       "      <th>75%</th>\n",
       "      <th>max</th>\n",
       "    </tr>\n",
       "  </thead>\n",
       "  <tbody>\n",
       "    <tr>\n",
       "      <th>ENTRIESn</th>\n",
       "      <td>42649.0</td>\n",
       "      <td>2.812486e+07</td>\n",
       "      <td>3.043607e+07</td>\n",
       "      <td>0.000000</td>\n",
       "      <td>1.039762e+07</td>\n",
       "      <td>1.818389e+07</td>\n",
       "      <td>3.263049e+07</td>\n",
       "      <td>2.357746e+08</td>\n",
       "    </tr>\n",
       "    <tr>\n",
       "      <th>EXITSn</th>\n",
       "      <td>42649.0</td>\n",
       "      <td>1.986993e+07</td>\n",
       "      <td>2.028986e+07</td>\n",
       "      <td>0.000000</td>\n",
       "      <td>7.613712e+06</td>\n",
       "      <td>1.331609e+07</td>\n",
       "      <td>2.393771e+07</td>\n",
       "      <td>1.493782e+08</td>\n",
       "    </tr>\n",
       "    <tr>\n",
       "      <th>ENTRIESn_hourly</th>\n",
       "      <td>42649.0</td>\n",
       "      <td>1.886590e+03</td>\n",
       "      <td>2.952386e+03</td>\n",
       "      <td>0.000000</td>\n",
       "      <td>2.740000e+02</td>\n",
       "      <td>9.050000e+02</td>\n",
       "      <td>2.255000e+03</td>\n",
       "      <td>3.281400e+04</td>\n",
       "    </tr>\n",
       "    <tr>\n",
       "      <th>EXITSn_hourly</th>\n",
       "      <td>42649.0</td>\n",
       "      <td>1.361488e+03</td>\n",
       "      <td>2.183845e+03</td>\n",
       "      <td>0.000000</td>\n",
       "      <td>2.370000e+02</td>\n",
       "      <td>6.640000e+02</td>\n",
       "      <td>1.537000e+03</td>\n",
       "      <td>3.482800e+04</td>\n",
       "    </tr>\n",
       "    <tr>\n",
       "      <th>hour</th>\n",
       "      <td>42649.0</td>\n",
       "      <td>1.004675e+01</td>\n",
       "      <td>6.938928e+00</td>\n",
       "      <td>0.000000</td>\n",
       "      <td>4.000000e+00</td>\n",
       "      <td>1.200000e+01</td>\n",
       "      <td>1.600000e+01</td>\n",
       "      <td>2.000000e+01</td>\n",
       "    </tr>\n",
       "    <tr>\n",
       "      <th>day_week</th>\n",
       "      <td>42649.0</td>\n",
       "      <td>2.905719e+00</td>\n",
       "      <td>2.079231e+00</td>\n",
       "      <td>0.000000</td>\n",
       "      <td>1.000000e+00</td>\n",
       "      <td>3.000000e+00</td>\n",
       "      <td>5.000000e+00</td>\n",
       "      <td>6.000000e+00</td>\n",
       "    </tr>\n",
       "    <tr>\n",
       "      <th>weekday</th>\n",
       "      <td>42649.0</td>\n",
       "      <td>7.144364e-01</td>\n",
       "      <td>4.516877e-01</td>\n",
       "      <td>0.000000</td>\n",
       "      <td>0.000000e+00</td>\n",
       "      <td>1.000000e+00</td>\n",
       "      <td>1.000000e+00</td>\n",
       "      <td>1.000000e+00</td>\n",
       "    </tr>\n",
       "    <tr>\n",
       "      <th>latitude</th>\n",
       "      <td>42649.0</td>\n",
       "      <td>4.072465e+01</td>\n",
       "      <td>7.164979e-02</td>\n",
       "      <td>40.576152</td>\n",
       "      <td>4.067711e+01</td>\n",
       "      <td>4.071724e+01</td>\n",
       "      <td>4.075912e+01</td>\n",
       "      <td>4.088918e+01</td>\n",
       "    </tr>\n",
       "    <tr>\n",
       "      <th>longitude</th>\n",
       "      <td>42649.0</td>\n",
       "      <td>-7.394036e+01</td>\n",
       "      <td>5.971260e-02</td>\n",
       "      <td>-74.073622</td>\n",
       "      <td>-7.398734e+01</td>\n",
       "      <td>-7.395346e+01</td>\n",
       "      <td>-7.390773e+01</td>\n",
       "      <td>-7.375538e+01</td>\n",
       "    </tr>\n",
       "    <tr>\n",
       "      <th>fog</th>\n",
       "      <td>42649.0</td>\n",
       "      <td>9.824380e-03</td>\n",
       "      <td>9.863108e-02</td>\n",
       "      <td>0.000000</td>\n",
       "      <td>0.000000e+00</td>\n",
       "      <td>0.000000e+00</td>\n",
       "      <td>0.000000e+00</td>\n",
       "      <td>1.000000e+00</td>\n",
       "    </tr>\n",
       "    <tr>\n",
       "      <th>precipi</th>\n",
       "      <td>42649.0</td>\n",
       "      <td>4.617693e-03</td>\n",
       "      <td>2.583151e-02</td>\n",
       "      <td>0.000000</td>\n",
       "      <td>0.000000e+00</td>\n",
       "      <td>0.000000e+00</td>\n",
       "      <td>0.000000e+00</td>\n",
       "      <td>3.000000e-01</td>\n",
       "    </tr>\n",
       "    <tr>\n",
       "      <th>pressurei</th>\n",
       "      <td>42649.0</td>\n",
       "      <td>2.997110e+01</td>\n",
       "      <td>1.379416e-01</td>\n",
       "      <td>29.550000</td>\n",
       "      <td>2.989000e+01</td>\n",
       "      <td>2.996000e+01</td>\n",
       "      <td>3.006000e+01</td>\n",
       "      <td>3.032000e+01</td>\n",
       "    </tr>\n",
       "    <tr>\n",
       "      <th>rain</th>\n",
       "      <td>42649.0</td>\n",
       "      <td>2.247415e-01</td>\n",
       "      <td>4.174169e-01</td>\n",
       "      <td>0.000000</td>\n",
       "      <td>0.000000e+00</td>\n",
       "      <td>0.000000e+00</td>\n",
       "      <td>0.000000e+00</td>\n",
       "      <td>1.000000e+00</td>\n",
       "    </tr>\n",
       "    <tr>\n",
       "      <th>tempi</th>\n",
       "      <td>42649.0</td>\n",
       "      <td>6.310378e+01</td>\n",
       "      <td>8.455597e+00</td>\n",
       "      <td>46.900000</td>\n",
       "      <td>5.700000e+01</td>\n",
       "      <td>6.100000e+01</td>\n",
       "      <td>6.910000e+01</td>\n",
       "      <td>8.600000e+01</td>\n",
       "    </tr>\n",
       "    <tr>\n",
       "      <th>wspdi</th>\n",
       "      <td>42649.0</td>\n",
       "      <td>6.927872e+00</td>\n",
       "      <td>4.510178e+00</td>\n",
       "      <td>0.000000</td>\n",
       "      <td>4.600000e+00</td>\n",
       "      <td>6.900000e+00</td>\n",
       "      <td>9.200000e+00</td>\n",
       "      <td>2.300000e+01</td>\n",
       "    </tr>\n",
       "    <tr>\n",
       "      <th>meanprecipi</th>\n",
       "      <td>42649.0</td>\n",
       "      <td>4.617693e-03</td>\n",
       "      <td>1.634424e-02</td>\n",
       "      <td>0.000000</td>\n",
       "      <td>0.000000e+00</td>\n",
       "      <td>0.000000e+00</td>\n",
       "      <td>0.000000e+00</td>\n",
       "      <td>1.575000e-01</td>\n",
       "    </tr>\n",
       "    <tr>\n",
       "      <th>meanpressurei</th>\n",
       "      <td>42649.0</td>\n",
       "      <td>2.997110e+01</td>\n",
       "      <td>1.311584e-01</td>\n",
       "      <td>29.590000</td>\n",
       "      <td>2.991333e+01</td>\n",
       "      <td>2.995800e+01</td>\n",
       "      <td>3.006000e+01</td>\n",
       "      <td>3.029333e+01</td>\n",
       "    </tr>\n",
       "    <tr>\n",
       "      <th>meantempi</th>\n",
       "      <td>42649.0</td>\n",
       "      <td>6.310378e+01</td>\n",
       "      <td>6.939011e+00</td>\n",
       "      <td>49.400000</td>\n",
       "      <td>5.828333e+01</td>\n",
       "      <td>6.095000e+01</td>\n",
       "      <td>6.746667e+01</td>\n",
       "      <td>7.980000e+01</td>\n",
       "    </tr>\n",
       "    <tr>\n",
       "      <th>meanwspdi</th>\n",
       "      <td>42649.0</td>\n",
       "      <td>6.927872e+00</td>\n",
       "      <td>3.179832e+00</td>\n",
       "      <td>0.000000</td>\n",
       "      <td>4.816667e+00</td>\n",
       "      <td>6.166667e+00</td>\n",
       "      <td>8.850000e+00</td>\n",
       "      <td>1.708333e+01</td>\n",
       "    </tr>\n",
       "    <tr>\n",
       "      <th>weather_lat</th>\n",
       "      <td>42649.0</td>\n",
       "      <td>4.072856e+01</td>\n",
       "      <td>6.542018e-02</td>\n",
       "      <td>40.600204</td>\n",
       "      <td>4.068859e+01</td>\n",
       "      <td>4.072057e+01</td>\n",
       "      <td>4.075523e+01</td>\n",
       "      <td>4.086206e+01</td>\n",
       "    </tr>\n",
       "    <tr>\n",
       "      <th>weather_lon</th>\n",
       "      <td>42649.0</td>\n",
       "      <td>-7.393869e+01</td>\n",
       "      <td>5.958245e-02</td>\n",
       "      <td>-74.014870</td>\n",
       "      <td>-7.398513e+01</td>\n",
       "      <td>-7.394915e+01</td>\n",
       "      <td>-7.391203e+01</td>\n",
       "      <td>-7.369418e+01</td>\n",
       "    </tr>\n",
       "  </tbody>\n",
       "</table>\n",
       "</div>"
      ],
      "text/plain": [
       "                   count          mean           std        min           25%  \\\n",
       "ENTRIESn         42649.0  2.812486e+07  3.043607e+07   0.000000  1.039762e+07   \n",
       "EXITSn           42649.0  1.986993e+07  2.028986e+07   0.000000  7.613712e+06   \n",
       "ENTRIESn_hourly  42649.0  1.886590e+03  2.952386e+03   0.000000  2.740000e+02   \n",
       "EXITSn_hourly    42649.0  1.361488e+03  2.183845e+03   0.000000  2.370000e+02   \n",
       "hour             42649.0  1.004675e+01  6.938928e+00   0.000000  4.000000e+00   \n",
       "day_week         42649.0  2.905719e+00  2.079231e+00   0.000000  1.000000e+00   \n",
       "weekday          42649.0  7.144364e-01  4.516877e-01   0.000000  0.000000e+00   \n",
       "latitude         42649.0  4.072465e+01  7.164979e-02  40.576152  4.067711e+01   \n",
       "longitude        42649.0 -7.394036e+01  5.971260e-02 -74.073622 -7.398734e+01   \n",
       "fog              42649.0  9.824380e-03  9.863108e-02   0.000000  0.000000e+00   \n",
       "precipi          42649.0  4.617693e-03  2.583151e-02   0.000000  0.000000e+00   \n",
       "pressurei        42649.0  2.997110e+01  1.379416e-01  29.550000  2.989000e+01   \n",
       "rain             42649.0  2.247415e-01  4.174169e-01   0.000000  0.000000e+00   \n",
       "tempi            42649.0  6.310378e+01  8.455597e+00  46.900000  5.700000e+01   \n",
       "wspdi            42649.0  6.927872e+00  4.510178e+00   0.000000  4.600000e+00   \n",
       "meanprecipi      42649.0  4.617693e-03  1.634424e-02   0.000000  0.000000e+00   \n",
       "meanpressurei    42649.0  2.997110e+01  1.311584e-01  29.590000  2.991333e+01   \n",
       "meantempi        42649.0  6.310378e+01  6.939011e+00  49.400000  5.828333e+01   \n",
       "meanwspdi        42649.0  6.927872e+00  3.179832e+00   0.000000  4.816667e+00   \n",
       "weather_lat      42649.0  4.072856e+01  6.542018e-02  40.600204  4.068859e+01   \n",
       "weather_lon      42649.0 -7.393869e+01  5.958245e-02 -74.014870 -7.398513e+01   \n",
       "\n",
       "                          50%           75%           max  \n",
       "ENTRIESn         1.818389e+07  3.263049e+07  2.357746e+08  \n",
       "EXITSn           1.331609e+07  2.393771e+07  1.493782e+08  \n",
       "ENTRIESn_hourly  9.050000e+02  2.255000e+03  3.281400e+04  \n",
       "EXITSn_hourly    6.640000e+02  1.537000e+03  3.482800e+04  \n",
       "hour             1.200000e+01  1.600000e+01  2.000000e+01  \n",
       "day_week         3.000000e+00  5.000000e+00  6.000000e+00  \n",
       "weekday          1.000000e+00  1.000000e+00  1.000000e+00  \n",
       "latitude         4.071724e+01  4.075912e+01  4.088918e+01  \n",
       "longitude       -7.395346e+01 -7.390773e+01 -7.375538e+01  \n",
       "fog              0.000000e+00  0.000000e+00  1.000000e+00  \n",
       "precipi          0.000000e+00  0.000000e+00  3.000000e-01  \n",
       "pressurei        2.996000e+01  3.006000e+01  3.032000e+01  \n",
       "rain             0.000000e+00  0.000000e+00  1.000000e+00  \n",
       "tempi            6.100000e+01  6.910000e+01  8.600000e+01  \n",
       "wspdi            6.900000e+00  9.200000e+00  2.300000e+01  \n",
       "meanprecipi      0.000000e+00  0.000000e+00  1.575000e-01  \n",
       "meanpressurei    2.995800e+01  3.006000e+01  3.029333e+01  \n",
       "meantempi        6.095000e+01  6.746667e+01  7.980000e+01  \n",
       "meanwspdi        6.166667e+00  8.850000e+00  1.708333e+01  \n",
       "weather_lat      4.072057e+01  4.075523e+01  4.086206e+01  \n",
       "weather_lon     -7.394915e+01 -7.391203e+01 -7.369418e+01  "
      ]
     },
     "execution_count": 109,
     "metadata": {},
     "output_type": "execute_result"
    }
   ],
   "source": [
    "hide_code\n",
    "# Load the data from the csv file\n",
    "turnstile_data = pd.read_csv('turnstile_data_master_with_weather.csv')\n",
    "turnstile_data2 = pd.read_csv('turnstile_weather_v2.csv')\n",
    "turnstile_data.describe().T"
   ]
  },
  {
   "cell_type": "code",
   "execution_count": 110,
   "metadata": {
    "collapsed": false
   },
   "outputs": [
    {
     "name": "stdout",
     "output_type": "stream",
     "text": [
      "Data Medians\n"
     ]
    },
    {
     "data": {
      "text/plain": [
       "ENTRIESn           1.818389e+07\n",
       "EXITSn             1.331609e+07\n",
       "ENTRIESn_hourly    9.050000e+02\n",
       "EXITSn_hourly      6.640000e+02\n",
       "hour               1.200000e+01\n",
       "day_week           3.000000e+00\n",
       "weekday            1.000000e+00\n",
       "latitude           4.071724e+01\n",
       "longitude         -7.395346e+01\n",
       "fog                0.000000e+00\n",
       "precipi            0.000000e+00\n",
       "pressurei          2.996000e+01\n",
       "rain               0.000000e+00\n",
       "tempi              6.100000e+01\n",
       "wspdi              6.900000e+00\n",
       "meanprecipi        0.000000e+00\n",
       "meanpressurei      2.995800e+01\n",
       "meantempi          6.095000e+01\n",
       "meanwspdi          6.166667e+00\n",
       "weather_lat        4.072057e+01\n",
       "weather_lon       -7.394915e+01\n",
       "dtype: float64"
      ]
     },
     "execution_count": 110,
     "metadata": {},
     "output_type": "execute_result"
    }
   ],
   "source": [
    "hide_code\n",
    "print ('Data Medians')\n",
    "turnstile_data.median()"
   ]
  },
  {
   "cell_type": "markdown",
   "metadata": {
    "collapsed": true
   },
   "source": [
    "***Question 1.1*** Which statistical test did you use to analyze the NYC subway data? Did you use a one-tail or a two-tail P value? What is the null hypothesis? What is your p-critical value?\n",
    "\n",
    "***Answer 1.1*** \n",
    "\n",
    "The *Mann-Whitney U Test* to compare the ridership of NYC subway in rainy and non-rainy days is a good choice. \n",
    "\n",
    "The column *'ENTRIESn_hourly'* will be the target and the column *'rain'* - the feature. \n",
    "\n",
    "We will test the *null hypothesis*: the median / the mean of ridership in NYC subway is the same for rainy and non-rainy days. Another variant of this hypothesis could be: the difference between ridership medians / means for rainy and non-rainy days is equal to zero.\n",
    "\n",
    "We will use a *two-tailed test* to find the statistical significance in both possible directions of interest.\n",
    "\n",
    "Let's setup the *p-critical value* is equal to 0.05: we will reject the null hypothesis at the *confidence level* of 95%."
   ]
  },
  {
   "cell_type": "markdown",
   "metadata": {},
   "source": [
    "#### 1.2 Data Exploration"
   ]
  },
  {
   "cell_type": "code",
   "execution_count": 112,
   "metadata": {
    "collapsed": false
   },
   "outputs": [
    {
     "data": {
      "text/plain": [
       "<matplotlib.legend.Legend at 0x131c62f28>"
      ]
     },
     "execution_count": 112,
     "metadata": {},
     "output_type": "execute_result"
    },
    {
     "data": {
      "image/png": "[encoded data removed]",
      "text/plain": [
       "<matplotlib.figure.Figure at 0x131f1ac18>"
      ]
     },
     "metadata": {},
     "output_type": "display_data"
    }
   ],
   "source": [
    "hide_code\n",
    "rainy_entries_hourly = turnstile_data['ENTRIESn_hourly'][turnstile_data['rain']==1]\n",
    "non_rainy_entries_hourly = turnstile_data['ENTRIESn_hourly'][turnstile_data['rain']==0]\n",
    "\n",
    "matplotlib.rcParams['figure.figsize'] = (18, 8)\n",
    "plt.style.use('seaborn-whitegrid')\n",
    "plt.figure()\n",
    "\n",
    "rainy_entries_hourly.hist(bins=100, color='steelblue', edgecolor='black', alpha=0.5)\n",
    "non_rainy_entries_hourly.hist(bins=100, color = 'lightblue', edgecolor='grey',alpha=0.7)\n",
    "\n",
    "plt.xlabel(\"ENTRIESn_hourly\", fontsize=20)\n",
    "plt.ylabel(\"Frequency\", fontsize=20)\n",
    "plt.tick_params(axis='both', labelsize=15)\n",
    "plt.axis((-500,10500,0,10000))\n",
    "plt.title(\"Histogram of 'ENTRIESn_hourly': Rainy vs Non-Rainy\", fontsize=20)\n",
    "plt.legend(['Non-Rainy','Rainy'], fontsize=20)"
   ]
  },
  {
   "cell_type": "markdown",
   "metadata": {},
   "source": [
    "As we can see, two distributions have the same shape and the data is not normally distributed, the mean and the median vary significantly (indicating a large skew). If we apply a non-linear scaling we will observe very similar shapes too."
   ]
  },
  {
   "cell_type": "code",
   "execution_count": 113,
   "metadata": {
    "collapsed": false
   },
   "outputs": [
    {
     "data": {
      "text/plain": [
       "<matplotlib.legend.Legend at 0x131c77a58>"
      ]
     },
     "execution_count": 113,
     "metadata": {},
     "output_type": "execute_result"
    },
    {
     "data": {
      "image/png": "[encoded data removed]",
      "text/plain": [
       "<matplotlib.figure.Figure at 0x12fd2ea58>"
      ]
     },
     "metadata": {},
     "output_type": "display_data"
    }
   ],
   "source": [
    "hide_code\n",
    "matplotlib.rcParams['figure.figsize'] = (18, 8)\n",
    "plt.style.use('seaborn-bright')\n",
    "plt.figure()\n",
    "np.log(rainy_entries_hourly+1).hist(bins=100, color='steelblue', edgecolor='black', alpha=0.5)\n",
    "np.log(non_rainy_entries_hourly+1).hist(bins=100, color = 'lightblue', edgecolor='grey',alpha=0.7)\n",
    "plt.xlabel(\"ENTRIESn_hourly\", fontsize=20)\n",
    "plt.ylabel(\"Frequency\", fontsize=20)\n",
    "plt.tick_params(axis='both', labelsize=15)\n",
    "plt.title(\"Histogram of 'ENTRIESn_hourly': Rainy vs Non-Rainy. Logarithmic Variant\", fontsize=20)\n",
    "plt.legend(['Non-Rainy','Rainy'], fontsize=20)"
   ]
  },
  {
   "cell_type": "markdown",
   "metadata": {
    "collapsed": true
   },
   "source": [
    "***Question 1.2*** Why is this statistical test applicable to the dataset? In particular, consider the assumptions that the test is making about the distribution of ridership in the two samples.\n",
    "\n",
    "***Answer 1.2***\n",
    "\n",
    "The *Mann-Whitney U Test* is a non-parametric alternative test for comparing two sample medians / means (or two distributions) that come from the same population.\n",
    "\n",
    "We have noted that the distribution of *'ENTRIESn_hourly'* is not normal so we cannot use the t-test in this case.\n",
    "\n",
    "The features' specifics for the Mann-Whitney U test:\n",
    "\n",
    "- 1) one dependent variable is measured at the continuous or ordinal level (*'ENTRIESn_hourly'*),\n",
    "- 2) one independent variable consists of two categorical, independent groups (*'rain'*),\n",
    "- 3) independence of observations (true for this data),\n",
    "- 4) if two distributions have the same shape, the test determines differences in the medians / means of two groups, if they have different shapes - differences in the distributions of two groups (medians / means in our case)."
   ]
  },
  {
   "cell_type": "markdown",
   "metadata": {},
   "source": [
    "#### 1.3 Data Test"
   ]
  },
  {
   "cell_type": "code",
   "execution_count": 127,
   "metadata": {
    "collapsed": false
   },
   "outputs": [
    {
     "name": "stdout",
     "output_type": "stream",
     "text": [
      "Test Results for Median \n",
      "\n",
      "Median for rainy days: 939.0\n",
      "Median for non-rainy days: 893.0\n",
      "Mann-Whitney U test: U=163283319.5, p=5.482139142487499e-06\n"
     ]
    }
   ],
   "source": [
    "hide_code\n",
    "with_rain_median = np.median(rainy_entries_hourly)\n",
    "without_rain_median = np.median(non_rainy_entries_hourly)\n",
    "U, p = mannwhitneyu(rainy_entries_hourly, non_rainy_entries_hourly, alternative='two-sided')\n",
    "print ('Test Results for Median \\n')\n",
    "print (\"Median for rainy days: {}\".format(with_rain_median))\n",
    "print (\"Median for non-rainy days: {}\".format(without_rain_median))\n",
    "print (\"Mann-Whitney U test: U={}, p={}\".format(U,p))"
   ]
  },
  {
   "cell_type": "code",
   "execution_count": 128,
   "metadata": {
    "collapsed": false
   },
   "outputs": [
    {
     "name": "stdout",
     "output_type": "stream",
     "text": [
      "Test Results for Mean \n",
      "\n",
      "Mean for rainy days: 2028.1960354720918\n",
      "Mean for non-rainy days: 1845.5394386644084\n",
      "Mann-Whitney U test: U=163283319.5, p=5.482139142487499e-06\n"
     ]
    }
   ],
   "source": [
    "hide_code\n",
    "with_rain_mean = np.mean(rainy_entries_hourly)\n",
    "without_rain_mean = np.mean(non_rainy_entries_hourly)\n",
    "U2, p2 = mannwhitneyu(rainy_entries_hourly, non_rainy_entries_hourly, alternative='two-sided')\n",
    "print ('Test Results for Mean \\n')\n",
    "print (\"Mean for rainy days: {}\".format(with_rain_mean))\n",
    "print (\"Mean for non-rainy days: {}\".format(without_rain_mean))\n",
    "print (\"Mann-Whitney U test: U={}, p={}\".format(U2,p2))"
   ]
  },
  {
   "cell_type": "markdown",
   "metadata": {},
   "source": [
    "***Question 1.3*** What results did you get from this statistical test? These should include the following numerical values: p-values, as well as the medians for each of the two samples under test.\n",
    "\n",
    "***Answer 1.3***\n",
    "\n",
    "The median values of ENTRIESn_hourly in rainy days and in non-rainy days are 939 and 893. The p-value of Mann-Whitney U-Test is 0.000005482, it is significantly less than the critical value 0.05."
   ]
  },
  {
   "cell_type": "markdown",
   "metadata": {},
   "source": [
    "***Question 1.4*** What is the significance and interpretation of these results?\n",
    "\n",
    "***Answer 1.4***\n"
   ]
  },
  {
   "cell_type": "markdown",
   "metadata": {
    "collapsed": true
   },
   "source": [
    "### &#x1F4CA; &nbsp;  Section 2. Linear Regression\n",
    "\n",
    "***Question 2.1*** What approach did you use to compute the coefficients theta and produce prediction for ENTRIESn_hourly in your regression model:\n",
    "\n",
    "- OLS using Statsmodels or Scikit Learn\n",
    "- Gradient descent using Scikit Learn\n",
    "- Or something different?\n",
    "\n",
    "***Answer 2.1***\n"
   ]
  },
  {
   "cell_type": "markdown",
   "metadata": {
    "collapsed": true
   },
   "source": [
    "***Question 2.2*** What features (input variables) did you use in your model? Did you use any dummy variables as part of your features?\n",
    "\n",
    "***Answer 2.2***"
   ]
  },
  {
   "cell_type": "markdown",
   "metadata": {},
   "source": [
    "***Question 2.3*** Why did you select these features in your model? We are looking for specific reasons that lead you to believe that\n",
    "the selected features will contribute to the predictive power of your model.\n",
    "Your reasons might be based on intuition. For example, response for fog might be: “I decided to use fog because I thought that when it is very foggy outside people might decide to use the subway more often.”\n",
    "Your reasons might also be based on data exploration and experimentation, for example: “I used feature X because as soon as I included it in my model, it drastically improved my R2 value.”  \n",
    "\n",
    "***Answer 2.3***"
   ]
  },
  {
   "cell_type": "markdown",
   "metadata": {},
   "source": [
    "***Question 2.4*** What are the parameters (also known as \"coefficients\" or \"weights\") of the non-dummy features in your linear regression model?\n",
    "\n",
    "***Answer 2.4***"
   ]
  },
  {
   "cell_type": "markdown",
   "metadata": {},
   "source": [
    "***Question 2.5*** What is your model’s R2 (coefficients of determination) value?\n",
    "\n",
    "***Answer 2.5***"
   ]
  },
  {
   "cell_type": "markdown",
   "metadata": {},
   "source": [
    "***Question 2.6*** What does this R2 value mean for the goodness of fit for your regression model? Do you think this linear model to predict ridership is appropriate for this dataset, given this R2  value?\n",
    "\n",
    "***Answer 2.6***"
   ]
  },
  {
   "cell_type": "markdown",
   "metadata": {},
   "source": [
    "### &#x1F4CA; &nbsp; Section 3. Visualization\n",
    "\n",
    "Please include two visualizations that show the relationships between two or more variables in the NYC subway data.\n",
    "Remember to add appropriate titles and axes labels to your plots. Also, please add a short description below each figure commenting on the key insights depicted in the figure.\n",
    "\n",
    "***Question 3.1*** One visualization should contain two histograms: one of  ENTRIESn_hourly for rainy days and one of ENTRIESn_hourly for non-rainy days.\n",
    "\n",
    "You can combine the two histograms in a single plot or you can use two separate plots.\n",
    "If you decide to use to two separate plots for the two histograms, please ensure that the x-axis limits for both of the plots are identical. It is much easier to compare the two in that case.\n",
    "For the histograms, you should have intervals representing the volume of ridership (value of ENTRIESn_hourly) on the x-axis and the frequency of occurrence on the y-axis. For example, each interval (along the x-axis), the height of the bar for this interval will represent the number of records (rows in our data) that have ENTRIESn_hourly that falls in this interval.\n",
    "\n",
    "Remember to increase the number of bins in the histogram (by having larger number of bars). The default bin width is not sufficient to capture the variability in the two samples.\n",
    "\n",
    "***Answer 3.1***"
   ]
  },
  {
   "cell_type": "markdown",
   "metadata": {
    "collapsed": true
   },
   "source": [
    "***Question 3.2*** One visualization can be more freeform. You should feel free to implement something that we discussed in class (e.g., scatter plots, line plots) or attempt to implement something more advanced if you'd like. Some suggestions are:\n",
    "\n",
    "- Ridership by time-of-day\n",
    "- Ridership by day-of-week\n",
    "\n",
    "***Answer 3.2***"
   ]
  },
  {
   "cell_type": "markdown",
   "metadata": {},
   "source": [
    "### &#x1F4CA; &nbsp;  Section 4. Conclusion\n",
    "\n",
    "Please address the following questions in detail. Your answers should be 1-2 paragraphs long.\n",
    "\n",
    "***Question 4.1*** From your analysis and interpretation of the data, do more people ride\n",
    "the NYC subway when it is raining or when it is not raining?  \n",
    "\n",
    "***Answer 4.1***\n",
    "\n",
    "***Question 4.2*** What analyses lead you to this conclusion? You should use results from both your statistical\n",
    "tests and your linear regression to support your analysis.\n",
    "\n",
    "***Answer 4.2***"
   ]
  },
  {
   "cell_type": "code",
   "execution_count": null,
   "metadata": {
    "collapsed": true
   },
   "outputs": [],
   "source": []
  },
  {
   "cell_type": "markdown",
   "metadata": {},
   "source": [
    "### &#x1F4CA; &nbsp;  Section 5. Reflection\n",
    "\n",
    "Please address the following questions in detail. Your answers should be 1-2 paragraphs long.\n",
    "\n",
    "***Question 5.1*** Please discuss potential shortcomings of the methods of your analysis, including:\n",
    "\n",
    "- Dataset,\n",
    "- Analysis, such as the linear regression model or statistical test.\n",
    "\n",
    "***Answer 5.1***\n",
    "\n",
    "***Question 5.2*** (Optional) Do you have any other insight about the dataset that you would like to share with us?\n",
    "\n",
    "***Answer 5.2***"
   ]
  },
  {
   "cell_type": "code",
   "execution_count": null,
   "metadata": {
    "collapsed": true
   },
   "outputs": [],
   "source": []
  }
 ],
 "metadata": {
  "anaconda-cloud": {},
  "hide_input": false,
  "kernelspec": {
   "display_name": "Python [conda root]",
   "language": "python",
   "name": "conda-root-py"
  },
  "language_info": {
   "codemirror_mode": {
    "name": "ipython",
    "version": 3
   },
   "file_extension": ".py",
   "mimetype": "text/x-python",
   "name": "python",
   "nbconvert_exporter": "python",
   "pygments_lexer": "ipython3",
   "version": "3.5.2"
  },
  "latex_envs": {
   "bibliofile": "biblio.bib",
   "cite_by": "apalike",
   "current_citInitial": 1,
   "eqLabelWithNumbers": true,
   "eqNumInitial": 0
  }
 },
 "nbformat": 4,
 "nbformat_minor": 2
}
