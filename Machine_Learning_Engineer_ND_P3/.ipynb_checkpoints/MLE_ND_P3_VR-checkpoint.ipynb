{
 "cells": [
  {
   "cell_type": "markdown",
   "metadata": {},
   "source": [
    "# &#x1F4D1; &nbsp; $\\mathfrak {\\color{slategrey} { P3: \\ Creating \\ Customer \\ Segments \\ (R)}}$"
   ]
  },
  {
   "cell_type": "markdown",
   "metadata": {},
   "source": [
    "## $\\mathfrak {\\color{slategrey} {1. \\ References}}$\n",
    "### Dataset: \n",
    "https://archive.ics.uci.edu/ml/datasets/Wholesale+customers#\n",
    "\n",
    "The data set refers to clients of a wholesale distributor. It includes the annual spending in monetary units (m.u.) on diverse product categories.\n",
    "\n",
    "Attribute Information:\n",
    "\n",
    "- 1)\tFRESH: annual spending (m.u.) on fresh products (Continuous); \n",
    "- 2)\tMILK: annual spending (m.u.) on milk products (Continuous); \n",
    "- 3)\tGROCERY: annual spending (m.u.)on grocery products (Continuous); \n",
    "- 4)\tFROZEN: annual spending (m.u.)on frozen products (Continuous) \n",
    "- 5)\tDETERGENTS_PAPER: annual spending (m.u.) on detergents and paper products (Continuous) \n",
    "- 6)\tDELICATESSEN: annual spending (m.u.)on and delicatessen products (Continuous); \n",
    "- 7)\tCHANNEL: customersâ€™ Channel - Horeca (Hotel/Restaurant/CafÃ©) or Retail channel (Nominal) \n",
    "- 8)\tREGION: customersâ€™ Region â€“ Lisnon, Oporto or Other (Nominal)\n",
    "\n",
    "### Links:"
   ]
  },
  {
   "cell_type": "markdown",
   "metadata": {},
   "source": [
    "## $\\mathfrak {\\color{slategrey} {2.\\ Code \\ Library}}$"
   ]
  },
  {
   "cell_type": "code",
   "execution_count": 9,
   "metadata": {
    "collapsed": false
   },
   "outputs": [
    {
     "name": "stderr",
     "output_type": "stream",
     "text": [
      "Warning message:\n",
      "“Failed to load RGtk2 dynamic library, attempting to install it.”Please install GTK+ from http://r.research.att.com/libs/GTK_2.24.17-X11.pkg\n",
      "If the package still does not load, please ensure that GTK+ is installed and that it is on your PATH environment variable\n",
      "IN ANY CASE, RESTART R BEFORE TRYING TO LOAD THE PACKAGE AGAIN\n",
      "Rattle: A free graphical interface for data mining with R.\n",
      "Version 4.1.0 Copyright (c) 2006-2015 Togaware Pty Ltd.\n",
      "Type 'rattle()' to shake, rattle, and roll your data.\n"
     ]
    }
   ],
   "source": [
    "library(ggplot2)\n",
    "library(e1071)\n",
    "library(lattice)\n",
    "library(caret)\n",
    "library(tree)\n",
    "library(randomForest)\n",
    "library(rattle)\n",
    "library(class)"
   ]
  },
  {
   "cell_type": "code",
   "execution_count": 8,
   "metadata": {
    "collapsed": false
   },
   "outputs": [
    {
     "name": "stdout",
     "output_type": "stream",
     "text": [
      "\n",
      "The downloaded binary packages are in\n",
      "\t/var/folders/zv/fssymh4j59j72czb1lbg6flm0000gn/T//RtmpVvqYWO/downloaded_packages\n"
     ]
    }
   ],
   "source": [
    "install.packages('rattle')"
   ]
  },
  {
   "cell_type": "code",
   "execution_count": null,
   "metadata": {
    "collapsed": true
   },
   "outputs": [],
   "source": []
  }
 ],
 "metadata": {
  "kernelspec": {
   "display_name": "R",
   "language": "R",
   "name": "ir"
  },
  "language_info": {
   "codemirror_mode": "r",
   "file_extension": ".r",
   "mimetype": "text/x-r-source",
   "name": "R",
   "pygments_lexer": "r",
   "version": "3.3.2"
  },
  "latex_envs": {
   "bibliofile": "biblio.bib",
   "cite_by": "apalike",
   "current_citInitial": 1,
   "eqLabelWithNumbers": true,
   "eqNumInitial": 0
  }
 },
 "nbformat": 4,
 "nbformat_minor": 2
}
