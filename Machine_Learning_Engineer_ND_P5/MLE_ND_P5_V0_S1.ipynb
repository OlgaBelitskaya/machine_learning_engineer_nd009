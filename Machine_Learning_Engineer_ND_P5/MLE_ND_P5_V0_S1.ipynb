{
 "cells": [
  {
   "cell_type": "markdown",
   "metadata": {},
   "source": [
    "# Machine Learning Engineer Nanodegree\n",
    "## Deep Learning\n",
    "# &#x1F4D1; &nbsp; P5: Build a Digit Recognition Program. Step 1"
   ]
  },
  {
   "cell_type": "markdown",
   "metadata": {},
   "source": [
    "## Code Library and Links\n",
    "- [Multi-dimensional image processing](https://docs.scipy.org/doc/scipy/reference/ndimage.html)\n",
    "- [Keras: Deep Learning library for Theano and TensorFlow](https://keras.io/)\n",
    "- [Deep MNIST for Experts](https://www.tensorflow.org/get_started/mnist/pros)\n",
    "- [Tensorflow Deep MNIST Advanced Tutorial](http://docs.seldon.io/tensorflow-deep-mnist-example.html)\n",
    "- [Building powerful image classification models using very little data](https://blog.keras.io/building-powerful-image-classification-models-using-very-little-data.html)\n",
    "- [Handwritten Digit Recognition using Convolutional Neural Networks in Python with Keras](http://machinelearningmastery.com/handwritten-digit-recognition-using-convolutional-neural-networks-python-keras/)"
   ]
  },
  {
   "cell_type": "code",
   "execution_count": 3,
   "metadata": {},
   "outputs": [
    {
     "data": {
      "text/html": [
       "<style>\n",
       "@import url('https://fonts.googleapis.com/css?family=Orbitron|Roboto');\n",
       "body {background-color: #b8e2fc;} \n",
       "a {color: royalblue; font-family: 'Roboto';} \n",
       "h1 {color: #191970; font-family: 'Orbitron'; text-shadow: 4px 4px 4px #ccc;} \n",
       "h2, h3 {color: slategray; font-family: 'Orbitron'; text-shadow: 4px 4px 4px #ccc;}\n",
       "h4 {color: royalblue; font-family: 'Roboto';}\n",
       "span {text-shadow: 4px 4px 4px #ccc;}\n",
       "div.output_prompt, div.output_area pre {color: slategray;}\n",
       "div.input_prompt, div.output_subarea {color: #191970;}      \n",
       "div.output_stderr pre {background-color: #b8e2fc;}  \n",
       "div.output_stderr {background-color: slategrey;}                        \n",
       "</style>\n",
       "<script>\n",
       "code_show = true; \n",
       "function code_display() {\n",
       "    if (code_show) {\n",
       "        $('div.input').each(function(id) {\n",
       "            if (id == 0 || $(this).html().indexOf('hide_code') > -1) {$(this).hide();}\n",
       "        });\n",
       "        $('div.output_prompt').css('opacity', 0);\n",
       "    } else {\n",
       "        $('div.input').each(function(id) {$(this).show();});\n",
       "        $('div.output_prompt').css('opacity', 1);\n",
       "    };\n",
       "    code_show = !code_show;\n",
       "} \n",
       "$(document).ready(code_display);\n",
       "</script>\n",
       "<form action=\"javascript: code_display()\">\n",
       "<input style=\"color: #191970; background: #b8e2fc; opacity: 0.8;\" \\ \n",
       "type=\"submit\" value=\"Click to display or hide code cells\">\n",
       "</form>      "
      ],
      "text/plain": [
       "<IPython.core.display.HTML object>"
      ]
     },
     "metadata": {},
     "output_type": "display_data"
    }
   ],
   "source": [
    "%%html\n",
    "<style>\n",
    "@import url('https://fonts.googleapis.com/css?family=Orbitron|Roboto');\n",
    "body {background-color: #b8e2fc;} \n",
    "a {color: royalblue; font-family: 'Roboto';} \n",
    "h1 {color: #191970; font-family: 'Orbitron'; text-shadow: 4px 4px 4px #ccc;} \n",
    "h2, h3 {color: slategray; font-family: 'Orbitron'; text-shadow: 4px 4px 4px #ccc;}\n",
    "h4 {color: royalblue; font-family: 'Roboto';}\n",
    "span {text-shadow: 4px 4px 4px #ccc;}\n",
    "div.output_prompt, div.output_area pre {color: slategray;}\n",
    "div.input_prompt, div.output_subarea {color: #191970;}      \n",
    "div.output_stderr pre {background-color: #b8e2fc;}  \n",
    "div.output_stderr {background-color: slategrey;}                        \n",
    "</style>\n",
    "<script>\n",
    "code_show = true; \n",
    "function code_display() {\n",
    "    if (code_show) {\n",
    "        $('div.input').each(function(id) {\n",
    "            if (id == 0 || $(this).html().indexOf('hide_code') > -1) {$(this).hide();}\n",
    "        });\n",
    "        $('div.output_prompt').css('opacity', 0);\n",
    "    } else {\n",
    "        $('div.input').each(function(id) {$(this).show();});\n",
    "        $('div.output_prompt').css('opacity', 1);\n",
    "    };\n",
    "    code_show = !code_show;\n",
    "} \n",
    "$(document).ready(code_display);\n",
    "</script>\n",
    "<form action=\"javascript: code_display()\">\n",
    "<input style=\"color: #191970; background: #b8e2fc; opacity: 0.8;\" \\ \n",
    "type=\"submit\" value=\"Click to display or hide code cells\">\n",
    "</form>      "
   ]
  },
  {
   "cell_type": "code",
   "execution_count": 5,
   "metadata": {},
   "outputs": [],
   "source": [
    "hide_code = ''\n",
    "import numpy as np\n",
    "import scipy as sp\n",
    "import scipy.ndimage\n",
    "import random\n",
    "import scipy.misc\n",
    "from scipy.special import expit\n",
    "from time import time\n",
    "\n",
    "import os\n",
    "import sys\n",
    "import h5py\n",
    "import tarfile\n",
    "\n",
    "from six.moves.urllib.request import urlretrieve\n",
    "from six.moves import cPickle as pickle\n",
    "\n",
    "from IPython.display import display, Image, IFrame\n",
    "import matplotlib.pylab as plt\n",
    "import matplotlib.cm as cm\n",
    "from matplotlib import offsetbox\n",
    "\n",
    "%matplotlib inline\n",
    "import warnings\n",
    "warnings.filterwarnings('ignore')"
   ]
  },
  {
   "cell_type": "code",
   "execution_count": 43,
   "metadata": {},
   "outputs": [],
   "source": [
    "hide_code\n",
    "from sklearn.neural_network import MLPClassifier, BernoulliRBM\n",
    "from sklearn import linear_model, datasets, metrics\n",
    "from sklearn.pipeline import Pipeline\n",
    "from sklearn import manifold, decomposition, ensemble\n",
    "from sklearn import discriminant_analysis, random_projection\n",
    "from sklearn.model_selection import train_test_split\n",
    "\n",
    "import tensorflow as tf\n",
    "import tensorflow.examples.tutorials.mnist as mnist\n",
    "\n",
    "import keras as ks\n",
    "from keras.models import Sequential, load_model\n",
    "from keras.preprocessing import sequence\n",
    "from keras.optimizers import SGD, RMSprop\n",
    "from keras.layers import Dense, Dropout, LSTM\n",
    "from keras.layers import Activation, Flatten, Input, BatchNormalization\n",
    "from keras.layers import Conv1D, MaxPooling1D, Conv2D, MaxPooling2D, GlobalAveragePooling2D\n",
    "from keras.layers.embeddings import Embedding\n",
    "from keras.models import Model\n",
    "from keras.callbacks import ModelCheckpoint"
   ]
  },
  {
   "cell_type": "code",
   "execution_count": 10,
   "metadata": {
    "collapsed": true
   },
   "outputs": [],
   "source": [
    "hide_code\n",
    "# http://scikit-learn.org/stable/auto_examples/manifold/\n",
    "# plot_lle_digits.html#sphx-glr-auto-examples-manifold-plot-lle-digits-py\n",
    "\n",
    "def plot_embedding(X, title=None):\n",
    "    x_min, x_max = np.min(X, 0), np.max(X, 0)\n",
    "    X = (X - x_min) / (x_max - x_min)\n",
    "\n",
    "    plt.figure(figsize=(15,10))\n",
    "    ax = plt.subplot(111)\n",
    "    for i in range(X.shape[0]):\n",
    "        plt.text(X[i, 0], X[i, 1], str(digits.target[i]),\n",
    "                 color=plt.cm.Set1(y[i] / 10.),\n",
    "                 fontdict={'weight': 'bold', 'size': 9})\n",
    "\n",
    "    if hasattr(offsetbox, 'AnnotationBbox'):\n",
    "        # only print thumbnails with matplotlib > 1.0\n",
    "        shown_images = np.array([[1., 1.]])  # just something big\n",
    "        for i in range(digits.data.shape[0]):\n",
    "            dist = np.sum((X[i] - shown_images) ** 2, 1)\n",
    "            if np.min(dist) < 4e-3:\n",
    "                # don't show points that are too close\n",
    "                continue\n",
    "            shown_images = np.r_[shown_images, [X[i]]]\n",
    "            imagebox = offsetbox.AnnotationBbox(\n",
    "                offsetbox.OffsetImage(digits.images[i], cmap=plt.cm.gray_r),\n",
    "                X[i])\n",
    "            ax.add_artist(imagebox)\n",
    "    plt.xticks([]), plt.yticks([])\n",
    "    if title is not None:\n",
    "        plt.title(title)"
   ]
  },
  {
   "cell_type": "markdown",
   "metadata": {},
   "source": [
    "## Experimental Datasets\n",
    "### Dataset #1. Scikit-learn. [DIGITS.](http://scikit-learn.org/stable/modules/generated/sklearn.datasets.load_digits.html)"
   ]
  },
  {
   "cell_type": "code",
   "execution_count": 7,
   "metadata": {},
   "outputs": [
    {
     "name": "stdout",
     "output_type": "stream",
     "text": [
      "The first dataset\n",
      "Shape of the features - (1797, 64); shape of the target - (1797,)\n"
     ]
    }
   ],
   "source": [
    "hide_code\n",
    "digits = datasets.load_digits(n_class=10)\n",
    "X, y = digits.data, digits.target\n",
    "print('The first dataset')\n",
    "print(\"Shape of the features - {}; shape of the target - {}\".format(X.shape, y.shape))"
   ]
  },
  {
   "cell_type": "code",
   "execution_count": 8,
   "metadata": {},
   "outputs": [
    {
     "name": "stdout",
     "output_type": "stream",
     "text": [
      "One-hot encoding for y[0]:\n",
      " [ 1.  0.  0.  0.  0.  0.  0.  0.  0.  0.]\n"
     ]
    }
   ],
   "source": [
    "hide_code\n",
    "y_cat = ks.utils.to_categorical(y, num_classes=10)\n",
    "print('One-hot encoding for y[0]:\\n', y_cat[0])"
   ]
  },
  {
   "cell_type": "code",
   "execution_count": 9,
   "metadata": {},
   "outputs": [
    {
     "data": {
      "image/png": "[encoded data removed]",
      "text/plain": [
       "<matplotlib.figure.Figure at 0x116de4ef0>"
      ]
     },
     "metadata": {},
     "output_type": "display_data"
    }
   ],
   "source": [
    "hide_code\n",
    "img = np.zeros((100, 100))\n",
    "for i in range(10):\n",
    "    ix = 10 * i + 1\n",
    "    for j in range(10):\n",
    "        iy = 10 * j + 1\n",
    "        img[ix:ix + 8, iy:iy + 8] = X[i * 10 + j].reshape((8, 8))\n",
    "\n",
    "plt.figure(figsize=(6,6))\n",
    "plt.imshow(img, cmap=plt.cm.Blues)\n",
    "\n",
    "plt.xticks([])\n",
    "plt.yticks([])\n",
    "plt.title('Examples of the 64-dimensional digits');"
   ]
  },
  {
   "cell_type": "code",
   "execution_count": 11,
   "metadata": {},
   "outputs": [
    {
     "name": "stdout",
     "output_type": "stream",
     "text": [
      "Computing t-SNE embedding\n"
     ]
    },
    {
     "data": {
      "image/png": "[encoded data removed]",
      "text/plain": [
       "<matplotlib.figure.Figure at 0x116cec320>"
      ]
     },
     "metadata": {},
     "output_type": "display_data"
    }
   ],
   "source": [
    "hide_code\n",
    "# t-SNE embedding of the digits dataset\n",
    "print(\"Computing t-SNE embedding\")\n",
    "tsne = manifold.TSNE(n_components=2, init='pca', random_state=0)\n",
    "t0 = time()\n",
    "X_tsne = tsne.fit_transform(X)\n",
    "\n",
    "plot_embedding(X_tsne, \"t-SNE embedding of the digits (time %.2fs)\" % (time() - t0))"
   ]
  },
  {
   "cell_type": "markdown",
   "metadata": {},
   "source": [
    "### Dataset #2. [MNIST](https://www.tensorflow.org/api_docs/python/tf/contrib/keras/datasets/mnist/load_data)"
   ]
  },
  {
   "cell_type": "code",
   "execution_count": 12,
   "metadata": {},
   "outputs": [
    {
     "name": "stdout",
     "output_type": "stream",
     "text": [
      "Extracting MNIST_data/train-images-idx3-ubyte.gz\n",
      "Extracting MNIST_data/train-labels-idx1-ubyte.gz\n",
      "Extracting MNIST_data/t10k-images-idx3-ubyte.gz\n",
      "Extracting MNIST_data/t10k-labels-idx1-ubyte.gz\n"
     ]
    }
   ],
   "source": [
    "hide_code\n",
    "mnist_data = mnist.input_data.read_data_sets(\"MNIST_data/\", one_hot=True)\n",
    "train_images = mnist_data.train.images\n",
    "train_labels = mnist_data.train.labels\n",
    "test_images = mnist_data.test.images\n",
    "test_labels = mnist_data.test.labels"
   ]
  },
  {
   "cell_type": "code",
   "execution_count": 13,
   "metadata": {},
   "outputs": [
    {
     "name": "stdout",
     "output_type": "stream",
     "text": [
      "The second dataset\n",
      "Shape of the train features - (55000, 784), shape of the train target - (55000, 10)\n",
      "Shape of the test features - (10000, 784), shape of the test target - (10000, 10)\n"
     ]
    }
   ],
   "source": [
    "hide_code\n",
    "print('The second dataset')\n",
    "print(\"Shape of the train features - {}, shape of the train target - {}\".\\\n",
    "      format(train_images.shape, train_labels.shape))\n",
    "print(\"Shape of the test features - {}, shape of the test target - {}\".\\\n",
    "      format(test_images.shape, test_labels.shape))"
   ]
  },
  {
   "cell_type": "code",
   "execution_count": 14,
   "metadata": {},
   "outputs": [
    {
     "name": "stdout",
     "output_type": "stream",
     "text": [
      "Reshape features and targets\n"
     ]
    }
   ],
   "source": [
    "hide_code\n",
    "print('Reshape features and targets')\n",
    "# reshape as [samples][width][height]\n",
    "train_images28 = np.array([np.reshape(x, (28,28)) for x in train_images])\n",
    "test_images28 = np.array([np.reshape(x, (28,28)) for x in test_images])\n",
    "# reshape as [samples][pixels][width][height]\n",
    "train_images_n28 = train_images.reshape(train_images.shape[0], 1, 28, 28).astype('float32')\n",
    "test_images_n28 = test_images.reshape(test_images.shape[0], 1, 28, 28).astype('float32')\n",
    "# reshape labels\n",
    "train_labels2 = np.array([ np.where(r==1)[0][0] for r in train_labels]).reshape(len(train_labels), 1)\n",
    "test_labels2 = np.array([ np.where(r==1)[0][0] for r in test_labels]).reshape(len(test_labels), 1)"
   ]
  },
  {
   "cell_type": "code",
   "execution_count": 15,
   "metadata": {},
   "outputs": [
    {
     "data": {
      "image/png": "[encoded data removed]",
      "text/plain": [
       "<matplotlib.figure.Figure at 0x11971a128>"
      ]
     },
     "metadata": {},
     "output_type": "display_data"
    }
   ],
   "source": [
    "hide_code\n",
    "fig, ax = plt.subplots(figsize=(18, 2), nrows=1, ncols=15, sharex=True, sharey=True,)\n",
    "ax = ax.flatten()\n",
    "for i in range(15):\n",
    "    image = train_images28[i]\n",
    "    ax[i].imshow(image, cmap=plt.cm.Blues)\n",
    "\n",
    "ax[0].set_xticks([])\n",
    "ax[0].set_yticks([])\n",
    "plt.tight_layout()\n",
    "plt.gcf()\n",
    "ax[7].set_title('Examples of the 784-dimensional digits', fontsize=15);"
   ]
  },
  {
   "cell_type": "markdown",
   "metadata": {},
   "source": [
    "### Dataset #3. Synthetic. Two digits"
   ]
  },
  {
   "cell_type": "code",
   "execution_count": 16,
   "metadata": {},
   "outputs": [
    {
     "data": {
      "image/png": "[encoded data removed]",
      "text/plain": [
       "<matplotlib.figure.Figure at 0x116cecf28>"
      ]
     },
     "metadata": {},
     "output_type": "display_data"
    }
   ],
   "source": [
    "hide_code\n",
    "image1 = np.concatenate((train_images28[2], train_images28[3]), axis=1)\n",
    "zero1 = np.zeros((14,56))\n",
    "image2 = np.concatenate((zero1, image1, zero1), axis=0)\n",
    "plt.figure(figsize=(4,4))\n",
    "plt.imshow(image2, cmap=plt.cm.Blues)\n",
    "plt.xticks([])\n",
    "plt.yticks([])\n",
    "plt.title('Example of two concatenated 784-dimensional digits');"
   ]
  },
  {
   "cell_type": "code",
   "execution_count": 61,
   "metadata": {},
   "outputs": [],
   "source": [
    "hide_code\n",
    "# Create the third dataset\n",
    "n1 = int(train_images.shape[0] / 2)\n",
    "n2 = int(test_images.shape[0] / 2)\n",
    "h1 = random.randrange(0, 28)\n",
    "h2 = 28 - h1\n",
    "\n",
    "train_images28_1 = train_images28[:n1]\n",
    "train_images28_2 = train_images28[n1:]\n",
    "test_images28_1 = train_images28[:n2]\n",
    "test_images28_2 = train_images28[n2:]\n",
    "\n",
    "train_images56 = [np.concatenate((train_images28_1[i], train_images28_2[i]), axis=1) for i in range(n1)]\n",
    "train_images56 = np.array([np.concatenate((np.zeros((h1,56)), train_images56[i], \n",
    "                                           np.zeros((h2,56))), axis=0) for i in range(n1)])\n",
    "test_images56 = [np.concatenate((test_images28_1[i], test_images28_2[i]), axis=1) for i in range(n2)]\n",
    "test_images56 = np.array([np.concatenate((np.zeros((h1,56)), test_images56[i], \n",
    "                                          np.zeros((h2,56))), axis=0) for i in range(n2)])\n",
    "\n",
    "train_images_n56 = train_images56.reshape(-1, 1, 56, 56).astype('float32')\n",
    "test_images_n56 = test_images56.reshape(-1, 1, 56, 56).astype('float32')"
   ]
  },
  {
   "cell_type": "code",
   "execution_count": 62,
   "metadata": {},
   "outputs": [],
   "source": [
    "hide_code\n",
    "train_labels_1 = train_labels2[:n1]\n",
    "train_labels_2 = train_labels2[n1:]\n",
    "test_labels_1 = train_labels2[:n2]\n",
    "test_labels_2 = train_labels2[n2:]\n",
    "\n",
    "train_labels56 = np.array([np.concatenate((train_labels_1[i], train_labels_2[i])) for i in range(n1)])\n",
    "test_labels56 = np.array([np.concatenate((test_labels_1[i], test_labels_2[i])) for i in range(n2)])"
   ]
  },
  {
   "cell_type": "code",
   "execution_count": 63,
   "metadata": {},
   "outputs": [
    {
     "name": "stdout",
     "output_type": "stream",
     "text": [
      "Example of the third dataset \n",
      "[7 0]\n"
     ]
    },
    {
     "data": {
      "image/png": "[encoded data removed]",
      "text/plain": [
       "<matplotlib.figure.Figure at 0x11e38da90>"
      ]
     },
     "metadata": {},
     "output_type": "display_data"
    }
   ],
   "source": [
    "hide_code\n",
    "print('Example of the third dataset ')\n",
    "print(test_labels56[25])\n",
    "plt.imshow(test_images56[25], cmap=plt.cm.Blues);"
   ]
  },
  {
   "cell_type": "code",
   "execution_count": 20,
   "metadata": {},
   "outputs": [],
   "source": [
    "hide_code\n",
    "train_labels56_cat1 = ks.utils.to_categorical(train_labels56[:, 0], num_classes=10)\n",
    "train_labels56_cat2 = ks.utils.to_categorical(train_labels56[:, 1], num_classes=10)\n",
    "\n",
    "train_labels56_cat = np.concatenate((train_labels56_cat1, train_labels56_cat2), axis=1)\n",
    "train_labels56_cat = train_labels56_cat.reshape(len(train_labels56_cat), 2, 10)\n",
    "\n",
    "test_labels56_cat1 = ks.utils.to_categorical(test_labels56[:, 0], num_classes=10)\n",
    "test_labels56_cat2 = ks.utils.to_categorical(test_labels56[:, 1], num_classes=10)\n",
    "\n",
    "test_labels56_cat = np.concatenate((test_labels56_cat1, test_labels56_cat2), axis=1)\n",
    "test_labels56_cat = test_labels56_cat.reshape(len(test_labels56_cat), 2, 10)"
   ]
  },
  {
   "cell_type": "code",
   "execution_count": 21,
   "metadata": {},
   "outputs": [
    {
     "name": "stdout",
     "output_type": "stream",
     "text": [
      "The third dataset\n",
      "Shape of the train features - (27500, 56, 56), shape of the train target - (27500, 2, 10)\n",
      "Shape of the test features - (5000, 56, 56), shape of the test target - (5000, 2, 10)\n"
     ]
    }
   ],
   "source": [
    "hide_code\n",
    "print('The third dataset')\n",
    "print(\"Shape of the train features - {}, shape of the train target - {}\".\\\n",
    "      format(train_images56.shape, train_labels56_cat.shape))\n",
    "print(\"Shape of the test features - {}, shape of the test target - {}\".\\\n",
    "      format(test_images56.shape, test_labels56_cat.shape))"
   ]
  },
  {
   "cell_type": "markdown",
   "metadata": {},
   "source": [
    "### Dataset #4. Synthetic. Several digits with rotation"
   ]
  },
  {
   "cell_type": "code",
   "execution_count": 22,
   "metadata": {},
   "outputs": [],
   "source": [
    "hide_code\n",
    "def rotate_image(image):\n",
    "        angle = np.random.randint(-15, 15)\n",
    "        img = scipy.ndimage.interpolation.rotate(image, angle)\n",
    "        img = scipy.misc.imresize(img, (28, 28))\n",
    "        rotated_image = scipy.misc.toimage(img)\n",
    "        return img, rotated_image\n",
    "    \n",
    "def fivedigit_label(label):\n",
    "    size = len(label)\n",
    "    if size >= 5:\n",
    "        return label\n",
    "    else:\n",
    "        num_zeros = np.full((5-size), 10)\n",
    "        return np.array(np.concatenate((num_zeros, label), axis = 0))"
   ]
  },
  {
   "cell_type": "code",
   "execution_count": 23,
   "metadata": {},
   "outputs": [],
   "source": [
    "hide_code\n",
    "train_rotated28 = np.array([rotate_image(image)[0] for image in train_images28])\n",
    "test_rotated28 = np.array([rotate_image(image)[0] for image in test_images28])"
   ]
  },
  {
   "cell_type": "code",
   "execution_count": 24,
   "metadata": {},
   "outputs": [
    {
     "name": "stdout",
     "output_type": "stream",
     "text": [
      "Example of rotation\n",
      "[6]\n"
     ]
    },
    {
     "data": {
      "image/png": "[encoded data removed]",
      "text/plain": [
       "<matplotlib.figure.Figure at 0x1193af8d0>"
      ]
     },
     "metadata": {},
     "output_type": "display_data"
    }
   ],
   "source": [
    "hide_code\n",
    "plt.imshow(test_rotated28[100], cmap=plt.cm.Blues);\n",
    "print('Example of rotation')\n",
    "print(test_labels2[100])"
   ]
  },
  {
   "cell_type": "code",
   "execution_count": 25,
   "metadata": {},
   "outputs": [
    {
     "name": "stdout",
     "output_type": "stream",
     "text": [
      "Example of concatenated images\n",
      "[10  7  3  4  6]\n"
     ]
    },
    {
     "data": {
      "image/png": "[encoded data removed]",
      "text/plain": [
       "<matplotlib.figure.Figure at 0x1192e66a0>"
      ]
     },
     "metadata": {},
     "output_type": "display_data"
    }
   ],
   "source": [
    "hide_code\n",
    "image1 = train_rotated28[0]\n",
    "label1 = train_labels2[0]\n",
    "\n",
    "for i in range(1, 4):\n",
    "    image1 = np.concatenate((image1, train_rotated28[i]), axis=1)\n",
    "    label1 = np.concatenate((label1, train_labels2[i]), axis=0)\n",
    "    \n",
    "image1 = scipy.misc.imresize(image1, (28, 28*5))\n",
    "label1 = fivedigit_label(label1)\n",
    "\n",
    "plt.imshow(image1, cmap=plt.cm.Blues);\n",
    "print('Example of concatenated images')\n",
    "print(label1)"
   ]
  },
  {
   "cell_type": "code",
   "execution_count": 26,
   "metadata": {
    "collapsed": true
   },
   "outputs": [],
   "source": [
    "hide_code\n",
    "def concatenate(images, labels, image_size):\n",
    "    i = 0\n",
    "    \n",
    "    concat_images = np.array(np.zeros((image_size, image_size * 5))).reshape(1, image_size, image_size * 5)\n",
    "    concat_labels = np.array(np.zeros(5))\n",
    "    \n",
    "    while i < images.shape[0]:\n",
    "        if images.shape[0] - i <= 5: \n",
    "            image = images[i] \n",
    "            label = labels[i]\n",
    "            \n",
    "            for  j  in range(images.shape[0]-i-1): \n",
    "                image = np.concatenate((image, images[i+j+1]), axis = 1)\n",
    "                label = np.concatenate((label, labels[i+j+1]), axis = 0)\n",
    "                \n",
    "            label = fivedigit_label(label) \n",
    "            image = scipy.misc.imresize(image, (image_size, image_size * 5))\n",
    "            \n",
    "            concat_images = np.vstack((concat_images, [image]))\n",
    "            concat_labels = np.vstack((concat_labels, label))\n",
    "            \n",
    "            i = i + 5\n",
    "            \n",
    "        else:\n",
    "            random_n = np.random.randint(3, 6)\n",
    "            image = images[i]\n",
    "            label = labels[i]\n",
    "            \n",
    "            for k in range(random_n-1):\n",
    "                image = np.concatenate((image, images[i+k+1]), axis = 1)\n",
    "                label = np.concatenate((label, labels[i+k+1]), axis = 0)\n",
    "                \n",
    "            label = fivedigit_label(label) \n",
    "            image = scipy.misc.imresize(image, (image_size, image_size * 5))\n",
    "            \n",
    "            concat_images = np.vstack((concat_images, [image]))\n",
    "            concat_labels = np.vstack((concat_labels, label))\n",
    "            \n",
    "            i = i + random_n\n",
    "            \n",
    "    concat_images = concat_images[1:]\n",
    "    concat_labels = concat_labels[1:]\n",
    "\n",
    "    return concat_images, concat_labels"
   ]
  },
  {
   "cell_type": "code",
   "execution_count": 27,
   "metadata": {},
   "outputs": [
    {
     "name": "stdout",
     "output_type": "stream",
     "text": [
      "Example of images concatenated by the function\n",
      "[ 8.  0.  3.  1.  2.]\n"
     ]
    },
    {
     "data": {
      "image/png": "[encoded data removed]",
      "text/plain": [
       "<matplotlib.figure.Figure at 0x119307a58>"
      ]
     },
     "metadata": {},
     "output_type": "display_data"
    }
   ],
   "source": [
    "hide_code\n",
    "img, lbl = concatenate(train_rotated28[:100], train_labels2[:100], 28)\n",
    "plt.imshow(img[2], cmap=plt.cm.Blues)\n",
    "print('Example of images concatenated by the function')\n",
    "print(lbl[2])"
   ]
  },
  {
   "cell_type": "code",
   "execution_count": 32,
   "metadata": {},
   "outputs": [],
   "source": [
    "hide_code\n",
    "train_syn_images28, train_syn_labels = concatenate(train_rotated28, train_labels2, 28)"
   ]
  },
  {
   "cell_type": "code",
   "execution_count": 33,
   "metadata": {
    "collapsed": true
   },
   "outputs": [],
   "source": [
    "hide_code\n",
    "test_syn_images28, test_syn_labels = concatenate(test_rotated28, test_labels2, 28)"
   ]
  },
  {
   "cell_type": "code",
   "execution_count": 34,
   "metadata": {},
   "outputs": [
    {
     "name": "stdout",
     "output_type": "stream",
     "text": [
      "The fourth dataset\n",
      "Shape of the train features - (13713, 28, 140), shape of the train target - (13713, 5)\n",
      "Shape of the test features - (2488, 28, 140), shape of the test target - (2488, 5)\n"
     ]
    }
   ],
   "source": [
    "hide_code\n",
    "print('The fourth dataset')\n",
    "print(\"Shape of the train features - {}, shape of the train target - {}\".\\\n",
    "      format(train_syn_images28.shape, train_syn_labels.shape))\n",
    "print(\"Shape of the test features - {}, shape of the test target - {}\".\\\n",
    "      format(test_syn_images28.shape, test_syn_labels.shape))"
   ]
  },
  {
   "cell_type": "code",
   "execution_count": 35,
   "metadata": {},
   "outputs": [
    {
     "name": "stdout",
     "output_type": "stream",
     "text": [
      "Example of the final synthetic  datasets\n",
      "[ 4.  9.  5.  9.  0.]\n"
     ]
    },
    {
     "data": {
      "image/png": "[encoded data removed]",
      "text/plain": [
       "<matplotlib.figure.Figure at 0x11cfaab70>"
      ]
     },
     "metadata": {},
     "output_type": "display_data"
    }
   ],
   "source": [
    "hide_code\n",
    "plt.imshow(test_syn_images28[2], cmap=plt.cm.Blues);\n",
    "print('Example of the final synthetic  datasets')\n",
    "print(test_syn_labels[2])"
   ]
  },
  {
   "cell_type": "code",
   "execution_count": 36,
   "metadata": {
    "collapsed": true
   },
   "outputs": [],
   "source": [
    "hide_code\n",
    "pickle_file = 'concat_mnist.pickle'\n",
    "\n",
    "try:\n",
    "    f = open(pickle_file, 'wb')\n",
    "    save = {'train_syn_images': train_syn_images28, 'train_syn_labels': train_syn_labels,\n",
    "            'test_syn_images': test_syn_images28, 'test_syn_labels': test_syn_labels}\n",
    "    pickle.dump(save, f, pickle.HIGHEST_PROTOCOL)\n",
    "    f.close()\n",
    "except Exception as e:\n",
    "    print('Unable to save the data to', pickle_file, ':', e)\n",
    "    raise"
   ]
  },
  {
   "cell_type": "markdown",
   "metadata": {},
   "source": [
    "#### Checkpoint 1. Load the synthetic dataset from concat_mnist.pickle"
   ]
  },
  {
   "cell_type": "code",
   "execution_count": 68,
   "metadata": {},
   "outputs": [],
   "source": [
    "hide_code\n",
    "pickle_file = 'concat_mnist.pickle'\n",
    "with open(pickle_file, 'rb') as f:\n",
    "    save = pickle.load(f)\n",
    "    X_train = save['train_syn_images']\n",
    "    y_train = save['train_syn_labels']\n",
    "    X_test = save['test_syn_images']\n",
    "    y_test = save['test_syn_labels']    \n",
    "    del save "
   ]
  },
  {
   "cell_type": "code",
   "execution_count": 69,
   "metadata": {},
   "outputs": [],
   "source": [
    "hide_code\n",
    "def digit_to_categorical(data):\n",
    "    n = data.shape[1]\n",
    "    data_cat = np.empty([len(data), n, 11])\n",
    "    \n",
    "    for i in range(n):\n",
    "        data_cat[:, i] = ks.utils.to_categorical(data[:, i], num_classes=11)\n",
    "        \n",
    "    return data_cat\n",
    "\n",
    "y_train_cat = digit_to_categorical(y_train)\n",
    "y_test_cat = digit_to_categorical(y_test)"
   ]
  },
  {
   "cell_type": "code",
   "execution_count": 70,
   "metadata": {},
   "outputs": [
    {
     "name": "stdout",
     "output_type": "stream",
     "text": [
      "Train loaded set (13713, 28, 140) (13713, 5, 11)\n",
      "Test loaded set (2488, 28, 140) (2488, 5, 11)\n"
     ]
    }
   ],
   "source": [
    "hide_code\n",
    "print('Train loaded set', X_train.shape, y_train_cat.shape)\n",
    "print('Test loaded set', X_test.shape, y_test_cat.shape)"
   ]
  },
  {
   "cell_type": "code",
   "execution_count": 71,
   "metadata": {},
   "outputs": [
    {
     "name": "stdout",
     "output_type": "stream",
     "text": [
      "Example of the loaded synthetic  datasets\n",
      "Digit labels\n",
      "[ 4.  9.  5.  9.  0.]\n",
      "Categorical labels\n",
      "[[ 0.  0.  0.  0.  1.  0.  0.  0.  0.  0.  0.]\n",
      " [ 0.  0.  0.  0.  0.  0.  0.  0.  0.  1.  0.]\n",
      " [ 0.  0.  0.  0.  0.  1.  0.  0.  0.  0.  0.]\n",
      " [ 0.  0.  0.  0.  0.  0.  0.  0.  0.  1.  0.]\n",
      " [ 1.  0.  0.  0.  0.  0.  0.  0.  0.  0.  0.]]\n"
     ]
    },
    {
     "data": {
      "image/png": "[encoded data removed]",
      "text/plain": [
       "<matplotlib.figure.Figure at 0x152ab74a8>"
      ]
     },
     "metadata": {},
     "output_type": "display_data"
    }
   ],
   "source": [
    "hide_code\n",
    "plt.imshow(X_test[2], cmap=plt.cm.Blues);\n",
    "print('Example of the loaded synthetic  datasets')\n",
    "print('Digit labels')\n",
    "print(y_test[:][2])\n",
    "print('Categorical labels')\n",
    "print(y_test_cat[:][2])"
   ]
  },
  {
   "cell_type": "code",
   "execution_count": 72,
   "metadata": {},
   "outputs": [
    {
     "name": "stdout",
     "output_type": "stream",
     "text": [
      "Reshape the train set for models\n",
      "(13713, 1, 28, 140) (13713, 11)\n",
      "Reshape the test set for models\n",
      "(2488, 1, 28, 140) (2488, 11)\n"
     ]
    }
   ],
   "source": [
    "hide_code\n",
    "train_shape = X_train.shape\n",
    "X_train = X_train.reshape(-1, 1, train_shape[1], train_shape[2])\n",
    "\n",
    "test_shape = X_test.shape\n",
    "X_test = X_test.reshape(-1, 1, test_shape[1], test_shape[2])\n",
    "\n",
    "y_train_cat_list = [y_train_cat[:, i] for i in range(5)]\n",
    "y_test_cat_list = [y_test_cat[:, i] for i in range(5)]\n",
    "\n",
    "print('Reshape the train set for models')\n",
    "print(X_train.shape, y_train_cat_list[0].shape)\n",
    "print('Reshape the test set for models')\n",
    "print(X_test.shape, y_test_cat_list[0].shape)"
   ]
  },
  {
   "cell_type": "markdown",
   "metadata": {
    "collapsed": true
   },
   "source": [
    "## Step 1: Design and Test a Model Architecture\n",
    "In this project, we will design and implement a deep learning model that learns to recognize sequences of digits. Also, we will train the model using synthetic data generated by concatenating character images from [notMNIST](http://yaroslavvb.blogspot.com/2011/09/notmnist-dataset.html) or [MNIST](http://yann.lecun.com/exdb/mnist/). To produce a synthetic sequence of digits for testing, we can, for example, limit ourself to sequences up to five digits, and use five classifiers on top of the deep network. We would have to incorporate an additional ‘blank’ character to account for shorter number sequences.\n",
    "\n",
    "There are various aspects to consider when thinking about this problem:\n",
    "- The model can be derived from a deep neural net or a convolutional network.\n",
    "- We could experiment sharing or not the weights between the softmax classifiers.\n",
    "- We can also use a recurrent network in your deep neural net to replace the classification layers and directly emit the sequence of digits one-at-a-time.\n",
    "\n",
    "We can use ** Keras ** to implement your model. Read more at [keras.io](https://keras.io/).\n",
    "\n",
    "Here is an example of a [published baseline model on this problem](http://static.googleusercontent.com/media/research.google.com/en//pubs/archive/42241.pdf). ([video](https://www.youtube.com/watch?v=vGPI_JvLoN0)). You are not expected to model your architecture precisely using this model nor get the same performance levels, but this is more to show an example of an approach used to solve this particular problem. We encourage you to try out different architectures for yourself and see what works best for you. Here is a useful [forum post](https://discussions.udacity.com/t/goodfellow-et-al-2013-architecture/202363) discussing the architecture as described in the paper and here is [another one](https://discussions.udacity.com/t/what-loss-function-to-use-for-multi-digit-svhn-training/176897) discussing the loss function."
   ]
  },
  {
   "cell_type": "markdown",
   "metadata": {},
   "source": [
    "### Examples of Models\n",
    "Models N1 and N2 are classic examples, models N3, N4, N5 and N6 are designed for this project.\n",
    "#### [Model #1.](https://www.packtpub.com/big-data-and-business-intelligence/python-machine-learning)"
   ]
  },
  {
   "cell_type": "code",
   "execution_count": 33,
   "metadata": {
    "collapsed": true
   },
   "outputs": [],
   "source": [
    "hide_code\n",
    "class NeuralNetMLP(object):\n",
    "    def __init__(self, n_output, n_features, n_hidden=30,\n",
    "                 l1=0.0, l2=0.0, epochs=500, eta=0.001, \n",
    "                 alpha=0.0, decrease_const=0.0, shuffle=True, \n",
    "                 minibatches=1, random_state=None):\n",
    "        np.random.seed(random_state)\n",
    "        self.n_output = n_output\n",
    "        self.n_features = n_features\n",
    "        self.n_hidden = n_hidden\n",
    "        self.w1, self.w2 = self._initialize_weights()\n",
    "        self.l1 = l1\n",
    "        self.l2 = l2\n",
    "        self.epochs = epochs\n",
    "        self.eta = eta\n",
    "        self.alpha = alpha\n",
    "        self.decrease_const = decrease_const\n",
    "        self.shuffle = shuffle\n",
    "        self.minibatches = minibatches\n",
    "\n",
    "    def _encode_labels(self, y, k):\n",
    "        onehot = np.zeros((k, y.shape[0]))\n",
    "        for idx, val in enumerate(y):\n",
    "            onehot[val, idx] = 1.0\n",
    "        return onehot\n",
    "\n",
    "    def _initialize_weights(self):\n",
    "        w1 = np.random.uniform(-1.0, 1.0, size=self.n_hidden*(self.n_features + 1))\n",
    "        w1 = w1.reshape(self.n_hidden, self.n_features + 1)\n",
    "        \n",
    "        w2 = np.random.uniform(-1.0, 1.0, size=self.n_output*(self.n_hidden + 1))\n",
    "        w2 = w2.reshape(self.n_output, self.n_hidden + 1)\n",
    "        \n",
    "        return w1, w2\n",
    "\n",
    "    def _sigmoid(self, z):\n",
    "        # expit is equivalent to 1.0/(1.0 + np.exp(-z))\n",
    "        return expit(z)\n",
    "\n",
    "    def _sigmoid_gradient(self, z):\n",
    "        sg = self._sigmoid(z)\n",
    "        return sg * (1 - sg)\n",
    "\n",
    "    def _add_bias_unit(self, X, how='column'):\n",
    "        if how == 'column':\n",
    "            X_new = np.ones((X.shape[0], X.shape[1]+1))\n",
    "            X_new[:, 1:] = X\n",
    "        elif how == 'row':\n",
    "            X_new = np.ones((X.shape[0]+1, X.shape[1]))\n",
    "            X_new[1:, :] = X\n",
    "        else:\n",
    "            raise AttributeError('`how` must be `column` or `row`')\n",
    "        return X_new\n",
    "\n",
    "    def _feedforward(self, X, w1, w2):\n",
    "        a1 = self._add_bias_unit(X, how='column')\n",
    "        z2 = w1.dot(a1.T)\n",
    "        a2 = self._sigmoid(z2)\n",
    "        a2 = self._add_bias_unit(a2, how='row')\n",
    "        z3 = w2.dot(a2)\n",
    "        a3 = self._sigmoid(z3)\n",
    "        return a1, z2, a2, z3, a3\n",
    "\n",
    "    def _L2_reg(self, lambda_, w1, w2):\n",
    "        return (lambda_/2.0) * (np.sum(w1[:, 1:] ** 2) + np.sum(w2[:, 1:] ** 2))\n",
    "\n",
    "    def _L1_reg(self, lambda_, w1, w2):\n",
    "        return (lambda_/2.0) * (np.abs(w1[:, 1:]).sum() + np.abs(w2[:, 1:]).sum())\n",
    "\n",
    "    def _get_cost(self, y_enc, output, w1, w2):\n",
    "        term1 = -y_enc * (np.log(output))\n",
    "        term2 = (1 - y_enc) * np.log(1 - output)\n",
    "        cost = np.sum(term1 - term2)\n",
    "        L1_term = self._L1_reg(self.l1, w1, w2)\n",
    "        L2_term = self._L2_reg(self.l2, w1, w2)\n",
    "        cost = cost + L1_term + L2_term\n",
    "        return cost\n",
    "\n",
    "    def _get_gradient(self, a1, a2, a3, z2, y_enc, w1, w2):\n",
    "        # backpropagation\n",
    "        sigma3 = a3 - y_enc\n",
    "        z2 = self._add_bias_unit(z2, how='row')\n",
    "        sigma2 = w2.T.dot(sigma3) * self._sigmoid_gradient(z2)\n",
    "        sigma2 = sigma2[1:, :]\n",
    "        grad1 = sigma2.dot(a1)\n",
    "        grad2 = sigma3.dot(a2.T)\n",
    "\n",
    "        # regularize\n",
    "        grad1[:, 1:] += (w1[:, 1:] * (self.l1 + self.l2))\n",
    "        grad2[:, 1:] += (w2[:, 1:] * (self.l1 + self.l2))\n",
    "\n",
    "        return grad1, grad2\n",
    "\n",
    "    def predict(self, X):\n",
    "        a1, z2, a2, z3, a3 = self._feedforward(X, self.w1, self.w2)\n",
    "        y_pred = np.argmax(z3, axis=0)\n",
    "        return y_pred\n",
    "\n",
    "    def fit(self, X, y, print_progress=False):\n",
    "        self.cost_ = []\n",
    "        X_data, y_data = X.copy(), y.copy()\n",
    "        y_enc = self._encode_labels(y, self.n_output)\n",
    "\n",
    "        delta_w1_prev = np.zeros(self.w1.shape)\n",
    "        delta_w2_prev = np.zeros(self.w2.shape)\n",
    "\n",
    "        for i in range(self.epochs):\n",
    "\n",
    "            # adaptive learning rate\n",
    "            self.eta /= (1 + self.decrease_const*i)\n",
    "\n",
    "            if print_progress:\n",
    "                sys.stderr.write('\\rEpoch: %d/%d' % (i+1, self.epochs))\n",
    "                sys.stderr.flush()\n",
    "\n",
    "            if self.shuffle:\n",
    "                idx = np.random.permutation(y_data.shape[0])\n",
    "                X_data, y_enc = X_data[idx], y_enc[:,idx]\n",
    "\n",
    "            mini = np.array_split(range(y_data.shape[0]), self.minibatches)\n",
    "            \n",
    "            for idx in mini:\n",
    "\n",
    "                # feedforward\n",
    "                a1, z2, a2, z3, a3 = self._feedforward(X_data[idx], self.w1, self.w2)\n",
    "                cost = self._get_cost(y_enc=y_enc[:, idx], output=a3, w1=self.w1, w2=self.w2)\n",
    "                \n",
    "                self.cost_.append(cost)\n",
    "\n",
    "                # compute gradient via backpropagation\n",
    "                grad1, grad2 = self._get_gradient(a1=a1, a2=a2, a3=a3, z2=z2,\n",
    "                                                  y_enc=y_enc[:, idx], w1=self.w1, w2=self.w2)\n",
    "\n",
    "                # update weights\n",
    "                delta_w1, delta_w2 = self.eta * grad1, self.eta * grad2\n",
    "                self.w1 -= (delta_w1 + (self.alpha * delta_w1_prev))\n",
    "                self.w2 -= (delta_w2 + (self.alpha * delta_w2_prev))\n",
    "                delta_w1_prev, delta_w2_prev = delta_w1, delta_w2\n",
    "\n",
    "        return self"
   ]
  },
  {
   "cell_type": "code",
   "execution_count": 34,
   "metadata": {},
   "outputs": [
    {
     "name": "stderr",
     "output_type": "stream",
     "text": [
      "\r",
      "Epoch: 1/1000"
     ]
    },
    {
     "name": "stdout",
     "output_type": "stream",
     "text": [
      "Digit dataset. Rows: 1797, columns: 64\n"
     ]
    },
    {
     "name": "stderr",
     "output_type": "stream",
     "text": [
      "Epoch: 1000/1000"
     ]
    }
   ],
   "source": [
    "hide_code\n",
    "print('Digit dataset. Rows: %d, columns: %d' % (X.shape[0],X.shape[1]))\n",
    "nn1 = NeuralNetMLP(n_output=10, n_features=X.shape[1], \n",
    "                   n_hidden=128, l2=0.1, l1=0.0, epochs=1000, \n",
    "                   eta=0.01, alpha=0.01, decrease_const=0.001,\n",
    "                   shuffle=True, minibatches=128, random_state=0)\n",
    "nn1.fit(X, y, print_progress=True);"
   ]
  },
  {
   "cell_type": "code",
   "execution_count": 35,
   "metadata": {},
   "outputs": [
    {
     "name": "stdout",
     "output_type": "stream",
     "text": [
      "Train accuracy: 99.78%\n"
     ]
    }
   ],
   "source": [
    "hide_code\n",
    "y_predict = nn1.predict(X)\n",
    "y_accuracy = np.sum(y == y_predict, axis=0) / X.shape[0]\n",
    "print('Train accuracy: %.2f%%' % (y_accuracy * 100))"
   ]
  },
  {
   "cell_type": "code",
   "execution_count": 36,
   "metadata": {},
   "outputs": [
    {
     "name": "stdout",
     "output_type": "stream",
     "text": [
      "MNIST. Train dataset. Rows: 55000, columns: 784\n",
      "MNIST. Test dataset. Rows: 10000, columns: 784\n"
     ]
    },
    {
     "name": "stderr",
     "output_type": "stream",
     "text": [
      "Epoch: 1000/1000"
     ]
    }
   ],
   "source": [
    "hide_code\n",
    "print('MNIST. Train dataset. Rows: %d, columns: %d' % (train_images.shape[0],train_images.shape[1]))\n",
    "print('MNIST. Test dataset. Rows: %d, columns: %d' % (test_images.shape[0],test_images.shape[1]))\n",
    "nn2 = NeuralNetMLP(n_output=10, n_features=train_images.shape[1], \n",
    "                   n_hidden=196, l2=0.01, l1=0.0, epochs=1000, \n",
    "                   eta=0.001, alpha=0.001, decrease_const=0.00001,\n",
    "                   shuffle=True, minibatches=50, random_state=1)\n",
    "nn2.fit(train_images, train_labels2, print_progress=True);"
   ]
  },
  {
   "cell_type": "code",
   "execution_count": 37,
   "metadata": {},
   "outputs": [
    {
     "name": "stdout",
     "output_type": "stream",
     "text": [
      "MNIST. Train accuracy: 99.98%\n",
      "MNIST. Test accuracy: 97.57%\n"
     ]
    }
   ],
   "source": [
    "hide_code\n",
    "train_labels_predict = nn2.predict(train_images)\n",
    "train_accuracy = np.sum(train_labels2[:,0] == train_labels_predict, axis=0) / len(train_labels2)\n",
    "print('MNIST. Train accuracy: %.2f%%' % (train_accuracy * 100))\n",
    "\n",
    "test_labels_predict = nn2.predict(test_images)\n",
    "test_accuracy = np.sum(test_labels2[:,0] == test_labels_predict, axis=0) / len(test_labels2)\n",
    "print('MNIST. Test accuracy: %.2f%%' % (test_accuracy * 100))"
   ]
  },
  {
   "cell_type": "code",
   "execution_count": 38,
   "metadata": {},
   "outputs": [
    {
     "data": {
      "image/png": "[encoded data removed]",
      "text/plain": [
       "<matplotlib.figure.Figure at 0x1199a40b8>"
      ]
     },
     "metadata": {},
     "output_type": "display_data"
    }
   ],
   "source": [
    "hide_code\n",
    "batches = np.array_split(range(len(nn2.cost_)), 1000)\n",
    "cost_ary = np.array(nn2.cost_)\n",
    "cost_avgs = [np.mean(cost_ary[i]) for i in batches]\n",
    "\n",
    "plt.figure(figsize=(18,6))\n",
    "plt.plot(range(len(cost_avgs)), cost_avgs, lw=3, color='royalblue')\n",
    "plt.ylim([0, 2000])\n",
    "plt.ylabel('Cost')\n",
    "plt.xlabel('Epochs')\n",
    "plt.tight_layout()\n",
    "plt.title('Cost Function');"
   ]
  },
  {
   "cell_type": "code",
   "execution_count": 39,
   "metadata": {},
   "outputs": [
    {
     "name": "stdout",
     "output_type": "stream",
     "text": [
      "Misclassified MNIST images: 243\n"
     ]
    }
   ],
   "source": [
    "hide_code\n",
    "print('Misclassified MNIST images: {}'.format(len(test_images[test_labels2[:,0] != test_labels_predict])))"
   ]
  },
  {
   "cell_type": "code",
   "execution_count": 40,
   "metadata": {},
   "outputs": [
    {
     "data": {
      "image/png": "[encoded data removed]",
      "text/plain": [
       "<matplotlib.figure.Figure at 0x118fc8198>"
      ]
     },
     "metadata": {},
     "output_type": "display_data"
    }
   ],
   "source": [
    "hide_code\n",
    "miscl_images = test_images[test_labels2[:,0] != test_labels_predict][:18]\n",
    "correct_labels = test_labels2[test_labels2[:,0] != test_labels_predict][:18]\n",
    "miscl_labels = test_labels_predict[test_labels2[:,0] != test_labels_predict][:18]\n",
    "\n",
    "fig, ax = plt.subplots(nrows=3, ncols=6, sharex=True, sharey=True, figsize=(18,6))\n",
    "ax = ax.flatten()\n",
    "for i in range(18):\n",
    "    image = miscl_images[i].reshape(28, 28)\n",
    "    ax[i].imshow(image, cmap=plt.cm.Blues)\n",
    "    ax[i].set_title('%d) t: %d p: %d' % (i+1, correct_labels[i], miscl_labels[i]))\n",
    "ax[0].set_xticks([])\n",
    "ax[0].set_yticks([])\n",
    "plt.tight_layout()"
   ]
  },
  {
   "cell_type": "markdown",
   "metadata": {},
   "source": [
    "#### [Model #2.](http://cs231n.github.io/neural-networks-case-study/)"
   ]
  },
  {
   "cell_type": "code",
   "execution_count": 24,
   "metadata": {},
   "outputs": [
    {
     "name": "stdout",
     "output_type": "stream",
     "text": [
      "Digit dataset. Rows: 1797, columns: 64\n"
     ]
    }
   ],
   "source": [
    "hide_code\n",
    "print('Digit dataset. Rows: %d, columns: %d' % (X.shape[0],X.shape[1]))"
   ]
  },
  {
   "cell_type": "code",
   "execution_count": 25,
   "metadata": {},
   "outputs": [
    {
     "name": "stdout",
     "output_type": "stream",
     "text": [
      "iteration 0: loss 2.302590\n",
      "iteration 100: loss 1.770514\n",
      "iteration 200: loss 0.521006\n",
      "iteration 300: loss 0.288663\n",
      "iteration 400: loss 0.204848\n",
      "iteration 500: loss 0.161951\n",
      "iteration 600: loss 0.135860\n",
      "iteration 700: loss 0.118218\n",
      "iteration 800: loss 0.105355\n",
      "iteration 900: loss 0.095443\n",
      "iteration 1000: loss 0.087490\n",
      "iteration 1100: loss 0.080901\n",
      "iteration 1200: loss 0.075286\n",
      "iteration 1300: loss 0.070396\n",
      "iteration 1400: loss 0.066070\n",
      "iteration 1500: loss 0.062201\n",
      "iteration 1600: loss 0.058705\n",
      "iteration 1700: loss 0.055526\n",
      "iteration 1800: loss 0.052621\n",
      "iteration 1900: loss 0.049954\n"
     ]
    }
   ],
   "source": [
    "hide_code\n",
    "D1 = 64 # dimensionality\n",
    "K1 = 10 # number of classes\n",
    "h1 = 512 # size of hidden layer\n",
    "\n",
    "W11 = 0.001 * np.random.randn(D1, h1)\n",
    "b11 = np.zeros((1, h1))\n",
    "W12 = 0.001 * np.random.randn(h1, K1)\n",
    "b12 = np.zeros((1, K1))\n",
    "\n",
    "# some hyperparameters\n",
    "step_size1 = 1e-2\n",
    "reg1 = 1e-4 # regularization strength\n",
    "\n",
    "# gradient descent loop\n",
    "num_examples1 = X.shape[0]\n",
    "\n",
    "for i in range(2000): \n",
    "    # evaluate class scores\n",
    "    hidden_layer1 = np.maximum(0, np.dot(X, W11) + b11) # ReLU activation\n",
    "    scores1 = np.dot(hidden_layer1, W12) + b12\n",
    "  \n",
    "    # compute the class probabilities\n",
    "    exp_scores1 = np.exp(scores1)\n",
    "    probs1 = exp_scores1 / np.sum(exp_scores1, axis=1, keepdims=True) \n",
    "  \n",
    "    # compute the loss: average cross-entropy loss and regularization\n",
    "    corect_logprobs1 = -np.log(probs1[range(num_examples1), y])\n",
    "    data_loss1 = np.sum(corect_logprobs1) / num_examples1\n",
    "    reg_loss1 = 0.5 * reg1 * np.sum(W11 * W11) + 0.5 * reg1 * np.sum(W12 * W12)\n",
    "    loss1 = data_loss1 + reg_loss1\n",
    "    if i % 100 == 0:\n",
    "        print (\"iteration %d: loss %f\" % (i, loss1))\n",
    "  \n",
    "    # compute the gradient on scores\n",
    "    dscores1 = probs1\n",
    "    dscores1[range(num_examples1), y] -= 1\n",
    "    dscores1 /= num_examples1\n",
    "  \n",
    "    # backpropate the gradient to the parameters\n",
    "    # first backprop into parameters W2 and b2\n",
    "    dW12 = np.dot(hidden_layer1.T, dscores1)\n",
    "    db12 = np.sum(dscores1, axis=0, keepdims=True)\n",
    "    # next backprop into hidden layer\n",
    "    dhidden1 = np.dot(dscores1, W12.T)\n",
    "    # backprop the ReLU non-linearity\n",
    "    dhidden1[hidden_layer1 <= 0] = 0\n",
    "    # finally into W,b\n",
    "    dW11 = np.dot(X.T, dhidden1)\n",
    "    db11 = np.sum(dhidden1, axis=0, keepdims=True)\n",
    "  \n",
    "    # add regularization gradient contribution\n",
    "    dW12 += reg1 * W12\n",
    "    dW11 += reg1 * W11\n",
    "  \n",
    "    # perform a parameter update\n",
    "    W11 += -step_size1 * dW11\n",
    "    b11 += -step_size1 * db11\n",
    "    W12 += -step_size1 * dW12\n",
    "    b12 += -step_size1 * db12"
   ]
  },
  {
   "cell_type": "code",
   "execution_count": 26,
   "metadata": {},
   "outputs": [
    {
     "name": "stdout",
     "output_type": "stream",
     "text": [
      "Digit dataset. Accuracy: 99.22\n"
     ]
    }
   ],
   "source": [
    "hide_code\n",
    "# evaluate training set accuracy\n",
    "hidden_layer1 = np.maximum(0, np.dot(X, W11) + b11)\n",
    "scores1 = np.dot(hidden_layer1, W12) + b12\n",
    "predicted_y = np.argmax(scores1, axis=1)\n",
    "print ('Digit dataset. Accuracy: %.2f' % (np.mean(predicted_y == y) * 100))"
   ]
  },
  {
   "cell_type": "code",
   "execution_count": 27,
   "metadata": {},
   "outputs": [
    {
     "name": "stdout",
     "output_type": "stream",
     "text": [
      "MNIST. Train dataset. Rows: 55000, columns: 784\n",
      "MNIST. Test dataset. Rows: 10000, columns: 784\n"
     ]
    }
   ],
   "source": [
    "hide_code\n",
    "print('MNIST. Train dataset. Rows: %d, columns: %d' % (train_images.shape[0], train_images.shape[1]))\n",
    "print('MNIST. Test dataset. Rows: %d, columns: %d' % (test_images.shape[0], test_images.shape[1]))"
   ]
  },
  {
   "cell_type": "code",
   "execution_count": 32,
   "metadata": {},
   "outputs": [
    {
     "name": "stdout",
     "output_type": "stream",
     "text": [
      "iteration 0: loss 2.302664\n",
      "iteration 100: loss 1.936405\n",
      "iteration 200: loss 0.736582\n",
      "iteration 300: loss 0.518479\n",
      "iteration 400: loss 0.442203\n",
      "iteration 500: loss 0.403756\n",
      "iteration 600: loss 0.379520\n",
      "iteration 700: loss 0.362102\n",
      "iteration 800: loss 0.348492\n",
      "iteration 900: loss 0.337218\n",
      "iteration 1000: loss 0.327489\n",
      "iteration 1100: loss 0.318856\n",
      "iteration 1200: loss 0.311044\n",
      "iteration 1300: loss 0.303847\n",
      "iteration 1400: loss 0.297087\n",
      "iteration 1500: loss 0.290683\n",
      "iteration 1600: loss 0.284568\n",
      "iteration 1700: loss 0.278780\n",
      "iteration 1800: loss 0.273274\n",
      "iteration 1900: loss 0.268048\n",
      "iteration 2000: loss 0.263103\n",
      "iteration 2100: loss 0.258416\n",
      "iteration 2200: loss 0.253953\n",
      "iteration 2300: loss 0.249729\n",
      "iteration 2400: loss 0.245717\n",
      "iteration 2500: loss 0.241895\n",
      "iteration 2600: loss 0.238261\n",
      "iteration 2700: loss 0.234798\n",
      "iteration 2800: loss 0.231507\n",
      "iteration 2900: loss 0.228378\n"
     ]
    }
   ],
   "source": [
    "hide_code\n",
    "D2 = 784 # dimensionality\n",
    "K2 = 10 # number of classes\n",
    "h2 = 196 # size of hidden layer\n",
    "\n",
    "W21 = 0.001 * np.random.randn(D2, h2)\n",
    "b21 = np.zeros((1, h2))\n",
    "W22 = 0.001 * np.random.randn(h2, K2)\n",
    "b22 = np.zeros((1, K2))\n",
    "\n",
    "# some hyperparameters\n",
    "step_size2 = 1e-1\n",
    "reg2 = 1e-3 # regularization strength\n",
    "\n",
    "# gradient descent loop\n",
    "num_examples2 = train_images.shape[0]\n",
    "\n",
    "for i in range(3000):  \n",
    "    # evaluate class scores\n",
    "    hidden_layer2 = np.maximum(0, np.dot(train_images, W21) + b21) # ReLU activation\n",
    "    scores2 = np.dot(hidden_layer2, W22) + b22\n",
    "  \n",
    "    # compute the class probabilities\n",
    "    exp_scores2 = np.exp(scores2)\n",
    "    probs2 = exp_scores2 / np.sum(exp_scores2, axis=1, keepdims=True)\n",
    "  \n",
    "    # compute the loss: average cross-entropy loss and regularization\n",
    "    corect_logprobs2 = -np.log(probs2[range(num_examples2), train_labels2[:,0]])\n",
    "    data_loss2 = np.sum(corect_logprobs2) / num_examples2\n",
    "    reg_loss2 = 0.5 * reg2 * np.sum(W21 * W21) + 0.5 * reg2 * np.sum(W22 * W22)\n",
    "    loss2 = data_loss2 + reg_loss2\n",
    "    if i % 100 == 0:\n",
    "        print (\"iteration %d: loss %f\" % (i, loss2))\n",
    "  \n",
    "    # compute the gradient on scores\n",
    "    dscores2 = probs2\n",
    "    dscores2[range(num_examples2), train_labels2[:,0]] -= 1\n",
    "    dscores2 /= num_examples2\n",
    "  \n",
    "    # backpropate the gradient to the parameters\n",
    "    # first backprop into parameters W2 and b2\n",
    "    dW22 = np.dot(hidden_layer2.T, dscores2)\n",
    "    db22 = np.sum(dscores2, axis=0, keepdims=True)\n",
    "    # next backprop into hidden layer\n",
    "    dhidden2 = np.dot(dscores2, W22.T)\n",
    "    # backprop the ReLU non-linearity\n",
    "    dhidden2[hidden_layer2 <= 0] = 0\n",
    "    # finally into W,b\n",
    "    dW21 = np.dot(train_images.T, dhidden2)\n",
    "    db21 = np.sum(dhidden2, axis=0, keepdims=True)\n",
    "  \n",
    "    # add regularization gradient contribution\n",
    "    dW22 += reg2 * W22\n",
    "    dW21 += reg2 * W21\n",
    "  \n",
    "    # perform a parameter update\n",
    "    W21 += -step_size2 * dW21\n",
    "    b21 += -step_size2 * db21\n",
    "    W22 += -step_size2 * dW22\n",
    "    b22 += -step_size2 * db22   "
   ]
  },
  {
   "cell_type": "code",
   "execution_count": 33,
   "metadata": {},
   "outputs": [
    {
     "name": "stdout",
     "output_type": "stream",
     "text": [
      "MNIST. Train accuracy: 95.11\n",
      "MNIST. Test accuracy: 94.92\n"
     ]
    }
   ],
   "source": [
    "hide_code\n",
    "# evaluate training set accuracy\n",
    "hidden_layer2 = np.maximum(0, np.dot(train_images, W21) + b21)\n",
    "scores2 = np.dot(hidden_layer2, W22) + b22\n",
    "predicted_train_labels = np.argmax(scores2, axis=1)\n",
    "print ('MNIST. Train accuracy: %.2f' % (np.mean(predicted_train_labels == train_labels2[:,0]) * 100))\n",
    "\n",
    "hidden_layer3 = np.maximum(0, np.dot(test_images, W21) + b21)\n",
    "scores3 = np.dot(hidden_layer3, W22) + b22\n",
    "predicted_test_labels = np.argmax(scores3, axis=1)\n",
    "print ('MNIST. Test accuracy: %.2f' % (np.mean(predicted_test_labels == test_labels2[:,0]) * 100))"
   ]
  },
  {
   "cell_type": "markdown",
   "metadata": {},
   "source": [
    "#### Model #3. Multi-layer Model. TensorFlow"
   ]
  },
  {
   "cell_type": "code",
   "execution_count": 34,
   "metadata": {
    "collapsed": true
   },
   "outputs": [],
   "source": [
    "hide_code\n",
    "image_size = 28\n",
    "num_labels = 10\n",
    "batch_size = 256\n",
    "hidden_nodes = 784\n",
    "parameter = 0.0005 \n",
    "dropout = 0.75\n",
    "\n",
    "graph = tf.Graph()\n",
    "with graph.as_default():\n",
    "\n",
    "    # Input data. For the training data, we use a placeholder that will be fed\n",
    "    # at run time with a training minibatch.\n",
    "    tf_train_dataset = tf.placeholder(tf.float32, shape=(batch_size, image_size * image_size))\n",
    "    tf_train_labels = tf.placeholder(tf.float32, shape=(batch_size, num_labels))\n",
    "    tf_test_dataset = tf.constant(test_images)\n",
    "\n",
    "    # Variables.\n",
    "    weights1 = tf.Variable(tf.truncated_normal([image_size * image_size, hidden_nodes], stddev=0.05))\n",
    "    weights2 = tf.Variable(tf.truncated_normal([hidden_nodes, hidden_nodes], stddev=0.05))\n",
    "    weights3 = tf.Variable(tf.truncated_normal([hidden_nodes, hidden_nodes], stddev=0.05))\n",
    "    weights4 = tf.Variable(tf.truncated_normal([hidden_nodes, hidden_nodes], stddev=0.05))\n",
    "    weights5 = tf.Variable(tf.truncated_normal([hidden_nodes, num_labels], stddev=0.05))\n",
    "    \n",
    "    biases1 = tf.Variable(tf.constant(0.05, shape=[hidden_nodes]))\n",
    "    biases2 = tf.Variable(tf.constant(0.05, shape=[hidden_nodes]))\n",
    "    biases3 = tf.Variable(tf.constant(0.05, shape=[hidden_nodes]))\n",
    "    biases4 = tf.Variable(tf.constant(0.05, shape=[hidden_nodes]))\n",
    "    biases5 = tf.Variable(tf.constant(0.05, shape=[num_labels]))\n",
    "    \n",
    "    # Training computation with Dropout.   \n",
    "    train_hidden1 = tf.nn.dropout(tf.nn.relu(tf.matmul(tf_train_dataset, weights1) + biases1), dropout)\n",
    "    train_hidden2 = tf.nn.dropout(tf.nn.relu(tf.matmul(train_hidden1, weights2) + biases2), dropout)\n",
    "    train_hidden3 = tf.nn.dropout(tf.nn.relu(tf.matmul(train_hidden2, weights3) + biases3), dropout)\n",
    "    train_hidden4 = tf.nn.dropout(tf.nn.relu(tf.matmul(train_hidden3, weights4) + biases4), dropout)   \n",
    "    train_logits = tf.matmul(train_hidden4, weights5) + biases5\n",
    "    \n",
    "    test_hidden1 = tf.nn.dropout(tf.nn.relu(tf.matmul(tf_test_dataset, weights1) + biases1), dropout)\n",
    "    test_hidden2 = tf.nn.dropout(tf.nn.relu(tf.matmul(test_hidden1, weights2) + biases2), dropout)\n",
    "    test_hidden3 = tf.nn.dropout(tf.nn.relu(tf.matmul(test_hidden2, weights3) + biases3), dropout)\n",
    "    test_hidden4 = tf.nn.dropout(tf.nn.relu(tf.matmul(test_hidden3, weights4) + biases4), dropout)\n",
    "    test_logits = tf.matmul(test_hidden4, weights5) + biases5\n",
    "    \n",
    "    loss = tf.reduce_mean(tf.nn.softmax_cross_entropy_with_logits(labels=tf_train_labels, logits=train_logits))\n",
    "    \n",
    "    # Regularization.\n",
    "    regularizers = tf.nn.l2_loss(weights1) + tf.nn.l2_loss(biases1) \\\n",
    "    + tf.nn.l2_loss(weights2) + tf.nn.l2_loss(biases2) \\\n",
    "    + tf.nn.l2_loss(weights3) + tf.nn.l2_loss(biases3) \\\n",
    "    + tf.nn.l2_loss(weights4) + tf.nn.l2_loss(biases4) \\\n",
    "    + tf.nn.l2_loss(weights5) + tf.nn.l2_loss(biases5) \n",
    "    \n",
    "    loss += parameter * regularizers    \n",
    "  \n",
    "    # Optimizer.\n",
    "    # Note: altering step size can lead to NaNs in matrices\n",
    "    optimizer = tf.train.GradientDescentOptimizer(0.05).minimize(loss)\n",
    "\n",
    "    # Predictions for the train and test sets.\n",
    "    train_prediction = tf.nn.softmax(train_logits)    \n",
    "    test_prediction = tf.nn.softmax(test_logits) "
   ]
  },
  {
   "cell_type": "code",
   "execution_count": 35,
   "metadata": {
    "collapsed": true
   },
   "outputs": [],
   "source": [
    "hide_code\n",
    "def accuracy(predictions, labels):\n",
    "    return (100.0 * np.sum(np.argmax(predictions, 1) == np.argmax(labels, 1)) / predictions.shape[0])\n",
    "\n",
    "def run_test(num_steps):\n",
    "\n",
    "    with tf.Session(graph=graph) as session:\n",
    "        tf.global_variables_initializer().run()\n",
    "        print(\"Initialized\")\n",
    "        for step in range(num_steps):\n",
    "            # Pick an offset within the training data, which has been randomized.\n",
    "            # Note: we could use better randomization across epochs.\n",
    "            offset = (step * batch_size) % (train_labels.shape[0] - batch_size)\n",
    "            # Generate a minibatch.\n",
    "            batch_data = train_images[offset:(offset + batch_size), :]\n",
    "            batch_labels = train_labels[offset:(offset + batch_size), :]\n",
    "            # Prepare a dictionary telling the session where to feed the minibatch.\n",
    "            # The key of the dictionary is the placeholder node of the graph to be fed,\n",
    "            # and the value is the numpy array to feed to it.\n",
    "            feed_dict = {tf_train_dataset : batch_data, tf_train_labels : batch_labels}\n",
    "            _, l, predictions = session.run([optimizer, loss, train_prediction], feed_dict=feed_dict)\n",
    "            if (step % 300 == 0):\n",
    "                print(\"Minibatch loss at step %d: %f\" % (step, l))\n",
    "                print(\"Minibatch accuracy: %.1f%%\" % accuracy(predictions, batch_labels))\n",
    "        print(\"Test accuracy: %.1f%%\" % accuracy(test_prediction.eval(), test_labels))"
   ]
  },
  {
   "cell_type": "code",
   "execution_count": 36,
   "metadata": {},
   "outputs": [
    {
     "name": "stdout",
     "output_type": "stream",
     "text": [
      "Initialized\n",
      "Minibatch loss at step 0: 3.633366\n",
      "Minibatch accuracy: 10.9%\n",
      "Minibatch loss at step 300: 1.608208\n",
      "Minibatch accuracy: 87.1%\n",
      "Minibatch loss at step 600: 1.453884\n",
      "Minibatch accuracy: 91.4%\n",
      "Minibatch loss at step 900: 1.447759\n",
      "Minibatch accuracy: 92.6%\n",
      "Minibatch loss at step 1200: 1.345180\n",
      "Minibatch accuracy: 93.8%\n",
      "Minibatch loss at step 1500: 1.259343\n",
      "Minibatch accuracy: 96.1%\n",
      "Minibatch loss at step 1800: 1.168974\n",
      "Minibatch accuracy: 98.8%\n",
      "Minibatch loss at step 2100: 1.184817\n",
      "Minibatch accuracy: 96.1%\n",
      "Minibatch loss at step 2400: 1.151822\n",
      "Minibatch accuracy: 96.9%\n",
      "Minibatch loss at step 2700: 1.237523\n",
      "Minibatch accuracy: 95.3%\n",
      "Minibatch loss at step 3000: 1.135517\n",
      "Minibatch accuracy: 98.4%\n",
      "Test accuracy: 96.0%\n"
     ]
    }
   ],
   "source": [
    "hide_code\n",
    "run_test(3001)"
   ]
  },
  {
   "cell_type": "markdown",
   "metadata": {},
   "source": [
    "#### Model #4. Multi-layer Perceptron. Keras"
   ]
  },
  {
   "cell_type": "code",
   "execution_count": 41,
   "metadata": {},
   "outputs": [
    {
     "data": {
      "text/plain": [
       "'tensorflow'"
      ]
     },
     "execution_count": 41,
     "metadata": {},
     "output_type": "execute_result"
    }
   ],
   "source": [
    "hide_code\n",
    "ks.backend.backend()"
   ]
  },
  {
   "cell_type": "code",
   "execution_count": 44,
   "metadata": {},
   "outputs": [
    {
     "name": "stdout",
     "output_type": "stream",
     "text": [
      "Epoch 00000: val_loss improved from inf to 0.18162, saving model to weights.best.mlp.hdf5\n",
      "Epoch 00001: val_loss improved from 0.18162 to 0.12364, saving model to weights.best.mlp.hdf5\n",
      "Epoch 00002: val_loss improved from 0.12364 to 0.09678, saving model to weights.best.mlp.hdf5\n",
      "Epoch 00003: val_loss improved from 0.09678 to 0.08134, saving model to weights.best.mlp.hdf5\n",
      "Epoch 00004: val_loss did not improve\n",
      "Epoch 00005: val_loss improved from 0.08134 to 0.07016, saving model to weights.best.mlp.hdf5\n",
      "Epoch 00006: val_loss did not improve\n",
      "Epoch 00007: val_loss improved from 0.07016 to 0.06824, saving model to weights.best.mlp.hdf5\n",
      "Epoch 00008: val_loss improved from 0.06824 to 0.06486, saving model to weights.best.mlp.hdf5\n",
      "Epoch 00009: val_loss improved from 0.06486 to 0.06289, saving model to weights.best.mlp.hdf5\n",
      "Epoch 00010: val_loss did not improve\n",
      "Epoch 00011: val_loss did not improve\n",
      "Epoch 00012: val_loss improved from 0.06289 to 0.06111, saving model to weights.best.mlp.hdf5\n",
      "Epoch 00013: val_loss did not improve\n",
      "Epoch 00014: val_loss did not improve\n",
      "Epoch 00015: val_loss did not improve\n",
      "Epoch 00016: val_loss improved from 0.06111 to 0.06049, saving model to weights.best.mlp.hdf5\n",
      "Epoch 00017: val_loss did not improve\n",
      "Epoch 00018: val_loss did not improve\n",
      "Epoch 00019: val_loss improved from 0.06049 to 0.05652, saving model to weights.best.mlp.hdf5\n"
     ]
    }
   ],
   "source": [
    "hide_code\n",
    "def mlp_model():\n",
    "    model = Sequential()\n",
    "\n",
    "    model.add(Dense(196, activation='relu', input_dim=784))\n",
    "    model.add(Dropout(0.1))\n",
    "\n",
    "    model.add(Dense(784, activation='relu'))\n",
    "    model.add(Dropout(0.1))\n",
    "\n",
    "    model.add(Dense(10, activation='softmax'))\n",
    "\n",
    "    sgd = SGD(lr=0.01, decay=1e-6, momentum=0.9, nesterov=True)\n",
    "\n",
    "    model.compile(loss='categorical_crossentropy', optimizer=sgd, metrics=['accuracy'])\n",
    "    return model\n",
    "\n",
    "mlp_model = mlp_model()\n",
    "mlp_checkpointer = ModelCheckpoint(filepath='weights.best.mlp.hdf5', \n",
    "                                   verbose=2, save_best_only=True)\n",
    "mlp_model.fit(train_images, train_labels, \n",
    "              validation_data=(test_images, test_labels),\n",
    "              epochs=20, batch_size=64, verbose=0, callbacks=[mlp_checkpointer]);"
   ]
  },
  {
   "cell_type": "code",
   "execution_count": 50,
   "metadata": {},
   "outputs": [
    {
     "name": "stdout",
     "output_type": "stream",
     "text": [
      "\n",
      "MLP Model Scores:  [0.056523545805677713, 0.98309999999999997]\n",
      "MLP Model Error: 1.69%\n",
      "_________________________________________________________________\n",
      "Layer (type)                 Output Shape              Param #   \n",
      "=================================================================\n",
      "dense_4 (Dense)              (None, 196)               153860    \n",
      "_________________________________________________________________\n",
      "dropout_3 (Dropout)          (None, 196)               0         \n",
      "_________________________________________________________________\n",
      "dense_5 (Dense)              (None, 784)               154448    \n",
      "_________________________________________________________________\n",
      "dropout_4 (Dropout)          (None, 784)               0         \n",
      "_________________________________________________________________\n",
      "dense_6 (Dense)              (None, 10)                7850      \n",
      "=================================================================\n",
      "Total params: 316,158\n",
      "Trainable params: 316,158\n",
      "Non-trainable params: 0\n",
      "_________________________________________________________________\n",
      "None\n"
     ]
    }
   ],
   "source": [
    "hide_code\n",
    "mlp_model.load_weights('weights.best.mlp.hdf5')\n",
    "mlp_scores = mlp_model.evaluate(test_images, test_labels, verbose=0)\n",
    "print(\"\\nMLP Model Scores: \", (mlp_scores))\n",
    "print(\"MLP Model Error: %.2f%%\" % (100 - mlp_scores[1] * 100))\n",
    "print(mlp_model.summary())"
   ]
  },
  {
   "cell_type": "markdown",
   "metadata": {},
   "source": [
    "#### Model #5. Convolutional Neural Network. Keras"
   ]
  },
  {
   "cell_type": "code",
   "execution_count": 46,
   "metadata": {
    "collapsed": true
   },
   "outputs": [],
   "source": [
    "hide_code\n",
    "ks.backend.set_image_dim_ordering('th')"
   ]
  },
  {
   "cell_type": "code",
   "execution_count": 47,
   "metadata": {},
   "outputs": [
    {
     "name": "stdout",
     "output_type": "stream",
     "text": [
      "Epoch 00000: val_loss improved from inf to 0.06879, saving model to weights.best.cnn.hdf5\n",
      "Epoch 00001: val_loss improved from 0.06879 to 0.03953, saving model to weights.best.cnn.hdf5\n",
      "Epoch 00002: val_loss did not improve\n",
      "Epoch 00003: val_loss improved from 0.03953 to 0.03142, saving model to weights.best.cnn.hdf5\n",
      "Epoch 00004: val_loss did not improve\n",
      "Epoch 00005: val_loss did not improve\n",
      "Epoch 00006: val_loss improved from 0.03142 to 0.02665, saving model to weights.best.cnn.hdf5\n",
      "Epoch 00007: val_loss did not improve\n",
      "Epoch 00008: val_loss did not improve\n",
      "Epoch 00009: val_loss did not improve\n",
      "Epoch 00010: val_loss did not improve\n",
      "Epoch 00011: val_loss did not improve\n",
      "Epoch 00012: val_loss improved from 0.02665 to 0.02628, saving model to weights.best.cnn.hdf5\n",
      "Epoch 00013: val_loss improved from 0.02628 to 0.02488, saving model to weights.best.cnn.hdf5\n",
      "Epoch 00014: val_loss improved from 0.02488 to 0.02231, saving model to weights.best.cnn.hdf5\n",
      "Epoch 00015: val_loss did not improve\n",
      "Epoch 00016: val_loss did not improve\n",
      "Epoch 00017: val_loss did not improve\n",
      "Epoch 00018: val_loss did not improve\n",
      "Epoch 00019: val_loss did not improve\n"
     ]
    }
   ],
   "source": [
    "hide_code\n",
    "def cnn_model():\n",
    "    model = Sequential()\n",
    "    \n",
    "    model.add(Conv2D(56, (7, 7), input_shape=(1, 28, 28), activation='relu'))\n",
    "    model.add(MaxPooling2D(pool_size=(2, 2)))\n",
    "    \n",
    "    model.add(Conv2D(28, (3, 3), activation='relu'))\n",
    "    model.add(MaxPooling2D(pool_size=(2, 2)))\n",
    "    \n",
    "    model.add(Dropout(0.1))\n",
    "    model.add(Flatten())\n",
    "    \n",
    "    model.add(Dense(128, activation='relu'))\n",
    "    model.add(Dense(64, activation='relu'))\n",
    "    \n",
    "    model.add(Dense(10, activation='softmax'))\n",
    "\n",
    "    model.compile(loss='categorical_crossentropy', optimizer='adam', metrics=['accuracy'])\n",
    "    return model\n",
    "\n",
    "cnn_model = cnn_model()\n",
    "cnn_checkpointer = ModelCheckpoint(filepath='weights.best.cnn.hdf5', \n",
    "                                   verbose=2, save_best_only=True)\n",
    "cnn_model.fit(train_images_n28, train_labels, \n",
    "              validation_data=(test_images_n28, test_labels), \n",
    "              epochs=20, batch_size=128, verbose=0, callbacks=[cnn_checkpointer]);"
   ]
  },
  {
   "cell_type": "code",
   "execution_count": 49,
   "metadata": {},
   "outputs": [
    {
     "name": "stdout",
     "output_type": "stream",
     "text": [
      "CNN Model. Scores:  [0.02230971636336708, 0.99280000000000002]\n",
      "CNN Model. Error: 0.72%\n",
      "_________________________________________________________________\n",
      "Layer (type)                 Output Shape              Param #   \n",
      "=================================================================\n",
      "conv2d_1 (Conv2D)            (None, 56, 22, 22)        2800      \n",
      "_________________________________________________________________\n",
      "max_pooling2d_1 (MaxPooling2 (None, 56, 11, 11)        0         \n",
      "_________________________________________________________________\n",
      "conv2d_2 (Conv2D)            (None, 28, 9, 9)          14140     \n",
      "_________________________________________________________________\n",
      "max_pooling2d_2 (MaxPooling2 (None, 28, 4, 4)          0         \n",
      "_________________________________________________________________\n",
      "dropout_5 (Dropout)          (None, 28, 4, 4)          0         \n",
      "_________________________________________________________________\n",
      "flatten_1 (Flatten)          (None, 448)               0         \n",
      "_________________________________________________________________\n",
      "dense_7 (Dense)              (None, 128)               57472     \n",
      "_________________________________________________________________\n",
      "dense_8 (Dense)              (None, 64)                8256      \n",
      "_________________________________________________________________\n",
      "dense_9 (Dense)              (None, 10)                650       \n",
      "=================================================================\n",
      "Total params: 83,318\n",
      "Trainable params: 83,318\n",
      "Non-trainable params: 0\n",
      "_________________________________________________________________\n",
      "None\n"
     ]
    }
   ],
   "source": [
    "hide_code\n",
    "cnn_model.load_weights('weights.best.cnn.hdf5')\n",
    "cnn_scores = cnn_model.evaluate(test_images_n28, test_labels, verbose=0)\n",
    "\n",
    "print(\"CNN Model. Scores: \" , (cnn_scores))\n",
    "print(\"CNN Model. Error: %.2f%%\" % (100 - cnn_scores[1]*100))\n",
    "print(cnn_model.summary())"
   ]
  },
  {
   "cell_type": "markdown",
   "metadata": {},
   "source": [
    "#### Model #6. MLPClassifier. Scikit-learn"
   ]
  },
  {
   "cell_type": "code",
   "execution_count": 51,
   "metadata": {},
   "outputs": [
    {
     "name": "stdout",
     "output_type": "stream",
     "text": [
      "Iteration 1, loss = 0.58916377\n",
      "Iteration 2, loss = 0.25701338\n",
      "Iteration 3, loss = 0.18989721\n",
      "Iteration 4, loss = 0.15438474\n",
      "Iteration 5, loss = 0.13034669\n",
      "Iteration 6, loss = 0.11081976\n",
      "Iteration 7, loss = 0.09523089\n",
      "Iteration 8, loss = 0.08319594\n",
      "Iteration 9, loss = 0.07444652\n",
      "Iteration 10, loss = 0.06379925\n",
      "Iteration 11, loss = 0.05671258\n",
      "Iteration 12, loss = 0.04889703\n",
      "Iteration 13, loss = 0.04214241\n",
      "Iteration 14, loss = 0.03680079\n",
      "Iteration 15, loss = 0.03191514\n",
      "Iteration 16, loss = 0.02813514\n",
      "Iteration 17, loss = 0.02510506\n",
      "Iteration 18, loss = 0.02122492\n",
      "Iteration 19, loss = 0.01857865\n",
      "Iteration 20, loss = 0.01645926\n",
      "Iteration 21, loss = 0.01486188\n",
      "Iteration 22, loss = 0.01316782\n",
      "Iteration 23, loss = 0.01200223\n",
      "Iteration 24, loss = 0.01049050\n",
      "Iteration 25, loss = 0.00927723\n",
      "Iteration 26, loss = 0.00861996\n",
      "Iteration 27, loss = 0.00803876\n",
      "Iteration 28, loss = 0.00736086\n",
      "Iteration 29, loss = 0.00668445\n",
      "Iteration 30, loss = 0.00632973\n",
      "Iteration 31, loss = 0.00573149\n",
      "Iteration 32, loss = 0.00558393\n",
      "Iteration 33, loss = 0.00520543\n",
      "Iteration 34, loss = 0.00495998\n",
      "Iteration 35, loss = 0.00469061\n",
      "Iteration 36, loss = 0.00455496\n",
      "Iteration 37, loss = 0.00429393\n",
      "Iteration 38, loss = 0.00412898\n",
      "Iteration 39, loss = 0.00390427\n",
      "Iteration 40, loss = 0.00382620\n",
      "Iteration 41, loss = 0.00367206\n",
      "Iteration 42, loss = 0.00357147\n",
      "Iteration 43, loss = 0.00343730\n",
      "Iteration 44, loss = 0.00331110\n",
      "Iteration 45, loss = 0.00322579\n",
      "Iteration 46, loss = 0.00314929\n",
      "Iteration 47, loss = 0.00305975\n",
      "Training loss did not improve more than tol=0.000100 for two consecutive epochs. Stopping.\n"
     ]
    }
   ],
   "source": [
    "hide_code\n",
    "clf = MLPClassifier(hidden_layer_sizes=(196,), max_iter=50, alpha=1e-4,\n",
    "                     solver='sgd', verbose=10, tol=1e-4, random_state=1,\n",
    "                     learning_rate_init=.1)\n",
    "clf.fit(train_images, train_labels);"
   ]
  },
  {
   "cell_type": "code",
   "execution_count": 52,
   "metadata": {},
   "outputs": [
    {
     "name": "stdout",
     "output_type": "stream",
     "text": [
      "MNIST. MLP Classifier. Train score: 1.000000\n",
      "MNIST. MLP Classifier. Test score: 0.964100\n"
     ]
    }
   ],
   "source": [
    "hide_code\n",
    "train_predict = clf.predict(train_images)\n",
    "test_predict = clf.predict(test_images)\n",
    "print(\"MNIST. MLP Classifier. Train score: %f\" % clf.score(train_images, train_labels))\n",
    "print(\"MNIST. MLP Classifier. Test score: %f\" % clf.score(test_images, test_labels))"
   ]
  },
  {
   "cell_type": "code",
   "execution_count": 54,
   "metadata": {},
   "outputs": [
    {
     "name": "stdout",
     "output_type": "stream",
     "text": [
      "Visualization of MLP Classifier weights on MNIST\n"
     ]
    },
    {
     "data": {
      "image/png": "[encoded data removed]",
      "text/plain": [
       "<matplotlib.figure.Figure at 0x16aedb2e8>"
      ]
     },
     "metadata": {},
     "output_type": "display_data"
    }
   ],
   "source": [
    "hide_code\n",
    "print('Visualization of MLP Classifier weights on MNIST')\n",
    "fig, axes = plt.subplots(nrows=2, ncols=8, sharex=True, sharey=True, figsize=(18, 4.5))\n",
    "\n",
    "vmin, vmax = clf.coefs_[0].min(), clf.coefs_[0].max()\n",
    "for coef, ax in zip(clf.coefs_[0].T, axes.ravel()):\n",
    "    ax.matshow(coef.reshape(28, 28), cmap=plt.cm.binary, vmin=0.6*vmin, vmax=0.6*vmax)\n",
    "    ax.set_xticks(())\n",
    "    ax.set_yticks(())"
   ]
  },
  {
   "cell_type": "markdown",
   "metadata": {},
   "source": [
    "### Training the Models Using Synthetic Datasets"
   ]
  },
  {
   "cell_type": "markdown",
   "metadata": {},
   "source": [
    "#### Synthetic data #3 generated by concatenating character images MNIST"
   ]
  },
  {
   "cell_type": "code",
   "execution_count": 65,
   "metadata": {},
   "outputs": [
    {
     "name": "stdout",
     "output_type": "stream",
     "text": [
      "Epoch 00000: val_loss improved from inf to 0.47408, saving model to weights.best.syn3_cnn.hdf5\n",
      "Epoch 00001: val_loss improved from 0.47408 to 0.16927, saving model to weights.best.syn3_cnn.hdf5\n",
      "Epoch 00002: val_loss improved from 0.16927 to 0.11986, saving model to weights.best.syn3_cnn.hdf5\n",
      "Epoch 00003: val_loss improved from 0.11986 to 0.10832, saving model to weights.best.syn3_cnn.hdf5\n",
      "Epoch 00004: val_loss improved from 0.10832 to 0.09518, saving model to weights.best.syn3_cnn.hdf5\n",
      "Epoch 00005: val_loss improved from 0.09518 to 0.08339, saving model to weights.best.syn3_cnn.hdf5\n",
      "Epoch 00006: val_loss improved from 0.08339 to 0.07879, saving model to weights.best.syn3_cnn.hdf5\n",
      "Epoch 00007: val_loss improved from 0.07879 to 0.07480, saving model to weights.best.syn3_cnn.hdf5\n",
      "Epoch 00008: val_loss improved from 0.07480 to 0.06802, saving model to weights.best.syn3_cnn.hdf5\n",
      "Epoch 00009: val_loss improved from 0.06802 to 0.06046, saving model to weights.best.syn3_cnn.hdf5\n"
     ]
    }
   ],
   "source": [
    "hide_code\n",
    "def syn3_cnn_model():    \n",
    "    model_input = Input(shape=(1, 56, 56))    \n",
    "    x = BatchNormalization()(model_input)\n",
    "    \n",
    "    x = Conv2D(56, (3, 3), activation='relu')(x)\n",
    "    x = MaxPooling2D(strides=(2, 2))(x)\n",
    "    x = Dropout(0.25)(x)\n",
    "    \n",
    "    x = Conv2D(104, (3, 3), activation='relu')(x)\n",
    "    x = MaxPooling2D(strides=(2, 2))(x)\n",
    "    x = Dropout(0.25)(x)\n",
    "    \n",
    "    x = Flatten()(x)\n",
    "    \n",
    "    x = Dense(208, activation='relu')(x)\n",
    "    x = Dropout(0.5)(x)\n",
    "    \n",
    "    y1 = Dense(10, activation='softmax')(x)\n",
    "    y2 = Dense(10, activation='softmax')(x)\n",
    "    \n",
    "    model = Model(input=model_input, output=[y1, y2])\n",
    "\n",
    "    model.compile(loss='categorical_crossentropy', optimizer='adam', metrics=['accuracy'])\n",
    "    return model\n",
    "\n",
    "syn3_cnn_model = syn3_cnn_model()\n",
    "syn3_cnn_checkpointer = ModelCheckpoint(filepath='weights.best.syn3_cnn.hdf5', \n",
    "                                        verbose=2, save_best_only=True)\n",
    "syn3_cnn_model.fit(train_images_n56, [train_labels56_cat1, train_labels56_cat2], \n",
    "                   validation_data=(test_images_n56, [test_labels56_cat1, test_labels56_cat2]), \n",
    "                   epochs=10, batch_size=128, verbose=0, callbacks=[syn3_cnn_checkpointer]);"
   ]
  },
  {
   "cell_type": "code",
   "execution_count": 66,
   "metadata": {},
   "outputs": [
    {
     "name": "stdout",
     "output_type": "stream",
     "text": [
      "CNN. Synthetic Data #3\n",
      "Scores:  [0.060461320305988192, 0.027531224164180457, 0.032930095807509496, 0.99099999999999999, 0.98960000000000004]\n",
      "First digit. Accuracy: 99.10%\n",
      "Second digit. Accuracy: 98.96%\n",
      "____________________________________________________________________________________________________\n",
      "Layer (type)                     Output Shape          Param #     Connected to                     \n",
      "====================================================================================================\n",
      "input_4 (InputLayer)             (None, 1, 56, 56)     0                                            \n",
      "____________________________________________________________________________________________________\n",
      "batch_normalization_4 (BatchNorm (None, 1, 56, 56)     224         input_4[0][0]                    \n",
      "____________________________________________________________________________________________________\n",
      "conv2d_6 (Conv2D)                (None, 56, 54, 54)    560         batch_normalization_4[0][0]      \n",
      "____________________________________________________________________________________________________\n",
      "max_pooling2d_5 (MaxPooling2D)   (None, 56, 27, 27)    0           conv2d_6[0][0]                   \n",
      "____________________________________________________________________________________________________\n",
      "dropout_6 (Dropout)              (None, 56, 27, 27)    0           max_pooling2d_5[0][0]            \n",
      "____________________________________________________________________________________________________\n",
      "conv2d_7 (Conv2D)                (None, 104, 25, 25)   52520       dropout_6[0][0]                  \n",
      "____________________________________________________________________________________________________\n",
      "max_pooling2d_6 (MaxPooling2D)   (None, 104, 12, 12)   0           conv2d_7[0][0]                   \n",
      "____________________________________________________________________________________________________\n",
      "dropout_7 (Dropout)              (None, 104, 12, 12)   0           max_pooling2d_6[0][0]            \n",
      "____________________________________________________________________________________________________\n",
      "flatten_2 (Flatten)              (None, 14976)         0           dropout_7[0][0]                  \n",
      "____________________________________________________________________________________________________\n",
      "dense_10 (Dense)                 (None, 208)           3115216     flatten_2[0][0]                  \n",
      "____________________________________________________________________________________________________\n",
      "dropout_8 (Dropout)              (None, 208)           0           dense_10[0][0]                   \n",
      "____________________________________________________________________________________________________\n",
      "dense_11 (Dense)                 (None, 10)            2090        dropout_8[0][0]                  \n",
      "____________________________________________________________________________________________________\n",
      "dense_12 (Dense)                 (None, 10)            2090        dropout_8[0][0]                  \n",
      "====================================================================================================\n",
      "Total params: 3,172,700\n",
      "Trainable params: 3,172,588\n",
      "Non-trainable params: 112\n",
      "____________________________________________________________________________________________________\n",
      "None\n",
      "\n",
      "Average Accuracy: 99.03%\n"
     ]
    }
   ],
   "source": [
    "hide_code\n",
    "syn3_cnn_model.load_weights('weights.best.syn3_cnn.hdf5')\n",
    "syn3_cnn_scores = syn3_cnn_model.evaluate(test_images_n56, \n",
    "                                          [test_labels56_cat1, test_labels56_cat2], \n",
    "                                          verbose=0)\n",
    "print(\"CNN. Synthetic Data #3\")\n",
    "print(\"Scores: \" , (syn3_cnn_scores))\n",
    "print(\"First digit. Accuracy: %.2f%%\" % (syn3_cnn_scores[3]*100))\n",
    "print(\"Second digit. Accuracy: %.2f%%\" % (syn3_cnn_scores[4]*100))\n",
    "\n",
    "print(syn3_cnn_model.summary())\n",
    "\n",
    "syn3_avg_accuracy = sum([syn3_cnn_scores[i] for i in range(3, 5)])/2\n",
    "print(\"\\nAverage Accuracy: %.2f%%\" % (syn3_avg_accuracy*100))"
   ]
  },
  {
   "cell_type": "markdown",
   "metadata": {},
   "source": [
    "#### Synthetic data #4 generated by concatenating and rotating character images MNIST"
   ]
  },
  {
   "cell_type": "code",
   "execution_count": 73,
   "metadata": {},
   "outputs": [
    {
     "name": "stdout",
     "output_type": "stream",
     "text": [
      "Epoch 00000: val_loss improved from inf to 2.27583, saving model to weights.best.syn4_cnn.hdf5\n",
      "Epoch 00001: val_loss improved from 2.27583 to 0.75202, saving model to weights.best.syn4_cnn.hdf5\n",
      "Epoch 00002: val_loss improved from 0.75202 to 0.53179, saving model to weights.best.syn4_cnn.hdf5\n",
      "Epoch 00003: val_loss improved from 0.53179 to 0.40458, saving model to weights.best.syn4_cnn.hdf5\n",
      "Epoch 00004: val_loss improved from 0.40458 to 0.38451, saving model to weights.best.syn4_cnn.hdf5\n",
      "Epoch 00005: val_loss improved from 0.38451 to 0.35048, saving model to weights.best.syn4_cnn.hdf5\n",
      "Epoch 00006: val_loss improved from 0.35048 to 0.32545, saving model to weights.best.syn4_cnn.hdf5\n",
      "Epoch 00007: val_loss improved from 0.32545 to 0.32143, saving model to weights.best.syn4_cnn.hdf5\n",
      "Epoch 00008: val_loss improved from 0.32143 to 0.29785, saving model to weights.best.syn4_cnn.hdf5\n",
      "Epoch 00009: val_loss improved from 0.29785 to 0.27466, saving model to weights.best.syn4_cnn.hdf5\n",
      "Epoch 00010: val_loss did not improve\n",
      "Epoch 00011: val_loss did not improve\n",
      "Epoch 00012: val_loss did not improve\n",
      "Epoch 00013: val_loss did not improve\n",
      "Epoch 00014: val_loss did not improve\n",
      "Epoch 00015: val_loss did not improve\n",
      "Epoch 00016: val_loss did not improve\n",
      "Epoch 00017: val_loss improved from 0.27466 to 0.26883, saving model to weights.best.syn4_cnn.hdf5\n",
      "Epoch 00018: val_loss did not improve\n",
      "Epoch 00019: val_loss did not improve\n"
     ]
    }
   ],
   "source": [
    "hide_code\n",
    "def syn4_cnn_model():    \n",
    "    model_input = Input(shape=(1, 28, 140))   \n",
    "    x = BatchNormalization()(model_input)\n",
    "    \n",
    "    x = Conv2D(28, kernel_size=(3, 3), activation='relu')(x)\n",
    "    x = MaxPooling2D(pool_size=(2, 2))(x)\n",
    "    \n",
    "    x = Conv2D(28, kernel_size=(3, 3), activation='relu')(x)\n",
    "    x = MaxPooling2D(pool_size=(2, 2))(x)\n",
    "    \n",
    "    x = Dropout(0.2)(x)\n",
    "    \n",
    "    x = Conv2D(56, kernel_size=(3, 3), activation='relu')(x)\n",
    "    x = Conv2D(56, kernel_size=(3, 3), activation='relu')(x)\n",
    "    \n",
    "    x = Dropout(0.2)(x)\n",
    "              \n",
    "    x = Flatten()(x)\n",
    "    \n",
    "    x = Dense(784, activation='relu')(x)\n",
    "    x = Dropout(0.4)(x)\n",
    "    \n",
    "    y1 = Dense(11, activation='softmax')(x)\n",
    "    y2 = Dense(11, activation='softmax')(x)\n",
    "    y3 = Dense(11, activation='softmax')(x)\n",
    "    y4 = Dense(11, activation='softmax')(x)\n",
    "    y5 = Dense(11, activation='softmax')(x)\n",
    "    \n",
    "    model = Model(input=model_input, output=[y1, y2, y3, y4, y5])\n",
    "\n",
    "    model.compile(loss='categorical_crossentropy', optimizer='adam', metrics=['accuracy'])\n",
    "    return model\n",
    "\n",
    "syn4_cnn_model = syn4_cnn_model()\n",
    "syn4_cnn_checkpointer = ModelCheckpoint(filepath='weights.best.syn4_cnn.hdf5', \n",
    "                                        verbose=2, save_best_only=True)\n",
    "syn4_cnn_model.fit(X_train, y_train_cat_list, \n",
    "                   validation_data=(X_test, y_test_cat_list), \n",
    "                   epochs=20, batch_size=128, verbose=0, callbacks=[syn4_cnn_checkpointer]);"
   ]
  },
  {
   "cell_type": "code",
   "execution_count": 74,
   "metadata": {},
   "outputs": [
    {
     "name": "stdout",
     "output_type": "stream",
     "text": [
      "CNN. Synthetic Data #4\n",
      "Scores:  [0.26882896312719085, 0.019526977618821034, 0.036307981134232954, 0.084684391122098357, 0.052093008615097504, 0.076216603154821413, 0.99437299035369775, 0.98995176829709119, 0.97789389067524113, 0.9863344051446945, 0.98030546623794212]\n",
      "First digit. Accuracy: 99.44%\n",
      "Second digit. Accuracy: 99.00%\n",
      "Third digit. Accuracy: 97.79%\n",
      "Fourth digit. Accuracy: 98.63%\n",
      "Fifth digit. Accuracy: 98.03%\n",
      "____________________________________________________________________________________________________\n",
      "Layer (type)                     Output Shape          Param #     Connected to                     \n",
      "====================================================================================================\n",
      "input_6 (InputLayer)             (None, 1, 28, 140)    0                                            \n",
      "____________________________________________________________________________________________________\n",
      "batch_normalization_6 (BatchNorm (None, 1, 28, 140)    560         input_6[0][0]                    \n",
      "____________________________________________________________________________________________________\n",
      "conv2d_12 (Conv2D)               (None, 28, 26, 138)   280         batch_normalization_6[0][0]      \n",
      "____________________________________________________________________________________________________\n",
      "max_pooling2d_9 (MaxPooling2D)   (None, 28, 13, 69)    0           conv2d_12[0][0]                  \n",
      "____________________________________________________________________________________________________\n",
      "conv2d_13 (Conv2D)               (None, 28, 11, 67)    7084        max_pooling2d_9[0][0]            \n",
      "____________________________________________________________________________________________________\n",
      "max_pooling2d_10 (MaxPooling2D)  (None, 28, 5, 33)     0           conv2d_13[0][0]                  \n",
      "____________________________________________________________________________________________________\n",
      "dropout_12 (Dropout)             (None, 28, 5, 33)     0           max_pooling2d_10[0][0]           \n",
      "____________________________________________________________________________________________________\n",
      "conv2d_14 (Conv2D)               (None, 56, 3, 31)     14168       dropout_12[0][0]                 \n",
      "____________________________________________________________________________________________________\n",
      "conv2d_15 (Conv2D)               (None, 56, 1, 29)     28280       conv2d_14[0][0]                  \n",
      "____________________________________________________________________________________________________\n",
      "dropout_13 (Dropout)             (None, 56, 1, 29)     0           conv2d_15[0][0]                  \n",
      "____________________________________________________________________________________________________\n",
      "flatten_4 (Flatten)              (None, 1624)          0           dropout_13[0][0]                 \n",
      "____________________________________________________________________________________________________\n",
      "dense_19 (Dense)                 (None, 784)           1274000     flatten_4[0][0]                  \n",
      "____________________________________________________________________________________________________\n",
      "dropout_14 (Dropout)             (None, 784)           0           dense_19[0][0]                   \n",
      "____________________________________________________________________________________________________\n",
      "dense_20 (Dense)                 (None, 11)            8635        dropout_14[0][0]                 \n",
      "____________________________________________________________________________________________________\n",
      "dense_21 (Dense)                 (None, 11)            8635        dropout_14[0][0]                 \n",
      "____________________________________________________________________________________________________\n",
      "dense_22 (Dense)                 (None, 11)            8635        dropout_14[0][0]                 \n",
      "____________________________________________________________________________________________________\n",
      "dense_23 (Dense)                 (None, 11)            8635        dropout_14[0][0]                 \n",
      "____________________________________________________________________________________________________\n",
      "dense_24 (Dense)                 (None, 11)            8635        dropout_14[0][0]                 \n",
      "====================================================================================================\n",
      "Total params: 1,367,547\n",
      "Trainable params: 1,367,267\n",
      "Non-trainable params: 280\n",
      "____________________________________________________________________________________________________\n",
      "None\n",
      "Average Accuracy: 98.58%\n"
     ]
    }
   ],
   "source": [
    "hide_code\n",
    "syn4_cnn_model.load_weights('weights.best.syn4_cnn.hdf5')\n",
    "syn4_cnn_scores = syn4_cnn_model.evaluate(X_test, y_test_cat_list, verbose=0)\n",
    "\n",
    "print(\"CNN. Synthetic Data #4\")\n",
    "print(\"Scores: \" , (syn4_cnn_scores))\n",
    "print(\"First digit. Accuracy: %.2f%%\" % (syn4_cnn_scores[6]*100))\n",
    "print(\"Second digit. Accuracy: %.2f%%\" % (syn4_cnn_scores[7]*100))\n",
    "print(\"Third digit. Accuracy: %.2f%%\" % (syn4_cnn_scores[8]*100))\n",
    "print(\"Fourth digit. Accuracy: %.2f%%\" % (syn4_cnn_scores[9]*100))\n",
    "print(\"Fifth digit. Accuracy: %.2f%%\" % (syn4_cnn_scores[10]*100))\n",
    "\n",
    "print(syn4_cnn_model.summary())\n",
    "\n",
    "syn4_avg_accuracy = sum([syn4_cnn_scores[i] for i in range(6, 11)])/5\n",
    "print(\"Average Accuracy: %.2f%%\" % (syn4_avg_accuracy*100))"
   ]
  },
  {
   "cell_type": "markdown",
   "metadata": {},
   "source": [
    "## Questions and Answers"
   ]
  },
  {
   "cell_type": "markdown",
   "metadata": {
    "collapsed": true
   },
   "source": [
    "### Question 1\n",
    "_What approach did you take in coming up with a solution to this problem?_\n",
    "### Answer 1\n",
    "At first, I found out the information about classic examples of the data with handwritten digits and the models of neural networks. \n",
    "\n",
    "Then, I tried to  build several models. In the construction process, I used the most convenient resources for Python: 'Scikit-Learn', 'TensorFlow', and 'Keras'.\n",
    "\n",
    "Finally, for reasons of simplicity and quickness of construction, as well as effectiveness and accuracy of predictions, I chose 'Keras' as a programming library and the convolutional neural network as a type of the model.\n",
    "\n",
    "---\n",
    "\n",
    "### Question 2\n",
    "_What does your final architecture look like? (Type of model, layers, sizes, connectivity, etc.)_\n",
    "### Answer 2\n",
    "\n",
    "Fortunately, It's very easy to display and describe the architecture of the CNN with the function model.summary().\n",
    "\n",
    "- *Type*: Convolutional Neural Network.\n",
    "- *Layers*:\n",
    "  - `InputLayer` (input_2, [1, 28, 140]) holds the raw pixel values of the image with width 140, height 28, and 1 color channel. \n",
    "  - `BatchNormalization` layer (batch_normalization_6, [1, 28, 140]) normalizes the activations of the previous layer at each batch, i.e. applies a transformation that maintains the mean activation close to 0 and the activation standard deviation close to 1. This step leaves the size of the volume unchanged [1, 28, 140] -> [1, 28, 140].\n",
    "  - `Conv2D` layers [(conv2d_12, [28, 26, 138]), (conv2d_13, [28, 11, 67]), (conv2d_14, [56, 3, 31]), (conv2d_15, [56, 1, 29])]  compute the output of neurons that are connected to local regions in the input each computing a dot product between their weights and a small region they are connected to in the input volume. This results in the volume such as [28, 140, 1] -> [28, 140, 28] when it was used 28 filters.\n",
    "  - `relu` activation applies an elementwise activation function, such as the max(0,x) thresholding at zero. This leaves the size of the volume unchanged [28, 26, 138] -> [28, 26, 138].\n",
    "  - `MaxPooling2D` layers [(max_pooling2d_9, [28, 13, 69]), (max_pooling2d_10, [28, 5, 33])] perform a downsampling operation along the spatial dimensions (width, height). Max-pooling partitions the input image into a set of non-overlapping rectangles and, for each such subregion, outputs the maximum value. This results in the volume such as [28, 140, 28] -> [14, 70, 28].\n",
    "  - `Dropout` layers [(dropout_12, [28, 5, 33]), (dropout_13, [56, 1, 29]), (dropout_14, [784])] consist in randomly setting a fraction rate of input units to 0 at each update during training time, which helps prevent overfitting. This leaves the size of the volume unchanged [56, 1, 29] -> [56, 1, 29].\n",
    "  - `Dense` (fully connected) layers [(dense_19, [784]), (dense_20, [11], (dense_21, [11], (dense_22, [11], (dense_23, [11], (dense_24, [11]) compute the class scores, resulting in volume of size. For example, the size [11] corresponds to class scores, such as 10 digits and 1 empty place. Each neuron in these layers are connected to all the numbers in the previous volume.\n",
    "  - `softmax` activation applies an activation function (logistic regression) and outputs a separate probability for each of 11 classes. This leaves the size of the volume unchanged [11] -> [11].\n",
    "  - `Flatten` layer (flatten_4, [1624]) flattens the input and collapses it into the one-dimensional feature vector. This results in the volume such as [56, 1, 29] -> [1624].\n",
    "---\n",
    "\n",
    "### Question 3\n",
    "_How did you train your model? How did you generate your synthetic dataset?_ Include examples of images from the synthetic data you constructed.\n",
    "### Answer 3\n",
    "The synthetic dataset was generated by concatenating in one image some digit symbols (from 1 to 5) with rotation. \n",
    "\n",
    "Each step was reflected by displaying constructed images. \n",
    "\n",
    "It was built from the original data `MNIST` of handwritten digits. \n",
    "\n",
    "Then the synthetic data were divided into training and testing sets. \n",
    "\n",
    "And the model was trained and tested with following parameters:\n",
    "\n",
    "- epochs - 20,\n",
    "- batch size - 128."
   ]
  }
 ],
 "metadata": {
  "anaconda-cloud": {},
  "hide_input": false,
  "kernelspec": {
   "display_name": "Python 3",
   "language": "python",
   "name": "python3"
  },
  "language_info": {
   "codemirror_mode": {
    "name": "ipython",
    "version": 3
   },
   "file_extension": ".py",
   "mimetype": "text/x-python",
   "name": "python",
   "nbconvert_exporter": "python",
   "pygments_lexer": "ipython3",
   "version": "3.6.1"
  },
  "latex_envs": {
   "bibliofile": "biblio.bib",
   "cite_by": "apalike",
   "current_citInitial": 1,
   "eqLabelWithNumbers": true,
   "eqNumInitial": 0
  }
 },
 "nbformat": 4,
 "nbformat_minor": 2
}
