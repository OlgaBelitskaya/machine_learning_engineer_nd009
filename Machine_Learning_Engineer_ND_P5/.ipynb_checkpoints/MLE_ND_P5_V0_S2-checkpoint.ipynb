{
 "cells": [
  {
   "cell_type": "markdown",
   "metadata": {},
   "source": [
    "# &#x1F4D1; &nbsp;  $\\mathfrak {\\color{#348ABD} {P5: \\ Build \\ a \\ Digit \\ Recognition \\ Program. \\ Step \\ 2}}$"
   ]
  },
  {
   "cell_type": "markdown",
   "metadata": {},
   "source": [
    "---\n",
    "\n",
    "---\n",
    "## $\\mathfrak {\\color{#348ABD} {Code \\ Library \\ and \\ Links}}$"
   ]
  },
  {
   "cell_type": "markdown",
   "metadata": {},
   "source": [
    "Multi-dimensional image processing https://docs.scipy.org/doc/scipy/reference/ndimage.html\n",
    "\n",
    "Keras: Deep Learning library for Theano and TensorFlow https://keras.io/\n",
    " \n",
    "Deep MNIST for Experts https://www.tensorflow.org/get_started/mnist/pros\n",
    "\n",
    "Tensorflow Deep MNIST Advanced Tutorial http://docs.seldon.io/tensorflow-deep-mnist-example.html\n",
    "\n",
    "Handwritten Digit Recognition using Convolutional Neural Networks in Python with Keras\n",
    "\n",
    "http://machinelearningmastery.com/handwritten-digit-recognition-using-convolutional-neural-networks-python-keras/"
   ]
  },
  {
   "cell_type": "code",
   "execution_count": 1,
   "metadata": {
    "collapsed": false
   },
   "outputs": [
    {
     "data": {
      "text/html": [
       "<script>code_show = true; \n",
       "function code_display() {\n",
       "    if (code_show) {\n",
       "        $('div.input').each(function(id) {\n",
       "            if (id == 0 || $(this).html().indexOf('hide_code') > -1) {$(this).hide();}\n",
       "        });\n",
       "        $('div.output_prompt').css('opacity', 0);\n",
       "    } else {\n",
       "        $('div.input').each(function(id) {$(this).show();});\n",
       "        $('div.output_prompt').css('opacity', 1);\n",
       "    }\n",
       "    code_show = !code_show;\n",
       "} \n",
       "$(document).ready(code_display);</script>\n",
       "<form action=\"javascript: code_display()\"><input style=\"color: #348ABD; background: ghostwhite; opacity: 0.9; \" type=\"submit\" value=\"Click to display or hide code\"></form>"
      ],
      "text/plain": [
       "<IPython.core.display.HTML object>"
      ]
     },
     "execution_count": 1,
     "metadata": {},
     "output_type": "execute_result"
    }
   ],
   "source": [
    "from IPython.core.display import HTML\n",
    "hide_code = ''\n",
    "HTML('''<script>code_show = true; \n",
    "function code_display() {\n",
    "    if (code_show) {\n",
    "        $('div.input').each(function(id) {\n",
    "            if (id == 0 || $(this).html().indexOf('hide_code') > -1) {$(this).hide();}\n",
    "        });\n",
    "        $('div.output_prompt').css('opacity', 0);\n",
    "    } else {\n",
    "        $('div.input').each(function(id) {$(this).show();});\n",
    "        $('div.output_prompt').css('opacity', 1);\n",
    "    }\n",
    "    code_show = !code_show;\n",
    "} \n",
    "$(document).ready(code_display);</script>\n",
    "<form action=\"javascript: code_display()\"><input style=\"color: #348ABD; background: ghostwhite; opacity: 0.9; \" \\\n",
    "type=\"submit\" value=\"Click to display or hide code\"></form>''')"
   ]
  },
  {
   "cell_type": "code",
   "execution_count": 2,
   "metadata": {
    "collapsed": false
   },
   "outputs": [],
   "source": [
    "hide_code\n",
    "\n",
    "import numpy as np\n",
    "import scipy as sp\n",
    "import pandas as pd\n",
    "import random\n",
    "import scipy.ndimage\n",
    "from scipy.special import expit\n",
    "from time import time\n",
    "\n",
    "import os\n",
    "import sys\n",
    "import h5py\n",
    "import tarfile\n",
    "\n",
    "from six.moves.urllib.request import urlretrieve\n",
    "from six.moves import cPickle as pickle\n",
    "\n",
    "from IPython.display import display, Image, IFrame\n",
    "import matplotlib.pylab as plt\n",
    "import matplotlib.cm as cm\n",
    "from matplotlib import offsetbox\n",
    "%matplotlib inline"
   ]
  },
  {
   "cell_type": "code",
   "execution_count": 3,
   "metadata": {
    "collapsed": true
   },
   "outputs": [],
   "source": [
    "hide_code\n",
    "\n",
    "import tensorflow as tf\n",
    "import tensorflow.examples.tutorials.mnist as mnist"
   ]
  },
  {
   "cell_type": "code",
   "execution_count": 4,
   "metadata": {
    "collapsed": true
   },
   "outputs": [],
   "source": [
    "hide_code\n",
    "\n",
    "from sklearn.neural_network import MLPClassifier, BernoulliRBM\n",
    "from sklearn import linear_model, datasets, metrics\n",
    "from sklearn.pipeline import Pipeline\n",
    "from sklearn import manifold, decomposition, ensemble\n",
    "from sklearn import discriminant_analysis, random_projection\n",
    "from sklearn.model_selection import train_test_split"
   ]
  },
  {
   "cell_type": "code",
   "execution_count": 5,
   "metadata": {
    "collapsed": false
   },
   "outputs": [
    {
     "name": "stderr",
     "output_type": "stream",
     "text": [
      "Using TensorFlow backend.\n"
     ]
    }
   ],
   "source": [
    "hide_code\n",
    "\n",
    "import keras as ks\n",
    "from keras.models import Sequential, load_model, Model\n",
    "from keras.preprocessing import sequence\n",
    "from keras.optimizers import SGD, RMSprop\n",
    "from keras.layers import Dense, Dropout, LSTM\n",
    "from keras.layers import Activation, Flatten, Input, BatchNormalization\n",
    "from keras.layers import Conv1D, MaxPooling1D, Conv2D, MaxPooling2D\n",
    "from keras.layers.embeddings import Embedding"
   ]
  },
  {
   "cell_type": "code",
   "execution_count": 6,
   "metadata": {
    "collapsed": true
   },
   "outputs": [],
   "source": [
    "hide_code\n",
    "\n",
    "import warnings\n",
    "warnings.filterwarnings('ignore')"
   ]
  },
  {
   "cell_type": "code",
   "execution_count": 7,
   "metadata": {
    "collapsed": true
   },
   "outputs": [],
   "source": [
    "hide_code\n",
    "\n",
    "def download_progress_hook(count, blockSize, totalSize):\n",
    "    \"\"\"A hook to report the progress of a download. This is mostly intended for users with\n",
    "    slow internet connections. Reports every 5% change in download progress.\n",
    "    \"\"\"\n",
    "    global last_percent_reported\n",
    "    percent = int(count * blockSize * 100 / totalSize)\n",
    "\n",
    "    if last_percent_reported != percent:\n",
    "        if percent % 5 == 0:\n",
    "            sys.stdout.write(\"%s%%\" % percent)\n",
    "            sys.stdout.flush()\n",
    "        else:\n",
    "            sys.stdout.write(\".\")\n",
    "            sys.stdout.flush()\n",
    "      \n",
    "        last_percent_reported = percent\n",
    "        \n",
    "def maybe_download(filename, expected_bytes, force=False):\n",
    "    \"\"\"Download a file if not present, and make sure it's the right size.\"\"\"\n",
    "    dest_filename = os.path.join(data_root, filename)\n",
    "    if force or not os.path.exists(dest_filename):\n",
    "        print('Attempting to download:', filename) \n",
    "        filename, _ = urlretrieve(url + filename, dest_filename, reporthook=download_progress_hook)\n",
    "        print('\\nDownload Complete!')\n",
    "    statinfo = os.stat(dest_filename)\n",
    "    if statinfo.st_size == expected_bytes:\n",
    "        print('Found and verified', dest_filename)\n",
    "    else:\n",
    "        raise Exception('Failed to verify ' + dest_filename + '. Can you get to it with a browser?')\n",
    "    return dest_filename\n",
    "\n",
    "def maybe_extract(file_, force=False):\n",
    "    filename = os.path.splitext(os.path.splitext(file_)[0])[0]  # remove .tar.gz\n",
    "    \n",
    "    if os.path.isdir(filename) and not force:\n",
    "        # You may override by setting force=True.\n",
    "        print('%s is already presented - Skipping extraction of %s.' % (filename, file_))\n",
    "    else:\n",
    "        print('Extracting %s file data. Please wait...' % file_)\n",
    "        tar = tarfile.open(file_)\n",
    "        sys.stdout.flush()\n",
    "        tar.extractall()\n",
    "        tar.close()\n",
    "        print('File %s is successfully extracted into %s directory.' % (file_, filename))        \n",
    "    \n",
    "    return filename"
   ]
  },
  {
   "cell_type": "code",
   "execution_count": 8,
   "metadata": {
    "collapsed": false
   },
   "outputs": [],
   "source": [
    "hide_code\n",
    "# https://github.com/sarahrn/Py-Gsvhn-DigitStruct-Reader/blob/master/digitStruct.py\n",
    "\n",
    "#\n",
    "# Bounding Box\n",
    "#\n",
    "class BBox:\n",
    "    def __init__(self):\n",
    "        self.label = \"\"     # Digit\n",
    "        self.left = 0\n",
    "        self.top = 0\n",
    "        self.width = 0\n",
    "        self.height = 0\n",
    "\n",
    "class DigitStruct:\n",
    "    def __init__(self):\n",
    "        self.name = None    # Image file name\n",
    "        self.bboxList = None # List of BBox structs\n",
    "\n",
    "# Function for debugging\n",
    "def printHDFObj(theObj, theObjName):\n",
    "    isFile = isinstance(theObj, h5py.File)\n",
    "    isGroup = isinstance(theObj, h5py.Group)\n",
    "    isDataSet = isinstance(theObj, h5py.Dataset)\n",
    "    isReference = isinstance(theObj, h5py.Reference)\n",
    "    print (\"{}\".format(theObjName))\n",
    "    print (\"    type(): {}\".format(type(theObj)))\n",
    "    if isFile or isGroup or isDataSet:\n",
    "        # if theObj.name != None:\n",
    "        #    print \"    name: {}\".format(theObj.name)\n",
    "        print (\"    id: {}\".format(theObj.id))\n",
    "    if isFile or isGroup:\n",
    "        print (\"    keys: {}\".format(theObj.keys()))\n",
    "    if not isReference:\n",
    "        print (\"    Len: {}\".format(len(theObj)))\n",
    "\n",
    "    if not (isFile or isGroup or isDataSet or isReference):\n",
    "        print (theObj)\n",
    "\n",
    "def readDigitStructGroup(dsFile):\n",
    "    dsGroup = dsFile[\"digitStruct\"]\n",
    "    return dsGroup\n",
    "\n",
    "#\n",
    "# Reads a string from the file using its reference\n",
    "#\n",
    "def readString(strRef, dsFile):\n",
    "    strObj = dsFile[strRef]\n",
    "    str = ''.join(chr(i) for i in strObj)\n",
    "    return str\n",
    "\n",
    "#\n",
    "# Reads an integer value from the file\n",
    "#\n",
    "def readInt(intArray, dsFile):\n",
    "    intRef = intArray[0]\n",
    "    isReference = isinstance(intRef, h5py.Reference)\n",
    "    intVal = 0\n",
    "    if isReference:\n",
    "        intObj = dsFile[intRef]\n",
    "        intVal = int(intObj[0])\n",
    "    else: # Assuming value type\n",
    "        intVal = int(intRef)\n",
    "    return intVal\n",
    "\n",
    "def yieldNextInt(intDataset, dsFile):\n",
    "    for intData in intDataset:\n",
    "        intVal = readInt(intData, dsFile)\n",
    "        yield intVal \n",
    "\n",
    "def yieldNextBBox(bboxDataset, dsFile):\n",
    "    for bboxArray in bboxDataset:\n",
    "        bboxGroupRef = bboxArray[0]\n",
    "        bboxGroup = dsFile[bboxGroupRef]\n",
    "        labelDataset = bboxGroup[\"label\"]\n",
    "        leftDataset = bboxGroup[\"left\"]\n",
    "        topDataset = bboxGroup[\"top\"]\n",
    "        widthDataset = bboxGroup[\"width\"]\n",
    "        heightDataset = bboxGroup[\"height\"]\n",
    "\n",
    "        left = yieldNextInt(leftDataset, dsFile)\n",
    "        top = yieldNextInt(topDataset, dsFile)\n",
    "        width = yieldNextInt(widthDataset, dsFile)\n",
    "        height = yieldNextInt(heightDataset, dsFile)\n",
    "\n",
    "        bboxList = []\n",
    "\n",
    "        for label in yieldNextInt(labelDataset, dsFile):\n",
    "            bbox = BBox()\n",
    "            bbox.label = label\n",
    "            bbox.left = next(left)\n",
    "            bbox.top = next(top)\n",
    "            bbox.width = next(width)\n",
    "            bbox.height = next(height)\n",
    "            bboxList.append(bbox)\n",
    "\n",
    "        yield bboxList\n",
    "\n",
    "def yieldNextFileName(nameDataset, dsFile):\n",
    "    for nameArray in nameDataset:\n",
    "        nameRef = nameArray[0]\n",
    "        name = readString(nameRef, dsFile)\n",
    "        yield name\n",
    "\n",
    "def yieldNextDigitStruct(dsFileName):\n",
    "    dsFile = h5py.File(dsFileName, 'r')\n",
    "    dsGroup = readDigitStructGroup(dsFile)\n",
    "    nameDataset = dsGroup[\"name\"]\n",
    "    bboxDataset = dsGroup[\"bbox\"]\n",
    "\n",
    "    bboxListIter = yieldNextBBox(bboxDataset, dsFile)\n",
    "    for name in yieldNextFileName(nameDataset, dsFile):\n",
    "        bboxList = next(bboxListIter)\n",
    "        obj = DigitStruct()\n",
    "        obj.name = name\n",
    "        obj.bboxList = bboxList\n",
    "        yield obj\n",
    "        \n",
    "def testMain():\n",
    "\n",
    "    dsFileName = 'train/digitStruct.mat'\n",
    "    testCounter = 0\n",
    "    for dsObj in yieldNextDigitStruct(dsFileName):\n",
    "        # testCounter += 1\n",
    "        print (dsObj.name)\n",
    "        for bbox in dsObj.bboxList:\n",
    "            print (\"    {}:{},{},{},{}\".format(bbox.label, bbox.left, bbox.top, bbox.width, bbox.height))\n",
    "        if testCounter >= 5:\n",
    "            break\n",
    "\n",
    "# if __name__ == \"__main__\":\n",
    "#     testMain()"
   ]
  },
  {
   "cell_type": "code",
   "execution_count": 9,
   "metadata": {
    "collapsed": false
   },
   "outputs": [],
   "source": [
    "hide_code\n",
    "\n",
    "def testMain():\n",
    "\n",
    "    dsFileName = 'test/digitStruct.mat'\n",
    "    testCounter = 0\n",
    "    for dsObj in yieldNextDigitStruct(dsFileName):\n",
    "        # testCounter += 1\n",
    "        print (dsObj.name)\n",
    "        for bbox in dsObj.bboxList:\n",
    "            print (\"    {}:{},{},{},{}\".format(bbox.label, bbox.left, bbox.top, bbox.width, bbox.height))\n",
    "        if testCounter >= 5:\n",
    "            break\n",
    "\n",
    "# if __name__ == \"__main__\":\n",
    "#     testMain()"
   ]
  },
  {
   "cell_type": "code",
   "execution_count": 10,
   "metadata": {
    "collapsed": false
   },
   "outputs": [],
   "source": [
    "hide_code\n",
    "\n",
    "def testMain():\n",
    "\n",
    "    dsFileName = 'extra/digitStruct.mat'\n",
    "    testCounter = 0\n",
    "    for dsObj in yieldNextDigitStruct(dsFileName):\n",
    "        # testCounter += 1\n",
    "        print (dsObj.name)\n",
    "        for bbox in dsObj.bboxList:\n",
    "            print (\"    {}:{},{},{},{}\".format(bbox.label, bbox.left, bbox.top, bbox.width, bbox.height))\n",
    "        if testCounter >= 5:\n",
    "            break\n",
    "\n",
    "# if __name__ == \"__main__\":\n",
    "#     testMain()"
   ]
  },
  {
   "cell_type": "code",
   "execution_count": 11,
   "metadata": {
    "collapsed": false
   },
   "outputs": [],
   "source": [
    "hide_code\n",
    "# https://github.com/sarahrn/Py-Gsvhn-DigitStruct-Reader/blob/master/digitStructMatToCsv.py\n",
    "\n",
    "def writeToCsvFile(dsFileName, csvFile):\n",
    "    fileCount = 0\n",
    "    csvFile.write(\"FileName,DigitLabel,Left,Top,Width,Height\\n\")\n",
    "    for dsObj in yieldNextDigitStruct(dsFileName):\n",
    "        fileCount += 1\n",
    "        for bbox in dsObj.bboxList:\n",
    "            csvLine = \"{},{},{},{},{},{}\\n\".format(\n",
    "                dsObj.name,\n",
    "                bbox.label, bbox.left, bbox.top, bbox.width, bbox.height)\n",
    "            csvFile.write(csvLine)\n",
    "    print(\"Number of image files: {}\".format(fileCount))\n",
    "\n",
    "def convertToCsv(dsFilePath, csvFilePath):\n",
    "    with open(csvFilePath, \"w\") as csvFile:\n",
    "        writeToCsvFile(dsFilePath, csvFile)\n",
    "\n",
    "def main():\n",
    "    dsFilePath = 'train/digitStruct.mat'\n",
    "    csvFilePath = 'train_digitStruct.csv'\n",
    "    print(\"Converting {0} to {1}\".format(dsFilePath, csvFilePath))\n",
    "    convertToCsv(dsFilePath, csvFilePath)\n",
    "\n",
    "# if __name__ == \"__main__\":\n",
    "#     main()"
   ]
  },
  {
   "cell_type": "code",
   "execution_count": 12,
   "metadata": {
    "collapsed": false
   },
   "outputs": [],
   "source": [
    "hide_code\n",
    "\n",
    "def main():\n",
    "    dsFilePath = 'test/digitStruct.mat'\n",
    "    csvFilePath = 'test_digitStruct.csv'\n",
    "    print(\"Converting {0} to {1}\".format(dsFilePath, csvFilePath))\n",
    "    convertToCsv(dsFilePath, csvFilePath)\n",
    "\n",
    "# if __name__ == \"__main__\":\n",
    "#     main()"
   ]
  },
  {
   "cell_type": "code",
   "execution_count": 13,
   "metadata": {
    "collapsed": false
   },
   "outputs": [],
   "source": [
    "hide_code\n",
    "\n",
    "def main():\n",
    "    dsFilePath = 'extra/digitStruct.mat'\n",
    "    csvFilePath = 'extra_digitStruct.csv'\n",
    "    print(\"Converting {0} to {1}\".format(dsFilePath, csvFilePath))\n",
    "    convertToCsv(dsFilePath, csvFilePath)\n",
    "\n",
    "# if __name__ == \"__main__\":\n",
    "#     main()"
   ]
  },
  {
   "cell_type": "code",
   "execution_count": 14,
   "metadata": {
    "collapsed": false
   },
   "outputs": [],
   "source": [
    "hide_code\n",
    "\n",
    "def grouped_by_filename(data):    \n",
    "    filename_set = np.array(list(set(data['filename'])))\n",
    "    n = filename_set.shape[0]\n",
    "    labels = []\n",
    "    boxes = []\n",
    "    data_gr = data.groupby(['filename'])\n",
    "    for i in range(n):\n",
    "        x = filename_set[i]\n",
    "        labels.append(np.array(data_gr.get_group(x)['label']))\n",
    "        boxes.append(np.array(data_gr.get_group(x)['box']))\n",
    "    labels = np.array(labels)\n",
    "    boxes = np.array(boxes)\n",
    "    data_g = {'filename': filename_set, 'label': labels, 'box': boxes}\n",
    "    new_data = pd.DataFrame(data=data_g)\n",
    "    return new_data"
   ]
  },
  {
   "cell_type": "code",
   "execution_count": 15,
   "metadata": {
    "collapsed": true
   },
   "outputs": [],
   "source": [
    "hide_code\n",
    "\n",
    "def fivedigit_label(label):\n",
    "    size = len(label)\n",
    "    if size >= 5:\n",
    "        return label\n",
    "    else:\n",
    "        num_zeros = np.full((5-size), 10)\n",
    "        return np.array(np.concatenate((num_zeros, label), axis = 0))\n",
    "    \n",
    "def get_labels(data):\n",
    "    string = data.replace('[', '').replace(']', '').replace(',', '')\n",
    "    labels = np.array([int(n) for n in string.split()])\n",
    "    return labels\n",
    "\n",
    "def image_box(box):\n",
    "        left, top, width, height = box[:, 0], box[:, 1], box[:, 2], box[:, 3]\n",
    "        \n",
    "        image_left = min(left) + 1\n",
    "        image_top = min(top) + 1\n",
    "        image_bottom = max(top) + max(height)\n",
    "        image_right = max(left) + max(width)\n",
    "        return np.array([image_left, image_right, image_top, image_bottom])\n",
    "\n",
    "def get_box(data):\n",
    "    value = data.values[0]\n",
    "    string = value.replace('[', '').replace(']', '').replace(',', '')\n",
    "    numbers = np.array([int(n) for n in string.split()])        \n",
    "    k = len(numbers)/4\n",
    "    numbers = numbers.reshape(k, 4)       \n",
    "    return numbers\n",
    "\n",
    "def get_image(folder, image_file):\n",
    "    filename=os.path.join(folder, image_file)\n",
    "    image = scipy.ndimage.imread(filename, mode='RGB')\n",
    "    \n",
    "    if folder == 'train':\n",
    "        n = np.where(train_filenames == image_file)[0]\n",
    "        box = np.array(get_box(train_b['box'][n]))\n",
    "        label = train_labels[n]\n",
    "        \n",
    "    elif folder == 'test':\n",
    "        n = np.where(test_filenames == image_file)[0]\n",
    "        box = np.array(get_box(test_b['box'][n]))\n",
    "        label = test_labels[n]\n",
    "        \n",
    "    elif folder == 'extra':\n",
    "        n = np.where(extra_filenames == image_file)[0]\n",
    "        box = np.array(get_box(extra_b['box'][n]))\n",
    "        label = extra_labels[n]\n",
    "        \n",
    "    nbox = image_box(box)\n",
    "    image_left, image_right, image_top, image_bottom = nbox[0], nbox[1], nbox[2], nbox[3]\n",
    "    \n",
    "    image_bottom = min(image.shape[0], image_bottom)\n",
    "    image_right = min(image.shape[1], image_right)\n",
    "                   \n",
    "    nimage = image[image_top:image_bottom, image_left:image_right]\n",
    "    \n",
    "    image32_1 = scipy.misc.imresize(nimage, (32, 32, 3)) / 255\n",
    "    image32_2 = np.dot(np.array(image64_1, dtype='float32'), [0.299, 0.587, 0.114])\n",
    "    return image32_1, image32_2, label"
   ]
  },
  {
   "cell_type": "markdown",
   "metadata": {},
   "source": [
    "---\n",
    "\n",
    "---\n",
    "## $\\mathfrak {\\color{#348ABD} {Experimental \\ Datasets}}$"
   ]
  },
  {
   "cell_type": "markdown",
   "metadata": {},
   "source": [
    "#### Dataset #5. Stanford.edu. Housenumbers\n",
    "\n",
    "http://ufldl.stanford.edu/housenumbers/"
   ]
  },
  {
   "cell_type": "code",
   "execution_count": 17,
   "metadata": {
    "collapsed": false
   },
   "outputs": [
    {
     "name": "stdout",
     "output_type": "stream",
     "text": [
      "Found and verified ./train.tar.gz\n",
      "Found and verified ./test.tar.gz\n",
      "Found and verified ./extra.tar.gz\n"
     ]
    }
   ],
   "source": [
    "hide_code\n",
    "\n",
    "url = 'http://ufldl.stanford.edu/housenumbers/'\n",
    "last_percent_reported = None\n",
    "data_root = '.' # Change me to store data elsewhere\n",
    "\n",
    "train_filename = maybe_download('train.tar.gz', 404141560)\n",
    "test_filename = maybe_download('test.tar.gz', 276555967)\n",
    "extra_filename = maybe_download('extra.tar.gz', 1955489752)"
   ]
  },
  {
   "cell_type": "code",
   "execution_count": 18,
   "metadata": {
    "collapsed": false
   },
   "outputs": [
    {
     "name": "stdout",
     "output_type": "stream",
     "text": [
      "./train is already presented - Skipping extraction of ./train.tar.gz.\n",
      "./test is already presented - Skipping extraction of ./test.tar.gz.\n",
      "./extra is already presented - Skipping extraction of ./extra.tar.gz.\n"
     ]
    }
   ],
   "source": [
    "hide_code\n",
    "\n",
    "train_folder = maybe_extract(train_filename)\n",
    "test_folder = maybe_extract(test_filename)\n",
    "extra_folder = maybe_extract(extra_filename)"
   ]
  },
  {
   "cell_type": "code",
   "execution_count": 19,
   "metadata": {
    "collapsed": false
   },
   "outputs": [
    {
     "name": "stdout",
     "output_type": "stream",
     "text": [
      "A few examples of images\n"
     ]
    },
    {
     "data": {
      "image/png": "[encoded data removed]",
      "text/plain": [
       "<IPython.core.display.Image object>"
      ]
     },
     "metadata": {},
     "output_type": "display_data"
    },
    {
     "data": {
      "image/png": "[encoded data removed]",
      "text/plain": [
       "<IPython.core.display.Image object>"
      ]
     },
     "metadata": {},
     "output_type": "display_data"
    },
    {
     "data": {
      "image/png": "[encoded data removed]",
      "text/plain": [
       "<IPython.core.display.Image object>"
      ]
     },
     "metadata": {},
     "output_type": "display_data"
    },
    {
     "data": {
      "image/png": "[encoded data removed]",
      "text/plain": [
       "<IPython.core.display.Image object>"
      ]
     },
     "metadata": {},
     "output_type": "display_data"
    },
    {
     "data": {
      "image/png": "[encoded data removed]",
      "text/plain": [
       "<IPython.core.display.Image object>"
      ]
     },
     "metadata": {},
     "output_type": "display_data"
    }
   ],
   "source": [
    "hide_code\n",
    "\n",
    "print('A few examples of images')\n",
    "image_path = os.path.join('extra')\n",
    "images = [f for f in os.listdir(image_path) if f.endswith('.png')][1010:1015]\n",
    "for image in images:\n",
    "    display(Image(filename=os.path.join(image_path,image)))"
   ]
  },
  {
   "cell_type": "code",
   "execution_count": 20,
   "metadata": {
    "collapsed": false
   },
   "outputs": [
    {
     "data": {
      "text/html": [
       "<div>\n",
       "<table border=\"1\" class=\"dataframe\">\n",
       "  <thead>\n",
       "    <tr style=\"text-align: right;\">\n",
       "      <th></th>\n",
       "      <th>FileName</th>\n",
       "      <th>DigitLabel</th>\n",
       "      <th>Left</th>\n",
       "      <th>Top</th>\n",
       "      <th>Width</th>\n",
       "      <th>Height</th>\n",
       "    </tr>\n",
       "  </thead>\n",
       "  <tbody>\n",
       "    <tr>\n",
       "      <th>0</th>\n",
       "      <td>1.png</td>\n",
       "      <td>1</td>\n",
       "      <td>246</td>\n",
       "      <td>77</td>\n",
       "      <td>81</td>\n",
       "      <td>219</td>\n",
       "    </tr>\n",
       "    <tr>\n",
       "      <th>1</th>\n",
       "      <td>1.png</td>\n",
       "      <td>9</td>\n",
       "      <td>323</td>\n",
       "      <td>81</td>\n",
       "      <td>96</td>\n",
       "      <td>219</td>\n",
       "    </tr>\n",
       "    <tr>\n",
       "      <th>2</th>\n",
       "      <td>2.png</td>\n",
       "      <td>2</td>\n",
       "      <td>77</td>\n",
       "      <td>29</td>\n",
       "      <td>23</td>\n",
       "      <td>32</td>\n",
       "    </tr>\n",
       "  </tbody>\n",
       "</table>\n",
       "</div>"
      ],
      "text/plain": [
       "  FileName  DigitLabel  Left  Top  Width  Height\n",
       "0    1.png           1   246   77     81     219\n",
       "1    1.png           9   323   81     96     219\n",
       "2    2.png           2    77   29     23      32"
      ]
     },
     "metadata": {},
     "output_type": "display_data"
    },
    {
     "data": {
      "text/html": [
       "<div>\n",
       "<table border=\"1\" class=\"dataframe\">\n",
       "  <thead>\n",
       "    <tr style=\"text-align: right;\">\n",
       "      <th></th>\n",
       "      <th>FileName</th>\n",
       "      <th>DigitLabel</th>\n",
       "      <th>Left</th>\n",
       "      <th>Top</th>\n",
       "      <th>Width</th>\n",
       "      <th>Height</th>\n",
       "    </tr>\n",
       "  </thead>\n",
       "  <tbody>\n",
       "    <tr>\n",
       "      <th>0</th>\n",
       "      <td>1.png</td>\n",
       "      <td>5</td>\n",
       "      <td>43</td>\n",
       "      <td>7</td>\n",
       "      <td>19</td>\n",
       "      <td>30</td>\n",
       "    </tr>\n",
       "    <tr>\n",
       "      <th>1</th>\n",
       "      <td>2.png</td>\n",
       "      <td>2</td>\n",
       "      <td>99</td>\n",
       "      <td>5</td>\n",
       "      <td>14</td>\n",
       "      <td>23</td>\n",
       "    </tr>\n",
       "    <tr>\n",
       "      <th>2</th>\n",
       "      <td>2.png</td>\n",
       "      <td>1</td>\n",
       "      <td>114</td>\n",
       "      <td>8</td>\n",
       "      <td>8</td>\n",
       "      <td>23</td>\n",
       "    </tr>\n",
       "  </tbody>\n",
       "</table>\n",
       "</div>"
      ],
      "text/plain": [
       "  FileName  DigitLabel  Left  Top  Width  Height\n",
       "0    1.png           5    43    7     19      30\n",
       "1    2.png           2    99    5     14      23\n",
       "2    2.png           1   114    8      8      23"
      ]
     },
     "metadata": {},
     "output_type": "display_data"
    },
    {
     "data": {
      "text/html": [
       "<div>\n",
       "<table border=\"1\" class=\"dataframe\">\n",
       "  <thead>\n",
       "    <tr style=\"text-align: right;\">\n",
       "      <th></th>\n",
       "      <th>FileName</th>\n",
       "      <th>DigitLabel</th>\n",
       "      <th>Left</th>\n",
       "      <th>Top</th>\n",
       "      <th>Width</th>\n",
       "      <th>Height</th>\n",
       "    </tr>\n",
       "  </thead>\n",
       "  <tbody>\n",
       "    <tr>\n",
       "      <th>0</th>\n",
       "      <td>1.png</td>\n",
       "      <td>4</td>\n",
       "      <td>24</td>\n",
       "      <td>70</td>\n",
       "      <td>38</td>\n",
       "      <td>56</td>\n",
       "    </tr>\n",
       "    <tr>\n",
       "      <th>1</th>\n",
       "      <td>1.png</td>\n",
       "      <td>7</td>\n",
       "      <td>55</td>\n",
       "      <td>41</td>\n",
       "      <td>36</td>\n",
       "      <td>56</td>\n",
       "    </tr>\n",
       "    <tr>\n",
       "      <th>2</th>\n",
       "      <td>1.png</td>\n",
       "      <td>8</td>\n",
       "      <td>79</td>\n",
       "      <td>23</td>\n",
       "      <td>47</td>\n",
       "      <td>56</td>\n",
       "    </tr>\n",
       "  </tbody>\n",
       "</table>\n",
       "</div>"
      ],
      "text/plain": [
       "  FileName  DigitLabel  Left  Top  Width  Height\n",
       "0    1.png           4    24   70     38      56\n",
       "1    1.png           7    55   41     36      56\n",
       "2    1.png           8    79   23     47      56"
      ]
     },
     "metadata": {},
     "output_type": "display_data"
    }
   ],
   "source": [
    "hide_code\n",
    "\n",
    "train_set = pd.read_csv(\"train_digitStruct.csv\")\n",
    "test_set = pd.read_csv(\"test_digitStruct.csv\")\n",
    "extra_set = pd.read_csv(\"extra_digitStruct.csv\")\n",
    "display(train_set.head(3))\n",
    "display(test_set.head(3))\n",
    "display(extra_set.head(3))"
   ]
  },
  {
   "cell_type": "code",
   "execution_count": 19,
   "metadata": {
    "collapsed": false
   },
   "outputs": [],
   "source": [
    "hide_code\n",
    "\n",
    "train_box = [[train_set['Left'][i], train_set['Top'][i], \n",
    "              train_set['Width'][i], train_set['Height'][i]] \n",
    "             for i in range(len(train_set))]\n",
    "\n",
    "test_box = [[test_set['Left'][i], test_set['Top'][i], \n",
    "             test_set['Width'][i], test_set['Height'][i]] \n",
    "            for i in range(len(test_set))]\n",
    "\n",
    "extra_box = [[extra_set['Left'][i], extra_set['Top'][i], \n",
    "              extra_set['Width'][i], extra_set['Height'][i]] \n",
    "             for i in range(len(extra_set))]"
   ]
  },
  {
   "cell_type": "code",
   "execution_count": 23,
   "metadata": {
    "collapsed": false
   },
   "outputs": [
    {
     "data": {
      "text/html": [
       "<div>\n",
       "<table border=\"1\" class=\"dataframe\">\n",
       "  <thead>\n",
       "    <tr style=\"text-align: right;\">\n",
       "      <th></th>\n",
       "      <th>box</th>\n",
       "      <th>filename</th>\n",
       "      <th>label</th>\n",
       "    </tr>\n",
       "  </thead>\n",
       "  <tbody>\n",
       "    <tr>\n",
       "      <th>0</th>\n",
       "      <td>[246, 77, 81, 219]</td>\n",
       "      <td>1.png</td>\n",
       "      <td>1</td>\n",
       "    </tr>\n",
       "    <tr>\n",
       "      <th>1</th>\n",
       "      <td>[323, 81, 96, 219]</td>\n",
       "      <td>1.png</td>\n",
       "      <td>9</td>\n",
       "    </tr>\n",
       "    <tr>\n",
       "      <th>2</th>\n",
       "      <td>[77, 29, 23, 32]</td>\n",
       "      <td>2.png</td>\n",
       "      <td>2</td>\n",
       "    </tr>\n",
       "  </tbody>\n",
       "</table>\n",
       "</div>"
      ],
      "text/plain": [
       "                  box filename  label\n",
       "0  [246, 77, 81, 219]    1.png      1\n",
       "1  [323, 81, 96, 219]    1.png      9\n",
       "2    [77, 29, 23, 32]    2.png      2"
      ]
     },
     "metadata": {},
     "output_type": "display_data"
    },
    {
     "data": {
      "text/html": [
       "<div>\n",
       "<table border=\"1\" class=\"dataframe\">\n",
       "  <thead>\n",
       "    <tr style=\"text-align: right;\">\n",
       "      <th></th>\n",
       "      <th>box</th>\n",
       "      <th>filename</th>\n",
       "      <th>label</th>\n",
       "    </tr>\n",
       "  </thead>\n",
       "  <tbody>\n",
       "    <tr>\n",
       "      <th>0</th>\n",
       "      <td>[43, 7, 19, 30]</td>\n",
       "      <td>1.png</td>\n",
       "      <td>5</td>\n",
       "    </tr>\n",
       "    <tr>\n",
       "      <th>1</th>\n",
       "      <td>[99, 5, 14, 23]</td>\n",
       "      <td>2.png</td>\n",
       "      <td>2</td>\n",
       "    </tr>\n",
       "    <tr>\n",
       "      <th>2</th>\n",
       "      <td>[114, 8, 8, 23]</td>\n",
       "      <td>2.png</td>\n",
       "      <td>1</td>\n",
       "    </tr>\n",
       "  </tbody>\n",
       "</table>\n",
       "</div>"
      ],
      "text/plain": [
       "               box filename  label\n",
       "0  [43, 7, 19, 30]    1.png      5\n",
       "1  [99, 5, 14, 23]    2.png      2\n",
       "2  [114, 8, 8, 23]    2.png      1"
      ]
     },
     "metadata": {},
     "output_type": "display_data"
    },
    {
     "data": {
      "text/html": [
       "<div>\n",
       "<table border=\"1\" class=\"dataframe\">\n",
       "  <thead>\n",
       "    <tr style=\"text-align: right;\">\n",
       "      <th></th>\n",
       "      <th>box</th>\n",
       "      <th>filename</th>\n",
       "      <th>label</th>\n",
       "    </tr>\n",
       "  </thead>\n",
       "  <tbody>\n",
       "    <tr>\n",
       "      <th>0</th>\n",
       "      <td>[24, 70, 38, 56]</td>\n",
       "      <td>1.png</td>\n",
       "      <td>4</td>\n",
       "    </tr>\n",
       "    <tr>\n",
       "      <th>1</th>\n",
       "      <td>[55, 41, 36, 56]</td>\n",
       "      <td>1.png</td>\n",
       "      <td>7</td>\n",
       "    </tr>\n",
       "    <tr>\n",
       "      <th>2</th>\n",
       "      <td>[79, 23, 47, 56]</td>\n",
       "      <td>1.png</td>\n",
       "      <td>8</td>\n",
       "    </tr>\n",
       "  </tbody>\n",
       "</table>\n",
       "</div>"
      ],
      "text/plain": [
       "                box filename  label\n",
       "0  [24, 70, 38, 56]    1.png      4\n",
       "1  [55, 41, 36, 56]    1.png      7\n",
       "2  [79, 23, 47, 56]    1.png      8"
      ]
     },
     "metadata": {},
     "output_type": "display_data"
    }
   ],
   "source": [
    "hide_code\n",
    "\n",
    "train_d = {'filename': train_set['FileName'], 'label': train_set['DigitLabel'], 'box': train_box}\n",
    "train_df = pd.DataFrame(data=train_d)\n",
    "\n",
    "test_d = {'filename': test_set['FileName'], 'label': test_set['DigitLabel'], 'box': test_box}\n",
    "test_df = pd.DataFrame(data=test_d)\n",
    "\n",
    "extra_d = {'filename': extra_set['FileName'], 'label': extra_set['DigitLabel'], 'box': extra_box}\n",
    "extra_df = pd.DataFrame(data=extra_d)\n",
    "\n",
    "display(train_df.head(3))\n",
    "display(test_df.head(3))\n",
    "display(extra_df.head(3))"
   ]
  },
  {
   "cell_type": "markdown",
   "metadata": {},
   "source": [
    "***Grouping by file name***"
   ]
  },
  {
   "cell_type": "code",
   "execution_count": 23,
   "metadata": {
    "collapsed": false
   },
   "outputs": [
    {
     "data": {
      "text/plain": [
       "''"
      ]
     },
     "execution_count": 23,
     "metadata": {},
     "output_type": "execute_result"
    }
   ],
   "source": [
    "hide_code\n",
    "\n",
    "# train_g = grouped_by_filename(train_df)\n",
    "# test_g = grouped_by_filename(test_df)\n",
    "# extra_g = grouped_by_filename(extra_df)"
   ]
  },
  {
   "cell_type": "code",
   "execution_count": 543,
   "metadata": {
    "collapsed": false
   },
   "outputs": [
    {
     "data": {
      "text/html": [
       "<div>\n",
       "<table border=\"1\" class=\"dataframe\">\n",
       "  <thead>\n",
       "    <tr style=\"text-align: right;\">\n",
       "      <th></th>\n",
       "      <th>box</th>\n",
       "      <th>filename</th>\n",
       "      <th>label</th>\n",
       "    </tr>\n",
       "  </thead>\n",
       "  <tbody>\n",
       "    <tr>\n",
       "      <th>0</th>\n",
       "      <td>[[33, 10, 12, 24], [45, 10, 11, 24]]</td>\n",
       "      <td>5502.png</td>\n",
       "      <td>[3, 5]</td>\n",
       "    </tr>\n",
       "    <tr>\n",
       "      <th>1</th>\n",
       "      <td>[[35, 7, 11, 37], [44, 3, 11, 37]]</td>\n",
       "      <td>6876.png</td>\n",
       "      <td>[1, 5]</td>\n",
       "    </tr>\n",
       "    <tr>\n",
       "      <th>2</th>\n",
       "      <td>[[99, 32, 35, 51], [125, 29, 31, 51]]</td>\n",
       "      <td>12741.png</td>\n",
       "      <td>[2, 9]</td>\n",
       "    </tr>\n",
       "  </tbody>\n",
       "</table>\n",
       "</div>"
      ],
      "text/plain": [
       "                                     box   filename   label\n",
       "0   [[33, 10, 12, 24], [45, 10, 11, 24]]   5502.png  [3, 5]\n",
       "1     [[35, 7, 11, 37], [44, 3, 11, 37]]   6876.png  [1, 5]\n",
       "2  [[99, 32, 35, 51], [125, 29, 31, 51]]  12741.png  [2, 9]"
      ]
     },
     "metadata": {},
     "output_type": "display_data"
    },
    {
     "data": {
      "text/html": [
       "<div>\n",
       "<table border=\"1\" class=\"dataframe\">\n",
       "  <thead>\n",
       "    <tr style=\"text-align: right;\">\n",
       "      <th></th>\n",
       "      <th>box</th>\n",
       "      <th>filename</th>\n",
       "      <th>label</th>\n",
       "    </tr>\n",
       "  </thead>\n",
       "  <tbody>\n",
       "    <tr>\n",
       "      <th>0</th>\n",
       "      <td>[[35, 10, 15, 22], [51, 9, 12, 22], [63, 10, 1...</td>\n",
       "      <td>5502.png</td>\n",
       "      <td>[1, 7, 1]</td>\n",
       "    </tr>\n",
       "    <tr>\n",
       "      <th>1</th>\n",
       "      <td>[[135, 40, 10, 22], [146, 38, 16, 22]]</td>\n",
       "      <td>1166.png</td>\n",
       "      <td>[1, 7]</td>\n",
       "    </tr>\n",
       "    <tr>\n",
       "      <th>2</th>\n",
       "      <td>[[125, 37, 17, 25], [141, 41, 16, 25]]</td>\n",
       "      <td>506.png</td>\n",
       "      <td>[2, 8]</td>\n",
       "    </tr>\n",
       "  </tbody>\n",
       "</table>\n",
       "</div>"
      ],
      "text/plain": [
       "                                                 box  filename      label\n",
       "0  [[35, 10, 15, 22], [51, 9, 12, 22], [63, 10, 1...  5502.png  [1, 7, 1]\n",
       "1             [[135, 40, 10, 22], [146, 38, 16, 22]]  1166.png     [1, 7]\n",
       "2             [[125, 37, 17, 25], [141, 41, 16, 25]]   506.png     [2, 8]"
      ]
     },
     "metadata": {},
     "output_type": "display_data"
    },
    {
     "data": {
      "text/html": [
       "<div>\n",
       "<table border=\"1\" class=\"dataframe\">\n",
       "  <thead>\n",
       "    <tr style=\"text-align: right;\">\n",
       "      <th></th>\n",
       "      <th>box</th>\n",
       "      <th>filename</th>\n",
       "      <th>label</th>\n",
       "    </tr>\n",
       "  </thead>\n",
       "  <tbody>\n",
       "    <tr>\n",
       "      <th>0</th>\n",
       "      <td>[[21, 16, 34, 56], [55, 6, 26, 56], [80, 1, 42...</td>\n",
       "      <td>1380.png</td>\n",
       "      <td>[5, 10, 10]</td>\n",
       "    </tr>\n",
       "    <tr>\n",
       "      <th>1</th>\n",
       "      <td>[[5, 4, 11, 22], [15, 2, 14, 22]]</td>\n",
       "      <td>1781.png</td>\n",
       "      <td>[5, 3]</td>\n",
       "    </tr>\n",
       "    <tr>\n",
       "      <th>2</th>\n",
       "      <td>[[9, 16, 24, 48], [36, 17, 25, 48], [63, 14, 2...</td>\n",
       "      <td>1166.png</td>\n",
       "      <td>[4, 9, 10]</td>\n",
       "    </tr>\n",
       "  </tbody>\n",
       "</table>\n",
       "</div>"
      ],
      "text/plain": [
       "                                                 box  filename        label\n",
       "0  [[21, 16, 34, 56], [55, 6, 26, 56], [80, 1, 42...  1380.png  [5, 10, 10]\n",
       "1                  [[5, 4, 11, 22], [15, 2, 14, 22]]  1781.png       [5, 3]\n",
       "2  [[9, 16, 24, 48], [36, 17, 25, 48], [63, 14, 2...  1166.png   [4, 9, 10]"
      ]
     },
     "metadata": {},
     "output_type": "display_data"
    }
   ],
   "source": [
    "hide_code\n",
    "\n",
    "# train_g.to_csv('train_group.csv', index=False)\n",
    "# test_g.to_csv('test_group.csv', index=False)\n",
    "# extra_g.to_csv('extra_group.csv', index=False)\n",
    "display(train_g.head(3))\n",
    "display(test_g.head(3))\n",
    "display(extra_g.head(3))"
   ]
  },
  {
   "cell_type": "code",
   "execution_count": 19,
   "metadata": {
    "collapsed": false
   },
   "outputs": [
    {
     "data": {
      "text/html": [
       "<div>\n",
       "<table border=\"1\" class=\"dataframe\">\n",
       "  <thead>\n",
       "    <tr style=\"text-align: right;\">\n",
       "      <th></th>\n",
       "      <th>box</th>\n",
       "      <th>filename</th>\n",
       "      <th>label</th>\n",
       "    </tr>\n",
       "  </thead>\n",
       "  <tbody>\n",
       "    <tr>\n",
       "      <th>0</th>\n",
       "      <td>[[33, 10, 12, 24] [45, 10, 11, 24]]</td>\n",
       "      <td>5502.png</td>\n",
       "      <td>[3 5]</td>\n",
       "    </tr>\n",
       "    <tr>\n",
       "      <th>1</th>\n",
       "      <td>[[35, 7, 11, 37] [44, 3, 11, 37]]</td>\n",
       "      <td>6876.png</td>\n",
       "      <td>[1 5]</td>\n",
       "    </tr>\n",
       "    <tr>\n",
       "      <th>2</th>\n",
       "      <td>[[99, 32, 35, 51] [125, 29, 31, 51]]</td>\n",
       "      <td>12741.png</td>\n",
       "      <td>[2 9]</td>\n",
       "    </tr>\n",
       "  </tbody>\n",
       "</table>\n",
       "</div>"
      ],
      "text/plain": [
       "                                    box   filename  label\n",
       "0   [[33, 10, 12, 24] [45, 10, 11, 24]]   5502.png  [3 5]\n",
       "1     [[35, 7, 11, 37] [44, 3, 11, 37]]   6876.png  [1 5]\n",
       "2  [[99, 32, 35, 51] [125, 29, 31, 51]]  12741.png  [2 9]"
      ]
     },
     "metadata": {},
     "output_type": "display_data"
    },
    {
     "data": {
      "text/html": [
       "<div>\n",
       "<table border=\"1\" class=\"dataframe\">\n",
       "  <thead>\n",
       "    <tr style=\"text-align: right;\">\n",
       "      <th></th>\n",
       "      <th>box</th>\n",
       "      <th>filename</th>\n",
       "      <th>label</th>\n",
       "    </tr>\n",
       "  </thead>\n",
       "  <tbody>\n",
       "    <tr>\n",
       "      <th>0</th>\n",
       "      <td>[[35, 10, 15, 22] [51, 9, 12, 22] [63, 10, 12,...</td>\n",
       "      <td>5502.png</td>\n",
       "      <td>[1 7 1]</td>\n",
       "    </tr>\n",
       "    <tr>\n",
       "      <th>1</th>\n",
       "      <td>[[135, 40, 10, 22] [146, 38, 16, 22]]</td>\n",
       "      <td>1166.png</td>\n",
       "      <td>[1 7]</td>\n",
       "    </tr>\n",
       "    <tr>\n",
       "      <th>2</th>\n",
       "      <td>[[125, 37, 17, 25] [141, 41, 16, 25]]</td>\n",
       "      <td>506.png</td>\n",
       "      <td>[2 8]</td>\n",
       "    </tr>\n",
       "  </tbody>\n",
       "</table>\n",
       "</div>"
      ],
      "text/plain": [
       "                                                 box  filename    label\n",
       "0  [[35, 10, 15, 22] [51, 9, 12, 22] [63, 10, 12,...  5502.png  [1 7 1]\n",
       "1              [[135, 40, 10, 22] [146, 38, 16, 22]]  1166.png    [1 7]\n",
       "2              [[125, 37, 17, 25] [141, 41, 16, 25]]   506.png    [2 8]"
      ]
     },
     "metadata": {},
     "output_type": "display_data"
    },
    {
     "data": {
      "text/html": [
       "<div>\n",
       "<table border=\"1\" class=\"dataframe\">\n",
       "  <thead>\n",
       "    <tr style=\"text-align: right;\">\n",
       "      <th></th>\n",
       "      <th>box</th>\n",
       "      <th>filename</th>\n",
       "      <th>label</th>\n",
       "    </tr>\n",
       "  </thead>\n",
       "  <tbody>\n",
       "    <tr>\n",
       "      <th>0</th>\n",
       "      <td>[[21, 16, 34, 56] [55, 6, 26, 56] [80, 1, 42, ...</td>\n",
       "      <td>1380.png</td>\n",
       "      <td>[ 5 10 10]</td>\n",
       "    </tr>\n",
       "    <tr>\n",
       "      <th>1</th>\n",
       "      <td>[[5, 4, 11, 22] [15, 2, 14, 22]]</td>\n",
       "      <td>1781.png</td>\n",
       "      <td>[5 3]</td>\n",
       "    </tr>\n",
       "    <tr>\n",
       "      <th>2</th>\n",
       "      <td>[[9, 16, 24, 48] [36, 17, 25, 48] [63, 14, 29,...</td>\n",
       "      <td>1166.png</td>\n",
       "      <td>[ 4  9 10]</td>\n",
       "    </tr>\n",
       "  </tbody>\n",
       "</table>\n",
       "</div>"
      ],
      "text/plain": [
       "                                                 box  filename       label\n",
       "0  [[21, 16, 34, 56] [55, 6, 26, 56] [80, 1, 42, ...  1380.png  [ 5 10 10]\n",
       "1                   [[5, 4, 11, 22] [15, 2, 14, 22]]  1781.png       [5 3]\n",
       "2  [[9, 16, 24, 48] [36, 17, 25, 48] [63, 14, 29,...  1166.png  [ 4  9 10]"
      ]
     },
     "metadata": {},
     "output_type": "display_data"
    }
   ],
   "source": [
    "hide_code\n",
    "\n",
    "train_b = pd.read_csv(\"train_group.csv\")\n",
    "test_b = pd.read_csv(\"test_group.csv\")\n",
    "extra_b = pd.read_csv(\"extra_group.csv\")\n",
    "\n",
    "display(train_b.head(3))\n",
    "display(test_b.head(3))\n",
    "display(extra_b.head(3))"
   ]
  },
  {
   "cell_type": "markdown",
   "metadata": {},
   "source": [
    "***Checking labels***"
   ]
  },
  {
   "cell_type": "code",
   "execution_count": 20,
   "metadata": {
    "collapsed": false
   },
   "outputs": [],
   "source": [
    "hide_code\n",
    "\n",
    "train_labels = np.array([get_labels(train_b['label'][i]) for i in range(len(train_b))])\n",
    "train_filenames = train_b['filename']\n",
    "\n",
    "test_labels = np.array([get_labels(test_b['label'][i]) for i in range(len(test_b))])\n",
    "test_filenames = test_b['filename']\n",
    "\n",
    "extra_labels = np.array([get_labels(extra_b['label'][i]) for i in range(len(extra_b))])\n",
    "extra_filenames = extra_b['filename']"
   ]
  },
  {
   "cell_type": "code",
   "execution_count": 21,
   "metadata": {
    "collapsed": false
   },
   "outputs": [
    {
     "data": {
      "text/plain": [
       "array([29190])"
      ]
     },
     "execution_count": 21,
     "metadata": {},
     "output_type": "execute_result"
    }
   ],
   "source": [
    "hide_code\n",
    "\n",
    "np.where([len(train_labels[i])>5 for i in range(len(train_b))])[0]"
   ]
  },
  {
   "cell_type": "code",
   "execution_count": 22,
   "metadata": {
    "collapsed": false
   },
   "outputs": [
    {
     "data": {
      "text/plain": [
       "array([], dtype=int64)"
      ]
     },
     "execution_count": 22,
     "metadata": {},
     "output_type": "execute_result"
    }
   ],
   "source": [
    "hide_code\n",
    "\n",
    "np.where([len(test_labels[i])>5 for i in range(len(test_b))])[0]"
   ]
  },
  {
   "cell_type": "code",
   "execution_count": 23,
   "metadata": {
    "collapsed": false
   },
   "outputs": [
    {
     "data": {
      "text/plain": [
       "array([], dtype=int64)"
      ]
     },
     "execution_count": 23,
     "metadata": {},
     "output_type": "execute_result"
    }
   ],
   "source": [
    "hide_code\n",
    "\n",
    "np.where([len(extra_labels[i])>5 for i in range(len(extra_b))])[0]"
   ]
  },
  {
   "cell_type": "code",
   "execution_count": 24,
   "metadata": {
    "collapsed": false
   },
   "outputs": [
    {
     "data": {
      "text/plain": [
       "0"
      ]
     },
     "execution_count": 24,
     "metadata": {},
     "output_type": "execute_result"
    }
   ],
   "source": [
    "hide_code\n",
    "\n",
    "sum(np.array([len(train_labels[i])==0 for i in range(len(train_b))]))"
   ]
  },
  {
   "cell_type": "code",
   "execution_count": 25,
   "metadata": {
    "collapsed": false
   },
   "outputs": [
    {
     "data": {
      "text/plain": [
       "0"
      ]
     },
     "execution_count": 25,
     "metadata": {},
     "output_type": "execute_result"
    }
   ],
   "source": [
    "hide_code\n",
    "\n",
    "sum(np.array([len(test_labels[i])==0 for i in range(len(test_b))]))"
   ]
  },
  {
   "cell_type": "code",
   "execution_count": 26,
   "metadata": {
    "collapsed": false
   },
   "outputs": [
    {
     "data": {
      "text/plain": [
       "0"
      ]
     },
     "execution_count": 26,
     "metadata": {},
     "output_type": "execute_result"
    }
   ],
   "source": [
    "hide_code\n",
    "\n",
    "sum(np.array([len(extra_labels[i])==0 for i in range(len(extra_b))]))"
   ]
  },
  {
   "cell_type": "code",
   "execution_count": 27,
   "metadata": {
    "collapsed": false
   },
   "outputs": [],
   "source": [
    "hide_code\n",
    "\n",
    "for i in range(len(train_labels)):\n",
    "    train_labels[i][train_labels[i] > 9] = 0\n",
    "    \n",
    "for i in range(len(test_labels)):\n",
    "    test_labels[i][test_labels[i] > 9] = 0\n",
    "    \n",
    "for i in range(len(extra_labels)):\n",
    "    extra_labels[i][extra_labels[i] > 9] = 0"
   ]
  },
  {
   "cell_type": "code",
   "execution_count": 28,
   "metadata": {
    "collapsed": false
   },
   "outputs": [],
   "source": [
    "hide_code\n",
    "\n",
    "train_labels = np.delete(train_labels, 29190, 0)\n",
    "train_filenames = train_filenames.drop([29190])\n",
    "\n",
    "train_labels = np.array([fivedigit_label(train_labels[i]) for i in range(len(train_labels))])\n",
    "test_labels = np.array([fivedigit_label(test_labels[i]) for i in range(len(test_labels))])\n",
    "extra_labels = np.array([fivedigit_label(extra_labels[i]) for i in range(len(extra_labels))])"
   ]
  },
  {
   "cell_type": "markdown",
   "metadata": {},
   "source": [
    "***Displaying examples of preprocessing***"
   ]
  },
  {
   "cell_type": "code",
   "execution_count": 29,
   "metadata": {
    "collapsed": false
   },
   "outputs": [
    {
     "name": "stdout",
     "output_type": "stream",
     "text": [
      "Initial image size: (81, 120, 3)\n",
      "Digit boxes:\n",
      " [[12  9 30 55]\n",
      " [36 11 31 55]]\n",
      "Digits' box:  [13 67 10 66]\n",
      "Final image size:  (64, 64)\n",
      "Final image label:  [[ 10.  10.  10.   4.   1.]]\n",
      "\n",
      "Example of image preprocessing\n"
     ]
    },
    {
     "data": {
      "image/png": "[encoded data removed]",
      "text/plain": [
       "<matplotlib.figure.Figure at 0x1254fd4a8>"
      ]
     },
     "metadata": {},
     "output_type": "display_data"
    }
   ],
   "source": [
    "hide_code\n",
    "\n",
    "image1 = scipy.ndimage.imread('train/30065.png')\n",
    "print(\"Initial image size:\", image1.shape)\n",
    "\n",
    "n1 = np.where(train_filenames == '30065.png')[0]\n",
    "label1 = train_labels[n1]\n",
    "\n",
    "box1 = np.array(get_box(train_b['box'][n1]))\n",
    "print(\"Digit boxes:\\n\", box1)\n",
    "box_n1 = image_box(box1)\n",
    "print(\"Digits' box: \", box_n1)\n",
    "\n",
    "image_n1 = image1[box_n1[2]:box_n1[3], box_n1[0]:box_n1[1]]\n",
    "image64_1 = scipy.misc.imresize(image_n1, (64, 64))/255\n",
    "image64_2 = np.dot(np.array(image64_1, dtype='float32'), [0.299, 0.587, 0.114])\n",
    "\n",
    "print(\"Final image size: \", image64_2.shape)\n",
    "print(\"Final image label: \", label1)\n",
    "print('\\nExample of image preprocessing')\n",
    "\n",
    "plt.imshow(image64_1, cmap=plt.cm.Blues);"
   ]
  },
  {
   "cell_type": "code",
   "execution_count": 30,
   "metadata": {
    "collapsed": false
   },
   "outputs": [
    {
     "name": "stdout",
     "output_type": "stream",
     "text": [
      "Image size:  (32, 32)\n",
      "Image label:  [[ 10.  10.  10.   2.   1.]]\n",
      "\n",
      "Example of image preprocessing with the function\n"
     ]
    },
    {
     "data": {
      "image/png": "[encoded data removed]",
      "text/plain": [
       "<matplotlib.figure.Figure at 0x12914af28>"
      ]
     },
     "metadata": {},
     "output_type": "display_data"
    }
   ],
   "source": [
    "hide_code\n",
    "\n",
    "image_example = get_image('train', '178.png')\n",
    "\n",
    "print(\"Image size: \", image_example[1].shape)\n",
    "print(\"Image label: \", image_example[2])\n",
    "print('\\nExample of image preprocessing with the function')\n",
    "plt.imshow(image_example[1], cmap=plt.cm.Blues);"
   ]
  },
  {
   "cell_type": "markdown",
   "metadata": {},
   "source": [
    "***Image preprocessing. Variant #1***"
   ]
  },
  {
   "cell_type": "code",
   "execution_count": 60,
   "metadata": {
    "collapsed": false
   },
   "outputs": [
    {
     "name": "stdout",
     "output_type": "stream",
     "text": [
      "Applying the preprocessing function\n"
     ]
    }
   ],
   "source": [
    "hide_code\n",
    "\n",
    "print(\"Applying the preprocessing function\")\n",
    "# train_images1 = np.array([get_image('train', x)[0] for x in train_filenames[:13000])\n",
    "# train_images2 = np.array([get_image('train', x)[1] for x in train_filenames[:13000]])\n",
    "\n",
    "# test_images1 = np.array([get_image('test', x)[0] for x in test_filenames[:6000]])\n",
    "# test_images2 = np.array([get_image('test', x)[1] for x in test_filenames[:6000]])\n",
    "\n",
    "# extra_images1 = np.array([get_image('extra', x)[0] for x in extra_filenames[:13000]])\n",
    "# extra_images2 = np.array([get_image('extra', x)[1] for x in extra_filenames[:13000]])"
   ]
  },
  {
   "cell_type": "markdown",
   "metadata": {},
   "source": [
    "***Image preprocessing. Variant #2***"
   ]
  },
  {
   "cell_type": "markdown",
   "metadata": {},
   "source": [
    "#### Set #1: 13 000 train data points, 6 000 test data points, 13 000 extra data points"
   ]
  },
  {
   "cell_type": "code",
   "execution_count": 31,
   "metadata": {
    "collapsed": false
   },
   "outputs": [
    {
     "name": "stdout",
     "output_type": "stream",
     "text": [
      "1000\n",
      "2000\n",
      "3000\n",
      "4000\n",
      "5000\n",
      "6000\n",
      "7000\n",
      "8000\n"
     ]
    }
   ],
   "source": [
    "hide_code\n",
    "\n",
    "train_images01 = np.array([get_image('train', x)[0] for x in train_filenames[:1000]])\n",
    "train_images02 = np.array([get_image('train', x)[1] for x in train_filenames[:1000]]) \n",
    "\n",
    "i= 1000\n",
    "print(i)\n",
    "\n",
    "while i < 7001: \n",
    "\n",
    "        train_images11 = np.array([get_image('train', x)[0] for x in train_filenames[i:i+1000]])\n",
    "        train_images12 = np.array([get_image('train', x)[1] for x in train_filenames[i:i+1000]]) \n",
    "        \n",
    "        train_images1 = np.concatenate((train_images01, train_images11), axis=0)\n",
    "        train_images2 = np.concatenate((train_images02, train_images12), axis=0)\n",
    "        \n",
    "        train_images01 = train_images1\n",
    "        train_images02 = train_images2\n",
    "        \n",
    "        i += 1000\n",
    "        print(i)"
   ]
  },
  {
   "cell_type": "code",
   "execution_count": 32,
   "metadata": {
    "collapsed": false
   },
   "outputs": [
    {
     "data": {
      "text/plain": [
       "8000"
      ]
     },
     "execution_count": 32,
     "metadata": {},
     "output_type": "execute_result"
    }
   ],
   "source": [
    "hide_code\n",
    "\n",
    "train_images_8000_1 = train_images1\n",
    "train_images_8000_2 = train_images2\n",
    "\n",
    "len(train_images_8000_1)"
   ]
  },
  {
   "cell_type": "code",
   "execution_count": 33,
   "metadata": {
    "collapsed": false
   },
   "outputs": [
    {
     "name": "stdout",
     "output_type": "stream",
     "text": [
      "9000\n",
      "10000\n",
      "11000\n",
      "12000\n",
      "13000\n"
     ]
    }
   ],
   "source": [
    "hide_code\n",
    "\n",
    "train_images01 = np.array([get_image('train', x)[0] for x in train_filenames[8000:9000]])\n",
    "train_images02 = np.array([get_image('train', x)[1] for x in train_filenames[8000:9000]]) \n",
    "\n",
    "i= 9000\n",
    "print(i)\n",
    "\n",
    "while i < 12001: \n",
    "\n",
    "        train_images11 = np.array([get_image('train', x)[0] for x in train_filenames[i:i+1000]])\n",
    "        train_images12 = np.array([get_image('train', x)[1] for x in train_filenames[i:i+1000]]) \n",
    "        \n",
    "        train_images1 = np.concatenate((train_images01, train_images11), axis=0)\n",
    "        train_images2 = np.concatenate((train_images02, train_images12), axis=0)\n",
    "        \n",
    "        train_images01 = train_images1\n",
    "        train_images02 = train_images2\n",
    "        \n",
    "        i += 1000\n",
    "        print(i)"
   ]
  },
  {
   "cell_type": "code",
   "execution_count": 35,
   "metadata": {
    "collapsed": false
   },
   "outputs": [
    {
     "data": {
      "text/plain": [
       "5000"
      ]
     },
     "execution_count": 35,
     "metadata": {},
     "output_type": "execute_result"
    }
   ],
   "source": [
    "hide_code\n",
    "\n",
    "train_images_13000_1 = train_images1\n",
    "train_images_13000_2 = train_images2\n",
    "\n",
    "len(train_images_13000_1)"
   ]
  },
  {
   "cell_type": "code",
   "execution_count": 36,
   "metadata": {
    "collapsed": false
   },
   "outputs": [],
   "source": [
    "hide_code\n",
    "\n",
    "train_images1 = np.concatenate((train_images_8000_1, train_images_13000_1), axis=0)\n",
    "train_images2 = np.concatenate((train_images_8000_2, train_images_13000_2), axis=0)"
   ]
  },
  {
   "cell_type": "code",
   "execution_count": 39,
   "metadata": {
    "collapsed": false
   },
   "outputs": [],
   "source": [
    "hide_code\n",
    "\n",
    "train_images1t = train_images1.reshape(13000, 32*32*3)\n",
    "train_images2t = train_images2.reshape(13000, 32*32)\n",
    "\n",
    "train_images_df1 = pd.DataFrame(data=train_images1t, index = train_filenames[:13000])\n",
    "train_images_df2 = pd.DataFrame(data=train_images2t, index = train_filenames[:13000])\n",
    "train_labels_df = pd.DataFrame(data=train_labels[:13000], index = train_filenames[:13000])\n",
    "\n",
    "with open('train_images1.csv', 'w') as f:\n",
    "    train_images_df1.to_csv(f)\n",
    "with open('train_images2.csv', 'w') as f:\n",
    "    train_images_df2.to_csv(f)    \n",
    "with open('train_labels.csv', 'w') as f:\n",
    "    train_labels_df.to_csv(f)"
   ]
  },
  {
   "cell_type": "code",
   "execution_count": 40,
   "metadata": {
    "collapsed": false
   },
   "outputs": [
    {
     "name": "stdout",
     "output_type": "stream",
     "text": [
      "1000\n",
      "2000\n",
      "3000\n",
      "4000\n",
      "5000\n",
      "6000\n"
     ]
    }
   ],
   "source": [
    "hide_code\n",
    "\n",
    "test_images01 = np.array([get_image('test', x)[0] for x in test_filenames[:1000]])\n",
    "test_images02 = np.array([get_image('test', x)[1] for x in test_filenames[:1000]]) \n",
    "\n",
    "i= 1000\n",
    "print(i)\n",
    "\n",
    "while i < 5001:\n",
    "    \n",
    "    test_images11 = np.array([get_image('test', x)[0] for x in test_filenames[i:i+1000]])\n",
    "    test_images12 = np.array([get_image('test', x)[1] for x in test_filenames[i:i+1000]]) \n",
    "        \n",
    "    test_images1 = np.concatenate((test_images01, test_images11), axis=0)\n",
    "    test_images2 = np.concatenate((test_images02, test_images12), axis=0)\n",
    "        \n",
    "    test_images01 = test_images1\n",
    "    test_images02 = test_images2\n",
    "        \n",
    "    i += 1000\n",
    "    print(i)"
   ]
  },
  {
   "cell_type": "code",
   "execution_count": 41,
   "metadata": {
    "collapsed": false
   },
   "outputs": [
    {
     "data": {
      "text/plain": [
       "6000"
      ]
     },
     "execution_count": 41,
     "metadata": {},
     "output_type": "execute_result"
    }
   ],
   "source": [
    "hide_code\n",
    "\n",
    "test_images_6000_1 = test_images1\n",
    "test_images_6000_2 = test_images2\n",
    "len(test_images_6000_1)"
   ]
  },
  {
   "cell_type": "code",
   "execution_count": 43,
   "metadata": {
    "collapsed": true
   },
   "outputs": [],
   "source": [
    "hide_code\n",
    "\n",
    "test_images1t = test_images1.reshape(6000, 32*32*3)\n",
    "test_images2t = test_images2.reshape(6000, 32*32)\n",
    "\n",
    "test_images_df1 = pd.DataFrame(data=test_images1t, index = test_filenames[:6000])\n",
    "test_images_df2 = pd.DataFrame(data=test_images2t, index = test_filenames[:6000])\n",
    "test_labels_df = pd.DataFrame(data=test_labels[:6000], index = test_filenames[:6000])\n",
    "\n",
    "with open('test_images1.csv', 'w') as f:\n",
    "    test_images_df1.to_csv(f)\n",
    "with open('test_images2.csv', 'w') as f:\n",
    "    test_images_df2.to_csv(f)    \n",
    "with open('test_labels.csv', 'w') as f:\n",
    "    test_labels_df.to_csv(f)"
   ]
  },
  {
   "cell_type": "code",
   "execution_count": 44,
   "metadata": {
    "collapsed": false
   },
   "outputs": [
    {
     "name": "stdout",
     "output_type": "stream",
     "text": [
      "1000\n",
      "2000\n",
      "3000\n",
      "4000\n",
      "5000\n",
      "6000\n",
      "7000\n",
      "8000\n"
     ]
    }
   ],
   "source": [
    "hide_code\n",
    "\n",
    "extra_images01 = np.array([get_image('extra', x)[0] for x in extra_filenames[:1000]])\n",
    "extra_images02 = np.array([get_image('extra', x)[1] for x in extra_filenames[:1000]])\n",
    "\n",
    "i= 1000\n",
    "print(i)\n",
    "\n",
    "while i < 7001:\n",
    "    \n",
    "    extra_images11 = np.array([get_image('extra', x)[0] for x in extra_filenames[i:i+1000]])\n",
    "    extra_images12 = np.array([get_image('extra', x)[1] for x in extra_filenames[i:i+1000]]) \n",
    "        \n",
    "    extra_images1 = np.concatenate((extra_images01, extra_images11), axis=0)\n",
    "    extra_images2 = np.concatenate((extra_images02, extra_images12), axis=0)\n",
    "        \n",
    "    extra_images01 = extra_images1\n",
    "    extra_images02 = extra_images2\n",
    "        \n",
    "    i += 1000\n",
    "    print(i)"
   ]
  },
  {
   "cell_type": "code",
   "execution_count": 45,
   "metadata": {
    "collapsed": false
   },
   "outputs": [
    {
     "data": {
      "text/plain": [
       "8000"
      ]
     },
     "execution_count": 45,
     "metadata": {},
     "output_type": "execute_result"
    }
   ],
   "source": [
    "hide_code\n",
    "\n",
    "extra_images_8000_1 = extra_images1\n",
    "extra_images_8000_2 = extra_images2\n",
    "len(extra_images_8000_1)"
   ]
  },
  {
   "cell_type": "code",
   "execution_count": 46,
   "metadata": {
    "collapsed": false
   },
   "outputs": [
    {
     "name": "stdout",
     "output_type": "stream",
     "text": [
      "9000\n",
      "10000\n",
      "11000\n",
      "12000\n",
      "13000\n"
     ]
    }
   ],
   "source": [
    "hide_code\n",
    "\n",
    "extra_images01 = np.array([get_image('extra', x)[0] for x in extra_filenames[8000:9000]])\n",
    "extra_images02 = np.array([get_image('extra', x)[1] for x in extra_filenames[8000:9000]])\n",
    "\n",
    "i = 9000\n",
    "print(i)\n",
    "\n",
    "while i < 12001:\n",
    "    \n",
    "    extra_images11 = np.array([get_image('extra', x)[0] for x in extra_filenames[i:i+1000]])\n",
    "    extra_images12 = np.array([get_image('extra', x)[1] for x in extra_filenames[i:i+1000]]) \n",
    "        \n",
    "    extra_images1 = np.concatenate((extra_images01, extra_images11), axis=0)\n",
    "    extra_images2 = np.concatenate((extra_images02, extra_images12), axis=0)\n",
    "        \n",
    "    extra_images01 = extra_images1\n",
    "    extra_images02 = extra_images2\n",
    "        \n",
    "    i += 1000\n",
    "    print(i)"
   ]
  },
  {
   "cell_type": "code",
   "execution_count": 47,
   "metadata": {
    "collapsed": false
   },
   "outputs": [
    {
     "data": {
      "text/plain": [
       "5000"
      ]
     },
     "execution_count": 47,
     "metadata": {},
     "output_type": "execute_result"
    }
   ],
   "source": [
    "hide_code\n",
    "\n",
    "extra_images_13000_1 = extra_images1\n",
    "extra_images_13000_2 = extra_images2\n",
    "len(extra_images_13000_1)"
   ]
  },
  {
   "cell_type": "code",
   "execution_count": 48,
   "metadata": {
    "collapsed": true
   },
   "outputs": [],
   "source": [
    "hide_code\n",
    "\n",
    "extra_images1 = np.concatenate((extra_images_8000_1, extra_images_13000_1), axis=0)\n",
    "extra_images2 = np.concatenate((extra_images_8000_2, extra_images_13000_2), axis=0)"
   ]
  },
  {
   "cell_type": "code",
   "execution_count": 50,
   "metadata": {
    "collapsed": true
   },
   "outputs": [],
   "source": [
    "hide_code\n",
    "\n",
    "extra_images1t = extra_images1.reshape(13000, 32*32*3)\n",
    "extra_images2t = extra_images2.reshape(13000, 32*32)\n",
    "\n",
    "extra_images_df1 = pd.DataFrame(data=extra_images1t, index = extra_filenames[:13000])\n",
    "extra_images_df2 = pd.DataFrame(data=extra_images2t, index = extra_filenames[:13000])\n",
    "extra_labels_df = pd.DataFrame(data=extra_labels[:13000], index = extra_filenames[:13000])\n",
    "\n",
    "with open('extra_images1.csv', 'w') as f:\n",
    "    extra_images_df1.to_csv(f)\n",
    "with open('extra_images2.csv', 'w') as f:\n",
    "    extra_images_df2.to_csv(f)    \n",
    "with open('extra_labels.csv', 'w') as f:\n",
    "    extra_labels_df.to_csv(f)"
   ]
  },
  {
   "cell_type": "code",
   "execution_count": 51,
   "metadata": {
    "collapsed": false
   },
   "outputs": [
    {
     "name": "stdout",
     "output_type": "stream",
     "text": [
      "Compressed pickle size: 1050431359\n"
     ]
    }
   ],
   "source": [
    "hide_code\n",
    "\n",
    "pickle_file = 'svhn1.pickle'\n",
    "\n",
    "try:\n",
    "    f = open(pickle_file, 'wb')\n",
    "    save = {'train_images1': train_images1, 'train_images2': train_images2,\n",
    "            'train_labels': train_labels[:13000], 'train_filenames': train_filenames[:13000],\n",
    "            'test_images1': test_images1, 'test_images2': test_images2,\n",
    "            'test_labels': test_labels[:6000], 'test_filenames': test_filenames[:6000],\n",
    "            'extra_images1': extra_images1, 'extra_images2': extra_images2,\n",
    "            'extra_labels': extra_labels[:13000], 'extra_filenames': extra_filenames[:13000]}\n",
    "    pickle.dump(save, f, pickle.HIGHEST_PROTOCOL)\n",
    "    f.close()\n",
    "except Exception as e:\n",
    "    print('Unable to save data to', pickle_file, ':', e)\n",
    "    raise\n",
    "\n",
    "del save\n",
    "    \n",
    "statinfo = os.stat(pickle_file)\n",
    "print('Compressed pickle size:', statinfo.st_size)"
   ]
  },
  {
   "cell_type": "markdown",
   "metadata": {},
   "source": [
    "#### Set #2: 13 000 train data points, 6 000 test data points, 13 000 extra data points"
   ]
  },
  {
   "cell_type": "code",
   "execution_count": 54,
   "metadata": {
    "collapsed": false
   },
   "outputs": [
    {
     "name": "stdout",
     "output_type": "stream",
     "text": [
      "14000\n",
      "15000\n",
      "16000\n",
      "17000\n",
      "18000\n",
      "19000\n"
     ]
    }
   ],
   "source": [
    "hide_code\n",
    "\n",
    "train_images01 = np.array([get_image('train', x)[0] for x in train_filenames[13000:14000]])\n",
    "train_images02 = np.array([get_image('train', x)[1] for x in train_filenames[13000:14000]]) \n",
    "\n",
    "i= 14000\n",
    "print(i)\n",
    "\n",
    "while i < 18001: \n",
    "    \n",
    "        train_images11 = np.array([get_image('train', x)[0] for x in train_filenames[i:i+1000]])\n",
    "        train_images12 = np.array([get_image('train', x)[1] for x in train_filenames[i:i+1000]]) \n",
    "        \n",
    "        train_images1 = np.concatenate((train_images01, train_images11), axis=0)\n",
    "        train_images2 = np.concatenate((train_images02, train_images12), axis=0)\n",
    "        \n",
    "        train_images01 = train_images1\n",
    "        train_images02 = train_images2\n",
    "        \n",
    "        i += 1000\n",
    "        print(i)"
   ]
  },
  {
   "cell_type": "code",
   "execution_count": 55,
   "metadata": {
    "collapsed": false
   },
   "outputs": [
    {
     "data": {
      "text/plain": [
       "6000"
      ]
     },
     "execution_count": 55,
     "metadata": {},
     "output_type": "execute_result"
    }
   ],
   "source": [
    "hide_code\n",
    "\n",
    "train_images_19000_1 = train_images1\n",
    "train_images_19000_2 = train_images2\n",
    "len(train_images_19000_1)"
   ]
  },
  {
   "cell_type": "code",
   "execution_count": 56,
   "metadata": {
    "collapsed": false
   },
   "outputs": [
    {
     "name": "stdout",
     "output_type": "stream",
     "text": [
      "20000\n",
      "21000\n",
      "22000\n",
      "23000\n",
      "24000\n",
      "25000\n",
      "26000\n"
     ]
    }
   ],
   "source": [
    "hide_code\n",
    "\n",
    "train_images01 = np.array([get_image('train', x)[0] for x in train_filenames[19000:20000]])\n",
    "train_images02 = np.array([get_image('train', x)[1] for x in train_filenames[19000:20000]]) \n",
    "\n",
    "i= 20000\n",
    "print(i)\n",
    "\n",
    "while i < 25001: \n",
    "    \n",
    "        train_images11 = np.array([get_image('train', x)[0] for x in train_filenames[i:i+1000]])\n",
    "        train_images12 = np.array([get_image('train', x)[1] for x in train_filenames[i:i+1000]]) \n",
    "        \n",
    "        train_images1 = np.concatenate((train_images01, train_images11), axis=0)\n",
    "        train_images2 = np.concatenate((train_images02, train_images12), axis=0)\n",
    "        \n",
    "        train_images01 = train_images1\n",
    "        train_images02 = train_images2\n",
    "        \n",
    "        i += 1000\n",
    "        print(i)"
   ]
  },
  {
   "cell_type": "code",
   "execution_count": 57,
   "metadata": {
    "collapsed": false
   },
   "outputs": [
    {
     "data": {
      "text/plain": [
       "7000"
      ]
     },
     "execution_count": 57,
     "metadata": {},
     "output_type": "execute_result"
    }
   ],
   "source": [
    "hide_code\n",
    "\n",
    "train_images_26000_1 = train_images1\n",
    "train_images_26000_2 = train_images2\n",
    "len(train_images_26000_1)"
   ]
  },
  {
   "cell_type": "code",
   "execution_count": 58,
   "metadata": {
    "collapsed": true
   },
   "outputs": [],
   "source": [
    "hide_code\n",
    "\n",
    "train_images1 = np.concatenate((train_images_19000_1, train_images_26000_1), axis=0)\n",
    "train_images2 = np.concatenate((train_images_19000_2, train_images_26000_2), axis=0)"
   ]
  },
  {
   "cell_type": "code",
   "execution_count": 61,
   "metadata": {
    "collapsed": true
   },
   "outputs": [],
   "source": [
    "hide_code\n",
    "\n",
    "train_images1t = train_images1.reshape(13000, 32*32*3)\n",
    "train_images2t = train_images2.reshape(13000, 32*32)\n",
    "\n",
    "train_images_df1 = pd.DataFrame(data=train_images1t, index = train_filenames[13000:26000])\n",
    "train_images_df2 = pd.DataFrame(data=train_images2t, index = train_filenames[13000:26000])\n",
    "train_labels_df = pd.DataFrame(data=train_labels[13000:26000], index = train_filenames[13000:26000])\n",
    "\n",
    "with open('train_images1_2.csv', 'w') as f:\n",
    "    train_images_df1.to_csv(f)\n",
    "with open('train_images2_2.csv', 'w') as f:\n",
    "    train_images_df2.to_csv(f)    \n",
    "with open('train_labels_2.csv', 'w') as f:\n",
    "    train_labels_df.to_csv(f)"
   ]
  },
  {
   "cell_type": "code",
   "execution_count": 62,
   "metadata": {
    "collapsed": false
   },
   "outputs": [
    {
     "name": "stdout",
     "output_type": "stream",
     "text": [
      "8000\n",
      "9000\n",
      "10000\n",
      "11000\n",
      "12000\n",
      "13000\n"
     ]
    }
   ],
   "source": [
    "hide_code\n",
    "\n",
    "test_images01 = np.array([get_image('test', x)[0] for x in test_filenames[7000:8000]])\n",
    "test_images02 = np.array([get_image('test', x)[1] for x in test_filenames[7000:8000]])\n",
    "\n",
    "i= 8000\n",
    "print(i)\n",
    "\n",
    "while i < 12001:\n",
    "    \n",
    "    test_images11 = np.array([get_image('test', x)[0] for x in test_filenames[i:i+1000]])\n",
    "    test_images12 = np.array([get_image('test', x)[1] for x in test_filenames[i:i+1000]]) \n",
    "        \n",
    "    test_images1 = np.concatenate((test_images01, test_images11), axis=0)\n",
    "    test_images2 = np.concatenate((test_images02, test_images12), axis=0)\n",
    "        \n",
    "    test_images01 = test_images1\n",
    "    test_images02 = test_images2\n",
    "        \n",
    "    i += 1000\n",
    "    print(i)"
   ]
  },
  {
   "cell_type": "code",
   "execution_count": 63,
   "metadata": {
    "collapsed": false
   },
   "outputs": [
    {
     "data": {
      "text/plain": [
       "6000"
      ]
     },
     "execution_count": 63,
     "metadata": {},
     "output_type": "execute_result"
    }
   ],
   "source": [
    "hide_code\n",
    "\n",
    "test_images_13000_1 = test_images1\n",
    "test_images_13000_2 = test_images2\n",
    "len(test_images_13000_1)"
   ]
  },
  {
   "cell_type": "code",
   "execution_count": 66,
   "metadata": {
    "collapsed": true
   },
   "outputs": [],
   "source": [
    "hide_code\n",
    "\n",
    "test_images1t = test_images1.reshape(6000, 32*32*3)\n",
    "test_images2t = test_images2.reshape(6000, 32*32)\n",
    "\n",
    "test_images_df1 = pd.DataFrame(data=test_images1t, index = test_filenames[7000:13000])\n",
    "test_images_df2 = pd.DataFrame(data=test_images2t, index = test_filenames[7000:13000])\n",
    "test_labels_df = pd.DataFrame(data=test_labels[7000:13000], index = test_filenames[7000:13000])\n",
    "\n",
    "with open('test_images1_2.csv', 'w') as f:\n",
    "    test_images_df1.to_csv(f)\n",
    "with open('test_images2_2.csv', 'w') as f:\n",
    "    test_images_df2.to_csv(f)    \n",
    "with open('test_labels_2.csv', 'w') as f:\n",
    "    test_labels_df.to_csv(f)"
   ]
  },
  {
   "cell_type": "code",
   "execution_count": 67,
   "metadata": {
    "collapsed": false
   },
   "outputs": [
    {
     "name": "stdout",
     "output_type": "stream",
     "text": [
      "14000\n",
      "15000\n",
      "16000\n",
      "17000\n",
      "18000\n",
      "19000\n"
     ]
    }
   ],
   "source": [
    "hide_code\n",
    "\n",
    "extra_images01 = np.array([get_image('extra', x)[0] for x in extra_filenames[13000:14000]])\n",
    "extra_images02 = np.array([get_image('extra', x)[1] for x in extra_filenames[13000:14000]])\n",
    "\n",
    "i= 14000\n",
    "print(i)\n",
    "\n",
    "while i < 18001:\n",
    "    \n",
    "    extra_images11 = np.array([get_image('extra', x)[0] for x in extra_filenames[i:i+1000]])\n",
    "    extra_images12 = np.array([get_image('extra', x)[1] for x in extra_filenames[i:i+1000]]) \n",
    "        \n",
    "    extra_images1 = np.concatenate((extra_images01, extra_images11), axis=0)\n",
    "    extra_images2 = np.concatenate((extra_images02, extra_images12), axis=0)\n",
    "        \n",
    "    extra_images01 = extra_images1\n",
    "    extra_images02 = extra_images2\n",
    "        \n",
    "    i += 1000\n",
    "    print(i)"
   ]
  },
  {
   "cell_type": "code",
   "execution_count": 68,
   "metadata": {
    "collapsed": false
   },
   "outputs": [
    {
     "data": {
      "text/plain": [
       "6000"
      ]
     },
     "execution_count": 68,
     "metadata": {},
     "output_type": "execute_result"
    }
   ],
   "source": [
    "hide_code\n",
    "\n",
    "extra_images_19000_1 = extra_images1\n",
    "extra_images_19000_2 = extra_images2\n",
    "len(extra_images_19000_1)"
   ]
  },
  {
   "cell_type": "code",
   "execution_count": 78,
   "metadata": {
    "collapsed": false
   },
   "outputs": [
    {
     "name": "stdout",
     "output_type": "stream",
     "text": [
      "26000\n",
      "27000\n",
      "28000\n",
      "29000\n",
      "30000\n",
      "31000\n",
      "32000\n"
     ]
    }
   ],
   "source": [
    "hide_code\n",
    "\n",
    "extra_images01 = np.array([get_image('extra', x)[0] for x in extra_filenames[25000:26000]])\n",
    "extra_images02 = np.array([get_image('extra', x)[1] for x in extra_filenames[25000:26000]])\n",
    "\n",
    "i= 26000\n",
    "print(i)\n",
    "\n",
    "while i < 31001:\n",
    "    \n",
    "    extra_images11 = np.array([get_image('extra', x)[0] for x in extra_filenames[i:i+1000]])\n",
    "    extra_images12 = np.array([get_image('extra', x)[1] for x in extra_filenames[i:i+1000]]) \n",
    "        \n",
    "    extra_images1 = np.concatenate((extra_images01, extra_images11), axis=0)\n",
    "    extra_images2 = np.concatenate((extra_images02, extra_images12), axis=0)\n",
    "        \n",
    "    extra_images01 = extra_images1\n",
    "    extra_images02 = extra_images2\n",
    "        \n",
    "    i += 1000\n",
    "    print(i)"
   ]
  },
  {
   "cell_type": "code",
   "execution_count": 79,
   "metadata": {
    "collapsed": false
   },
   "outputs": [
    {
     "data": {
      "text/plain": [
       "7000"
      ]
     },
     "execution_count": 79,
     "metadata": {},
     "output_type": "execute_result"
    }
   ],
   "source": [
    "hide_code\n",
    "\n",
    "extra_images_32000_1 = extra_images1\n",
    "extra_images_32000_2 = extra_images2\n",
    "len(extra_images_32000_1)"
   ]
  },
  {
   "cell_type": "code",
   "execution_count": 80,
   "metadata": {
    "collapsed": true
   },
   "outputs": [],
   "source": [
    "hide_code\n",
    "\n",
    "extra_images1 = np.concatenate((extra_images_19000_1, extra_images_32000_1), axis=0)\n",
    "extra_images2 = np.concatenate((extra_images_19000_2, extra_images_32000_2), axis=0)\n",
    "extra_filenames2 = np.concatenate((extra_filenames[13000:19000], extra_filenames[25000:32000]), axis=0)\n",
    "extra_labels2 = np.concatenate((extra_labels[13000:19000], extra_labels[25000:32000]), axis=0)"
   ]
  },
  {
   "cell_type": "code",
   "execution_count": 82,
   "metadata": {
    "collapsed": true
   },
   "outputs": [],
   "source": [
    "hide_code\n",
    "\n",
    "extra_images1t = extra_images1.reshape(13000, 32*32*3)\n",
    "extra_images2t = extra_images2.reshape(13000, 32*32)\n",
    "\n",
    "extra_images_df1 = pd.DataFrame(data=extra_images1t, index = extra_filenames2)\n",
    "extra_images_df2 = pd.DataFrame(data=extra_images2t, index = extra_filenames2)\n",
    "extra_labels_df = pd.DataFrame(data=extra_labels2, index = extra_filenames2)\n",
    "\n",
    "with open('extra_images1_2.csv', 'w') as f:\n",
    "    extra_images_df1.to_csv(f)\n",
    "with open('extra_images2_2.csv', 'w') as f:\n",
    "    extra_images_df2.to_csv(f)    \n",
    "with open('extra_labels_2.csv', 'w') as f:\n",
    "    extra_labels_df.to_csv(f)"
   ]
  },
  {
   "cell_type": "code",
   "execution_count": 83,
   "metadata": {
    "collapsed": false
   },
   "outputs": [
    {
     "name": "stdout",
     "output_type": "stream",
     "text": [
      "Compressed pickle size: 1050440267\n"
     ]
    }
   ],
   "source": [
    "hide_code\n",
    "\n",
    "pickle_file = 'svhn2.pickle'\n",
    "\n",
    "try:\n",
    "    f = open(pickle_file, 'wb')\n",
    "    save = {'train_images1': train_images1, 'train_images2': train_images2,\n",
    "            'train_labels': train_labels[13000:26000], 'train_filenames': train_filenames[13000:26000],\n",
    "            'test_images1': test_images1, 'test_images2': test_images2,\n",
    "            'test_labels': test_labels[7000:13000], 'test_filenames': test_filenames[7000:13000],\n",
    "            'extra_images1': extra_images1, 'extra_images2': extra_images2,\n",
    "            'extra_labels': extra_labels2, 'extra_filenames': extra_filenames2}\n",
    "    pickle.dump(save, f, pickle.HIGHEST_PROTOCOL)\n",
    "    f.close()\n",
    "except Exception as e:\n",
    "    print('Unable to save data to', pickle_file, ':', e)\n",
    "    raise\n",
    "\n",
    "del save\n",
    "    \n",
    "statinfo = os.stat(pickle_file)\n",
    "print('Compressed pickle size:', statinfo.st_size)"
   ]
  },
  {
   "cell_type": "markdown",
   "metadata": {
    "collapsed": true
   },
   "source": [
    "*** Loading and preparing features and targets***"
   ]
  },
  {
   "cell_type": "code",
   "execution_count": 16,
   "metadata": {
    "collapsed": false
   },
   "outputs": [
    {
     "data": {
      "text/html": [
       "<div>\n",
       "<style>\n",
       "    .dataframe thead tr:only-child th {\n",
       "        text-align: right;\n",
       "    }\n",
       "\n",
       "    .dataframe thead th {\n",
       "        text-align: left;\n",
       "    }\n",
       "\n",
       "    .dataframe tbody tr th {\n",
       "        vertical-align: top;\n",
       "    }\n",
       "</style>\n",
       "<table border=\"1\" class=\"dataframe\">\n",
       "  <thead>\n",
       "    <tr style=\"text-align: right;\">\n",
       "      <th></th>\n",
       "      <th>0</th>\n",
       "      <th>1</th>\n",
       "      <th>2</th>\n",
       "      <th>3</th>\n",
       "      <th>4</th>\n",
       "      <th>5</th>\n",
       "    </tr>\n",
       "  </thead>\n",
       "  <tbody>\n",
       "    <tr>\n",
       "      <th>0</th>\n",
       "      <td>0.352349</td>\n",
       "      <td>0.366906</td>\n",
       "      <td>0.373620</td>\n",
       "      <td>0.360278</td>\n",
       "      <td>0.330929</td>\n",
       "      <td>0.309424</td>\n",
       "    </tr>\n",
       "    <tr>\n",
       "      <th>1</th>\n",
       "      <td>0.754941</td>\n",
       "      <td>0.726082</td>\n",
       "      <td>0.680365</td>\n",
       "      <td>0.628380</td>\n",
       "      <td>0.572475</td>\n",
       "      <td>0.520447</td>\n",
       "    </tr>\n",
       "    <tr>\n",
       "      <th>2</th>\n",
       "      <td>0.180714</td>\n",
       "      <td>0.192925</td>\n",
       "      <td>0.204243</td>\n",
       "      <td>0.226600</td>\n",
       "      <td>0.233271</td>\n",
       "      <td>0.227729</td>\n",
       "    </tr>\n",
       "  </tbody>\n",
       "</table>\n",
       "</div>"
      ],
      "text/plain": [
       "          0         1         2         3         4         5\n",
       "0  0.352349  0.366906  0.373620  0.360278  0.330929  0.309424\n",
       "1  0.754941  0.726082  0.680365  0.628380  0.572475  0.520447\n",
       "2  0.180714  0.192925  0.204243  0.226600  0.233271  0.227729"
      ]
     },
     "metadata": {},
     "output_type": "display_data"
    },
    {
     "data": {
      "text/html": [
       "<div>\n",
       "<style>\n",
       "    .dataframe thead tr:only-child th {\n",
       "        text-align: right;\n",
       "    }\n",
       "\n",
       "    .dataframe thead th {\n",
       "        text-align: left;\n",
       "    }\n",
       "\n",
       "    .dataframe tbody tr th {\n",
       "        vertical-align: top;\n",
       "    }\n",
       "</style>\n",
       "<table border=\"1\" class=\"dataframe\">\n",
       "  <thead>\n",
       "    <tr style=\"text-align: right;\">\n",
       "      <th></th>\n",
       "      <th>filename</th>\n",
       "      <th>0</th>\n",
       "      <th>1</th>\n",
       "      <th>2</th>\n",
       "      <th>3</th>\n",
       "      <th>4</th>\n",
       "    </tr>\n",
       "  </thead>\n",
       "  <tbody>\n",
       "    <tr>\n",
       "      <th>0</th>\n",
       "      <td>5502.png</td>\n",
       "      <td>10.0</td>\n",
       "      <td>10.0</td>\n",
       "      <td>10.0</td>\n",
       "      <td>3.0</td>\n",
       "      <td>5.0</td>\n",
       "    </tr>\n",
       "    <tr>\n",
       "      <th>1</th>\n",
       "      <td>6876.png</td>\n",
       "      <td>10.0</td>\n",
       "      <td>10.0</td>\n",
       "      <td>10.0</td>\n",
       "      <td>1.0</td>\n",
       "      <td>5.0</td>\n",
       "    </tr>\n",
       "    <tr>\n",
       "      <th>2</th>\n",
       "      <td>12741.png</td>\n",
       "      <td>10.0</td>\n",
       "      <td>10.0</td>\n",
       "      <td>10.0</td>\n",
       "      <td>2.0</td>\n",
       "      <td>9.0</td>\n",
       "    </tr>\n",
       "  </tbody>\n",
       "</table>\n",
       "</div>"
      ],
      "text/plain": [
       "    filename     0     1     2    3    4\n",
       "0   5502.png  10.0  10.0  10.0  3.0  5.0\n",
       "1   6876.png  10.0  10.0  10.0  1.0  5.0\n",
       "2  12741.png  10.0  10.0  10.0  2.0  9.0"
      ]
     },
     "metadata": {},
     "output_type": "display_data"
    },
    {
     "data": {
      "text/html": [
       "<div>\n",
       "<style>\n",
       "    .dataframe thead tr:only-child th {\n",
       "        text-align: right;\n",
       "    }\n",
       "\n",
       "    .dataframe thead th {\n",
       "        text-align: left;\n",
       "    }\n",
       "\n",
       "    .dataframe tbody tr th {\n",
       "        vertical-align: top;\n",
       "    }\n",
       "</style>\n",
       "<table border=\"1\" class=\"dataframe\">\n",
       "  <thead>\n",
       "    <tr style=\"text-align: right;\">\n",
       "      <th></th>\n",
       "      <th>0</th>\n",
       "      <th>1</th>\n",
       "      <th>2</th>\n",
       "      <th>3</th>\n",
       "      <th>4</th>\n",
       "      <th>5</th>\n",
       "    </tr>\n",
       "  </thead>\n",
       "  <tbody>\n",
       "    <tr>\n",
       "      <th>0</th>\n",
       "      <td>0.731729</td>\n",
       "      <td>0.731729</td>\n",
       "      <td>0.731729</td>\n",
       "      <td>0.732859</td>\n",
       "      <td>0.732859</td>\n",
       "      <td>0.732859</td>\n",
       "    </tr>\n",
       "    <tr>\n",
       "      <th>1</th>\n",
       "      <td>0.605008</td>\n",
       "      <td>0.630882</td>\n",
       "      <td>0.635082</td>\n",
       "      <td>0.611831</td>\n",
       "      <td>0.572169</td>\n",
       "      <td>0.529757</td>\n",
       "    </tr>\n",
       "    <tr>\n",
       "      <th>2</th>\n",
       "      <td>0.194851</td>\n",
       "      <td>0.167078</td>\n",
       "      <td>0.128478</td>\n",
       "      <td>0.133976</td>\n",
       "      <td>0.132525</td>\n",
       "      <td>0.134549</td>\n",
       "    </tr>\n",
       "  </tbody>\n",
       "</table>\n",
       "</div>"
      ],
      "text/plain": [
       "          0         1         2         3         4         5\n",
       "0  0.731729  0.731729  0.731729  0.732859  0.732859  0.732859\n",
       "1  0.605008  0.630882  0.635082  0.611831  0.572169  0.529757\n",
       "2  0.194851  0.167078  0.128478  0.133976  0.132525  0.134549"
      ]
     },
     "metadata": {},
     "output_type": "display_data"
    },
    {
     "data": {
      "text/html": [
       "<div>\n",
       "<style>\n",
       "    .dataframe thead tr:only-child th {\n",
       "        text-align: right;\n",
       "    }\n",
       "\n",
       "    .dataframe thead th {\n",
       "        text-align: left;\n",
       "    }\n",
       "\n",
       "    .dataframe tbody tr th {\n",
       "        vertical-align: top;\n",
       "    }\n",
       "</style>\n",
       "<table border=\"1\" class=\"dataframe\">\n",
       "  <thead>\n",
       "    <tr style=\"text-align: right;\">\n",
       "      <th></th>\n",
       "      <th>filename</th>\n",
       "      <th>0</th>\n",
       "      <th>1</th>\n",
       "      <th>2</th>\n",
       "      <th>3</th>\n",
       "      <th>4</th>\n",
       "    </tr>\n",
       "  </thead>\n",
       "  <tbody>\n",
       "    <tr>\n",
       "      <th>5997</th>\n",
       "      <td>10065.png</td>\n",
       "      <td>10.0</td>\n",
       "      <td>10.0</td>\n",
       "      <td>10.0</td>\n",
       "      <td>10.0</td>\n",
       "      <td>1.0</td>\n",
       "    </tr>\n",
       "    <tr>\n",
       "      <th>5998</th>\n",
       "      <td>10210.png</td>\n",
       "      <td>10.0</td>\n",
       "      <td>10.0</td>\n",
       "      <td>10.0</td>\n",
       "      <td>1.0</td>\n",
       "      <td>9.0</td>\n",
       "    </tr>\n",
       "    <tr>\n",
       "      <th>5999</th>\n",
       "      <td>11166.png</td>\n",
       "      <td>10.0</td>\n",
       "      <td>10.0</td>\n",
       "      <td>10.0</td>\n",
       "      <td>5.0</td>\n",
       "      <td>0.0</td>\n",
       "    </tr>\n",
       "  </tbody>\n",
       "</table>\n",
       "</div>"
      ],
      "text/plain": [
       "       filename     0     1     2     3    4\n",
       "5997  10065.png  10.0  10.0  10.0  10.0  1.0\n",
       "5998  10210.png  10.0  10.0  10.0   1.0  9.0\n",
       "5999  11166.png  10.0  10.0  10.0   5.0  0.0"
      ]
     },
     "metadata": {},
     "output_type": "display_data"
    },
    {
     "data": {
      "text/html": [
       "<div>\n",
       "<style>\n",
       "    .dataframe thead tr:only-child th {\n",
       "        text-align: right;\n",
       "    }\n",
       "\n",
       "    .dataframe thead th {\n",
       "        text-align: left;\n",
       "    }\n",
       "\n",
       "    .dataframe tbody tr th {\n",
       "        vertical-align: top;\n",
       "    }\n",
       "</style>\n",
       "<table border=\"1\" class=\"dataframe\">\n",
       "  <thead>\n",
       "    <tr style=\"text-align: right;\">\n",
       "      <th></th>\n",
       "      <th>0</th>\n",
       "      <th>1</th>\n",
       "      <th>2</th>\n",
       "      <th>3</th>\n",
       "      <th>4</th>\n",
       "      <th>5</th>\n",
       "    </tr>\n",
       "  </thead>\n",
       "  <tbody>\n",
       "    <tr>\n",
       "      <th>0</th>\n",
       "      <td>0.857800</td>\n",
       "      <td>0.857800</td>\n",
       "      <td>0.853878</td>\n",
       "      <td>0.843733</td>\n",
       "      <td>0.848102</td>\n",
       "      <td>0.845800</td>\n",
       "    </tr>\n",
       "    <tr>\n",
       "      <th>1</th>\n",
       "      <td>0.300451</td>\n",
       "      <td>0.338773</td>\n",
       "      <td>0.371553</td>\n",
       "      <td>0.384278</td>\n",
       "      <td>0.404569</td>\n",
       "      <td>0.421384</td>\n",
       "    </tr>\n",
       "    <tr>\n",
       "      <th>2</th>\n",
       "      <td>0.263635</td>\n",
       "      <td>0.266596</td>\n",
       "      <td>0.236608</td>\n",
       "      <td>0.205769</td>\n",
       "      <td>0.195455</td>\n",
       "      <td>0.208671</td>\n",
       "    </tr>\n",
       "  </tbody>\n",
       "</table>\n",
       "</div>"
      ],
      "text/plain": [
       "          0         1         2         3         4         5\n",
       "0  0.857800  0.857800  0.853878  0.843733  0.848102  0.845800\n",
       "1  0.300451  0.338773  0.371553  0.384278  0.404569  0.421384\n",
       "2  0.263635  0.266596  0.236608  0.205769  0.195455  0.208671"
      ]
     },
     "metadata": {},
     "output_type": "display_data"
    },
    {
     "data": {
      "text/html": [
       "<div>\n",
       "<style>\n",
       "    .dataframe thead tr:only-child th {\n",
       "        text-align: right;\n",
       "    }\n",
       "\n",
       "    .dataframe thead th {\n",
       "        text-align: left;\n",
       "    }\n",
       "\n",
       "    .dataframe tbody tr th {\n",
       "        vertical-align: top;\n",
       "    }\n",
       "</style>\n",
       "<table border=\"1\" class=\"dataframe\">\n",
       "  <thead>\n",
       "    <tr style=\"text-align: right;\">\n",
       "      <th></th>\n",
       "      <th>filename</th>\n",
       "      <th>0</th>\n",
       "      <th>1</th>\n",
       "      <th>2</th>\n",
       "      <th>3</th>\n",
       "      <th>4</th>\n",
       "    </tr>\n",
       "  </thead>\n",
       "  <tbody>\n",
       "    <tr>\n",
       "      <th>12997</th>\n",
       "      <td>11978.png</td>\n",
       "      <td>10.0</td>\n",
       "      <td>10.0</td>\n",
       "      <td>8.0</td>\n",
       "      <td>5.0</td>\n",
       "      <td>7.0</td>\n",
       "    </tr>\n",
       "    <tr>\n",
       "      <th>12998</th>\n",
       "      <td>13237.png</td>\n",
       "      <td>10.0</td>\n",
       "      <td>10.0</td>\n",
       "      <td>10.0</td>\n",
       "      <td>9.0</td>\n",
       "      <td>0.0</td>\n",
       "    </tr>\n",
       "    <tr>\n",
       "      <th>12999</th>\n",
       "      <td>11985.png</td>\n",
       "      <td>10.0</td>\n",
       "      <td>10.0</td>\n",
       "      <td>10.0</td>\n",
       "      <td>5.0</td>\n",
       "      <td>6.0</td>\n",
       "    </tr>\n",
       "  </tbody>\n",
       "</table>\n",
       "</div>"
      ],
      "text/plain": [
       "        filename     0     1     2    3    4\n",
       "12997  11978.png  10.0  10.0   8.0  5.0  7.0\n",
       "12998  13237.png  10.0  10.0  10.0  9.0  0.0\n",
       "12999  11985.png  10.0  10.0  10.0  5.0  6.0"
      ]
     },
     "metadata": {},
     "output_type": "display_data"
    }
   ],
   "source": [
    "hide_code\n",
    "\n",
    "train_images2 = pd.read_csv(\"train_images2.csv\")\n",
    "train_labels = pd.read_csv(\"train_labels.csv\")\n",
    "\n",
    "test_images2 = pd.read_csv(\"test_images2.csv\")\n",
    "test_labels = pd.read_csv(\"test_labels.csv\")\n",
    "\n",
    "extra_images2 = pd.read_csv(\"extra_images2.csv\")\n",
    "extra_labels = pd.read_csv(\"extra_labels.csv\")\n",
    "\n",
    "display(train_images2[[\"0\", \"1\", \"2\", \"3\", \"4\", \"5\"]].head(3))\n",
    "display(train_labels.head(3))\n",
    "\n",
    "display(test_images2[[\"0\", \"1\", \"2\", \"3\", \"4\", \"5\"]].head(3))\n",
    "display(test_labels.tail(3))\n",
    "\n",
    "display(extra_images2[[\"0\", \"1\", \"2\", \"3\", \"4\", \"5\"]].head(3))\n",
    "display(extra_labels.tail(3))"
   ]
  },
  {
   "cell_type": "code",
   "execution_count": 17,
   "metadata": {
    "collapsed": false
   },
   "outputs": [
    {
     "data": {
      "text/html": [
       "<div>\n",
       "<style>\n",
       "    .dataframe thead tr:only-child th {\n",
       "        text-align: right;\n",
       "    }\n",
       "\n",
       "    .dataframe thead th {\n",
       "        text-align: left;\n",
       "    }\n",
       "\n",
       "    .dataframe tbody tr th {\n",
       "        vertical-align: top;\n",
       "    }\n",
       "</style>\n",
       "<table border=\"1\" class=\"dataframe\">\n",
       "  <thead>\n",
       "    <tr style=\"text-align: right;\">\n",
       "      <th></th>\n",
       "      <th>0</th>\n",
       "      <th>1</th>\n",
       "      <th>2</th>\n",
       "      <th>3</th>\n",
       "      <th>4</th>\n",
       "      <th>5</th>\n",
       "    </tr>\n",
       "  </thead>\n",
       "  <tbody>\n",
       "    <tr>\n",
       "      <th>0</th>\n",
       "      <td>0.775827</td>\n",
       "      <td>0.747204</td>\n",
       "      <td>0.702894</td>\n",
       "      <td>0.695498</td>\n",
       "      <td>0.694773</td>\n",
       "      <td>0.713933</td>\n",
       "    </tr>\n",
       "    <tr>\n",
       "      <th>1</th>\n",
       "      <td>0.924996</td>\n",
       "      <td>0.893624</td>\n",
       "      <td>0.846353</td>\n",
       "      <td>0.800020</td>\n",
       "      <td>0.749486</td>\n",
       "      <td>0.703769</td>\n",
       "    </tr>\n",
       "    <tr>\n",
       "      <th>2</th>\n",
       "      <td>0.595980</td>\n",
       "      <td>0.603780</td>\n",
       "      <td>0.615224</td>\n",
       "      <td>0.632933</td>\n",
       "      <td>0.653882</td>\n",
       "      <td>0.679435</td>\n",
       "    </tr>\n",
       "  </tbody>\n",
       "</table>\n",
       "</div>"
      ],
      "text/plain": [
       "          0         1         2         3         4         5\n",
       "0  0.775827  0.747204  0.702894  0.695498  0.694773  0.713933\n",
       "1  0.924996  0.893624  0.846353  0.800020  0.749486  0.703769\n",
       "2  0.595980  0.603780  0.615224  0.632933  0.653882  0.679435"
      ]
     },
     "metadata": {},
     "output_type": "display_data"
    },
    {
     "data": {
      "text/html": [
       "<div>\n",
       "<style>\n",
       "    .dataframe thead tr:only-child th {\n",
       "        text-align: right;\n",
       "    }\n",
       "\n",
       "    .dataframe thead th {\n",
       "        text-align: left;\n",
       "    }\n",
       "\n",
       "    .dataframe tbody tr th {\n",
       "        vertical-align: top;\n",
       "    }\n",
       "</style>\n",
       "<table border=\"1\" class=\"dataframe\">\n",
       "  <thead>\n",
       "    <tr style=\"text-align: right;\">\n",
       "      <th></th>\n",
       "      <th>filename</th>\n",
       "      <th>0</th>\n",
       "      <th>1</th>\n",
       "      <th>2</th>\n",
       "      <th>3</th>\n",
       "      <th>4</th>\n",
       "    </tr>\n",
       "  </thead>\n",
       "  <tbody>\n",
       "    <tr>\n",
       "      <th>0</th>\n",
       "      <td>20953.png</td>\n",
       "      <td>10.0</td>\n",
       "      <td>10.0</td>\n",
       "      <td>1.0</td>\n",
       "      <td>9.0</td>\n",
       "      <td>5.0</td>\n",
       "    </tr>\n",
       "    <tr>\n",
       "      <th>1</th>\n",
       "      <td>30030.png</td>\n",
       "      <td>10.0</td>\n",
       "      <td>10.0</td>\n",
       "      <td>10.0</td>\n",
       "      <td>3.0</td>\n",
       "      <td>4.0</td>\n",
       "    </tr>\n",
       "    <tr>\n",
       "      <th>2</th>\n",
       "      <td>2036.png</td>\n",
       "      <td>10.0</td>\n",
       "      <td>10.0</td>\n",
       "      <td>10.0</td>\n",
       "      <td>8.0</td>\n",
       "      <td>2.0</td>\n",
       "    </tr>\n",
       "  </tbody>\n",
       "</table>\n",
       "</div>"
      ],
      "text/plain": [
       "    filename     0     1     2    3    4\n",
       "0  20953.png  10.0  10.0   1.0  9.0  5.0\n",
       "1  30030.png  10.0  10.0  10.0  3.0  4.0\n",
       "2   2036.png  10.0  10.0  10.0  8.0  2.0"
      ]
     },
     "metadata": {},
     "output_type": "display_data"
    },
    {
     "data": {
      "text/html": [
       "<div>\n",
       "<style>\n",
       "    .dataframe thead tr:only-child th {\n",
       "        text-align: right;\n",
       "    }\n",
       "\n",
       "    .dataframe thead th {\n",
       "        text-align: left;\n",
       "    }\n",
       "\n",
       "    .dataframe tbody tr th {\n",
       "        vertical-align: top;\n",
       "    }\n",
       "</style>\n",
       "<table border=\"1\" class=\"dataframe\">\n",
       "  <thead>\n",
       "    <tr style=\"text-align: right;\">\n",
       "      <th></th>\n",
       "      <th>0</th>\n",
       "      <th>1</th>\n",
       "      <th>2</th>\n",
       "      <th>3</th>\n",
       "      <th>4</th>\n",
       "      <th>5</th>\n",
       "    </tr>\n",
       "  </thead>\n",
       "  <tbody>\n",
       "    <tr>\n",
       "      <th>0</th>\n",
       "      <td>0.160784</td>\n",
       "      <td>0.163533</td>\n",
       "      <td>0.165835</td>\n",
       "      <td>0.160784</td>\n",
       "      <td>0.161914</td>\n",
       "      <td>0.161914</td>\n",
       "    </tr>\n",
       "    <tr>\n",
       "      <th>1</th>\n",
       "      <td>0.642588</td>\n",
       "      <td>0.638388</td>\n",
       "      <td>0.637427</td>\n",
       "      <td>0.638769</td>\n",
       "      <td>0.628067</td>\n",
       "      <td>0.590192</td>\n",
       "    </tr>\n",
       "    <tr>\n",
       "      <th>2</th>\n",
       "      <td>0.059059</td>\n",
       "      <td>0.066220</td>\n",
       "      <td>0.077302</td>\n",
       "      <td>0.085145</td>\n",
       "      <td>0.094396</td>\n",
       "      <td>0.078710</td>\n",
       "    </tr>\n",
       "  </tbody>\n",
       "</table>\n",
       "</div>"
      ],
      "text/plain": [
       "          0         1         2         3         4         5\n",
       "0  0.160784  0.163533  0.165835  0.160784  0.161914  0.161914\n",
       "1  0.642588  0.638388  0.637427  0.638769  0.628067  0.590192\n",
       "2  0.059059  0.066220  0.077302  0.085145  0.094396  0.078710"
      ]
     },
     "metadata": {},
     "output_type": "display_data"
    },
    {
     "data": {
      "text/html": [
       "<div>\n",
       "<style>\n",
       "    .dataframe thead tr:only-child th {\n",
       "        text-align: right;\n",
       "    }\n",
       "\n",
       "    .dataframe thead th {\n",
       "        text-align: left;\n",
       "    }\n",
       "\n",
       "    .dataframe tbody tr th {\n",
       "        vertical-align: top;\n",
       "    }\n",
       "</style>\n",
       "<table border=\"1\" class=\"dataframe\">\n",
       "  <thead>\n",
       "    <tr style=\"text-align: right;\">\n",
       "      <th></th>\n",
       "      <th>filename</th>\n",
       "      <th>0</th>\n",
       "      <th>1</th>\n",
       "      <th>2</th>\n",
       "      <th>3</th>\n",
       "      <th>4</th>\n",
       "    </tr>\n",
       "  </thead>\n",
       "  <tbody>\n",
       "    <tr>\n",
       "      <th>5997</th>\n",
       "      <td>9152.png</td>\n",
       "      <td>10.0</td>\n",
       "      <td>10.0</td>\n",
       "      <td>1.0</td>\n",
       "      <td>2.0</td>\n",
       "      <td>6.0</td>\n",
       "    </tr>\n",
       "    <tr>\n",
       "      <th>5998</th>\n",
       "      <td>2724.png</td>\n",
       "      <td>10.0</td>\n",
       "      <td>10.0</td>\n",
       "      <td>10.0</td>\n",
       "      <td>4.0</td>\n",
       "      <td>8.0</td>\n",
       "    </tr>\n",
       "    <tr>\n",
       "      <th>5999</th>\n",
       "      <td>7566.png</td>\n",
       "      <td>10.0</td>\n",
       "      <td>10.0</td>\n",
       "      <td>10.0</td>\n",
       "      <td>1.0</td>\n",
       "      <td>4.0</td>\n",
       "    </tr>\n",
       "  </tbody>\n",
       "</table>\n",
       "</div>"
      ],
      "text/plain": [
       "      filename     0     1     2    3    4\n",
       "5997  9152.png  10.0  10.0   1.0  2.0  6.0\n",
       "5998  2724.png  10.0  10.0  10.0  4.0  8.0\n",
       "5999  7566.png  10.0  10.0  10.0  1.0  4.0"
      ]
     },
     "metadata": {},
     "output_type": "display_data"
    },
    {
     "data": {
      "text/html": [
       "<div>\n",
       "<style>\n",
       "    .dataframe thead tr:only-child th {\n",
       "        text-align: right;\n",
       "    }\n",
       "\n",
       "    .dataframe thead th {\n",
       "        text-align: left;\n",
       "    }\n",
       "\n",
       "    .dataframe tbody tr th {\n",
       "        vertical-align: top;\n",
       "    }\n",
       "</style>\n",
       "<table border=\"1\" class=\"dataframe\">\n",
       "  <thead>\n",
       "    <tr style=\"text-align: right;\">\n",
       "      <th></th>\n",
       "      <th>0</th>\n",
       "      <th>1</th>\n",
       "      <th>2</th>\n",
       "      <th>3</th>\n",
       "      <th>4</th>\n",
       "      <th>5</th>\n",
       "    </tr>\n",
       "  </thead>\n",
       "  <tbody>\n",
       "    <tr>\n",
       "      <th>0</th>\n",
       "      <td>0.349059</td>\n",
       "      <td>0.394220</td>\n",
       "      <td>0.455067</td>\n",
       "      <td>0.517937</td>\n",
       "      <td>0.553188</td>\n",
       "      <td>0.557110</td>\n",
       "    </tr>\n",
       "    <tr>\n",
       "      <th>1</th>\n",
       "      <td>0.199129</td>\n",
       "      <td>0.195208</td>\n",
       "      <td>0.192416</td>\n",
       "      <td>0.182271</td>\n",
       "      <td>0.183890</td>\n",
       "      <td>0.169612</td>\n",
       "    </tr>\n",
       "    <tr>\n",
       "      <th>2</th>\n",
       "      <td>0.220420</td>\n",
       "      <td>0.220420</td>\n",
       "      <td>0.219694</td>\n",
       "      <td>0.218243</td>\n",
       "      <td>0.223059</td>\n",
       "      <td>0.225529</td>\n",
       "    </tr>\n",
       "  </tbody>\n",
       "</table>\n",
       "</div>"
      ],
      "text/plain": [
       "          0         1         2         3         4         5\n",
       "0  0.349059  0.394220  0.455067  0.517937  0.553188  0.557110\n",
       "1  0.199129  0.195208  0.192416  0.182271  0.183890  0.169612\n",
       "2  0.220420  0.220420  0.219694  0.218243  0.223059  0.225529"
      ]
     },
     "metadata": {},
     "output_type": "display_data"
    },
    {
     "data": {
      "text/html": [
       "<div>\n",
       "<style>\n",
       "    .dataframe thead tr:only-child th {\n",
       "        text-align: right;\n",
       "    }\n",
       "\n",
       "    .dataframe thead th {\n",
       "        text-align: left;\n",
       "    }\n",
       "\n",
       "    .dataframe tbody tr th {\n",
       "        vertical-align: top;\n",
       "    }\n",
       "</style>\n",
       "<table border=\"1\" class=\"dataframe\">\n",
       "  <thead>\n",
       "    <tr style=\"text-align: right;\">\n",
       "      <th></th>\n",
       "      <th>filename</th>\n",
       "      <th>0</th>\n",
       "      <th>1</th>\n",
       "      <th>2</th>\n",
       "      <th>3</th>\n",
       "      <th>4</th>\n",
       "    </tr>\n",
       "  </thead>\n",
       "  <tbody>\n",
       "    <tr>\n",
       "      <th>12997</th>\n",
       "      <td>31666.png</td>\n",
       "      <td>10.0</td>\n",
       "      <td>10.0</td>\n",
       "      <td>1.0</td>\n",
       "      <td>5.0</td>\n",
       "      <td>7.0</td>\n",
       "    </tr>\n",
       "    <tr>\n",
       "      <th>12998</th>\n",
       "      <td>32070.png</td>\n",
       "      <td>10.0</td>\n",
       "      <td>10.0</td>\n",
       "      <td>10.0</td>\n",
       "      <td>3.0</td>\n",
       "      <td>8.0</td>\n",
       "    </tr>\n",
       "    <tr>\n",
       "      <th>12999</th>\n",
       "      <td>31858.png</td>\n",
       "      <td>10.0</td>\n",
       "      <td>10.0</td>\n",
       "      <td>2.0</td>\n",
       "      <td>1.0</td>\n",
       "      <td>2.0</td>\n",
       "    </tr>\n",
       "  </tbody>\n",
       "</table>\n",
       "</div>"
      ],
      "text/plain": [
       "        filename     0     1     2    3    4\n",
       "12997  31666.png  10.0  10.0   1.0  5.0  7.0\n",
       "12998  32070.png  10.0  10.0  10.0  3.0  8.0\n",
       "12999  31858.png  10.0  10.0   2.0  1.0  2.0"
      ]
     },
     "metadata": {},
     "output_type": "display_data"
    }
   ],
   "source": [
    "hide_code\n",
    "\n",
    "train_images2_2 = pd.read_csv(\"train_images2_2.csv\")\n",
    "train_labels_2 = pd.read_csv(\"train_labels_2.csv\")\n",
    "\n",
    "test_images2_2 = pd.read_csv(\"test_images2_2.csv\")\n",
    "test_labels_2 = pd.read_csv(\"test_labels_2.csv\")\n",
    "\n",
    "extra_images2_2 = pd.read_csv(\"extra_images2_2.csv\")\n",
    "extra_labels_2 = pd.read_csv(\"extra_labels_2.csv\")\n",
    "\n",
    "display(train_images2_2[[\"0\", \"1\", \"2\", \"3\", \"4\", \"5\"]].head(3))\n",
    "display(train_labels_2.head(3))\n",
    "\n",
    "display(test_images2_2[[\"0\", \"1\", \"2\", \"3\", \"4\", \"5\"]].head(3))\n",
    "display(test_labels_2.tail(3))\n",
    "\n",
    "display(extra_images2_2[[\"0\", \"1\", \"2\", \"3\", \"4\", \"5\"]].head(3))\n",
    "display(extra_labels_2.tail(3))"
   ]
  },
  {
   "cell_type": "code",
   "execution_count": 18,
   "metadata": {
    "collapsed": true
   },
   "outputs": [],
   "source": [
    "hide_code\n",
    "\n",
    "images = np.concatenate((np.array(train_images2.drop('filename', axis=1)), \n",
    "                         np.array(extra_images2.drop('filename', axis=1))), \n",
    "                        axis=0)\n",
    "labels = np.concatenate((np.array(train_labels[[\"0\", \"1\", \"2\", \"3\", \"4\"]]), \n",
    "                         np.array(extra_labels[[\"0\", \"1\", \"2\", \"3\", \"4\"]])), \n",
    "                        axis=0)"
   ]
  },
  {
   "cell_type": "code",
   "execution_count": 19,
   "metadata": {
    "collapsed": false
   },
   "outputs": [],
   "source": [
    "hide_code\n",
    "\n",
    "images_2 = np.concatenate((np.array(train_images2_2.drop('filename', axis=1)), \n",
    "                           np.array(extra_images2_2.drop('filename', axis=1))), \n",
    "                          axis=0)\n",
    "labels_2 = np.concatenate((np.array(train_labels_2[[\"0\", \"1\", \"2\", \"3\", \"4\"]]), \n",
    "                           np.array(extra_labels_2[[\"0\", \"1\", \"2\", \"3\", \"4\"]])), \n",
    "                          axis=0)"
   ]
  },
  {
   "cell_type": "code",
   "execution_count": 20,
   "metadata": {
    "collapsed": true
   },
   "outputs": [],
   "source": [
    "hide_code\n",
    "\n",
    "images = np.concatenate((images, images_2), axis=0)\n",
    "labels = np.concatenate((labels, labels_2), axis=0)"
   ]
  },
  {
   "cell_type": "code",
   "execution_count": 21,
   "metadata": {
    "collapsed": true
   },
   "outputs": [],
   "source": [
    "hide_code\n",
    "\n",
    "images_t = np.concatenate((np.array(test_images2.drop('filename', axis=1)), \n",
    "                           np.array(test_images2_2.drop('filename', axis=1))), \n",
    "                          axis=0)\n",
    "labels_t = np.concatenate((np.array(test_labels[[\"0\", \"1\", \"2\", \"3\", \"4\"]]), \n",
    "                           np.array(test_labels_2[[\"0\", \"1\", \"2\", \"3\", \"4\"]])), \n",
    "                          axis=0)"
   ]
  },
  {
   "cell_type": "code",
   "execution_count": 22,
   "metadata": {
    "collapsed": false
   },
   "outputs": [],
   "source": [
    "hide_code\n",
    "\n",
    "X_train = images.reshape(52000, 32, 32, 1)\n",
    "y_train = labels\n",
    "X_test = images_t.reshape(12000, 32, 32, 1)\n",
    "y_test = labels_t"
   ]
  },
  {
   "cell_type": "code",
   "execution_count": 23,
   "metadata": {
    "collapsed": true
   },
   "outputs": [],
   "source": [
    "hide_code\n",
    "\n",
    "def digit_to_categorical(data):\n",
    "    n = data.shape[1]\n",
    "    data_cat = np.empty([len(data), n, 11])\n",
    "    \n",
    "    for i in range(n):\n",
    "        data_cat[:, i] = ks.utils.to_categorical(data[:, i], num_classes=11)\n",
    "        \n",
    "    return data_cat\n",
    "\n",
    "y_train_cat = digit_to_categorical(y_train)\n",
    "y_test_cat = digit_to_categorical(y_test)\n",
    "\n",
    "y_train_cat_list = [y_train_cat[:, i] for i in range(5)]\n",
    "y_test_cat_list = [y_test_cat[:, i] for i in range(5)]"
   ]
  },
  {
   "cell_type": "code",
   "execution_count": 24,
   "metadata": {
    "collapsed": false
   },
   "outputs": [
    {
     "name": "stdout",
     "output_type": "stream",
     "text": [
      "Train loaded set (52000, 32, 32, 1) (52000, 5, 11)\n",
      "Test loaded set (12000, 32, 32, 1) (12000, 5, 11)\n"
     ]
    }
   ],
   "source": [
    "hide_code\n",
    "\n",
    "print('Train loaded set', X_train.shape, y_train_cat.shape)\n",
    "print('Test loaded set', X_test.shape, y_test_cat.shape)"
   ]
  },
  {
   "cell_type": "code",
   "execution_count": 25,
   "metadata": {
    "collapsed": false
   },
   "outputs": [
    {
     "name": "stdout",
     "output_type": "stream",
     "text": [
      "8629.png\n",
      "[ 10.  10.   5.   0.   7.]\n",
      "[[ 0.  0.  0.  0.  0.  0.  0.  0.  0.  0.  1.]\n",
      " [ 0.  0.  0.  0.  0.  0.  0.  0.  0.  0.  1.]\n",
      " [ 0.  0.  0.  0.  0.  1.  0.  0.  0.  0.  0.]\n",
      " [ 1.  0.  0.  0.  0.  0.  0.  0.  0.  0.  0.]\n",
      " [ 0.  0.  0.  0.  0.  0.  0.  1.  0.  0.  0.]]\n"
     ]
    },
    {
     "data": {
      "image/png": "[encoded data removed]",
      "text/plain": [
       "<matplotlib.figure.Figure at 0x117e600f0>"
      ]
     },
     "metadata": {},
     "output_type": "display_data"
    }
   ],
   "source": [
    "hide_code\n",
    "\n",
    "plt.imshow(X_train[12].reshape(32, 32), cmap=plt.cm.Blues)\n",
    "print(train_images2['filename'][12])\n",
    "print(y_train[12])\n",
    "print(y_train_cat[:][12])"
   ]
  },
  {
   "cell_type": "markdown",
   "metadata": {
    "collapsed": true
   },
   "source": [
    "---\n",
    "\n",
    "---\n",
    "## $\\mathfrak {\\color{#348ABD} {Step \\ 2:\\ Train \\ a \\ Model \\ on \\ a \\ Realistic \\ Dataset}}$\n",
    "Once we have settled on a good architecture, we can train the model on real data. In particular, the [Street View House Numbers (SVHN)](http://ufldl.stanford.edu/housenumbers/) dataset is a good large-scale dataset collected from house numbers in Google Street View. Training on this more challenging dataset, where the digits are not neatly lined-up and have various skews, fonts and colors, likely means you have to do some hyperparameter exploration to perform well."
   ]
  },
  {
   "cell_type": "code",
   "execution_count": 36,
   "metadata": {
    "collapsed": false
   },
   "outputs": [],
   "source": [
    "hide_code\n",
    "\n",
    "def cnn_model():    \n",
    "    model_input = Input(shape=(32, 32, 1))    \n",
    "        \n",
    "    x = Conv2D(32, (3, 3), activation='relu', border_mode='same')(model_input)\n",
    "    x = MaxPooling2D(pool_size=(2, 2))(x)\n",
    "    \n",
    "    x = Conv2D(32, (3, 3), activation='relu')(x)\n",
    "    x = MaxPooling2D(pool_size=(2, 2))(x)\n",
    "    \n",
    "    x = Dropout(0.25)(x)\n",
    "    \n",
    "    x = Conv2D(64, (3, 3), activation='relu')(x)       \n",
    "    x = Conv2D(64, (3, 3), activation='relu')(x)\n",
    "    \n",
    "    x = Dropout(0.25)(x)\n",
    "    \n",
    "    x = Conv2D(128, (3, 3), activation='relu')(x)\n",
    "    \n",
    "    x = Dropout(0.25)(x)\n",
    "              \n",
    "    x = Flatten()(x)\n",
    "    \n",
    "    x = Dense(512, activation='relu')(x)\n",
    "    x = Dropout(0.5)(x)\n",
    "    \n",
    "    y1 = Dense(11, activation='softmax')(x)\n",
    "    y2 = Dense(11, activation='softmax')(x)\n",
    "    y3 = Dense(11, activation='softmax')(x)\n",
    "    y4 = Dense(11, activation='softmax')(x)\n",
    "    y5 = Dense(11, activation='softmax')(x)\n",
    "    \n",
    "    model = Model(input=model_input, output=[y1, y2, y3, y4, y5])\n",
    "\n",
    "    model.compile(loss='categorical_crossentropy', optimizer='adam', metrics=['accuracy'])\n",
    "    return model"
   ]
  },
  {
   "cell_type": "code",
   "execution_count": 37,
   "metadata": {
    "collapsed": false
   },
   "outputs": [
    {
     "name": "stdout",
     "output_type": "stream",
     "text": [
      "Train on 52000 samples, validate on 12000 samples\n",
      "Epoch 1/50\n",
      "109s - loss: 6.3679 - dense_8_loss: 0.0440 - dense_9_loss: 0.3039 - dense_10_loss: 1.4205 - dense_11_loss: 2.2689 - dense_12_loss: 2.3306 - dense_8_acc: 0.9953 - dense_9_acc: 0.9400 - dense_10_acc: 0.5623 - dense_11_acc: 0.1755 - dense_12_acc: 0.1208 - val_loss: 4.5429 - val_dense_8_loss: 0.0015 - val_dense_9_loss: 0.0481 - val_dense_10_loss: 0.4857 - val_dense_11_loss: 1.7705 - val_dense_12_loss: 2.2371 - val_dense_8_acc: 0.9998 - val_dense_9_acc: 0.9885 - val_dense_10_acc: 0.8586 - val_dense_11_acc: 0.4071 - val_dense_12_acc: 0.1562\n",
      "Epoch 2/50\n",
      "98s - loss: 4.9847 - dense_8_loss: 0.0042 - dense_9_loss: 0.2144 - dense_10_loss: 0.9872 - dense_11_loss: 1.7091 - dense_12_loss: 2.0697 - dense_8_acc: 0.9996 - dense_9_acc: 0.9432 - dense_10_acc: 0.6898 - dense_11_acc: 0.4083 - dense_12_acc: 0.2382 - val_loss: 3.4601 - val_dense_8_loss: 0.0021 - val_dense_9_loss: 0.0572 - val_dense_10_loss: 0.4186 - val_dense_11_loss: 1.2694 - val_dense_12_loss: 1.7127 - val_dense_8_acc: 0.9998 - val_dense_9_acc: 0.9892 - val_dense_10_acc: 0.8958 - val_dense_11_acc: 0.6138 - val_dense_12_acc: 0.3971\n",
      "Epoch 3/50\n",
      "98s - loss: 3.8545 - dense_8_loss: 0.0040 - dense_9_loss: 0.1721 - dense_10_loss: 0.7768 - dense_11_loss: 1.3279 - dense_12_loss: 1.5738 - dense_8_acc: 0.9996 - dense_9_acc: 0.9488 - dense_10_acc: 0.7565 - dense_11_acc: 0.5435 - dense_12_acc: 0.4333 - val_loss: 2.3953 - val_dense_8_loss: 0.0018 - val_dense_9_loss: 0.0341 - val_dense_10_loss: 0.2485 - val_dense_11_loss: 0.9076 - val_dense_12_loss: 1.2033 - val_dense_8_acc: 0.9998 - val_dense_9_acc: 0.9912 - val_dense_10_acc: 0.9277 - val_dense_11_acc: 0.7155 - val_dense_12_acc: 0.5965\n",
      "Epoch 4/50\n",
      "114s - loss: 3.1548 - dense_8_loss: 0.0035 - dense_9_loss: 0.1435 - dense_10_loss: 0.6837 - dense_11_loss: 1.0952 - dense_12_loss: 1.2290 - dense_8_acc: 0.9996 - dense_9_acc: 0.9570 - dense_10_acc: 0.7841 - dense_11_acc: 0.6292 - dense_12_acc: 0.5739 - val_loss: 1.9294 - val_dense_8_loss: 0.0016 - val_dense_9_loss: 0.0287 - val_dense_10_loss: 0.2178 - val_dense_11_loss: 0.7479 - val_dense_12_loss: 0.9334 - val_dense_8_acc: 0.9998 - val_dense_9_acc: 0.9938 - val_dense_10_acc: 0.9378 - val_dense_11_acc: 0.7715 - val_dense_12_acc: 0.7160\n",
      "Epoch 5/50\n",
      "126s - loss: 2.7800 - dense_8_loss: 0.0036 - dense_9_loss: 0.1310 - dense_10_loss: 0.6372 - dense_11_loss: 0.9511 - dense_12_loss: 1.0571 - dense_8_acc: 0.9996 - dense_9_acc: 0.9611 - dense_10_acc: 0.7984 - dense_11_acc: 0.6836 - dense_12_acc: 0.6440 - val_loss: 1.6545 - val_dense_8_loss: 0.0017 - val_dense_9_loss: 0.0300 - val_dense_10_loss: 0.2143 - val_dense_11_loss: 0.6287 - val_dense_12_loss: 0.7799 - val_dense_8_acc: 0.9998 - val_dense_9_acc: 0.9933 - val_dense_10_acc: 0.9411 - val_dense_11_acc: 0.8040 - val_dense_12_acc: 0.7561\n",
      "Epoch 6/50\n",
      "107s - loss: 2.5200 - dense_8_loss: 0.0037 - dense_9_loss: 0.1226 - dense_10_loss: 0.5965 - dense_11_loss: 0.8510 - dense_12_loss: 0.9461 - dense_8_acc: 0.9996 - dense_9_acc: 0.9637 - dense_10_acc: 0.8097 - dense_11_acc: 0.7222 - dense_12_acc: 0.6852 - val_loss: 1.5628 - val_dense_8_loss: 0.0018 - val_dense_9_loss: 0.0289 - val_dense_10_loss: 0.2068 - val_dense_11_loss: 0.5903 - val_dense_12_loss: 0.7350 - val_dense_8_acc: 0.9998 - val_dense_9_acc: 0.9933 - val_dense_10_acc: 0.9426 - val_dense_11_acc: 0.8215 - val_dense_12_acc: 0.7720\n",
      "Epoch 7/50\n",
      "108s - loss: 2.3191 - dense_8_loss: 0.0032 - dense_9_loss: 0.1172 - dense_10_loss: 0.5661 - dense_11_loss: 0.7690 - dense_12_loss: 0.8637 - dense_8_acc: 0.9996 - dense_9_acc: 0.9651 - dense_10_acc: 0.8180 - dense_11_acc: 0.7520 - dense_12_acc: 0.7182 - val_loss: 1.4752 - val_dense_8_loss: 0.0016 - val_dense_9_loss: 0.0241 - val_dense_10_loss: 0.1909 - val_dense_11_loss: 0.5524 - val_dense_12_loss: 0.7062 - val_dense_8_acc: 0.9998 - val_dense_9_acc: 0.9946 - val_dense_10_acc: 0.9462 - val_dense_11_acc: 0.8348 - val_dense_12_acc: 0.7718\n",
      "Epoch 8/50\n",
      "107s - loss: 2.1915 - dense_8_loss: 0.0035 - dense_9_loss: 0.1129 - dense_10_loss: 0.5458 - dense_11_loss: 0.7194 - dense_12_loss: 0.8099 - dense_8_acc: 0.9996 - dense_9_acc: 0.9675 - dense_10_acc: 0.8254 - dense_11_acc: 0.7702 - dense_12_acc: 0.7366 - val_loss: 1.2932 - val_dense_8_loss: 0.0017 - val_dense_9_loss: 0.0266 - val_dense_10_loss: 0.1877 - val_dense_11_loss: 0.4813 - val_dense_12_loss: 0.5959 - val_dense_8_acc: 0.9998 - val_dense_9_acc: 0.9937 - val_dense_10_acc: 0.9452 - val_dense_11_acc: 0.8547 - val_dense_12_acc: 0.8132\n",
      "Epoch 9/50\n",
      "107s - loss: 2.0635 - dense_8_loss: 0.0034 - dense_9_loss: 0.1065 - dense_10_loss: 0.5183 - dense_11_loss: 0.6773 - dense_12_loss: 0.7579 - dense_8_acc: 0.9996 - dense_9_acc: 0.9692 - dense_10_acc: 0.8361 - dense_11_acc: 0.7835 - dense_12_acc: 0.7531 - val_loss: 1.2028 - val_dense_8_loss: 0.0015 - val_dense_9_loss: 0.0203 - val_dense_10_loss: 0.1681 - val_dense_11_loss: 0.4518 - val_dense_12_loss: 0.5611 - val_dense_8_acc: 0.9998 - val_dense_9_acc: 0.9948 - val_dense_10_acc: 0.9513 - val_dense_11_acc: 0.8634 - val_dense_12_acc: 0.8263\n",
      "Epoch 10/50\n",
      "106s - loss: 1.9814 - dense_8_loss: 0.0030 - dense_9_loss: 0.1051 - dense_10_loss: 0.5027 - dense_11_loss: 0.6428 - dense_12_loss: 0.7277 - dense_8_acc: 0.9996 - dense_9_acc: 0.9690 - dense_10_acc: 0.8404 - dense_11_acc: 0.7961 - dense_12_acc: 0.7651 - val_loss: 1.2009 - val_dense_8_loss: 0.0016 - val_dense_9_loss: 0.0293 - val_dense_10_loss: 0.1927 - val_dense_11_loss: 0.4391 - val_dense_12_loss: 0.5382 - val_dense_8_acc: 0.9998 - val_dense_9_acc: 0.9934 - val_dense_10_acc: 0.9438 - val_dense_11_acc: 0.8686 - val_dense_12_acc: 0.8323\n",
      "Epoch 11/50\n",
      "104s - loss: 1.9058 - dense_8_loss: 0.0029 - dense_9_loss: 0.1015 - dense_10_loss: 0.4886 - dense_11_loss: 0.6183 - dense_12_loss: 0.6945 - dense_8_acc: 0.9996 - dense_9_acc: 0.9703 - dense_10_acc: 0.8456 - dense_11_acc: 0.8055 - dense_12_acc: 0.7756 - val_loss: 1.1555 - val_dense_8_loss: 0.0014 - val_dense_9_loss: 0.0216 - val_dense_10_loss: 0.1724 - val_dense_11_loss: 0.4309 - val_dense_12_loss: 0.5292 - val_dense_8_acc: 0.9998 - val_dense_9_acc: 0.9949 - val_dense_10_acc: 0.9496 - val_dense_11_acc: 0.8707 - val_dense_12_acc: 0.8362\n",
      "Epoch 12/50\n",
      "109s - loss: 1.8196 - dense_8_loss: 0.0031 - dense_9_loss: 0.0968 - dense_10_loss: 0.4658 - dense_11_loss: 0.5894 - dense_12_loss: 0.6644 - dense_8_acc: 0.9996 - dense_9_acc: 0.9718 - dense_10_acc: 0.8526 - dense_11_acc: 0.8152 - dense_12_acc: 0.7879 - val_loss: 1.0923 - val_dense_8_loss: 0.0016 - val_dense_9_loss: 0.0261 - val_dense_10_loss: 0.1703 - val_dense_11_loss: 0.4008 - val_dense_12_loss: 0.4934 - val_dense_8_acc: 0.9998 - val_dense_9_acc: 0.9937 - val_dense_10_acc: 0.9506 - val_dense_11_acc: 0.8842 - val_dense_12_acc: 0.8482\n",
      "Epoch 13/50\n",
      "108s - loss: 1.7641 - dense_8_loss: 0.0028 - dense_9_loss: 0.0941 - dense_10_loss: 0.4531 - dense_11_loss: 0.5692 - dense_12_loss: 0.6448 - dense_8_acc: 0.9996 - dense_9_acc: 0.9725 - dense_10_acc: 0.8576 - dense_11_acc: 0.8219 - dense_12_acc: 0.7942 - val_loss: 1.1004 - val_dense_8_loss: 0.0015 - val_dense_9_loss: 0.0282 - val_dense_10_loss: 0.1707 - val_dense_11_loss: 0.4062 - val_dense_12_loss: 0.4937 - val_dense_8_acc: 0.9998 - val_dense_9_acc: 0.9926 - val_dense_10_acc: 0.9502 - val_dense_11_acc: 0.8855 - val_dense_12_acc: 0.8473\n",
      "Epoch 14/50\n",
      "106s - loss: 1.7199 - dense_8_loss: 0.0027 - dense_9_loss: 0.0945 - dense_10_loss: 0.4402 - dense_11_loss: 0.5594 - dense_12_loss: 0.6232 - dense_8_acc: 0.9996 - dense_9_acc: 0.9727 - dense_10_acc: 0.8621 - dense_11_acc: 0.8256 - dense_12_acc: 0.8014 - val_loss: 1.0286 - val_dense_8_loss: 0.0016 - val_dense_9_loss: 0.0199 - val_dense_10_loss: 0.1494 - val_dense_11_loss: 0.3810 - val_dense_12_loss: 0.4766 - val_dense_8_acc: 0.9998 - val_dense_9_acc: 0.9948 - val_dense_10_acc: 0.9570 - val_dense_11_acc: 0.8886 - val_dense_12_acc: 0.8493\n",
      "Epoch 15/50\n",
      "105s - loss: 1.6675 - dense_8_loss: 0.0027 - dense_9_loss: 0.0893 - dense_10_loss: 0.4283 - dense_11_loss: 0.5429 - dense_12_loss: 0.6043 - dense_8_acc: 0.9996 - dense_9_acc: 0.9736 - dense_10_acc: 0.8662 - dense_11_acc: 0.8312 - dense_12_acc: 0.8087 - val_loss: 1.0649 - val_dense_8_loss: 0.0017 - val_dense_9_loss: 0.0252 - val_dense_10_loss: 0.1708 - val_dense_11_loss: 0.3940 - val_dense_12_loss: 0.4731 - val_dense_8_acc: 0.9998 - val_dense_9_acc: 0.9937 - val_dense_10_acc: 0.9506 - val_dense_11_acc: 0.8843 - val_dense_12_acc: 0.8520\n",
      "Epoch 16/50\n",
      "102s - loss: 1.6291 - dense_8_loss: 0.0029 - dense_9_loss: 0.0897 - dense_10_loss: 0.4176 - dense_11_loss: 0.5289 - dense_12_loss: 0.5899 - dense_8_acc: 0.9996 - dense_9_acc: 0.9739 - dense_10_acc: 0.8703 - dense_11_acc: 0.8349 - dense_12_acc: 0.8143 - val_loss: 1.0007 - val_dense_8_loss: 0.0015 - val_dense_9_loss: 0.0208 - val_dense_10_loss: 0.1573 - val_dense_11_loss: 0.3666 - val_dense_12_loss: 0.4545 - val_dense_8_acc: 0.9998 - val_dense_9_acc: 0.9945 - val_dense_10_acc: 0.9554 - val_dense_11_acc: 0.8939 - val_dense_12_acc: 0.8573\n",
      "Epoch 17/50\n",
      "104s - loss: 1.5975 - dense_8_loss: 0.0026 - dense_9_loss: 0.0887 - dense_10_loss: 0.4100 - dense_11_loss: 0.5144 - dense_12_loss: 0.5819 - dense_8_acc: 0.9996 - dense_9_acc: 0.9738 - dense_10_acc: 0.8725 - dense_11_acc: 0.8416 - dense_12_acc: 0.8169 - val_loss: 1.0009 - val_dense_8_loss: 0.0015 - val_dense_9_loss: 0.0219 - val_dense_10_loss: 0.1499 - val_dense_11_loss: 0.3709 - val_dense_12_loss: 0.4567 - val_dense_8_acc: 0.9998 - val_dense_9_acc: 0.9937 - val_dense_10_acc: 0.9567 - val_dense_11_acc: 0.8909 - val_dense_12_acc: 0.8602\n",
      "Epoch 18/50\n",
      "103s - loss: 1.5649 - dense_8_loss: 0.0023 - dense_9_loss: 0.0886 - dense_10_loss: 0.4013 - dense_11_loss: 0.5057 - dense_12_loss: 0.5669 - dense_8_acc: 0.9996 - dense_9_acc: 0.9750 - dense_10_acc: 0.8760 - dense_11_acc: 0.8446 - dense_12_acc: 0.8232 - val_loss: 1.0061 - val_dense_8_loss: 0.0013 - val_dense_9_loss: 0.0196 - val_dense_10_loss: 0.1551 - val_dense_11_loss: 0.3779 - val_dense_12_loss: 0.4522 - val_dense_8_acc: 0.9998 - val_dense_9_acc: 0.9949 - val_dense_10_acc: 0.9542 - val_dense_11_acc: 0.8908 - val_dense_12_acc: 0.8585\n",
      "Epoch 19/50\n",
      "104s - loss: 1.5454 - dense_8_loss: 0.0026 - dense_9_loss: 0.0861 - dense_10_loss: 0.3915 - dense_11_loss: 0.5029 - dense_12_loss: 0.5624 - dense_8_acc: 0.9996 - dense_9_acc: 0.9751 - dense_10_acc: 0.8786 - dense_11_acc: 0.8452 - dense_12_acc: 0.8221 - val_loss: 0.9497 - val_dense_8_loss: 0.0014 - val_dense_9_loss: 0.0187 - val_dense_10_loss: 0.1465 - val_dense_11_loss: 0.3510 - val_dense_12_loss: 0.4322 - val_dense_8_acc: 0.9998 - val_dense_9_acc: 0.9952 - val_dense_10_acc: 0.9589 - val_dense_11_acc: 0.8973 - val_dense_12_acc: 0.8653\n",
      "Epoch 20/50\n",
      "104s - loss: 1.5038 - dense_8_loss: 0.0026 - dense_9_loss: 0.0853 - dense_10_loss: 0.3856 - dense_11_loss: 0.4866 - dense_12_loss: 0.5437 - dense_8_acc: 0.9996 - dense_9_acc: 0.9750 - dense_10_acc: 0.8819 - dense_11_acc: 0.8499 - dense_12_acc: 0.8283 - val_loss: 0.9623 - val_dense_8_loss: 0.0016 - val_dense_9_loss: 0.0221 - val_dense_10_loss: 0.1474 - val_dense_11_loss: 0.3606 - val_dense_12_loss: 0.4305 - val_dense_8_acc: 0.9998 - val_dense_9_acc: 0.9944 - val_dense_10_acc: 0.9577 - val_dense_11_acc: 0.8932 - val_dense_12_acc: 0.8686\n",
      "Epoch 21/50\n",
      "103s - loss: 1.4789 - dense_8_loss: 0.0023 - dense_9_loss: 0.0838 - dense_10_loss: 0.3723 - dense_11_loss: 0.4823 - dense_12_loss: 0.5382 - dense_8_acc: 0.9996 - dense_9_acc: 0.9757 - dense_10_acc: 0.8840 - dense_11_acc: 0.8526 - dense_12_acc: 0.8302 - val_loss: 0.9492 - val_dense_8_loss: 0.0016 - val_dense_9_loss: 0.0218 - val_dense_10_loss: 0.1523 - val_dense_11_loss: 0.3448 - val_dense_12_loss: 0.4286 - val_dense_8_acc: 0.9998 - val_dense_9_acc: 0.9942 - val_dense_10_acc: 0.9579 - val_dense_11_acc: 0.9012 - val_dense_12_acc: 0.8673\n",
      "Epoch 22/50\n",
      "106s - loss: 1.4511 - dense_8_loss: 0.0026 - dense_9_loss: 0.0820 - dense_10_loss: 0.3690 - dense_11_loss: 0.4703 - dense_12_loss: 0.5271 - dense_8_acc: 0.9996 - dense_9_acc: 0.9762 - dense_10_acc: 0.8885 - dense_11_acc: 0.8548 - dense_12_acc: 0.8350 - val_loss: 0.9325 - val_dense_8_loss: 0.0013 - val_dense_9_loss: 0.0222 - val_dense_10_loss: 0.1452 - val_dense_11_loss: 0.3466 - val_dense_12_loss: 0.4172 - val_dense_8_acc: 0.9998 - val_dense_9_acc: 0.9945 - val_dense_10_acc: 0.9594 - val_dense_11_acc: 0.8993 - val_dense_12_acc: 0.8677\n",
      "Epoch 23/50\n",
      "114s - loss: 1.4381 - dense_8_loss: 0.0026 - dense_9_loss: 0.0811 - dense_10_loss: 0.3656 - dense_11_loss: 0.4677 - dense_12_loss: 0.5210 - dense_8_acc: 0.9996 - dense_9_acc: 0.9765 - dense_10_acc: 0.8865 - dense_11_acc: 0.8584 - dense_12_acc: 0.8374 - val_loss: 0.9435 - val_dense_8_loss: 0.0015 - val_dense_9_loss: 0.0217 - val_dense_10_loss: 0.1423 - val_dense_11_loss: 0.3506 - val_dense_12_loss: 0.4275 - val_dense_8_acc: 0.9998 - val_dense_9_acc: 0.9939 - val_dense_10_acc: 0.9597 - val_dense_11_acc: 0.8974 - val_dense_12_acc: 0.8671\n",
      "Epoch 24/50\n",
      "107s - loss: 1.4206 - dense_8_loss: 0.0024 - dense_9_loss: 0.0802 - dense_10_loss: 0.3618 - dense_11_loss: 0.4581 - dense_12_loss: 0.5181 - dense_8_acc: 0.9996 - dense_9_acc: 0.9762 - dense_10_acc: 0.8897 - dense_11_acc: 0.8599 - dense_12_acc: 0.8386 - val_loss: 0.9616 - val_dense_8_loss: 0.0014 - val_dense_9_loss: 0.0226 - val_dense_10_loss: 0.1536 - val_dense_11_loss: 0.3531 - val_dense_12_loss: 0.4310 - val_dense_8_acc: 0.9998 - val_dense_9_acc: 0.9935 - val_dense_10_acc: 0.9556 - val_dense_11_acc: 0.8993 - val_dense_12_acc: 0.8625\n",
      "Epoch 25/50\n",
      "112s - loss: 1.4028 - dense_8_loss: 0.0025 - dense_9_loss: 0.0796 - dense_10_loss: 0.3539 - dense_11_loss: 0.4528 - dense_12_loss: 0.5139 - dense_8_acc: 0.9996 - dense_9_acc: 0.9773 - dense_10_acc: 0.8911 - dense_11_acc: 0.8619 - dense_12_acc: 0.8407 - val_loss: 0.9143 - val_dense_8_loss: 0.0013 - val_dense_9_loss: 0.0188 - val_dense_10_loss: 0.1392 - val_dense_11_loss: 0.3385 - val_dense_12_loss: 0.4165 - val_dense_8_acc: 0.9998 - val_dense_9_acc: 0.9949 - val_dense_10_acc: 0.9603 - val_dense_11_acc: 0.9007 - val_dense_12_acc: 0.8692\n",
      "Epoch 26/50\n",
      "125s - loss: 1.3883 - dense_8_loss: 0.0024 - dense_9_loss: 0.0787 - dense_10_loss: 0.3508 - dense_11_loss: 0.4489 - dense_12_loss: 0.5075 - dense_8_acc: 0.9996 - dense_9_acc: 0.9775 - dense_10_acc: 0.8934 - dense_11_acc: 0.8630 - dense_12_acc: 0.8438 - val_loss: 0.8827 - val_dense_8_loss: 0.0015 - val_dense_9_loss: 0.0202 - val_dense_10_loss: 0.1436 - val_dense_11_loss: 0.3283 - val_dense_12_loss: 0.3892 - val_dense_8_acc: 0.9998 - val_dense_9_acc: 0.9947 - val_dense_10_acc: 0.9595 - val_dense_11_acc: 0.9066 - val_dense_12_acc: 0.8800\n",
      "Epoch 27/50\n",
      "105s - loss: 1.3673 - dense_8_loss: 0.0023 - dense_9_loss: 0.0775 - dense_10_loss: 0.3414 - dense_11_loss: 0.4404 - dense_12_loss: 0.5058 - dense_8_acc: 0.9996 - dense_9_acc: 0.9776 - dense_10_acc: 0.8958 - dense_11_acc: 0.8648 - dense_12_acc: 0.8434 - val_loss: 0.8681 - val_dense_8_loss: 0.0015 - val_dense_9_loss: 0.0170 - val_dense_10_loss: 0.1289 - val_dense_11_loss: 0.3239 - val_dense_12_loss: 0.3968 - val_dense_8_acc: 0.9998 - val_dense_9_acc: 0.9953 - val_dense_10_acc: 0.9646 - val_dense_11_acc: 0.9067 - val_dense_12_acc: 0.8768\n",
      "Epoch 28/50\n",
      "98s - loss: 1.3626 - dense_8_loss: 0.0023 - dense_9_loss: 0.0781 - dense_10_loss: 0.3408 - dense_11_loss: 0.4428 - dense_12_loss: 0.4986 - dense_8_acc: 0.9996 - dense_9_acc: 0.9775 - dense_10_acc: 0.8964 - dense_11_acc: 0.8662 - dense_12_acc: 0.8470 - val_loss: 0.9146 - val_dense_8_loss: 0.0015 - val_dense_9_loss: 0.0238 - val_dense_10_loss: 0.1473 - val_dense_11_loss: 0.3344 - val_dense_12_loss: 0.4075 - val_dense_8_acc: 0.9998 - val_dense_9_acc: 0.9934 - val_dense_10_acc: 0.9584 - val_dense_11_acc: 0.9042 - val_dense_12_acc: 0.8741\n",
      "Epoch 29/50\n",
      "111s - loss: 1.3291 - dense_8_loss: 0.0024 - dense_9_loss: 0.0758 - dense_10_loss: 0.3317 - dense_11_loss: 0.4340 - dense_12_loss: 0.4852 - dense_8_acc: 0.9996 - dense_9_acc: 0.9780 - dense_10_acc: 0.8987 - dense_11_acc: 0.8667 - dense_12_acc: 0.8486 - val_loss: 0.8780 - val_dense_8_loss: 0.0015 - val_dense_9_loss: 0.0196 - val_dense_10_loss: 0.1397 - val_dense_11_loss: 0.3200 - val_dense_12_loss: 0.3972 - val_dense_8_acc: 0.9998 - val_dense_9_acc: 0.9945 - val_dense_10_acc: 0.9597 - val_dense_11_acc: 0.9080 - val_dense_12_acc: 0.8761\n",
      "Epoch 30/50\n",
      "109s - loss: 1.3143 - dense_8_loss: 0.0024 - dense_9_loss: 0.0751 - dense_10_loss: 0.3289 - dense_11_loss: 0.4240 - dense_12_loss: 0.4839 - dense_8_acc: 0.9996 - dense_9_acc: 0.9783 - dense_10_acc: 0.9005 - dense_11_acc: 0.8706 - dense_12_acc: 0.8502 - val_loss: 0.9146 - val_dense_8_loss: 0.0015 - val_dense_9_loss: 0.0200 - val_dense_10_loss: 0.1440 - val_dense_11_loss: 0.3360 - val_dense_12_loss: 0.4131 - val_dense_8_acc: 0.9998 - val_dense_9_acc: 0.9945 - val_dense_10_acc: 0.9593 - val_dense_11_acc: 0.9034 - val_dense_12_acc: 0.8744\n",
      "Epoch 31/50\n",
      "125s - loss: 1.3153 - dense_8_loss: 0.0024 - dense_9_loss: 0.0770 - dense_10_loss: 0.3288 - dense_11_loss: 0.4258 - dense_12_loss: 0.4813 - dense_8_acc: 0.9996 - dense_9_acc: 0.9776 - dense_10_acc: 0.9003 - dense_11_acc: 0.8717 - dense_12_acc: 0.8523 - val_loss: 0.8494 - val_dense_8_loss: 0.0016 - val_dense_9_loss: 0.0171 - val_dense_10_loss: 0.1309 - val_dense_11_loss: 0.3190 - val_dense_12_loss: 0.3808 - val_dense_8_acc: 0.9998 - val_dense_9_acc: 0.9952 - val_dense_10_acc: 0.9646 - val_dense_11_acc: 0.9102 - val_dense_12_acc: 0.8854\n",
      "Epoch 32/50\n",
      "126s - loss: 1.2848 - dense_8_loss: 0.0025 - dense_9_loss: 0.0758 - dense_10_loss: 0.3172 - dense_11_loss: 0.4103 - dense_12_loss: 0.4789 - dense_8_acc: 0.9996 - dense_9_acc: 0.9783 - dense_10_acc: 0.9034 - dense_11_acc: 0.8743 - dense_12_acc: 0.8520 - val_loss: 0.9188 - val_dense_8_loss: 0.0013 - val_dense_9_loss: 0.0227 - val_dense_10_loss: 0.1579 - val_dense_11_loss: 0.3417 - val_dense_12_loss: 0.3952 - val_dense_8_acc: 0.9998 - val_dense_9_acc: 0.9935 - val_dense_10_acc: 0.9554 - val_dense_11_acc: 0.9046 - val_dense_12_acc: 0.8778\n",
      "Epoch 33/50\n",
      "106s - loss: 1.2848 - dense_8_loss: 0.0025 - dense_9_loss: 0.0725 - dense_10_loss: 0.3169 - dense_11_loss: 0.4200 - dense_12_loss: 0.4730 - dense_8_acc: 0.9996 - dense_9_acc: 0.9786 - dense_10_acc: 0.9047 - dense_11_acc: 0.8740 - dense_12_acc: 0.8543 - val_loss: 0.8394 - val_dense_8_loss: 0.0018 - val_dense_9_loss: 0.0180 - val_dense_10_loss: 0.1372 - val_dense_11_loss: 0.3098 - val_dense_12_loss: 0.3726 - val_dense_8_acc: 0.9998 - val_dense_9_acc: 0.9952 - val_dense_10_acc: 0.9612 - val_dense_11_acc: 0.9127 - val_dense_12_acc: 0.8847\n",
      "Epoch 34/50\n",
      "106s - loss: 1.2743 - dense_8_loss: 0.0026 - dense_9_loss: 0.0748 - dense_10_loss: 0.3151 - dense_11_loss: 0.4105 - dense_12_loss: 0.4713 - dense_8_acc: 0.9996 - dense_9_acc: 0.9785 - dense_10_acc: 0.9033 - dense_11_acc: 0.8774 - dense_12_acc: 0.8534 - val_loss: 0.8369 - val_dense_8_loss: 0.0017 - val_dense_9_loss: 0.0175 - val_dense_10_loss: 0.1310 - val_dense_11_loss: 0.3149 - val_dense_12_loss: 0.3719 - val_dense_8_acc: 0.9998 - val_dense_9_acc: 0.9950 - val_dense_10_acc: 0.9635 - val_dense_11_acc: 0.9095 - val_dense_12_acc: 0.8852\n",
      "Epoch 35/50\n",
      "103s - loss: 1.2690 - dense_8_loss: 0.0022 - dense_9_loss: 0.0721 - dense_10_loss: 0.3149 - dense_11_loss: 0.4109 - dense_12_loss: 0.4689 - dense_8_acc: 0.9996 - dense_9_acc: 0.9790 - dense_10_acc: 0.9046 - dense_11_acc: 0.8764 - dense_12_acc: 0.8544 - val_loss: 0.8788 - val_dense_8_loss: 0.0015 - val_dense_9_loss: 0.0207 - val_dense_10_loss: 0.1453 - val_dense_11_loss: 0.3253 - val_dense_12_loss: 0.3861 - val_dense_8_acc: 0.9998 - val_dense_9_acc: 0.9943 - val_dense_10_acc: 0.9572 - val_dense_11_acc: 0.9086 - val_dense_12_acc: 0.8797\n",
      "Epoch 36/50\n",
      "106s - loss: 1.2518 - dense_8_loss: 0.0022 - dense_9_loss: 0.0716 - dense_10_loss: 0.3119 - dense_11_loss: 0.4057 - dense_12_loss: 0.4604 - dense_8_acc: 0.9996 - dense_9_acc: 0.9795 - dense_10_acc: 0.9064 - dense_11_acc: 0.8770 - dense_12_acc: 0.8584 - val_loss: 0.9090 - val_dense_8_loss: 0.0017 - val_dense_9_loss: 0.0211 - val_dense_10_loss: 0.1440 - val_dense_11_loss: 0.3392 - val_dense_12_loss: 0.4030 - val_dense_8_acc: 0.9998 - val_dense_9_acc: 0.9942 - val_dense_10_acc: 0.9592 - val_dense_11_acc: 0.9029 - val_dense_12_acc: 0.8762\n",
      "Epoch 37/50\n",
      "107s - loss: 1.2481 - dense_8_loss: 0.0024 - dense_9_loss: 0.0719 - dense_10_loss: 0.3090 - dense_11_loss: 0.4015 - dense_12_loss: 0.4634 - dense_8_acc: 0.9996 - dense_9_acc: 0.9798 - dense_10_acc: 0.9068 - dense_11_acc: 0.8802 - dense_12_acc: 0.8568 - val_loss: 0.8413 - val_dense_8_loss: 0.0016 - val_dense_9_loss: 0.0197 - val_dense_10_loss: 0.1325 - val_dense_11_loss: 0.3103 - val_dense_12_loss: 0.3771 - val_dense_8_acc: 0.9998 - val_dense_9_acc: 0.9945 - val_dense_10_acc: 0.9618 - val_dense_11_acc: 0.9105 - val_dense_12_acc: 0.8818\n",
      "Epoch 38/50\n",
      "108s - loss: 1.2387 - dense_8_loss: 0.0020 - dense_9_loss: 0.0707 - dense_10_loss: 0.3088 - dense_11_loss: 0.3951 - dense_12_loss: 0.4621 - dense_8_acc: 0.9996 - dense_9_acc: 0.9800 - dense_10_acc: 0.9066 - dense_11_acc: 0.8798 - dense_12_acc: 0.8567 - val_loss: 0.8346 - val_dense_8_loss: 0.0016 - val_dense_9_loss: 0.0189 - val_dense_10_loss: 0.1379 - val_dense_11_loss: 0.3117 - val_dense_12_loss: 0.3645 - val_dense_8_acc: 0.9998 - val_dense_9_acc: 0.9946 - val_dense_10_acc: 0.9614 - val_dense_11_acc: 0.9131 - val_dense_12_acc: 0.8887\n",
      "Epoch 39/50\n",
      "105s - loss: 1.2356 - dense_8_loss: 0.0026 - dense_9_loss: 0.0691 - dense_10_loss: 0.3005 - dense_11_loss: 0.4028 - dense_12_loss: 0.4606 - dense_8_acc: 0.9996 - dense_9_acc: 0.9799 - dense_10_acc: 0.9102 - dense_11_acc: 0.8798 - dense_12_acc: 0.8587 - val_loss: 0.8214 - val_dense_8_loss: 0.0014 - val_dense_9_loss: 0.0189 - val_dense_10_loss: 0.1308 - val_dense_11_loss: 0.3086 - val_dense_12_loss: 0.3618 - val_dense_8_acc: 0.9998 - val_dense_9_acc: 0.9950 - val_dense_10_acc: 0.9629 - val_dense_11_acc: 0.9142 - val_dense_12_acc: 0.8900\n",
      "Epoch 40/50\n",
      "104s - loss: 1.2245 - dense_8_loss: 0.0024 - dense_9_loss: 0.0700 - dense_10_loss: 0.3033 - dense_11_loss: 0.3963 - dense_12_loss: 0.4525 - dense_8_acc: 0.9996 - dense_9_acc: 0.9797 - dense_10_acc: 0.9082 - dense_11_acc: 0.8810 - dense_12_acc: 0.8609 - val_loss: 0.8181 - val_dense_8_loss: 0.0013 - val_dense_9_loss: 0.0158 - val_dense_10_loss: 0.1257 - val_dense_11_loss: 0.3040 - val_dense_12_loss: 0.3712 - val_dense_8_acc: 0.9998 - val_dense_9_acc: 0.9961 - val_dense_10_acc: 0.9645 - val_dense_11_acc: 0.9131 - val_dense_12_acc: 0.8874\n",
      "Epoch 41/50\n",
      "102s - loss: 1.2051 - dense_8_loss: 0.0025 - dense_9_loss: 0.0722 - dense_10_loss: 0.2914 - dense_11_loss: 0.3949 - dense_12_loss: 0.4442 - dense_8_acc: 0.9996 - dense_9_acc: 0.9797 - dense_10_acc: 0.9117 - dense_11_acc: 0.8820 - dense_12_acc: 0.8629 - val_loss: 0.8573 - val_dense_8_loss: 9.6797e-04 - val_dense_9_loss: 0.0208 - val_dense_10_loss: 0.1483 - val_dense_11_loss: 0.3218 - val_dense_12_loss: 0.3655 - val_dense_8_acc: 0.9998 - val_dense_9_acc: 0.9948 - val_dense_10_acc: 0.9576 - val_dense_11_acc: 0.9113 - val_dense_12_acc: 0.8877\n",
      "Epoch 42/50\n",
      "97s - loss: 1.2022 - dense_8_loss: 0.0022 - dense_9_loss: 0.0705 - dense_10_loss: 0.2973 - dense_11_loss: 0.3898 - dense_12_loss: 0.4424 - dense_8_acc: 0.9996 - dense_9_acc: 0.9798 - dense_10_acc: 0.9099 - dense_11_acc: 0.8819 - dense_12_acc: 0.8618 - val_loss: 0.8381 - val_dense_8_loss: 0.0015 - val_dense_9_loss: 0.0179 - val_dense_10_loss: 0.1292 - val_dense_11_loss: 0.3160 - val_dense_12_loss: 0.3734 - val_dense_8_acc: 0.9998 - val_dense_9_acc: 0.9952 - val_dense_10_acc: 0.9654 - val_dense_11_acc: 0.9119 - val_dense_12_acc: 0.8839\n",
      "Epoch 43/50\n",
      "98s - loss: 1.1985 - dense_8_loss: 0.0022 - dense_9_loss: 0.0693 - dense_10_loss: 0.2962 - dense_11_loss: 0.3898 - dense_12_loss: 0.4411 - dense_8_acc: 0.9996 - dense_9_acc: 0.9801 - dense_10_acc: 0.9115 - dense_11_acc: 0.8830 - dense_12_acc: 0.8653 - val_loss: 0.7873 - val_dense_8_loss: 0.0015 - val_dense_9_loss: 0.0164 - val_dense_10_loss: 0.1250 - val_dense_11_loss: 0.2906 - val_dense_12_loss: 0.3537 - val_dense_8_acc: 0.9998 - val_dense_9_acc: 0.9960 - val_dense_10_acc: 0.9645 - val_dense_11_acc: 0.9160 - val_dense_12_acc: 0.8907\n",
      "Epoch 44/50\n",
      "100s - loss: 1.1883 - dense_8_loss: 0.0021 - dense_9_loss: 0.0690 - dense_10_loss: 0.2956 - dense_11_loss: 0.3823 - dense_12_loss: 0.4393 - dense_8_acc: 0.9996 - dense_9_acc: 0.9803 - dense_10_acc: 0.9111 - dense_11_acc: 0.8848 - dense_12_acc: 0.8653 - val_loss: 0.8272 - val_dense_8_loss: 0.0013 - val_dense_9_loss: 0.0169 - val_dense_10_loss: 0.1244 - val_dense_11_loss: 0.3117 - val_dense_12_loss: 0.3730 - val_dense_8_acc: 0.9998 - val_dense_9_acc: 0.9953 - val_dense_10_acc: 0.9643 - val_dense_11_acc: 0.9121 - val_dense_12_acc: 0.8827\n",
      "Epoch 45/50\n",
      "99s - loss: 1.1883 - dense_8_loss: 0.0025 - dense_9_loss: 0.0672 - dense_10_loss: 0.2901 - dense_11_loss: 0.3857 - dense_12_loss: 0.4429 - dense_8_acc: 0.9996 - dense_9_acc: 0.9807 - dense_10_acc: 0.9117 - dense_11_acc: 0.8841 - dense_12_acc: 0.8643 - val_loss: 0.8487 - val_dense_8_loss: 0.0012 - val_dense_9_loss: 0.0180 - val_dense_10_loss: 0.1354 - val_dense_11_loss: 0.3155 - val_dense_12_loss: 0.3786 - val_dense_8_acc: 0.9998 - val_dense_9_acc: 0.9948 - val_dense_10_acc: 0.9628 - val_dense_11_acc: 0.9122 - val_dense_12_acc: 0.8838\n",
      "Epoch 46/50\n",
      "96s - loss: 1.1779 - dense_8_loss: 0.0022 - dense_9_loss: 0.0691 - dense_10_loss: 0.2889 - dense_11_loss: 0.3818 - dense_12_loss: 0.4359 - dense_8_acc: 0.9996 - dense_9_acc: 0.9801 - dense_10_acc: 0.9127 - dense_11_acc: 0.8852 - dense_12_acc: 0.8657 - val_loss: 0.7924 - val_dense_8_loss: 0.0015 - val_dense_9_loss: 0.0170 - val_dense_10_loss: 0.1277 - val_dense_11_loss: 0.2965 - val_dense_12_loss: 0.3496 - val_dense_8_acc: 0.9998 - val_dense_9_acc: 0.9952 - val_dense_10_acc: 0.9641 - val_dense_11_acc: 0.9181 - val_dense_12_acc: 0.8935\n",
      "Epoch 47/50\n",
      "97s - loss: 1.1671 - dense_8_loss: 0.0023 - dense_9_loss: 0.0678 - dense_10_loss: 0.2884 - dense_11_loss: 0.3788 - dense_12_loss: 0.4297 - dense_8_acc: 0.9995 - dense_9_acc: 0.9807 - dense_10_acc: 0.9130 - dense_11_acc: 0.8848 - dense_12_acc: 0.8689 - val_loss: 0.8481 - val_dense_8_loss: 0.0014 - val_dense_9_loss: 0.0185 - val_dense_10_loss: 0.1351 - val_dense_11_loss: 0.3203 - val_dense_12_loss: 0.3728 - val_dense_8_acc: 0.9998 - val_dense_9_acc: 0.9948 - val_dense_10_acc: 0.9619 - val_dense_11_acc: 0.9093 - val_dense_12_acc: 0.8849\n",
      "Epoch 48/50\n",
      "236s - loss: 1.1691 - dense_8_loss: 0.0019 - dense_9_loss: 0.0666 - dense_10_loss: 0.2871 - dense_11_loss: 0.3788 - dense_12_loss: 0.4347 - dense_8_acc: 0.9996 - dense_9_acc: 0.9808 - dense_10_acc: 0.9131 - dense_11_acc: 0.8862 - dense_12_acc: 0.8667 - val_loss: 0.8188 - val_dense_8_loss: 0.0018 - val_dense_9_loss: 0.0145 - val_dense_10_loss: 0.1231 - val_dense_11_loss: 0.3130 - val_dense_12_loss: 0.3665 - val_dense_8_acc: 0.9998 - val_dense_9_acc: 0.9960 - val_dense_10_acc: 0.9652 - val_dense_11_acc: 0.9127 - val_dense_12_acc: 0.8876\n",
      "Epoch 49/50\n",
      "127s - loss: 1.1579 - dense_8_loss: 0.0024 - dense_9_loss: 0.0660 - dense_10_loss: 0.2817 - dense_11_loss: 0.3753 - dense_12_loss: 0.4325 - dense_8_acc: 0.9996 - dense_9_acc: 0.9811 - dense_10_acc: 0.9150 - dense_11_acc: 0.8881 - dense_12_acc: 0.8688 - val_loss: 0.8057 - val_dense_8_loss: 0.0014 - val_dense_9_loss: 0.0164 - val_dense_10_loss: 0.1254 - val_dense_11_loss: 0.3077 - val_dense_12_loss: 0.3548 - val_dense_8_acc: 0.9998 - val_dense_9_acc: 0.9954 - val_dense_10_acc: 0.9646 - val_dense_11_acc: 0.9142 - val_dense_12_acc: 0.8926\n",
      "Epoch 50/50\n",
      "118s - loss: 1.1541 - dense_8_loss: 0.0021 - dense_9_loss: 0.0665 - dense_10_loss: 0.2819 - dense_11_loss: 0.3777 - dense_12_loss: 0.4258 - dense_8_acc: 0.9996 - dense_9_acc: 0.9816 - dense_10_acc: 0.9160 - dense_11_acc: 0.8855 - dense_12_acc: 0.8706 - val_loss: 0.8207 - val_dense_8_loss: 9.7314e-04 - val_dense_9_loss: 0.0201 - val_dense_10_loss: 0.1377 - val_dense_11_loss: 0.3002 - val_dense_12_loss: 0.3618 - val_dense_8_acc: 0.9998 - val_dense_9_acc: 0.9942 - val_dense_10_acc: 0.9614 - val_dense_11_acc: 0.9184 - val_dense_12_acc: 0.8907\n"
     ]
    }
   ],
   "source": [
    "hide_code\n",
    "\n",
    "cnn_model = cnn_model()\n",
    "\n",
    "history1 = cnn_model.fit(X_train, y_train_cat_list, validation_data=(X_test, y_test_cat_list), \n",
    "                         epochs=50, batch_size=128, verbose=2)"
   ]
  },
  {
   "cell_type": "code",
   "execution_count": 39,
   "metadata": {
    "collapsed": false
   },
   "outputs": [
    {
     "name": "stdout",
     "output_type": "stream",
     "text": [
      "Model 1. CNN Scores: \n",
      " [0.82069942478338875, 0.00097313751916760789, 0.02006019360047382, 0.13766005407770474, 0.30020738680164022, 0.36179865261912347, 0.99983333333333335, 0.99424999999999997, 0.9614166666666667, 0.91841666666666666, 0.89066666666666672]\n",
      "Model 1. First digit. CNN Accuracy: 99.98%\n",
      "Model 1. Second digit. CNN Accuracy: 99.42%\n",
      "Model 1. Third digit. CNN Accuracy: 96.14%\n",
      "Model 1. Fourth digit. CNN Accuracy: 91.84%\n",
      "Model 1. Fifth digit. CNN Accuracy: 89.07%\n",
      "____________________________________________________________________________________________________\n",
      "Layer (type)                     Output Shape          Param #     Connected to                     \n",
      "====================================================================================================\n",
      "input_2 (InputLayer)             (None, 32, 32, 1)     0                                            \n",
      "____________________________________________________________________________________________________\n",
      "conv2d_3 (Conv2D)                (None, 32, 32, 32)    320         input_2[0][0]                    \n",
      "____________________________________________________________________________________________________\n",
      "max_pooling2d_3 (MaxPooling2D)   (None, 16, 16, 32)    0           conv2d_3[0][0]                   \n",
      "____________________________________________________________________________________________________\n",
      "conv2d_4 (Conv2D)                (None, 14, 14, 32)    9248        max_pooling2d_3[0][0]            \n",
      "____________________________________________________________________________________________________\n",
      "max_pooling2d_4 (MaxPooling2D)   (None, 7, 7, 32)      0           conv2d_4[0][0]                   \n",
      "____________________________________________________________________________________________________\n",
      "dropout_4 (Dropout)              (None, 7, 7, 32)      0           max_pooling2d_4[0][0]            \n",
      "____________________________________________________________________________________________________\n",
      "conv2d_5 (Conv2D)                (None, 5, 5, 64)      18496       dropout_4[0][0]                  \n",
      "____________________________________________________________________________________________________\n",
      "conv2d_6 (Conv2D)                (None, 3, 3, 64)      36928       conv2d_5[0][0]                   \n",
      "____________________________________________________________________________________________________\n",
      "dropout_5 (Dropout)              (None, 3, 3, 64)      0           conv2d_6[0][0]                   \n",
      "____________________________________________________________________________________________________\n",
      "conv2d_7 (Conv2D)                (None, 1, 1, 128)     73856       dropout_5[0][0]                  \n",
      "____________________________________________________________________________________________________\n",
      "dropout_6 (Dropout)              (None, 1, 1, 128)     0           conv2d_7[0][0]                   \n",
      "____________________________________________________________________________________________________\n",
      "flatten_2 (Flatten)              (None, 128)           0           dropout_6[0][0]                  \n",
      "____________________________________________________________________________________________________\n",
      "dense_7 (Dense)                  (None, 512)           66048       flatten_2[0][0]                  \n",
      "____________________________________________________________________________________________________\n",
      "dropout_7 (Dropout)              (None, 512)           0           dense_7[0][0]                    \n",
      "____________________________________________________________________________________________________\n",
      "dense_8 (Dense)                  (None, 11)            5643        dropout_7[0][0]                  \n",
      "____________________________________________________________________________________________________\n",
      "dense_9 (Dense)                  (None, 11)            5643        dropout_7[0][0]                  \n",
      "____________________________________________________________________________________________________\n",
      "dense_10 (Dense)                 (None, 11)            5643        dropout_7[0][0]                  \n",
      "____________________________________________________________________________________________________\n",
      "dense_11 (Dense)                 (None, 11)            5643        dropout_7[0][0]                  \n",
      "____________________________________________________________________________________________________\n",
      "dense_12 (Dense)                 (None, 11)            5643        dropout_7[0][0]                  \n",
      "====================================================================================================\n",
      "Total params: 233,111\n",
      "Trainable params: 233,111\n",
      "Non-trainable params: 0\n",
      "____________________________________________________________________________________________________\n",
      "None\n"
     ]
    }
   ],
   "source": [
    "hide_code\n",
    "\n",
    "cnn_scores = cnn_model.evaluate(X_test, y_test_cat_list, verbose=0)\n",
    "\n",
    "print(\"Model 1. CNN Scores: \\n\" , (cnn_scores))\n",
    "print(\"Model 1. First digit. CNN Accuracy: %.2f%%\" % (cnn_scores[6]*100))\n",
    "print(\"Model 1. Second digit. CNN Accuracy: %.2f%%\" % (cnn_scores[7]*100))\n",
    "print(\"Model 1. Third digit. CNN Accuracy: %.2f%%\" % (cnn_scores[8]*100))\n",
    "print(\"Model 1. Fourth digit. CNN Accuracy: %.2f%%\" % (cnn_scores[9]*100))\n",
    "print(\"Model 1. Fifth digit. CNN Accuracy: %.2f%%\" % (cnn_scores[10]*100))\n",
    "\n",
    "print(cnn_model.summary())"
   ]
  },
  {
   "cell_type": "code",
   "execution_count": 40,
   "metadata": {
    "collapsed": false
   },
   "outputs": [
    {
     "data": {
      "image/png": "[encoded data removed]",
      "text/plain": [
       "<matplotlib.figure.Figure at 0x143551400>"
      ]
     },
     "metadata": {},
     "output_type": "display_data"
    }
   ],
   "source": [
    "hide_code\n",
    "\n",
    "plt.figure(figsize=(12,4))\n",
    "\n",
    "plt.plot(history1.history['val_dense_8_acc'], label = 'First digit')\n",
    "plt.plot(history1.history['val_dense_9_acc'], label = 'Second digit')\n",
    "plt.plot(history1.history['val_dense_10_acc'], label = 'Third digit')\n",
    "plt.plot(history1.history['val_dense_11_acc'], label = 'Fourth digit')\n",
    "plt.plot(history1.history['val_dense_12_acc'], label = 'Fifth digit')\n",
    "\n",
    "plt.legend()\n",
    "plt.title('Accuracy');"
   ]
  },
  {
   "cell_type": "code",
   "execution_count": 41,
   "metadata": {
    "collapsed": false
   },
   "outputs": [
    {
     "name": "stdout",
     "output_type": "stream",
     "text": [
      "Model 1. Average CNN Accuracy: 95.29%\n"
     ]
    }
   ],
   "source": [
    "hide_code\n",
    "\n",
    "avg_accuracy = sum([cnn_scores[i] for i in range(6, 11)])/5\n",
    "\n",
    "print(\"Model 1. Average CNN Accuracy: %.2f%%\" % (avg_accuracy*100))"
   ]
  },
  {
   "cell_type": "code",
   "execution_count": 50,
   "metadata": {
    "collapsed": true
   },
   "outputs": [],
   "source": [
    "hide_code\n",
    "\n",
    "def cnn_model2():    \n",
    "    model_input = Input(shape=(32, 32, 1))  \n",
    "    \n",
    "    x = BatchNormalization()(model_input)\n",
    "        \n",
    "    x = Conv2D(32, (5, 5), activation='relu')(x)\n",
    "    x = MaxPooling2D(pool_size=(2, 2))(x)\n",
    "    \n",
    "    x = Dropout(0.25)(x)\n",
    "    \n",
    "    x = Conv2D(64, (5, 5), activation='relu')(x)\n",
    "    x = MaxPooling2D(pool_size=(2, 2))(x)\n",
    "    \n",
    "    x = Dropout(0.25)(x)\n",
    "              \n",
    "    x = Flatten()(x)\n",
    "    \n",
    "    x = Dense(256, activation='relu')(x)\n",
    "    x = Dropout(0.5)(x)\n",
    "    \n",
    "    y1 = Dense(11, activation='softmax')(x)\n",
    "    y2 = Dense(11, activation='softmax')(x)\n",
    "    y3 = Dense(11, activation='softmax')(x)\n",
    "    y4 = Dense(11, activation='softmax')(x)\n",
    "    y5 = Dense(11, activation='softmax')(x)\n",
    "    \n",
    "    model = Model(input=model_input, output=[y1, y2, y3, y4, y5])\n",
    "\n",
    "    model.compile(loss='categorical_crossentropy', optimizer='adam', metrics=['accuracy'])\n",
    "    return model"
   ]
  },
  {
   "cell_type": "code",
   "execution_count": 51,
   "metadata": {
    "collapsed": false
   },
   "outputs": [
    {
     "name": "stdout",
     "output_type": "stream",
     "text": [
      "Train on 52000 samples, validate on 12000 samples\n",
      "Epoch 1/75\n",
      "187s - loss: 4.8972 - dense_20_loss: 0.0347 - dense_21_loss: 0.2455 - dense_22_loss: 1.0762 - dense_23_loss: 1.7254 - dense_24_loss: 1.8154 - dense_20_acc: 0.9971 - dense_21_acc: 0.9409 - dense_22_acc: 0.6704 - dense_23_acc: 0.4126 - dense_24_acc: 0.3620 - val_loss: 2.3618 - val_dense_20_loss: 0.0022 - val_dense_21_loss: 0.0411 - val_dense_22_loss: 0.2829 - val_dense_23_loss: 0.9104 - val_dense_24_loss: 1.1252 - val_dense_20_acc: 0.9998 - val_dense_21_acc: 0.9922 - val_dense_22_acc: 0.9282 - val_dense_23_acc: 0.7348 - val_dense_24_acc: 0.6649\n",
      "Epoch 2/75\n",
      "173s - loss: 2.9777 - dense_20_loss: 0.0046 - dense_21_loss: 0.1511 - dense_22_loss: 0.6783 - dense_23_loss: 1.0244 - dense_24_loss: 1.1192 - dense_20_acc: 0.9996 - dense_21_acc: 0.9555 - dense_22_acc: 0.7872 - dense_23_acc: 0.6659 - dense_24_acc: 0.6319 - val_loss: 1.7719 - val_dense_20_loss: 0.0021 - val_dense_21_loss: 0.0302 - val_dense_22_loss: 0.2221 - val_dense_23_loss: 0.6784 - val_dense_24_loss: 0.8392 - val_dense_20_acc: 0.9998 - val_dense_21_acc: 0.9929 - val_dense_22_acc: 0.9376 - val_dense_23_acc: 0.8078 - val_dense_24_acc: 0.7554\n",
      "Epoch 3/75\n",
      "180s - loss: 2.5102 - dense_20_loss: 0.0046 - dense_21_loss: 0.1321 - dense_22_loss: 0.5943 - dense_23_loss: 0.8435 - dense_24_loss: 0.9357 - dense_20_acc: 0.9996 - dense_21_acc: 0.9613 - dense_22_acc: 0.8140 - dense_23_acc: 0.7308 - dense_24_acc: 0.6947 - val_loss: 1.5830 - val_dense_20_loss: 0.0022 - val_dense_21_loss: 0.0274 - val_dense_22_loss: 0.2074 - val_dense_23_loss: 0.5971 - val_dense_24_loss: 0.7489 - val_dense_20_acc: 0.9998 - val_dense_21_acc: 0.9943 - val_dense_22_acc: 0.9424 - val_dense_23_acc: 0.8277 - val_dense_24_acc: 0.7807\n",
      "Epoch 4/75\n",
      "180s - loss: 2.2581 - dense_20_loss: 0.0042 - dense_21_loss: 0.1172 - dense_22_loss: 0.5436 - dense_23_loss: 0.7455 - dense_24_loss: 0.8476 - dense_20_acc: 0.9996 - dense_21_acc: 0.9651 - dense_22_acc: 0.8309 - dense_23_acc: 0.7625 - dense_24_acc: 0.7250 - val_loss: 1.4417 - val_dense_20_loss: 0.0018 - val_dense_21_loss: 0.0293 - val_dense_22_loss: 0.2110 - val_dense_23_loss: 0.5269 - val_dense_24_loss: 0.6728 - val_dense_20_acc: 0.9998 - val_dense_21_acc: 0.9947 - val_dense_22_acc: 0.9427 - val_dense_23_acc: 0.8542 - val_dense_24_acc: 0.8028\n",
      "Epoch 5/75\n",
      "189s - loss: 2.0796 - dense_20_loss: 0.0038 - dense_21_loss: 0.1074 - dense_22_loss: 0.5039 - dense_23_loss: 0.6849 - dense_24_loss: 0.7795 - dense_20_acc: 0.9996 - dense_21_acc: 0.9678 - dense_22_acc: 0.8428 - dense_23_acc: 0.7818 - dense_24_acc: 0.7471 - val_loss: 1.3844 - val_dense_20_loss: 0.0020 - val_dense_21_loss: 0.0275 - val_dense_22_loss: 0.1944 - val_dense_23_loss: 0.5160 - val_dense_24_loss: 0.6446 - val_dense_20_acc: 0.9998 - val_dense_21_acc: 0.9953 - val_dense_22_acc: 0.9442 - val_dense_23_acc: 0.8560 - val_dense_24_acc: 0.8094\n",
      "Epoch 6/75\n",
      "166s - loss: 1.9607 - dense_20_loss: 0.0039 - dense_21_loss: 0.1046 - dense_22_loss: 0.4822 - dense_23_loss: 0.6395 - dense_24_loss: 0.7304 - dense_20_acc: 0.9996 - dense_21_acc: 0.9693 - dense_22_acc: 0.8483 - dense_23_acc: 0.7977 - dense_24_acc: 0.7642 - val_loss: 1.2705 - val_dense_20_loss: 0.0014 - val_dense_21_loss: 0.0216 - val_dense_22_loss: 0.1736 - val_dense_23_loss: 0.4791 - val_dense_24_loss: 0.5947 - val_dense_20_acc: 0.9998 - val_dense_21_acc: 0.9951 - val_dense_22_acc: 0.9500 - val_dense_23_acc: 0.8603 - val_dense_24_acc: 0.8248\n",
      "Epoch 7/75\n",
      "193s - loss: 1.8672 - dense_20_loss: 0.0038 - dense_21_loss: 0.0976 - dense_22_loss: 0.4583 - dense_23_loss: 0.6092 - dense_24_loss: 0.6982 - dense_20_acc: 0.9996 - dense_21_acc: 0.9714 - dense_22_acc: 0.8557 - dense_23_acc: 0.8096 - dense_24_acc: 0.7736 - val_loss: 1.2509 - val_dense_20_loss: 0.0019 - val_dense_21_loss: 0.0262 - val_dense_22_loss: 0.1799 - val_dense_23_loss: 0.4611 - val_dense_24_loss: 0.5818 - val_dense_20_acc: 0.9998 - val_dense_21_acc: 0.9947 - val_dense_22_acc: 0.9501 - val_dense_23_acc: 0.8683 - val_dense_24_acc: 0.8279\n",
      "Epoch 8/75\n",
      "226s - loss: 1.7828 - dense_20_loss: 0.0036 - dense_21_loss: 0.0938 - dense_22_loss: 0.4399 - dense_23_loss: 0.5806 - dense_24_loss: 0.6649 - dense_20_acc: 0.9996 - dense_21_acc: 0.9716 - dense_22_acc: 0.8629 - dense_23_acc: 0.8187 - dense_24_acc: 0.7847 - val_loss: 1.1984 - val_dense_20_loss: 0.0017 - val_dense_21_loss: 0.0238 - val_dense_22_loss: 0.1650 - val_dense_23_loss: 0.4426 - val_dense_24_loss: 0.5653 - val_dense_20_acc: 0.9998 - val_dense_21_acc: 0.9950 - val_dense_22_acc: 0.9534 - val_dense_23_acc: 0.8710 - val_dense_24_acc: 0.8316\n",
      "Epoch 9/75\n",
      "202s - loss: 1.7204 - dense_20_loss: 0.0033 - dense_21_loss: 0.0883 - dense_22_loss: 0.4226 - dense_23_loss: 0.5588 - dense_24_loss: 0.6473 - dense_20_acc: 0.9996 - dense_21_acc: 0.9745 - dense_22_acc: 0.8677 - dense_23_acc: 0.8249 - dense_24_acc: 0.7905 - val_loss: 1.1759 - val_dense_20_loss: 0.0015 - val_dense_21_loss: 0.0198 - val_dense_22_loss: 0.1635 - val_dense_23_loss: 0.4351 - val_dense_24_loss: 0.5561 - val_dense_20_acc: 0.9998 - val_dense_21_acc: 0.9950 - val_dense_22_acc: 0.9536 - val_dense_23_acc: 0.8742 - val_dense_24_acc: 0.8360\n",
      "Epoch 10/75\n",
      "199s - loss: 1.6597 - dense_20_loss: 0.0033 - dense_21_loss: 0.0871 - dense_22_loss: 0.4071 - dense_23_loss: 0.5376 - dense_24_loss: 0.6246 - dense_20_acc: 0.9996 - dense_21_acc: 0.9746 - dense_22_acc: 0.8722 - dense_23_acc: 0.8308 - dense_24_acc: 0.7953 - val_loss: 1.1223 - val_dense_20_loss: 0.0016 - val_dense_21_loss: 0.0198 - val_dense_22_loss: 0.1598 - val_dense_23_loss: 0.4056 - val_dense_24_loss: 0.5355 - val_dense_20_acc: 0.9998 - val_dense_21_acc: 0.9954 - val_dense_22_acc: 0.9544 - val_dense_23_acc: 0.8823 - val_dense_24_acc: 0.8386\n",
      "Epoch 11/75\n",
      "218s - loss: 1.6058 - dense_20_loss: 0.0027 - dense_21_loss: 0.0834 - dense_22_loss: 0.3960 - dense_23_loss: 0.5196 - dense_24_loss: 0.6042 - dense_20_acc: 0.9996 - dense_21_acc: 0.9755 - dense_22_acc: 0.8767 - dense_23_acc: 0.8366 - dense_24_acc: 0.8067 - val_loss: 1.0831 - val_dense_20_loss: 0.0013 - val_dense_21_loss: 0.0168 - val_dense_22_loss: 0.1492 - val_dense_23_loss: 0.3946 - val_dense_24_loss: 0.5212 - val_dense_20_acc: 0.9998 - val_dense_21_acc: 0.9952 - val_dense_22_acc: 0.9572 - val_dense_23_acc: 0.8861 - val_dense_24_acc: 0.8417\n",
      "Epoch 12/75\n",
      "203s - loss: 1.5563 - dense_20_loss: 0.0027 - dense_21_loss: 0.0813 - dense_22_loss: 0.3844 - dense_23_loss: 0.5023 - dense_24_loss: 0.5856 - dense_20_acc: 0.9996 - dense_21_acc: 0.9765 - dense_22_acc: 0.8787 - dense_23_acc: 0.8409 - dense_24_acc: 0.8111 - val_loss: 1.0702 - val_dense_20_loss: 0.0012 - val_dense_21_loss: 0.0164 - val_dense_22_loss: 0.1506 - val_dense_23_loss: 0.3985 - val_dense_24_loss: 0.5035 - val_dense_20_acc: 0.9998 - val_dense_21_acc: 0.9958 - val_dense_22_acc: 0.9564 - val_dense_23_acc: 0.8864 - val_dense_24_acc: 0.8461\n",
      "Epoch 13/75\n",
      "189s - loss: 1.5306 - dense_20_loss: 0.0024 - dense_21_loss: 0.0812 - dense_22_loss: 0.3756 - dense_23_loss: 0.4926 - dense_24_loss: 0.5788 - dense_20_acc: 0.9996 - dense_21_acc: 0.9764 - dense_22_acc: 0.8833 - dense_23_acc: 0.8460 - dense_24_acc: 0.8134 - val_loss: 1.0331 - val_dense_20_loss: 0.0012 - val_dense_21_loss: 0.0161 - val_dense_22_loss: 0.1440 - val_dense_23_loss: 0.3775 - val_dense_24_loss: 0.4943 - val_dense_20_acc: 0.9998 - val_dense_21_acc: 0.9958 - val_dense_22_acc: 0.9574 - val_dense_23_acc: 0.8912 - val_dense_24_acc: 0.8521\n",
      "Epoch 14/75\n",
      "200s - loss: 1.4782 - dense_20_loss: 0.0028 - dense_21_loss: 0.0766 - dense_22_loss: 0.3658 - dense_23_loss: 0.4745 - dense_24_loss: 0.5586 - dense_20_acc: 0.9996 - dense_21_acc: 0.9765 - dense_22_acc: 0.8847 - dense_23_acc: 0.8495 - dense_24_acc: 0.8199 - val_loss: 1.0211 - val_dense_20_loss: 0.0013 - val_dense_21_loss: 0.0153 - val_dense_22_loss: 0.1480 - val_dense_23_loss: 0.3743 - val_dense_24_loss: 0.4823 - val_dense_20_acc: 0.9998 - val_dense_21_acc: 0.9962 - val_dense_22_acc: 0.9572 - val_dense_23_acc: 0.8944 - val_dense_24_acc: 0.8531\n",
      "Epoch 15/75\n",
      "191s - loss: 1.4564 - dense_20_loss: 0.0025 - dense_21_loss: 0.0748 - dense_22_loss: 0.3575 - dense_23_loss: 0.4702 - dense_24_loss: 0.5514 - dense_20_acc: 0.9996 - dense_21_acc: 0.9771 - dense_22_acc: 0.8874 - dense_23_acc: 0.8530 - dense_24_acc: 0.8241 - val_loss: 1.0265 - val_dense_20_loss: 0.0013 - val_dense_21_loss: 0.0184 - val_dense_22_loss: 0.1458 - val_dense_23_loss: 0.3739 - val_dense_24_loss: 0.4870 - val_dense_20_acc: 0.9998 - val_dense_21_acc: 0.9961 - val_dense_22_acc: 0.9577 - val_dense_23_acc: 0.8924 - val_dense_24_acc: 0.8529\n",
      "Epoch 16/75\n",
      "164s - loss: 1.4161 - dense_20_loss: 0.0026 - dense_21_loss: 0.0725 - dense_22_loss: 0.3456 - dense_23_loss: 0.4563 - dense_24_loss: 0.5391 - dense_20_acc: 0.9996 - dense_21_acc: 0.9783 - dense_22_acc: 0.8913 - dense_23_acc: 0.8553 - dense_24_acc: 0.8270 - val_loss: 0.9948 - val_dense_20_loss: 0.0014 - val_dense_21_loss: 0.0153 - val_dense_22_loss: 0.1383 - val_dense_23_loss: 0.3677 - val_dense_24_loss: 0.4721 - val_dense_20_acc: 0.9998 - val_dense_21_acc: 0.9958 - val_dense_22_acc: 0.9593 - val_dense_23_acc: 0.8940 - val_dense_24_acc: 0.8527\n",
      "Epoch 17/75\n",
      "161s - loss: 1.4068 - dense_20_loss: 0.0021 - dense_21_loss: 0.0740 - dense_22_loss: 0.3459 - dense_23_loss: 0.4479 - dense_24_loss: 0.5369 - dense_20_acc: 0.9996 - dense_21_acc: 0.9779 - dense_22_acc: 0.8914 - dense_23_acc: 0.8592 - dense_24_acc: 0.8277 - val_loss: 1.0033 - val_dense_20_loss: 0.0014 - val_dense_21_loss: 0.0160 - val_dense_22_loss: 0.1421 - val_dense_23_loss: 0.3674 - val_dense_24_loss: 0.4764 - val_dense_20_acc: 0.9998 - val_dense_21_acc: 0.9956 - val_dense_22_acc: 0.9576 - val_dense_23_acc: 0.8981 - val_dense_24_acc: 0.8545\n",
      "Epoch 18/75\n",
      "161s - loss: 1.3755 - dense_20_loss: 0.0020 - dense_21_loss: 0.0725 - dense_22_loss: 0.3370 - dense_23_loss: 0.4421 - dense_24_loss: 0.5220 - dense_20_acc: 0.9996 - dense_21_acc: 0.9782 - dense_22_acc: 0.8932 - dense_23_acc: 0.8588 - dense_24_acc: 0.8315 - val_loss: 0.9860 - val_dense_20_loss: 0.0014 - val_dense_21_loss: 0.0157 - val_dense_22_loss: 0.1408 - val_dense_23_loss: 0.3615 - val_dense_24_loss: 0.4667 - val_dense_20_acc: 0.9998 - val_dense_21_acc: 0.9960 - val_dense_22_acc: 0.9588 - val_dense_23_acc: 0.8983 - val_dense_24_acc: 0.8601\n",
      "Epoch 19/75\n",
      "162s - loss: 1.3507 - dense_20_loss: 0.0022 - dense_21_loss: 0.0703 - dense_22_loss: 0.3346 - dense_23_loss: 0.4317 - dense_24_loss: 0.5119 - dense_20_acc: 0.9996 - dense_21_acc: 0.9784 - dense_22_acc: 0.8937 - dense_23_acc: 0.8650 - dense_24_acc: 0.8347 - val_loss: 0.9951 - val_dense_20_loss: 0.0017 - val_dense_21_loss: 0.0182 - val_dense_22_loss: 0.1476 - val_dense_23_loss: 0.3683 - val_dense_24_loss: 0.4592 - val_dense_20_acc: 0.9998 - val_dense_21_acc: 0.9952 - val_dense_22_acc: 0.9563 - val_dense_23_acc: 0.8938 - val_dense_24_acc: 0.8599\n",
      "Epoch 20/75\n",
      "825s - loss: 1.3268 - dense_20_loss: 0.0019 - dense_21_loss: 0.0707 - dense_22_loss: 0.3252 - dense_23_loss: 0.4254 - dense_24_loss: 0.5036 - dense_20_acc: 0.9996 - dense_21_acc: 0.9787 - dense_22_acc: 0.8982 - dense_23_acc: 0.8653 - dense_24_acc: 0.8371 - val_loss: 0.9533 - val_dense_20_loss: 0.0015 - val_dense_21_loss: 0.0149 - val_dense_22_loss: 0.1349 - val_dense_23_loss: 0.3471 - val_dense_24_loss: 0.4547 - val_dense_20_acc: 0.9998 - val_dense_21_acc: 0.9958 - val_dense_22_acc: 0.9599 - val_dense_23_acc: 0.8998 - val_dense_24_acc: 0.8627\n",
      "Epoch 21/75\n",
      "199s - loss: 1.3009 - dense_20_loss: 0.0018 - dense_21_loss: 0.0665 - dense_22_loss: 0.3210 - dense_23_loss: 0.4161 - dense_24_loss: 0.4955 - dense_20_acc: 0.9995 - dense_21_acc: 0.9800 - dense_22_acc: 0.8989 - dense_23_acc: 0.8680 - dense_24_acc: 0.8407 - val_loss: 0.9632 - val_dense_20_loss: 0.0013 - val_dense_21_loss: 0.0165 - val_dense_22_loss: 0.1368 - val_dense_23_loss: 0.3524 - val_dense_24_loss: 0.4562 - val_dense_20_acc: 0.9998 - val_dense_21_acc: 0.9960 - val_dense_22_acc: 0.9613 - val_dense_23_acc: 0.9017 - val_dense_24_acc: 0.8624\n",
      "Epoch 22/75\n",
      "184s - loss: 1.2916 - dense_20_loss: 0.0019 - dense_21_loss: 0.0684 - dense_22_loss: 0.3166 - dense_23_loss: 0.4167 - dense_24_loss: 0.4879 - dense_20_acc: 0.9996 - dense_21_acc: 0.9791 - dense_22_acc: 0.8986 - dense_23_acc: 0.8692 - dense_24_acc: 0.8434 - val_loss: 0.9631 - val_dense_20_loss: 0.0013 - val_dense_21_loss: 0.0149 - val_dense_22_loss: 0.1389 - val_dense_23_loss: 0.3577 - val_dense_24_loss: 0.4503 - val_dense_20_acc: 0.9998 - val_dense_21_acc: 0.9964 - val_dense_22_acc: 0.9610 - val_dense_23_acc: 0.8985 - val_dense_24_acc: 0.8633\n",
      "Epoch 23/75\n",
      "186s - loss: 1.2719 - dense_20_loss: 0.0017 - dense_21_loss: 0.0668 - dense_22_loss: 0.3102 - dense_23_loss: 0.4025 - dense_24_loss: 0.4907 - dense_20_acc: 0.9996 - dense_21_acc: 0.9796 - dense_22_acc: 0.9005 - dense_23_acc: 0.8712 - dense_24_acc: 0.8415 - val_loss: 0.9826 - val_dense_20_loss: 0.0017 - val_dense_21_loss: 0.0152 - val_dense_22_loss: 0.1455 - val_dense_23_loss: 0.3662 - val_dense_24_loss: 0.4539 - val_dense_20_acc: 0.9998 - val_dense_21_acc: 0.9959 - val_dense_22_acc: 0.9577 - val_dense_23_acc: 0.8964 - val_dense_24_acc: 0.8628\n",
      "Epoch 24/75\n",
      "191s - loss: 1.2604 - dense_20_loss: 0.0024 - dense_21_loss: 0.0668 - dense_22_loss: 0.3082 - dense_23_loss: 0.4024 - dense_24_loss: 0.4807 - dense_20_acc: 0.9995 - dense_21_acc: 0.9801 - dense_22_acc: 0.9021 - dense_23_acc: 0.8718 - dense_24_acc: 0.8440 - val_loss: 0.9618 - val_dense_20_loss: 0.0013 - val_dense_21_loss: 0.0155 - val_dense_22_loss: 0.1340 - val_dense_23_loss: 0.3618 - val_dense_24_loss: 0.4493 - val_dense_20_acc: 0.9998 - val_dense_21_acc: 0.9961 - val_dense_22_acc: 0.9618 - val_dense_23_acc: 0.8961 - val_dense_24_acc: 0.8629\n",
      "Epoch 25/75\n",
      "202s - loss: 1.2445 - dense_20_loss: 0.0013 - dense_21_loss: 0.0644 - dense_22_loss: 0.3068 - dense_23_loss: 0.4014 - dense_24_loss: 0.4705 - dense_20_acc: 0.9997 - dense_21_acc: 0.9808 - dense_22_acc: 0.9026 - dense_23_acc: 0.8749 - dense_24_acc: 0.8480 - val_loss: 0.9408 - val_dense_20_loss: 0.0012 - val_dense_21_loss: 0.0151 - val_dense_22_loss: 0.1317 - val_dense_23_loss: 0.3446 - val_dense_24_loss: 0.4481 - val_dense_20_acc: 0.9998 - val_dense_21_acc: 0.9962 - val_dense_22_acc: 0.9626 - val_dense_23_acc: 0.9036 - val_dense_24_acc: 0.8639\n",
      "Epoch 26/75\n",
      "188s - loss: 1.2282 - dense_20_loss: 0.0018 - dense_21_loss: 0.0642 - dense_22_loss: 0.3032 - dense_23_loss: 0.3894 - dense_24_loss: 0.4697 - dense_20_acc: 0.9995 - dense_21_acc: 0.9807 - dense_22_acc: 0.9037 - dense_23_acc: 0.8757 - dense_24_acc: 0.8469 - val_loss: 0.9302 - val_dense_20_loss: 0.0011 - val_dense_21_loss: 0.0163 - val_dense_22_loss: 0.1334 - val_dense_23_loss: 0.3435 - val_dense_24_loss: 0.4358 - val_dense_20_acc: 0.9998 - val_dense_21_acc: 0.9958 - val_dense_22_acc: 0.9612 - val_dense_23_acc: 0.9008 - val_dense_24_acc: 0.8672\n",
      "Epoch 27/75\n",
      "182s - loss: 1.2074 - dense_20_loss: 0.0020 - dense_21_loss: 0.0625 - dense_22_loss: 0.2977 - dense_23_loss: 0.3838 - dense_24_loss: 0.4615 - dense_20_acc: 0.9995 - dense_21_acc: 0.9808 - dense_22_acc: 0.9062 - dense_23_acc: 0.8790 - dense_24_acc: 0.8505 - val_loss: 0.9145 - val_dense_20_loss: 0.0016 - val_dense_21_loss: 0.0148 - val_dense_22_loss: 0.1314 - val_dense_23_loss: 0.3380 - val_dense_24_loss: 0.4288 - val_dense_20_acc: 0.9998 - val_dense_21_acc: 0.9964 - val_dense_22_acc: 0.9623 - val_dense_23_acc: 0.9037 - val_dense_24_acc: 0.8687\n",
      "Epoch 28/75\n",
      "194s - loss: 1.2007 - dense_20_loss: 0.0019 - dense_21_loss: 0.0620 - dense_22_loss: 0.2932 - dense_23_loss: 0.3832 - dense_24_loss: 0.4604 - dense_20_acc: 0.9996 - dense_21_acc: 0.9809 - dense_22_acc: 0.9069 - dense_23_acc: 0.8785 - dense_24_acc: 0.8510 - val_loss: 0.9054 - val_dense_20_loss: 0.0015 - val_dense_21_loss: 0.0141 - val_dense_22_loss: 0.1256 - val_dense_23_loss: 0.3356 - val_dense_24_loss: 0.4286 - val_dense_20_acc: 0.9998 - val_dense_21_acc: 0.9962 - val_dense_22_acc: 0.9640 - val_dense_23_acc: 0.9052 - val_dense_24_acc: 0.8685\n",
      "Epoch 29/75\n",
      "189s - loss: 1.1987 - dense_20_loss: 0.0020 - dense_21_loss: 0.0615 - dense_22_loss: 0.2921 - dense_23_loss: 0.3801 - dense_24_loss: 0.4629 - dense_20_acc: 0.9995 - dense_21_acc: 0.9803 - dense_22_acc: 0.9080 - dense_23_acc: 0.8802 - dense_24_acc: 0.8500 - val_loss: 0.9383 - val_dense_20_loss: 0.0012 - val_dense_21_loss: 0.0177 - val_dense_22_loss: 0.1393 - val_dense_23_loss: 0.3477 - val_dense_24_loss: 0.4325 - val_dense_20_acc: 0.9998 - val_dense_21_acc: 0.9960 - val_dense_22_acc: 0.9613 - val_dense_23_acc: 0.8998 - val_dense_24_acc: 0.8696\n",
      "Epoch 30/75\n",
      "192s - loss: 1.1814 - dense_20_loss: 0.0016 - dense_21_loss: 0.0626 - dense_22_loss: 0.2872 - dense_23_loss: 0.3782 - dense_24_loss: 0.4518 - dense_20_acc: 0.9996 - dense_21_acc: 0.9806 - dense_22_acc: 0.9087 - dense_23_acc: 0.8809 - dense_24_acc: 0.8533 - val_loss: 0.9124 - val_dense_20_loss: 0.0014 - val_dense_21_loss: 0.0155 - val_dense_22_loss: 0.1276 - val_dense_23_loss: 0.3378 - val_dense_24_loss: 0.4300 - val_dense_20_acc: 0.9998 - val_dense_21_acc: 0.9962 - val_dense_22_acc: 0.9637 - val_dense_23_acc: 0.9055 - val_dense_24_acc: 0.8688\n",
      "Epoch 31/75\n",
      "206s - loss: 1.1711 - dense_20_loss: 0.0015 - dense_21_loss: 0.0599 - dense_22_loss: 0.2860 - dense_23_loss: 0.3715 - dense_24_loss: 0.4522 - dense_20_acc: 0.9995 - dense_21_acc: 0.9812 - dense_22_acc: 0.9093 - dense_23_acc: 0.8818 - dense_24_acc: 0.8540 - val_loss: 0.9128 - val_dense_20_loss: 0.0012 - val_dense_21_loss: 0.0153 - val_dense_22_loss: 0.1329 - val_dense_23_loss: 0.3395 - val_dense_24_loss: 0.4239 - val_dense_20_acc: 0.9998 - val_dense_21_acc: 0.9961 - val_dense_22_acc: 0.9600 - val_dense_23_acc: 0.9034 - val_dense_24_acc: 0.8711\n",
      "Epoch 32/75\n",
      "212s - loss: 1.1619 - dense_20_loss: 0.0017 - dense_21_loss: 0.0620 - dense_22_loss: 0.2835 - dense_23_loss: 0.3694 - dense_24_loss: 0.4453 - dense_20_acc: 0.9996 - dense_21_acc: 0.9814 - dense_22_acc: 0.9097 - dense_23_acc: 0.8837 - dense_24_acc: 0.8557 - val_loss: 0.9081 - val_dense_20_loss: 0.0011 - val_dense_21_loss: 0.0154 - val_dense_22_loss: 0.1289 - val_dense_23_loss: 0.3354 - val_dense_24_loss: 0.4272 - val_dense_20_acc: 0.9998 - val_dense_21_acc: 0.9968 - val_dense_22_acc: 0.9617 - val_dense_23_acc: 0.9063 - val_dense_24_acc: 0.8689\n",
      "Epoch 33/75\n",
      "196s - loss: 1.1492 - dense_20_loss: 0.0016 - dense_21_loss: 0.0591 - dense_22_loss: 0.2811 - dense_23_loss: 0.3648 - dense_24_loss: 0.4426 - dense_20_acc: 0.9996 - dense_21_acc: 0.9819 - dense_22_acc: 0.9106 - dense_23_acc: 0.8839 - dense_24_acc: 0.8577 - val_loss: 0.9189 - val_dense_20_loss: 0.0014 - val_dense_21_loss: 0.0184 - val_dense_22_loss: 0.1341 - val_dense_23_loss: 0.3418 - val_dense_24_loss: 0.4233 - val_dense_20_acc: 0.9998 - val_dense_21_acc: 0.9953 - val_dense_22_acc: 0.9631 - val_dense_23_acc: 0.9057 - val_dense_24_acc: 0.8717\n",
      "Epoch 34/75\n",
      "197s - loss: 1.1415 - dense_20_loss: 0.0012 - dense_21_loss: 0.0603 - dense_22_loss: 0.2791 - dense_23_loss: 0.3591 - dense_24_loss: 0.4418 - dense_20_acc: 0.9996 - dense_21_acc: 0.9812 - dense_22_acc: 0.9108 - dense_23_acc: 0.8861 - dense_24_acc: 0.8570 - val_loss: 0.9026 - val_dense_20_loss: 0.0014 - val_dense_21_loss: 0.0143 - val_dense_22_loss: 0.1285 - val_dense_23_loss: 0.3363 - val_dense_24_loss: 0.4221 - val_dense_20_acc: 0.9998 - val_dense_21_acc: 0.9964 - val_dense_22_acc: 0.9630 - val_dense_23_acc: 0.9047 - val_dense_24_acc: 0.8728\n",
      "Epoch 35/75\n",
      "214s - loss: 1.1382 - dense_20_loss: 0.0015 - dense_21_loss: 0.0576 - dense_22_loss: 0.2740 - dense_23_loss: 0.3630 - dense_24_loss: 0.4420 - dense_20_acc: 0.9997 - dense_21_acc: 0.9824 - dense_22_acc: 0.9121 - dense_23_acc: 0.8840 - dense_24_acc: 0.8598 - val_loss: 0.8960 - val_dense_20_loss: 0.0012 - val_dense_21_loss: 0.0160 - val_dense_22_loss: 0.1285 - val_dense_23_loss: 0.3303 - val_dense_24_loss: 0.4199 - val_dense_20_acc: 0.9998 - val_dense_21_acc: 0.9960 - val_dense_22_acc: 0.9631 - val_dense_23_acc: 0.9084 - val_dense_24_acc: 0.8723\n",
      "Epoch 36/75\n",
      "193s - loss: 1.1235 - dense_20_loss: 0.0013 - dense_21_loss: 0.0582 - dense_22_loss: 0.2750 - dense_23_loss: 0.3543 - dense_24_loss: 0.4347 - dense_20_acc: 0.9996 - dense_21_acc: 0.9816 - dense_22_acc: 0.9123 - dense_23_acc: 0.8888 - dense_24_acc: 0.8588 - val_loss: 0.8850 - val_dense_20_loss: 0.0011 - val_dense_21_loss: 0.0143 - val_dense_22_loss: 0.1218 - val_dense_23_loss: 0.3308 - val_dense_24_loss: 0.4171 - val_dense_20_acc: 0.9998 - val_dense_21_acc: 0.9965 - val_dense_22_acc: 0.9657 - val_dense_23_acc: 0.9063 - val_dense_24_acc: 0.8763\n",
      "Epoch 37/75\n",
      "222s - loss: 1.1060 - dense_20_loss: 0.0014 - dense_21_loss: 0.0575 - dense_22_loss: 0.2705 - dense_23_loss: 0.3507 - dense_24_loss: 0.4259 - dense_20_acc: 0.9996 - dense_21_acc: 0.9825 - dense_22_acc: 0.9134 - dense_23_acc: 0.8871 - dense_24_acc: 0.8623 - val_loss: 0.8749 - val_dense_20_loss: 9.4803e-04 - val_dense_21_loss: 0.0150 - val_dense_22_loss: 0.1266 - val_dense_23_loss: 0.3209 - val_dense_24_loss: 0.4114 - val_dense_20_acc: 0.9998 - val_dense_21_acc: 0.9962 - val_dense_22_acc: 0.9638 - val_dense_23_acc: 0.9097 - val_dense_24_acc: 0.8756\n",
      "Epoch 38/75\n",
      "185s - loss: 1.1049 - dense_20_loss: 0.0019 - dense_21_loss: 0.0594 - dense_22_loss: 0.2698 - dense_23_loss: 0.3491 - dense_24_loss: 0.4247 - dense_20_acc: 0.9995 - dense_21_acc: 0.9821 - dense_22_acc: 0.9140 - dense_23_acc: 0.8883 - dense_24_acc: 0.8612 - val_loss: 0.8826 - val_dense_20_loss: 9.4302e-04 - val_dense_21_loss: 0.0141 - val_dense_22_loss: 0.1249 - val_dense_23_loss: 0.3305 - val_dense_24_loss: 0.4122 - val_dense_20_acc: 0.9998 - val_dense_21_acc: 0.9965 - val_dense_22_acc: 0.9647 - val_dense_23_acc: 0.9053 - val_dense_24_acc: 0.8750\n",
      "Epoch 39/75\n",
      "183s - loss: 1.0996 - dense_20_loss: 0.0012 - dense_21_loss: 0.0566 - dense_22_loss: 0.2668 - dense_23_loss: 0.3468 - dense_24_loss: 0.4281 - dense_20_acc: 0.9996 - dense_21_acc: 0.9827 - dense_22_acc: 0.9149 - dense_23_acc: 0.8886 - dense_24_acc: 0.8608 - val_loss: 0.8761 - val_dense_20_loss: 0.0011 - val_dense_21_loss: 0.0152 - val_dense_22_loss: 0.1283 - val_dense_23_loss: 0.3236 - val_dense_24_loss: 0.4079 - val_dense_20_acc: 0.9998 - val_dense_21_acc: 0.9965 - val_dense_22_acc: 0.9637 - val_dense_23_acc: 0.9096 - val_dense_24_acc: 0.8792\n",
      "Epoch 40/75\n",
      "202s - loss: 1.0962 - dense_20_loss: 0.0014 - dense_21_loss: 0.0576 - dense_22_loss: 0.2671 - dense_23_loss: 0.3454 - dense_24_loss: 0.4246 - dense_20_acc: 0.9996 - dense_21_acc: 0.9826 - dense_22_acc: 0.9145 - dense_23_acc: 0.8890 - dense_24_acc: 0.8622 - val_loss: 0.9011 - val_dense_20_loss: 0.0012 - val_dense_21_loss: 0.0155 - val_dense_22_loss: 0.1358 - val_dense_23_loss: 0.3397 - val_dense_24_loss: 0.4088 - val_dense_20_acc: 0.9998 - val_dense_21_acc: 0.9962 - val_dense_22_acc: 0.9627 - val_dense_23_acc: 0.9043 - val_dense_24_acc: 0.8773\n",
      "Epoch 41/75\n",
      "208s - loss: 1.0858 - dense_20_loss: 0.0015 - dense_21_loss: 0.0566 - dense_22_loss: 0.2622 - dense_23_loss: 0.3436 - dense_24_loss: 0.4219 - dense_20_acc: 0.9996 - dense_21_acc: 0.9829 - dense_22_acc: 0.9161 - dense_23_acc: 0.8902 - dense_24_acc: 0.8629 - val_loss: 0.8875 - val_dense_20_loss: 0.0012 - val_dense_21_loss: 0.0146 - val_dense_22_loss: 0.1264 - val_dense_23_loss: 0.3351 - val_dense_24_loss: 0.4102 - val_dense_20_acc: 0.9998 - val_dense_21_acc: 0.9963 - val_dense_22_acc: 0.9647 - val_dense_23_acc: 0.9052 - val_dense_24_acc: 0.8763\n",
      "Epoch 42/75\n",
      "209s - loss: 1.0863 - dense_20_loss: 0.0017 - dense_21_loss: 0.0573 - dense_22_loss: 0.2640 - dense_23_loss: 0.3442 - dense_24_loss: 0.4192 - dense_20_acc: 0.9996 - dense_21_acc: 0.9822 - dense_22_acc: 0.9148 - dense_23_acc: 0.8908 - dense_24_acc: 0.8657 - val_loss: 0.8781 - val_dense_20_loss: 0.0013 - val_dense_21_loss: 0.0146 - val_dense_22_loss: 0.1241 - val_dense_23_loss: 0.3305 - val_dense_24_loss: 0.4075 - val_dense_20_acc: 0.9998 - val_dense_21_acc: 0.9963 - val_dense_22_acc: 0.9659 - val_dense_23_acc: 0.9088 - val_dense_24_acc: 0.8778\n",
      "Epoch 43/75\n",
      "221s - loss: 1.0784 - dense_20_loss: 0.0015 - dense_21_loss: 0.0571 - dense_22_loss: 0.2594 - dense_23_loss: 0.3428 - dense_24_loss: 0.4176 - dense_20_acc: 0.9996 - dense_21_acc: 0.9825 - dense_22_acc: 0.9176 - dense_23_acc: 0.8903 - dense_24_acc: 0.8648 - val_loss: 0.8782 - val_dense_20_loss: 0.0012 - val_dense_21_loss: 0.0138 - val_dense_22_loss: 0.1241 - val_dense_23_loss: 0.3292 - val_dense_24_loss: 0.4099 - val_dense_20_acc: 0.9998 - val_dense_21_acc: 0.9964 - val_dense_22_acc: 0.9653 - val_dense_23_acc: 0.9091 - val_dense_24_acc: 0.8785\n",
      "Epoch 44/75\n",
      "223s - loss: 1.0673 - dense_20_loss: 0.0015 - dense_21_loss: 0.0563 - dense_22_loss: 0.2594 - dense_23_loss: 0.3379 - dense_24_loss: 0.4122 - dense_20_acc: 0.9996 - dense_21_acc: 0.9828 - dense_22_acc: 0.9163 - dense_23_acc: 0.8924 - dense_24_acc: 0.8674 - val_loss: 0.9227 - val_dense_20_loss: 0.0011 - val_dense_21_loss: 0.0163 - val_dense_22_loss: 0.1418 - val_dense_23_loss: 0.3461 - val_dense_24_loss: 0.4174 - val_dense_20_acc: 0.9998 - val_dense_21_acc: 0.9954 - val_dense_22_acc: 0.9582 - val_dense_23_acc: 0.9041 - val_dense_24_acc: 0.8746\n",
      "Epoch 45/75\n",
      "216s - loss: 1.0611 - dense_20_loss: 0.0011 - dense_21_loss: 0.0559 - dense_22_loss: 0.2563 - dense_23_loss: 0.3349 - dense_24_loss: 0.4129 - dense_20_acc: 0.9996 - dense_21_acc: 0.9828 - dense_22_acc: 0.9174 - dense_23_acc: 0.8918 - dense_24_acc: 0.8658 - val_loss: 0.8854 - val_dense_20_loss: 9.8727e-04 - val_dense_21_loss: 0.0152 - val_dense_22_loss: 0.1264 - val_dense_23_loss: 0.3344 - val_dense_24_loss: 0.4084 - val_dense_20_acc: 0.9998 - val_dense_21_acc: 0.9958 - val_dense_22_acc: 0.9637 - val_dense_23_acc: 0.9057 - val_dense_24_acc: 0.8790\n",
      "Epoch 46/75\n",
      "201s - loss: 1.0471 - dense_20_loss: 0.0013 - dense_21_loss: 0.0520 - dense_22_loss: 0.2522 - dense_23_loss: 0.3301 - dense_24_loss: 0.4114 - dense_20_acc: 0.9996 - dense_21_acc: 0.9836 - dense_22_acc: 0.9199 - dense_23_acc: 0.8942 - dense_24_acc: 0.8665 - val_loss: 0.8715 - val_dense_20_loss: 0.0012 - val_dense_21_loss: 0.0135 - val_dense_22_loss: 0.1240 - val_dense_23_loss: 0.3295 - val_dense_24_loss: 0.4034 - val_dense_20_acc: 0.9998 - val_dense_21_acc: 0.9961 - val_dense_22_acc: 0.9648 - val_dense_23_acc: 0.9088 - val_dense_24_acc: 0.8784\n",
      "Epoch 47/75\n",
      "199s - loss: 1.0459 - dense_20_loss: 0.0011 - dense_21_loss: 0.0556 - dense_22_loss: 0.2526 - dense_23_loss: 0.3336 - dense_24_loss: 0.4029 - dense_20_acc: 0.9997 - dense_21_acc: 0.9824 - dense_22_acc: 0.9194 - dense_23_acc: 0.8916 - dense_24_acc: 0.8694 - val_loss: 0.8638 - val_dense_20_loss: 0.0012 - val_dense_21_loss: 0.0138 - val_dense_22_loss: 0.1227 - val_dense_23_loss: 0.3258 - val_dense_24_loss: 0.4003 - val_dense_20_acc: 0.9998 - val_dense_21_acc: 0.9960 - val_dense_22_acc: 0.9656 - val_dense_23_acc: 0.9101 - val_dense_24_acc: 0.8793\n",
      "Epoch 48/75\n",
      "206s - loss: 1.0409 - dense_20_loss: 0.0012 - dense_21_loss: 0.0535 - dense_22_loss: 0.2521 - dense_23_loss: 0.3337 - dense_24_loss: 0.4004 - dense_20_acc: 0.9997 - dense_21_acc: 0.9832 - dense_22_acc: 0.9193 - dense_23_acc: 0.8923 - dense_24_acc: 0.8698 - val_loss: 0.8575 - val_dense_20_loss: 8.4729e-04 - val_dense_21_loss: 0.0146 - val_dense_22_loss: 0.1211 - val_dense_23_loss: 0.3217 - val_dense_24_loss: 0.3993 - val_dense_20_acc: 0.9998 - val_dense_21_acc: 0.9962 - val_dense_22_acc: 0.9653 - val_dense_23_acc: 0.9088 - val_dense_24_acc: 0.8819\n",
      "Epoch 49/75\n",
      "201s - loss: 1.0322 - dense_20_loss: 0.0015 - dense_21_loss: 0.0552 - dense_22_loss: 0.2498 - dense_23_loss: 0.3256 - dense_24_loss: 0.4001 - dense_20_acc: 0.9996 - dense_21_acc: 0.9830 - dense_22_acc: 0.9200 - dense_23_acc: 0.8966 - dense_24_acc: 0.8698 - val_loss: 0.8532 - val_dense_20_loss: 0.0012 - val_dense_21_loss: 0.0132 - val_dense_22_loss: 0.1214 - val_dense_23_loss: 0.3221 - val_dense_24_loss: 0.3954 - val_dense_20_acc: 0.9998 - val_dense_21_acc: 0.9963 - val_dense_22_acc: 0.9664 - val_dense_23_acc: 0.9112 - val_dense_24_acc: 0.8798\n",
      "Epoch 50/75\n",
      "204s - loss: 1.0337 - dense_20_loss: 0.0011 - dense_21_loss: 0.0523 - dense_22_loss: 0.2493 - dense_23_loss: 0.3275 - dense_24_loss: 0.4035 - dense_20_acc: 0.9996 - dense_21_acc: 0.9838 - dense_22_acc: 0.9197 - dense_23_acc: 0.8952 - dense_24_acc: 0.8692 - val_loss: 0.8615 - val_dense_20_loss: 8.5352e-04 - val_dense_21_loss: 0.0139 - val_dense_22_loss: 0.1227 - val_dense_23_loss: 0.3211 - val_dense_24_loss: 0.4029 - val_dense_20_acc: 0.9998 - val_dense_21_acc: 0.9961 - val_dense_22_acc: 0.9647 - val_dense_23_acc: 0.9089 - val_dense_24_acc: 0.8789\n",
      "Epoch 51/75\n",
      "203s - loss: 1.0275 - dense_20_loss: 0.0015 - dense_21_loss: 0.0544 - dense_22_loss: 0.2484 - dense_23_loss: 0.3233 - dense_24_loss: 0.3999 - dense_20_acc: 0.9995 - dense_21_acc: 0.9831 - dense_22_acc: 0.9204 - dense_23_acc: 0.8968 - dense_24_acc: 0.8695 - val_loss: 0.8448 - val_dense_20_loss: 8.2599e-04 - val_dense_21_loss: 0.0138 - val_dense_22_loss: 0.1204 - val_dense_23_loss: 0.3188 - val_dense_24_loss: 0.3910 - val_dense_20_acc: 0.9998 - val_dense_21_acc: 0.9963 - val_dense_22_acc: 0.9635 - val_dense_23_acc: 0.9108 - val_dense_24_acc: 0.8818\n",
      "Epoch 52/75\n",
      "200s - loss: 1.0247 - dense_20_loss: 0.0013 - dense_21_loss: 0.0521 - dense_22_loss: 0.2471 - dense_23_loss: 0.3254 - dense_24_loss: 0.3988 - dense_20_acc: 0.9996 - dense_21_acc: 0.9835 - dense_22_acc: 0.9208 - dense_23_acc: 0.8949 - dense_24_acc: 0.8708 - val_loss: 0.8616 - val_dense_20_loss: 0.0011 - val_dense_21_loss: 0.0140 - val_dense_22_loss: 0.1200 - val_dense_23_loss: 0.3262 - val_dense_24_loss: 0.4003 - val_dense_20_acc: 0.9998 - val_dense_21_acc: 0.9962 - val_dense_22_acc: 0.9663 - val_dense_23_acc: 0.9113 - val_dense_24_acc: 0.8793\n",
      "Epoch 53/75\n",
      "202s - loss: 1.0196 - dense_20_loss: 0.0015 - dense_21_loss: 0.0531 - dense_22_loss: 0.2453 - dense_23_loss: 0.3218 - dense_24_loss: 0.3978 - dense_20_acc: 0.9996 - dense_21_acc: 0.9836 - dense_22_acc: 0.9209 - dense_23_acc: 0.8972 - dense_24_acc: 0.8706 - val_loss: 0.8584 - val_dense_20_loss: 0.0012 - val_dense_21_loss: 0.0154 - val_dense_22_loss: 0.1198 - val_dense_23_loss: 0.3224 - val_dense_24_loss: 0.3996 - val_dense_20_acc: 0.9998 - val_dense_21_acc: 0.9961 - val_dense_22_acc: 0.9648 - val_dense_23_acc: 0.9097 - val_dense_24_acc: 0.8801\n",
      "Epoch 54/75\n",
      "196s - loss: 1.0130 - dense_20_loss: 0.0012 - dense_21_loss: 0.0512 - dense_22_loss: 0.2414 - dense_23_loss: 0.3214 - dense_24_loss: 0.3978 - dense_20_acc: 0.9996 - dense_21_acc: 0.9840 - dense_22_acc: 0.9207 - dense_23_acc: 0.8975 - dense_24_acc: 0.8707 - val_loss: 0.8662 - val_dense_20_loss: 0.0010 - val_dense_21_loss: 0.0155 - val_dense_22_loss: 0.1245 - val_dense_23_loss: 0.3287 - val_dense_24_loss: 0.3965 - val_dense_20_acc: 0.9998 - val_dense_21_acc: 0.9961 - val_dense_22_acc: 0.9647 - val_dense_23_acc: 0.9081 - val_dense_24_acc: 0.8825\n",
      "Epoch 55/75\n",
      "202s - loss: 1.0116 - dense_20_loss: 8.5096e-04 - dense_21_loss: 0.0534 - dense_22_loss: 0.2422 - dense_23_loss: 0.3181 - dense_24_loss: 0.3970 - dense_20_acc: 0.9996 - dense_21_acc: 0.9827 - dense_22_acc: 0.9219 - dense_23_acc: 0.8975 - dense_24_acc: 0.8722 - val_loss: 0.8565 - val_dense_20_loss: 0.0011 - val_dense_21_loss: 0.0140 - val_dense_22_loss: 0.1190 - val_dense_23_loss: 0.3258 - val_dense_24_loss: 0.3966 - val_dense_20_acc: 0.9998 - val_dense_21_acc: 0.9965 - val_dense_22_acc: 0.9671 - val_dense_23_acc: 0.9103 - val_dense_24_acc: 0.8813\n",
      "Epoch 56/75\n",
      "202s - loss: 1.0006 - dense_20_loss: 0.0011 - dense_21_loss: 0.0525 - dense_22_loss: 0.2386 - dense_23_loss: 0.3180 - dense_24_loss: 0.3903 - dense_20_acc: 0.9997 - dense_21_acc: 0.9836 - dense_22_acc: 0.9232 - dense_23_acc: 0.8973 - dense_24_acc: 0.8721 - val_loss: 0.8572 - val_dense_20_loss: 0.0013 - val_dense_21_loss: 0.0136 - val_dense_22_loss: 0.1186 - val_dense_23_loss: 0.3241 - val_dense_24_loss: 0.3996 - val_dense_20_acc: 0.9998 - val_dense_21_acc: 0.9963 - val_dense_22_acc: 0.9675 - val_dense_23_acc: 0.9109 - val_dense_24_acc: 0.8830\n",
      "Epoch 57/75\n",
      "213s - loss: 0.9994 - dense_20_loss: 0.0011 - dense_21_loss: 0.0538 - dense_22_loss: 0.2409 - dense_23_loss: 0.3152 - dense_24_loss: 0.3883 - dense_20_acc: 0.9996 - dense_21_acc: 0.9833 - dense_22_acc: 0.9228 - dense_23_acc: 0.8988 - dense_24_acc: 0.8741 - val_loss: 0.8534 - val_dense_20_loss: 0.0010 - val_dense_21_loss: 0.0142 - val_dense_22_loss: 0.1220 - val_dense_23_loss: 0.3211 - val_dense_24_loss: 0.3950 - val_dense_20_acc: 0.9998 - val_dense_21_acc: 0.9962 - val_dense_22_acc: 0.9657 - val_dense_23_acc: 0.9099 - val_dense_24_acc: 0.8837\n",
      "Epoch 58/75\n",
      "192s - loss: 0.9979 - dense_20_loss: 0.0013 - dense_21_loss: 0.0518 - dense_22_loss: 0.2390 - dense_23_loss: 0.3179 - dense_24_loss: 0.3880 - dense_20_acc: 0.9996 - dense_21_acc: 0.9840 - dense_22_acc: 0.9232 - dense_23_acc: 0.8976 - dense_24_acc: 0.8735 - val_loss: 0.8740 - val_dense_20_loss: 0.0011 - val_dense_21_loss: 0.0156 - val_dense_22_loss: 0.1301 - val_dense_23_loss: 0.3289 - val_dense_24_loss: 0.3984 - val_dense_20_acc: 0.9998 - val_dense_21_acc: 0.9962 - val_dense_22_acc: 0.9627 - val_dense_23_acc: 0.9093 - val_dense_24_acc: 0.8805\n",
      "Epoch 59/75\n",
      "190s - loss: 0.9957 - dense_20_loss: 0.0016 - dense_21_loss: 0.0511 - dense_22_loss: 0.2383 - dense_23_loss: 0.3153 - dense_24_loss: 0.3894 - dense_20_acc: 0.9996 - dense_21_acc: 0.9840 - dense_22_acc: 0.9221 - dense_23_acc: 0.8983 - dense_24_acc: 0.8728 - val_loss: 0.8756 - val_dense_20_loss: 9.1245e-04 - val_dense_21_loss: 0.0157 - val_dense_22_loss: 0.1301 - val_dense_23_loss: 0.3322 - val_dense_24_loss: 0.3968 - val_dense_20_acc: 0.9998 - val_dense_21_acc: 0.9960 - val_dense_22_acc: 0.9639 - val_dense_23_acc: 0.9100 - val_dense_24_acc: 0.8821\n",
      "Epoch 60/75\n",
      "196s - loss: 0.9907 - dense_20_loss: 9.5431e-04 - dense_21_loss: 0.0494 - dense_22_loss: 0.2377 - dense_23_loss: 0.3094 - dense_24_loss: 0.3933 - dense_20_acc: 0.9997 - dense_21_acc: 0.9851 - dense_22_acc: 0.9235 - dense_23_acc: 0.9002 - dense_24_acc: 0.8715 - val_loss: 0.8630 - val_dense_20_loss: 6.5180e-04 - val_dense_21_loss: 0.0142 - val_dense_22_loss: 0.1183 - val_dense_23_loss: 0.3259 - val_dense_24_loss: 0.4040 - val_dense_20_acc: 0.9998 - val_dense_21_acc: 0.9961 - val_dense_22_acc: 0.9673 - val_dense_23_acc: 0.9091 - val_dense_24_acc: 0.8797\n",
      "Epoch 61/75\n",
      "219s - loss: 0.9877 - dense_20_loss: 8.3136e-04 - dense_21_loss: 0.0525 - dense_22_loss: 0.2404 - dense_23_loss: 0.3113 - dense_24_loss: 0.3827 - dense_20_acc: 0.9997 - dense_21_acc: 0.9832 - dense_22_acc: 0.9235 - dense_23_acc: 0.9007 - dense_24_acc: 0.8754 - val_loss: 0.8518 - val_dense_20_loss: 0.0011 - val_dense_21_loss: 0.0143 - val_dense_22_loss: 0.1187 - val_dense_23_loss: 0.3250 - val_dense_24_loss: 0.3927 - val_dense_20_acc: 0.9998 - val_dense_21_acc: 0.9962 - val_dense_22_acc: 0.9665 - val_dense_23_acc: 0.9107 - val_dense_24_acc: 0.8840\n",
      "Epoch 62/75\n",
      "210s - loss: 0.9824 - dense_20_loss: 0.0013 - dense_21_loss: 0.0495 - dense_22_loss: 0.2357 - dense_23_loss: 0.3100 - dense_24_loss: 0.3860 - dense_20_acc: 0.9996 - dense_21_acc: 0.9849 - dense_22_acc: 0.9239 - dense_23_acc: 0.9010 - dense_24_acc: 0.8738 - val_loss: 0.8551 - val_dense_20_loss: 0.0011 - val_dense_21_loss: 0.0144 - val_dense_22_loss: 0.1219 - val_dense_23_loss: 0.3211 - val_dense_24_loss: 0.3967 - val_dense_20_acc: 0.9998 - val_dense_21_acc: 0.9962 - val_dense_22_acc: 0.9656 - val_dense_23_acc: 0.9096 - val_dense_24_acc: 0.8841\n",
      "Epoch 63/75\n",
      "187s - loss: 0.9809 - dense_20_loss: 0.0016 - dense_21_loss: 0.0494 - dense_22_loss: 0.2346 - dense_23_loss: 0.3077 - dense_24_loss: 0.3877 - dense_20_acc: 0.9996 - dense_21_acc: 0.9841 - dense_22_acc: 0.9249 - dense_23_acc: 0.9014 - dense_24_acc: 0.8733 - val_loss: 0.8371 - val_dense_20_loss: 0.0010 - val_dense_21_loss: 0.0131 - val_dense_22_loss: 0.1164 - val_dense_23_loss: 0.3158 - val_dense_24_loss: 0.3907 - val_dense_20_acc: 0.9998 - val_dense_21_acc: 0.9962 - val_dense_22_acc: 0.9674 - val_dense_23_acc: 0.9121 - val_dense_24_acc: 0.8828\n",
      "Epoch 64/75\n",
      "162s - loss: 0.9674 - dense_20_loss: 8.9601e-04 - dense_21_loss: 0.0517 - dense_22_loss: 0.2305 - dense_23_loss: 0.3043 - dense_24_loss: 0.3799 - dense_20_acc: 0.9997 - dense_21_acc: 0.9840 - dense_22_acc: 0.9252 - dense_23_acc: 0.9033 - dense_24_acc: 0.8770 - val_loss: 0.8401 - val_dense_20_loss: 9.1453e-04 - val_dense_21_loss: 0.0145 - val_dense_22_loss: 0.1197 - val_dense_23_loss: 0.3165 - val_dense_24_loss: 0.3884 - val_dense_20_acc: 0.9998 - val_dense_21_acc: 0.9962 - val_dense_22_acc: 0.9659 - val_dense_23_acc: 0.9109 - val_dense_24_acc: 0.8835\n",
      "Epoch 65/75\n",
      "162s - loss: 0.9681 - dense_20_loss: 0.0013 - dense_21_loss: 0.0512 - dense_22_loss: 0.2325 - dense_23_loss: 0.3022 - dense_24_loss: 0.3809 - dense_20_acc: 0.9997 - dense_21_acc: 0.9842 - dense_22_acc: 0.9251 - dense_23_acc: 0.9016 - dense_24_acc: 0.8743 - val_loss: 0.8519 - val_dense_20_loss: 0.0016 - val_dense_21_loss: 0.0132 - val_dense_22_loss: 0.1205 - val_dense_23_loss: 0.3242 - val_dense_24_loss: 0.3924 - val_dense_20_acc: 0.9998 - val_dense_21_acc: 0.9962 - val_dense_22_acc: 0.9644 - val_dense_23_acc: 0.9101 - val_dense_24_acc: 0.8848\n",
      "Epoch 66/75\n",
      "169s - loss: 0.9752 - dense_20_loss: 0.0016 - dense_21_loss: 0.0515 - dense_22_loss: 0.2329 - dense_23_loss: 0.3085 - dense_24_loss: 0.3807 - dense_20_acc: 0.9996 - dense_21_acc: 0.9835 - dense_22_acc: 0.9252 - dense_23_acc: 0.8996 - dense_24_acc: 0.8764 - val_loss: 0.8419 - val_dense_20_loss: 0.0012 - val_dense_21_loss: 0.0129 - val_dense_22_loss: 0.1164 - val_dense_23_loss: 0.3163 - val_dense_24_loss: 0.3952 - val_dense_20_acc: 0.9998 - val_dense_21_acc: 0.9966 - val_dense_22_acc: 0.9655 - val_dense_23_acc: 0.9113 - val_dense_24_acc: 0.8836\n",
      "Epoch 67/75\n",
      "178s - loss: 0.9659 - dense_20_loss: 0.0010 - dense_21_loss: 0.0496 - dense_22_loss: 0.2291 - dense_23_loss: 0.3045 - dense_24_loss: 0.3816 - dense_20_acc: 0.9997 - dense_21_acc: 0.9839 - dense_22_acc: 0.9265 - dense_23_acc: 0.9019 - dense_24_acc: 0.8772 - val_loss: 0.8639 - val_dense_20_loss: 0.0013 - val_dense_21_loss: 0.0145 - val_dense_22_loss: 0.1213 - val_dense_23_loss: 0.3293 - val_dense_24_loss: 0.3975 - val_dense_20_acc: 0.9998 - val_dense_21_acc: 0.9962 - val_dense_22_acc: 0.9653 - val_dense_23_acc: 0.9080 - val_dense_24_acc: 0.8826\n",
      "Epoch 68/75\n",
      "196s - loss: 0.9638 - dense_20_loss: 0.0010 - dense_21_loss: 0.0488 - dense_22_loss: 0.2283 - dense_23_loss: 0.3062 - dense_24_loss: 0.3795 - dense_20_acc: 0.9997 - dense_21_acc: 0.9850 - dense_22_acc: 0.9275 - dense_23_acc: 0.9012 - dense_24_acc: 0.8758 - val_loss: 0.8387 - val_dense_20_loss: 0.0012 - val_dense_21_loss: 0.0134 - val_dense_22_loss: 0.1211 - val_dense_23_loss: 0.3145 - val_dense_24_loss: 0.3886 - val_dense_20_acc: 0.9998 - val_dense_21_acc: 0.9964 - val_dense_22_acc: 0.9646 - val_dense_23_acc: 0.9131 - val_dense_24_acc: 0.8861\n",
      "Epoch 69/75\n",
      "188s - loss: 0.9659 - dense_20_loss: 0.0011 - dense_21_loss: 0.0521 - dense_22_loss: 0.2292 - dense_23_loss: 0.3086 - dense_24_loss: 0.3749 - dense_20_acc: 0.9997 - dense_21_acc: 0.9844 - dense_22_acc: 0.9261 - dense_23_acc: 0.9012 - dense_24_acc: 0.8769 - val_loss: 0.8637 - val_dense_20_loss: 0.0012 - val_dense_21_loss: 0.0152 - val_dense_22_loss: 0.1288 - val_dense_23_loss: 0.3277 - val_dense_24_loss: 0.3909 - val_dense_20_acc: 0.9998 - val_dense_21_acc: 0.9960 - val_dense_22_acc: 0.9633 - val_dense_23_acc: 0.9089 - val_dense_24_acc: 0.8852\n",
      "Epoch 70/75\n",
      "180s - loss: 0.9523 - dense_20_loss: 0.0011 - dense_21_loss: 0.0512 - dense_22_loss: 0.2253 - dense_23_loss: 0.3053 - dense_24_loss: 0.3693 - dense_20_acc: 0.9996 - dense_21_acc: 0.9840 - dense_22_acc: 0.9253 - dense_23_acc: 0.9025 - dense_24_acc: 0.8794 - val_loss: 0.8381 - val_dense_20_loss: 0.0011 - val_dense_21_loss: 0.0145 - val_dense_22_loss: 0.1211 - val_dense_23_loss: 0.3205 - val_dense_24_loss: 0.3808 - val_dense_20_acc: 0.9998 - val_dense_21_acc: 0.9962 - val_dense_22_acc: 0.9654 - val_dense_23_acc: 0.9126 - val_dense_24_acc: 0.8877\n",
      "Epoch 71/75\n",
      "184s - loss: 0.9625 - dense_20_loss: 0.0012 - dense_21_loss: 0.0491 - dense_22_loss: 0.2271 - dense_23_loss: 0.3051 - dense_24_loss: 0.3800 - dense_20_acc: 0.9996 - dense_21_acc: 0.9848 - dense_22_acc: 0.9263 - dense_23_acc: 0.9031 - dense_24_acc: 0.8777 - val_loss: 0.8413 - val_dense_20_loss: 0.0012 - val_dense_21_loss: 0.0136 - val_dense_22_loss: 0.1178 - val_dense_23_loss: 0.3221 - val_dense_24_loss: 0.3867 - val_dense_20_acc: 0.9998 - val_dense_21_acc: 0.9965 - val_dense_22_acc: 0.9662 - val_dense_23_acc: 0.9117 - val_dense_24_acc: 0.8860\n",
      "Epoch 72/75\n",
      "182s - loss: 0.9556 - dense_20_loss: 0.0014 - dense_21_loss: 0.0491 - dense_22_loss: 0.2301 - dense_23_loss: 0.2992 - dense_24_loss: 0.3759 - dense_20_acc: 0.9997 - dense_21_acc: 0.9847 - dense_22_acc: 0.9262 - dense_23_acc: 0.9024 - dense_24_acc: 0.8768 - val_loss: 0.8452 - val_dense_20_loss: 0.0013 - val_dense_21_loss: 0.0129 - val_dense_22_loss: 0.1176 - val_dense_23_loss: 0.3226 - val_dense_24_loss: 0.3908 - val_dense_20_acc: 0.9998 - val_dense_21_acc: 0.9966 - val_dense_22_acc: 0.9670 - val_dense_23_acc: 0.9097 - val_dense_24_acc: 0.8855\n",
      "Epoch 73/75\n",
      "195s - loss: 0.9523 - dense_20_loss: 0.0011 - dense_21_loss: 0.0475 - dense_22_loss: 0.2270 - dense_23_loss: 0.3009 - dense_24_loss: 0.3758 - dense_20_acc: 0.9996 - dense_21_acc: 0.9848 - dense_22_acc: 0.9275 - dense_23_acc: 0.9032 - dense_24_acc: 0.8778 - val_loss: 0.8466 - val_dense_20_loss: 0.0012 - val_dense_21_loss: 0.0144 - val_dense_22_loss: 0.1182 - val_dense_23_loss: 0.3205 - val_dense_24_loss: 0.3923 - val_dense_20_acc: 0.9998 - val_dense_21_acc: 0.9961 - val_dense_22_acc: 0.9670 - val_dense_23_acc: 0.9137 - val_dense_24_acc: 0.8834\n",
      "Epoch 74/75\n",
      "196s - loss: 0.9392 - dense_20_loss: 9.7495e-04 - dense_21_loss: 0.0467 - dense_22_loss: 0.2256 - dense_23_loss: 0.2959 - dense_24_loss: 0.3700 - dense_20_acc: 0.9997 - dense_21_acc: 0.9852 - dense_22_acc: 0.9277 - dense_23_acc: 0.9043 - dense_24_acc: 0.8787 - val_loss: 0.8466 - val_dense_20_loss: 0.0014 - val_dense_21_loss: 0.0135 - val_dense_22_loss: 0.1214 - val_dense_23_loss: 0.3216 - val_dense_24_loss: 0.3888 - val_dense_20_acc: 0.9998 - val_dense_21_acc: 0.9962 - val_dense_22_acc: 0.9657 - val_dense_23_acc: 0.9107 - val_dense_24_acc: 0.8866\n",
      "Epoch 75/75\n",
      "189s - loss: 0.9449 - dense_20_loss: 0.0011 - dense_21_loss: 0.0506 - dense_22_loss: 0.2235 - dense_23_loss: 0.3016 - dense_24_loss: 0.3681 - dense_20_acc: 0.9997 - dense_21_acc: 0.9844 - dense_22_acc: 0.9273 - dense_23_acc: 0.9031 - dense_24_acc: 0.8789 - val_loss: 0.8452 - val_dense_20_loss: 0.0015 - val_dense_21_loss: 0.0134 - val_dense_22_loss: 0.1224 - val_dense_23_loss: 0.3164 - val_dense_24_loss: 0.3914 - val_dense_20_acc: 0.9998 - val_dense_21_acc: 0.9968 - val_dense_22_acc: 0.9640 - val_dense_23_acc: 0.9147 - val_dense_24_acc: 0.8841\n"
     ]
    }
   ],
   "source": [
    "hide_code\n",
    "\n",
    "cnn_model2 = cnn_model2()\n",
    "\n",
    "history2 = cnn_model2.fit(X_train, y_train_cat_list, validation_data=(X_test, y_test_cat_list), \n",
    "                          epochs=75, batch_size=128, verbose=2)"
   ]
  },
  {
   "cell_type": "code",
   "execution_count": 52,
   "metadata": {
    "collapsed": false
   },
   "outputs": [
    {
     "name": "stdout",
     "output_type": "stream",
     "text": [
      "Model 2. CNN Scores: \n",
      " [0.84515457733472188, 0.0014505701361488264, 0.013428595125842548, 0.12243208657857031, 0.31640018805861475, 0.39144313828150429, 0.99983333333333335, 0.99675000000000002, 0.96399999999999997, 0.91466666666666663, 0.88408333333333333]\n",
      "Model 2. First digit. CNN Accuracy: 99.98%\n",
      "Model 2. Second digit. CNN Accuracy: 99.67%\n",
      "Model 2. Third digit. CNN Accuracy: 96.40%\n",
      "Model 2. Fourth digit. CNN Accuracy: 91.47%\n",
      "Model 2. Fifth digit. CNN Accuracy: 88.41%\n",
      "____________________________________________________________________________________________________\n",
      "Layer (type)                     Output Shape          Param #     Connected to                     \n",
      "====================================================================================================\n",
      "input_4 (InputLayer)             (None, 32, 32, 1)     0                                            \n",
      "____________________________________________________________________________________________________\n",
      "batch_normalization_3 (BatchNorm (None, 32, 32, 1)     4           input_4[0][0]                    \n",
      "____________________________________________________________________________________________________\n",
      "conv2d_10 (Conv2D)               (None, 28, 28, 32)    832         batch_normalization_3[0][0]      \n",
      "____________________________________________________________________________________________________\n",
      "max_pooling2d_7 (MaxPooling2D)   (None, 14, 14, 32)    0           conv2d_10[0][0]                  \n",
      "____________________________________________________________________________________________________\n",
      "dropout_11 (Dropout)             (None, 14, 14, 32)    0           max_pooling2d_7[0][0]            \n",
      "____________________________________________________________________________________________________\n",
      "conv2d_11 (Conv2D)               (None, 10, 10, 64)    51264       dropout_11[0][0]                 \n",
      "____________________________________________________________________________________________________\n",
      "max_pooling2d_8 (MaxPooling2D)   (None, 5, 5, 64)      0           conv2d_11[0][0]                  \n",
      "____________________________________________________________________________________________________\n",
      "dropout_12 (Dropout)             (None, 5, 5, 64)      0           max_pooling2d_8[0][0]            \n",
      "____________________________________________________________________________________________________\n",
      "flatten_4 (Flatten)              (None, 1600)          0           dropout_12[0][0]                 \n",
      "____________________________________________________________________________________________________\n",
      "dense_19 (Dense)                 (None, 256)           409856      flatten_4[0][0]                  \n",
      "____________________________________________________________________________________________________\n",
      "dropout_13 (Dropout)             (None, 256)           0           dense_19[0][0]                   \n",
      "____________________________________________________________________________________________________\n",
      "dense_20 (Dense)                 (None, 11)            2827        dropout_13[0][0]                 \n",
      "____________________________________________________________________________________________________\n",
      "dense_21 (Dense)                 (None, 11)            2827        dropout_13[0][0]                 \n",
      "____________________________________________________________________________________________________\n",
      "dense_22 (Dense)                 (None, 11)            2827        dropout_13[0][0]                 \n",
      "____________________________________________________________________________________________________\n",
      "dense_23 (Dense)                 (None, 11)            2827        dropout_13[0][0]                 \n",
      "____________________________________________________________________________________________________\n",
      "dense_24 (Dense)                 (None, 11)            2827        dropout_13[0][0]                 \n",
      "====================================================================================================\n",
      "Total params: 476,091\n",
      "Trainable params: 476,089\n",
      "Non-trainable params: 2\n",
      "____________________________________________________________________________________________________\n",
      "None\n"
     ]
    }
   ],
   "source": [
    "hide_code\n",
    "\n",
    "cnn_scores2 = cnn_model2.evaluate(X_test, y_test_cat_list, verbose=0)\n",
    "\n",
    "print(\"Model 2. CNN Scores: \\n\" , (cnn_scores2))\n",
    "print(\"Model 2. First digit. CNN Accuracy: %.2f%%\" % (cnn_scores2[6]*100))\n",
    "print(\"Model 2. Second digit. CNN Accuracy: %.2f%%\" % (cnn_scores2[7]*100))\n",
    "print(\"Model 2. Third digit. CNN Accuracy: %.2f%%\" % (cnn_scores2[8]*100))\n",
    "print(\"Model 2. Fourth digit. CNN Accuracy: %.2f%%\" % (cnn_scores2[9]*100))\n",
    "print(\"Model 2. Fifth digit. CNN Accuracy: %.2f%%\" % (cnn_scores2[10]*100))\n",
    "\n",
    "print(cnn_model2.summary())"
   ]
  },
  {
   "cell_type": "code",
   "execution_count": 53,
   "metadata": {
    "collapsed": false
   },
   "outputs": [
    {
     "data": {
      "image/png": "[encoded data removed]",
      "text/plain": [
       "<matplotlib.figure.Figure at 0x1472e29e8>"
      ]
     },
     "metadata": {},
     "output_type": "display_data"
    }
   ],
   "source": [
    "hide_code\n",
    "\n",
    "plt.figure(figsize=(12,6))\n",
    "\n",
    "plt.plot(history2.history['val_dense_20_acc'], label = 'First digit')\n",
    "plt.plot(history2.history['val_dense_21_acc'], label = 'Second digit')\n",
    "plt.plot(history2.history['val_dense_22_acc'], label = 'Third digit')\n",
    "plt.plot(history2.history['val_dense_23_acc'], label = 'Fourth digit')\n",
    "plt.plot(history2.history['val_dense_24_acc'], label = 'Fifth digit')\n",
    "\n",
    "plt.legend()\n",
    "plt.title('Accuracy');"
   ]
  },
  {
   "cell_type": "code",
   "execution_count": 54,
   "metadata": {
    "collapsed": false
   },
   "outputs": [
    {
     "name": "stdout",
     "output_type": "stream",
     "text": [
      "Model 2. Average CNN Accuracy: 95.19%\n"
     ]
    }
   ],
   "source": [
    "hide_code\n",
    "\n",
    "avg_accuracy2 = sum([cnn_scores2[i] for i in range(6, 11)])/5\n",
    "\n",
    "print(\"Model 2. Average CNN Accuracy: %.2f%%\" % (avg_accuracy2*100))"
   ]
  },
  {
   "cell_type": "markdown",
   "metadata": {},
   "source": [
    "***Saving the Models***"
   ]
  },
  {
   "cell_type": "code",
   "execution_count": 42,
   "metadata": {
    "collapsed": true
   },
   "outputs": [],
   "source": [
    "cnn_model.save('cnn_model55_file1_3.h5')"
   ]
  },
  {
   "cell_type": "code",
   "execution_count": 55,
   "metadata": {
    "collapsed": true
   },
   "outputs": [],
   "source": [
    "cnn_model2.save('cnn_model55_file2_3.h5')"
   ]
  },
  {
   "cell_type": "markdown",
   "metadata": {},
   "source": [
    "---\n",
    "\n",
    "---\n",
    "## $\\mathfrak {\\color{#348ABD} {Questions \\ and \\ Answers}}$"
   ]
  },
  {
   "cell_type": "markdown",
   "metadata": {
    "collapsed": true
   },
   "source": [
    "### Question 4\n",
    "_Describe how you set up the training and testing data for your model. How does the model perform on a realistic dataset?_\n",
    "### Answer 4\n",
    "Tens of thousands of photos were processed as follows:\n",
    "\n",
    "- fields of photos that do not contain digits were cut off;\n",
    "- the photos were formatted to the standard 32X32 size and three color channels were converted into one channel (gray scale);\n",
    "- each of the resulting images was represented as an array of numbers;\n",
    "- two sets of data (training and test data) were made from these arrays; \n",
    "- the data were recorded in files of two different formats for the convenience of repeated use.\n",
    "\n",
    "I have found two ways to impove the model for the best results on a realistic dataset:\n",
    "\n",
    "- the first model shows the average accuracy 95.29%;\n",
    "- the second model shows the average accuracy 95.19%."
   ]
  },
  {
   "cell_type": "markdown",
   "metadata": {
    "collapsed": true
   },
   "source": [
    "---\n",
    "### Question 5\n",
    "_What changes did you have to make, if any, to achieve \"good\" results? Were there any options you explored that made the results worse?_\n",
    "### Answer 5\n",
    "The architecture of the model were changed.\n",
    "\n",
    "- In the first case:\n",
    "   - the layer *Conv2D(128, (3, 3), activation='relu')* was added;\n",
    "   - *Dropout(0.25)*, *Dropout(0.25)*, *Dropout(0.25)*, *Dropout(0.5)* layers were used instead of *Dropout(0.2)*, *Dropout(0.2)*, *Dropout(0.4)*.\n",
    "   \n",
    "- In the second case, there is a big difference between the initial model and the starter one:\n",
    "  - two convolutional layers *Conv2D(32, (5, 5), activation='relu')* and *Conv2D(64, (5, 5), activation='relu')* instead of four *Conv2D(32, (3, 3), activation='relu')*, *Conv2D(32, (3, 3), activation='relu')*, *Conv2D(64, (3, 3), activation='relu')*, *Conv2D(64, (3, 3), activation='relu')*; \n",
    "  - the *BatchNormalization()* layer was added;\n",
    "  - the first *Dense* layer has dimensionality [256] instead of [512];\n",
    "  - *Dropout(0.25)*, *Dropout(0.25)*, *Dropout(0.5)* layers instead of *Dropout(0.2)*, *Dropout(0.2)*, *Dropout(0.4)*.\n",
    "\n",
    "The number of the epochs became greater (50 and 75 instead of 20).\n",
    "\n",
    "In both cases the result became worse with reducing the batch size (for example, 128 -> 64)."
   ]
  },
  {
   "cell_type": "markdown",
   "metadata": {
    "collapsed": true
   },
   "source": [
    "---\n",
    "### Question 6\n",
    "_What were your initial and final results with testing on a realistic dataset? Do you believe your model is doing a good enough job at classifying numbers correctly?_\n",
    "### Answer 6\n",
    "The initial values of accuracy were in 79-86%. The final level about 95% is an advanced result for the real data.\n",
    "So the model can do a good job at classifying numbers. Of course, the result can be improved by further research to achieve even higher accuracy."
   ]
  }
 ],
 "metadata": {
  "anaconda-cloud": {},
  "hide_input": false,
  "kernelspec": {
   "display_name": "Python 3",
   "language": "python",
   "name": "python3"
  },
  "language_info": {
   "codemirror_mode": {
    "name": "ipython",
    "version": 3
   },
   "file_extension": ".py",
   "mimetype": "text/x-python",
   "name": "python",
   "nbconvert_exporter": "python",
   "pygments_lexer": "ipython3",
   "version": "3.6.1"
  },
  "latex_envs": {
   "bibliofile": "biblio.bib",
   "cite_by": "apalike",
   "current_citInitial": 1,
   "eqLabelWithNumbers": true,
   "eqNumInitial": 0
  }
 },
 "nbformat": 4,
 "nbformat_minor": 2
}
