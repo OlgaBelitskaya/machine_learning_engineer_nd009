{
 "cells": [
  {
   "cell_type": "markdown",
   "metadata": {},
   "source": [
    "# &#x1F4D1; &nbsp;  $\\mathfrak {\\color{#348ABD} {P5: \\ Build \\ a \\ Digit \\ Recognition \\ Program. \\ Step \\ 2}}$"
   ]
  },
  {
   "cell_type": "markdown",
   "metadata": {},
   "source": [
    "---\n",
    "\n",
    "---\n",
    "## $\\mathfrak {\\color{#348ABD} {Code \\ Library \\ and \\ Links}}$"
   ]
  },
  {
   "cell_type": "markdown",
   "metadata": {},
   "source": [
    "Multi-dimensional image processing https://docs.scipy.org/doc/scipy/reference/ndimage.html\n",
    "\n",
    "Keras: Deep Learning library for Theano and TensorFlow https://keras.io/\n",
    " \n",
    "Deep MNIST for Experts https://www.tensorflow.org/get_started/mnist/pros\n",
    "\n",
    "Tensorflow Deep MNIST Advanced Tutorial http://docs.seldon.io/tensorflow-deep-mnist-example.html\n",
    "\n",
    "Handwritten Digit Recognition using Convolutional Neural Networks in Python with Keras\n",
    "\n",
    "http://machinelearningmastery.com/handwritten-digit-recognition-using-convolutional-neural-networks-python-keras/"
   ]
  },
  {
   "cell_type": "code",
   "execution_count": 1,
   "metadata": {
    "collapsed": false
   },
   "outputs": [
    {
     "data": {
      "text/html": [
       "<script>code_show = true; \n",
       "function code_display() {\n",
       "    if (code_show) {\n",
       "        $('div.input').each(function(id) {\n",
       "            if (id == 0 || $(this).html().indexOf('hide_code') > -1) {$(this).hide();}\n",
       "        });\n",
       "        $('div.output_prompt').css('opacity', 0);\n",
       "    } else {\n",
       "        $('div.input').each(function(id) {$(this).show();});\n",
       "        $('div.output_prompt').css('opacity', 1);\n",
       "    }\n",
       "    code_show = !code_show;\n",
       "} \n",
       "$(document).ready(code_display);</script>\n",
       "<form action=\"javascript: code_display()\"><input style=\"color: #348ABD; background: ghostwhite; opacity: 0.9; \" type=\"submit\" value=\"Click to display or hide code\"></form>"
      ],
      "text/plain": [
       "<IPython.core.display.HTML object>"
      ]
     },
     "execution_count": 1,
     "metadata": {},
     "output_type": "execute_result"
    }
   ],
   "source": [
    "from IPython.core.display import HTML\n",
    "hide_code = ''\n",
    "HTML('''<script>code_show = true; \n",
    "function code_display() {\n",
    "    if (code_show) {\n",
    "        $('div.input').each(function(id) {\n",
    "            if (id == 0 || $(this).html().indexOf('hide_code') > -1) {$(this).hide();}\n",
    "        });\n",
    "        $('div.output_prompt').css('opacity', 0);\n",
    "    } else {\n",
    "        $('div.input').each(function(id) {$(this).show();});\n",
    "        $('div.output_prompt').css('opacity', 1);\n",
    "    }\n",
    "    code_show = !code_show;\n",
    "} \n",
    "$(document).ready(code_display);</script>\n",
    "<form action=\"javascript: code_display()\"><input style=\"color: #348ABD; background: ghostwhite; opacity: 0.9; \" \\\n",
    "type=\"submit\" value=\"Click to display or hide code\"></form>''')"
   ]
  },
  {
   "cell_type": "code",
   "execution_count": 2,
   "metadata": {
    "collapsed": false
   },
   "outputs": [],
   "source": [
    "hide_code\n",
    "\n",
    "import numpy as np\n",
    "import scipy as sp\n",
    "import pandas as pd\n",
    "import random\n",
    "import scipy.ndimage\n",
    "from scipy.special import expit\n",
    "from time import time\n",
    "\n",
    "import os\n",
    "import sys\n",
    "import h5py\n",
    "import tarfile\n",
    "\n",
    "from six.moves.urllib.request import urlretrieve\n",
    "from six.moves import cPickle as pickle\n",
    "\n",
    "from IPython.display import display, Image, IFrame\n",
    "import matplotlib.pylab as plt\n",
    "import matplotlib.cm as cm\n",
    "from matplotlib import offsetbox\n",
    "%matplotlib inline"
   ]
  },
  {
   "cell_type": "code",
   "execution_count": 3,
   "metadata": {
    "collapsed": true
   },
   "outputs": [],
   "source": [
    "hide_code\n",
    "\n",
    "import tensorflow as tf\n",
    "import tensorflow.examples.tutorials.mnist as mnist"
   ]
  },
  {
   "cell_type": "code",
   "execution_count": 4,
   "metadata": {
    "collapsed": true
   },
   "outputs": [],
   "source": [
    "hide_code\n",
    "\n",
    "from sklearn.neural_network import MLPClassifier, BernoulliRBM\n",
    "from sklearn import linear_model, datasets, metrics\n",
    "from sklearn.pipeline import Pipeline\n",
    "from sklearn import manifold, decomposition, ensemble\n",
    "from sklearn import discriminant_analysis, random_projection\n",
    "from sklearn.model_selection import train_test_split"
   ]
  },
  {
   "cell_type": "code",
   "execution_count": 5,
   "metadata": {
    "collapsed": false
   },
   "outputs": [
    {
     "name": "stderr",
     "output_type": "stream",
     "text": [
      "Using TensorFlow backend.\n"
     ]
    }
   ],
   "source": [
    "hide_code\n",
    "\n",
    "import keras as ks\n",
    "from keras.models import Sequential, load_model, Model\n",
    "from keras.preprocessing import sequence\n",
    "from keras.optimizers import SGD, RMSprop\n",
    "from keras.layers import Dense, Dropout, LSTM\n",
    "from keras.layers import Activation, Flatten, Input, BatchNormalization\n",
    "from keras.layers import Conv1D, MaxPooling1D, Conv2D, MaxPooling2D\n",
    "from keras.layers.embeddings import Embedding"
   ]
  },
  {
   "cell_type": "code",
   "execution_count": 6,
   "metadata": {
    "collapsed": true
   },
   "outputs": [],
   "source": [
    "hide_code\n",
    "\n",
    "import warnings\n",
    "warnings.filterwarnings('ignore')"
   ]
  },
  {
   "cell_type": "code",
   "execution_count": 7,
   "metadata": {
    "collapsed": true
   },
   "outputs": [],
   "source": [
    "hide_code\n",
    "\n",
    "def download_progress_hook(count, blockSize, totalSize):\n",
    "    \"\"\"A hook to report the progress of a download. This is mostly intended for users with\n",
    "    slow internet connections. Reports every 5% change in download progress.\n",
    "    \"\"\"\n",
    "    global last_percent_reported\n",
    "    percent = int(count * blockSize * 100 / totalSize)\n",
    "\n",
    "    if last_percent_reported != percent:\n",
    "        if percent % 5 == 0:\n",
    "            sys.stdout.write(\"%s%%\" % percent)\n",
    "            sys.stdout.flush()\n",
    "        else:\n",
    "            sys.stdout.write(\".\")\n",
    "            sys.stdout.flush()\n",
    "      \n",
    "        last_percent_reported = percent\n",
    "        \n",
    "def maybe_download(filename, expected_bytes, force=False):\n",
    "    \"\"\"Download a file if not present, and make sure it's the right size.\"\"\"\n",
    "    dest_filename = os.path.join(data_root, filename)\n",
    "    if force or not os.path.exists(dest_filename):\n",
    "        print('Attempting to download:', filename) \n",
    "        filename, _ = urlretrieve(url + filename, dest_filename, reporthook=download_progress_hook)\n",
    "        print('\\nDownload Complete!')\n",
    "    statinfo = os.stat(dest_filename)\n",
    "    if statinfo.st_size == expected_bytes:\n",
    "        print('Found and verified', dest_filename)\n",
    "    else:\n",
    "        raise Exception('Failed to verify ' + dest_filename + '. Can you get to it with a browser?')\n",
    "    return dest_filename\n",
    "\n",
    "def maybe_extract(file_, force=False):\n",
    "    filename = os.path.splitext(os.path.splitext(file_)[0])[0]  # remove .tar.gz\n",
    "    \n",
    "    if os.path.isdir(filename) and not force:\n",
    "        # You may override by setting force=True.\n",
    "        print('%s is already presented - Skipping extraction of %s.' % (filename, file_))\n",
    "    else:\n",
    "        print('Extracting %s file data. Please wait...' % file_)\n",
    "        tar = tarfile.open(file_)\n",
    "        sys.stdout.flush()\n",
    "        tar.extractall()\n",
    "        tar.close()\n",
    "        print('File %s is successfully extracted into %s directory.' % (file_, filename))        \n",
    "    \n",
    "    return filename"
   ]
  },
  {
   "cell_type": "code",
   "execution_count": 8,
   "metadata": {
    "collapsed": false
   },
   "outputs": [],
   "source": [
    "hide_code\n",
    "# https://github.com/sarahrn/Py-Gsvhn-DigitStruct-Reader/blob/master/digitStruct.py\n",
    "\n",
    "#\n",
    "# Bounding Box\n",
    "#\n",
    "class BBox:\n",
    "    def __init__(self):\n",
    "        self.label = \"\"     # Digit\n",
    "        self.left = 0\n",
    "        self.top = 0\n",
    "        self.width = 0\n",
    "        self.height = 0\n",
    "\n",
    "class DigitStruct:\n",
    "    def __init__(self):\n",
    "        self.name = None    # Image file name\n",
    "        self.bboxList = None # List of BBox structs\n",
    "\n",
    "# Function for debugging\n",
    "def printHDFObj(theObj, theObjName):\n",
    "    isFile = isinstance(theObj, h5py.File)\n",
    "    isGroup = isinstance(theObj, h5py.Group)\n",
    "    isDataSet = isinstance(theObj, h5py.Dataset)\n",
    "    isReference = isinstance(theObj, h5py.Reference)\n",
    "    print (\"{}\".format(theObjName))\n",
    "    print (\"    type(): {}\".format(type(theObj)))\n",
    "    if isFile or isGroup or isDataSet:\n",
    "        # if theObj.name != None:\n",
    "        #    print \"    name: {}\".format(theObj.name)\n",
    "        print (\"    id: {}\".format(theObj.id))\n",
    "    if isFile or isGroup:\n",
    "        print (\"    keys: {}\".format(theObj.keys()))\n",
    "    if not isReference:\n",
    "        print (\"    Len: {}\".format(len(theObj)))\n",
    "\n",
    "    if not (isFile or isGroup or isDataSet or isReference):\n",
    "        print (theObj)\n",
    "\n",
    "def readDigitStructGroup(dsFile):\n",
    "    dsGroup = dsFile[\"digitStruct\"]\n",
    "    return dsGroup\n",
    "\n",
    "#\n",
    "# Reads a string from the file using its reference\n",
    "#\n",
    "def readString(strRef, dsFile):\n",
    "    strObj = dsFile[strRef]\n",
    "    str = ''.join(chr(i) for i in strObj)\n",
    "    return str\n",
    "\n",
    "#\n",
    "# Reads an integer value from the file\n",
    "#\n",
    "def readInt(intArray, dsFile):\n",
    "    intRef = intArray[0]\n",
    "    isReference = isinstance(intRef, h5py.Reference)\n",
    "    intVal = 0\n",
    "    if isReference:\n",
    "        intObj = dsFile[intRef]\n",
    "        intVal = int(intObj[0])\n",
    "    else: # Assuming value type\n",
    "        intVal = int(intRef)\n",
    "    return intVal\n",
    "\n",
    "def yieldNextInt(intDataset, dsFile):\n",
    "    for intData in intDataset:\n",
    "        intVal = readInt(intData, dsFile)\n",
    "        yield intVal \n",
    "\n",
    "def yieldNextBBox(bboxDataset, dsFile):\n",
    "    for bboxArray in bboxDataset:\n",
    "        bboxGroupRef = bboxArray[0]\n",
    "        bboxGroup = dsFile[bboxGroupRef]\n",
    "        labelDataset = bboxGroup[\"label\"]\n",
    "        leftDataset = bboxGroup[\"left\"]\n",
    "        topDataset = bboxGroup[\"top\"]\n",
    "        widthDataset = bboxGroup[\"width\"]\n",
    "        heightDataset = bboxGroup[\"height\"]\n",
    "\n",
    "        left = yieldNextInt(leftDataset, dsFile)\n",
    "        top = yieldNextInt(topDataset, dsFile)\n",
    "        width = yieldNextInt(widthDataset, dsFile)\n",
    "        height = yieldNextInt(heightDataset, dsFile)\n",
    "\n",
    "        bboxList = []\n",
    "\n",
    "        for label in yieldNextInt(labelDataset, dsFile):\n",
    "            bbox = BBox()\n",
    "            bbox.label = label\n",
    "            bbox.left = next(left)\n",
    "            bbox.top = next(top)\n",
    "            bbox.width = next(width)\n",
    "            bbox.height = next(height)\n",
    "            bboxList.append(bbox)\n",
    "\n",
    "        yield bboxList\n",
    "\n",
    "def yieldNextFileName(nameDataset, dsFile):\n",
    "    for nameArray in nameDataset:\n",
    "        nameRef = nameArray[0]\n",
    "        name = readString(nameRef, dsFile)\n",
    "        yield name\n",
    "\n",
    "def yieldNextDigitStruct(dsFileName):\n",
    "    dsFile = h5py.File(dsFileName, 'r')\n",
    "    dsGroup = readDigitStructGroup(dsFile)\n",
    "    nameDataset = dsGroup[\"name\"]\n",
    "    bboxDataset = dsGroup[\"bbox\"]\n",
    "\n",
    "    bboxListIter = yieldNextBBox(bboxDataset, dsFile)\n",
    "    for name in yieldNextFileName(nameDataset, dsFile):\n",
    "        bboxList = next(bboxListIter)\n",
    "        obj = DigitStruct()\n",
    "        obj.name = name\n",
    "        obj.bboxList = bboxList\n",
    "        yield obj\n",
    "        \n",
    "def testMain():\n",
    "\n",
    "    dsFileName = 'train/digitStruct.mat'\n",
    "    testCounter = 0\n",
    "    for dsObj in yieldNextDigitStruct(dsFileName):\n",
    "        # testCounter += 1\n",
    "        print (dsObj.name)\n",
    "        for bbox in dsObj.bboxList:\n",
    "            print (\"    {}:{},{},{},{}\".format(bbox.label, bbox.left, bbox.top, bbox.width, bbox.height))\n",
    "        if testCounter >= 5:\n",
    "            break\n",
    "\n",
    "# if __name__ == \"__main__\":\n",
    "#     testMain()"
   ]
  },
  {
   "cell_type": "code",
   "execution_count": 9,
   "metadata": {
    "collapsed": false
   },
   "outputs": [],
   "source": [
    "hide_code\n",
    "\n",
    "def testMain():\n",
    "\n",
    "    dsFileName = 'test/digitStruct.mat'\n",
    "    testCounter = 0\n",
    "    for dsObj in yieldNextDigitStruct(dsFileName):\n",
    "        # testCounter += 1\n",
    "        print (dsObj.name)\n",
    "        for bbox in dsObj.bboxList:\n",
    "            print (\"    {}:{},{},{},{}\".format(bbox.label, bbox.left, bbox.top, bbox.width, bbox.height))\n",
    "        if testCounter >= 5:\n",
    "            break\n",
    "\n",
    "# if __name__ == \"__main__\":\n",
    "#     testMain()"
   ]
  },
  {
   "cell_type": "code",
   "execution_count": 10,
   "metadata": {
    "collapsed": false
   },
   "outputs": [],
   "source": [
    "hide_code\n",
    "\n",
    "def testMain():\n",
    "\n",
    "    dsFileName = 'extra/digitStruct.mat'\n",
    "    testCounter = 0\n",
    "    for dsObj in yieldNextDigitStruct(dsFileName):\n",
    "        # testCounter += 1\n",
    "        print (dsObj.name)\n",
    "        for bbox in dsObj.bboxList:\n",
    "            print (\"    {}:{},{},{},{}\".format(bbox.label, bbox.left, bbox.top, bbox.width, bbox.height))\n",
    "        if testCounter >= 5:\n",
    "            break\n",
    "\n",
    "# if __name__ == \"__main__\":\n",
    "#     testMain()"
   ]
  },
  {
   "cell_type": "code",
   "execution_count": 11,
   "metadata": {
    "collapsed": false
   },
   "outputs": [],
   "source": [
    "hide_code\n",
    "# https://github.com/sarahrn/Py-Gsvhn-DigitStruct-Reader/blob/master/digitStructMatToCsv.py\n",
    "\n",
    "def writeToCsvFile(dsFileName, csvFile):\n",
    "    fileCount = 0\n",
    "    csvFile.write(\"FileName,DigitLabel,Left,Top,Width,Height\\n\")\n",
    "    for dsObj in yieldNextDigitStruct(dsFileName):\n",
    "        fileCount += 1\n",
    "        for bbox in dsObj.bboxList:\n",
    "            csvLine = \"{},{},{},{},{},{}\\n\".format(\n",
    "                dsObj.name,\n",
    "                bbox.label, bbox.left, bbox.top, bbox.width, bbox.height)\n",
    "            csvFile.write(csvLine)\n",
    "    print(\"Number of image files: {}\".format(fileCount))\n",
    "\n",
    "def convertToCsv(dsFilePath, csvFilePath):\n",
    "    with open(csvFilePath, \"w\") as csvFile:\n",
    "        writeToCsvFile(dsFilePath, csvFile)\n",
    "\n",
    "def main():\n",
    "    dsFilePath = 'train/digitStruct.mat'\n",
    "    csvFilePath = 'train_digitStruct.csv'\n",
    "    print(\"Converting {0} to {1}\".format(dsFilePath, csvFilePath))\n",
    "    convertToCsv(dsFilePath, csvFilePath)\n",
    "\n",
    "# if __name__ == \"__main__\":\n",
    "#     main()"
   ]
  },
  {
   "cell_type": "code",
   "execution_count": 12,
   "metadata": {
    "collapsed": false
   },
   "outputs": [],
   "source": [
    "hide_code\n",
    "\n",
    "def main():\n",
    "    dsFilePath = 'test/digitStruct.mat'\n",
    "    csvFilePath = 'test_digitStruct.csv'\n",
    "    print(\"Converting {0} to {1}\".format(dsFilePath, csvFilePath))\n",
    "    convertToCsv(dsFilePath, csvFilePath)\n",
    "\n",
    "# if __name__ == \"__main__\":\n",
    "#     main()"
   ]
  },
  {
   "cell_type": "code",
   "execution_count": 13,
   "metadata": {
    "collapsed": false
   },
   "outputs": [],
   "source": [
    "hide_code\n",
    "\n",
    "def main():\n",
    "    dsFilePath = 'extra/digitStruct.mat'\n",
    "    csvFilePath = 'extra_digitStruct.csv'\n",
    "    print(\"Converting {0} to {1}\".format(dsFilePath, csvFilePath))\n",
    "    convertToCsv(dsFilePath, csvFilePath)\n",
    "\n",
    "# if __name__ == \"__main__\":\n",
    "#     main()"
   ]
  },
  {
   "cell_type": "code",
   "execution_count": 14,
   "metadata": {
    "collapsed": false
   },
   "outputs": [],
   "source": [
    "hide_code\n",
    "\n",
    "def grouped_by_filename(data):    \n",
    "    filename_set = np.array(list(set(data['filename'])))\n",
    "    n = filename_set.shape[0]\n",
    "    labels = []\n",
    "    boxes = []\n",
    "    data_gr = data.groupby(['filename'])\n",
    "    for i in range(n):\n",
    "        x = filename_set[i]\n",
    "        labels.append(np.array(data_gr.get_group(x)['label']))\n",
    "        boxes.append(np.array(data_gr.get_group(x)['box']))\n",
    "    labels = np.array(labels)\n",
    "    boxes = np.array(boxes)\n",
    "    data_g = {'filename': filename_set, 'label': labels, 'box': boxes}\n",
    "    new_data = pd.DataFrame(data=data_g)\n",
    "    return new_data"
   ]
  },
  {
   "cell_type": "code",
   "execution_count": 15,
   "metadata": {
    "collapsed": true
   },
   "outputs": [],
   "source": [
    "hide_code\n",
    "\n",
    "def fivedigit_label(label):\n",
    "    size = len(label)\n",
    "    if size >= 5:\n",
    "        return label\n",
    "    else:\n",
    "        num_zeros = np.full((5-size), 10)\n",
    "        return np.array(np.concatenate((num_zeros, label), axis = 0))\n",
    "    \n",
    "def get_labels(data):\n",
    "    string = data.replace('[', '').replace(']', '').replace(',', '')\n",
    "    labels = np.array([int(n) for n in string.split()])\n",
    "    return labels\n",
    "\n",
    "def image_box(box):\n",
    "        left, top, width, height = box[:, 0], box[:, 1], box[:, 2], box[:, 3]\n",
    "        \n",
    "        image_left = min(left) + 1\n",
    "        image_top = min(top) + 1\n",
    "        image_bottom = max(top) + max(height)\n",
    "        image_right = max(left) + max(width)\n",
    "        return np.array([image_left, image_right, image_top, image_bottom])\n",
    "\n",
    "def get_box(data):\n",
    "    value = data.values[0]\n",
    "    string = value.replace('[', '').replace(']', '').replace(',', '')\n",
    "    numbers = np.array([int(n) for n in string.split()])        \n",
    "    k = len(numbers)/4\n",
    "    numbers = numbers.reshape(k, 4)       \n",
    "    return numbers\n",
    "\n",
    "def get_image(folder, image_file):\n",
    "    filename=os.path.join(folder, image_file)\n",
    "    image = scipy.ndimage.imread(filename, mode='RGB')\n",
    "    \n",
    "    if folder == 'train':\n",
    "        n = np.where(train_filenames == image_file)[0]\n",
    "        box = np.array(get_box(train_b['box'][n]))\n",
    "        label = train_labels[n]\n",
    "        \n",
    "    elif folder == 'test':\n",
    "        n = np.where(test_filenames == image_file)[0]\n",
    "        box = np.array(get_box(test_b['box'][n]))\n",
    "        label = test_labels[n]\n",
    "        \n",
    "    elif folder == 'extra':\n",
    "        n = np.where(extra_filenames == image_file)[0]\n",
    "        box = np.array(get_box(extra_b['box'][n]))\n",
    "        label = extra_labels[n]\n",
    "        \n",
    "    nbox = image_box(box)\n",
    "    image_left, image_right, image_top, image_bottom = nbox[0], nbox[1], nbox[2], nbox[3]\n",
    "    \n",
    "    image_bottom = min(image.shape[0], image_bottom)\n",
    "    image_right = min(image.shape[1], image_right)\n",
    "                   \n",
    "    nimage = image[image_top:image_bottom, image_left:image_right]\n",
    "    \n",
    "    image32_1 = scipy.misc.imresize(nimage, (32, 32, 3)) / 255\n",
    "    image32_2 = np.dot(np.array(image64_1, dtype='float32'), [0.299, 0.587, 0.114])\n",
    "    return image32_1, image32_2, label"
   ]
  },
  {
   "cell_type": "markdown",
   "metadata": {},
   "source": [
    "---\n",
    "\n",
    "---\n",
    "## $\\mathfrak {\\color{#348ABD} {Experimental \\ Datasets}}$"
   ]
  },
  {
   "cell_type": "markdown",
   "metadata": {},
   "source": [
    "#### Dataset #5. Stanford.edu. Housenumbers\n",
    "\n",
    "http://ufldl.stanford.edu/housenumbers/"
   ]
  },
  {
   "cell_type": "code",
   "execution_count": 17,
   "metadata": {
    "collapsed": false
   },
   "outputs": [
    {
     "name": "stdout",
     "output_type": "stream",
     "text": [
      "Found and verified ./train.tar.gz\n",
      "Found and verified ./test.tar.gz\n",
      "Found and verified ./extra.tar.gz\n"
     ]
    }
   ],
   "source": [
    "hide_code\n",
    "\n",
    "url = 'http://ufldl.stanford.edu/housenumbers/'\n",
    "last_percent_reported = None\n",
    "data_root = '.' # Change me to store data elsewhere\n",
    "\n",
    "train_filename = maybe_download('train.tar.gz', 404141560)\n",
    "test_filename = maybe_download('test.tar.gz', 276555967)\n",
    "extra_filename = maybe_download('extra.tar.gz', 1955489752)"
   ]
  },
  {
   "cell_type": "code",
   "execution_count": 18,
   "metadata": {
    "collapsed": false
   },
   "outputs": [
    {
     "name": "stdout",
     "output_type": "stream",
     "text": [
      "./train is already presented - Skipping extraction of ./train.tar.gz.\n",
      "./test is already presented - Skipping extraction of ./test.tar.gz.\n",
      "./extra is already presented - Skipping extraction of ./extra.tar.gz.\n"
     ]
    }
   ],
   "source": [
    "hide_code\n",
    "\n",
    "train_folder = maybe_extract(train_filename)\n",
    "test_folder = maybe_extract(test_filename)\n",
    "extra_folder = maybe_extract(extra_filename)"
   ]
  },
  {
   "cell_type": "code",
   "execution_count": 19,
   "metadata": {
    "collapsed": false
   },
   "outputs": [
    {
     "name": "stdout",
     "output_type": "stream",
     "text": [
      "A few examples of images\n"
     ]
    },
    {
     "data": {
      "image/png": "[encoded data removed]",
      "text/plain": [
       "<IPython.core.display.Image object>"
      ]
     },
     "metadata": {},
     "output_type": "display_data"
    },
    {
     "data": {
      "image/png": "[encoded data removed]",
      "text/plain": [
       "<IPython.core.display.Image object>"
      ]
     },
     "metadata": {},
     "output_type": "display_data"
    },
    {
     "data": {
      "image/png": "[encoded data removed]",
      "text/plain": [
       "<IPython.core.display.Image object>"
      ]
     },
     "metadata": {},
     "output_type": "display_data"
    },
    {
     "data": {
      "image/png": "[encoded data removed]",
      "text/plain": [
       "<IPython.core.display.Image object>"
      ]
     },
     "metadata": {},
     "output_type": "display_data"
    },
    {
     "data": {
      "image/png": "[encoded data removed]",
      "text/plain": [
       "<IPython.core.display.Image object>"
      ]
     },
     "metadata": {},
     "output_type": "display_data"
    }
   ],
   "source": [
    "hide_code\n",
    "\n",
    "print('A few examples of images')\n",
    "image_path = os.path.join('extra')\n",
    "images = [f for f in os.listdir(image_path) if f.endswith('.png')][1010:1015]\n",
    "for image in images:\n",
    "    display(Image(filename=os.path.join(image_path,image)))"
   ]
  },
  {
   "cell_type": "code",
   "execution_count": 20,
   "metadata": {
    "collapsed": false
   },
   "outputs": [
    {
     "data": {
      "text/html": [
       "<div>\n",
       "<table border=\"1\" class=\"dataframe\">\n",
       "  <thead>\n",
       "    <tr style=\"text-align: right;\">\n",
       "      <th></th>\n",
       "      <th>FileName</th>\n",
       "      <th>DigitLabel</th>\n",
       "      <th>Left</th>\n",
       "      <th>Top</th>\n",
       "      <th>Width</th>\n",
       "      <th>Height</th>\n",
       "    </tr>\n",
       "  </thead>\n",
       "  <tbody>\n",
       "    <tr>\n",
       "      <th>0</th>\n",
       "      <td>1.png</td>\n",
       "      <td>1</td>\n",
       "      <td>246</td>\n",
       "      <td>77</td>\n",
       "      <td>81</td>\n",
       "      <td>219</td>\n",
       "    </tr>\n",
       "    <tr>\n",
       "      <th>1</th>\n",
       "      <td>1.png</td>\n",
       "      <td>9</td>\n",
       "      <td>323</td>\n",
       "      <td>81</td>\n",
       "      <td>96</td>\n",
       "      <td>219</td>\n",
       "    </tr>\n",
       "    <tr>\n",
       "      <th>2</th>\n",
       "      <td>2.png</td>\n",
       "      <td>2</td>\n",
       "      <td>77</td>\n",
       "      <td>29</td>\n",
       "      <td>23</td>\n",
       "      <td>32</td>\n",
       "    </tr>\n",
       "  </tbody>\n",
       "</table>\n",
       "</div>"
      ],
      "text/plain": [
       "  FileName  DigitLabel  Left  Top  Width  Height\n",
       "0    1.png           1   246   77     81     219\n",
       "1    1.png           9   323   81     96     219\n",
       "2    2.png           2    77   29     23      32"
      ]
     },
     "metadata": {},
     "output_type": "display_data"
    },
    {
     "data": {
      "text/html": [
       "<div>\n",
       "<table border=\"1\" class=\"dataframe\">\n",
       "  <thead>\n",
       "    <tr style=\"text-align: right;\">\n",
       "      <th></th>\n",
       "      <th>FileName</th>\n",
       "      <th>DigitLabel</th>\n",
       "      <th>Left</th>\n",
       "      <th>Top</th>\n",
       "      <th>Width</th>\n",
       "      <th>Height</th>\n",
       "    </tr>\n",
       "  </thead>\n",
       "  <tbody>\n",
       "    <tr>\n",
       "      <th>0</th>\n",
       "      <td>1.png</td>\n",
       "      <td>5</td>\n",
       "      <td>43</td>\n",
       "      <td>7</td>\n",
       "      <td>19</td>\n",
       "      <td>30</td>\n",
       "    </tr>\n",
       "    <tr>\n",
       "      <th>1</th>\n",
       "      <td>2.png</td>\n",
       "      <td>2</td>\n",
       "      <td>99</td>\n",
       "      <td>5</td>\n",
       "      <td>14</td>\n",
       "      <td>23</td>\n",
       "    </tr>\n",
       "    <tr>\n",
       "      <th>2</th>\n",
       "      <td>2.png</td>\n",
       "      <td>1</td>\n",
       "      <td>114</td>\n",
       "      <td>8</td>\n",
       "      <td>8</td>\n",
       "      <td>23</td>\n",
       "    </tr>\n",
       "  </tbody>\n",
       "</table>\n",
       "</div>"
      ],
      "text/plain": [
       "  FileName  DigitLabel  Left  Top  Width  Height\n",
       "0    1.png           5    43    7     19      30\n",
       "1    2.png           2    99    5     14      23\n",
       "2    2.png           1   114    8      8      23"
      ]
     },
     "metadata": {},
     "output_type": "display_data"
    },
    {
     "data": {
      "text/html": [
       "<div>\n",
       "<table border=\"1\" class=\"dataframe\">\n",
       "  <thead>\n",
       "    <tr style=\"text-align: right;\">\n",
       "      <th></th>\n",
       "      <th>FileName</th>\n",
       "      <th>DigitLabel</th>\n",
       "      <th>Left</th>\n",
       "      <th>Top</th>\n",
       "      <th>Width</th>\n",
       "      <th>Height</th>\n",
       "    </tr>\n",
       "  </thead>\n",
       "  <tbody>\n",
       "    <tr>\n",
       "      <th>0</th>\n",
       "      <td>1.png</td>\n",
       "      <td>4</td>\n",
       "      <td>24</td>\n",
       "      <td>70</td>\n",
       "      <td>38</td>\n",
       "      <td>56</td>\n",
       "    </tr>\n",
       "    <tr>\n",
       "      <th>1</th>\n",
       "      <td>1.png</td>\n",
       "      <td>7</td>\n",
       "      <td>55</td>\n",
       "      <td>41</td>\n",
       "      <td>36</td>\n",
       "      <td>56</td>\n",
       "    </tr>\n",
       "    <tr>\n",
       "      <th>2</th>\n",
       "      <td>1.png</td>\n",
       "      <td>8</td>\n",
       "      <td>79</td>\n",
       "      <td>23</td>\n",
       "      <td>47</td>\n",
       "      <td>56</td>\n",
       "    </tr>\n",
       "  </tbody>\n",
       "</table>\n",
       "</div>"
      ],
      "text/plain": [
       "  FileName  DigitLabel  Left  Top  Width  Height\n",
       "0    1.png           4    24   70     38      56\n",
       "1    1.png           7    55   41     36      56\n",
       "2    1.png           8    79   23     47      56"
      ]
     },
     "metadata": {},
     "output_type": "display_data"
    }
   ],
   "source": [
    "hide_code\n",
    "\n",
    "train_set = pd.read_csv(\"train_digitStruct.csv\")\n",
    "test_set = pd.read_csv(\"test_digitStruct.csv\")\n",
    "extra_set = pd.read_csv(\"extra_digitStruct.csv\")\n",
    "display(train_set.head(3))\n",
    "display(test_set.head(3))\n",
    "display(extra_set.head(3))"
   ]
  },
  {
   "cell_type": "code",
   "execution_count": 19,
   "metadata": {
    "collapsed": false
   },
   "outputs": [],
   "source": [
    "hide_code\n",
    "\n",
    "train_box = [[train_set['Left'][i], train_set['Top'][i], \n",
    "              train_set['Width'][i], train_set['Height'][i]] \n",
    "             for i in range(len(train_set))]\n",
    "\n",
    "test_box = [[test_set['Left'][i], test_set['Top'][i], \n",
    "             test_set['Width'][i], test_set['Height'][i]] \n",
    "            for i in range(len(test_set))]\n",
    "\n",
    "extra_box = [[extra_set['Left'][i], extra_set['Top'][i], \n",
    "              extra_set['Width'][i], extra_set['Height'][i]] \n",
    "             for i in range(len(extra_set))]"
   ]
  },
  {
   "cell_type": "code",
   "execution_count": 23,
   "metadata": {
    "collapsed": false
   },
   "outputs": [
    {
     "data": {
      "text/html": [
       "<div>\n",
       "<table border=\"1\" class=\"dataframe\">\n",
       "  <thead>\n",
       "    <tr style=\"text-align: right;\">\n",
       "      <th></th>\n",
       "      <th>box</th>\n",
       "      <th>filename</th>\n",
       "      <th>label</th>\n",
       "    </tr>\n",
       "  </thead>\n",
       "  <tbody>\n",
       "    <tr>\n",
       "      <th>0</th>\n",
       "      <td>[246, 77, 81, 219]</td>\n",
       "      <td>1.png</td>\n",
       "      <td>1</td>\n",
       "    </tr>\n",
       "    <tr>\n",
       "      <th>1</th>\n",
       "      <td>[323, 81, 96, 219]</td>\n",
       "      <td>1.png</td>\n",
       "      <td>9</td>\n",
       "    </tr>\n",
       "    <tr>\n",
       "      <th>2</th>\n",
       "      <td>[77, 29, 23, 32]</td>\n",
       "      <td>2.png</td>\n",
       "      <td>2</td>\n",
       "    </tr>\n",
       "  </tbody>\n",
       "</table>\n",
       "</div>"
      ],
      "text/plain": [
       "                  box filename  label\n",
       "0  [246, 77, 81, 219]    1.png      1\n",
       "1  [323, 81, 96, 219]    1.png      9\n",
       "2    [77, 29, 23, 32]    2.png      2"
      ]
     },
     "metadata": {},
     "output_type": "display_data"
    },
    {
     "data": {
      "text/html": [
       "<div>\n",
       "<table border=\"1\" class=\"dataframe\">\n",
       "  <thead>\n",
       "    <tr style=\"text-align: right;\">\n",
       "      <th></th>\n",
       "      <th>box</th>\n",
       "      <th>filename</th>\n",
       "      <th>label</th>\n",
       "    </tr>\n",
       "  </thead>\n",
       "  <tbody>\n",
       "    <tr>\n",
       "      <th>0</th>\n",
       "      <td>[43, 7, 19, 30]</td>\n",
       "      <td>1.png</td>\n",
       "      <td>5</td>\n",
       "    </tr>\n",
       "    <tr>\n",
       "      <th>1</th>\n",
       "      <td>[99, 5, 14, 23]</td>\n",
       "      <td>2.png</td>\n",
       "      <td>2</td>\n",
       "    </tr>\n",
       "    <tr>\n",
       "      <th>2</th>\n",
       "      <td>[114, 8, 8, 23]</td>\n",
       "      <td>2.png</td>\n",
       "      <td>1</td>\n",
       "    </tr>\n",
       "  </tbody>\n",
       "</table>\n",
       "</div>"
      ],
      "text/plain": [
       "               box filename  label\n",
       "0  [43, 7, 19, 30]    1.png      5\n",
       "1  [99, 5, 14, 23]    2.png      2\n",
       "2  [114, 8, 8, 23]    2.png      1"
      ]
     },
     "metadata": {},
     "output_type": "display_data"
    },
    {
     "data": {
      "text/html": [
       "<div>\n",
       "<table border=\"1\" class=\"dataframe\">\n",
       "  <thead>\n",
       "    <tr style=\"text-align: right;\">\n",
       "      <th></th>\n",
       "      <th>box</th>\n",
       "      <th>filename</th>\n",
       "      <th>label</th>\n",
       "    </tr>\n",
       "  </thead>\n",
       "  <tbody>\n",
       "    <tr>\n",
       "      <th>0</th>\n",
       "      <td>[24, 70, 38, 56]</td>\n",
       "      <td>1.png</td>\n",
       "      <td>4</td>\n",
       "    </tr>\n",
       "    <tr>\n",
       "      <th>1</th>\n",
       "      <td>[55, 41, 36, 56]</td>\n",
       "      <td>1.png</td>\n",
       "      <td>7</td>\n",
       "    </tr>\n",
       "    <tr>\n",
       "      <th>2</th>\n",
       "      <td>[79, 23, 47, 56]</td>\n",
       "      <td>1.png</td>\n",
       "      <td>8</td>\n",
       "    </tr>\n",
       "  </tbody>\n",
       "</table>\n",
       "</div>"
      ],
      "text/plain": [
       "                box filename  label\n",
       "0  [24, 70, 38, 56]    1.png      4\n",
       "1  [55, 41, 36, 56]    1.png      7\n",
       "2  [79, 23, 47, 56]    1.png      8"
      ]
     },
     "metadata": {},
     "output_type": "display_data"
    }
   ],
   "source": [
    "hide_code\n",
    "\n",
    "train_d = {'filename': train_set['FileName'], 'label': train_set['DigitLabel'], 'box': train_box}\n",
    "train_df = pd.DataFrame(data=train_d)\n",
    "\n",
    "test_d = {'filename': test_set['FileName'], 'label': test_set['DigitLabel'], 'box': test_box}\n",
    "test_df = pd.DataFrame(data=test_d)\n",
    "\n",
    "extra_d = {'filename': extra_set['FileName'], 'label': extra_set['DigitLabel'], 'box': extra_box}\n",
    "extra_df = pd.DataFrame(data=extra_d)\n",
    "\n",
    "display(train_df.head(3))\n",
    "display(test_df.head(3))\n",
    "display(extra_df.head(3))"
   ]
  },
  {
   "cell_type": "markdown",
   "metadata": {},
   "source": [
    "***Grouping by file name***"
   ]
  },
  {
   "cell_type": "code",
   "execution_count": 23,
   "metadata": {
    "collapsed": false
   },
   "outputs": [
    {
     "data": {
      "text/plain": [
       "''"
      ]
     },
     "execution_count": 23,
     "metadata": {},
     "output_type": "execute_result"
    }
   ],
   "source": [
    "hide_code\n",
    "\n",
    "# train_g = grouped_by_filename(train_df)\n",
    "# test_g = grouped_by_filename(test_df)\n",
    "# extra_g = grouped_by_filename(extra_df)"
   ]
  },
  {
   "cell_type": "code",
   "execution_count": 543,
   "metadata": {
    "collapsed": false
   },
   "outputs": [
    {
     "data": {
      "text/html": [
       "<div>\n",
       "<table border=\"1\" class=\"dataframe\">\n",
       "  <thead>\n",
       "    <tr style=\"text-align: right;\">\n",
       "      <th></th>\n",
       "      <th>box</th>\n",
       "      <th>filename</th>\n",
       "      <th>label</th>\n",
       "    </tr>\n",
       "  </thead>\n",
       "  <tbody>\n",
       "    <tr>\n",
       "      <th>0</th>\n",
       "      <td>[[33, 10, 12, 24], [45, 10, 11, 24]]</td>\n",
       "      <td>5502.png</td>\n",
       "      <td>[3, 5]</td>\n",
       "    </tr>\n",
       "    <tr>\n",
       "      <th>1</th>\n",
       "      <td>[[35, 7, 11, 37], [44, 3, 11, 37]]</td>\n",
       "      <td>6876.png</td>\n",
       "      <td>[1, 5]</td>\n",
       "    </tr>\n",
       "    <tr>\n",
       "      <th>2</th>\n",
       "      <td>[[99, 32, 35, 51], [125, 29, 31, 51]]</td>\n",
       "      <td>12741.png</td>\n",
       "      <td>[2, 9]</td>\n",
       "    </tr>\n",
       "  </tbody>\n",
       "</table>\n",
       "</div>"
      ],
      "text/plain": [
       "                                     box   filename   label\n",
       "0   [[33, 10, 12, 24], [45, 10, 11, 24]]   5502.png  [3, 5]\n",
       "1     [[35, 7, 11, 37], [44, 3, 11, 37]]   6876.png  [1, 5]\n",
       "2  [[99, 32, 35, 51], [125, 29, 31, 51]]  12741.png  [2, 9]"
      ]
     },
     "metadata": {},
     "output_type": "display_data"
    },
    {
     "data": {
      "text/html": [
       "<div>\n",
       "<table border=\"1\" class=\"dataframe\">\n",
       "  <thead>\n",
       "    <tr style=\"text-align: right;\">\n",
       "      <th></th>\n",
       "      <th>box</th>\n",
       "      <th>filename</th>\n",
       "      <th>label</th>\n",
       "    </tr>\n",
       "  </thead>\n",
       "  <tbody>\n",
       "    <tr>\n",
       "      <th>0</th>\n",
       "      <td>[[35, 10, 15, 22], [51, 9, 12, 22], [63, 10, 1...</td>\n",
       "      <td>5502.png</td>\n",
       "      <td>[1, 7, 1]</td>\n",
       "    </tr>\n",
       "    <tr>\n",
       "      <th>1</th>\n",
       "      <td>[[135, 40, 10, 22], [146, 38, 16, 22]]</td>\n",
       "      <td>1166.png</td>\n",
       "      <td>[1, 7]</td>\n",
       "    </tr>\n",
       "    <tr>\n",
       "      <th>2</th>\n",
       "      <td>[[125, 37, 17, 25], [141, 41, 16, 25]]</td>\n",
       "      <td>506.png</td>\n",
       "      <td>[2, 8]</td>\n",
       "    </tr>\n",
       "  </tbody>\n",
       "</table>\n",
       "</div>"
      ],
      "text/plain": [
       "                                                 box  filename      label\n",
       "0  [[35, 10, 15, 22], [51, 9, 12, 22], [63, 10, 1...  5502.png  [1, 7, 1]\n",
       "1             [[135, 40, 10, 22], [146, 38, 16, 22]]  1166.png     [1, 7]\n",
       "2             [[125, 37, 17, 25], [141, 41, 16, 25]]   506.png     [2, 8]"
      ]
     },
     "metadata": {},
     "output_type": "display_data"
    },
    {
     "data": {
      "text/html": [
       "<div>\n",
       "<table border=\"1\" class=\"dataframe\">\n",
       "  <thead>\n",
       "    <tr style=\"text-align: right;\">\n",
       "      <th></th>\n",
       "      <th>box</th>\n",
       "      <th>filename</th>\n",
       "      <th>label</th>\n",
       "    </tr>\n",
       "  </thead>\n",
       "  <tbody>\n",
       "    <tr>\n",
       "      <th>0</th>\n",
       "      <td>[[21, 16, 34, 56], [55, 6, 26, 56], [80, 1, 42...</td>\n",
       "      <td>1380.png</td>\n",
       "      <td>[5, 10, 10]</td>\n",
       "    </tr>\n",
       "    <tr>\n",
       "      <th>1</th>\n",
       "      <td>[[5, 4, 11, 22], [15, 2, 14, 22]]</td>\n",
       "      <td>1781.png</td>\n",
       "      <td>[5, 3]</td>\n",
       "    </tr>\n",
       "    <tr>\n",
       "      <th>2</th>\n",
       "      <td>[[9, 16, 24, 48], [36, 17, 25, 48], [63, 14, 2...</td>\n",
       "      <td>1166.png</td>\n",
       "      <td>[4, 9, 10]</td>\n",
       "    </tr>\n",
       "  </tbody>\n",
       "</table>\n",
       "</div>"
      ],
      "text/plain": [
       "                                                 box  filename        label\n",
       "0  [[21, 16, 34, 56], [55, 6, 26, 56], [80, 1, 42...  1380.png  [5, 10, 10]\n",
       "1                  [[5, 4, 11, 22], [15, 2, 14, 22]]  1781.png       [5, 3]\n",
       "2  [[9, 16, 24, 48], [36, 17, 25, 48], [63, 14, 2...  1166.png   [4, 9, 10]"
      ]
     },
     "metadata": {},
     "output_type": "display_data"
    }
   ],
   "source": [
    "hide_code\n",
    "\n",
    "# train_g.to_csv('train_group.csv', index=False)\n",
    "# test_g.to_csv('test_group.csv', index=False)\n",
    "# extra_g.to_csv('extra_group.csv', index=False)\n",
    "display(train_g.head(3))\n",
    "display(test_g.head(3))\n",
    "display(extra_g.head(3))"
   ]
  },
  {
   "cell_type": "code",
   "execution_count": 19,
   "metadata": {
    "collapsed": false
   },
   "outputs": [
    {
     "data": {
      "text/html": [
       "<div>\n",
       "<table border=\"1\" class=\"dataframe\">\n",
       "  <thead>\n",
       "    <tr style=\"text-align: right;\">\n",
       "      <th></th>\n",
       "      <th>box</th>\n",
       "      <th>filename</th>\n",
       "      <th>label</th>\n",
       "    </tr>\n",
       "  </thead>\n",
       "  <tbody>\n",
       "    <tr>\n",
       "      <th>0</th>\n",
       "      <td>[[33, 10, 12, 24] [45, 10, 11, 24]]</td>\n",
       "      <td>5502.png</td>\n",
       "      <td>[3 5]</td>\n",
       "    </tr>\n",
       "    <tr>\n",
       "      <th>1</th>\n",
       "      <td>[[35, 7, 11, 37] [44, 3, 11, 37]]</td>\n",
       "      <td>6876.png</td>\n",
       "      <td>[1 5]</td>\n",
       "    </tr>\n",
       "    <tr>\n",
       "      <th>2</th>\n",
       "      <td>[[99, 32, 35, 51] [125, 29, 31, 51]]</td>\n",
       "      <td>12741.png</td>\n",
       "      <td>[2 9]</td>\n",
       "    </tr>\n",
       "  </tbody>\n",
       "</table>\n",
       "</div>"
      ],
      "text/plain": [
       "                                    box   filename  label\n",
       "0   [[33, 10, 12, 24] [45, 10, 11, 24]]   5502.png  [3 5]\n",
       "1     [[35, 7, 11, 37] [44, 3, 11, 37]]   6876.png  [1 5]\n",
       "2  [[99, 32, 35, 51] [125, 29, 31, 51]]  12741.png  [2 9]"
      ]
     },
     "metadata": {},
     "output_type": "display_data"
    },
    {
     "data": {
      "text/html": [
       "<div>\n",
       "<table border=\"1\" class=\"dataframe\">\n",
       "  <thead>\n",
       "    <tr style=\"text-align: right;\">\n",
       "      <th></th>\n",
       "      <th>box</th>\n",
       "      <th>filename</th>\n",
       "      <th>label</th>\n",
       "    </tr>\n",
       "  </thead>\n",
       "  <tbody>\n",
       "    <tr>\n",
       "      <th>0</th>\n",
       "      <td>[[35, 10, 15, 22] [51, 9, 12, 22] [63, 10, 12,...</td>\n",
       "      <td>5502.png</td>\n",
       "      <td>[1 7 1]</td>\n",
       "    </tr>\n",
       "    <tr>\n",
       "      <th>1</th>\n",
       "      <td>[[135, 40, 10, 22] [146, 38, 16, 22]]</td>\n",
       "      <td>1166.png</td>\n",
       "      <td>[1 7]</td>\n",
       "    </tr>\n",
       "    <tr>\n",
       "      <th>2</th>\n",
       "      <td>[[125, 37, 17, 25] [141, 41, 16, 25]]</td>\n",
       "      <td>506.png</td>\n",
       "      <td>[2 8]</td>\n",
       "    </tr>\n",
       "  </tbody>\n",
       "</table>\n",
       "</div>"
      ],
      "text/plain": [
       "                                                 box  filename    label\n",
       "0  [[35, 10, 15, 22] [51, 9, 12, 22] [63, 10, 12,...  5502.png  [1 7 1]\n",
       "1              [[135, 40, 10, 22] [146, 38, 16, 22]]  1166.png    [1 7]\n",
       "2              [[125, 37, 17, 25] [141, 41, 16, 25]]   506.png    [2 8]"
      ]
     },
     "metadata": {},
     "output_type": "display_data"
    },
    {
     "data": {
      "text/html": [
       "<div>\n",
       "<table border=\"1\" class=\"dataframe\">\n",
       "  <thead>\n",
       "    <tr style=\"text-align: right;\">\n",
       "      <th></th>\n",
       "      <th>box</th>\n",
       "      <th>filename</th>\n",
       "      <th>label</th>\n",
       "    </tr>\n",
       "  </thead>\n",
       "  <tbody>\n",
       "    <tr>\n",
       "      <th>0</th>\n",
       "      <td>[[21, 16, 34, 56] [55, 6, 26, 56] [80, 1, 42, ...</td>\n",
       "      <td>1380.png</td>\n",
       "      <td>[ 5 10 10]</td>\n",
       "    </tr>\n",
       "    <tr>\n",
       "      <th>1</th>\n",
       "      <td>[[5, 4, 11, 22] [15, 2, 14, 22]]</td>\n",
       "      <td>1781.png</td>\n",
       "      <td>[5 3]</td>\n",
       "    </tr>\n",
       "    <tr>\n",
       "      <th>2</th>\n",
       "      <td>[[9, 16, 24, 48] [36, 17, 25, 48] [63, 14, 29,...</td>\n",
       "      <td>1166.png</td>\n",
       "      <td>[ 4  9 10]</td>\n",
       "    </tr>\n",
       "  </tbody>\n",
       "</table>\n",
       "</div>"
      ],
      "text/plain": [
       "                                                 box  filename       label\n",
       "0  [[21, 16, 34, 56] [55, 6, 26, 56] [80, 1, 42, ...  1380.png  [ 5 10 10]\n",
       "1                   [[5, 4, 11, 22] [15, 2, 14, 22]]  1781.png       [5 3]\n",
       "2  [[9, 16, 24, 48] [36, 17, 25, 48] [63, 14, 29,...  1166.png  [ 4  9 10]"
      ]
     },
     "metadata": {},
     "output_type": "display_data"
    }
   ],
   "source": [
    "hide_code\n",
    "\n",
    "train_b = pd.read_csv(\"train_group.csv\")\n",
    "test_b = pd.read_csv(\"test_group.csv\")\n",
    "extra_b = pd.read_csv(\"extra_group.csv\")\n",
    "\n",
    "display(train_b.head(3))\n",
    "display(test_b.head(3))\n",
    "display(extra_b.head(3))"
   ]
  },
  {
   "cell_type": "markdown",
   "metadata": {},
   "source": [
    "***Checking labels***"
   ]
  },
  {
   "cell_type": "code",
   "execution_count": 20,
   "metadata": {
    "collapsed": false
   },
   "outputs": [],
   "source": [
    "hide_code\n",
    "\n",
    "train_labels = np.array([get_labels(train_b['label'][i]) for i in range(len(train_b))])\n",
    "train_filenames = train_b['filename']\n",
    "\n",
    "test_labels = np.array([get_labels(test_b['label'][i]) for i in range(len(test_b))])\n",
    "test_filenames = test_b['filename']\n",
    "\n",
    "extra_labels = np.array([get_labels(extra_b['label'][i]) for i in range(len(extra_b))])\n",
    "extra_filenames = extra_b['filename']"
   ]
  },
  {
   "cell_type": "code",
   "execution_count": 21,
   "metadata": {
    "collapsed": false
   },
   "outputs": [
    {
     "data": {
      "text/plain": [
       "array([29190])"
      ]
     },
     "execution_count": 21,
     "metadata": {},
     "output_type": "execute_result"
    }
   ],
   "source": [
    "hide_code\n",
    "\n",
    "np.where([len(train_labels[i])>5 for i in range(len(train_b))])[0]"
   ]
  },
  {
   "cell_type": "code",
   "execution_count": 22,
   "metadata": {
    "collapsed": false
   },
   "outputs": [
    {
     "data": {
      "text/plain": [
       "array([], dtype=int64)"
      ]
     },
     "execution_count": 22,
     "metadata": {},
     "output_type": "execute_result"
    }
   ],
   "source": [
    "hide_code\n",
    "\n",
    "np.where([len(test_labels[i])>5 for i in range(len(test_b))])[0]"
   ]
  },
  {
   "cell_type": "code",
   "execution_count": 23,
   "metadata": {
    "collapsed": false
   },
   "outputs": [
    {
     "data": {
      "text/plain": [
       "array([], dtype=int64)"
      ]
     },
     "execution_count": 23,
     "metadata": {},
     "output_type": "execute_result"
    }
   ],
   "source": [
    "hide_code\n",
    "\n",
    "np.where([len(extra_labels[i])>5 for i in range(len(extra_b))])[0]"
   ]
  },
  {
   "cell_type": "code",
   "execution_count": 24,
   "metadata": {
    "collapsed": false
   },
   "outputs": [
    {
     "data": {
      "text/plain": [
       "0"
      ]
     },
     "execution_count": 24,
     "metadata": {},
     "output_type": "execute_result"
    }
   ],
   "source": [
    "hide_code\n",
    "\n",
    "sum(np.array([len(train_labels[i])==0 for i in range(len(train_b))]))"
   ]
  },
  {
   "cell_type": "code",
   "execution_count": 25,
   "metadata": {
    "collapsed": false
   },
   "outputs": [
    {
     "data": {
      "text/plain": [
       "0"
      ]
     },
     "execution_count": 25,
     "metadata": {},
     "output_type": "execute_result"
    }
   ],
   "source": [
    "hide_code\n",
    "\n",
    "sum(np.array([len(test_labels[i])==0 for i in range(len(test_b))]))"
   ]
  },
  {
   "cell_type": "code",
   "execution_count": 26,
   "metadata": {
    "collapsed": false
   },
   "outputs": [
    {
     "data": {
      "text/plain": [
       "0"
      ]
     },
     "execution_count": 26,
     "metadata": {},
     "output_type": "execute_result"
    }
   ],
   "source": [
    "hide_code\n",
    "\n",
    "sum(np.array([len(extra_labels[i])==0 for i in range(len(extra_b))]))"
   ]
  },
  {
   "cell_type": "code",
   "execution_count": 27,
   "metadata": {
    "collapsed": false
   },
   "outputs": [],
   "source": [
    "hide_code\n",
    "\n",
    "for i in range(len(train_labels)):\n",
    "    train_labels[i][train_labels[i] > 9] = 0\n",
    "    \n",
    "for i in range(len(test_labels)):\n",
    "    test_labels[i][test_labels[i] > 9] = 0\n",
    "    \n",
    "for i in range(len(extra_labels)):\n",
    "    extra_labels[i][extra_labels[i] > 9] = 0"
   ]
  },
  {
   "cell_type": "code",
   "execution_count": 28,
   "metadata": {
    "collapsed": false
   },
   "outputs": [],
   "source": [
    "hide_code\n",
    "\n",
    "train_labels = np.delete(train_labels, 29190, 0)\n",
    "train_filenames = train_filenames.drop([29190])\n",
    "\n",
    "train_labels = np.array([fivedigit_label(train_labels[i]) for i in range(len(train_labels))])\n",
    "test_labels = np.array([fivedigit_label(test_labels[i]) for i in range(len(test_labels))])\n",
    "extra_labels = np.array([fivedigit_label(extra_labels[i]) for i in range(len(extra_labels))])"
   ]
  },
  {
   "cell_type": "markdown",
   "metadata": {},
   "source": [
    "***Displaying examples of preprocessing***"
   ]
  },
  {
   "cell_type": "code",
   "execution_count": 29,
   "metadata": {
    "collapsed": false
   },
   "outputs": [
    {
     "name": "stdout",
     "output_type": "stream",
     "text": [
      "Initial image size: (81, 120, 3)\n",
      "Digit boxes:\n",
      " [[12  9 30 55]\n",
      " [36 11 31 55]]\n",
      "Digits' box:  [13 67 10 66]\n",
      "Final image size:  (64, 64)\n",
      "Final image label:  [[ 10.  10.  10.   4.   1.]]\n",
      "\n",
      "Example of image preprocessing\n"
     ]
    },
    {
     "data": {
      "image/png": "[encoded data removed]",
      "text/plain": [
       "<matplotlib.figure.Figure at 0x1254fd4a8>"
      ]
     },
     "metadata": {},
     "output_type": "display_data"
    }
   ],
   "source": [
    "hide_code\n",
    "\n",
    "image1 = scipy.ndimage.imread('train/30065.png')\n",
    "print(\"Initial image size:\", image1.shape)\n",
    "\n",
    "n1 = np.where(train_filenames == '30065.png')[0]\n",
    "label1 = train_labels[n1]\n",
    "\n",
    "box1 = np.array(get_box(train_b['box'][n1]))\n",
    "print(\"Digit boxes:\\n\", box1)\n",
    "box_n1 = image_box(box1)\n",
    "print(\"Digits' box: \", box_n1)\n",
    "\n",
    "image_n1 = image1[box_n1[2]:box_n1[3], box_n1[0]:box_n1[1]]\n",
    "image64_1 = scipy.misc.imresize(image_n1, (64, 64))/255\n",
    "image64_2 = np.dot(np.array(image64_1, dtype='float32'), [0.299, 0.587, 0.114])\n",
    "\n",
    "print(\"Final image size: \", image64_2.shape)\n",
    "print(\"Final image label: \", label1)\n",
    "print('\\nExample of image preprocessing')\n",
    "\n",
    "plt.imshow(image64_1, cmap=plt.cm.Blues);"
   ]
  },
  {
   "cell_type": "code",
   "execution_count": 30,
   "metadata": {
    "collapsed": false
   },
   "outputs": [
    {
     "name": "stdout",
     "output_type": "stream",
     "text": [
      "Image size:  (32, 32)\n",
      "Image label:  [[ 10.  10.  10.   2.   1.]]\n",
      "\n",
      "Example of image preprocessing with the function\n"
     ]
    },
    {
     "data": {
      "image/png": "[encoded data removed]",
      "text/plain": [
       "<matplotlib.figure.Figure at 0x12914af28>"
      ]
     },
     "metadata": {},
     "output_type": "display_data"
    }
   ],
   "source": [
    "hide_code\n",
    "\n",
    "image_example = get_image('train', '178.png')\n",
    "\n",
    "print(\"Image size: \", image_example[1].shape)\n",
    "print(\"Image label: \", image_example[2])\n",
    "print('\\nExample of image preprocessing with the function')\n",
    "plt.imshow(image_example[1], cmap=plt.cm.Blues);"
   ]
  },
  {
   "cell_type": "markdown",
   "metadata": {},
   "source": [
    "***Image preprocessing. Variant #1***"
   ]
  },
  {
   "cell_type": "code",
   "execution_count": 60,
   "metadata": {
    "collapsed": false
   },
   "outputs": [
    {
     "name": "stdout",
     "output_type": "stream",
     "text": [
      "Applying the preprocessing function\n"
     ]
    }
   ],
   "source": [
    "hide_code\n",
    "\n",
    "print(\"Applying the preprocessing function\")\n",
    "# train_images1 = np.array([get_image('train', x)[0] for x in train_filenames[:13000])\n",
    "# train_images2 = np.array([get_image('train', x)[1] for x in train_filenames[:13000]])\n",
    "\n",
    "# test_images1 = np.array([get_image('test', x)[0] for x in test_filenames[:6000]])\n",
    "# test_images2 = np.array([get_image('test', x)[1] for x in test_filenames[:6000]])\n",
    "\n",
    "# extra_images1 = np.array([get_image('extra', x)[0] for x in extra_filenames[:13000]])\n",
    "# extra_images2 = np.array([get_image('extra', x)[1] for x in extra_filenames[:13000]])"
   ]
  },
  {
   "cell_type": "markdown",
   "metadata": {},
   "source": [
    "***Image preprocessing. Variant #2***"
   ]
  },
  {
   "cell_type": "markdown",
   "metadata": {},
   "source": [
    "#### Set #1: 13 000 train data points, 6 000 test data points, 13 000 extra data points"
   ]
  },
  {
   "cell_type": "code",
   "execution_count": 31,
   "metadata": {
    "collapsed": false
   },
   "outputs": [
    {
     "name": "stdout",
     "output_type": "stream",
     "text": [
      "1000\n",
      "2000\n",
      "3000\n",
      "4000\n",
      "5000\n",
      "6000\n",
      "7000\n",
      "8000\n"
     ]
    }
   ],
   "source": [
    "hide_code\n",
    "\n",
    "train_images01 = np.array([get_image('train', x)[0] for x in train_filenames[:1000]])\n",
    "train_images02 = np.array([get_image('train', x)[1] for x in train_filenames[:1000]]) \n",
    "\n",
    "i= 1000\n",
    "print(i)\n",
    "\n",
    "while i < 7001: \n",
    "\n",
    "        train_images11 = np.array([get_image('train', x)[0] for x in train_filenames[i:i+1000]])\n",
    "        train_images12 = np.array([get_image('train', x)[1] for x in train_filenames[i:i+1000]]) \n",
    "        \n",
    "        train_images1 = np.concatenate((train_images01, train_images11), axis=0)\n",
    "        train_images2 = np.concatenate((train_images02, train_images12), axis=0)\n",
    "        \n",
    "        train_images01 = train_images1\n",
    "        train_images02 = train_images2\n",
    "        \n",
    "        i += 1000\n",
    "        print(i)"
   ]
  },
  {
   "cell_type": "code",
   "execution_count": 32,
   "metadata": {
    "collapsed": false
   },
   "outputs": [
    {
     "data": {
      "text/plain": [
       "8000"
      ]
     },
     "execution_count": 32,
     "metadata": {},
     "output_type": "execute_result"
    }
   ],
   "source": [
    "hide_code\n",
    "\n",
    "train_images_8000_1 = train_images1\n",
    "train_images_8000_2 = train_images2\n",
    "\n",
    "len(train_images_8000_1)"
   ]
  },
  {
   "cell_type": "code",
   "execution_count": 33,
   "metadata": {
    "collapsed": false
   },
   "outputs": [
    {
     "name": "stdout",
     "output_type": "stream",
     "text": [
      "9000\n",
      "10000\n",
      "11000\n",
      "12000\n",
      "13000\n"
     ]
    }
   ],
   "source": [
    "hide_code\n",
    "\n",
    "train_images01 = np.array([get_image('train', x)[0] for x in train_filenames[8000:9000]])\n",
    "train_images02 = np.array([get_image('train', x)[1] for x in train_filenames[8000:9000]]) \n",
    "\n",
    "i= 9000\n",
    "print(i)\n",
    "\n",
    "while i < 12001: \n",
    "\n",
    "        train_images11 = np.array([get_image('train', x)[0] for x in train_filenames[i:i+1000]])\n",
    "        train_images12 = np.array([get_image('train', x)[1] for x in train_filenames[i:i+1000]]) \n",
    "        \n",
    "        train_images1 = np.concatenate((train_images01, train_images11), axis=0)\n",
    "        train_images2 = np.concatenate((train_images02, train_images12), axis=0)\n",
    "        \n",
    "        train_images01 = train_images1\n",
    "        train_images02 = train_images2\n",
    "        \n",
    "        i += 1000\n",
    "        print(i)"
   ]
  },
  {
   "cell_type": "code",
   "execution_count": 35,
   "metadata": {
    "collapsed": false
   },
   "outputs": [
    {
     "data": {
      "text/plain": [
       "5000"
      ]
     },
     "execution_count": 35,
     "metadata": {},
     "output_type": "execute_result"
    }
   ],
   "source": [
    "hide_code\n",
    "\n",
    "train_images_13000_1 = train_images1\n",
    "train_images_13000_2 = train_images2\n",
    "\n",
    "len(train_images_13000_1)"
   ]
  },
  {
   "cell_type": "code",
   "execution_count": 36,
   "metadata": {
    "collapsed": false
   },
   "outputs": [],
   "source": [
    "hide_code\n",
    "\n",
    "train_images1 = np.concatenate((train_images_8000_1, train_images_13000_1), axis=0)\n",
    "train_images2 = np.concatenate((train_images_8000_2, train_images_13000_2), axis=0)"
   ]
  },
  {
   "cell_type": "code",
   "execution_count": 39,
   "metadata": {
    "collapsed": false
   },
   "outputs": [],
   "source": [
    "hide_code\n",
    "\n",
    "train_images1t = train_images1.reshape(13000, 32*32*3)\n",
    "train_images2t = train_images2.reshape(13000, 32*32)\n",
    "\n",
    "train_images_df1 = pd.DataFrame(data=train_images1t, index = train_filenames[:13000])\n",
    "train_images_df2 = pd.DataFrame(data=train_images2t, index = train_filenames[:13000])\n",
    "train_labels_df = pd.DataFrame(data=train_labels[:13000], index = train_filenames[:13000])\n",
    "\n",
    "with open('train_images1.csv', 'w') as f:\n",
    "    train_images_df1.to_csv(f)\n",
    "with open('train_images2.csv', 'w') as f:\n",
    "    train_images_df2.to_csv(f)    \n",
    "with open('train_labels.csv', 'w') as f:\n",
    "    train_labels_df.to_csv(f)"
   ]
  },
  {
   "cell_type": "code",
   "execution_count": 40,
   "metadata": {
    "collapsed": false
   },
   "outputs": [
    {
     "name": "stdout",
     "output_type": "stream",
     "text": [
      "1000\n",
      "2000\n",
      "3000\n",
      "4000\n",
      "5000\n",
      "6000\n"
     ]
    }
   ],
   "source": [
    "hide_code\n",
    "\n",
    "test_images01 = np.array([get_image('test', x)[0] for x in test_filenames[:1000]])\n",
    "test_images02 = np.array([get_image('test', x)[1] for x in test_filenames[:1000]]) \n",
    "\n",
    "i= 1000\n",
    "print(i)\n",
    "\n",
    "while i < 5001:\n",
    "    \n",
    "    test_images11 = np.array([get_image('test', x)[0] for x in test_filenames[i:i+1000]])\n",
    "    test_images12 = np.array([get_image('test', x)[1] for x in test_filenames[i:i+1000]]) \n",
    "        \n",
    "    test_images1 = np.concatenate((test_images01, test_images11), axis=0)\n",
    "    test_images2 = np.concatenate((test_images02, test_images12), axis=0)\n",
    "        \n",
    "    test_images01 = test_images1\n",
    "    test_images02 = test_images2\n",
    "        \n",
    "    i += 1000\n",
    "    print(i)"
   ]
  },
  {
   "cell_type": "code",
   "execution_count": 41,
   "metadata": {
    "collapsed": false
   },
   "outputs": [
    {
     "data": {
      "text/plain": [
       "6000"
      ]
     },
     "execution_count": 41,
     "metadata": {},
     "output_type": "execute_result"
    }
   ],
   "source": [
    "hide_code\n",
    "\n",
    "test_images_6000_1 = test_images1\n",
    "test_images_6000_2 = test_images2\n",
    "len(test_images_6000_1)"
   ]
  },
  {
   "cell_type": "code",
   "execution_count": 43,
   "metadata": {
    "collapsed": true
   },
   "outputs": [],
   "source": [
    "hide_code\n",
    "\n",
    "test_images1t = test_images1.reshape(6000, 32*32*3)\n",
    "test_images2t = test_images2.reshape(6000, 32*32)\n",
    "\n",
    "test_images_df1 = pd.DataFrame(data=test_images1t, index = test_filenames[:6000])\n",
    "test_images_df2 = pd.DataFrame(data=test_images2t, index = test_filenames[:6000])\n",
    "test_labels_df = pd.DataFrame(data=test_labels[:6000], index = test_filenames[:6000])\n",
    "\n",
    "with open('test_images1.csv', 'w') as f:\n",
    "    test_images_df1.to_csv(f)\n",
    "with open('test_images2.csv', 'w') as f:\n",
    "    test_images_df2.to_csv(f)    \n",
    "with open('test_labels.csv', 'w') as f:\n",
    "    test_labels_df.to_csv(f)"
   ]
  },
  {
   "cell_type": "code",
   "execution_count": 44,
   "metadata": {
    "collapsed": false
   },
   "outputs": [
    {
     "name": "stdout",
     "output_type": "stream",
     "text": [
      "1000\n",
      "2000\n",
      "3000\n",
      "4000\n",
      "5000\n",
      "6000\n",
      "7000\n",
      "8000\n"
     ]
    }
   ],
   "source": [
    "hide_code\n",
    "\n",
    "extra_images01 = np.array([get_image('extra', x)[0] for x in extra_filenames[:1000]])\n",
    "extra_images02 = np.array([get_image('extra', x)[1] for x in extra_filenames[:1000]])\n",
    "\n",
    "i= 1000\n",
    "print(i)\n",
    "\n",
    "while i < 7001:\n",
    "    \n",
    "    extra_images11 = np.array([get_image('extra', x)[0] for x in extra_filenames[i:i+1000]])\n",
    "    extra_images12 = np.array([get_image('extra', x)[1] for x in extra_filenames[i:i+1000]]) \n",
    "        \n",
    "    extra_images1 = np.concatenate((extra_images01, extra_images11), axis=0)\n",
    "    extra_images2 = np.concatenate((extra_images02, extra_images12), axis=0)\n",
    "        \n",
    "    extra_images01 = extra_images1\n",
    "    extra_images02 = extra_images2\n",
    "        \n",
    "    i += 1000\n",
    "    print(i)"
   ]
  },
  {
   "cell_type": "code",
   "execution_count": 45,
   "metadata": {
    "collapsed": false
   },
   "outputs": [
    {
     "data": {
      "text/plain": [
       "8000"
      ]
     },
     "execution_count": 45,
     "metadata": {},
     "output_type": "execute_result"
    }
   ],
   "source": [
    "hide_code\n",
    "\n",
    "extra_images_8000_1 = extra_images1\n",
    "extra_images_8000_2 = extra_images2\n",
    "len(extra_images_8000_1)"
   ]
  },
  {
   "cell_type": "code",
   "execution_count": 46,
   "metadata": {
    "collapsed": false
   },
   "outputs": [
    {
     "name": "stdout",
     "output_type": "stream",
     "text": [
      "9000\n",
      "10000\n",
      "11000\n",
      "12000\n",
      "13000\n"
     ]
    }
   ],
   "source": [
    "hide_code\n",
    "\n",
    "extra_images01 = np.array([get_image('extra', x)[0] for x in extra_filenames[8000:9000]])\n",
    "extra_images02 = np.array([get_image('extra', x)[1] for x in extra_filenames[8000:9000]])\n",
    "\n",
    "i = 9000\n",
    "print(i)\n",
    "\n",
    "while i < 12001:\n",
    "    \n",
    "    extra_images11 = np.array([get_image('extra', x)[0] for x in extra_filenames[i:i+1000]])\n",
    "    extra_images12 = np.array([get_image('extra', x)[1] for x in extra_filenames[i:i+1000]]) \n",
    "        \n",
    "    extra_images1 = np.concatenate((extra_images01, extra_images11), axis=0)\n",
    "    extra_images2 = np.concatenate((extra_images02, extra_images12), axis=0)\n",
    "        \n",
    "    extra_images01 = extra_images1\n",
    "    extra_images02 = extra_images2\n",
    "        \n",
    "    i += 1000\n",
    "    print(i)"
   ]
  },
  {
   "cell_type": "code",
   "execution_count": 47,
   "metadata": {
    "collapsed": false
   },
   "outputs": [
    {
     "data": {
      "text/plain": [
       "5000"
      ]
     },
     "execution_count": 47,
     "metadata": {},
     "output_type": "execute_result"
    }
   ],
   "source": [
    "hide_code\n",
    "\n",
    "extra_images_13000_1 = extra_images1\n",
    "extra_images_13000_2 = extra_images2\n",
    "len(extra_images_13000_1)"
   ]
  },
  {
   "cell_type": "code",
   "execution_count": 48,
   "metadata": {
    "collapsed": true
   },
   "outputs": [],
   "source": [
    "hide_code\n",
    "\n",
    "extra_images1 = np.concatenate((extra_images_8000_1, extra_images_13000_1), axis=0)\n",
    "extra_images2 = np.concatenate((extra_images_8000_2, extra_images_13000_2), axis=0)"
   ]
  },
  {
   "cell_type": "code",
   "execution_count": 50,
   "metadata": {
    "collapsed": true
   },
   "outputs": [],
   "source": [
    "hide_code\n",
    "\n",
    "extra_images1t = extra_images1.reshape(13000, 32*32*3)\n",
    "extra_images2t = extra_images2.reshape(13000, 32*32)\n",
    "\n",
    "extra_images_df1 = pd.DataFrame(data=extra_images1t, index = extra_filenames[:13000])\n",
    "extra_images_df2 = pd.DataFrame(data=extra_images2t, index = extra_filenames[:13000])\n",
    "extra_labels_df = pd.DataFrame(data=extra_labels[:13000], index = extra_filenames[:13000])\n",
    "\n",
    "with open('extra_images1.csv', 'w') as f:\n",
    "    extra_images_df1.to_csv(f)\n",
    "with open('extra_images2.csv', 'w') as f:\n",
    "    extra_images_df2.to_csv(f)    \n",
    "with open('extra_labels.csv', 'w') as f:\n",
    "    extra_labels_df.to_csv(f)"
   ]
  },
  {
   "cell_type": "code",
   "execution_count": 51,
   "metadata": {
    "collapsed": false
   },
   "outputs": [
    {
     "name": "stdout",
     "output_type": "stream",
     "text": [
      "Compressed pickle size: 1050431359\n"
     ]
    }
   ],
   "source": [
    "hide_code\n",
    "\n",
    "pickle_file = 'svhn1.pickle'\n",
    "\n",
    "try:\n",
    "    f = open(pickle_file, 'wb')\n",
    "    save = {'train_images1': train_images1, 'train_images2': train_images2,\n",
    "            'train_labels': train_labels[:13000], 'train_filenames': train_filenames[:13000],\n",
    "            'test_images1': test_images1, 'test_images2': test_images2,\n",
    "            'test_labels': test_labels[:6000], 'test_filenames': test_filenames[:6000],\n",
    "            'extra_images1': extra_images1, 'extra_images2': extra_images2,\n",
    "            'extra_labels': extra_labels[:13000], 'extra_filenames': extra_filenames[:13000]}\n",
    "    pickle.dump(save, f, pickle.HIGHEST_PROTOCOL)\n",
    "    f.close()\n",
    "except Exception as e:\n",
    "    print('Unable to save data to', pickle_file, ':', e)\n",
    "    raise\n",
    "\n",
    "del save\n",
    "    \n",
    "statinfo = os.stat(pickle_file)\n",
    "print('Compressed pickle size:', statinfo.st_size)"
   ]
  },
  {
   "cell_type": "markdown",
   "metadata": {},
   "source": [
    "#### Set #2: 13 000 train data points, 6 000 test data points, 13 000 extra data points"
   ]
  },
  {
   "cell_type": "code",
   "execution_count": 54,
   "metadata": {
    "collapsed": false
   },
   "outputs": [
    {
     "name": "stdout",
     "output_type": "stream",
     "text": [
      "14000\n",
      "15000\n",
      "16000\n",
      "17000\n",
      "18000\n",
      "19000\n"
     ]
    }
   ],
   "source": [
    "hide_code\n",
    "\n",
    "train_images01 = np.array([get_image('train', x)[0] for x in train_filenames[13000:14000]])\n",
    "train_images02 = np.array([get_image('train', x)[1] for x in train_filenames[13000:14000]]) \n",
    "\n",
    "i= 14000\n",
    "print(i)\n",
    "\n",
    "while i < 18001: \n",
    "    \n",
    "        train_images11 = np.array([get_image('train', x)[0] for x in train_filenames[i:i+1000]])\n",
    "        train_images12 = np.array([get_image('train', x)[1] for x in train_filenames[i:i+1000]]) \n",
    "        \n",
    "        train_images1 = np.concatenate((train_images01, train_images11), axis=0)\n",
    "        train_images2 = np.concatenate((train_images02, train_images12), axis=0)\n",
    "        \n",
    "        train_images01 = train_images1\n",
    "        train_images02 = train_images2\n",
    "        \n",
    "        i += 1000\n",
    "        print(i)"
   ]
  },
  {
   "cell_type": "code",
   "execution_count": 55,
   "metadata": {
    "collapsed": false
   },
   "outputs": [
    {
     "data": {
      "text/plain": [
       "6000"
      ]
     },
     "execution_count": 55,
     "metadata": {},
     "output_type": "execute_result"
    }
   ],
   "source": [
    "hide_code\n",
    "\n",
    "train_images_19000_1 = train_images1\n",
    "train_images_19000_2 = train_images2\n",
    "len(train_images_19000_1)"
   ]
  },
  {
   "cell_type": "code",
   "execution_count": 56,
   "metadata": {
    "collapsed": false
   },
   "outputs": [
    {
     "name": "stdout",
     "output_type": "stream",
     "text": [
      "20000\n",
      "21000\n",
      "22000\n",
      "23000\n",
      "24000\n",
      "25000\n",
      "26000\n"
     ]
    }
   ],
   "source": [
    "hide_code\n",
    "\n",
    "train_images01 = np.array([get_image('train', x)[0] for x in train_filenames[19000:20000]])\n",
    "train_images02 = np.array([get_image('train', x)[1] for x in train_filenames[19000:20000]]) \n",
    "\n",
    "i= 20000\n",
    "print(i)\n",
    "\n",
    "while i < 25001: \n",
    "    \n",
    "        train_images11 = np.array([get_image('train', x)[0] for x in train_filenames[i:i+1000]])\n",
    "        train_images12 = np.array([get_image('train', x)[1] for x in train_filenames[i:i+1000]]) \n",
    "        \n",
    "        train_images1 = np.concatenate((train_images01, train_images11), axis=0)\n",
    "        train_images2 = np.concatenate((train_images02, train_images12), axis=0)\n",
    "        \n",
    "        train_images01 = train_images1\n",
    "        train_images02 = train_images2\n",
    "        \n",
    "        i += 1000\n",
    "        print(i)"
   ]
  },
  {
   "cell_type": "code",
   "execution_count": 57,
   "metadata": {
    "collapsed": false
   },
   "outputs": [
    {
     "data": {
      "text/plain": [
       "7000"
      ]
     },
     "execution_count": 57,
     "metadata": {},
     "output_type": "execute_result"
    }
   ],
   "source": [
    "hide_code\n",
    "\n",
    "train_images_26000_1 = train_images1\n",
    "train_images_26000_2 = train_images2\n",
    "len(train_images_26000_1)"
   ]
  },
  {
   "cell_type": "code",
   "execution_count": 58,
   "metadata": {
    "collapsed": true
   },
   "outputs": [],
   "source": [
    "hide_code\n",
    "\n",
    "train_images1 = np.concatenate((train_images_19000_1, train_images_26000_1), axis=0)\n",
    "train_images2 = np.concatenate((train_images_19000_2, train_images_26000_2), axis=0)"
   ]
  },
  {
   "cell_type": "code",
   "execution_count": 61,
   "metadata": {
    "collapsed": true
   },
   "outputs": [],
   "source": [
    "hide_code\n",
    "\n",
    "train_images1t = train_images1.reshape(13000, 32*32*3)\n",
    "train_images2t = train_images2.reshape(13000, 32*32)\n",
    "\n",
    "train_images_df1 = pd.DataFrame(data=train_images1t, index = train_filenames[13000:26000])\n",
    "train_images_df2 = pd.DataFrame(data=train_images2t, index = train_filenames[13000:26000])\n",
    "train_labels_df = pd.DataFrame(data=train_labels[13000:26000], index = train_filenames[13000:26000])\n",
    "\n",
    "with open('train_images1_2.csv', 'w') as f:\n",
    "    train_images_df1.to_csv(f)\n",
    "with open('train_images2_2.csv', 'w') as f:\n",
    "    train_images_df2.to_csv(f)    \n",
    "with open('train_labels_2.csv', 'w') as f:\n",
    "    train_labels_df.to_csv(f)"
   ]
  },
  {
   "cell_type": "code",
   "execution_count": 62,
   "metadata": {
    "collapsed": false
   },
   "outputs": [
    {
     "name": "stdout",
     "output_type": "stream",
     "text": [
      "8000\n",
      "9000\n",
      "10000\n",
      "11000\n",
      "12000\n",
      "13000\n"
     ]
    }
   ],
   "source": [
    "hide_code\n",
    "\n",
    "test_images01 = np.array([get_image('test', x)[0] for x in test_filenames[7000:8000]])\n",
    "test_images02 = np.array([get_image('test', x)[1] for x in test_filenames[7000:8000]])\n",
    "\n",
    "i= 8000\n",
    "print(i)\n",
    "\n",
    "while i < 12001:\n",
    "    \n",
    "    test_images11 = np.array([get_image('test', x)[0] for x in test_filenames[i:i+1000]])\n",
    "    test_images12 = np.array([get_image('test', x)[1] for x in test_filenames[i:i+1000]]) \n",
    "        \n",
    "    test_images1 = np.concatenate((test_images01, test_images11), axis=0)\n",
    "    test_images2 = np.concatenate((test_images02, test_images12), axis=0)\n",
    "        \n",
    "    test_images01 = test_images1\n",
    "    test_images02 = test_images2\n",
    "        \n",
    "    i += 1000\n",
    "    print(i)"
   ]
  },
  {
   "cell_type": "code",
   "execution_count": 63,
   "metadata": {
    "collapsed": false
   },
   "outputs": [
    {
     "data": {
      "text/plain": [
       "6000"
      ]
     },
     "execution_count": 63,
     "metadata": {},
     "output_type": "execute_result"
    }
   ],
   "source": [
    "hide_code\n",
    "\n",
    "test_images_13000_1 = test_images1\n",
    "test_images_13000_2 = test_images2\n",
    "len(test_images_13000_1)"
   ]
  },
  {
   "cell_type": "code",
   "execution_count": 66,
   "metadata": {
    "collapsed": true
   },
   "outputs": [],
   "source": [
    "hide_code\n",
    "\n",
    "test_images1t = test_images1.reshape(6000, 32*32*3)\n",
    "test_images2t = test_images2.reshape(6000, 32*32)\n",
    "\n",
    "test_images_df1 = pd.DataFrame(data=test_images1t, index = test_filenames[7000:13000])\n",
    "test_images_df2 = pd.DataFrame(data=test_images2t, index = test_filenames[7000:13000])\n",
    "test_labels_df = pd.DataFrame(data=test_labels[7000:13000], index = test_filenames[7000:13000])\n",
    "\n",
    "with open('test_images1_2.csv', 'w') as f:\n",
    "    test_images_df1.to_csv(f)\n",
    "with open('test_images2_2.csv', 'w') as f:\n",
    "    test_images_df2.to_csv(f)    \n",
    "with open('test_labels_2.csv', 'w') as f:\n",
    "    test_labels_df.to_csv(f)"
   ]
  },
  {
   "cell_type": "code",
   "execution_count": 67,
   "metadata": {
    "collapsed": false
   },
   "outputs": [
    {
     "name": "stdout",
     "output_type": "stream",
     "text": [
      "14000\n",
      "15000\n",
      "16000\n",
      "17000\n",
      "18000\n",
      "19000\n"
     ]
    }
   ],
   "source": [
    "hide_code\n",
    "\n",
    "extra_images01 = np.array([get_image('extra', x)[0] for x in extra_filenames[13000:14000]])\n",
    "extra_images02 = np.array([get_image('extra', x)[1] for x in extra_filenames[13000:14000]])\n",
    "\n",
    "i= 14000\n",
    "print(i)\n",
    "\n",
    "while i < 18001:\n",
    "    \n",
    "    extra_images11 = np.array([get_image('extra', x)[0] for x in extra_filenames[i:i+1000]])\n",
    "    extra_images12 = np.array([get_image('extra', x)[1] for x in extra_filenames[i:i+1000]]) \n",
    "        \n",
    "    extra_images1 = np.concatenate((extra_images01, extra_images11), axis=0)\n",
    "    extra_images2 = np.concatenate((extra_images02, extra_images12), axis=0)\n",
    "        \n",
    "    extra_images01 = extra_images1\n",
    "    extra_images02 = extra_images2\n",
    "        \n",
    "    i += 1000\n",
    "    print(i)"
   ]
  },
  {
   "cell_type": "code",
   "execution_count": 68,
   "metadata": {
    "collapsed": false
   },
   "outputs": [
    {
     "data": {
      "text/plain": [
       "6000"
      ]
     },
     "execution_count": 68,
     "metadata": {},
     "output_type": "execute_result"
    }
   ],
   "source": [
    "hide_code\n",
    "\n",
    "extra_images_19000_1 = extra_images1\n",
    "extra_images_19000_2 = extra_images2\n",
    "len(extra_images_19000_1)"
   ]
  },
  {
   "cell_type": "code",
   "execution_count": 78,
   "metadata": {
    "collapsed": false
   },
   "outputs": [
    {
     "name": "stdout",
     "output_type": "stream",
     "text": [
      "26000\n",
      "27000\n",
      "28000\n",
      "29000\n",
      "30000\n",
      "31000\n",
      "32000\n"
     ]
    }
   ],
   "source": [
    "hide_code\n",
    "\n",
    "extra_images01 = np.array([get_image('extra', x)[0] for x in extra_filenames[25000:26000]])\n",
    "extra_images02 = np.array([get_image('extra', x)[1] for x in extra_filenames[25000:26000]])\n",
    "\n",
    "i= 26000\n",
    "print(i)\n",
    "\n",
    "while i < 31001:\n",
    "    \n",
    "    extra_images11 = np.array([get_image('extra', x)[0] for x in extra_filenames[i:i+1000]])\n",
    "    extra_images12 = np.array([get_image('extra', x)[1] for x in extra_filenames[i:i+1000]]) \n",
    "        \n",
    "    extra_images1 = np.concatenate((extra_images01, extra_images11), axis=0)\n",
    "    extra_images2 = np.concatenate((extra_images02, extra_images12), axis=0)\n",
    "        \n",
    "    extra_images01 = extra_images1\n",
    "    extra_images02 = extra_images2\n",
    "        \n",
    "    i += 1000\n",
    "    print(i)"
   ]
  },
  {
   "cell_type": "code",
   "execution_count": 79,
   "metadata": {
    "collapsed": false
   },
   "outputs": [
    {
     "data": {
      "text/plain": [
       "7000"
      ]
     },
     "execution_count": 79,
     "metadata": {},
     "output_type": "execute_result"
    }
   ],
   "source": [
    "hide_code\n",
    "\n",
    "extra_images_32000_1 = extra_images1\n",
    "extra_images_32000_2 = extra_images2\n",
    "len(extra_images_32000_1)"
   ]
  },
  {
   "cell_type": "code",
   "execution_count": 80,
   "metadata": {
    "collapsed": true
   },
   "outputs": [],
   "source": [
    "hide_code\n",
    "\n",
    "extra_images1 = np.concatenate((extra_images_19000_1, extra_images_32000_1), axis=0)\n",
    "extra_images2 = np.concatenate((extra_images_19000_2, extra_images_32000_2), axis=0)\n",
    "extra_filenames2 = np.concatenate((extra_filenames[13000:19000], extra_filenames[25000:32000]), axis=0)\n",
    "extra_labels2 = np.concatenate((extra_labels[13000:19000], extra_labels[25000:32000]), axis=0)"
   ]
  },
  {
   "cell_type": "code",
   "execution_count": 82,
   "metadata": {
    "collapsed": true
   },
   "outputs": [],
   "source": [
    "hide_code\n",
    "\n",
    "extra_images1t = extra_images1.reshape(13000, 32*32*3)\n",
    "extra_images2t = extra_images2.reshape(13000, 32*32)\n",
    "\n",
    "extra_images_df1 = pd.DataFrame(data=extra_images1t, index = extra_filenames2)\n",
    "extra_images_df2 = pd.DataFrame(data=extra_images2t, index = extra_filenames2)\n",
    "extra_labels_df = pd.DataFrame(data=extra_labels2, index = extra_filenames2)\n",
    "\n",
    "with open('extra_images1_2.csv', 'w') as f:\n",
    "    extra_images_df1.to_csv(f)\n",
    "with open('extra_images2_2.csv', 'w') as f:\n",
    "    extra_images_df2.to_csv(f)    \n",
    "with open('extra_labels_2.csv', 'w') as f:\n",
    "    extra_labels_df.to_csv(f)"
   ]
  },
  {
   "cell_type": "code",
   "execution_count": 83,
   "metadata": {
    "collapsed": false
   },
   "outputs": [
    {
     "name": "stdout",
     "output_type": "stream",
     "text": [
      "Compressed pickle size: 1050440267\n"
     ]
    }
   ],
   "source": [
    "hide_code\n",
    "\n",
    "pickle_file = 'svhn2.pickle'\n",
    "\n",
    "try:\n",
    "    f = open(pickle_file, 'wb')\n",
    "    save = {'train_images1': train_images1, 'train_images2': train_images2,\n",
    "            'train_labels': train_labels[13000:26000], 'train_filenames': train_filenames[13000:26000],\n",
    "            'test_images1': test_images1, 'test_images2': test_images2,\n",
    "            'test_labels': test_labels[7000:13000], 'test_filenames': test_filenames[7000:13000],\n",
    "            'extra_images1': extra_images1, 'extra_images2': extra_images2,\n",
    "            'extra_labels': extra_labels2, 'extra_filenames': extra_filenames2}\n",
    "    pickle.dump(save, f, pickle.HIGHEST_PROTOCOL)\n",
    "    f.close()\n",
    "except Exception as e:\n",
    "    print('Unable to save data to', pickle_file, ':', e)\n",
    "    raise\n",
    "\n",
    "del save\n",
    "    \n",
    "statinfo = os.stat(pickle_file)\n",
    "print('Compressed pickle size:', statinfo.st_size)"
   ]
  },
  {
   "cell_type": "markdown",
   "metadata": {
    "collapsed": true
   },
   "source": [
    "*** Loading and preparing features and targets***"
   ]
  },
  {
   "cell_type": "code",
   "execution_count": 16,
   "metadata": {
    "collapsed": false
   },
   "outputs": [
    {
     "data": {
      "text/html": [
       "<div>\n",
       "<style>\n",
       "    .dataframe thead tr:only-child th {\n",
       "        text-align: right;\n",
       "    }\n",
       "\n",
       "    .dataframe thead th {\n",
       "        text-align: left;\n",
       "    }\n",
       "\n",
       "    .dataframe tbody tr th {\n",
       "        vertical-align: top;\n",
       "    }\n",
       "</style>\n",
       "<table border=\"1\" class=\"dataframe\">\n",
       "  <thead>\n",
       "    <tr style=\"text-align: right;\">\n",
       "      <th></th>\n",
       "      <th>0</th>\n",
       "      <th>1</th>\n",
       "      <th>2</th>\n",
       "      <th>3</th>\n",
       "      <th>4</th>\n",
       "      <th>5</th>\n",
       "    </tr>\n",
       "  </thead>\n",
       "  <tbody>\n",
       "    <tr>\n",
       "      <th>0</th>\n",
       "      <td>0.352349</td>\n",
       "      <td>0.366906</td>\n",
       "      <td>0.373620</td>\n",
       "      <td>0.360278</td>\n",
       "      <td>0.330929</td>\n",
       "      <td>0.309424</td>\n",
       "    </tr>\n",
       "    <tr>\n",
       "      <th>1</th>\n",
       "      <td>0.754941</td>\n",
       "      <td>0.726082</td>\n",
       "      <td>0.680365</td>\n",
       "      <td>0.628380</td>\n",
       "      <td>0.572475</td>\n",
       "      <td>0.520447</td>\n",
       "    </tr>\n",
       "    <tr>\n",
       "      <th>2</th>\n",
       "      <td>0.180714</td>\n",
       "      <td>0.192925</td>\n",
       "      <td>0.204243</td>\n",
       "      <td>0.226600</td>\n",
       "      <td>0.233271</td>\n",
       "      <td>0.227729</td>\n",
       "    </tr>\n",
       "  </tbody>\n",
       "</table>\n",
       "</div>"
      ],
      "text/plain": [
       "          0         1         2         3         4         5\n",
       "0  0.352349  0.366906  0.373620  0.360278  0.330929  0.309424\n",
       "1  0.754941  0.726082  0.680365  0.628380  0.572475  0.520447\n",
       "2  0.180714  0.192925  0.204243  0.226600  0.233271  0.227729"
      ]
     },
     "metadata": {},
     "output_type": "display_data"
    },
    {
     "data": {
      "text/html": [
       "<div>\n",
       "<style>\n",
       "    .dataframe thead tr:only-child th {\n",
       "        text-align: right;\n",
       "    }\n",
       "\n",
       "    .dataframe thead th {\n",
       "        text-align: left;\n",
       "    }\n",
       "\n",
       "    .dataframe tbody tr th {\n",
       "        vertical-align: top;\n",
       "    }\n",
       "</style>\n",
       "<table border=\"1\" class=\"dataframe\">\n",
       "  <thead>\n",
       "    <tr style=\"text-align: right;\">\n",
       "      <th></th>\n",
       "      <th>filename</th>\n",
       "      <th>0</th>\n",
       "      <th>1</th>\n",
       "      <th>2</th>\n",
       "      <th>3</th>\n",
       "      <th>4</th>\n",
       "    </tr>\n",
       "  </thead>\n",
       "  <tbody>\n",
       "    <tr>\n",
       "      <th>0</th>\n",
       "      <td>5502.png</td>\n",
       "      <td>10.0</td>\n",
       "      <td>10.0</td>\n",
       "      <td>10.0</td>\n",
       "      <td>3.0</td>\n",
       "      <td>5.0</td>\n",
       "    </tr>\n",
       "    <tr>\n",
       "      <th>1</th>\n",
       "      <td>6876.png</td>\n",
       "      <td>10.0</td>\n",
       "      <td>10.0</td>\n",
       "      <td>10.0</td>\n",
       "      <td>1.0</td>\n",
       "      <td>5.0</td>\n",
       "    </tr>\n",
       "    <tr>\n",
       "      <th>2</th>\n",
       "      <td>12741.png</td>\n",
       "      <td>10.0</td>\n",
       "      <td>10.0</td>\n",
       "      <td>10.0</td>\n",
       "      <td>2.0</td>\n",
       "      <td>9.0</td>\n",
       "    </tr>\n",
       "  </tbody>\n",
       "</table>\n",
       "</div>"
      ],
      "text/plain": [
       "    filename     0     1     2    3    4\n",
       "0   5502.png  10.0  10.0  10.0  3.0  5.0\n",
       "1   6876.png  10.0  10.0  10.0  1.0  5.0\n",
       "2  12741.png  10.0  10.0  10.0  2.0  9.0"
      ]
     },
     "metadata": {},
     "output_type": "display_data"
    },
    {
     "data": {
      "text/html": [
       "<div>\n",
       "<style>\n",
       "    .dataframe thead tr:only-child th {\n",
       "        text-align: right;\n",
       "    }\n",
       "\n",
       "    .dataframe thead th {\n",
       "        text-align: left;\n",
       "    }\n",
       "\n",
       "    .dataframe tbody tr th {\n",
       "        vertical-align: top;\n",
       "    }\n",
       "</style>\n",
       "<table border=\"1\" class=\"dataframe\">\n",
       "  <thead>\n",
       "    <tr style=\"text-align: right;\">\n",
       "      <th></th>\n",
       "      <th>0</th>\n",
       "      <th>1</th>\n",
       "      <th>2</th>\n",
       "      <th>3</th>\n",
       "      <th>4</th>\n",
       "      <th>5</th>\n",
       "    </tr>\n",
       "  </thead>\n",
       "  <tbody>\n",
       "    <tr>\n",
       "      <th>0</th>\n",
       "      <td>0.731729</td>\n",
       "      <td>0.731729</td>\n",
       "      <td>0.731729</td>\n",
       "      <td>0.732859</td>\n",
       "      <td>0.732859</td>\n",
       "      <td>0.732859</td>\n",
       "    </tr>\n",
       "    <tr>\n",
       "      <th>1</th>\n",
       "      <td>0.605008</td>\n",
       "      <td>0.630882</td>\n",
       "      <td>0.635082</td>\n",
       "      <td>0.611831</td>\n",
       "      <td>0.572169</td>\n",
       "      <td>0.529757</td>\n",
       "    </tr>\n",
       "    <tr>\n",
       "      <th>2</th>\n",
       "      <td>0.194851</td>\n",
       "      <td>0.167078</td>\n",
       "      <td>0.128478</td>\n",
       "      <td>0.133976</td>\n",
       "      <td>0.132525</td>\n",
       "      <td>0.134549</td>\n",
       "    </tr>\n",
       "  </tbody>\n",
       "</table>\n",
       "</div>"
      ],
      "text/plain": [
       "          0         1         2         3         4         5\n",
       "0  0.731729  0.731729  0.731729  0.732859  0.732859  0.732859\n",
       "1  0.605008  0.630882  0.635082  0.611831  0.572169  0.529757\n",
       "2  0.194851  0.167078  0.128478  0.133976  0.132525  0.134549"
      ]
     },
     "metadata": {},
     "output_type": "display_data"
    },
    {
     "data": {
      "text/html": [
       "<div>\n",
       "<style>\n",
       "    .dataframe thead tr:only-child th {\n",
       "        text-align: right;\n",
       "    }\n",
       "\n",
       "    .dataframe thead th {\n",
       "        text-align: left;\n",
       "    }\n",
       "\n",
       "    .dataframe tbody tr th {\n",
       "        vertical-align: top;\n",
       "    }\n",
       "</style>\n",
       "<table border=\"1\" class=\"dataframe\">\n",
       "  <thead>\n",
       "    <tr style=\"text-align: right;\">\n",
       "      <th></th>\n",
       "      <th>filename</th>\n",
       "      <th>0</th>\n",
       "      <th>1</th>\n",
       "      <th>2</th>\n",
       "      <th>3</th>\n",
       "      <th>4</th>\n",
       "    </tr>\n",
       "  </thead>\n",
       "  <tbody>\n",
       "    <tr>\n",
       "      <th>5997</th>\n",
       "      <td>10065.png</td>\n",
       "      <td>10.0</td>\n",
       "      <td>10.0</td>\n",
       "      <td>10.0</td>\n",
       "      <td>10.0</td>\n",
       "      <td>1.0</td>\n",
       "    </tr>\n",
       "    <tr>\n",
       "      <th>5998</th>\n",
       "      <td>10210.png</td>\n",
       "      <td>10.0</td>\n",
       "      <td>10.0</td>\n",
       "      <td>10.0</td>\n",
       "      <td>1.0</td>\n",
       "      <td>9.0</td>\n",
       "    </tr>\n",
       "    <tr>\n",
       "      <th>5999</th>\n",
       "      <td>11166.png</td>\n",
       "      <td>10.0</td>\n",
       "      <td>10.0</td>\n",
       "      <td>10.0</td>\n",
       "      <td>5.0</td>\n",
       "      <td>0.0</td>\n",
       "    </tr>\n",
       "  </tbody>\n",
       "</table>\n",
       "</div>"
      ],
      "text/plain": [
       "       filename     0     1     2     3    4\n",
       "5997  10065.png  10.0  10.0  10.0  10.0  1.0\n",
       "5998  10210.png  10.0  10.0  10.0   1.0  9.0\n",
       "5999  11166.png  10.0  10.0  10.0   5.0  0.0"
      ]
     },
     "metadata": {},
     "output_type": "display_data"
    },
    {
     "data": {
      "text/html": [
       "<div>\n",
       "<style>\n",
       "    .dataframe thead tr:only-child th {\n",
       "        text-align: right;\n",
       "    }\n",
       "\n",
       "    .dataframe thead th {\n",
       "        text-align: left;\n",
       "    }\n",
       "\n",
       "    .dataframe tbody tr th {\n",
       "        vertical-align: top;\n",
       "    }\n",
       "</style>\n",
       "<table border=\"1\" class=\"dataframe\">\n",
       "  <thead>\n",
       "    <tr style=\"text-align: right;\">\n",
       "      <th></th>\n",
       "      <th>0</th>\n",
       "      <th>1</th>\n",
       "      <th>2</th>\n",
       "      <th>3</th>\n",
       "      <th>4</th>\n",
       "      <th>5</th>\n",
       "    </tr>\n",
       "  </thead>\n",
       "  <tbody>\n",
       "    <tr>\n",
       "      <th>0</th>\n",
       "      <td>0.857800</td>\n",
       "      <td>0.857800</td>\n",
       "      <td>0.853878</td>\n",
       "      <td>0.843733</td>\n",
       "      <td>0.848102</td>\n",
       "      <td>0.845800</td>\n",
       "    </tr>\n",
       "    <tr>\n",
       "      <th>1</th>\n",
       "      <td>0.300451</td>\n",
       "      <td>0.338773</td>\n",
       "      <td>0.371553</td>\n",
       "      <td>0.384278</td>\n",
       "      <td>0.404569</td>\n",
       "      <td>0.421384</td>\n",
       "    </tr>\n",
       "    <tr>\n",
       "      <th>2</th>\n",
       "      <td>0.263635</td>\n",
       "      <td>0.266596</td>\n",
       "      <td>0.236608</td>\n",
       "      <td>0.205769</td>\n",
       "      <td>0.195455</td>\n",
       "      <td>0.208671</td>\n",
       "    </tr>\n",
       "  </tbody>\n",
       "</table>\n",
       "</div>"
      ],
      "text/plain": [
       "          0         1         2         3         4         5\n",
       "0  0.857800  0.857800  0.853878  0.843733  0.848102  0.845800\n",
       "1  0.300451  0.338773  0.371553  0.384278  0.404569  0.421384\n",
       "2  0.263635  0.266596  0.236608  0.205769  0.195455  0.208671"
      ]
     },
     "metadata": {},
     "output_type": "display_data"
    },
    {
     "data": {
      "text/html": [
       "<div>\n",
       "<style>\n",
       "    .dataframe thead tr:only-child th {\n",
       "        text-align: right;\n",
       "    }\n",
       "\n",
       "    .dataframe thead th {\n",
       "        text-align: left;\n",
       "    }\n",
       "\n",
       "    .dataframe tbody tr th {\n",
       "        vertical-align: top;\n",
       "    }\n",
       "</style>\n",
       "<table border=\"1\" class=\"dataframe\">\n",
       "  <thead>\n",
       "    <tr style=\"text-align: right;\">\n",
       "      <th></th>\n",
       "      <th>filename</th>\n",
       "      <th>0</th>\n",
       "      <th>1</th>\n",
       "      <th>2</th>\n",
       "      <th>3</th>\n",
       "      <th>4</th>\n",
       "    </tr>\n",
       "  </thead>\n",
       "  <tbody>\n",
       "    <tr>\n",
       "      <th>12997</th>\n",
       "      <td>11978.png</td>\n",
       "      <td>10.0</td>\n",
       "      <td>10.0</td>\n",
       "      <td>8.0</td>\n",
       "      <td>5.0</td>\n",
       "      <td>7.0</td>\n",
       "    </tr>\n",
       "    <tr>\n",
       "      <th>12998</th>\n",
       "      <td>13237.png</td>\n",
       "      <td>10.0</td>\n",
       "      <td>10.0</td>\n",
       "      <td>10.0</td>\n",
       "      <td>9.0</td>\n",
       "      <td>0.0</td>\n",
       "    </tr>\n",
       "    <tr>\n",
       "      <th>12999</th>\n",
       "      <td>11985.png</td>\n",
       "      <td>10.0</td>\n",
       "      <td>10.0</td>\n",
       "      <td>10.0</td>\n",
       "      <td>5.0</td>\n",
       "      <td>6.0</td>\n",
       "    </tr>\n",
       "  </tbody>\n",
       "</table>\n",
       "</div>"
      ],
      "text/plain": [
       "        filename     0     1     2    3    4\n",
       "12997  11978.png  10.0  10.0   8.0  5.0  7.0\n",
       "12998  13237.png  10.0  10.0  10.0  9.0  0.0\n",
       "12999  11985.png  10.0  10.0  10.0  5.0  6.0"
      ]
     },
     "metadata": {},
     "output_type": "display_data"
    }
   ],
   "source": [
    "hide_code\n",
    "\n",
    "train_images2 = pd.read_csv(\"train_images2.csv\")\n",
    "train_labels = pd.read_csv(\"train_labels.csv\")\n",
    "\n",
    "test_images2 = pd.read_csv(\"test_images2.csv\")\n",
    "test_labels = pd.read_csv(\"test_labels.csv\")\n",
    "\n",
    "extra_images2 = pd.read_csv(\"extra_images2.csv\")\n",
    "extra_labels = pd.read_csv(\"extra_labels.csv\")\n",
    "\n",
    "display(train_images2[[\"0\", \"1\", \"2\", \"3\", \"4\", \"5\"]].head(3))\n",
    "display(train_labels.head(3))\n",
    "\n",
    "display(test_images2[[\"0\", \"1\", \"2\", \"3\", \"4\", \"5\"]].head(3))\n",
    "display(test_labels.tail(3))\n",
    "\n",
    "display(extra_images2[[\"0\", \"1\", \"2\", \"3\", \"4\", \"5\"]].head(3))\n",
    "display(extra_labels.tail(3))"
   ]
  },
  {
   "cell_type": "code",
   "execution_count": 17,
   "metadata": {
    "collapsed": false
   },
   "outputs": [
    {
     "data": {
      "text/html": [
       "<div>\n",
       "<style>\n",
       "    .dataframe thead tr:only-child th {\n",
       "        text-align: right;\n",
       "    }\n",
       "\n",
       "    .dataframe thead th {\n",
       "        text-align: left;\n",
       "    }\n",
       "\n",
       "    .dataframe tbody tr th {\n",
       "        vertical-align: top;\n",
       "    }\n",
       "</style>\n",
       "<table border=\"1\" class=\"dataframe\">\n",
       "  <thead>\n",
       "    <tr style=\"text-align: right;\">\n",
       "      <th></th>\n",
       "      <th>0</th>\n",
       "      <th>1</th>\n",
       "      <th>2</th>\n",
       "      <th>3</th>\n",
       "      <th>4</th>\n",
       "      <th>5</th>\n",
       "    </tr>\n",
       "  </thead>\n",
       "  <tbody>\n",
       "    <tr>\n",
       "      <th>0</th>\n",
       "      <td>0.775827</td>\n",
       "      <td>0.747204</td>\n",
       "      <td>0.702894</td>\n",
       "      <td>0.695498</td>\n",
       "      <td>0.694773</td>\n",
       "      <td>0.713933</td>\n",
       "    </tr>\n",
       "    <tr>\n",
       "      <th>1</th>\n",
       "      <td>0.924996</td>\n",
       "      <td>0.893624</td>\n",
       "      <td>0.846353</td>\n",
       "      <td>0.800020</td>\n",
       "      <td>0.749486</td>\n",
       "      <td>0.703769</td>\n",
       "    </tr>\n",
       "    <tr>\n",
       "      <th>2</th>\n",
       "      <td>0.595980</td>\n",
       "      <td>0.603780</td>\n",
       "      <td>0.615224</td>\n",
       "      <td>0.632933</td>\n",
       "      <td>0.653882</td>\n",
       "      <td>0.679435</td>\n",
       "    </tr>\n",
       "  </tbody>\n",
       "</table>\n",
       "</div>"
      ],
      "text/plain": [
       "          0         1         2         3         4         5\n",
       "0  0.775827  0.747204  0.702894  0.695498  0.694773  0.713933\n",
       "1  0.924996  0.893624  0.846353  0.800020  0.749486  0.703769\n",
       "2  0.595980  0.603780  0.615224  0.632933  0.653882  0.679435"
      ]
     },
     "metadata": {},
     "output_type": "display_data"
    },
    {
     "data": {
      "text/html": [
       "<div>\n",
       "<style>\n",
       "    .dataframe thead tr:only-child th {\n",
       "        text-align: right;\n",
       "    }\n",
       "\n",
       "    .dataframe thead th {\n",
       "        text-align: left;\n",
       "    }\n",
       "\n",
       "    .dataframe tbody tr th {\n",
       "        vertical-align: top;\n",
       "    }\n",
       "</style>\n",
       "<table border=\"1\" class=\"dataframe\">\n",
       "  <thead>\n",
       "    <tr style=\"text-align: right;\">\n",
       "      <th></th>\n",
       "      <th>filename</th>\n",
       "      <th>0</th>\n",
       "      <th>1</th>\n",
       "      <th>2</th>\n",
       "      <th>3</th>\n",
       "      <th>4</th>\n",
       "    </tr>\n",
       "  </thead>\n",
       "  <tbody>\n",
       "    <tr>\n",
       "      <th>0</th>\n",
       "      <td>20953.png</td>\n",
       "      <td>10.0</td>\n",
       "      <td>10.0</td>\n",
       "      <td>1.0</td>\n",
       "      <td>9.0</td>\n",
       "      <td>5.0</td>\n",
       "    </tr>\n",
       "    <tr>\n",
       "      <th>1</th>\n",
       "      <td>30030.png</td>\n",
       "      <td>10.0</td>\n",
       "      <td>10.0</td>\n",
       "      <td>10.0</td>\n",
       "      <td>3.0</td>\n",
       "      <td>4.0</td>\n",
       "    </tr>\n",
       "    <tr>\n",
       "      <th>2</th>\n",
       "      <td>2036.png</td>\n",
       "      <td>10.0</td>\n",
       "      <td>10.0</td>\n",
       "      <td>10.0</td>\n",
       "      <td>8.0</td>\n",
       "      <td>2.0</td>\n",
       "    </tr>\n",
       "  </tbody>\n",
       "</table>\n",
       "</div>"
      ],
      "text/plain": [
       "    filename     0     1     2    3    4\n",
       "0  20953.png  10.0  10.0   1.0  9.0  5.0\n",
       "1  30030.png  10.0  10.0  10.0  3.0  4.0\n",
       "2   2036.png  10.0  10.0  10.0  8.0  2.0"
      ]
     },
     "metadata": {},
     "output_type": "display_data"
    },
    {
     "data": {
      "text/html": [
       "<div>\n",
       "<style>\n",
       "    .dataframe thead tr:only-child th {\n",
       "        text-align: right;\n",
       "    }\n",
       "\n",
       "    .dataframe thead th {\n",
       "        text-align: left;\n",
       "    }\n",
       "\n",
       "    .dataframe tbody tr th {\n",
       "        vertical-align: top;\n",
       "    }\n",
       "</style>\n",
       "<table border=\"1\" class=\"dataframe\">\n",
       "  <thead>\n",
       "    <tr style=\"text-align: right;\">\n",
       "      <th></th>\n",
       "      <th>0</th>\n",
       "      <th>1</th>\n",
       "      <th>2</th>\n",
       "      <th>3</th>\n",
       "      <th>4</th>\n",
       "      <th>5</th>\n",
       "    </tr>\n",
       "  </thead>\n",
       "  <tbody>\n",
       "    <tr>\n",
       "      <th>0</th>\n",
       "      <td>0.160784</td>\n",
       "      <td>0.163533</td>\n",
       "      <td>0.165835</td>\n",
       "      <td>0.160784</td>\n",
       "      <td>0.161914</td>\n",
       "      <td>0.161914</td>\n",
       "    </tr>\n",
       "    <tr>\n",
       "      <th>1</th>\n",
       "      <td>0.642588</td>\n",
       "      <td>0.638388</td>\n",
       "      <td>0.637427</td>\n",
       "      <td>0.638769</td>\n",
       "      <td>0.628067</td>\n",
       "      <td>0.590192</td>\n",
       "    </tr>\n",
       "    <tr>\n",
       "      <th>2</th>\n",
       "      <td>0.059059</td>\n",
       "      <td>0.066220</td>\n",
       "      <td>0.077302</td>\n",
       "      <td>0.085145</td>\n",
       "      <td>0.094396</td>\n",
       "      <td>0.078710</td>\n",
       "    </tr>\n",
       "  </tbody>\n",
       "</table>\n",
       "</div>"
      ],
      "text/plain": [
       "          0         1         2         3         4         5\n",
       "0  0.160784  0.163533  0.165835  0.160784  0.161914  0.161914\n",
       "1  0.642588  0.638388  0.637427  0.638769  0.628067  0.590192\n",
       "2  0.059059  0.066220  0.077302  0.085145  0.094396  0.078710"
      ]
     },
     "metadata": {},
     "output_type": "display_data"
    },
    {
     "data": {
      "text/html": [
       "<div>\n",
       "<style>\n",
       "    .dataframe thead tr:only-child th {\n",
       "        text-align: right;\n",
       "    }\n",
       "\n",
       "    .dataframe thead th {\n",
       "        text-align: left;\n",
       "    }\n",
       "\n",
       "    .dataframe tbody tr th {\n",
       "        vertical-align: top;\n",
       "    }\n",
       "</style>\n",
       "<table border=\"1\" class=\"dataframe\">\n",
       "  <thead>\n",
       "    <tr style=\"text-align: right;\">\n",
       "      <th></th>\n",
       "      <th>filename</th>\n",
       "      <th>0</th>\n",
       "      <th>1</th>\n",
       "      <th>2</th>\n",
       "      <th>3</th>\n",
       "      <th>4</th>\n",
       "    </tr>\n",
       "  </thead>\n",
       "  <tbody>\n",
       "    <tr>\n",
       "      <th>5997</th>\n",
       "      <td>9152.png</td>\n",
       "      <td>10.0</td>\n",
       "      <td>10.0</td>\n",
       "      <td>1.0</td>\n",
       "      <td>2.0</td>\n",
       "      <td>6.0</td>\n",
       "    </tr>\n",
       "    <tr>\n",
       "      <th>5998</th>\n",
       "      <td>2724.png</td>\n",
       "      <td>10.0</td>\n",
       "      <td>10.0</td>\n",
       "      <td>10.0</td>\n",
       "      <td>4.0</td>\n",
       "      <td>8.0</td>\n",
       "    </tr>\n",
       "    <tr>\n",
       "      <th>5999</th>\n",
       "      <td>7566.png</td>\n",
       "      <td>10.0</td>\n",
       "      <td>10.0</td>\n",
       "      <td>10.0</td>\n",
       "      <td>1.0</td>\n",
       "      <td>4.0</td>\n",
       "    </tr>\n",
       "  </tbody>\n",
       "</table>\n",
       "</div>"
      ],
      "text/plain": [
       "      filename     0     1     2    3    4\n",
       "5997  9152.png  10.0  10.0   1.0  2.0  6.0\n",
       "5998  2724.png  10.0  10.0  10.0  4.0  8.0\n",
       "5999  7566.png  10.0  10.0  10.0  1.0  4.0"
      ]
     },
     "metadata": {},
     "output_type": "display_data"
    },
    {
     "data": {
      "text/html": [
       "<div>\n",
       "<style>\n",
       "    .dataframe thead tr:only-child th {\n",
       "        text-align: right;\n",
       "    }\n",
       "\n",
       "    .dataframe thead th {\n",
       "        text-align: left;\n",
       "    }\n",
       "\n",
       "    .dataframe tbody tr th {\n",
       "        vertical-align: top;\n",
       "    }\n",
       "</style>\n",
       "<table border=\"1\" class=\"dataframe\">\n",
       "  <thead>\n",
       "    <tr style=\"text-align: right;\">\n",
       "      <th></th>\n",
       "      <th>0</th>\n",
       "      <th>1</th>\n",
       "      <th>2</th>\n",
       "      <th>3</th>\n",
       "      <th>4</th>\n",
       "      <th>5</th>\n",
       "    </tr>\n",
       "  </thead>\n",
       "  <tbody>\n",
       "    <tr>\n",
       "      <th>0</th>\n",
       "      <td>0.349059</td>\n",
       "      <td>0.394220</td>\n",
       "      <td>0.455067</td>\n",
       "      <td>0.517937</td>\n",
       "      <td>0.553188</td>\n",
       "      <td>0.557110</td>\n",
       "    </tr>\n",
       "    <tr>\n",
       "      <th>1</th>\n",
       "      <td>0.199129</td>\n",
       "      <td>0.195208</td>\n",
       "      <td>0.192416</td>\n",
       "      <td>0.182271</td>\n",
       "      <td>0.183890</td>\n",
       "      <td>0.169612</td>\n",
       "    </tr>\n",
       "    <tr>\n",
       "      <th>2</th>\n",
       "      <td>0.220420</td>\n",
       "      <td>0.220420</td>\n",
       "      <td>0.219694</td>\n",
       "      <td>0.218243</td>\n",
       "      <td>0.223059</td>\n",
       "      <td>0.225529</td>\n",
       "    </tr>\n",
       "  </tbody>\n",
       "</table>\n",
       "</div>"
      ],
      "text/plain": [
       "          0         1         2         3         4         5\n",
       "0  0.349059  0.394220  0.455067  0.517937  0.553188  0.557110\n",
       "1  0.199129  0.195208  0.192416  0.182271  0.183890  0.169612\n",
       "2  0.220420  0.220420  0.219694  0.218243  0.223059  0.225529"
      ]
     },
     "metadata": {},
     "output_type": "display_data"
    },
    {
     "data": {
      "text/html": [
       "<div>\n",
       "<style>\n",
       "    .dataframe thead tr:only-child th {\n",
       "        text-align: right;\n",
       "    }\n",
       "\n",
       "    .dataframe thead th {\n",
       "        text-align: left;\n",
       "    }\n",
       "\n",
       "    .dataframe tbody tr th {\n",
       "        vertical-align: top;\n",
       "    }\n",
       "</style>\n",
       "<table border=\"1\" class=\"dataframe\">\n",
       "  <thead>\n",
       "    <tr style=\"text-align: right;\">\n",
       "      <th></th>\n",
       "      <th>filename</th>\n",
       "      <th>0</th>\n",
       "      <th>1</th>\n",
       "      <th>2</th>\n",
       "      <th>3</th>\n",
       "      <th>4</th>\n",
       "    </tr>\n",
       "  </thead>\n",
       "  <tbody>\n",
       "    <tr>\n",
       "      <th>12997</th>\n",
       "      <td>31666.png</td>\n",
       "      <td>10.0</td>\n",
       "      <td>10.0</td>\n",
       "      <td>1.0</td>\n",
       "      <td>5.0</td>\n",
       "      <td>7.0</td>\n",
       "    </tr>\n",
       "    <tr>\n",
       "      <th>12998</th>\n",
       "      <td>32070.png</td>\n",
       "      <td>10.0</td>\n",
       "      <td>10.0</td>\n",
       "      <td>10.0</td>\n",
       "      <td>3.0</td>\n",
       "      <td>8.0</td>\n",
       "    </tr>\n",
       "    <tr>\n",
       "      <th>12999</th>\n",
       "      <td>31858.png</td>\n",
       "      <td>10.0</td>\n",
       "      <td>10.0</td>\n",
       "      <td>2.0</td>\n",
       "      <td>1.0</td>\n",
       "      <td>2.0</td>\n",
       "    </tr>\n",
       "  </tbody>\n",
       "</table>\n",
       "</div>"
      ],
      "text/plain": [
       "        filename     0     1     2    3    4\n",
       "12997  31666.png  10.0  10.0   1.0  5.0  7.0\n",
       "12998  32070.png  10.0  10.0  10.0  3.0  8.0\n",
       "12999  31858.png  10.0  10.0   2.0  1.0  2.0"
      ]
     },
     "metadata": {},
     "output_type": "display_data"
    }
   ],
   "source": [
    "hide_code\n",
    "\n",
    "train_images2_2 = pd.read_csv(\"train_images2_2.csv\")\n",
    "train_labels_2 = pd.read_csv(\"train_labels_2.csv\")\n",
    "\n",
    "test_images2_2 = pd.read_csv(\"test_images2_2.csv\")\n",
    "test_labels_2 = pd.read_csv(\"test_labels_2.csv\")\n",
    "\n",
    "extra_images2_2 = pd.read_csv(\"extra_images2_2.csv\")\n",
    "extra_labels_2 = pd.read_csv(\"extra_labels_2.csv\")\n",
    "\n",
    "display(train_images2_2[[\"0\", \"1\", \"2\", \"3\", \"4\", \"5\"]].head(3))\n",
    "display(train_labels_2.head(3))\n",
    "\n",
    "display(test_images2_2[[\"0\", \"1\", \"2\", \"3\", \"4\", \"5\"]].head(3))\n",
    "display(test_labels_2.tail(3))\n",
    "\n",
    "display(extra_images2_2[[\"0\", \"1\", \"2\", \"3\", \"4\", \"5\"]].head(3))\n",
    "display(extra_labels_2.tail(3))"
   ]
  },
  {
   "cell_type": "code",
   "execution_count": 18,
   "metadata": {
    "collapsed": true
   },
   "outputs": [],
   "source": [
    "hide_code\n",
    "\n",
    "images = np.concatenate((np.array(train_images2.drop('filename', axis=1)), \n",
    "                         np.array(extra_images2.drop('filename', axis=1))), \n",
    "                        axis=0)\n",
    "labels = np.concatenate((np.array(train_labels[[\"0\", \"1\", \"2\", \"3\", \"4\"]]), \n",
    "                         np.array(extra_labels[[\"0\", \"1\", \"2\", \"3\", \"4\"]])), \n",
    "                        axis=0)"
   ]
  },
  {
   "cell_type": "code",
   "execution_count": 19,
   "metadata": {
    "collapsed": false
   },
   "outputs": [],
   "source": [
    "hide_code\n",
    "\n",
    "images_2 = np.concatenate((np.array(train_images2_2.drop('filename', axis=1)), \n",
    "                           np.array(extra_images2_2.drop('filename', axis=1))), \n",
    "                          axis=0)\n",
    "labels_2 = np.concatenate((np.array(train_labels_2[[\"0\", \"1\", \"2\", \"3\", \"4\"]]), \n",
    "                           np.array(extra_labels_2[[\"0\", \"1\", \"2\", \"3\", \"4\"]])), \n",
    "                          axis=0)"
   ]
  },
  {
   "cell_type": "code",
   "execution_count": 20,
   "metadata": {
    "collapsed": true
   },
   "outputs": [],
   "source": [
    "hide_code\n",
    "\n",
    "images = np.concatenate((images, images_2), axis=0)\n",
    "labels = np.concatenate((labels, labels_2), axis=0)"
   ]
  },
  {
   "cell_type": "code",
   "execution_count": 21,
   "metadata": {
    "collapsed": true
   },
   "outputs": [],
   "source": [
    "hide_code\n",
    "\n",
    "images_t = np.concatenate((np.array(test_images2.drop('filename', axis=1)), \n",
    "                           np.array(test_images2_2.drop('filename', axis=1))), \n",
    "                          axis=0)\n",
    "labels_t = np.concatenate((np.array(test_labels[[\"0\", \"1\", \"2\", \"3\", \"4\"]]), \n",
    "                           np.array(test_labels_2[[\"0\", \"1\", \"2\", \"3\", \"4\"]])), \n",
    "                          axis=0)"
   ]
  },
  {
   "cell_type": "code",
   "execution_count": 22,
   "metadata": {
    "collapsed": false
   },
   "outputs": [],
   "source": [
    "hide_code\n",
    "\n",
    "X_train = images.reshape(52000, 32, 32, 1)\n",
    "y_train = labels\n",
    "X_test = images_t.reshape(12000, 32, 32, 1)\n",
    "y_test = labels_t"
   ]
  },
  {
   "cell_type": "code",
   "execution_count": 23,
   "metadata": {
    "collapsed": true
   },
   "outputs": [],
   "source": [
    "hide_code\n",
    "\n",
    "def digit_to_categorical(data):\n",
    "    n = data.shape[1]\n",
    "    data_cat = np.empty([len(data), n, 11])\n",
    "    \n",
    "    for i in range(n):\n",
    "        data_cat[:, i] = ks.utils.to_categorical(data[:, i], num_classes=11)\n",
    "        \n",
    "    return data_cat\n",
    "\n",
    "y_train_cat = digit_to_categorical(y_train)\n",
    "y_test_cat = digit_to_categorical(y_test)\n",
    "\n",
    "y_train_cat_list = [y_train_cat[:, i] for i in range(5)]\n",
    "y_test_cat_list = [y_test_cat[:, i] for i in range(5)]"
   ]
  },
  {
   "cell_type": "code",
   "execution_count": 24,
   "metadata": {
    "collapsed": false
   },
   "outputs": [
    {
     "name": "stdout",
     "output_type": "stream",
     "text": [
      "Train loaded set (52000, 32, 32, 1) (52000, 5, 11)\n",
      "Test loaded set (12000, 32, 32, 1) (12000, 5, 11)\n"
     ]
    }
   ],
   "source": [
    "hide_code\n",
    "\n",
    "print('Train loaded set', X_train.shape, y_train_cat.shape)\n",
    "print('Test loaded set', X_test.shape, y_test_cat.shape)"
   ]
  },
  {
   "cell_type": "code",
   "execution_count": 26,
   "metadata": {
    "collapsed": false
   },
   "outputs": [
    {
     "name": "stdout",
     "output_type": "stream",
     "text": [
      "8629.png\n",
      "[ 10.  10.   5.   0.   7.]\n",
      "[[ 0.  0.  0.  0.  0.  0.  0.  0.  0.  0.  1.]\n",
      " [ 0.  0.  0.  0.  0.  0.  0.  0.  0.  0.  1.]\n",
      " [ 0.  0.  0.  0.  0.  1.  0.  0.  0.  0.  0.]\n",
      " [ 1.  0.  0.  0.  0.  0.  0.  0.  0.  0.  0.]\n",
      " [ 0.  0.  0.  0.  0.  0.  0.  1.  0.  0.  0.]]\n"
     ]
    },
    {
     "data": {
      "image/png": "[encoded data removed]",
      "text/plain": [
       "<matplotlib.figure.Figure at 0x117c7ea58>"
      ]
     },
     "metadata": {},
     "output_type": "display_data"
    }
   ],
   "source": [
    "hide_code\n",
    "\n",
    "plt.imshow(X_train[12].reshape(32, 32), cmap=plt.cm.Blues)\n",
    "print(train_images2['filename'][12])\n",
    "print(y_train[12])\n",
    "print(y_train_cat[:][12])"
   ]
  },
  {
   "cell_type": "markdown",
   "metadata": {
    "collapsed": true
   },
   "source": [
    "---\n",
    "\n",
    "---\n",
    "## $\\mathfrak {\\color{#348ABD} {Step \\ 2:\\ Train \\ a \\ Model \\ on \\ a \\ Realistic \\ Dataset}}$\n",
    "Once we have settled on a good architecture, we can train the model on real data. In particular, the [Street View House Numbers (SVHN)](http://ufldl.stanford.edu/housenumbers/) dataset is a good large-scale dataset collected from house numbers in Google Street View. Training on this more challenging dataset, where the digits are not neatly lined-up and have various skews, fonts and colors, likely means you have to do some hyperparameter exploration to perform well."
   ]
  },
  {
   "cell_type": "code",
   "execution_count": 39,
   "metadata": {
    "collapsed": false
   },
   "outputs": [],
   "source": [
    "hide_code\n",
    "\n",
    "def cnn_model():    \n",
    "    model_input = Input(shape=(32, 32, 1))    \n",
    "        \n",
    "    x = Conv2D(32, (3, 3), activation='relu', border_mode='same')(model_input)\n",
    "    x = MaxPooling2D(pool_size=(2, 2))(x)\n",
    "    \n",
    "    x = Conv2D(32, (3, 3), activation='relu')(x)\n",
    "    x = MaxPooling2D(pool_size=(2, 2))(x)\n",
    "    \n",
    "    x = Dropout(0.2)(x)\n",
    "    \n",
    "    x = Conv2D(64, (3, 3), activation='relu')(x)       \n",
    "    x = Conv2D(64, (3, 3), activation='relu')(x)\n",
    "    \n",
    "    x = Dropout(0.2)(x)\n",
    "    \n",
    "    x = Conv2D(128, (3, 3), activation='relu')(x)\n",
    "    \n",
    "    x = Dropout(0.2)(x)\n",
    "              \n",
    "    x = Flatten()(x)\n",
    "    \n",
    "    x = Dense(512, activation='relu')(x)\n",
    "    x = Dropout(0.4)(x)\n",
    "    \n",
    "    y1 = Dense(11, activation='softmax')(x)\n",
    "    y2 = Dense(11, activation='softmax')(x)\n",
    "    y3 = Dense(11, activation='softmax')(x)\n",
    "    y4 = Dense(11, activation='softmax')(x)\n",
    "    y5 = Dense(11, activation='softmax')(x)\n",
    "    \n",
    "    model = Model(input=model_input, output=[y1, y2, y3, y4, y5])\n",
    "\n",
    "    model.compile(loss='categorical_crossentropy', optimizer='adam', metrics=['accuracy'])\n",
    "    return model"
   ]
  },
  {
   "cell_type": "code",
   "execution_count": 40,
   "metadata": {
    "collapsed": false
   },
   "outputs": [
    {
     "name": "stdout",
     "output_type": "stream",
     "text": [
      "Train on 52000 samples, validate on 12000 samples\n",
      "Epoch 1/50\n",
      "109s - loss: 6.4735 - dense_8_loss: 0.0455 - dense_9_loss: 0.3060 - dense_10_loss: 1.4676 - dense_11_loss: 2.3286 - dense_12_loss: 2.3258 - dense_8_acc: 0.9966 - dense_9_acc: 0.9404 - dense_10_acc: 0.5511 - dense_11_acc: 0.1467 - dense_12_acc: 0.1157 - val_loss: 4.8463 - val_dense_8_loss: 0.0019 - val_dense_9_loss: 0.0498 - val_dense_10_loss: 0.5425 - val_dense_11_loss: 1.9807 - val_dense_12_loss: 2.2714 - val_dense_8_acc: 0.9998 - val_dense_9_acc: 0.9885 - val_dense_10_acc: 0.8433 - val_dense_11_acc: 0.2770 - val_dense_12_acc: 0.1484\n",
      "Epoch 2/50\n",
      "120s - loss: 5.5010 - dense_8_loss: 0.0038 - dense_9_loss: 0.2273 - dense_10_loss: 1.1268 - dense_11_loss: 1.9459 - dense_12_loss: 2.1972 - dense_8_acc: 0.9996 - dense_9_acc: 0.9421 - dense_10_acc: 0.6421 - dense_11_acc: 0.3200 - dense_12_acc: 0.1900 - val_loss: 3.7689 - val_dense_8_loss: 0.0020 - val_dense_9_loss: 0.0462 - val_dense_10_loss: 0.3869 - val_dense_11_loss: 1.4234 - val_dense_12_loss: 1.9104 - val_dense_8_acc: 0.9998 - val_dense_9_acc: 0.9885 - val_dense_10_acc: 0.8923 - val_dense_11_acc: 0.5362 - val_dense_12_acc: 0.3141\n",
      "Epoch 3/50\n",
      "106s - loss: 4.1833 - dense_8_loss: 0.0037 - dense_9_loss: 0.1809 - dense_10_loss: 0.8412 - dense_11_loss: 1.4722 - dense_12_loss: 1.6854 - dense_8_acc: 0.9996 - dense_9_acc: 0.9477 - dense_10_acc: 0.7404 - dense_11_acc: 0.4983 - dense_12_acc: 0.3954 - val_loss: 2.5773 - val_dense_8_loss: 0.0018 - val_dense_9_loss: 0.0350 - val_dense_10_loss: 0.2679 - val_dense_11_loss: 0.9915 - val_dense_12_loss: 1.2811 - val_dense_8_acc: 0.9998 - val_dense_9_acc: 0.9922 - val_dense_10_acc: 0.9235 - val_dense_11_acc: 0.6762 - val_dense_12_acc: 0.5601\n",
      "Epoch 4/50\n",
      "99s - loss: 3.3413 - dense_8_loss: 0.0036 - dense_9_loss: 0.1458 - dense_10_loss: 0.7158 - dense_11_loss: 1.1628 - dense_12_loss: 1.3132 - dense_8_acc: 0.9996 - dense_9_acc: 0.9582 - dense_10_acc: 0.7746 - dense_11_acc: 0.6080 - dense_12_acc: 0.5408 - val_loss: 2.2743 - val_dense_8_loss: 0.0019 - val_dense_9_loss: 0.0284 - val_dense_10_loss: 0.2393 - val_dense_11_loss: 0.8272 - val_dense_12_loss: 1.1774 - val_dense_8_acc: 0.9998 - val_dense_9_acc: 0.9920 - val_dense_10_acc: 0.9323 - val_dense_11_acc: 0.7338 - val_dense_12_acc: 0.6071\n",
      "Epoch 5/50\n",
      "104s - loss: 2.8787 - dense_8_loss: 0.0035 - dense_9_loss: 0.1320 - dense_10_loss: 0.6495 - dense_11_loss: 0.9853 - dense_12_loss: 1.1085 - dense_8_acc: 0.9996 - dense_9_acc: 0.9613 - dense_10_acc: 0.7959 - dense_11_acc: 0.6720 - dense_12_acc: 0.6210 - val_loss: 1.8588 - val_dense_8_loss: 0.0016 - val_dense_9_loss: 0.0351 - val_dense_10_loss: 0.2437 - val_dense_11_loss: 0.7140 - val_dense_12_loss: 0.8644 - val_dense_8_acc: 0.9998 - val_dense_9_acc: 0.9917 - val_dense_10_acc: 0.9312 - val_dense_11_acc: 0.7705 - val_dense_12_acc: 0.7323\n",
      "Epoch 6/50\n",
      "98s - loss: 2.5889 - dense_8_loss: 0.0036 - dense_9_loss: 0.1247 - dense_10_loss: 0.6033 - dense_11_loss: 0.8768 - dense_12_loss: 0.9805 - dense_8_acc: 0.9996 - dense_9_acc: 0.9638 - dense_10_acc: 0.8073 - dense_11_acc: 0.7119 - dense_12_acc: 0.6693 - val_loss: 1.6002 - val_dense_8_loss: 0.0013 - val_dense_9_loss: 0.0255 - val_dense_10_loss: 0.2011 - val_dense_11_loss: 0.6197 - val_dense_12_loss: 0.7526 - val_dense_8_acc: 0.9998 - val_dense_9_acc: 0.9931 - val_dense_10_acc: 0.9393 - val_dense_11_acc: 0.8049 - val_dense_12_acc: 0.7707\n",
      "Epoch 7/50\n",
      "116s - loss: 2.3773 - dense_8_loss: 0.0033 - dense_9_loss: 0.1198 - dense_10_loss: 0.5723 - dense_11_loss: 0.7964 - dense_12_loss: 0.8855 - dense_8_acc: 0.9996 - dense_9_acc: 0.9635 - dense_10_acc: 0.8178 - dense_11_acc: 0.7394 - dense_12_acc: 0.7048 - val_loss: 1.4665 - val_dense_8_loss: 0.0014 - val_dense_9_loss: 0.0267 - val_dense_10_loss: 0.1976 - val_dense_11_loss: 0.5611 - val_dense_12_loss: 0.6797 - val_dense_8_acc: 0.9998 - val_dense_9_acc: 0.9931 - val_dense_10_acc: 0.9414 - val_dense_11_acc: 0.8254 - val_dense_12_acc: 0.7817\n",
      "Epoch 8/50\n",
      "110s - loss: 2.2090 - dense_8_loss: 0.0033 - dense_9_loss: 0.1137 - dense_10_loss: 0.5409 - dense_11_loss: 0.7355 - dense_12_loss: 0.8156 - dense_8_acc: 0.9996 - dense_9_acc: 0.9657 - dense_10_acc: 0.8286 - dense_11_acc: 0.7632 - dense_12_acc: 0.7298 - val_loss: 1.4525 - val_dense_8_loss: 0.0015 - val_dense_9_loss: 0.0348 - val_dense_10_loss: 0.2185 - val_dense_11_loss: 0.5533 - val_dense_12_loss: 0.6444 - val_dense_8_acc: 0.9998 - val_dense_9_acc: 0.9917 - val_dense_10_acc: 0.9354 - val_dense_11_acc: 0.8341 - val_dense_12_acc: 0.7963\n",
      "Epoch 9/50\n",
      "125s - loss: 2.0817 - dense_8_loss: 0.0034 - dense_9_loss: 0.1092 - dense_10_loss: 0.5129 - dense_11_loss: 0.6885 - dense_12_loss: 0.7677 - dense_8_acc: 0.9996 - dense_9_acc: 0.9671 - dense_10_acc: 0.8370 - dense_11_acc: 0.7783 - dense_12_acc: 0.7458 - val_loss: 1.3015 - val_dense_8_loss: 0.0015 - val_dense_9_loss: 0.0340 - val_dense_10_loss: 0.1926 - val_dense_11_loss: 0.4940 - val_dense_12_loss: 0.5794 - val_dense_8_acc: 0.9998 - val_dense_9_acc: 0.9926 - val_dense_10_acc: 0.9438 - val_dense_11_acc: 0.8503 - val_dense_12_acc: 0.8222\n",
      "Epoch 10/50\n",
      "102s - loss: 1.9678 - dense_8_loss: 0.0031 - dense_9_loss: 0.1042 - dense_10_loss: 0.4928 - dense_11_loss: 0.6458 - dense_12_loss: 0.7219 - dense_8_acc: 0.9996 - dense_9_acc: 0.9691 - dense_10_acc: 0.8423 - dense_11_acc: 0.7926 - dense_12_acc: 0.7634 - val_loss: 1.2155 - val_dense_8_loss: 0.0012 - val_dense_9_loss: 0.0239 - val_dense_10_loss: 0.1667 - val_dense_11_loss: 0.4646 - val_dense_12_loss: 0.5592 - val_dense_8_acc: 0.9998 - val_dense_9_acc: 0.9948 - val_dense_10_acc: 0.9503 - val_dense_11_acc: 0.8602 - val_dense_12_acc: 0.8262\n",
      "Epoch 11/50\n",
      "101s - loss: 1.8747 - dense_8_loss: 0.0028 - dense_9_loss: 0.1030 - dense_10_loss: 0.4733 - dense_11_loss: 0.6080 - dense_12_loss: 0.6875 - dense_8_acc: 0.9996 - dense_9_acc: 0.9691 - dense_10_acc: 0.8520 - dense_11_acc: 0.8075 - dense_12_acc: 0.7769 - val_loss: 1.2145 - val_dense_8_loss: 0.0015 - val_dense_9_loss: 0.0279 - val_dense_10_loss: 0.1804 - val_dense_11_loss: 0.4656 - val_dense_12_loss: 0.5391 - val_dense_8_acc: 0.9998 - val_dense_9_acc: 0.9945 - val_dense_10_acc: 0.9479 - val_dense_11_acc: 0.8561 - val_dense_12_acc: 0.8321\n",
      "Epoch 12/50\n",
      "107s - loss: 1.8120 - dense_8_loss: 0.0030 - dense_9_loss: 0.0991 - dense_10_loss: 0.4550 - dense_11_loss: 0.5902 - dense_12_loss: 0.6647 - dense_8_acc: 0.9996 - dense_9_acc: 0.9717 - dense_10_acc: 0.8559 - dense_11_acc: 0.8115 - dense_12_acc: 0.7842 - val_loss: 1.1453 - val_dense_8_loss: 0.0014 - val_dense_9_loss: 0.0218 - val_dense_10_loss: 0.1617 - val_dense_11_loss: 0.4303 - val_dense_12_loss: 0.5301 - val_dense_8_acc: 0.9998 - val_dense_9_acc: 0.9949 - val_dense_10_acc: 0.9537 - val_dense_11_acc: 0.8692 - val_dense_12_acc: 0.8317\n",
      "Epoch 13/50\n",
      "109s - loss: 1.7477 - dense_8_loss: 0.0030 - dense_9_loss: 0.0974 - dense_10_loss: 0.4411 - dense_11_loss: 0.5695 - dense_12_loss: 0.6367 - dense_8_acc: 0.9996 - dense_9_acc: 0.9714 - dense_10_acc: 0.8622 - dense_11_acc: 0.8197 - dense_12_acc: 0.7942 - val_loss: 1.0989 - val_dense_8_loss: 0.0013 - val_dense_9_loss: 0.0236 - val_dense_10_loss: 0.1607 - val_dense_11_loss: 0.4185 - val_dense_12_loss: 0.4949 - val_dense_8_acc: 0.9998 - val_dense_9_acc: 0.9945 - val_dense_10_acc: 0.9531 - val_dense_11_acc: 0.8733 - val_dense_12_acc: 0.8437\n",
      "Epoch 14/50\n",
      "165s - loss: 1.6831 - dense_8_loss: 0.0028 - dense_9_loss: 0.0941 - dense_10_loss: 0.4229 - dense_11_loss: 0.5494 - dense_12_loss: 0.6139 - dense_8_acc: 0.9996 - dense_9_acc: 0.9725 - dense_10_acc: 0.8692 - dense_11_acc: 0.8275 - dense_12_acc: 0.8016 - val_loss: 1.0908 - val_dense_8_loss: 0.0013 - val_dense_9_loss: 0.0220 - val_dense_10_loss: 0.1636 - val_dense_11_loss: 0.4176 - val_dense_12_loss: 0.4863 - val_dense_8_acc: 0.9998 - val_dense_9_acc: 0.9945 - val_dense_10_acc: 0.9524 - val_dense_11_acc: 0.8738 - val_dense_12_acc: 0.8487\n",
      "Epoch 15/50\n",
      "106s - loss: 1.6269 - dense_8_loss: 0.0026 - dense_9_loss: 0.0916 - dense_10_loss: 0.4070 - dense_11_loss: 0.5268 - dense_12_loss: 0.5989 - dense_8_acc: 0.9996 - dense_9_acc: 0.9733 - dense_10_acc: 0.8723 - dense_11_acc: 0.8330 - dense_12_acc: 0.8055 - val_loss: 1.0752 - val_dense_8_loss: 0.0014 - val_dense_9_loss: 0.0262 - val_dense_10_loss: 0.1678 - val_dense_11_loss: 0.3998 - val_dense_12_loss: 0.4800 - val_dense_8_acc: 0.9998 - val_dense_9_acc: 0.9932 - val_dense_10_acc: 0.9510 - val_dense_11_acc: 0.8808 - val_dense_12_acc: 0.8501\n",
      "Epoch 16/50\n",
      "118s - loss: 1.6038 - dense_8_loss: 0.0027 - dense_9_loss: 0.0909 - dense_10_loss: 0.4017 - dense_11_loss: 0.5211 - dense_12_loss: 0.5874 - dense_8_acc: 0.9996 - dense_9_acc: 0.9737 - dense_10_acc: 0.8748 - dense_11_acc: 0.8382 - dense_12_acc: 0.8118 - val_loss: 1.0572 - val_dense_8_loss: 0.0014 - val_dense_9_loss: 0.0218 - val_dense_10_loss: 0.1555 - val_dense_11_loss: 0.3873 - val_dense_12_loss: 0.4911 - val_dense_8_acc: 0.9998 - val_dense_9_acc: 0.9948 - val_dense_10_acc: 0.9570 - val_dense_11_acc: 0.8827 - val_dense_12_acc: 0.8477\n",
      "Epoch 17/50\n",
      "103s - loss: 1.5640 - dense_8_loss: 0.0027 - dense_9_loss: 0.0862 - dense_10_loss: 0.3938 - dense_11_loss: 0.5096 - dense_12_loss: 0.5718 - dense_8_acc: 0.9996 - dense_9_acc: 0.9745 - dense_10_acc: 0.8769 - dense_11_acc: 0.8408 - dense_12_acc: 0.8180 - val_loss: 1.0162 - val_dense_8_loss: 0.0012 - val_dense_9_loss: 0.0213 - val_dense_10_loss: 0.1556 - val_dense_11_loss: 0.3810 - val_dense_12_loss: 0.4571 - val_dense_8_acc: 0.9998 - val_dense_9_acc: 0.9944 - val_dense_10_acc: 0.9547 - val_dense_11_acc: 0.8853 - val_dense_12_acc: 0.8566\n",
      "Epoch 18/50\n",
      "112s - loss: 1.5178 - dense_8_loss: 0.0030 - dense_9_loss: 0.0866 - dense_10_loss: 0.3826 - dense_11_loss: 0.4892 - dense_12_loss: 0.5564 - dense_8_acc: 0.9996 - dense_9_acc: 0.9748 - dense_10_acc: 0.8812 - dense_11_acc: 0.8470 - dense_12_acc: 0.8231 - val_loss: 0.9830 - val_dense_8_loss: 0.0013 - val_dense_9_loss: 0.0195 - val_dense_10_loss: 0.1406 - val_dense_11_loss: 0.3558 - val_dense_12_loss: 0.4658 - val_dense_8_acc: 0.9998 - val_dense_9_acc: 0.9952 - val_dense_10_acc: 0.9604 - val_dense_11_acc: 0.8925 - val_dense_12_acc: 0.8512\n",
      "Epoch 19/50\n",
      "126s - loss: 1.4853 - dense_8_loss: 0.0026 - dense_9_loss: 0.0840 - dense_10_loss: 0.3741 - dense_11_loss: 0.4780 - dense_12_loss: 0.5467 - dense_8_acc: 0.9996 - dense_9_acc: 0.9755 - dense_10_acc: 0.8832 - dense_11_acc: 0.8506 - dense_12_acc: 0.8255 - val_loss: 0.9799 - val_dense_8_loss: 0.0013 - val_dense_9_loss: 0.0233 - val_dense_10_loss: 0.1475 - val_dense_11_loss: 0.3748 - val_dense_12_loss: 0.4330 - val_dense_8_acc: 0.9998 - val_dense_9_acc: 0.9941 - val_dense_10_acc: 0.9581 - val_dense_11_acc: 0.8882 - val_dense_12_acc: 0.8678\n",
      "Epoch 20/50\n",
      "123s - loss: 1.4676 - dense_8_loss: 0.0027 - dense_9_loss: 0.0854 - dense_10_loss: 0.3674 - dense_11_loss: 0.4743 - dense_12_loss: 0.5379 - dense_8_acc: 0.9996 - dense_9_acc: 0.9741 - dense_10_acc: 0.8864 - dense_11_acc: 0.8542 - dense_12_acc: 0.8288 - val_loss: 1.0153 - val_dense_8_loss: 0.0014 - val_dense_9_loss: 0.0256 - val_dense_10_loss: 0.1552 - val_dense_11_loss: 0.3836 - val_dense_12_loss: 0.4495 - val_dense_8_acc: 0.9998 - val_dense_9_acc: 0.9938 - val_dense_10_acc: 0.9533 - val_dense_11_acc: 0.8858 - val_dense_12_acc: 0.8627\n",
      "Epoch 21/50\n",
      "118s - loss: 1.4403 - dense_8_loss: 0.0028 - dense_9_loss: 0.0829 - dense_10_loss: 0.3607 - dense_11_loss: 0.4666 - dense_12_loss: 0.5273 - dense_8_acc: 0.9996 - dense_9_acc: 0.9759 - dense_10_acc: 0.8881 - dense_11_acc: 0.8555 - dense_12_acc: 0.8317 - val_loss: 0.9647 - val_dense_8_loss: 0.0014 - val_dense_9_loss: 0.0186 - val_dense_10_loss: 0.1381 - val_dense_11_loss: 0.3666 - val_dense_12_loss: 0.4401 - val_dense_8_acc: 0.9998 - val_dense_9_acc: 0.9952 - val_dense_10_acc: 0.9616 - val_dense_11_acc: 0.8903 - val_dense_12_acc: 0.8618\n",
      "Epoch 22/50\n",
      "117s - loss: 1.4025 - dense_8_loss: 0.0027 - dense_9_loss: 0.0835 - dense_10_loss: 0.3469 - dense_11_loss: 0.4561 - dense_12_loss: 0.5133 - dense_8_acc: 0.9996 - dense_9_acc: 0.9763 - dense_10_acc: 0.8923 - dense_11_acc: 0.8601 - dense_12_acc: 0.8354 - val_loss: 0.9885 - val_dense_8_loss: 0.0016 - val_dense_9_loss: 0.0221 - val_dense_10_loss: 0.1526 - val_dense_11_loss: 0.3665 - val_dense_12_loss: 0.4457 - val_dense_8_acc: 0.9998 - val_dense_9_acc: 0.9942 - val_dense_10_acc: 0.9557 - val_dense_11_acc: 0.8925 - val_dense_12_acc: 0.8589\n",
      "Epoch 23/50\n",
      "115s - loss: 1.3902 - dense_8_loss: 0.0027 - dense_9_loss: 0.0803 - dense_10_loss: 0.3450 - dense_11_loss: 0.4496 - dense_12_loss: 0.5126 - dense_8_acc: 0.9996 - dense_9_acc: 0.9764 - dense_10_acc: 0.8927 - dense_11_acc: 0.8603 - dense_12_acc: 0.8374 - val_loss: 0.9567 - val_dense_8_loss: 0.0014 - val_dense_9_loss: 0.0225 - val_dense_10_loss: 0.1466 - val_dense_11_loss: 0.3654 - val_dense_12_loss: 0.4207 - val_dense_8_acc: 0.9998 - val_dense_9_acc: 0.9942 - val_dense_10_acc: 0.9576 - val_dense_11_acc: 0.8928 - val_dense_12_acc: 0.8686\n",
      "Epoch 24/50\n",
      "111s - loss: 1.3714 - dense_8_loss: 0.0026 - dense_9_loss: 0.0799 - dense_10_loss: 0.3385 - dense_11_loss: 0.4431 - dense_12_loss: 0.5073 - dense_8_acc: 0.9996 - dense_9_acc: 0.9763 - dense_10_acc: 0.8950 - dense_11_acc: 0.8620 - dense_12_acc: 0.8397 - val_loss: 0.9405 - val_dense_8_loss: 0.0015 - val_dense_9_loss: 0.0212 - val_dense_10_loss: 0.1498 - val_dense_11_loss: 0.3522 - val_dense_12_loss: 0.4157 - val_dense_8_acc: 0.9998 - val_dense_9_acc: 0.9941 - val_dense_10_acc: 0.9553 - val_dense_11_acc: 0.8975 - val_dense_12_acc: 0.8685\n",
      "Epoch 25/50\n",
      "111s - loss: 1.3450 - dense_8_loss: 0.0023 - dense_9_loss: 0.0791 - dense_10_loss: 0.3308 - dense_11_loss: 0.4365 - dense_12_loss: 0.4963 - dense_8_acc: 0.9996 - dense_9_acc: 0.9770 - dense_10_acc: 0.8973 - dense_11_acc: 0.8645 - dense_12_acc: 0.8407 - val_loss: 0.9129 - val_dense_8_loss: 0.0017 - val_dense_9_loss: 0.0212 - val_dense_10_loss: 0.1462 - val_dense_11_loss: 0.3393 - val_dense_12_loss: 0.4046 - val_dense_8_acc: 0.9998 - val_dense_9_acc: 0.9950 - val_dense_10_acc: 0.9586 - val_dense_11_acc: 0.8993 - val_dense_12_acc: 0.8759\n",
      "Epoch 26/50\n",
      "107s - loss: 1.3326 - dense_8_loss: 0.0023 - dense_9_loss: 0.0775 - dense_10_loss: 0.3323 - dense_11_loss: 0.4313 - dense_12_loss: 0.4891 - dense_8_acc: 0.9996 - dense_9_acc: 0.9773 - dense_10_acc: 0.8982 - dense_11_acc: 0.8673 - dense_12_acc: 0.8456 - val_loss: 0.9038 - val_dense_8_loss: 0.0018 - val_dense_9_loss: 0.0170 - val_dense_10_loss: 0.1266 - val_dense_11_loss: 0.3457 - val_dense_12_loss: 0.4127 - val_dense_8_acc: 0.9998 - val_dense_9_acc: 0.9951 - val_dense_10_acc: 0.9637 - val_dense_11_acc: 0.8985 - val_dense_12_acc: 0.8720\n",
      "Epoch 27/50\n",
      "111s - loss: 1.3279 - dense_8_loss: 0.0024 - dense_9_loss: 0.0761 - dense_10_loss: 0.3275 - dense_11_loss: 0.4303 - dense_12_loss: 0.4916 - dense_8_acc: 0.9996 - dense_9_acc: 0.9776 - dense_10_acc: 0.8996 - dense_11_acc: 0.8690 - dense_12_acc: 0.8432 - val_loss: 0.8984 - val_dense_8_loss: 0.0018 - val_dense_9_loss: 0.0193 - val_dense_10_loss: 0.1387 - val_dense_11_loss: 0.3326 - val_dense_12_loss: 0.4060 - val_dense_8_acc: 0.9998 - val_dense_9_acc: 0.9953 - val_dense_10_acc: 0.9603 - val_dense_11_acc: 0.9019 - val_dense_12_acc: 0.8728\n",
      "Epoch 28/50\n",
      "107s - loss: 1.2984 - dense_8_loss: 0.0026 - dense_9_loss: 0.0762 - dense_10_loss: 0.3220 - dense_11_loss: 0.4159 - dense_12_loss: 0.4818 - dense_8_acc: 0.9996 - dense_9_acc: 0.9778 - dense_10_acc: 0.9002 - dense_11_acc: 0.8716 - dense_12_acc: 0.8478 - val_loss: 0.9072 - val_dense_8_loss: 0.0017 - val_dense_9_loss: 0.0186 - val_dense_10_loss: 0.1347 - val_dense_11_loss: 0.3373 - val_dense_12_loss: 0.4148 - val_dense_8_acc: 0.9998 - val_dense_9_acc: 0.9951 - val_dense_10_acc: 0.9624 - val_dense_11_acc: 0.9033 - val_dense_12_acc: 0.8698\n",
      "Epoch 29/50\n",
      "109s - loss: 1.2889 - dense_8_loss: 0.0027 - dense_9_loss: 0.0745 - dense_10_loss: 0.3199 - dense_11_loss: 0.4158 - dense_12_loss: 0.4761 - dense_8_acc: 0.9996 - dense_9_acc: 0.9780 - dense_10_acc: 0.9021 - dense_11_acc: 0.8719 - dense_12_acc: 0.8510 - val_loss: 0.8849 - val_dense_8_loss: 0.0018 - val_dense_9_loss: 0.0191 - val_dense_10_loss: 0.1350 - val_dense_11_loss: 0.3281 - val_dense_12_loss: 0.4008 - val_dense_8_acc: 0.9998 - val_dense_9_acc: 0.9948 - val_dense_10_acc: 0.9614 - val_dense_11_acc: 0.9037 - val_dense_12_acc: 0.8746\n",
      "Epoch 30/50\n",
      "102s - loss: 1.2777 - dense_8_loss: 0.0024 - dense_9_loss: 0.0757 - dense_10_loss: 0.3148 - dense_11_loss: 0.4123 - dense_12_loss: 0.4726 - dense_8_acc: 0.9996 - dense_9_acc: 0.9776 - dense_10_acc: 0.9037 - dense_11_acc: 0.8730 - dense_12_acc: 0.8507 - val_loss: 0.9113 - val_dense_8_loss: 0.0017 - val_dense_9_loss: 0.0248 - val_dense_10_loss: 0.1414 - val_dense_11_loss: 0.3452 - val_dense_12_loss: 0.3982 - val_dense_8_acc: 0.9998 - val_dense_9_acc: 0.9935 - val_dense_10_acc: 0.9607 - val_dense_11_acc: 0.8958 - val_dense_12_acc: 0.8773\n",
      "Epoch 31/50\n",
      "112s - loss: 1.2582 - dense_8_loss: 0.0025 - dense_9_loss: 0.0729 - dense_10_loss: 0.3075 - dense_11_loss: 0.4083 - dense_12_loss: 0.4670 - dense_8_acc: 0.9996 - dense_9_acc: 0.9789 - dense_10_acc: 0.9053 - dense_11_acc: 0.8750 - dense_12_acc: 0.8525 - val_loss: 0.8884 - val_dense_8_loss: 0.0016 - val_dense_9_loss: 0.0184 - val_dense_10_loss: 0.1299 - val_dense_11_loss: 0.3323 - val_dense_12_loss: 0.4062 - val_dense_8_acc: 0.9998 - val_dense_9_acc: 0.9954 - val_dense_10_acc: 0.9624 - val_dense_11_acc: 0.9027 - val_dense_12_acc: 0.8777\n",
      "Epoch 32/50\n",
      "103s - loss: 1.2491 - dense_8_loss: 0.0023 - dense_9_loss: 0.0728 - dense_10_loss: 0.3083 - dense_11_loss: 0.4043 - dense_12_loss: 0.4614 - dense_8_acc: 0.9996 - dense_9_acc: 0.9785 - dense_10_acc: 0.9054 - dense_11_acc: 0.8758 - dense_12_acc: 0.8554 - val_loss: 0.8836 - val_dense_8_loss: 0.0018 - val_dense_9_loss: 0.0192 - val_dense_10_loss: 0.1359 - val_dense_11_loss: 0.3382 - val_dense_12_loss: 0.3886 - val_dense_8_acc: 0.9998 - val_dense_9_acc: 0.9953 - val_dense_10_acc: 0.9602 - val_dense_11_acc: 0.9011 - val_dense_12_acc: 0.8855\n",
      "Epoch 33/50\n",
      "111s - loss: 1.2295 - dense_8_loss: 0.0021 - dense_9_loss: 0.0714 - dense_10_loss: 0.3029 - dense_11_loss: 0.3945 - dense_12_loss: 0.4586 - dense_8_acc: 0.9996 - dense_9_acc: 0.9786 - dense_10_acc: 0.9076 - dense_11_acc: 0.8775 - dense_12_acc: 0.8563 - val_loss: 0.8685 - val_dense_8_loss: 0.0017 - val_dense_9_loss: 0.0178 - val_dense_10_loss: 0.1259 - val_dense_11_loss: 0.3206 - val_dense_12_loss: 0.4025 - val_dense_8_acc: 0.9998 - val_dense_9_acc: 0.9957 - val_dense_10_acc: 0.9643 - val_dense_11_acc: 0.9090 - val_dense_12_acc: 0.8746\n",
      "Epoch 34/50\n",
      "109s - loss: 1.2298 - dense_8_loss: 0.0024 - dense_9_loss: 0.0707 - dense_10_loss: 0.3002 - dense_11_loss: 0.4032 - dense_12_loss: 0.4533 - dense_8_acc: 0.9996 - dense_9_acc: 0.9798 - dense_10_acc: 0.9087 - dense_11_acc: 0.8772 - dense_12_acc: 0.8576 - val_loss: 0.8961 - val_dense_8_loss: 0.0015 - val_dense_9_loss: 0.0190 - val_dense_10_loss: 0.1358 - val_dense_11_loss: 0.3358 - val_dense_12_loss: 0.4041 - val_dense_8_acc: 0.9998 - val_dense_9_acc: 0.9952 - val_dense_10_acc: 0.9623 - val_dense_11_acc: 0.9020 - val_dense_12_acc: 0.8763\n",
      "Epoch 35/50\n",
      "109s - loss: 1.2282 - dense_8_loss: 0.0024 - dense_9_loss: 0.0708 - dense_10_loss: 0.3023 - dense_11_loss: 0.3976 - dense_12_loss: 0.4550 - dense_8_acc: 0.9996 - dense_9_acc: 0.9798 - dense_10_acc: 0.9084 - dense_11_acc: 0.8772 - dense_12_acc: 0.8571 - val_loss: 0.8285 - val_dense_8_loss: 0.0016 - val_dense_9_loss: 0.0182 - val_dense_10_loss: 0.1248 - val_dense_11_loss: 0.3107 - val_dense_12_loss: 0.3732 - val_dense_8_acc: 0.9998 - val_dense_9_acc: 0.9954 - val_dense_10_acc: 0.9648 - val_dense_11_acc: 0.9109 - val_dense_12_acc: 0.8874\n",
      "Epoch 36/50\n",
      "108s - loss: 1.2139 - dense_8_loss: 0.0023 - dense_9_loss: 0.0713 - dense_10_loss: 0.2966 - dense_11_loss: 0.3948 - dense_12_loss: 0.4489 - dense_8_acc: 0.9996 - dense_9_acc: 0.9786 - dense_10_acc: 0.9098 - dense_11_acc: 0.8786 - dense_12_acc: 0.8589 - val_loss: 0.8444 - val_dense_8_loss: 0.0017 - val_dense_9_loss: 0.0189 - val_dense_10_loss: 0.1242 - val_dense_11_loss: 0.3164 - val_dense_12_loss: 0.3833 - val_dense_8_acc: 0.9998 - val_dense_9_acc: 0.9954 - val_dense_10_acc: 0.9647 - val_dense_11_acc: 0.9079 - val_dense_12_acc: 0.8818\n",
      "Epoch 37/50\n",
      "109s - loss: 1.1996 - dense_8_loss: 0.0025 - dense_9_loss: 0.0688 - dense_10_loss: 0.2936 - dense_11_loss: 0.3893 - dense_12_loss: 0.4454 - dense_8_acc: 0.9996 - dense_9_acc: 0.9795 - dense_10_acc: 0.9105 - dense_11_acc: 0.8816 - dense_12_acc: 0.8585 - val_loss: 0.8913 - val_dense_8_loss: 0.0015 - val_dense_9_loss: 0.0187 - val_dense_10_loss: 0.1386 - val_dense_11_loss: 0.3432 - val_dense_12_loss: 0.3893 - val_dense_8_acc: 0.9998 - val_dense_9_acc: 0.9949 - val_dense_10_acc: 0.9603 - val_dense_11_acc: 0.9026 - val_dense_12_acc: 0.8813\n",
      "Epoch 38/50\n",
      "105s - loss: 1.1992 - dense_8_loss: 0.0023 - dense_9_loss: 0.0691 - dense_10_loss: 0.2926 - dense_11_loss: 0.3908 - dense_12_loss: 0.4444 - dense_8_acc: 0.9996 - dense_9_acc: 0.9801 - dense_10_acc: 0.9107 - dense_11_acc: 0.8797 - dense_12_acc: 0.8601 - val_loss: 0.8364 - val_dense_8_loss: 0.0019 - val_dense_9_loss: 0.0166 - val_dense_10_loss: 0.1263 - val_dense_11_loss: 0.3155 - val_dense_12_loss: 0.3761 - val_dense_8_acc: 0.9998 - val_dense_9_acc: 0.9959 - val_dense_10_acc: 0.9641 - val_dense_11_acc: 0.9109 - val_dense_12_acc: 0.8834\n",
      "Epoch 39/50\n",
      "105s - loss: 1.1721 - dense_8_loss: 0.0020 - dense_9_loss: 0.0679 - dense_10_loss: 0.2865 - dense_11_loss: 0.3808 - dense_12_loss: 0.4349 - dense_8_acc: 0.9996 - dense_9_acc: 0.9803 - dense_10_acc: 0.9114 - dense_11_acc: 0.8833 - dense_12_acc: 0.8644 - val_loss: 0.8505 - val_dense_8_loss: 0.0018 - val_dense_9_loss: 0.0188 - val_dense_10_loss: 0.1276 - val_dense_11_loss: 0.3252 - val_dense_12_loss: 0.3770 - val_dense_8_acc: 0.9998 - val_dense_9_acc: 0.9952 - val_dense_10_acc: 0.9647 - val_dense_11_acc: 0.9055 - val_dense_12_acc: 0.8826\n",
      "Epoch 40/50\n",
      "109s - loss: 1.1766 - dense_8_loss: 0.0019 - dense_9_loss: 0.0685 - dense_10_loss: 0.2862 - dense_11_loss: 0.3831 - dense_12_loss: 0.4368 - dense_8_acc: 0.9996 - dense_9_acc: 0.9800 - dense_10_acc: 0.9124 - dense_11_acc: 0.8812 - dense_12_acc: 0.8636 - val_loss: 0.8648 - val_dense_8_loss: 0.0019 - val_dense_9_loss: 0.0215 - val_dense_10_loss: 0.1320 - val_dense_11_loss: 0.3247 - val_dense_12_loss: 0.3846 - val_dense_8_acc: 0.9998 - val_dense_9_acc: 0.9942 - val_dense_10_acc: 0.9644 - val_dense_11_acc: 0.9062 - val_dense_12_acc: 0.8797\n",
      "Epoch 41/50\n",
      "104s - loss: 1.1599 - dense_8_loss: 0.0019 - dense_9_loss: 0.0677 - dense_10_loss: 0.2824 - dense_11_loss: 0.3784 - dense_12_loss: 0.4295 - dense_8_acc: 0.9996 - dense_9_acc: 0.9804 - dense_10_acc: 0.9148 - dense_11_acc: 0.8835 - dense_12_acc: 0.8668 - val_loss: 0.8441 - val_dense_8_loss: 0.0018 - val_dense_9_loss: 0.0173 - val_dense_10_loss: 0.1229 - val_dense_11_loss: 0.3266 - val_dense_12_loss: 0.3755 - val_dense_8_acc: 0.9998 - val_dense_9_acc: 0.9949 - val_dense_10_acc: 0.9652 - val_dense_11_acc: 0.9064 - val_dense_12_acc: 0.8870\n",
      "Epoch 42/50\n",
      "108s - loss: 1.1549 - dense_8_loss: 0.0025 - dense_9_loss: 0.0659 - dense_10_loss: 0.2813 - dense_11_loss: 0.3747 - dense_12_loss: 0.4305 - dense_8_acc: 0.9996 - dense_9_acc: 0.9804 - dense_10_acc: 0.9137 - dense_11_acc: 0.8852 - dense_12_acc: 0.8661 - val_loss: 0.8687 - val_dense_8_loss: 0.0019 - val_dense_9_loss: 0.0249 - val_dense_10_loss: 0.1486 - val_dense_11_loss: 0.3260 - val_dense_12_loss: 0.3673 - val_dense_8_acc: 0.9998 - val_dense_9_acc: 0.9928 - val_dense_10_acc: 0.9587 - val_dense_11_acc: 0.9073 - val_dense_12_acc: 0.8889\n",
      "Epoch 43/50\n",
      "112s - loss: 1.1489 - dense_8_loss: 0.0021 - dense_9_loss: 0.0696 - dense_10_loss: 0.2840 - dense_11_loss: 0.3714 - dense_12_loss: 0.4219 - dense_8_acc: 0.9996 - dense_9_acc: 0.9794 - dense_10_acc: 0.9132 - dense_11_acc: 0.8857 - dense_12_acc: 0.8691 - val_loss: 0.8438 - val_dense_8_loss: 0.0016 - val_dense_9_loss: 0.0190 - val_dense_10_loss: 0.1309 - val_dense_11_loss: 0.3185 - val_dense_12_loss: 0.3739 - val_dense_8_acc: 0.9998 - val_dense_9_acc: 0.9948 - val_dense_10_acc: 0.9633 - val_dense_11_acc: 0.9088 - val_dense_12_acc: 0.8842\n",
      "Epoch 44/50\n",
      "105s - loss: 1.1416 - dense_8_loss: 0.0019 - dense_9_loss: 0.0675 - dense_10_loss: 0.2789 - dense_11_loss: 0.3723 - dense_12_loss: 0.4211 - dense_8_acc: 0.9996 - dense_9_acc: 0.9804 - dense_10_acc: 0.9146 - dense_11_acc: 0.8861 - dense_12_acc: 0.8680 - val_loss: 0.8791 - val_dense_8_loss: 0.0015 - val_dense_9_loss: 0.0272 - val_dense_10_loss: 0.1440 - val_dense_11_loss: 0.3271 - val_dense_12_loss: 0.3794 - val_dense_8_acc: 0.9998 - val_dense_9_acc: 0.9934 - val_dense_10_acc: 0.9595 - val_dense_11_acc: 0.9072 - val_dense_12_acc: 0.8843\n",
      "Epoch 45/50\n",
      "108s - loss: 1.1411 - dense_8_loss: 0.0023 - dense_9_loss: 0.0660 - dense_10_loss: 0.2786 - dense_11_loss: 0.3698 - dense_12_loss: 0.4244 - dense_8_acc: 0.9996 - dense_9_acc: 0.9804 - dense_10_acc: 0.9148 - dense_11_acc: 0.8866 - dense_12_acc: 0.8670 - val_loss: 0.8274 - val_dense_8_loss: 0.0015 - val_dense_9_loss: 0.0204 - val_dense_10_loss: 0.1295 - val_dense_11_loss: 0.3073 - val_dense_12_loss: 0.3687 - val_dense_8_acc: 0.9998 - val_dense_9_acc: 0.9946 - val_dense_10_acc: 0.9633 - val_dense_11_acc: 0.9122 - val_dense_12_acc: 0.8882\n",
      "Epoch 46/50\n",
      "109s - loss: 1.1351 - dense_8_loss: 0.0021 - dense_9_loss: 0.0642 - dense_10_loss: 0.2765 - dense_11_loss: 0.3673 - dense_12_loss: 0.4249 - dense_8_acc: 0.9996 - dense_9_acc: 0.9812 - dense_10_acc: 0.9157 - dense_11_acc: 0.8875 - dense_12_acc: 0.8672 - val_loss: 0.8582 - val_dense_8_loss: 0.0017 - val_dense_9_loss: 0.0183 - val_dense_10_loss: 0.1301 - val_dense_11_loss: 0.3269 - val_dense_12_loss: 0.3812 - val_dense_8_acc: 0.9998 - val_dense_9_acc: 0.9954 - val_dense_10_acc: 0.9623 - val_dense_11_acc: 0.9077 - val_dense_12_acc: 0.8858\n",
      "Epoch 47/50\n",
      "107s - loss: 1.1263 - dense_8_loss: 0.0024 - dense_9_loss: 0.0681 - dense_10_loss: 0.2739 - dense_11_loss: 0.3638 - dense_12_loss: 0.4181 - dense_8_acc: 0.9996 - dense_9_acc: 0.9798 - dense_10_acc: 0.9173 - dense_11_acc: 0.8873 - dense_12_acc: 0.8689 - val_loss: 0.8544 - val_dense_8_loss: 0.0016 - val_dense_9_loss: 0.0202 - val_dense_10_loss: 0.1351 - val_dense_11_loss: 0.3287 - val_dense_12_loss: 0.3688 - val_dense_8_acc: 0.9998 - val_dense_9_acc: 0.9951 - val_dense_10_acc: 0.9606 - val_dense_11_acc: 0.9078 - val_dense_12_acc: 0.8870\n",
      "Epoch 48/50\n",
      "105s - loss: 1.1175 - dense_8_loss: 0.0020 - dense_9_loss: 0.0655 - dense_10_loss: 0.2745 - dense_11_loss: 0.3581 - dense_12_loss: 0.4173 - dense_8_acc: 0.9996 - dense_9_acc: 0.9806 - dense_10_acc: 0.9172 - dense_11_acc: 0.8909 - dense_12_acc: 0.8699 - val_loss: 0.8258 - val_dense_8_loss: 0.0017 - val_dense_9_loss: 0.0213 - val_dense_10_loss: 0.1301 - val_dense_11_loss: 0.3192 - val_dense_12_loss: 0.3535 - val_dense_8_acc: 0.9998 - val_dense_9_acc: 0.9950 - val_dense_10_acc: 0.9637 - val_dense_11_acc: 0.9071 - val_dense_12_acc: 0.8920\n",
      "Epoch 49/50\n",
      "108s - loss: 1.1151 - dense_8_loss: 0.0019 - dense_9_loss: 0.0641 - dense_10_loss: 0.2693 - dense_11_loss: 0.3634 - dense_12_loss: 0.4163 - dense_8_acc: 0.9996 - dense_9_acc: 0.9813 - dense_10_acc: 0.9187 - dense_11_acc: 0.8891 - dense_12_acc: 0.8704 - val_loss: 0.8536 - val_dense_8_loss: 0.0014 - val_dense_9_loss: 0.0213 - val_dense_10_loss: 0.1405 - val_dense_11_loss: 0.3194 - val_dense_12_loss: 0.3710 - val_dense_8_acc: 0.9998 - val_dense_9_acc: 0.9947 - val_dense_10_acc: 0.9607 - val_dense_11_acc: 0.9102 - val_dense_12_acc: 0.8868\n",
      "Epoch 50/50\n",
      "102s - loss: 1.1080 - dense_8_loss: 0.0017 - dense_9_loss: 0.0652 - dense_10_loss: 0.2669 - dense_11_loss: 0.3576 - dense_12_loss: 0.4166 - dense_8_acc: 0.9996 - dense_9_acc: 0.9802 - dense_10_acc: 0.9200 - dense_11_acc: 0.8921 - dense_12_acc: 0.8703 - val_loss: 0.8246 - val_dense_8_loss: 0.0017 - val_dense_9_loss: 0.0198 - val_dense_10_loss: 0.1267 - val_dense_11_loss: 0.3096 - val_dense_12_loss: 0.3667 - val_dense_8_acc: 0.9998 - val_dense_9_acc: 0.9952 - val_dense_10_acc: 0.9637 - val_dense_11_acc: 0.9126 - val_dense_12_acc: 0.8874\n"
     ]
    }
   ],
   "source": [
    "hide_code\n",
    "\n",
    "cnn_model = cnn_model()\n",
    "\n",
    "history1 = cnn_model.fit(X_train, y_train_cat_list, validation_data=(X_test, y_test_cat_list), \n",
    "                         epochs=50, batch_size=128, verbose=2)"
   ]
  },
  {
   "cell_type": "code",
   "execution_count": 41,
   "metadata": {
    "collapsed": false
   },
   "outputs": [
    {
     "name": "stdout",
     "output_type": "stream",
     "text": [
      "Model 1. CNN Scores: \n",
      " [0.8245545383691788, 0.0017090049833130934, 0.019791655895911388, 0.12667907728720457, 0.30962735496958099, 0.36674744517107805, 0.99983333333333335, 0.99524999999999997, 0.96375, 0.9125833333333333, 0.88741666666666663]\n",
      "Model 1. First digit. CNN Accuracy: 99.98%\n",
      "Model 1. Second digit. CNN Accuracy: 99.52%\n",
      "Model 1. Third digit. CNN Accuracy: 96.38%\n",
      "Model 1. Fourth digit. CNN Accuracy: 91.26%\n",
      "Model 1. Fifth digit. CNN Accuracy: 88.74%\n",
      "____________________________________________________________________________________________________\n",
      "Layer (type)                     Output Shape          Param #     Connected to                     \n",
      "====================================================================================================\n",
      "input_7 (InputLayer)             (None, 32, 32, 1)     0                                            \n",
      "____________________________________________________________________________________________________\n",
      "conv2d_36 (Conv2D)               (None, 32, 32, 32)    320         input_7[0][0]                    \n",
      "____________________________________________________________________________________________________\n",
      "max_pooling2d_23 (MaxPooling2D)  (None, 16, 16, 32)    0           conv2d_36[0][0]                  \n",
      "____________________________________________________________________________________________________\n",
      "conv2d_37 (Conv2D)               (None, 14, 14, 32)    9248        max_pooling2d_23[0][0]           \n",
      "____________________________________________________________________________________________________\n",
      "max_pooling2d_24 (MaxPooling2D)  (None, 7, 7, 32)      0           conv2d_37[0][0]                  \n",
      "____________________________________________________________________________________________________\n",
      "dropout_15 (Dropout)             (None, 7, 7, 32)      0           max_pooling2d_24[0][0]           \n",
      "____________________________________________________________________________________________________\n",
      "conv2d_38 (Conv2D)               (None, 5, 5, 64)      18496       dropout_15[0][0]                 \n",
      "____________________________________________________________________________________________________\n",
      "conv2d_39 (Conv2D)               (None, 3, 3, 64)      36928       conv2d_38[0][0]                  \n",
      "____________________________________________________________________________________________________\n",
      "dropout_16 (Dropout)             (None, 3, 3, 64)      0           conv2d_39[0][0]                  \n",
      "____________________________________________________________________________________________________\n",
      "conv2d_40 (Conv2D)               (None, 1, 1, 128)     73856       dropout_16[0][0]                 \n",
      "____________________________________________________________________________________________________\n",
      "dropout_17 (Dropout)             (None, 1, 1, 128)     0           conv2d_40[0][0]                  \n",
      "____________________________________________________________________________________________________\n",
      "flatten_2 (Flatten)              (None, 128)           0           dropout_17[0][0]                 \n",
      "____________________________________________________________________________________________________\n",
      "dense_7 (Dense)                  (None, 512)           66048       flatten_2[0][0]                  \n",
      "____________________________________________________________________________________________________\n",
      "dropout_18 (Dropout)             (None, 512)           0           dense_7[0][0]                    \n",
      "____________________________________________________________________________________________________\n",
      "dense_8 (Dense)                  (None, 11)            5643        dropout_18[0][0]                 \n",
      "____________________________________________________________________________________________________\n",
      "dense_9 (Dense)                  (None, 11)            5643        dropout_18[0][0]                 \n",
      "____________________________________________________________________________________________________\n",
      "dense_10 (Dense)                 (None, 11)            5643        dropout_18[0][0]                 \n",
      "____________________________________________________________________________________________________\n",
      "dense_11 (Dense)                 (None, 11)            5643        dropout_18[0][0]                 \n",
      "____________________________________________________________________________________________________\n",
      "dense_12 (Dense)                 (None, 11)            5643        dropout_18[0][0]                 \n",
      "====================================================================================================\n",
      "Total params: 233,111\n",
      "Trainable params: 233,111\n",
      "Non-trainable params: 0\n",
      "____________________________________________________________________________________________________\n",
      "None\n"
     ]
    }
   ],
   "source": [
    "hide_code\n",
    "\n",
    "cnn_scores = cnn_model.evaluate(X_test, y_test_cat_list, verbose=0)\n",
    "\n",
    "print(\"Model 1. CNN Scores: \\n\" , (cnn_scores))\n",
    "print(\"Model 1. First digit. CNN Accuracy: %.2f%%\" % (cnn_scores[6]*100))\n",
    "print(\"Model 1. Second digit. CNN Accuracy: %.2f%%\" % (cnn_scores[7]*100))\n",
    "print(\"Model 1. Third digit. CNN Accuracy: %.2f%%\" % (cnn_scores[8]*100))\n",
    "print(\"Model 1. Fourth digit. CNN Accuracy: %.2f%%\" % (cnn_scores[9]*100))\n",
    "print(\"Model 1. Fifth digit. CNN Accuracy: %.2f%%\" % (cnn_scores[10]*100))\n",
    "\n",
    "print(cnn_model.summary())"
   ]
  },
  {
   "cell_type": "code",
   "execution_count": 42,
   "metadata": {
    "collapsed": false
   },
   "outputs": [
    {
     "data": {
      "image/png": "[encoded data removed]",
      "text/plain": [
       "<matplotlib.figure.Figure at 0x11c2c1eb8>"
      ]
     },
     "metadata": {},
     "output_type": "display_data"
    }
   ],
   "source": [
    "hide_code\n",
    "\n",
    "plt.figure(figsize=(12,4))\n",
    "\n",
    "plt.plot(history1.history['val_dense_8_acc'], label = 'First digit')\n",
    "plt.plot(history1.history['val_dense_9_acc'], label = 'Second digit')\n",
    "plt.plot(history1.history['val_dense_10_acc'], label = 'Third digit')\n",
    "plt.plot(history1.history['val_dense_11_acc'], label = 'Fourth digit')\n",
    "plt.plot(history1.history['val_dense_12_acc'], label = 'Fifth digit')\n",
    "\n",
    "plt.legend()\n",
    "plt.title('Accuracy');"
   ]
  },
  {
   "cell_type": "code",
   "execution_count": 43,
   "metadata": {
    "collapsed": false
   },
   "outputs": [
    {
     "name": "stdout",
     "output_type": "stream",
     "text": [
      "Model 1. Average CNN Accuracy: 95.18%\n"
     ]
    }
   ],
   "source": [
    "hide_code\n",
    "\n",
    "avg_accuracy = sum([cnn_scores[i] for i in range(6, 11)])/5\n",
    "\n",
    "print(\"Model 1. Average CNN Accuracy: %.2f%%\" % (avg_accuracy*100))"
   ]
  },
  {
   "cell_type": "code",
   "execution_count": 45,
   "metadata": {
    "collapsed": true
   },
   "outputs": [],
   "source": [
    "hide_code\n",
    "\n",
    "def cnn_model2():    \n",
    "    model_input = Input(shape=(32, 32, 1))  \n",
    "    \n",
    "    x = BatchNormalization()(model_input)\n",
    "        \n",
    "    x = Conv2D(32, (5, 5), activation='relu')(x)\n",
    "    x = MaxPooling2D(pool_size=(2, 2))(x)\n",
    "    \n",
    "    x = Dropout(0.25)(x)\n",
    "    \n",
    "    x = Conv2D(64, (5, 5), activation='relu')(x)\n",
    "    x = MaxPooling2D(pool_size=(2, 2))(x)\n",
    "    \n",
    "    x = Dropout(0.25)(x)\n",
    "              \n",
    "    x = Flatten()(x)\n",
    "    \n",
    "    x = Dense(256, activation='relu')(x)\n",
    "    \n",
    "    y1 = Dense(11, activation='softmax')(x)\n",
    "    y2 = Dense(11, activation='softmax')(x)\n",
    "    y3 = Dense(11, activation='softmax')(x)\n",
    "    y4 = Dense(11, activation='softmax')(x)\n",
    "    y5 = Dense(11, activation='softmax')(x)\n",
    "    \n",
    "    model = Model(input=model_input, output=[y1, y2, y3, y4, y5])\n",
    "\n",
    "    model.compile(loss='categorical_crossentropy', optimizer='adam', metrics=['accuracy'])\n",
    "    return model"
   ]
  },
  {
   "cell_type": "code",
   "execution_count": 46,
   "metadata": {
    "collapsed": false
   },
   "outputs": [
    {
     "name": "stdout",
     "output_type": "stream",
     "text": [
      "Train on 52000 samples, validate on 12000 samples\n",
      "Epoch 1/50\n",
      "145s - loss: 4.1452 - dense_14_loss: 0.0195 - dense_15_loss: 0.2155 - dense_16_loss: 0.9186 - dense_17_loss: 1.4601 - dense_18_loss: 1.5314 - dense_14_acc: 0.9971 - dense_15_acc: 0.9472 - dense_16_acc: 0.7227 - dense_17_acc: 0.5126 - dense_18_acc: 0.4759 - val_loss: 2.1499 - val_dense_14_loss: 0.0023 - val_dense_15_loss: 0.0406 - val_dense_16_loss: 0.2455 - val_dense_17_loss: 0.8479 - val_dense_18_loss: 1.0136 - val_dense_14_acc: 0.9998 - val_dense_15_acc: 0.9925 - val_dense_16_acc: 0.9327 - val_dense_17_acc: 0.7518 - val_dense_18_acc: 0.6942\n",
      "Epoch 2/50\n",
      "138s - loss: 2.1869 - dense_14_loss: 0.0036 - dense_15_loss: 0.1099 - dense_16_loss: 0.4984 - dense_17_loss: 0.7497 - dense_18_loss: 0.8253 - dense_14_acc: 0.9996 - dense_15_acc: 0.9692 - dense_16_acc: 0.8468 - dense_17_acc: 0.7689 - dense_18_acc: 0.7415 - val_loss: 1.6558 - val_dense_14_loss: 0.0017 - val_dense_15_loss: 0.0242 - val_dense_16_loss: 0.2217 - val_dense_17_loss: 0.6266 - val_dense_18_loss: 0.7817 - val_dense_14_acc: 0.9998 - val_dense_15_acc: 0.9939 - val_dense_16_acc: 0.9360 - val_dense_17_acc: 0.8194 - val_dense_18_acc: 0.7660\n",
      "Epoch 3/50\n",
      "143s - loss: 1.7868 - dense_14_loss: 0.0029 - dense_15_loss: 0.0888 - dense_16_loss: 0.4155 - dense_17_loss: 0.5910 - dense_18_loss: 0.6886 - dense_14_acc: 0.9996 - dense_15_acc: 0.9741 - dense_16_acc: 0.8739 - dense_17_acc: 0.8196 - dense_18_acc: 0.7880 - val_loss: 1.4607 - val_dense_14_loss: 0.0016 - val_dense_15_loss: 0.0231 - val_dense_16_loss: 0.1977 - val_dense_17_loss: 0.5367 - val_dense_18_loss: 0.7015 - val_dense_14_acc: 0.9998 - val_dense_15_acc: 0.9932 - val_dense_16_acc: 0.9438 - val_dense_17_acc: 0.8469 - val_dense_18_acc: 0.7953\n",
      "Epoch 4/50\n",
      "149s - loss: 1.5538 - dense_14_loss: 0.0029 - dense_15_loss: 0.0778 - dense_16_loss: 0.3648 - dense_17_loss: 0.5027 - dense_18_loss: 0.6056 - dense_14_acc: 0.9996 - dense_15_acc: 0.9778 - dense_16_acc: 0.8899 - dense_17_acc: 0.8466 - dense_18_acc: 0.8127 - val_loss: 1.3654 - val_dense_14_loss: 0.0016 - val_dense_15_loss: 0.0213 - val_dense_16_loss: 0.1730 - val_dense_17_loss: 0.5335 - val_dense_18_loss: 0.6359 - val_dense_14_acc: 0.9998 - val_dense_15_acc: 0.9944 - val_dense_16_acc: 0.9514 - val_dense_17_acc: 0.8500 - val_dense_18_acc: 0.8133\n",
      "Epoch 5/50\n",
      "157s - loss: 1.3970 - dense_14_loss: 0.0023 - dense_15_loss: 0.0680 - dense_16_loss: 0.3263 - dense_17_loss: 0.4507 - dense_18_loss: 0.5497 - dense_14_acc: 0.9996 - dense_15_acc: 0.9798 - dense_16_acc: 0.9002 - dense_17_acc: 0.8616 - dense_18_acc: 0.8281 - val_loss: 1.2639 - val_dense_14_loss: 0.0018 - val_dense_15_loss: 0.0211 - val_dense_16_loss: 0.1697 - val_dense_17_loss: 0.4741 - val_dense_18_loss: 0.5973 - val_dense_14_acc: 0.9998 - val_dense_15_acc: 0.9945 - val_dense_16_acc: 0.9532 - val_dense_17_acc: 0.8657 - val_dense_18_acc: 0.8258\n",
      "Epoch 6/50\n",
      "153s - loss: 1.2797 - dense_14_loss: 0.0024 - dense_15_loss: 0.0621 - dense_16_loss: 0.3026 - dense_17_loss: 0.4044 - dense_18_loss: 0.5083 - dense_14_acc: 0.9996 - dense_15_acc: 0.9815 - dense_16_acc: 0.9064 - dense_17_acc: 0.8769 - dense_18_acc: 0.8415 - val_loss: 1.2018 - val_dense_14_loss: 0.0016 - val_dense_15_loss: 0.0207 - val_dense_16_loss: 0.1635 - val_dense_17_loss: 0.4474 - val_dense_18_loss: 0.5686 - val_dense_14_acc: 0.9998 - val_dense_15_acc: 0.9939 - val_dense_16_acc: 0.9506 - val_dense_17_acc: 0.8736 - val_dense_18_acc: 0.8307\n",
      "Epoch 7/50\n",
      "137s - loss: 1.1874 - dense_14_loss: 0.0019 - dense_15_loss: 0.0590 - dense_16_loss: 0.2801 - dense_17_loss: 0.3731 - dense_18_loss: 0.4732 - dense_14_acc: 0.9996 - dense_15_acc: 0.9820 - dense_16_acc: 0.9141 - dense_17_acc: 0.8862 - dense_18_acc: 0.8512 - val_loss: 1.1357 - val_dense_14_loss: 0.0016 - val_dense_15_loss: 0.0168 - val_dense_16_loss: 0.1457 - val_dense_17_loss: 0.4283 - val_dense_18_loss: 0.5433 - val_dense_14_acc: 0.9998 - val_dense_15_acc: 0.9952 - val_dense_16_acc: 0.9583 - val_dense_17_acc: 0.8821 - val_dense_18_acc: 0.8404\n",
      "Epoch 8/50\n",
      "129s - loss: 1.1142 - dense_14_loss: 0.0017 - dense_15_loss: 0.0527 - dense_16_loss: 0.2622 - dense_17_loss: 0.3514 - dense_18_loss: 0.4461 - dense_14_acc: 0.9996 - dense_15_acc: 0.9839 - dense_16_acc: 0.9197 - dense_17_acc: 0.8921 - dense_18_acc: 0.8591 - val_loss: 1.1808 - val_dense_14_loss: 0.0020 - val_dense_15_loss: 0.0200 - val_dense_16_loss: 0.1660 - val_dense_17_loss: 0.4471 - val_dense_18_loss: 0.5458 - val_dense_14_acc: 0.9998 - val_dense_15_acc: 0.9946 - val_dense_16_acc: 0.9536 - val_dense_17_acc: 0.8755 - val_dense_18_acc: 0.8377\n",
      "Epoch 9/50\n",
      "133s - loss: 1.0414 - dense_14_loss: 0.0015 - dense_15_loss: 0.0516 - dense_16_loss: 0.2427 - dense_17_loss: 0.3321 - dense_18_loss: 0.4134 - dense_14_acc: 0.9996 - dense_15_acc: 0.9842 - dense_16_acc: 0.9250 - dense_17_acc: 0.8973 - dense_18_acc: 0.8692 - val_loss: 1.1021 - val_dense_14_loss: 0.0020 - val_dense_15_loss: 0.0209 - val_dense_16_loss: 0.1520 - val_dense_17_loss: 0.4171 - val_dense_18_loss: 0.5100 - val_dense_14_acc: 0.9998 - val_dense_15_acc: 0.9945 - val_dense_16_acc: 0.9589 - val_dense_17_acc: 0.8826 - val_dense_18_acc: 0.8504\n",
      "Epoch 10/50\n",
      "131s - loss: 0.9784 - dense_14_loss: 0.0014 - dense_15_loss: 0.0472 - dense_16_loss: 0.2304 - dense_17_loss: 0.3091 - dense_18_loss: 0.3902 - dense_14_acc: 0.9996 - dense_15_acc: 0.9853 - dense_16_acc: 0.9281 - dense_17_acc: 0.9047 - dense_18_acc: 0.8763 - val_loss: 1.1040 - val_dense_14_loss: 0.0019 - val_dense_15_loss: 0.0186 - val_dense_16_loss: 0.1604 - val_dense_17_loss: 0.4194 - val_dense_18_loss: 0.5037 - val_dense_14_acc: 0.9998 - val_dense_15_acc: 0.9945 - val_dense_16_acc: 0.9533 - val_dense_17_acc: 0.8827 - val_dense_18_acc: 0.8503\n",
      "Epoch 11/50\n",
      "130s - loss: 0.9415 - dense_14_loss: 0.0012 - dense_15_loss: 0.0448 - dense_16_loss: 0.2205 - dense_17_loss: 0.2931 - dense_18_loss: 0.3819 - dense_14_acc: 0.9996 - dense_15_acc: 0.9862 - dense_16_acc: 0.9313 - dense_17_acc: 0.9079 - dense_18_acc: 0.8792 - val_loss: 1.0990 - val_dense_14_loss: 0.0021 - val_dense_15_loss: 0.0154 - val_dense_16_loss: 0.1455 - val_dense_17_loss: 0.4231 - val_dense_18_loss: 0.5129 - val_dense_14_acc: 0.9998 - val_dense_15_acc: 0.9953 - val_dense_16_acc: 0.9593 - val_dense_17_acc: 0.8855 - val_dense_18_acc: 0.8517\n",
      "Epoch 12/50\n",
      "618s - loss: 0.8903 - dense_14_loss: 6.8542e-04 - dense_15_loss: 0.0391 - dense_16_loss: 0.2080 - dense_17_loss: 0.2832 - dense_18_loss: 0.3593 - dense_14_acc: 0.9998 - dense_15_acc: 0.9880 - dense_16_acc: 0.9343 - dense_17_acc: 0.9114 - dense_18_acc: 0.8855 - val_loss: 1.1357 - val_dense_14_loss: 0.0019 - val_dense_15_loss: 0.0177 - val_dense_16_loss: 0.1669 - val_dense_17_loss: 0.4353 - val_dense_18_loss: 0.5139 - val_dense_14_acc: 0.9998 - val_dense_15_acc: 0.9948 - val_dense_16_acc: 0.9505 - val_dense_17_acc: 0.8808 - val_dense_18_acc: 0.8493\n",
      "Epoch 13/50\n",
      "4415s - loss: 0.8513 - dense_14_loss: 5.8093e-04 - dense_15_loss: 0.0377 - dense_16_loss: 0.2001 - dense_17_loss: 0.2704 - dense_18_loss: 0.3425 - dense_14_acc: 0.9998 - dense_15_acc: 0.9881 - dense_16_acc: 0.9369 - dense_17_acc: 0.9143 - dense_18_acc: 0.8899 - val_loss: 1.0964 - val_dense_14_loss: 0.0023 - val_dense_15_loss: 0.0233 - val_dense_16_loss: 0.1591 - val_dense_17_loss: 0.4192 - val_dense_18_loss: 0.4924 - val_dense_14_acc: 0.9998 - val_dense_15_acc: 0.9932 - val_dense_16_acc: 0.9548 - val_dense_17_acc: 0.8874 - val_dense_18_acc: 0.8522\n",
      "Epoch 14/50\n",
      "154s - loss: 0.8205 - dense_14_loss: 5.4941e-04 - dense_15_loss: 0.0384 - dense_16_loss: 0.1908 - dense_17_loss: 0.2581 - dense_18_loss: 0.3327 - dense_14_acc: 0.9999 - dense_15_acc: 0.9880 - dense_16_acc: 0.9392 - dense_17_acc: 0.9184 - dense_18_acc: 0.8932 - val_loss: 1.0635 - val_dense_14_loss: 0.0020 - val_dense_15_loss: 0.0186 - val_dense_16_loss: 0.1535 - val_dense_17_loss: 0.4004 - val_dense_18_loss: 0.4891 - val_dense_14_acc: 0.9998 - val_dense_15_acc: 0.9942 - val_dense_16_acc: 0.9567 - val_dense_17_acc: 0.8890 - val_dense_18_acc: 0.8569\n",
      "Epoch 15/50\n",
      "155s - loss: 0.7912 - dense_14_loss: 6.8718e-04 - dense_15_loss: 0.0362 - dense_16_loss: 0.1782 - dense_17_loss: 0.2519 - dense_18_loss: 0.3242 - dense_14_acc: 0.9997 - dense_15_acc: 0.9885 - dense_16_acc: 0.9430 - dense_17_acc: 0.9204 - dense_18_acc: 0.8968 - val_loss: 1.0883 - val_dense_14_loss: 0.0023 - val_dense_15_loss: 0.0211 - val_dense_16_loss: 0.1587 - val_dense_17_loss: 0.4121 - val_dense_18_loss: 0.4941 - val_dense_14_acc: 0.9998 - val_dense_15_acc: 0.9946 - val_dense_16_acc: 0.9579 - val_dense_17_acc: 0.8886 - val_dense_18_acc: 0.8597\n",
      "Epoch 16/50\n",
      "182s - loss: 0.7592 - dense_14_loss: 6.7137e-04 - dense_15_loss: 0.0322 - dense_16_loss: 0.1791 - dense_17_loss: 0.2378 - dense_18_loss: 0.3094 - dense_14_acc: 0.9997 - dense_15_acc: 0.9897 - dense_16_acc: 0.9430 - dense_17_acc: 0.9246 - dense_18_acc: 0.9017 - val_loss: 1.0714 - val_dense_14_loss: 0.0026 - val_dense_15_loss: 0.0191 - val_dense_16_loss: 0.1504 - val_dense_17_loss: 0.4144 - val_dense_18_loss: 0.4849 - val_dense_14_acc: 0.9998 - val_dense_15_acc: 0.9944 - val_dense_16_acc: 0.9580 - val_dense_17_acc: 0.8885 - val_dense_18_acc: 0.8602\n",
      "Epoch 17/50\n",
      "159s - loss: 0.7376 - dense_14_loss: 7.2571e-04 - dense_15_loss: 0.0320 - dense_16_loss: 0.1713 - dense_17_loss: 0.2343 - dense_18_loss: 0.2992 - dense_14_acc: 0.9998 - dense_15_acc: 0.9898 - dense_16_acc: 0.9457 - dense_17_acc: 0.9256 - dense_18_acc: 0.9031 - val_loss: 1.0872 - val_dense_14_loss: 0.0026 - val_dense_15_loss: 0.0176 - val_dense_16_loss: 0.1527 - val_dense_17_loss: 0.4047 - val_dense_18_loss: 0.5095 - val_dense_14_acc: 0.9998 - val_dense_15_acc: 0.9953 - val_dense_16_acc: 0.9579 - val_dense_17_acc: 0.8934 - val_dense_18_acc: 0.8527\n",
      "Epoch 18/50\n",
      "165s - loss: 0.7115 - dense_14_loss: 6.6769e-04 - dense_15_loss: 0.0304 - dense_16_loss: 0.1634 - dense_17_loss: 0.2253 - dense_18_loss: 0.2917 - dense_14_acc: 0.9998 - dense_15_acc: 0.9904 - dense_16_acc: 0.9478 - dense_17_acc: 0.9292 - dense_18_acc: 0.9064 - val_loss: 1.1319 - val_dense_14_loss: 0.0025 - val_dense_15_loss: 0.0226 - val_dense_16_loss: 0.1685 - val_dense_17_loss: 0.4354 - val_dense_18_loss: 0.5030 - val_dense_14_acc: 0.9998 - val_dense_15_acc: 0.9939 - val_dense_16_acc: 0.9547 - val_dense_17_acc: 0.8830 - val_dense_18_acc: 0.8584\n",
      "Epoch 19/50\n",
      "174s - loss: 0.6841 - dense_14_loss: 3.3770e-04 - dense_15_loss: 0.0288 - dense_16_loss: 0.1566 - dense_17_loss: 0.2198 - dense_18_loss: 0.2786 - dense_14_acc: 0.9999 - dense_15_acc: 0.9906 - dense_16_acc: 0.9502 - dense_17_acc: 0.9289 - dense_18_acc: 0.9104 - val_loss: 1.1360 - val_dense_14_loss: 0.0024 - val_dense_15_loss: 0.0202 - val_dense_16_loss: 0.1521 - val_dense_17_loss: 0.4406 - val_dense_18_loss: 0.5208 - val_dense_14_acc: 0.9998 - val_dense_15_acc: 0.9952 - val_dense_16_acc: 0.9575 - val_dense_17_acc: 0.8867 - val_dense_18_acc: 0.8568\n",
      "Epoch 20/50\n",
      "174s - loss: 0.6665 - dense_14_loss: 4.9121e-04 - dense_15_loss: 0.0288 - dense_16_loss: 0.1546 - dense_17_loss: 0.2146 - dense_18_loss: 0.2680 - dense_14_acc: 0.9998 - dense_15_acc: 0.9904 - dense_16_acc: 0.9496 - dense_17_acc: 0.9320 - dense_18_acc: 0.9135 - val_loss: 1.0905 - val_dense_14_loss: 0.0021 - val_dense_15_loss: 0.0163 - val_dense_16_loss: 0.1528 - val_dense_17_loss: 0.4124 - val_dense_18_loss: 0.5069 - val_dense_14_acc: 0.9998 - val_dense_15_acc: 0.9952 - val_dense_16_acc: 0.9577 - val_dense_17_acc: 0.8916 - val_dense_18_acc: 0.8576\n",
      "Epoch 21/50\n",
      "202s - loss: 0.6527 - dense_14_loss: 2.9264e-04 - dense_15_loss: 0.0280 - dense_16_loss: 0.1517 - dense_17_loss: 0.2083 - dense_18_loss: 0.2644 - dense_14_acc: 0.9999 - dense_15_acc: 0.9909 - dense_16_acc: 0.9511 - dense_17_acc: 0.9323 - dense_18_acc: 0.9156 - val_loss: 1.0952 - val_dense_14_loss: 0.0026 - val_dense_15_loss: 0.0193 - val_dense_16_loss: 0.1515 - val_dense_17_loss: 0.4199 - val_dense_18_loss: 0.5018 - val_dense_14_acc: 0.9998 - val_dense_15_acc: 0.9952 - val_dense_16_acc: 0.9587 - val_dense_17_acc: 0.8922 - val_dense_18_acc: 0.8622\n",
      "Epoch 22/50\n",
      "183s - loss: 0.6312 - dense_14_loss: 1.3796e-04 - dense_15_loss: 0.0259 - dense_16_loss: 0.1471 - dense_17_loss: 0.2012 - dense_18_loss: 0.2568 - dense_14_acc: 1.0000 - dense_15_acc: 0.9911 - dense_16_acc: 0.9532 - dense_17_acc: 0.9354 - dense_18_acc: 0.9177 - val_loss: 1.1450 - val_dense_14_loss: 0.0023 - val_dense_15_loss: 0.0208 - val_dense_16_loss: 0.1582 - val_dense_17_loss: 0.4394 - val_dense_18_loss: 0.5244 - val_dense_14_acc: 0.9998 - val_dense_15_acc: 0.9946 - val_dense_16_acc: 0.9590 - val_dense_17_acc: 0.8878 - val_dense_18_acc: 0.8592\n",
      "Epoch 23/50\n",
      "188s - loss: 0.6203 - dense_14_loss: 6.4937e-04 - dense_15_loss: 0.0262 - dense_16_loss: 0.1423 - dense_17_loss: 0.1990 - dense_18_loss: 0.2522 - dense_14_acc: 0.9998 - dense_15_acc: 0.9914 - dense_16_acc: 0.9537 - dense_17_acc: 0.9349 - dense_18_acc: 0.9172 - val_loss: 1.1373 - val_dense_14_loss: 0.0022 - val_dense_15_loss: 0.0209 - val_dense_16_loss: 0.1555 - val_dense_17_loss: 0.4370 - val_dense_18_loss: 0.5217 - val_dense_14_acc: 0.9998 - val_dense_15_acc: 0.9948 - val_dense_16_acc: 0.9599 - val_dense_17_acc: 0.8904 - val_dense_18_acc: 0.8612\n",
      "Epoch 24/50\n",
      "173s - loss: 0.5996 - dense_14_loss: 4.8535e-04 - dense_15_loss: 0.0242 - dense_16_loss: 0.1365 - dense_17_loss: 0.1893 - dense_18_loss: 0.2490 - dense_14_acc: 0.9999 - dense_15_acc: 0.9922 - dense_16_acc: 0.9563 - dense_17_acc: 0.9386 - dense_18_acc: 0.9198 - val_loss: 1.1303 - val_dense_14_loss: 0.0022 - val_dense_15_loss: 0.0203 - val_dense_16_loss: 0.1536 - val_dense_17_loss: 0.4474 - val_dense_18_loss: 0.5068 - val_dense_14_acc: 0.9998 - val_dense_15_acc: 0.9951 - val_dense_16_acc: 0.9599 - val_dense_17_acc: 0.8913 - val_dense_18_acc: 0.8628\n",
      "Epoch 25/50\n",
      "167s - loss: 0.5907 - dense_14_loss: 5.8326e-04 - dense_15_loss: 0.0240 - dense_16_loss: 0.1319 - dense_17_loss: 0.1904 - dense_18_loss: 0.2438 - dense_14_acc: 0.9998 - dense_15_acc: 0.9916 - dense_16_acc: 0.9577 - dense_17_acc: 0.9383 - dense_18_acc: 0.9211 - val_loss: 1.1477 - val_dense_14_loss: 0.0020 - val_dense_15_loss: 0.0206 - val_dense_16_loss: 0.1674 - val_dense_17_loss: 0.4385 - val_dense_18_loss: 0.5192 - val_dense_14_acc: 0.9998 - val_dense_15_acc: 0.9950 - val_dense_16_acc: 0.9566 - val_dense_17_acc: 0.8890 - val_dense_18_acc: 0.8570\n",
      "Epoch 26/50\n",
      "166s - loss: 0.5704 - dense_14_loss: 4.2677e-04 - dense_15_loss: 0.0219 - dense_16_loss: 0.1354 - dense_17_loss: 0.1840 - dense_18_loss: 0.2286 - dense_14_acc: 0.9998 - dense_15_acc: 0.9929 - dense_16_acc: 0.9571 - dense_17_acc: 0.9394 - dense_18_acc: 0.9247 - val_loss: 1.1753 - val_dense_14_loss: 0.0023 - val_dense_15_loss: 0.0206 - val_dense_16_loss: 0.1698 - val_dense_17_loss: 0.4513 - val_dense_18_loss: 0.5313 - val_dense_14_acc: 0.9998 - val_dense_15_acc: 0.9952 - val_dense_16_acc: 0.9582 - val_dense_17_acc: 0.8906 - val_dense_18_acc: 0.8588\n",
      "Epoch 27/50\n",
      "166s - loss: 0.5610 - dense_14_loss: 4.9400e-04 - dense_15_loss: 0.0231 - dense_16_loss: 0.1305 - dense_17_loss: 0.1744 - dense_18_loss: 0.2324 - dense_14_acc: 0.9997 - dense_15_acc: 0.9927 - dense_16_acc: 0.9578 - dense_17_acc: 0.9429 - dense_18_acc: 0.9216 - val_loss: 1.1571 - val_dense_14_loss: 0.0021 - val_dense_15_loss: 0.0215 - val_dense_16_loss: 0.1571 - val_dense_17_loss: 0.4458 - val_dense_18_loss: 0.5306 - val_dense_14_acc: 0.9998 - val_dense_15_acc: 0.9954 - val_dense_16_acc: 0.9617 - val_dense_17_acc: 0.8943 - val_dense_18_acc: 0.8601\n",
      "Epoch 28/50\n",
      "168s - loss: 0.5465 - dense_14_loss: 4.1854e-04 - dense_15_loss: 0.0225 - dense_16_loss: 0.1229 - dense_17_loss: 0.1737 - dense_18_loss: 0.2269 - dense_14_acc: 0.9999 - dense_15_acc: 0.9927 - dense_16_acc: 0.9594 - dense_17_acc: 0.9435 - dense_18_acc: 0.9264 - val_loss: 1.1582 - val_dense_14_loss: 0.0022 - val_dense_15_loss: 0.0213 - val_dense_16_loss: 0.1632 - val_dense_17_loss: 0.4465 - val_dense_18_loss: 0.5250 - val_dense_14_acc: 0.9998 - val_dense_15_acc: 0.9955 - val_dense_16_acc: 0.9592 - val_dense_17_acc: 0.8942 - val_dense_18_acc: 0.8616\n",
      "Epoch 29/50\n",
      "189s - loss: 0.5375 - dense_14_loss: 1.5776e-04 - dense_15_loss: 0.0202 - dense_16_loss: 0.1264 - dense_17_loss: 0.1672 - dense_18_loss: 0.2234 - dense_14_acc: 0.9999 - dense_15_acc: 0.9934 - dense_16_acc: 0.9592 - dense_17_acc: 0.9465 - dense_18_acc: 0.9263 - val_loss: 1.1477 - val_dense_14_loss: 0.0022 - val_dense_15_loss: 0.0225 - val_dense_16_loss: 0.1628 - val_dense_17_loss: 0.4432 - val_dense_18_loss: 0.5170 - val_dense_14_acc: 0.9998 - val_dense_15_acc: 0.9943 - val_dense_16_acc: 0.9597 - val_dense_17_acc: 0.8918 - val_dense_18_acc: 0.8640\n",
      "Epoch 30/50\n",
      "216s - loss: 0.5255 - dense_14_loss: 2.5223e-04 - dense_15_loss: 0.0223 - dense_16_loss: 0.1214 - dense_17_loss: 0.1690 - dense_18_loss: 0.2125 - dense_14_acc: 0.9999 - dense_15_acc: 0.9926 - dense_16_acc: 0.9610 - dense_17_acc: 0.9455 - dense_18_acc: 0.9295 - val_loss: 1.1686 - val_dense_14_loss: 0.0021 - val_dense_15_loss: 0.0211 - val_dense_16_loss: 0.1662 - val_dense_17_loss: 0.4561 - val_dense_18_loss: 0.5231 - val_dense_14_acc: 0.9998 - val_dense_15_acc: 0.9952 - val_dense_16_acc: 0.9596 - val_dense_17_acc: 0.8908 - val_dense_18_acc: 0.8641\n",
      "Epoch 31/50\n",
      "197s - loss: 0.5182 - dense_14_loss: 2.2699e-04 - dense_15_loss: 0.0212 - dense_16_loss: 0.1213 - dense_17_loss: 0.1612 - dense_18_loss: 0.2143 - dense_14_acc: 1.0000 - dense_15_acc: 0.9929 - dense_16_acc: 0.9610 - dense_17_acc: 0.9486 - dense_18_acc: 0.9298 - val_loss: 1.1825 - val_dense_14_loss: 0.0021 - val_dense_15_loss: 0.0232 - val_dense_16_loss: 0.1740 - val_dense_17_loss: 0.4602 - val_dense_18_loss: 0.5230 - val_dense_14_acc: 0.9998 - val_dense_15_acc: 0.9949 - val_dense_16_acc: 0.9572 - val_dense_17_acc: 0.8917 - val_dense_18_acc: 0.8622\n",
      "Epoch 32/50\n",
      "193s - loss: 0.5005 - dense_14_loss: 3.1532e-04 - dense_15_loss: 0.0200 - dense_16_loss: 0.1127 - dense_17_loss: 0.1629 - dense_18_loss: 0.2046 - dense_14_acc: 0.9999 - dense_15_acc: 0.9931 - dense_16_acc: 0.9633 - dense_17_acc: 0.9472 - dense_18_acc: 0.9331 - val_loss: 1.2307 - val_dense_14_loss: 0.0022 - val_dense_15_loss: 0.0235 - val_dense_16_loss: 0.1877 - val_dense_17_loss: 0.4788 - val_dense_18_loss: 0.5386 - val_dense_14_acc: 0.9998 - val_dense_15_acc: 0.9943 - val_dense_16_acc: 0.9554 - val_dense_17_acc: 0.8849 - val_dense_18_acc: 0.8609\n",
      "Epoch 33/50\n",
      "178s - loss: 0.4963 - dense_14_loss: 4.2270e-04 - dense_15_loss: 0.0197 - dense_16_loss: 0.1120 - dense_17_loss: 0.1619 - dense_18_loss: 0.2022 - dense_14_acc: 0.9999 - dense_15_acc: 0.9935 - dense_16_acc: 0.9638 - dense_17_acc: 0.9474 - dense_18_acc: 0.9341 - val_loss: 1.2093 - val_dense_14_loss: 0.0019 - val_dense_15_loss: 0.0260 - val_dense_16_loss: 0.1767 - val_dense_17_loss: 0.4703 - val_dense_18_loss: 0.5345 - val_dense_14_acc: 0.9998 - val_dense_15_acc: 0.9942 - val_dense_16_acc: 0.9565 - val_dense_17_acc: 0.8891 - val_dense_18_acc: 0.8643\n",
      "Epoch 34/50\n",
      "175s - loss: 0.4896 - dense_14_loss: 2.8790e-04 - dense_15_loss: 0.0179 - dense_16_loss: 0.1109 - dense_17_loss: 0.1550 - dense_18_loss: 0.2055 - dense_14_acc: 0.9999 - dense_15_acc: 0.9938 - dense_16_acc: 0.9642 - dense_17_acc: 0.9495 - dense_18_acc: 0.9327 - val_loss: 1.1806 - val_dense_14_loss: 0.0024 - val_dense_15_loss: 0.0208 - val_dense_16_loss: 0.1629 - val_dense_17_loss: 0.4512 - val_dense_18_loss: 0.5433 - val_dense_14_acc: 0.9998 - val_dense_15_acc: 0.9959 - val_dense_16_acc: 0.9623 - val_dense_17_acc: 0.8957 - val_dense_18_acc: 0.8644\n",
      "Epoch 35/50\n",
      "180s - loss: 0.4761 - dense_14_loss: 5.1921e-04 - dense_15_loss: 0.0173 - dense_16_loss: 0.1103 - dense_17_loss: 0.1504 - dense_18_loss: 0.1976 - dense_14_acc: 0.9998 - dense_15_acc: 0.9938 - dense_16_acc: 0.9644 - dense_17_acc: 0.9507 - dense_18_acc: 0.9362 - val_loss: 1.2387 - val_dense_14_loss: 0.0024 - val_dense_15_loss: 0.0250 - val_dense_16_loss: 0.1824 - val_dense_17_loss: 0.4804 - val_dense_18_loss: 0.5484 - val_dense_14_acc: 0.9998 - val_dense_15_acc: 0.9944 - val_dense_16_acc: 0.9596 - val_dense_17_acc: 0.8930 - val_dense_18_acc: 0.8642\n",
      "Epoch 36/50\n",
      "181s - loss: 0.4620 - dense_14_loss: 9.8202e-05 - dense_15_loss: 0.0185 - dense_16_loss: 0.1058 - dense_17_loss: 0.1457 - dense_18_loss: 0.1919 - dense_14_acc: 1.0000 - dense_15_acc: 0.9942 - dense_16_acc: 0.9648 - dense_17_acc: 0.9525 - dense_18_acc: 0.9376 - val_loss: 1.2118 - val_dense_14_loss: 0.0024 - val_dense_15_loss: 0.0216 - val_dense_16_loss: 0.1690 - val_dense_17_loss: 0.4661 - val_dense_18_loss: 0.5527 - val_dense_14_acc: 0.9998 - val_dense_15_acc: 0.9947 - val_dense_16_acc: 0.9603 - val_dense_17_acc: 0.8933 - val_dense_18_acc: 0.8587\n",
      "Epoch 37/50\n",
      "182s - loss: 0.4753 - dense_14_loss: 6.3245e-04 - dense_15_loss: 0.0192 - dense_16_loss: 0.1115 - dense_17_loss: 0.1508 - dense_18_loss: 0.1932 - dense_14_acc: 0.9998 - dense_15_acc: 0.9938 - dense_16_acc: 0.9637 - dense_17_acc: 0.9509 - dense_18_acc: 0.9371 - val_loss: 1.2182 - val_dense_14_loss: 0.0026 - val_dense_15_loss: 0.0226 - val_dense_16_loss: 0.1754 - val_dense_17_loss: 0.4638 - val_dense_18_loss: 0.5538 - val_dense_14_acc: 0.9998 - val_dense_15_acc: 0.9948 - val_dense_16_acc: 0.9585 - val_dense_17_acc: 0.8943 - val_dense_18_acc: 0.8619\n",
      "Epoch 38/50\n",
      "196s - loss: 0.4575 - dense_14_loss: 3.9038e-04 - dense_15_loss: 0.0177 - dense_16_loss: 0.1057 - dense_17_loss: 0.1458 - dense_18_loss: 0.1880 - dense_14_acc: 0.9998 - dense_15_acc: 0.9944 - dense_16_acc: 0.9660 - dense_17_acc: 0.9528 - dense_18_acc: 0.9373 - val_loss: 1.2733 - val_dense_14_loss: 0.0026 - val_dense_15_loss: 0.0267 - val_dense_16_loss: 0.1846 - val_dense_17_loss: 0.4912 - val_dense_18_loss: 0.5682 - val_dense_14_acc: 0.9998 - val_dense_15_acc: 0.9941 - val_dense_16_acc: 0.9574 - val_dense_17_acc: 0.8909 - val_dense_18_acc: 0.8609\n",
      "Epoch 39/50\n",
      "180s - loss: 0.4499 - dense_14_loss: 8.3570e-05 - dense_15_loss: 0.0169 - dense_16_loss: 0.1017 - dense_17_loss: 0.1436 - dense_18_loss: 0.1877 - dense_14_acc: 1.0000 - dense_15_acc: 0.9945 - dense_16_acc: 0.9677 - dense_17_acc: 0.9531 - dense_18_acc: 0.9382 - val_loss: 1.2291 - val_dense_14_loss: 0.0022 - val_dense_15_loss: 0.0261 - val_dense_16_loss: 0.1698 - val_dense_17_loss: 0.4707 - val_dense_18_loss: 0.5602 - val_dense_14_acc: 0.9998 - val_dense_15_acc: 0.9939 - val_dense_16_acc: 0.9595 - val_dense_17_acc: 0.8915 - val_dense_18_acc: 0.8639\n",
      "Epoch 40/50\n",
      "173s - loss: 0.4530 - dense_14_loss: 1.7295e-04 - dense_15_loss: 0.0178 - dense_16_loss: 0.1054 - dense_17_loss: 0.1446 - dense_18_loss: 0.1851 - dense_14_acc: 0.9999 - dense_15_acc: 0.9943 - dense_16_acc: 0.9658 - dense_17_acc: 0.9534 - dense_18_acc: 0.9388 - val_loss: 1.2339 - val_dense_14_loss: 0.0023 - val_dense_15_loss: 0.0266 - val_dense_16_loss: 0.1735 - val_dense_17_loss: 0.4763 - val_dense_18_loss: 0.5551 - val_dense_14_acc: 0.9998 - val_dense_15_acc: 0.9928 - val_dense_16_acc: 0.9584 - val_dense_17_acc: 0.8892 - val_dense_18_acc: 0.8597\n",
      "Epoch 41/50\n",
      "177s - loss: 0.4352 - dense_14_loss: 3.0458e-04 - dense_15_loss: 0.0167 - dense_16_loss: 0.1002 - dense_17_loss: 0.1399 - dense_18_loss: 0.1782 - dense_14_acc: 0.9999 - dense_15_acc: 0.9945 - dense_16_acc: 0.9676 - dense_17_acc: 0.9544 - dense_18_acc: 0.9405 - val_loss: 1.2429 - val_dense_14_loss: 0.0021 - val_dense_15_loss: 0.0278 - val_dense_16_loss: 0.1735 - val_dense_17_loss: 0.4846 - val_dense_18_loss: 0.5548 - val_dense_14_acc: 0.9998 - val_dense_15_acc: 0.9937 - val_dense_16_acc: 0.9580 - val_dense_17_acc: 0.8876 - val_dense_18_acc: 0.8650\n",
      "Epoch 42/50\n",
      "186s - loss: 0.4300 - dense_14_loss: 1.3963e-04 - dense_15_loss: 0.0173 - dense_16_loss: 0.0995 - dense_17_loss: 0.1378 - dense_18_loss: 0.1752 - dense_14_acc: 0.9999 - dense_15_acc: 0.9942 - dense_16_acc: 0.9677 - dense_17_acc: 0.9558 - dense_18_acc: 0.9422 - val_loss: 1.2501 - val_dense_14_loss: 0.0022 - val_dense_15_loss: 0.0256 - val_dense_16_loss: 0.1777 - val_dense_17_loss: 0.4794 - val_dense_18_loss: 0.5653 - val_dense_14_acc: 0.9998 - val_dense_15_acc: 0.9938 - val_dense_16_acc: 0.9578 - val_dense_17_acc: 0.8891 - val_dense_18_acc: 0.8624\n",
      "Epoch 43/50\n",
      "219s - loss: 0.4325 - dense_14_loss: 2.7338e-04 - dense_15_loss: 0.0169 - dense_16_loss: 0.1001 - dense_17_loss: 0.1342 - dense_18_loss: 0.1810 - dense_14_acc: 0.9999 - dense_15_acc: 0.9942 - dense_16_acc: 0.9678 - dense_17_acc: 0.9557 - dense_18_acc: 0.9409 - val_loss: 1.2932 - val_dense_14_loss: 0.0022 - val_dense_15_loss: 0.0244 - val_dense_16_loss: 0.1953 - val_dense_17_loss: 0.4967 - val_dense_18_loss: 0.5746 - val_dense_14_acc: 0.9998 - val_dense_15_acc: 0.9942 - val_dense_16_acc: 0.9547 - val_dense_17_acc: 0.8886 - val_dense_18_acc: 0.8597\n",
      "Epoch 44/50\n",
      "187s - loss: 0.4155 - dense_14_loss: 4.5517e-04 - dense_15_loss: 0.0178 - dense_16_loss: 0.0967 - dense_17_loss: 0.1310 - dense_18_loss: 0.1695 - dense_14_acc: 0.9999 - dense_15_acc: 0.9940 - dense_16_acc: 0.9685 - dense_17_acc: 0.9581 - dense_18_acc: 0.9426 - val_loss: 1.2815 - val_dense_14_loss: 0.0024 - val_dense_15_loss: 0.0246 - val_dense_16_loss: 0.1835 - val_dense_17_loss: 0.5012 - val_dense_18_loss: 0.5698 - val_dense_14_acc: 0.9998 - val_dense_15_acc: 0.9953 - val_dense_16_acc: 0.9593 - val_dense_17_acc: 0.8895 - val_dense_18_acc: 0.8649\n",
      "Epoch 45/50\n",
      "180s - loss: 0.4169 - dense_14_loss: 2.7344e-04 - dense_15_loss: 0.0172 - dense_16_loss: 0.0942 - dense_17_loss: 0.1291 - dense_18_loss: 0.1761 - dense_14_acc: 0.9999 - dense_15_acc: 0.9945 - dense_16_acc: 0.9687 - dense_17_acc: 0.9576 - dense_18_acc: 0.9425 - val_loss: 1.2600 - val_dense_14_loss: 0.0024 - val_dense_15_loss: 0.0236 - val_dense_16_loss: 0.1822 - val_dense_17_loss: 0.4830 - val_dense_18_loss: 0.5688 - val_dense_14_acc: 0.9998 - val_dense_15_acc: 0.9947 - val_dense_16_acc: 0.9588 - val_dense_17_acc: 0.8950 - val_dense_18_acc: 0.8620\n",
      "Epoch 46/50\n",
      "183s - loss: 0.4154 - dense_14_loss: 3.9959e-04 - dense_15_loss: 0.0160 - dense_16_loss: 0.0939 - dense_17_loss: 0.1314 - dense_18_loss: 0.1736 - dense_14_acc: 0.9998 - dense_15_acc: 0.9946 - dense_16_acc: 0.9695 - dense_17_acc: 0.9565 - dense_18_acc: 0.9429 - val_loss: 1.2555 - val_dense_14_loss: 0.0025 - val_dense_15_loss: 0.0245 - val_dense_16_loss: 0.1778 - val_dense_17_loss: 0.4919 - val_dense_18_loss: 0.5588 - val_dense_14_acc: 0.9998 - val_dense_15_acc: 0.9948 - val_dense_16_acc: 0.9601 - val_dense_17_acc: 0.8905 - val_dense_18_acc: 0.8633\n",
      "Epoch 47/50\n",
      "178s - loss: 0.3989 - dense_14_loss: 1.6625e-04 - dense_15_loss: 0.0160 - dense_16_loss: 0.0910 - dense_17_loss: 0.1303 - dense_18_loss: 0.1614 - dense_14_acc: 1.0000 - dense_15_acc: 0.9948 - dense_16_acc: 0.9709 - dense_17_acc: 0.9580 - dense_18_acc: 0.9474 - val_loss: 1.3181 - val_dense_14_loss: 0.0024 - val_dense_15_loss: 0.0230 - val_dense_16_loss: 0.1987 - val_dense_17_loss: 0.5060 - val_dense_18_loss: 0.5881 - val_dense_14_acc: 0.9998 - val_dense_15_acc: 0.9948 - val_dense_16_acc: 0.9573 - val_dense_17_acc: 0.8953 - val_dense_18_acc: 0.8631\n",
      "Epoch 48/50\n",
      "180s - loss: 0.3978 - dense_14_loss: 8.6579e-05 - dense_15_loss: 0.0149 - dense_16_loss: 0.0916 - dense_17_loss: 0.1255 - dense_18_loss: 0.1657 - dense_14_acc: 1.0000 - dense_15_acc: 0.9949 - dense_16_acc: 0.9706 - dense_17_acc: 0.9601 - dense_18_acc: 0.9460 - val_loss: 1.2682 - val_dense_14_loss: 0.0028 - val_dense_15_loss: 0.0226 - val_dense_16_loss: 0.1733 - val_dense_17_loss: 0.5023 - val_dense_18_loss: 0.5673 - val_dense_14_acc: 0.9998 - val_dense_15_acc: 0.9952 - val_dense_16_acc: 0.9621 - val_dense_17_acc: 0.8885 - val_dense_18_acc: 0.8656\n",
      "Epoch 49/50\n",
      "182s - loss: 0.3908 - dense_14_loss: 1.6830e-04 - dense_15_loss: 0.0146 - dense_16_loss: 0.0907 - dense_17_loss: 0.1216 - dense_18_loss: 0.1636 - dense_14_acc: 0.9999 - dense_15_acc: 0.9950 - dense_16_acc: 0.9705 - dense_17_acc: 0.9604 - dense_18_acc: 0.9469 - val_loss: 1.2718 - val_dense_14_loss: 0.0026 - val_dense_15_loss: 0.0274 - val_dense_16_loss: 0.1793 - val_dense_17_loss: 0.4993 - val_dense_18_loss: 0.5631 - val_dense_14_acc: 0.9998 - val_dense_15_acc: 0.9939 - val_dense_16_acc: 0.9604 - val_dense_17_acc: 0.8896 - val_dense_18_acc: 0.8650\n",
      "Epoch 50/50\n",
      "181s - loss: 0.3886 - dense_14_loss: 5.5248e-04 - dense_15_loss: 0.0141 - dense_16_loss: 0.0917 - dense_17_loss: 0.1230 - dense_18_loss: 0.1593 - dense_14_acc: 0.9999 - dense_15_acc: 0.9953 - dense_16_acc: 0.9703 - dense_17_acc: 0.9597 - dense_18_acc: 0.9472 - val_loss: 1.2816 - val_dense_14_loss: 0.0025 - val_dense_15_loss: 0.0243 - val_dense_16_loss: 0.1741 - val_dense_17_loss: 0.5036 - val_dense_18_loss: 0.5771 - val_dense_14_acc: 0.9998 - val_dense_15_acc: 0.9946 - val_dense_16_acc: 0.9602 - val_dense_17_acc: 0.8922 - val_dense_18_acc: 0.8647\n"
     ]
    }
   ],
   "source": [
    "hide_code\n",
    "\n",
    "cnn_model2 = cnn_model2()\n",
    "\n",
    "history2 = cnn_model2.fit(X_train, y_train_cat_list, validation_data=(X_test, y_test_cat_list), \n",
    "                          epochs=50, batch_size=128, verbose=2)"
   ]
  },
  {
   "cell_type": "code",
   "execution_count": 47,
   "metadata": {
    "collapsed": false
   },
   "outputs": [
    {
     "name": "stdout",
     "output_type": "stream",
     "text": [
      "Model 2. CNN Scores: \n",
      " [0.8245545383691788, 0.0017090049833130934, 0.019791655895911388, 0.12667907728720457, 0.30962735496958099, 0.36674744517107805, 0.99983333333333335, 0.99524999999999997, 0.96375, 0.9125833333333333, 0.88741666666666663]\n",
      "Model 2. First digit. CNN Accuracy: 99.98%\n",
      "Model 2. Second digit. CNN Accuracy: 99.46%\n",
      "Model 2. Third digit. CNN Accuracy: 96.02%\n",
      "Model 2. Fourth digit. CNN Accuracy: 89.22%\n",
      "Model 2. Fifth digit. CNN Accuracy: 86.47%\n",
      "____________________________________________________________________________________________________\n",
      "Layer (type)                     Output Shape          Param #     Connected to                     \n",
      "====================================================================================================\n",
      "input_8 (InputLayer)             (None, 32, 32, 1)     0                                            \n",
      "____________________________________________________________________________________________________\n",
      "batch_normalization_1 (BatchNorm (None, 32, 32, 1)     4           input_8[0][0]                    \n",
      "____________________________________________________________________________________________________\n",
      "conv2d_41 (Conv2D)               (None, 28, 28, 32)    832         batch_normalization_1[0][0]      \n",
      "____________________________________________________________________________________________________\n",
      "max_pooling2d_25 (MaxPooling2D)  (None, 14, 14, 32)    0           conv2d_41[0][0]                  \n",
      "____________________________________________________________________________________________________\n",
      "dropout_19 (Dropout)             (None, 14, 14, 32)    0           max_pooling2d_25[0][0]           \n",
      "____________________________________________________________________________________________________\n",
      "conv2d_42 (Conv2D)               (None, 10, 10, 64)    51264       dropout_19[0][0]                 \n",
      "____________________________________________________________________________________________________\n",
      "max_pooling2d_26 (MaxPooling2D)  (None, 5, 5, 64)      0           conv2d_42[0][0]                  \n",
      "____________________________________________________________________________________________________\n",
      "dropout_20 (Dropout)             (None, 5, 5, 64)      0           max_pooling2d_26[0][0]           \n",
      "____________________________________________________________________________________________________\n",
      "flatten_3 (Flatten)              (None, 1600)          0           dropout_20[0][0]                 \n",
      "____________________________________________________________________________________________________\n",
      "dense_13 (Dense)                 (None, 256)           409856      flatten_3[0][0]                  \n",
      "____________________________________________________________________________________________________\n",
      "dense_14 (Dense)                 (None, 11)            2827        dense_13[0][0]                   \n",
      "____________________________________________________________________________________________________\n",
      "dense_15 (Dense)                 (None, 11)            2827        dense_13[0][0]                   \n",
      "____________________________________________________________________________________________________\n",
      "dense_16 (Dense)                 (None, 11)            2827        dense_13[0][0]                   \n",
      "____________________________________________________________________________________________________\n",
      "dense_17 (Dense)                 (None, 11)            2827        dense_13[0][0]                   \n",
      "____________________________________________________________________________________________________\n",
      "dense_18 (Dense)                 (None, 11)            2827        dense_13[0][0]                   \n",
      "====================================================================================================\n",
      "Total params: 476,091\n",
      "Trainable params: 476,089\n",
      "Non-trainable params: 2\n",
      "____________________________________________________________________________________________________\n",
      "None\n"
     ]
    }
   ],
   "source": [
    "hide_code\n",
    "\n",
    "cnn_scores2 = cnn_model2.evaluate(X_test, y_test_cat_list, verbose=0)\n",
    "\n",
    "print(\"Model 2. CNN Scores: \\n\" , (cnn_scores))\n",
    "print(\"Model 2. First digit. CNN Accuracy: %.2f%%\" % (cnn_scores2[6]*100))\n",
    "print(\"Model 2. Second digit. CNN Accuracy: %.2f%%\" % (cnn_scores2[7]*100))\n",
    "print(\"Model 2. Third digit. CNN Accuracy: %.2f%%\" % (cnn_scores2[8]*100))\n",
    "print(\"Model 2. Fourth digit. CNN Accuracy: %.2f%%\" % (cnn_scores2[9]*100))\n",
    "print(\"Model 2. Fifth digit. CNN Accuracy: %.2f%%\" % (cnn_scores2[10]*100))\n",
    "\n",
    "print(cnn_model2.summary())"
   ]
  },
  {
   "cell_type": "code",
   "execution_count": 48,
   "metadata": {
    "collapsed": false
   },
   "outputs": [
    {
     "data": {
      "image/png": "[encoded data removed]",
      "text/plain": [
       "<matplotlib.figure.Figure at 0x1448adda0>"
      ]
     },
     "metadata": {},
     "output_type": "display_data"
    }
   ],
   "source": [
    "hide_code\n",
    "\n",
    "plt.figure(figsize=(12,6))\n",
    "\n",
    "plt.plot(history2.history['val_dense_14_acc'], label = 'First digit')\n",
    "plt.plot(history2.history['val_dense_15_acc'], label = 'Second digit')\n",
    "plt.plot(history2.history['val_dense_16_acc'], label = 'Third digit')\n",
    "plt.plot(history2.history['val_dense_17_acc'], label = 'Fourth digit')\n",
    "plt.plot(history2.history['val_dense_18_acc'], label = 'Fifth digit')\n",
    "\n",
    "plt.legend()\n",
    "plt.title('Accuracy');"
   ]
  },
  {
   "cell_type": "code",
   "execution_count": 49,
   "metadata": {
    "collapsed": false
   },
   "outputs": [
    {
     "name": "stdout",
     "output_type": "stream",
     "text": [
      "Model 2. Average CNN Accuracy: 94.23%\n"
     ]
    }
   ],
   "source": [
    "hide_code\n",
    "\n",
    "avg_accuracy2 = sum([cnn_scores2[i] for i in range(6, 11)])/5\n",
    "\n",
    "print(\"Model 2. Average CNN Accuracy: %.2f%%\" % (avg_accuracy2*100))"
   ]
  },
  {
   "cell_type": "markdown",
   "metadata": {},
   "source": [
    "***Saving the Model***"
   ]
  },
  {
   "cell_type": "code",
   "execution_count": 44,
   "metadata": {
    "collapsed": true
   },
   "outputs": [],
   "source": [
    "cnn_model.save('cnn_model55_file1_3.h5')"
   ]
  },
  {
   "cell_type": "code",
   "execution_count": 50,
   "metadata": {
    "collapsed": true
   },
   "outputs": [],
   "source": [
    "cnn_model2.save('cnn_model55_file2_3.h5')"
   ]
  },
  {
   "cell_type": "markdown",
   "metadata": {},
   "source": [
    "---\n",
    "\n",
    "---\n",
    "## $\\mathfrak {\\color{#348ABD} {Questions \\ and \\ Answers}}$"
   ]
  },
  {
   "cell_type": "markdown",
   "metadata": {
    "collapsed": true
   },
   "source": [
    "### Question 4\n",
    "_Describe how you set up the training and testing data for your model. How does the model perform on a realistic dataset?_\n",
    "### Answer 4\n",
    "Tens of thousands of photos were processed as follows:\n",
    "\n",
    "- fields of photos that do not contain digits were cut off;\n",
    "- the photos were formatted to the standard 32X32 size and three color channels were converted into one channel (gray scale);\n",
    "- each of the resulting images was represented as an array of numbers;\n",
    "- two sets of data (training and test data) were made from these arrays; \n",
    "- the data were recorded in files of two different formats for the convenience of repeated use.\n",
    "\n",
    "I have found two ways to impove the model for the best results on a realistic dataset:\n",
    "\n",
    "- the first model shows the average accuracy 95.18%;\n",
    "- the second model shows the average accuracy 94.23%."
   ]
  },
  {
   "cell_type": "markdown",
   "metadata": {
    "collapsed": true
   },
   "source": [
    "---\n",
    "### Question 5\n",
    "_What changes did you have to make, if any, to achieve \"good\" results? Were there any options you explored that made the results worse?_\n",
    "### Answer 5\n",
    "The architecture of the model were changed.\n",
    "\n",
    "- In the first case, the layer *Conv2D(128, (3, 3), activation='relu')* and the layer *Dropout(0.2)* were added to the model.\n",
    "- In the second case, there is a big difference between the initial model and the starter one:\n",
    "  - two convolutional layers *Conv2D(32, (5, 5), activation='relu')* and *Conv2D(64, (5, 5), activation='relu')* instead of four *Conv2D(32, (3, 3), activation='relu')*, *Conv2D(32, (3, 3), activation='relu')*, *Conv2D(64, (3, 3), activation='relu')*, *Conv2D(64, (3, 3), activation='relu')*; \n",
    "  - the *BatchNormalization()* layer;\n",
    "  - the first *Dense* layer has dimensionality [256] instead of [512];\n",
    "  - two *Dropout(0.25)*, *Dropout(0.25)* layers instead of three *Dropout(0.2)*, *Dropout(0.2)*, *Dropout(0.4)*.\n",
    "\n",
    "The number of the epochs became greater (50 instead of 20).\n",
    "\n",
    "In both cases the result became worse with reducing the batch size (for example, 128 -> 64)."
   ]
  },
  {
   "cell_type": "markdown",
   "metadata": {
    "collapsed": true
   },
   "source": [
    "---\n",
    "### Question 6\n",
    "_What were your initial and final results with testing on a realistic dataset? Do you believe your model is doing a good enough job at classifying numbers correctly?_\n",
    "### Answer 6\n",
    "The initial values of accuracy were in 79-86%. The final level about 95% is an advanced result for the real data.\n",
    "So the model can do a good job at classifying numbers. Of course, the result can be improved by further research to achieve even higher accuracy."
   ]
  }
 ],
 "metadata": {
  "anaconda-cloud": {},
  "hide_input": false,
  "kernelspec": {
   "display_name": "Python 3",
   "language": "python",
   "name": "python3"
  },
  "language_info": {
   "codemirror_mode": {
    "name": "ipython",
    "version": 3
   },
   "file_extension": ".py",
   "mimetype": "text/x-python",
   "name": "python",
   "nbconvert_exporter": "python",
   "pygments_lexer": "ipython3",
   "version": "3.6.1"
  },
  "latex_envs": {
   "bibliofile": "biblio.bib",
   "cite_by": "apalike",
   "current_citInitial": 1,
   "eqLabelWithNumbers": true,
   "eqNumInitial": 0
  }
 },
 "nbformat": 4,
 "nbformat_minor": 2
}
