{
 "cells": [
  {
   "cell_type": "markdown",
   "metadata": {},
   "source": [
    "# &#x1F4D1; &nbsp;  $\\mathfrak {\\color{#348ABD} {P5: \\ Build \\ a \\ Digit \\ Recognition \\ Program. \\ Step \\ 3}}$"
   ]
  },
  {
   "cell_type": "markdown",
   "metadata": {},
   "source": [
    "----\n",
    "## $\\mathfrak {\\color{#348ABD} {Code \\ Library \\ and \\ Links}}$"
   ]
  },
  {
   "cell_type": "markdown",
   "metadata": {},
   "source": [
    "Multi-dimensional image processing https://docs.scipy.org/doc/scipy/reference/ndimage.html\n",
    "\n",
    "Keras: Deep Learning library for Theano and TensorFlow https://keras.io/\n",
    " \n",
    "Deep MNIST for Experts https://www.tensorflow.org/get_started/mnist/pros\n",
    "\n",
    "Tensorflow Deep MNIST Advanced Tutorial http://docs.seldon.io/tensorflow-deep-mnist-example.html\n",
    "\n",
    "Handwritten Digit Recognition using Convolutional Neural Networks in Python with Keras\n",
    "\n",
    "http://machinelearningmastery.com/handwritten-digit-recognition-using-convolutional-neural-networks-python-keras/"
   ]
  },
  {
   "cell_type": "code",
   "execution_count": 1,
   "metadata": {
    "collapsed": false
   },
   "outputs": [
    {
     "data": {
      "text/html": [
       "<script>code_show = true; \n",
       "function code_display() {\n",
       "    if (code_show) {\n",
       "        $('div.input').each(function(id) {\n",
       "            if (id == 0 || $(this).html().indexOf('hide_code') > -1) {$(this).hide();}\n",
       "        });\n",
       "        $('div.output_prompt').css('opacity', 0);\n",
       "    } else {\n",
       "        $('div.input').each(function(id) {$(this).show();});\n",
       "        $('div.output_prompt').css('opacity', 1);\n",
       "    }\n",
       "    code_show = !code_show;\n",
       "} \n",
       "$(document).ready(code_display);</script>\n",
       "<form action=\"javascript: code_display()\"><input style=\"color: #348ABD; background: ghostwhite; opacity: 0.9; \" type=\"submit\" value=\"Click to display or hide code\"></form>"
      ],
      "text/plain": [
       "<IPython.core.display.HTML object>"
      ]
     },
     "execution_count": 1,
     "metadata": {},
     "output_type": "execute_result"
    }
   ],
   "source": [
    "from IPython.core.display import HTML\n",
    "hide_code = ''\n",
    "HTML('''<script>code_show = true; \n",
    "function code_display() {\n",
    "    if (code_show) {\n",
    "        $('div.input').each(function(id) {\n",
    "            if (id == 0 || $(this).html().indexOf('hide_code') > -1) {$(this).hide();}\n",
    "        });\n",
    "        $('div.output_prompt').css('opacity', 0);\n",
    "    } else {\n",
    "        $('div.input').each(function(id) {$(this).show();});\n",
    "        $('div.output_prompt').css('opacity', 1);\n",
    "    }\n",
    "    code_show = !code_show;\n",
    "} \n",
    "$(document).ready(code_display);</script>\n",
    "<form action=\"javascript: code_display()\"><input style=\"color: #348ABD; background: ghostwhite; opacity: 0.9; \" \\\n",
    "type=\"submit\" value=\"Click to display or hide code\"></form>''')"
   ]
  },
  {
   "cell_type": "code",
   "execution_count": 2,
   "metadata": {
    "collapsed": false
   },
   "outputs": [],
   "source": [
    "hide_code\n",
    "\n",
    "import numpy as np\n",
    "import pandas as pd\n",
    "import scipy as sp\n",
    "import scipy.ndimage\n",
    "import random\n",
    "import scipy.misc\n",
    "from scipy.special import expit\n",
    "from time import time\n",
    "\n",
    "import os\n",
    "import sys\n",
    "import h5py\n",
    "import tarfile\n",
    "\n",
    "from six.moves.urllib.request import urlretrieve\n",
    "from six.moves import cPickle as pickle\n",
    "\n",
    "from IPython.display import display, Image, IFrame\n",
    "import matplotlib.pylab as plt\n",
    "import matplotlib.cm as cm\n",
    "from matplotlib import offsetbox\n",
    "%matplotlib inline"
   ]
  },
  {
   "cell_type": "code",
   "execution_count": 3,
   "metadata": {
    "collapsed": true
   },
   "outputs": [],
   "source": [
    "hide_code\n",
    "\n",
    "import tensorflow as tf\n",
    "import tensorflow.examples.tutorials.mnist as mnist"
   ]
  },
  {
   "cell_type": "code",
   "execution_count": 4,
   "metadata": {
    "collapsed": true
   },
   "outputs": [],
   "source": [
    "hide_code\n",
    "\n",
    "from sklearn.neural_network import MLPClassifier, BernoulliRBM\n",
    "from sklearn import linear_model, datasets, metrics\n",
    "from sklearn.pipeline import Pipeline\n",
    "from sklearn import manifold, decomposition, ensemble\n",
    "from sklearn import discriminant_analysis, random_projection\n",
    "from sklearn.model_selection import train_test_split"
   ]
  },
  {
   "cell_type": "code",
   "execution_count": 5,
   "metadata": {
    "collapsed": false
   },
   "outputs": [
    {
     "name": "stderr",
     "output_type": "stream",
     "text": [
      "Using TensorFlow backend.\n"
     ]
    }
   ],
   "source": [
    "hide_code\n",
    "\n",
    "import keras as ks\n",
    "from keras.models import Sequential, load_model, Model\n",
    "from keras.preprocessing import sequence\n",
    "from keras.optimizers import SGD, RMSprop\n",
    "from keras.layers import Dense, Dropout, LSTM\n",
    "from keras.layers import Activation, Flatten, Input, BatchNormalization\n",
    "from keras.layers import Conv1D, MaxPooling1D, Conv2D, MaxPooling2D\n",
    "from keras.layers.embeddings import Embedding"
   ]
  },
  {
   "cell_type": "code",
   "execution_count": 6,
   "metadata": {
    "collapsed": true
   },
   "outputs": [],
   "source": [
    "hide_code\n",
    "\n",
    "import warnings\n",
    "warnings.filterwarnings('ignore')"
   ]
  },
  {
   "cell_type": "code",
   "execution_count": 14,
   "metadata": {
    "collapsed": true
   },
   "outputs": [],
   "source": [
    "hide_code\n",
    "\n",
    "def fivedigit_label(label):\n",
    "    size = len(label)\n",
    "    if size >= 5:\n",
    "        return label\n",
    "    else:\n",
    "        num_zeros = np.full((5-size), 10)\n",
    "        return np.array(np.concatenate((num_zeros, label), axis = 0))\n",
    "    \n",
    "def get_filenames(folder):\n",
    "    image_path = os.path.join(folder)\n",
    "    return np.array([f for f in os.listdir(image_path) if f.endswith('.png')])\n",
    "\n",
    "def get_image(folder, image_file):\n",
    "    filename=os.path.join(folder, image_file)\n",
    "    image = scipy.ndimage.imread(filename, mode='RGB')\n",
    "    \n",
    "    if folder == 'new':\n",
    "        n = np.where(new_filenames == image_file)[0]\n",
    "        label = new_labels[n]\n",
    "        \n",
    "    image64_1 = scipy.misc.imresize(image, (64, 64, 3))/255\n",
    "    image64_2 = np.dot(np.array(image64_1, dtype='float32'), [0.299, 0.587, 0.114])\n",
    "    \n",
    "    return image64_1, image64_2, label\n",
    "\n",
    "def digit_to_categorical(data):\n",
    "    n = data.shape[1]\n",
    "    data_cat = np.empty([len(data), n, 11])\n",
    "    \n",
    "    for i in range(n):\n",
    "        data_cat[:, i] = ks.utils.to_categorical(data[:, i], num_classes=11)\n",
    "        \n",
    "    return data_cat"
   ]
  },
  {
   "cell_type": "markdown",
   "metadata": {},
   "source": [
    "----\n",
    "## $\\mathfrak {\\color{#348ABD} {Experimental \\ Datasets}}$"
   ]
  },
  {
   "cell_type": "markdown",
   "metadata": {},
   "source": [
    "#### Dataset #6. Newly-Captured Images"
   ]
  },
  {
   "cell_type": "markdown",
   "metadata": {},
   "source": [
    "#### Examples: \n",
    "####  &nbsp;\n",
    "<div style=\"width: 210px; height: 210px; overflow:auto;\">\n",
    "    <img src=\"new/1.png\" width=\"200\" height=\"200\"/>\n",
    "    <img src=\"new/10.png\" width=\"200\" height=\"200\"/>\n",
    "    <img src=\"new/11.png\" width=\"200\" height=\"200\"/>\n",
    "\t<img src=\"new/12.png\" width=\"200\" height=\"200\"/>\n",
    "\t<img src=\"new/13.png\" width=\"200\" height=\"200\"/>\n",
    "\t<img src=\"new/14.png\" width=\"200\" height=\"200\"/>\n",
    "\t<img src=\"new/15.png\" width=\"200\" height=\"200\"/>\n",
    "\t<img src=\"new/16.png\" width=\"200\" height=\"200\"/>\n",
    "\t<img src=\"new/17.png\" width=\"200\" height=\"200\"/>\n",
    "\t<img src=\"new/18.png\" width=\"200\" height=\"200\"/>\n",
    "\t<img src=\"new/19.png\" width=\"200\" height=\"200\"/>    \n",
    "\t<img src=\"new/2.png\" width=\"200\" height=\"200\"/>\n",
    "    <img src=\"new/20.png\" width=\"200\" height=\"200\"/>\n",
    "\t<img src=\"new/3.png\" width=\"200\" height=\"200\"/>\n",
    "\t<img src=\"new/4.png\" width=\"200\" height=\"200\"/>\n",
    "\t<img src=\"new/5.png\" width=\"200\" height=\"200\"/>\n",
    "\t<img src=\"new/6.png\" width=\"200\" height=\"200\"/>\n",
    "\t<img src=\"new/7.png\" width=\"200\" height=\"200\"/>\n",
    "\t<img src=\"new/8.png\" width=\"200\" height=\"200\"/>\n",
    "\t<img src=\"new/9.png\" width=\"200\" height=\"200\"/>\n",
    "</div>"
   ]
  },
  {
   "cell_type": "code",
   "execution_count": 8,
   "metadata": {
    "collapsed": false
   },
   "outputs": [
    {
     "name": "stdout",
     "output_type": "stream",
     "text": [
      "New files list:\n",
      " ['1.png' '10.png' '11.png' '12.png' '13.png' '14.png' '15.png' '16.png'\n",
      " '17.png' '18.png' '19.png' '2.png' '20.png' '3.png' '4.png' '5.png'\n",
      " '6.png' '7.png' '8.png' '9.png']\n",
      "New labels: \n",
      " [[ 10.  10.  10.  10.   8.]\n",
      " [ 10.  10.   7.   8.   9.]\n",
      " [ 10.  10.  10.   5.   7.]\n",
      " [ 10.  10.  10.  10.   6.]\n",
      " [ 10.  10.   6.   1.   1.]\n",
      " [ 10.  10.  10.  10.   8.]\n",
      " [ 10.  10.  10.   5.   9.]\n",
      " [ 10.  10.   1.   0.   1.]\n",
      " [ 10.   1.   0.   0.   0.]\n",
      " [ 10.   1.   9.   1.   3.]\n",
      " [ 10.  10.  10.  10.   4.]\n",
      " [ 10.  10.  10.  10.   1.]\n",
      " [ 10.  10.   3.   4.   4.]\n",
      " [ 10.   2.   0.   1.   0.]\n",
      " [ 10.   1.   0.   1.   1.]\n",
      " [ 10.  10.  10.  10.   7.]\n",
      " [ 10.  10.  10.   1.   0.]\n",
      " [ 10.  10.  10.  10.   2.]\n",
      " [ 10.  10.  10.  10.   9.]\n",
      " [ 10.  10.  10.  10.   8.]]\n"
     ]
    }
   ],
   "source": [
    "hide_code\n",
    "\n",
    "new_filenames = get_filenames('new')\n",
    "print('New files list:\\n', new_filenames)\n",
    "\n",
    "new_labels = [[8], [7, 8, 9], [5, 7], [6], [6, 1, 1],\n",
    "              [8], [5, 9], [1, 0, 1], [1, 0, 0, 0], [1, 9, 1, 3], \n",
    "              [4], [1], [3, 4, 4], [2, 0, 1, 0], [1, 0, 1, 1], \n",
    "              [7], [1, 0], [2], [9], [8]]\n",
    "new_labels = np.array([fivedigit_label(new_labels[i]) for i in range(len(new_labels))])\n",
    "print('New labels: \\n',new_labels)"
   ]
  },
  {
   "cell_type": "code",
   "execution_count": 9,
   "metadata": {
    "collapsed": false
   },
   "outputs": [
    {
     "name": "stdout",
     "output_type": "stream",
     "text": [
      "Image size:  (64, 64, 3)\n",
      "Image label:  [[ 10.  10.   3.   4.   4.]]\n",
      "\n",
      "Example of image preprocessing\n"
     ]
    },
    {
     "data": {
      "image/png": "[encoded data removed]",
      "text/plain": [
       "<matplotlib.figure.Figure at 0x1213dd048>"
      ]
     },
     "metadata": {},
     "output_type": "display_data"
    }
   ],
   "source": [
    "hide_code\n",
    "\n",
    "image_example = get_image('new', '20.png')\n",
    "\n",
    "print(\"Image size: \", image_example[0].shape)\n",
    "print(\"Image label: \", image_example[2])\n",
    "print('\\nExample of image preprocessing')\n",
    "plt.imshow(image_example[1], cmap=plt.cm.Blues);"
   ]
  },
  {
   "cell_type": "code",
   "execution_count": 10,
   "metadata": {
    "collapsed": false
   },
   "outputs": [],
   "source": [
    "hide_code\n",
    "\n",
    "new_images1 = np.array([get_image('new', x)[0] for x in new_filenames])\n",
    "new_images2 = np.array([get_image('new', x)[1] for x in new_filenames])"
   ]
  },
  {
   "cell_type": "markdown",
   "metadata": {},
   "source": [
    "#### The '.pickle' file:"
   ]
  },
  {
   "cell_type": "code",
   "execution_count": 11,
   "metadata": {
    "collapsed": false
   },
   "outputs": [
    {
     "name": "stdout",
     "output_type": "stream",
     "text": [
      "Compressed pickle size: 2623093\n"
     ]
    }
   ],
   "source": [
    "hide_code\n",
    "\n",
    "pickle_file = 'new_digits.pickle'\n",
    "\n",
    "try:\n",
    "    f = open(pickle_file, 'wb')\n",
    "    save = {'new_images1': new_images1, 'new_images2': new_images2,\n",
    "            'new_labels': new_labels, 'new_filenames': new_filenames}\n",
    "    pickle.dump(save, f, pickle.HIGHEST_PROTOCOL)\n",
    "    f.close()\n",
    "except Exception as e:\n",
    "    print('Unable to save data to', pickle_file, ':', e)\n",
    "    raise\n",
    "    \n",
    "statinfo = os.stat(pickle_file)\n",
    "print('Compressed pickle size:', statinfo.st_size)"
   ]
  },
  {
   "cell_type": "code",
   "execution_count": 12,
   "metadata": {
    "collapsed": false
   },
   "outputs": [
    {
     "name": "stdout",
     "output_type": "stream",
     "text": [
      "Number of new images:  20\n"
     ]
    }
   ],
   "source": [
    "hide_code\n",
    "\n",
    "pickle_file = 'new_digits.pickle'\n",
    "\n",
    "with open(pickle_file, 'rb') as f:\n",
    "    save = pickle.load(f)\n",
    "    new_images1 = save['new_images1']\n",
    "    new_images2 = save['new_images2']\n",
    "    new_labels = save['new_labels']\n",
    "    new_filenames = save['new_filenames']\n",
    "    del save\n",
    "    \n",
    "print('Number of new images: ', len(new_images1))\n"
   ]
  },
  {
   "cell_type": "code",
   "execution_count": 15,
   "metadata": {
    "collapsed": false
   },
   "outputs": [
    {
     "name": "stdout",
     "output_type": "stream",
     "text": [
      "The sixth dataset\n",
      "Shape of the features - (20, 64, 64, 3), shape of the target - (20, 5, 11)\n"
     ]
    }
   ],
   "source": [
    "hide_code\n",
    "\n",
    "new_labels_cat = digit_to_categorical(new_labels)\n",
    "print('The sixth dataset')\n",
    "print(\"Shape of the features - {}, shape of the target - {}\".\\\n",
    "      format(new_images1.shape, new_labels_cat.shape))"
   ]
  },
  {
   "cell_type": "code",
   "execution_count": 16,
   "metadata": {
    "collapsed": false
   },
   "outputs": [
    {
     "name": "stdout",
     "output_type": "stream",
     "text": [
      "File:  20.png\n",
      "Label:  [ 10.  10.   3.   4.   4.]\n",
      "Categorical label: \n",
      " [[ 0.  0.  0.  0.  0.  0.  0.  0.  0.  0.  1.]\n",
      " [ 0.  0.  0.  0.  0.  0.  0.  0.  0.  0.  1.]\n",
      " [ 0.  0.  0.  1.  0.  0.  0.  0.  0.  0.  0.]\n",
      " [ 0.  0.  0.  0.  1.  0.  0.  0.  0.  0.  0.]\n",
      " [ 0.  0.  0.  0.  1.  0.  0.  0.  0.  0.  0.]]\n",
      "\n",
      "Example of loaded images\n"
     ]
    },
    {
     "data": {
      "image/png": "[encoded data removed]",
      "text/plain": [
       "<matplotlib.figure.Figure at 0x1245904a8>"
      ]
     },
     "metadata": {},
     "output_type": "display_data"
    }
   ],
   "source": [
    "hide_code\n",
    "\n",
    "print ('File: ', new_filenames[12])\n",
    "print ('Label: ', new_labels[12])\n",
    "print ('Categorical label: \\n', new_labels_cat[12])\n",
    "print('\\nExample of loaded images')\n",
    "plt.imshow(new_images2[12], cmap=plt.cm.Blues);"
   ]
  },
  {
   "cell_type": "markdown",
   "metadata": {
    "collapsed": true
   },
   "source": [
    "----\n",
    "## $\\mathfrak {\\color{#348ABD} {Step \\ 3: \\ Test \\ a \\ Model \\ on \\ Newly-Captured \\ Images}}$\n",
    "\n",
    "Take several pictures of numbers that you find around you (at least five), and run them through your classifier on your computer to produce example results. Alternatively (optionally), you can try using OpenCV / SimpleCV / Pygame to capture live images from a webcam and run those through your classifier."
   ]
  },
  {
   "cell_type": "code",
   "execution_count": 27,
   "metadata": {
    "collapsed": false
   },
   "outputs": [
    {
     "data": {
      "text/plain": [
       "''"
      ]
     },
     "execution_count": 27,
     "metadata": {},
     "output_type": "execute_result"
    }
   ],
   "source": [
    "hide_code\n",
    "\n",
    "\n",
    "#"
   ]
  },
  {
   "cell_type": "code",
   "execution_count": null,
   "metadata": {
    "collapsed": true
   },
   "outputs": [],
   "source": [
    "hide_code\n",
    "\n",
    "\n",
    "#"
   ]
  },
  {
   "cell_type": "markdown",
   "metadata": {},
   "source": [
    "### Question 7\n",
    "_Choose five candidate images of numbers you took from around you and provide them in the report. Are there any particular qualities of the image(s) that might make classification difficult?_\n",
    "\n",
    "### Answer 7"
   ]
  },
  {
   "cell_type": "markdown",
   "metadata": {},
   "source": [
    "### Question 8\n",
    "_Is your model able to perform equally well on captured pictures or a live camera stream when compared to testing on the realistic dataset?_\n",
    "\n",
    "### Answer 8"
   ]
  },
  {
   "cell_type": "markdown",
   "metadata": {},
   "source": [
    "### Optional: Question 9\n",
    "_If necessary, provide documentation for how an interface was built for your model to load and classify newly-acquired images._\n",
    "\n",
    "### Answer 9"
   ]
  },
  {
   "cell_type": "markdown",
   "metadata": {},
   "source": [
    "----\n",
    "## $\\mathfrak {\\color{#348ABD} {Step \\ 4: \\ Explore \\ an \\ Improvement \\ for \\ a \\ Model}}$\n",
    "\n",
    "There are many things you can do once you have the basic classifier in place. One example would be to also localize where the numbers are on the image. The SVHN dataset provides bounding boxes that you can tune to train a localizer. Train a regression loss to the coordinates of the bounding box, and then test it. "
   ]
  },
  {
   "cell_type": "code",
   "execution_count": null,
   "metadata": {
    "collapsed": true
   },
   "outputs": [],
   "source": [
    "hide_code\n",
    "\n",
    "#"
   ]
  },
  {
   "cell_type": "code",
   "execution_count": null,
   "metadata": {
    "collapsed": true
   },
   "outputs": [],
   "source": [
    "hide_code\n",
    "\n",
    "#"
   ]
  },
  {
   "cell_type": "code",
   "execution_count": null,
   "metadata": {
    "collapsed": true
   },
   "outputs": [],
   "source": [
    "hide_code\n",
    "\n",
    "#"
   ]
  },
  {
   "cell_type": "markdown",
   "metadata": {},
   "source": [
    "### Question 10\n",
    "_How well does your model localize numbers on the testing set from the realistic dataset? Do your classification results change at all with localization included?_\n",
    "### Answer 10"
   ]
  },
  {
   "cell_type": "markdown",
   "metadata": {
    "collapsed": true
   },
   "source": [
    "### Question 11\n",
    "_Test the localization function on the images you captured in **Step 3**. Does the model accurately calculate a bounding box for the numbers in the images you found? If you did not use a graphical interface, you may need to investigate the bounding boxes by hand._ Provide an example of the localization created on a captured image.\n",
    "\n",
    "### Answer 11"
   ]
  },
  {
   "cell_type": "markdown",
   "metadata": {
    "collapsed": true
   },
   "source": [
    "----\n",
    "## $\\mathfrak {\\color{#348ABD} {Optional \\ Step \\ 5: \\ Build \\ an \\ Application \\ or \\ Program \\ for \\ a \\ Model}}$\n",
    "Take your project one step further. If you're interested, look to build an Android application or even a more robust Python program that can interface with input images and display the classified numbers and even the bounding boxes. You can for example try to build an augmented reality app by overlaying your answer on the image like the [Word Lens](https://en.wikipedia.org/wiki/Word_Lens) app does.\n",
    "\n",
    "Loading a TensorFlow model into a camera app on Android is demonstrated in the [TensorFlow Android demo app](https://github.com/tensorflow/tensorflow/tree/master/tensorflow/examples/android), which you can simply modify.\n",
    "\n",
    "If you decide to explore this optional route, be sure to document your interface and implementation, along with significant results you find. You can see the additional rubric items that you could be evaluated on by [following this link](https://review.udacity.com/#!/rubrics/413/view)."
   ]
  },
  {
   "cell_type": "code",
   "execution_count": null,
   "metadata": {
    "collapsed": true
   },
   "outputs": [],
   "source": [
    "hide_code\n",
    "\n",
    "#"
   ]
  },
  {
   "cell_type": "code",
   "execution_count": null,
   "metadata": {
    "collapsed": true
   },
   "outputs": [],
   "source": [
    "hide_code\n",
    "\n",
    "\n",
    "#"
   ]
  },
  {
   "cell_type": "code",
   "execution_count": null,
   "metadata": {
    "collapsed": true
   },
   "outputs": [],
   "source": [
    "hide_code\n",
    "\n",
    "\n",
    "#"
   ]
  },
  {
   "cell_type": "markdown",
   "metadata": {},
   "source": [
    "### Documentation\n",
    "Provide additional documentation sufficient for detailing the implementation of the Android application or Python program for visualizing the classification of numbers in images. It should be clear how the program or application works. Demonstrations should be provided. "
   ]
  },
  {
   "cell_type": "code",
   "execution_count": null,
   "metadata": {
    "collapsed": true
   },
   "outputs": [],
   "source": [
    "hide_code\n",
    "\n",
    "\n",
    "#"
   ]
  }
 ],
 "metadata": {
  "anaconda-cloud": {},
  "hide_input": false,
  "kernelspec": {
   "display_name": "Python 3",
   "language": "python",
   "name": "python3"
  },
  "language_info": {
   "codemirror_mode": {
    "name": "ipython",
    "version": 3
   },
   "file_extension": ".py",
   "mimetype": "text/x-python",
   "name": "python",
   "nbconvert_exporter": "python",
   "pygments_lexer": "ipython3",
   "version": "3.6.0"
  },
  "latex_envs": {
   "bibliofile": "biblio.bib",
   "cite_by": "apalike",
   "current_citInitial": 1,
   "eqLabelWithNumbers": true,
   "eqNumInitial": 0
  }
 },
 "nbformat": 4,
 "nbformat_minor": 2
}
