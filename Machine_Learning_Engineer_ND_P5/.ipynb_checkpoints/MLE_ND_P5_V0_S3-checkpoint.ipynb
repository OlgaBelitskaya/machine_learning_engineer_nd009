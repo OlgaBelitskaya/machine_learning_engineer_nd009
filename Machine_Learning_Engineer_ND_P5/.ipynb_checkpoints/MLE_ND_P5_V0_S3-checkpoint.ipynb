{
 "cells": [
  {
   "cell_type": "markdown",
   "metadata": {},
   "source": [
    "# &#x1F4D1; &nbsp;  $\\mathfrak {\\color{#348ABD} {P5: \\ Build \\ a \\ Digit \\ Recognition \\ Program. \\ Step \\ 3}}$"
   ]
  },
  {
   "cell_type": "markdown",
   "metadata": {},
   "source": [
    "---\n",
    "\n",
    "---\n",
    "## $\\mathfrak {\\color{#348ABD} {Code \\ Library \\ and \\ Links}}$"
   ]
  },
  {
   "cell_type": "markdown",
   "metadata": {},
   "source": [
    "Multi-dimensional image processing https://docs.scipy.org/doc/scipy/reference/ndimage.html\n",
    "\n",
    "Keras: Deep Learning library for Theano and TensorFlow https://keras.io/\n",
    " \n",
    "Deep MNIST for Experts https://www.tensorflow.org/get_started/mnist/pros\n",
    "\n",
    "Tensorflow Deep MNIST Advanced Tutorial http://docs.seldon.io/tensorflow-deep-mnist-example.html\n",
    "\n",
    "Handwritten Digit Recognition using Convolutional Neural Networks in Python with Keras\n",
    "\n",
    "http://machinelearningmastery.com/handwritten-digit-recognition-using-convolutional-neural-networks-python-keras/"
   ]
  },
  {
   "cell_type": "code",
   "execution_count": 1,
   "metadata": {
    "collapsed": false
   },
   "outputs": [
    {
     "data": {
      "text/html": [
       "<script>code_show = true; \n",
       "function code_display() {\n",
       "    if (code_show) {\n",
       "        $('div.input').each(function(id) {\n",
       "            if (id == 0 || $(this).html().indexOf('hide_code') > -1) {$(this).hide();}\n",
       "        });\n",
       "        $('div.output_prompt').css('opacity', 0);\n",
       "    } else {\n",
       "        $('div.input').each(function(id) {$(this).show();});\n",
       "        $('div.output_prompt').css('opacity', 1);\n",
       "    }\n",
       "    code_show = !code_show;\n",
       "} \n",
       "$(document).ready(code_display);</script>\n",
       "<form action=\"javascript: code_display()\"><input style=\"color: #348ABD; background: ghostwhite; opacity: 0.9; \" type=\"submit\" value=\"Click to display or hide code\"></form>"
      ],
      "text/plain": [
       "<IPython.core.display.HTML object>"
      ]
     },
     "execution_count": 1,
     "metadata": {},
     "output_type": "execute_result"
    }
   ],
   "source": [
    "from IPython.core.display import HTML\n",
    "hide_code = ''\n",
    "HTML('''<script>code_show = true; \n",
    "function code_display() {\n",
    "    if (code_show) {\n",
    "        $('div.input').each(function(id) {\n",
    "            if (id == 0 || $(this).html().indexOf('hide_code') > -1) {$(this).hide();}\n",
    "        });\n",
    "        $('div.output_prompt').css('opacity', 0);\n",
    "    } else {\n",
    "        $('div.input').each(function(id) {$(this).show();});\n",
    "        $('div.output_prompt').css('opacity', 1);\n",
    "    }\n",
    "    code_show = !code_show;\n",
    "} \n",
    "$(document).ready(code_display);</script>\n",
    "<form action=\"javascript: code_display()\"><input style=\"color: #348ABD; background: ghostwhite; opacity: 0.9; \" \\\n",
    "type=\"submit\" value=\"Click to display or hide code\"></form>''')"
   ]
  },
  {
   "cell_type": "code",
   "execution_count": 2,
   "metadata": {
    "collapsed": false
   },
   "outputs": [],
   "source": [
    "hide_code\n",
    "\n",
    "import numpy as np\n",
    "import pandas as pd\n",
    "\n",
    "import cv2\n",
    "\n",
    "import scipy as sp\n",
    "import scipy.ndimage\n",
    "import scipy.misc\n",
    "from scipy.special import expit\n",
    "\n",
    "import random\n",
    "from time import time\n",
    "\n",
    "import os\n",
    "import sys\n",
    "\n",
    "import h5py\n",
    "import tarfile\n",
    "\n",
    "from six.moves.urllib.request import urlretrieve\n",
    "from six.moves import cPickle as pickle\n",
    "\n",
    "from IPython.display import display, Image, IFrame\n",
    "import matplotlib.pylab as plt\n",
    "import matplotlib.cm as cm\n",
    "from matplotlib import offsetbox\n",
    "%matplotlib inline"
   ]
  },
  {
   "cell_type": "code",
   "execution_count": 3,
   "metadata": {
    "collapsed": false
   },
   "outputs": [],
   "source": [
    "hide_code\n",
    "\n",
    "import tensorflow as tf\n",
    "import tensorflow.examples.tutorials.mnist as mnist"
   ]
  },
  {
   "cell_type": "code",
   "execution_count": 4,
   "metadata": {
    "collapsed": false
   },
   "outputs": [],
   "source": [
    "hide_code\n",
    "\n",
    "from skimage.feature import hog\n",
    "from sklearn.externals import joblib\n",
    "from sklearn.neural_network import MLPClassifier, BernoulliRBM\n",
    "from sklearn import linear_model, datasets, metrics\n",
    "from sklearn.pipeline import Pipeline\n",
    "from sklearn import manifold, decomposition, ensemble\n",
    "from sklearn import discriminant_analysis, random_projection\n",
    "from sklearn.model_selection import train_test_split"
   ]
  },
  {
   "cell_type": "code",
   "execution_count": 5,
   "metadata": {
    "collapsed": false
   },
   "outputs": [
    {
     "name": "stderr",
     "output_type": "stream",
     "text": [
      "Using TensorFlow backend.\n"
     ]
    }
   ],
   "source": [
    "hide_code\n",
    "\n",
    "import keras as ks\n",
    "from keras.models import Sequential, load_model, Model\n",
    "from keras.preprocessing import sequence\n",
    "from keras.optimizers import SGD, RMSprop\n",
    "from keras.layers import Dense, Dropout, LSTM\n",
    "from keras.layers import Activation, Flatten, Input, BatchNormalization\n",
    "from keras.layers import Conv1D, MaxPooling1D, Conv2D, MaxPooling2D\n",
    "from keras.layers.embeddings import Embedding"
   ]
  },
  {
   "cell_type": "code",
   "execution_count": 6,
   "metadata": {
    "collapsed": true
   },
   "outputs": [],
   "source": [
    "hide_code\n",
    "\n",
    "import warnings\n",
    "warnings.filterwarnings('ignore')"
   ]
  },
  {
   "cell_type": "code",
   "execution_count": 155,
   "metadata": {
    "collapsed": true
   },
   "outputs": [],
   "source": [
    "hide_code\n",
    "\n",
    "def fivedigit_label(label):\n",
    "    size = len(label)\n",
    "    if size >= 5:\n",
    "        return label\n",
    "    else:\n",
    "        num_zeros = np.full((5-size), 10)\n",
    "        return np.array(np.concatenate((num_zeros, label), axis = 0))\n",
    "    \n",
    "def get_filenames(folder):\n",
    "    image_path = os.path.join(folder)\n",
    "    return np.array([f for f in os.listdir(image_path) if f.endswith('.png')])\n",
    "\n",
    "def get_image(folder, image_file):\n",
    "    filename=os.path.join(folder, image_file)\n",
    "    image = scipy.ndimage.imread(filename, mode='RGB')\n",
    "    \n",
    "    if folder == 'new':\n",
    "        n = np.where(new_filenames == image_file)[0]\n",
    "        label = new_labels[n]\n",
    "        \n",
    "    image64_1 = scipy.misc.imresize(image, (32, 32, 3))/255\n",
    "    image64_2 = np.dot(np.array(image64_1, dtype='float32'), [0.299, 0.587, 0.114])\n",
    "    \n",
    "    return image64_1, image64_2, label\n",
    "\n",
    "def digit_to_categorical(data):\n",
    "    n = data.shape[1]\n",
    "    data_cat = np.empty([len(data), n, 11])\n",
    "    \n",
    "    for i in range(n):\n",
    "        data_cat[:, i] = ks.utils.to_categorical(data[:, i], num_classes=11)\n",
    "        \n",
    "    return data_cat"
   ]
  },
  {
   "cell_type": "code",
   "execution_count": 156,
   "metadata": {
    "collapsed": true
   },
   "outputs": [],
   "source": [
    "hide_code\n",
    "\n",
    "def get_image2(folder, image_file, boxes):\n",
    "    filename=os.path.join(folder, image_file)\n",
    "    image = scipy.ndimage.imread(filename, mode='RGB')\n",
    "    box = boxes.loc[image_file]\n",
    "    image = image[box[0]:box[1], box[2]:box[3]]\n",
    "    \n",
    "    if folder == 'new':\n",
    "        n = np.where(new_filenames == image_file)[0]\n",
    "        label = new_labels[n]\n",
    "        \n",
    "    image32_1 = scipy.misc.imresize(image, (32, 32, 3))/255\n",
    "    image32_2 = np.dot(np.array(image32_1, dtype='float32'), [0.299, 0.587, 0.114])\n",
    "    \n",
    "    return image32_1, image32_2, label"
   ]
  },
  {
   "cell_type": "code",
   "execution_count": 157,
   "metadata": {
    "collapsed": true
   },
   "outputs": [],
   "source": [
    "hide_code\n",
    "\n",
    "def get_image3(folder, image_file, boxes):\n",
    "    filename=os.path.join(folder, image_file)\n",
    "    image = cv2.imread(filename)\n",
    "    box = boxes.loc[image_file]\n",
    "    image = image[box[0]:box[1], box[2]:box[3]]\n",
    "    image_gray = cv2.cvtColor(image, cv2.COLOR_BGR2GRAY)\n",
    "#    image_hist = cv2.equalizeHist(image_gray)\n",
    "    image_r = cv2.resize(image_gray,(32, 32), interpolation = cv2.INTER_CUBIC)\n",
    "    \n",
    "    if folder == 'new':\n",
    "        n = np.where(new_filenames == image_file)[0]\n",
    "        label = new_labels[n]\n",
    "    \n",
    "    return image_r, label"
   ]
  },
  {
   "cell_type": "code",
   "execution_count": 158,
   "metadata": {
    "collapsed": true
   },
   "outputs": [],
   "source": [
    "hide_code\n",
    "\n",
    "def get_image4(folder, image_file):\n",
    "    filename = os.path.join(folder, image_file)\n",
    "    img = scipy.ndimage.imread(filename, mode='RGB')\n",
    "    img_gray = cv2.cvtColor(img, cv2.COLOR_BGR2GRAY)\n",
    "    edges = cv2.Canny(img_gray, 100, 200)\n",
    "    rectangle = cv2.boundingRect(edges)\n",
    "    n1, n2, n3, n4 = rectangle[1], rectangle[1]+rectangle[3], rectangle[0], rectangle[0]+rectangle[2]\n",
    "    image_box = img_gray[n1:n2, n3:n4]\n",
    "    image_resize = scipy.misc.imresize(image_box, (32, 32))\n",
    "    return image_resize"
   ]
  },
  {
   "cell_type": "markdown",
   "metadata": {},
   "source": [
    "---\n",
    "\n",
    "---\n",
    "## $\\mathfrak {\\color{#348ABD} {Experimental \\ Datasets}}$"
   ]
  },
  {
   "cell_type": "markdown",
   "metadata": {},
   "source": [
    "#### Dataset #6. Newly-Captured Images"
   ]
  },
  {
   "cell_type": "markdown",
   "metadata": {},
   "source": [
    "#### Examples: \n",
    "####  &nbsp;\n",
    "<div style=\"width: 220px; height: 220px; overflow:auto;\">\n",
    "    <img src=\"new/1.png\" width=\"200\" height=\"200\"/>\n",
    "    <img src=\"new/10.png\" width=\"200\" height=\"200\"/>\n",
    "    <img src=\"new/11.png\" width=\"200\" height=\"200\"/>\n",
    "\t<img src=\"new/12.png\" width=\"200\" height=\"200\"/>\n",
    "\t<img src=\"new/13.png\" width=\"200\" height=\"200\"/>\n",
    "\t<img src=\"new/14.png\" width=\"200\" height=\"200\"/>\n",
    "\t<img src=\"new/15.png\" width=\"200\" height=\"200\"/>\n",
    "\t<img src=\"new/16.png\" width=\"200\" height=\"200\"/>\n",
    "\t<img src=\"new/17.png\" width=\"200\" height=\"200\"/>\n",
    "\t<img src=\"new/18.png\" width=\"200\" height=\"200\"/>\n",
    "\t<img src=\"new/19.png\" width=\"200\" height=\"200\"/>    \n",
    "\t<img src=\"new/2.png\" width=\"200\" height=\"200\"/>\n",
    "    <img src=\"new/20.png\" width=\"200\" height=\"200\"/>\n",
    "    <img src=\"new/21.png\" width=\"200\" height=\"200\"/> \n",
    "    <img src=\"new/22.png\" width=\"200\" height=\"200\"/>\n",
    "    <img src=\"new/23.png\" width=\"200\" height=\"200\"/>\n",
    "    <img src=\"new/24.png\" width=\"200\" height=\"200\"/>\n",
    "    <img src=\"new/25.png\" width=\"200\" height=\"200\"/>\n",
    "    <img src=\"new/26.png\" width=\"200\" height=\"200\"/> \n",
    "    <img src=\"new/27.png\" width=\"200\" height=\"200\"/>\n",
    "    <img src=\"new/28.png\" width=\"200\" height=\"200\"/>\n",
    "    <img src=\"new/29.png\" width=\"200\" height=\"200\"/>        \n",
    "\t<img src=\"new/3.png\" width=\"200\" height=\"200\"/>\n",
    "\t<img src=\"new/30.png\" width=\"200\" height=\"200\"/>    \n",
    "\t<img src=\"new/4.png\" width=\"200\" height=\"200\"/>\n",
    "\t<img src=\"new/5.png\" width=\"200\" height=\"200\"/>\n",
    "\t<img src=\"new/6.png\" width=\"200\" height=\"200\"/>\n",
    "\t<img src=\"new/7.png\" width=\"200\" height=\"200\"/>\n",
    "\t<img src=\"new/8.png\" width=\"200\" height=\"200\"/>\n",
    "\t<img src=\"new/9.png\" width=\"200\" height=\"200\"/>\n",
    "</div>"
   ]
  },
  {
   "cell_type": "code",
   "execution_count": 159,
   "metadata": {
    "collapsed": false
   },
   "outputs": [
    {
     "name": "stdout",
     "output_type": "stream",
     "text": [
      "New files list:\n",
      " ['1.png' '10.png' '11.png' '12.png' '13.png' '14.png' '15.png' '16.png'\n",
      " '17.png' '18.png' '19.png' '2.png' '20.png' '21.png' '22.png' '23.png'\n",
      " '24.png' '25.png' '26.png' '27.png' '28.png' '29.png' '3.png' '30.png'\n",
      " '4.png' '5.png' '6.png' '7.png' '8.png' '9.png']\n",
      "New labels: \n",
      " [[10 10 10 10  8]\n",
      " [10 10  5  6  3]\n",
      " [10 10 10  5  7]\n",
      " [10 10 10 10  6]\n",
      " [10 10  6  1  1]\n",
      " [10 10 10 10  8]\n",
      " [10 10 10  5  9]\n",
      " [10 10  1  0  1]\n",
      " [10  1  0  0  0]\n",
      " [10  1  9  1  3]\n",
      " [10 10 10 10  4]\n",
      " [10 10 10 10  1]\n",
      " [10 10  3  4  4]\n",
      " [10  2  4  4  8]\n",
      " [10 10 10  1  5]\n",
      " [10 10 10 10  7]\n",
      " [10  7  8  2  2]\n",
      " [10 10  6  4  8]\n",
      " [10 10 10 10  2]\n",
      " [10 10 10  3  0]\n",
      " [10 10 10 10  3]\n",
      " [10 10 10  4  3]\n",
      " [10  2  0  1  0]\n",
      " [10 10  7  8  3]\n",
      " [10  1  0  1  1]\n",
      " [10 10 10 10  7]\n",
      " [10 10 10  1  0]\n",
      " [10 10 10 10  2]\n",
      " [10 10 10 10  9]\n",
      " [10 10 10 10  8]]\n"
     ]
    }
   ],
   "source": [
    "hide_code\n",
    "\n",
    "new_filenames = get_filenames('new')\n",
    "print('New files list:\\n', new_filenames)\n",
    "\n",
    "new_labels = [[8], [5, 6, 3], [5, 7], [6], [6, 1, 1],\n",
    "              [8], [5, 9], [1, 0, 1], [1, 0, 0, 0], [1, 9, 1, 3], \n",
    "              [4], [1], [3, 4, 4], [2, 4, 4, 8], [1, 5], \n",
    "              [7], [7, 8, 2, 2], [6, 4, 8], [2], [3, 0],              \n",
    "              [3], [4, 3], [2, 0, 1, 0], [7, 8, 3], [1, 0, 1, 1], \n",
    "              [7], [1, 0], [2], [9], [8]]\n",
    "new_labels = np.array([fivedigit_label(new_labels[i]) for i in range(len(new_labels))])\n",
    "print('New labels: \\n',new_labels)"
   ]
  },
  {
   "cell_type": "code",
   "execution_count": 160,
   "metadata": {
    "collapsed": false
   },
   "outputs": [
    {
     "name": "stdout",
     "output_type": "stream",
     "text": [
      "Image size:  (32, 32, 3)\n",
      "Image label:  [[10 10  7  8  3]]\n",
      "\n",
      "Example of image preprocessing\n"
     ]
    },
    {
     "data": {
      "image/png": "[encoded data removed]",
      "text/plain": [
       "<matplotlib.figure.Figure at 0x123894668>"
      ]
     },
     "metadata": {},
     "output_type": "display_data"
    }
   ],
   "source": [
    "hide_code\n",
    "\n",
    "image_example = get_image('new', '30.png')\n",
    "\n",
    "print(\"Image size: \", image_example[0].shape)\n",
    "print(\"Image label: \", image_example[2])\n",
    "print('\\nExample of image preprocessing')\n",
    "plt.imshow(image_example[1], cmap=plt.cm.Blues);"
   ]
  },
  {
   "cell_type": "code",
   "execution_count": 161,
   "metadata": {
    "collapsed": false
   },
   "outputs": [],
   "source": [
    "hide_code\n",
    "\n",
    "new_images1 = np.array([get_image('new', x)[0] for x in new_filenames])\n",
    "new_images2 = np.array([get_image('new', x)[1] for x in new_filenames])"
   ]
  },
  {
   "cell_type": "markdown",
   "metadata": {},
   "source": [
    "#### The '.pickle' file:"
   ]
  },
  {
   "cell_type": "code",
   "execution_count": 162,
   "metadata": {
    "collapsed": false
   },
   "outputs": [
    {
     "name": "stdout",
     "output_type": "stream",
     "text": [
      "Compressed pickle size: 985369\n"
     ]
    }
   ],
   "source": [
    "hide_code\n",
    "\n",
    "pickle_file = 'new_digits.pickle'\n",
    "\n",
    "try:\n",
    "    f = open(pickle_file, 'wb')\n",
    "    save = {'new_images1': new_images1, 'new_images2': new_images2,\n",
    "            'new_labels': new_labels, 'new_filenames': new_filenames}\n",
    "    pickle.dump(save, f, pickle.HIGHEST_PROTOCOL)\n",
    "    f.close()\n",
    "except Exception as e:\n",
    "    print('Unable to save data to', pickle_file, ':', e)\n",
    "    raise\n",
    "    \n",
    "statinfo = os.stat(pickle_file)\n",
    "print('Compressed pickle size:', statinfo.st_size)"
   ]
  },
  {
   "cell_type": "code",
   "execution_count": 163,
   "metadata": {
    "collapsed": false
   },
   "outputs": [
    {
     "name": "stdout",
     "output_type": "stream",
     "text": [
      "Number of new images:  30\n"
     ]
    }
   ],
   "source": [
    "hide_code\n",
    "\n",
    "pickle_file = 'new_digits.pickle'\n",
    "\n",
    "with open(pickle_file, 'rb') as f:\n",
    "    save = pickle.load(f)\n",
    "    new_images1 = save['new_images1']\n",
    "    new_images2 = save['new_images2']\n",
    "    new_labels = save['new_labels']\n",
    "    new_filenames = save['new_filenames']\n",
    "    del save\n",
    "    \n",
    "print('Number of new images: ', len(new_images1))\n"
   ]
  },
  {
   "cell_type": "code",
   "execution_count": 164,
   "metadata": {
    "collapsed": false
   },
   "outputs": [
    {
     "name": "stdout",
     "output_type": "stream",
     "text": [
      "The sixth dataset\n",
      "Shape of the features - (30, 32, 32), shape of the target - (30, 5, 11)\n"
     ]
    }
   ],
   "source": [
    "hide_code\n",
    "\n",
    "new_labels_cat = digit_to_categorical(new_labels)\n",
    "print('The sixth dataset')\n",
    "print(\"Shape of the features - {}, shape of the target - {}\".\\\n",
    "      format(new_images2.shape, new_labels_cat.shape))"
   ]
  },
  {
   "cell_type": "code",
   "execution_count": 165,
   "metadata": {
    "collapsed": true
   },
   "outputs": [],
   "source": [
    "hide_code\n",
    "\n",
    "X_new = new_images2.reshape(30, 32, 32, 1)\n",
    "y_new_cat_list = [new_labels_cat[:, i] for i in range(5)]"
   ]
  },
  {
   "cell_type": "code",
   "execution_count": 166,
   "metadata": {
    "collapsed": false
   },
   "outputs": [
    {
     "name": "stdout",
     "output_type": "stream",
     "text": [
      "File:  30.png\n",
      "Label:  [10 10  7  8  3]\n",
      "Categorical label: \n",
      " [[ 0.  0.  0.  0.  0.  0.  0.  0.  0.  0.  1.]\n",
      " [ 0.  0.  0.  0.  0.  0.  0.  0.  0.  0.  1.]\n",
      " [ 0.  0.  0.  0.  0.  0.  0.  1.  0.  0.  0.]\n",
      " [ 0.  0.  0.  0.  0.  0.  0.  0.  1.  0.  0.]\n",
      " [ 0.  0.  0.  1.  0.  0.  0.  0.  0.  0.  0.]]\n",
      "\n",
      "Example of loaded images\n"
     ]
    },
    {
     "data": {
      "image/png": "[encoded data removed]",
      "text/plain": [
       "<matplotlib.figure.Figure at 0x11a6a1b38>"
      ]
     },
     "metadata": {},
     "output_type": "display_data"
    }
   ],
   "source": [
    "hide_code\n",
    "\n",
    "print ('File: ', new_filenames[23])\n",
    "print ('Label: ', new_labels[23])\n",
    "print ('Categorical label: \\n', new_labels_cat[23])\n",
    "print('\\nExample of loaded images')\n",
    "plt.imshow(new_images2[23], cmap=plt.cm.Blues);"
   ]
  },
  {
   "cell_type": "markdown",
   "metadata": {},
   "source": [
    "***The image boxes:***"
   ]
  },
  {
   "cell_type": "code",
   "execution_count": 167,
   "metadata": {
    "collapsed": false
   },
   "outputs": [
    {
     "data": {
      "text/html": [
       "<div>\n",
       "<style>\n",
       "    .dataframe thead tr:only-child th {\n",
       "        text-align: right;\n",
       "    }\n",
       "\n",
       "    .dataframe thead th {\n",
       "        text-align: left;\n",
       "    }\n",
       "\n",
       "    .dataframe tbody tr th {\n",
       "        vertical-align: top;\n",
       "    }\n",
       "</style>\n",
       "<table border=\"1\" class=\"dataframe\">\n",
       "  <thead>\n",
       "    <tr style=\"text-align: right;\">\n",
       "      <th></th>\n",
       "      <th>0</th>\n",
       "      <th>1</th>\n",
       "      <th>2</th>\n",
       "      <th>3</th>\n",
       "    </tr>\n",
       "  </thead>\n",
       "  <tbody>\n",
       "    <tr>\n",
       "      <th>1.png</th>\n",
       "      <td>10</td>\n",
       "      <td>120</td>\n",
       "      <td>15</td>\n",
       "      <td>100</td>\n",
       "    </tr>\n",
       "    <tr>\n",
       "      <th>10.png</th>\n",
       "      <td>20</td>\n",
       "      <td>55</td>\n",
       "      <td>0</td>\n",
       "      <td>120</td>\n",
       "    </tr>\n",
       "    <tr>\n",
       "      <th>11.png</th>\n",
       "      <td>5</td>\n",
       "      <td>90</td>\n",
       "      <td>15</td>\n",
       "      <td>140</td>\n",
       "    </tr>\n",
       "  </tbody>\n",
       "</table>\n",
       "</div>"
      ],
      "text/plain": [
       "         0    1   2    3\n",
       "1.png   10  120  15  100\n",
       "10.png  20   55   0  120\n",
       "11.png   5   90  15  140"
      ]
     },
     "execution_count": 167,
     "metadata": {},
     "output_type": "execute_result"
    }
   ],
   "source": [
    "hide_code\n",
    "\n",
    "boxes = np.array([[10, 120, 15, 100], [20, 55, 0, 120], [5, 90, 15, 140], [100, 500, 200, 500], [20, 100, 30, 160],\n",
    "                 [5, 220, 70, 250], [10, 180, 20, 130], [5, 100, 15, 110], [10, 120, 10, 220], [150, 400, 10, 480],\n",
    "                 [30, 150, 0, 100], [70, 220, 80, 210], [130, 250, 80, 300], [10, 60, 5, 155], [40, 80, 60, 110],\n",
    "                 [0, 120, 0, 100], [40, 90, 10, 170], [40, 80, 30, 130], [30, 180, 20, 140], [70, 120, 40, 90],\n",
    "                 [10, 140, 20, 90], [20, 120, 0, 130], [20, 140, 10, 290], [60, 120, 10, 110], [10, 140, 10, 340],\n",
    "                 [20, 150, 20, 130], [10, 170, 20, 190], [10, 230, 20, 170], [10, 240, 200, 400], [10, 140, 20, 150]])\n",
    "\n",
    "new_boxes = pd.DataFrame(data=boxes, index = new_filenames)\n",
    "new_boxes.head(3)"
   ]
  },
  {
   "cell_type": "code",
   "execution_count": 168,
   "metadata": {
    "collapsed": true
   },
   "outputs": [],
   "source": [
    "hide_code\n",
    "\n",
    "new_images1_2 = np.array([get_image2('new', x, new_boxes)[0] for x in new_filenames])\n",
    "new_images2_2 = np.array([get_image2('new', x, new_boxes)[1] for x in new_filenames])\n",
    "\n",
    "X_new2 = new_images2_2.reshape(30, 32, 32, 1)"
   ]
  },
  {
   "cell_type": "code",
   "execution_count": 169,
   "metadata": {
    "collapsed": false
   },
   "outputs": [
    {
     "name": "stdout",
     "output_type": "stream",
     "text": [
      "File:  10.png\n",
      "Label:  [10 10  5  6  3]\n",
      "Categorical label: \n",
      " [[ 0.  0.  0.  0.  0.  0.  0.  0.  0.  0.  1.]\n",
      " [ 0.  0.  0.  0.  0.  0.  0.  0.  0.  0.  1.]\n",
      " [ 0.  0.  0.  0.  0.  1.  0.  0.  0.  0.  0.]\n",
      " [ 0.  0.  0.  0.  0.  0.  1.  0.  0.  0.  0.]\n",
      " [ 0.  0.  0.  1.  0.  0.  0.  0.  0.  0.  0.]]\n",
      "\n",
      "Example of loaded images\n"
     ]
    },
    {
     "data": {
      "image/png": "[encoded data removed]",
      "text/plain": [
       "<matplotlib.figure.Figure at 0x123a3ee80>"
      ]
     },
     "metadata": {},
     "output_type": "display_data"
    }
   ],
   "source": [
    "hide_code\n",
    "\n",
    "print ('File: ', new_filenames[1])\n",
    "print ('Label: ', new_labels[1])\n",
    "print ('Categorical label: \\n', new_labels_cat[1])\n",
    "print('\\nExample of loaded images')\n",
    "plt.imshow(new_images2_2[1], cmap=plt.cm.Blues);"
   ]
  },
  {
   "cell_type": "markdown",
   "metadata": {},
   "source": [
    "***With image boxes. OpenCV***"
   ]
  },
  {
   "cell_type": "code",
   "execution_count": 170,
   "metadata": {
    "collapsed": true
   },
   "outputs": [],
   "source": [
    "hide_code\n",
    "\n",
    "new_images2_3 = np.array([get_image3('new', x, new_boxes)[0] for x in new_filenames])\n",
    "\n",
    "X_new3 = new_images2_3.reshape(30, 32, 32, 1)"
   ]
  },
  {
   "cell_type": "markdown",
   "metadata": {
    "collapsed": true
   },
   "source": [
    "---\n",
    "\n",
    "---\n",
    "## $\\mathfrak {\\color{#348ABD} {Step \\ 3: \\ Test \\ a \\ Model \\ on \\ Newly-Captured \\ Images}}$\n",
    "\n",
    "Take several pictures of numbers that you find around you (at least five), and run them through your classifier on your computer to produce example results. Alternatively (optionally), you can try using OpenCV / SimpleCV / Pygame to capture live images from a webcam and run those through your classifier."
   ]
  },
  {
   "cell_type": "code",
   "execution_count": 171,
   "metadata": {
    "collapsed": false
   },
   "outputs": [],
   "source": [
    "hide_code\n",
    "\n",
    "cnn_model = load_model('cnn_model55_file1_3.h5')"
   ]
  },
  {
   "cell_type": "code",
   "execution_count": 172,
   "metadata": {
    "collapsed": true
   },
   "outputs": [],
   "source": [
    "hide_code\n",
    "\n",
    "cnn_model2 = load_model('cnn_model55_file2_3.h5')"
   ]
  },
  {
   "cell_type": "markdown",
   "metadata": {},
   "source": [
    "***Predictions without boxes***"
   ]
  },
  {
   "cell_type": "code",
   "execution_count": 173,
   "metadata": {
    "collapsed": false
   },
   "outputs": [
    {
     "name": "stdout",
     "output_type": "stream",
     "text": [
      "Model 1. Predictions: \n",
      "[[10 10 10 10  8]\n",
      " [10 10 10  2  5]\n",
      " [10 10 10  5  7]\n",
      " [10 10 10  1  6]\n",
      " [10 10  1  6  1]\n",
      " [10 10 10  1  3]\n",
      " [10 10 10  5  9]\n",
      " [10 10  1  0  1]\n",
      " [10  1  0  0  0]\n",
      " [10  1  0  1  1]\n",
      " [10 10 10  2  1]\n",
      " [10 10 10 10  1]\n",
      " [10 10 10  4  4]\n",
      " [10 10 10  4  4]\n",
      " [10 10 10 10  5]\n",
      " [10 10 10  7  4]\n",
      " [10 10 10  7  4]\n",
      " [10 10  1  9  4]\n",
      " [10 10 10  2  2]\n",
      " [10 10  1  1  6]\n",
      " [10 10 10 10  3]\n",
      " [10 10  4  4  3]\n",
      " [10  2  0  1  0]\n",
      " [10 10 10  2  5]\n",
      " [10  1  0  5  1]\n",
      " [10 10 10 10  7]\n",
      " [10 10 10  1  0]\n",
      " [10 10 10 10  2]\n",
      " [10 10 10  1  9]\n",
      " [10 10 10 10  8]]\n"
     ]
    }
   ],
   "source": [
    "hide_code\n",
    "\n",
    "y_new_predict = cnn_model.predict(X_new)\n",
    "\n",
    "y_predict = []\n",
    "for i in range(30):\n",
    "    for j in range(5):\n",
    "        y_predict.append(np.argmax(y_new_predict[j][i]))\n",
    "y_predict = np.array(y_predict).reshape(30,5)\n",
    "print('Model 1. Predictions: ')\n",
    "print(y_predict)"
   ]
  },
  {
   "cell_type": "code",
   "execution_count": 174,
   "metadata": {
    "collapsed": false
   },
   "outputs": [
    {
     "name": "stdout",
     "output_type": "stream",
     "text": [
      "Model 2. Predictions: \n",
      "[[10 10 10 10  8]\n",
      " [10 10 10  5  5]\n",
      " [10 10 10  5  7]\n",
      " [10 10 10  1  6]\n",
      " [10 10  6  1  1]\n",
      " [10 10  1  1  3]\n",
      " [10 10 10  5  9]\n",
      " [10 10  1  0  1]\n",
      " [10  1  0  0  0]\n",
      " [10 10 10  0  2]\n",
      " [10 10 10  2  1]\n",
      " [10 10 10 10  0]\n",
      " [10 10 10  1  4]\n",
      " [10 10 10  4  4]\n",
      " [10 10 10  4  1]\n",
      " [10 10 10  7  7]\n",
      " [10 10  1  4  4]\n",
      " [10 10  1  5  0]\n",
      " [10 10 10 10  5]\n",
      " [10 10  4  5  0]\n",
      " [10 10 10 10  3]\n",
      " [10 10 10  4  3]\n",
      " [10  2  0  1  0]\n",
      " [10 10 10 10  5]\n",
      " [10  1  0  4  1]\n",
      " [10 10 10 10  7]\n",
      " [10 10 10  1  0]\n",
      " [10 10 10 10  2]\n",
      " [10 10 10  9  6]\n",
      " [10 10 10 10  8]]\n"
     ]
    }
   ],
   "source": [
    "hide_code\n",
    "\n",
    "y_new_predict_2 = cnn_model2.predict(X_new)\n",
    "\n",
    "y_predict_2 = []\n",
    "for i in range(30):\n",
    "    for j in range(5):\n",
    "        y_predict_2.append(np.argmax(y_new_predict_2[j][i]))\n",
    "y_predict_2 = np.array(y_predict_2).reshape(30,5)\n",
    "print('Model 2. Predictions: ')\n",
    "print(y_predict_2)"
   ]
  },
  {
   "cell_type": "code",
   "execution_count": 175,
   "metadata": {
    "collapsed": false
   },
   "outputs": [
    {
     "name": "stdout",
     "output_type": "stream",
     "text": [
      "Model 1. CNN Scores: \n",
      " [3.9025218486785889, 0.00066056463401764631, 0.32138007879257202, 1.0556792020797729, 1.441067099571228, 1.0837347507476807, 1.0, 0.93333333730697632, 0.66666668653488159, 0.53333336114883423, 0.66666668653488159]\n",
      "Model 1. First digit. CNN Accuracy: 100.00%\n",
      "Model 1. Second digit. CNN Accuracy: 93.33%\n",
      "Model 1. Third digit. CNN Accuracy: 66.67%\n",
      "Model 1. Fourth digit. CNN Accuracy: 53.33%\n",
      "Model 1. Fifth digit. CNN Accuracy: 66.67%\n"
     ]
    }
   ],
   "source": [
    "hide_code\n",
    "\n",
    "cnn_scores = cnn_model.evaluate(X_new, y_new_cat_list, verbose=0)\n",
    "\n",
    "print(\"Model 1. CNN Scores: \\n\" , (cnn_scores))\n",
    "print(\"Model 1. First digit. CNN Accuracy: %.2f%%\" % (cnn_scores[6]*100))\n",
    "print(\"Model 1. Second digit. CNN Accuracy: %.2f%%\" % (cnn_scores[7]*100))\n",
    "print(\"Model 1. Third digit. CNN Accuracy: %.2f%%\" % (cnn_scores[8]*100))\n",
    "print(\"Model 1. Fourth digit. CNN Accuracy: %.2f%%\" % (cnn_scores[9]*100))\n",
    "print(\"Model 1. Fifth digit. CNN Accuracy: %.2f%%\" % (cnn_scores[10]*100))"
   ]
  },
  {
   "cell_type": "code",
   "execution_count": 176,
   "metadata": {
    "collapsed": false
   },
   "outputs": [
    {
     "name": "stdout",
     "output_type": "stream",
     "text": [
      "Model 2. CNN Scores: \n",
      " [9.6156940460205078, 1.3689427760255057e-06, 0.9137842059135437, 2.792539119720459, 3.7927649021148682, 2.116605281829834, 1.0, 0.89999997615814209, 0.69999998807907104, 0.53333336114883423, 0.60000002384185791]\n",
      "Model 2. First digit. CNN Accuracy: 100.00%\n",
      "Model 2. Second digit. CNN Accuracy: 90.00%\n",
      "Model 2. Third digit. CNN Accuracy: 70.00%\n",
      "Model 2. Fourth digit. CNN Accuracy: 53.33%\n",
      "Model 2. Fifth digit. CNN Accuracy: 60.00%\n"
     ]
    }
   ],
   "source": [
    "cnn_scores_2 = cnn_model2.evaluate(X_new, y_new_cat_list, verbose=0)\n",
    "\n",
    "print(\"Model 2. CNN Scores: \\n\" , (cnn_scores_2))\n",
    "print(\"Model 2. First digit. CNN Accuracy: %.2f%%\" % (cnn_scores_2[6]*100))\n",
    "print(\"Model 2. Second digit. CNN Accuracy: %.2f%%\" % (cnn_scores_2[7]*100))\n",
    "print(\"Model 2. Third digit. CNN Accuracy: %.2f%%\" % (cnn_scores_2[8]*100))\n",
    "print(\"Model 2. Fourth digit. CNN Accuracy: %.2f%%\" % (cnn_scores_2[9]*100))\n",
    "print(\"Model 2. Fifth digit. CNN Accuracy: %.2f%%\" % (cnn_scores_2[10]*100))"
   ]
  },
  {
   "cell_type": "code",
   "execution_count": 177,
   "metadata": {
    "collapsed": false
   },
   "outputs": [
    {
     "name": "stdout",
     "output_type": "stream",
     "text": [
      "Model 1. Average CNN Accuracy: 76.00%\n"
     ]
    }
   ],
   "source": [
    "hide_code\n",
    "\n",
    "avg_accuracy = sum([cnn_scores[i] for i in range(6, 11)])/5\n",
    "\n",
    "print(\"Model 1. Average CNN Accuracy: %.2f%%\" % (avg_accuracy*100))"
   ]
  },
  {
   "cell_type": "code",
   "execution_count": 178,
   "metadata": {
    "collapsed": false
   },
   "outputs": [
    {
     "name": "stdout",
     "output_type": "stream",
     "text": [
      "Model 2. Average CNN Accuracy: 74.67%\n"
     ]
    }
   ],
   "source": [
    "hide_code\n",
    "\n",
    "avg_accuracy_2 = sum([cnn_scores_2[i] for i in range(6, 11)])/5\n",
    "\n",
    "print(\"Model 2. Average CNN Accuracy: %.2f%%\" % (avg_accuracy_2*100))"
   ]
  },
  {
   "cell_type": "markdown",
   "metadata": {},
   "source": [
    "### Question 7\n",
    "_Choose five candidate images of numbers you took from around you and provide them in the report. Are there any particular qualities of the image(s) that might make classification difficult?_\n",
    "\n",
    "### Answer 7"
   ]
  },
  {
   "cell_type": "markdown",
   "metadata": {},
   "source": [
    "---\n",
    "### Question 8\n",
    "_Is your model able to perform equally well on captured pictures or a live camera stream when compared to testing on the realistic dataset?_\n",
    "\n",
    "### Answer 8"
   ]
  },
  {
   "cell_type": "markdown",
   "metadata": {},
   "source": [
    "---\n",
    "### Optional: Question 9\n",
    "_If necessary, provide documentation for how an interface was built for your model to load and classify newly-acquired images._\n",
    "\n",
    "### Answer 9"
   ]
  },
  {
   "cell_type": "markdown",
   "metadata": {},
   "source": [
    "---\n",
    "\n",
    "---\n",
    "## $\\mathfrak {\\color{#348ABD} {Step \\ 4: \\ Explore \\ an \\ Improvement \\ for \\ a \\ Model}}$\n",
    "\n",
    "There are many things you can do once you have the basic classifier in place. One example would be to also localize where the numbers are on the image. The SVHN dataset provides bounding boxes that you can tune to train a localizer. Train a regression loss to the coordinates of the bounding box, and then test it. "
   ]
  },
  {
   "cell_type": "markdown",
   "metadata": {},
   "source": [
    "***Predictions with boxes***"
   ]
  },
  {
   "cell_type": "code",
   "execution_count": 179,
   "metadata": {
    "collapsed": false
   },
   "outputs": [
    {
     "name": "stdout",
     "output_type": "stream",
     "text": [
      "Model 1. Predictions: \n",
      "[[10 10 10 10  8]\n",
      " [10 10  3  6  3]\n",
      " [10 10 10  5  7]\n",
      " [10 10 10 10  6]\n",
      " [10 10  6  5  1]\n",
      " [10 10 10 10  8]\n",
      " [10 10 10  5  9]\n",
      " [10 10  1  0  1]\n",
      " [10  1  0  0  0]\n",
      " [10  1  9  1  3]\n",
      " [10 10 10 10  4]\n",
      " [10 10 10 10  1]\n",
      " [10 10  3  4  4]\n",
      " [10 10 10  4  4]\n",
      " [10 10  1  1  5]\n",
      " [10 10 10  7  4]\n",
      " [10  2  3  0  8]\n",
      " [10 10  6  4  8]\n",
      " [10 10 10 10  2]\n",
      " [10 10 10  3  0]\n",
      " [10 10 10 10  3]\n",
      " [10 10  4  4  3]\n",
      " [10  2  0  1  0]\n",
      " [10 10  7  8  3]\n",
      " [10  1  0  6  1]\n",
      " [10 10 10 10  7]\n",
      " [10 10 10  1  0]\n",
      " [10 10 10 10  2]\n",
      " [10 10 10 10  9]\n",
      " [10 10 10 10  8]]\n"
     ]
    }
   ],
   "source": [
    "hide_code\n",
    "\n",
    "y_new_predict2 = cnn_model.predict(X_new2)\n",
    "\n",
    "y_predict2 = []\n",
    "for i in range(30):\n",
    "    for j in range(5):\n",
    "        y_predict2.append(np.argmax(y_new_predict2[j][i]))\n",
    "y_predict2 = np.array(y_predict2).reshape(30,5)\n",
    "print('Model 1. Predictions: ')\n",
    "print(y_predict2)"
   ]
  },
  {
   "cell_type": "code",
   "execution_count": 180,
   "metadata": {
    "collapsed": false
   },
   "outputs": [
    {
     "name": "stdout",
     "output_type": "stream",
     "text": [
      "Model 2. Predictions: \n",
      "[[10 10 10 10  8]\n",
      " [10 10  4  6  9]\n",
      " [10 10 10  5  4]\n",
      " [10 10 10 10  6]\n",
      " [10 10 10  6  1]\n",
      " [10 10 10 10  8]\n",
      " [10 10 10  5  9]\n",
      " [10 10  1  0  1]\n",
      " [10  1  0  0  0]\n",
      " [10  1  0  1  3]\n",
      " [10 10 10  2  1]\n",
      " [10 10 10 10  1]\n",
      " [10 10  3  4  4]\n",
      " [10  2  4  4  0]\n",
      " [10 10 10  4  5]\n",
      " [10 10 10  7  7]\n",
      " [10  3  8  0  0]\n",
      " [10 10  4  4  8]\n",
      " [10 10 10 10  2]\n",
      " [10 10 10  3  0]\n",
      " [10 10 10 10  3]\n",
      " [10 10 10  4  3]\n",
      " [10  2  0  1  0]\n",
      " [10 10  7  6  3]\n",
      " [10  1  0  9  1]\n",
      " [10 10 10 10  7]\n",
      " [10 10 10  1  0]\n",
      " [10 10 10 10  2]\n",
      " [10 10 10  1  3]\n",
      " [10 10 10 10  8]]\n"
     ]
    }
   ],
   "source": [
    "hide_code\n",
    "\n",
    "y_new_predict2_2 = cnn_model2.predict(X_new2)\n",
    "\n",
    "y_predict2_2 = []\n",
    "for i in range(30):\n",
    "    for j in range(5):\n",
    "        y_predict2_2.append(np.argmax(y_new_predict2_2[j][i]))\n",
    "y_predict2_2 = np.array(y_predict2_2).reshape(30,5)\n",
    "print('Model 2. Predictions: ')\n",
    "print(y_predict2_2)"
   ]
  },
  {
   "cell_type": "code",
   "execution_count": 181,
   "metadata": {
    "collapsed": false
   },
   "outputs": [
    {
     "name": "stdout",
     "output_type": "stream",
     "text": [
      "Model 1. CNN Scores: \n",
      " [1.7825963497161865, 0.0022674452047795057, 0.36118361353874207, 0.58526009321212769, 0.52336299419403076, 0.31052213907241821, 1.0, 0.93333333730697632, 0.83333331346511841, 0.86666667461395264, 0.89999997615814209]\n",
      "Model 1. First digit. CNN Accuracy: 100.00%\n",
      "Model 1. Second digit. CNN Accuracy: 93.33%\n",
      "Model 1. Third digit. CNN Accuracy: 83.33%\n",
      "Model 1. Fourth digit. CNN Accuracy: 86.67%\n",
      "Model 1. Fifth digit. CNN Accuracy: 90.00%\n"
     ]
    }
   ],
   "source": [
    "hide_code\n",
    "\n",
    "cnn_scores2 = cnn_model.evaluate(X_new2, y_new_cat_list, verbose=0)\n",
    "\n",
    "print(\"Model 1. CNN Scores: \\n\" , (cnn_scores2))\n",
    "print(\"Model 1. First digit. CNN Accuracy: %.2f%%\" % (cnn_scores2[6]*100))\n",
    "print(\"Model 1. Second digit. CNN Accuracy: %.2f%%\" % (cnn_scores2[7]*100))\n",
    "print(\"Model 1. Third digit. CNN Accuracy: %.2f%%\" % (cnn_scores2[8]*100))\n",
    "print(\"Model 1. Fourth digit. CNN Accuracy: %.2f%%\" % (cnn_scores2[9]*100))\n",
    "print(\"Model 1. Fifth digit. CNN Accuracy: %.2f%%\" % (cnn_scores2[10]*100))"
   ]
  },
  {
   "cell_type": "code",
   "execution_count": 182,
   "metadata": {
    "collapsed": false
   },
   "outputs": [
    {
     "name": "stdout",
     "output_type": "stream",
     "text": [
      "Model 2. CNN Scores: \n",
      " [4.3580031394958496, 0.0014313335996121168, 0.30986613035202026, 0.84397536516189575, 1.9842760562896729, 1.2184544801712036, 1.0, 0.96666663885116577, 0.86666667461395264, 0.73333334922790527, 0.80000001192092896]\n",
      "Model 2. First digit. CNN Accuracy: 100.00%\n",
      "Model 2. Second digit. CNN Accuracy: 96.67%\n",
      "Model 2. Third digit. CNN Accuracy: 86.67%\n",
      "Model 2. Fourth digit. CNN Accuracy: 73.33%\n",
      "Model 2. Fifth digit. CNN Accuracy: 80.00%\n"
     ]
    }
   ],
   "source": [
    "hide_code\n",
    "\n",
    "cnn_scores2_2 = cnn_model2.evaluate(X_new2, y_new_cat_list, verbose=0)\n",
    "\n",
    "print(\"Model 2. CNN Scores: \\n\" , (cnn_scores2_2))\n",
    "print(\"Model 2. First digit. CNN Accuracy: %.2f%%\" % (cnn_scores2_2[6]*100))\n",
    "print(\"Model 2. Second digit. CNN Accuracy: %.2f%%\" % (cnn_scores2_2[7]*100))\n",
    "print(\"Model 2. Third digit. CNN Accuracy: %.2f%%\" % (cnn_scores2_2[8]*100))\n",
    "print(\"Model 2. Fourth digit. CNN Accuracy: %.2f%%\" % (cnn_scores2_2[9]*100))\n",
    "print(\"Model 2. Fifth digit. CNN Accuracy: %.2f%%\" % (cnn_scores2_2[10]*100))"
   ]
  },
  {
   "cell_type": "code",
   "execution_count": 183,
   "metadata": {
    "collapsed": false
   },
   "outputs": [
    {
     "name": "stdout",
     "output_type": "stream",
     "text": [
      "Model 1. Average CNN Accuracy: 90.67%\n"
     ]
    }
   ],
   "source": [
    "hide_code\n",
    "\n",
    "avg_accuracy2 = sum([cnn_scores2[i] for i in range(6, 11)])/5\n",
    "\n",
    "print(\"Model 1. Average CNN Accuracy: %.2f%%\" % (avg_accuracy2*100))"
   ]
  },
  {
   "cell_type": "code",
   "execution_count": 184,
   "metadata": {
    "collapsed": false
   },
   "outputs": [
    {
     "name": "stdout",
     "output_type": "stream",
     "text": [
      "Model 2. Average CNN Accuracy: 87.33%\n"
     ]
    }
   ],
   "source": [
    "hide_code\n",
    "\n",
    "avg_accuracy2_2 = sum([cnn_scores2_2[i] for i in range(6, 11)])/5\n",
    "\n",
    "print(\"Model 2. Average CNN Accuracy: %.2f%%\" % (avg_accuracy2_2*100))"
   ]
  },
  {
   "cell_type": "markdown",
   "metadata": {},
   "source": [
    "***Individual predictions for images. OpenCV***"
   ]
  },
  {
   "cell_type": "code",
   "execution_count": 122,
   "metadata": {
    "collapsed": false
   },
   "outputs": [
    {
     "name": "stdout",
     "output_type": "stream",
     "text": [
      "File:  10.png\n",
      "Label:  [10 10  5  6  3]\n",
      "Categorical label: \n",
      " [[ 0.  0.  0.  0.  0.  0.  0.  0.  0.  0.  1.]\n",
      " [ 0.  0.  0.  0.  0.  0.  0.  0.  0.  0.  1.]\n",
      " [ 0.  0.  0.  0.  0.  1.  0.  0.  0.  0.  0.]\n",
      " [ 0.  0.  0.  0.  0.  0.  1.  0.  0.  0.  0.]\n",
      " [ 0.  0.  0.  1.  0.  0.  0.  0.  0.  0.  0.]]\n"
     ]
    },
    {
     "data": {
      "image/png": "[encoded data removed]",
      "text/plain": [
       "<matplotlib.figure.Figure at 0x129e0f9b0>"
      ]
     },
     "metadata": {},
     "output_type": "display_data"
    }
   ],
   "source": [
    "hide_code\n",
    "\n",
    "image_gray = get_image3('new', '10.png', new_boxes)[0]\n",
    "print ('File: ', new_filenames[1])\n",
    "print ('Label: ', new_labels[1])\n",
    "print ('Categorical label: \\n', new_labels_cat[1])\n",
    "plt.imshow(image_gray, cmap=plt.cm.Blues);"
   ]
  },
  {
   "cell_type": "code",
   "execution_count": 128,
   "metadata": {
    "collapsed": false
   },
   "outputs": [
    {
     "name": "stdout",
     "output_type": "stream",
     "text": [
      "Predicted label:\n",
      "[10, 10, 1, 6, 3]\n"
     ]
    }
   ],
   "source": [
    "hide_code\n",
    "\n",
    "image_for_predict = image_gray.reshape(1, 32, 32, 1)\n",
    "y_image_predict = cnn_model.predict(image_for_predict)\n",
    "y_predict_example = [np.argmax(y) for y in y_image_predict]\n",
    "\n",
    "print('Predicted label:')\n",
    "print(y_predict_example)"
   ]
  },
  {
   "cell_type": "markdown",
   "metadata": {},
   "source": [
    "***Predictions with boxes. OpenCV***"
   ]
  },
  {
   "cell_type": "code",
   "execution_count": 53,
   "metadata": {
    "collapsed": false
   },
   "outputs": [],
   "source": [
    "hide_code\n",
    "\n",
    "new_images2_4 = np.array([get_image4('new', x) for x in new_filenames])\n",
    "\n",
    "X_new4 = new_images2_4.reshape(30, 32, 32, 1)"
   ]
  },
  {
   "cell_type": "code",
   "execution_count": 61,
   "metadata": {
    "collapsed": false
   },
   "outputs": [
    {
     "name": "stdout",
     "output_type": "stream",
     "text": [
      "File:  30.png\n",
      "Label:  [10 10  7  8  3]\n",
      "Categorical label: \n",
      " [[ 0.  0.  0.  0.  0.  0.  0.  0.  0.  0.  1.]\n",
      " [ 0.  0.  0.  0.  0.  0.  0.  0.  0.  0.  1.]\n",
      " [ 0.  0.  0.  0.  0.  0.  0.  1.  0.  0.  0.]\n",
      " [ 0.  0.  0.  0.  0.  0.  0.  0.  1.  0.  0.]\n",
      " [ 0.  0.  0.  1.  0.  0.  0.  0.  0.  0.  0.]]\n"
     ]
    },
    {
     "data": {
      "image/png": "[encoded data removed]",
      "text/plain": [
       "<matplotlib.figure.Figure at 0x123af6470>"
      ]
     },
     "metadata": {},
     "output_type": "display_data"
    }
   ],
   "source": [
    "image_gray2 = new_images2_4[23]\n",
    "print ('File: ', new_filenames[23])\n",
    "print ('Label: ', new_labels[23])\n",
    "print ('Categorical label: \\n', new_labels_cat[23])\n",
    "plt.imshow(image_gray2, cmap=plt.cm.Blues);"
   ]
  },
  {
   "cell_type": "code",
   "execution_count": 142,
   "metadata": {
    "collapsed": false
   },
   "outputs": [
    {
     "name": "stdout",
     "output_type": "stream",
     "text": [
      "Model 1. Predictions: \n",
      "[[10 10 10 10  8]\n",
      " [10 10  2  2  9]\n",
      " [10 10 10  5  7]\n",
      " [10 10 10 10  6]\n",
      " [10 10  8  5  1]\n",
      " [10 10 10  1  3]\n",
      " [10 10 10  5  9]\n",
      " [10 10  1  0  1]\n",
      " [10  1  0  0  0]\n",
      " [10 10  1  6  6]\n",
      " [10 10 10 10  1]\n",
      " [10 10 10 10  8]\n",
      " [10  3  2  2  1]\n",
      " [10 10 10  4  4]\n",
      " [10  1  1  5  0]\n",
      " [10 10 10  7  4]\n",
      " [10 10 10  1  4]\n",
      " [10 10  6  4  3]\n",
      " [10 10 10  2  2]\n",
      " [10 10  1  6  0]\n",
      " [10 10 10  3  1]\n",
      " [10 10  4  4  3]\n",
      " [10  2  0  1  8]\n",
      " [10  1  7  6  4]\n",
      " [10  1  0  0  1]\n",
      " [10 10 10  1  1]\n",
      " [10 10 10  1  0]\n",
      " [10 10 10 10  2]\n",
      " [10 10 10  1  9]\n",
      " [10 10 10 10  8]]\n"
     ]
    }
   ],
   "source": [
    "hide_code\n",
    "\n",
    "y_new_predict4 = cnn_model.predict(X_new4)\n",
    "y_predict4 = []\n",
    "for i in range(30):\n",
    "    for j in range(5):\n",
    "        y_predict4.append(np.argmax(y_new_predict4[j][i]))\n",
    "y_predict4 = np.array(y_predict4).reshape(30,5)\n",
    "print('Model 1. Predictions: ')\n",
    "print(y_predict4)"
   ]
  },
  {
   "cell_type": "code",
   "execution_count": 185,
   "metadata": {
    "collapsed": false
   },
   "outputs": [
    {
     "name": "stdout",
     "output_type": "stream",
     "text": [
      "Model 2. Predictions: \n",
      "[[10 10 10 10  8]\n",
      " [10 10 10  5  2]\n",
      " [10 10 10  5  3]\n",
      " [10 10 10 10  6]\n",
      " [10 10  6  1  1]\n",
      " [10 10  1  1  3]\n",
      " [10 10 10  5  9]\n",
      " [10 10  1  1  1]\n",
      " [10  1  0  0  7]\n",
      " [10 10  1  2  8]\n",
      " [10 10 10 10  1]\n",
      " [10 10 10  1  6]\n",
      " [10 10  4  0  1]\n",
      " [10  2  4  4  4]\n",
      " [10 10  1  5  1]\n",
      " [10 10 10  7  7]\n",
      " [10 10 10  1  3]\n",
      " [10 10  2  9  6]\n",
      " [10 10 10 10  2]\n",
      " [10 10  1  6  0]\n",
      " [10 10 10 10  1]\n",
      " [10 10 10  4  3]\n",
      " [10  2  0  1  0]\n",
      " [10 10  1  9  9]\n",
      " [10  1  0  0  1]\n",
      " [10 10 10  1  7]\n",
      " [10 10 10  1  0]\n",
      " [10 10 10 10  2]\n",
      " [10 10 10  7  9]\n",
      " [10 10 10  1  8]]\n"
     ]
    }
   ],
   "source": [
    "hide_code\n",
    "\n",
    "y_new_predict4_2 = cnn_model2.predict(X_new4)\n",
    "y_predict4_2 = []\n",
    "for i in range(30):\n",
    "    for j in range(5):\n",
    "        y_predict4_2.append(np.argmax(y_new_predict4_2[j][i]))\n",
    "y_predict4_2 = np.array(y_predict4_2).reshape(30,5)\n",
    "print('Model 2. Predictions: ')\n",
    "print(y_predict4_2)"
   ]
  },
  {
   "cell_type": "code",
   "execution_count": 144,
   "metadata": {
    "collapsed": false
   },
   "outputs": [
    {
     "name": "stdout",
     "output_type": "stream",
     "text": [
      "Model 1. CNN Scores: \n",
      " [23.98097038269043, 1.1920928955078125e-07, 3.0366189479827881, 4.8354287147521973, 8.0498743057250977, 8.0590476989746094, 1.0, 0.80000001192092896, 0.69999998807907104, 0.5, 0.5]\n",
      "Model 1. First digit. CNN Accuracy: 100.00%\n",
      "Model 1. Second digit. CNN Accuracy: 80.00%\n",
      "Model 1. Third digit. CNN Accuracy: 70.00%\n",
      "Model 1. Fourth digit. CNN Accuracy: 50.00%\n",
      "Model 1. Fifth digit. CNN Accuracy: 50.00%\n"
     ]
    }
   ],
   "source": [
    "hide_code\n",
    "\n",
    "cnn_scores4 = cnn_model.evaluate(X_new4, y_new_cat_list, verbose=0)\n",
    "\n",
    "print(\"Model 1. CNN Scores: \\n\" , (cnn_scores4))\n",
    "print(\"Model 1. First digit. CNN Accuracy: %.2f%%\" % (cnn_scores4[6]*100))\n",
    "print(\"Model 1. Second digit. CNN Accuracy: %.2f%%\" % (cnn_scores4[7]*100))\n",
    "print(\"Model 1. Third digit. CNN Accuracy: %.2f%%\" % (cnn_scores4[8]*100))\n",
    "print(\"Model 1. Fourth digit. CNN Accuracy: %.2f%%\" % (cnn_scores4[9]*100))\n",
    "print(\"Model 1. Fifth digit. CNN Accuracy: %.2f%%\" % (cnn_scores4[10]*100))"
   ]
  },
  {
   "cell_type": "code",
   "execution_count": 145,
   "metadata": {
    "collapsed": false
   },
   "outputs": [
    {
     "name": "stdout",
     "output_type": "stream",
     "text": [
      "Model 2. CNN Scores: \n",
      " [22.02806282043457, 1.1920928955078125e-07, 1.0745396614074707, 4.8354287147521973, 8.5963172912597656, 7.5217776298522949, 1.0, 0.93333333730697632, 0.69999998807907104, 0.46666666865348816, 0.53333336114883423]\n",
      "Model 2. First digit. CNN Accuracy: 100.00%\n",
      "Model 2. Second digit. CNN Accuracy: 93.33%\n",
      "Model 2. Third digit. CNN Accuracy: 70.00%\n",
      "Model 2. Fourth digit. CNN Accuracy: 46.67%\n",
      "Model 2. Fifth digit. CNN Accuracy: 53.33%\n"
     ]
    }
   ],
   "source": [
    "hide_code\n",
    "\n",
    "cnn_scores4_2 = cnn_model2.evaluate(X_new4, y_new_cat_list, verbose=0)\n",
    "\n",
    "print(\"Model 2. CNN Scores: \\n\" , (cnn_scores4_2))\n",
    "print(\"Model 2. First digit. CNN Accuracy: %.2f%%\" % (cnn_scores4_2[6]*100))\n",
    "print(\"Model 2. Second digit. CNN Accuracy: %.2f%%\" % (cnn_scores4_2[7]*100))\n",
    "print(\"Model 2. Third digit. CNN Accuracy: %.2f%%\" % (cnn_scores4_2[8]*100))\n",
    "print(\"Model 2. Fourth digit. CNN Accuracy: %.2f%%\" % (cnn_scores4_2[9]*100))\n",
    "print(\"Model 2. Fifth digit. CNN Accuracy: %.2f%%\" % (cnn_scores4_2[10]*100))"
   ]
  },
  {
   "cell_type": "code",
   "execution_count": 146,
   "metadata": {
    "collapsed": false
   },
   "outputs": [
    {
     "name": "stdout",
     "output_type": "stream",
     "text": [
      "Model 1. Average CNN Accuracy: 70.00%\n"
     ]
    }
   ],
   "source": [
    "hide_code\n",
    "\n",
    "avg_accuracy4 = sum([cnn_scores4[i] for i in range(6, 11)])/5\n",
    "\n",
    "print(\"Model 1. Average CNN Accuracy: %.2f%%\" % (avg_accuracy4*100))"
   ]
  },
  {
   "cell_type": "code",
   "execution_count": 147,
   "metadata": {
    "collapsed": false
   },
   "outputs": [
    {
     "name": "stdout",
     "output_type": "stream",
     "text": [
      "Model 2. Average CNN Accuracy: 72.67%\n"
     ]
    }
   ],
   "source": [
    "hide_code\n",
    "\n",
    "avg_accuracy4_2 = sum([cnn_scores4_2[i] for i in range(6, 11)])/5\n",
    "\n",
    "print(\"Model 2. Average CNN Accuracy: %.2f%%\" % (avg_accuracy4_2*100))"
   ]
  },
  {
   "cell_type": "markdown",
   "metadata": {},
   "source": [
    "---\n",
    "### Question 10\n",
    "_How well does your model localize numbers on the testing set from the realistic dataset? Do your classification results change at all with localization included?_\n",
    "### Answer 10"
   ]
  },
  {
   "cell_type": "markdown",
   "metadata": {
    "collapsed": true
   },
   "source": [
    "---\n",
    "### Question 11\n",
    "_Test the localization function on the images you captured in **Step 3**. Does the model accurately calculate a bounding box for the numbers in the images you found? If you did not use a graphical interface, you may need to investigate the bounding boxes by hand._ Provide an example of the localization created on a captured image.\n",
    "\n",
    "### Answer 11"
   ]
  },
  {
   "cell_type": "markdown",
   "metadata": {
    "collapsed": true
   },
   "source": [
    "---\n",
    "\n",
    "---\n",
    "## $\\mathfrak {\\color{#348ABD} {Optional \\ Step \\ 5: \\ Build \\ an \\ Application \\ or \\ Program \\ for \\ a \\ Model}}$\n",
    "Take your project one step further. If you're interested, look to build an Android application or even a more robust Python program that can interface with input images and display the classified numbers and even the bounding boxes. You can for example try to build an augmented reality app by overlaying your answer on the image like the [Word Lens](https://en.wikipedia.org/wiki/Word_Lens) app does.\n",
    "\n",
    "Loading a TensorFlow model into a camera app on Android is demonstrated in the [TensorFlow Android demo app](https://github.com/tensorflow/tensorflow/tree/master/tensorflow/examples/android), which you can simply modify.\n",
    "\n",
    "If you decide to explore this optional route, be sure to document your interface and implementation, along with significant results you find. You can see the additional rubric items that you could be evaluated on by [following this link](https://review.udacity.com/#!/rubrics/413/view)."
   ]
  },
  {
   "cell_type": "code",
   "execution_count": null,
   "metadata": {
    "collapsed": true
   },
   "outputs": [],
   "source": [
    "hide_code\n",
    "#"
   ]
  },
  {
   "cell_type": "code",
   "execution_count": null,
   "metadata": {
    "collapsed": true
   },
   "outputs": [],
   "source": [
    "hide_code\n",
    "#"
   ]
  },
  {
   "cell_type": "code",
   "execution_count": null,
   "metadata": {
    "collapsed": true
   },
   "outputs": [],
   "source": [
    "hide_code\n",
    "#"
   ]
  },
  {
   "cell_type": "markdown",
   "metadata": {},
   "source": [
    "### Documentation\n",
    "Provide additional documentation sufficient for detailing the implementation of the Android application or Python program for visualizing the classification of numbers in images. It should be clear how the program or application works. Demonstrations should be provided. "
   ]
  },
  {
   "cell_type": "code",
   "execution_count": null,
   "metadata": {
    "collapsed": true
   },
   "outputs": [],
   "source": [
    "hide_code\n",
    "#"
   ]
  }
 ],
 "metadata": {
  "anaconda-cloud": {},
  "hide_input": false,
  "kernelspec": {
   "display_name": "Python 3",
   "language": "python",
   "name": "python3"
  },
  "language_info": {
   "codemirror_mode": {
    "name": "ipython",
    "version": 3
   },
   "file_extension": ".py",
   "mimetype": "text/x-python",
   "name": "python",
   "nbconvert_exporter": "python",
   "pygments_lexer": "ipython3",
   "version": "3.6.1"
  },
  "latex_envs": {
   "bibliofile": "biblio.bib",
   "cite_by": "apalike",
   "current_citInitial": 1,
   "eqLabelWithNumbers": true,
   "eqNumInitial": 0
  }
 },
 "nbformat": 4,
 "nbformat_minor": 2
}
