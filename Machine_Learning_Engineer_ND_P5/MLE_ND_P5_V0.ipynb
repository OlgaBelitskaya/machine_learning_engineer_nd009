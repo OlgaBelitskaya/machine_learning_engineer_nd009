{
 "cells": [
  {
   "cell_type": "markdown",
   "metadata": {},
   "source": [
    "# &#x1F4D1; &nbsp;  $\\mathfrak {\\color{#348ABD} {P5: \\ Build \\ a \\ Digit \\ Recognition \\ Program}}$"
   ]
  },
  {
   "cell_type": "markdown",
   "metadata": {},
   "source": [
    "----\n",
    "## $\\mathfrak {\\color{#348ABD} {Code \\ Library \\ and \\ Links}}$"
   ]
  },
  {
   "cell_type": "markdown",
   "metadata": {},
   "source": [
    "Multi-dimensional image processing https://docs.scipy.org/doc/scipy/reference/ndimage.html\n",
    "\n",
    "Keras: Deep Learning library for Theano and TensorFlow https://keras.io/\n",
    " \n",
    "Deep MNIST for Experts https://www.tensorflow.org/get_started/mnist/pros\n",
    "\n",
    "Tensorflow Deep MNIST Advanced Tutorial http://docs.seldon.io/tensorflow-deep-mnist-example.html\n",
    "\n",
    "Handwritten Digit Recognition using Convolutional Neural Networks in Python with Keras\n",
    "\n",
    "http://machinelearningmastery.com/handwritten-digit-recognition-using-convolutional-neural-networks-python-keras/"
   ]
  },
  {
   "cell_type": "code",
   "execution_count": 3,
   "metadata": {},
   "outputs": [
    {
     "data": {
      "text/html": [
       "<script>code_show = true; \n",
       "function code_display() {\n",
       "    if (code_show) {\n",
       "        $('div.input').each(function(id) {\n",
       "            if (id == 0 || $(this).html().indexOf('hide_code') > -1) {$(this).hide();}\n",
       "        });\n",
       "        $('div.output_prompt').css('opacity', 0);\n",
       "    } else {\n",
       "        $('div.input').each(function(id) {$(this).show();});\n",
       "        $('div.output_prompt').css('opacity', 1);\n",
       "    }\n",
       "    code_show = !code_show;\n",
       "} \n",
       "$(document).ready(code_display);</script>\n",
       "<form action=\"javascript: code_display()\"><input style=\"color: #348ABD; background: ghostwhite; opacity: 0.9; \" type=\"submit\" value=\"Click to display or hide code\"></form>"
      ],
      "text/plain": [
       "<IPython.core.display.HTML object>"
      ]
     },
     "execution_count": 3,
     "metadata": {},
     "output_type": "execute_result"
    }
   ],
   "source": [
    "from IPython.core.display import HTML\n",
    "hide_code = ''\n",
    "HTML('''<script>code_show = true; \n",
    "function code_display() {\n",
    "    if (code_show) {\n",
    "        $('div.input').each(function(id) {\n",
    "            if (id == 0 || $(this).html().indexOf('hide_code') > -1) {$(this).hide();}\n",
    "        });\n",
    "        $('div.output_prompt').css('opacity', 0);\n",
    "    } else {\n",
    "        $('div.input').each(function(id) {$(this).show();});\n",
    "        $('div.output_prompt').css('opacity', 1);\n",
    "    }\n",
    "    code_show = !code_show;\n",
    "} \n",
    "$(document).ready(code_display);</script>\n",
    "<form action=\"javascript: code_display()\"><input style=\"color: #348ABD; background: ghostwhite; opacity: 0.9; \" \\\n",
    "type=\"submit\" value=\"Click to display or hide code\"></form>''')"
   ]
  },
  {
   "cell_type": "code",
   "execution_count": 4,
   "metadata": {
    "collapsed": true
   },
   "outputs": [],
   "source": [
    "hide_code\n",
    "\n",
    "import numpy as np\n",
    "import scipy as sp\n",
    "import scipy.ndimage\n",
    "from scipy.special import expit\n",
    "from time import time\n",
    "\n",
    "import os\n",
    "import sys\n",
    "import h5py\n",
    "import tarfile\n",
    "\n",
    "from six.moves.urllib.request import urlretrieve\n",
    "from six.moves import cPickle as pickle\n",
    "\n",
    "from IPython.display import display, Image, IFrame\n",
    "import matplotlib.pylab as plt\n",
    "import matplotlib.cm as cm\n",
    "from matplotlib import offsetbox\n",
    "%matplotlib inline"
   ]
  },
  {
   "cell_type": "code",
   "execution_count": 5,
   "metadata": {
    "collapsed": true
   },
   "outputs": [],
   "source": [
    "hide_code\n",
    "\n",
    "import tensorflow as tf\n",
    "import tensorflow.examples.tutorials.mnist as mnist"
   ]
  },
  {
   "cell_type": "code",
   "execution_count": 6,
   "metadata": {
    "collapsed": true
   },
   "outputs": [],
   "source": [
    "hide_code\n",
    "\n",
    "from sklearn.neural_network import MLPClassifier, BernoulliRBM\n",
    "from sklearn import linear_model, datasets, metrics\n",
    "from sklearn.pipeline import Pipeline\n",
    "from sklearn import manifold, decomposition, ensemble\n",
    "from sklearn import discriminant_analysis, random_projection\n",
    "from sklearn.model_selection import train_test_split"
   ]
  },
  {
   "cell_type": "code",
   "execution_count": 7,
   "metadata": {},
   "outputs": [
    {
     "name": "stderr",
     "output_type": "stream",
     "text": [
      "Using TensorFlow backend.\n"
     ]
    }
   ],
   "source": [
    "hide_code\n",
    "\n",
    "import keras as ks\n",
    "from keras.models import Sequential, load_model\n",
    "from keras.preprocessing import sequence\n",
    "from keras.optimizers import SGD, RMSprop\n",
    "from keras.layers import Dense, Dropout, LSTM\n",
    "from keras.layers import Activation, Flatten\n",
    "from keras.layers import Conv1D, MaxPooling1D, Conv2D, MaxPooling2D\n",
    "from keras.layers.embeddings import Embedding"
   ]
  },
  {
   "cell_type": "markdown",
   "metadata": {},
   "source": [
    "----\n",
    "## $\\mathfrak {\\color{#348ABD} {Experimental \\ Datasets}}$"
   ]
  },
  {
   "cell_type": "markdown",
   "metadata": {},
   "source": [
    "#### Dataset #1. Scikit-learn. Digits.\n",
    "\n",
    "http://scikit-learn.org/stable/modules/generated/sklearn.datasets.load_digits.html"
   ]
  },
  {
   "cell_type": "code",
   "execution_count": 8,
   "metadata": {},
   "outputs": [
    {
     "name": "stdout",
     "output_type": "stream",
     "text": [
      "The second dataset\n",
      "Shape of the features - (1797, 64); shape of the target - (1797,)\n"
     ]
    }
   ],
   "source": [
    "hide_code\n",
    "\n",
    "digits = datasets.load_digits(n_class=10)\n",
    "X, y = digits.data, digits.target\n",
    "print('The second dataset')\n",
    "print(\"Shape of the features - {}; shape of the target - {}\".format(X.shape, y.shape))"
   ]
  },
  {
   "cell_type": "code",
   "execution_count": 9,
   "metadata": {},
   "outputs": [
    {
     "name": "stdout",
     "output_type": "stream",
     "text": [
      "One-hot encoding for y:\n",
      " [[ 1.  0.  0. ...,  0.  0.  0.]\n",
      " [ 0.  1.  0. ...,  0.  0.  0.]\n",
      " [ 0.  0.  1. ...,  0.  0.  0.]\n",
      " ..., \n",
      " [ 0.  0.  0. ...,  0.  1.  0.]\n",
      " [ 0.  0.  0. ...,  0.  0.  1.]\n",
      " [ 0.  0.  0. ...,  0.  1.  0.]]\n"
     ]
    }
   ],
   "source": [
    "hide_code\n",
    "\n",
    "y_cat = ks.utils.to_categorical(y, num_classes=10)\n",
    "print('One-hot encoding for y:\\n', y_cat)"
   ]
  },
  {
   "cell_type": "code",
   "execution_count": 10,
   "metadata": {},
   "outputs": [
    {
     "data": {
      "image/png": "[encoded data removed]",
      "text/plain": [
       "<matplotlib.figure.Figure at 0x1231c9e10>"
      ]
     },
     "metadata": {},
     "output_type": "display_data"
    }
   ],
   "source": [
    "hide_code\n",
    "\n",
    "img = np.zeros((100, 100))\n",
    "for i in range(10):\n",
    "    ix = 10 * i + 1\n",
    "    for j in range(10):\n",
    "        iy = 10 * j + 1\n",
    "        img[ix:ix + 8, iy:iy + 8] = X[i * 10 + j].reshape((8, 8))\n",
    "\n",
    "plt.figure(figsize=(6,6))\n",
    "plt.imshow(img, cmap=plt.cm.Blues)\n",
    "\n",
    "plt.xticks([])\n",
    "plt.yticks([])\n",
    "plt.title('Examples of the 64-dimensional digits');"
   ]
  },
  {
   "cell_type": "code",
   "execution_count": 11,
   "metadata": {
    "collapsed": true
   },
   "outputs": [],
   "source": [
    "hide_code\n",
    "# http://scikit-learn.org/stable/auto_examples/manifold/\n",
    "# plot_lle_digits.html#sphx-glr-auto-examples-manifold-plot-lle-digits-py\n",
    "\n",
    "def plot_embedding(X, title=None):\n",
    "    x_min, x_max = np.min(X, 0), np.max(X, 0)\n",
    "    X = (X - x_min) / (x_max - x_min)\n",
    "\n",
    "    plt.figure(figsize=(15,10))\n",
    "    ax = plt.subplot(111)\n",
    "    for i in range(X.shape[0]):\n",
    "        plt.text(X[i, 0], X[i, 1], str(digits.target[i]),\n",
    "                 color=plt.cm.Set1(y[i] / 10.),\n",
    "                 fontdict={'weight': 'bold', 'size': 9})\n",
    "\n",
    "    if hasattr(offsetbox, 'AnnotationBbox'):\n",
    "        # only print thumbnails with matplotlib > 1.0\n",
    "        shown_images = np.array([[1., 1.]])  # just something big\n",
    "        for i in range(digits.data.shape[0]):\n",
    "            dist = np.sum((X[i] - shown_images) ** 2, 1)\n",
    "            if np.min(dist) < 4e-3:\n",
    "                # don't show points that are too close\n",
    "                continue\n",
    "            shown_images = np.r_[shown_images, [X[i]]]\n",
    "            imagebox = offsetbox.AnnotationBbox(\n",
    "                offsetbox.OffsetImage(digits.images[i], cmap=plt.cm.gray_r),\n",
    "                X[i])\n",
    "            ax.add_artist(imagebox)\n",
    "    plt.xticks([]), plt.yticks([])\n",
    "    if title is not None:\n",
    "        plt.title(title)"
   ]
  },
  {
   "cell_type": "code",
   "execution_count": 12,
   "metadata": {},
   "outputs": [
    {
     "name": "stdout",
     "output_type": "stream",
     "text": [
      "Computing t-SNE embedding\n"
     ]
    },
    {
     "data": {
      "image/png": "[encoded data removed]",
      "text/plain": [
       "<matplotlib.figure.Figure at 0x122fd3588>"
      ]
     },
     "metadata": {},
     "output_type": "display_data"
    }
   ],
   "source": [
    "hide_code\n",
    "\n",
    "# t-SNE embedding of the digits dataset\n",
    "print(\"Computing t-SNE embedding\")\n",
    "tsne = manifold.TSNE(n_components=2, init='pca', random_state=0)\n",
    "t0 = time()\n",
    "X_tsne = tsne.fit_transform(X)\n",
    "\n",
    "plot_embedding(X_tsne, \"t-SNE embedding of the digits (time %.2fs)\" % (time() - t0))"
   ]
  },
  {
   "cell_type": "markdown",
   "metadata": {},
   "source": [
    "#### Dataset #2. MNIST \n",
    "\n",
    "https://www.tensorflow.org/api_docs/python/tf/contrib/keras/datasets/mnist/load_data"
   ]
  },
  {
   "cell_type": "code",
   "execution_count": 13,
   "metadata": {},
   "outputs": [
    {
     "name": "stdout",
     "output_type": "stream",
     "text": [
      "Extracting MNIST_data/train-images-idx3-ubyte.gz\n",
      "Extracting MNIST_data/train-labels-idx1-ubyte.gz\n",
      "Extracting MNIST_data/t10k-images-idx3-ubyte.gz\n",
      "Extracting MNIST_data/t10k-labels-idx1-ubyte.gz\n"
     ]
    }
   ],
   "source": [
    "hide_code\n",
    "\n",
    "mnist_data = mnist.input_data.read_data_sets(\"MNIST_data/\", one_hot=True)\n",
    "train_images = mnist_data.train.images\n",
    "train_labels = mnist_data.train.labels\n",
    "test_images = mnist_data.test.images\n",
    "test_labels = mnist_data.test.labels"
   ]
  },
  {
   "cell_type": "code",
   "execution_count": 14,
   "metadata": {},
   "outputs": [
    {
     "name": "stdout",
     "output_type": "stream",
     "text": [
      "The first dataset\n",
      "Shape of the train features - (55000, 784), shape of the train target - (55000, 10)\n",
      "Shape of the test features - (10000, 784), shape of the test target - (10000, 10)\n"
     ]
    }
   ],
   "source": [
    "hide_code\n",
    "\n",
    "print('The first dataset')\n",
    "print(\"Shape of the train features - {}, shape of the train target - {}\".\\\n",
    "      format(train_images.shape, train_labels.shape))\n",
    "print(\"Shape of the test features - {}, shape of the test target - {}\".\\\n",
    "      format(test_images.shape, test_labels.shape))"
   ]
  },
  {
   "cell_type": "code",
   "execution_count": 15,
   "metadata": {},
   "outputs": [
    {
     "name": "stdout",
     "output_type": "stream",
     "text": [
      "Reshape features and targets\n"
     ]
    }
   ],
   "source": [
    "hide_code\n",
    "\n",
    "print('Reshape features and targets')\n",
    "# reshape as [samples][width][height]\n",
    "train_images28 = np.array([np.reshape(x, (28,28)) for x in train_images])\n",
    "test_images28 = np.array([np.reshape(x, (28,28)) for x in test_images])\n",
    "# reshape as [samples][pixels][width][height]\n",
    "train_images_n28 = train_images.reshape(train_images.shape[0], 1, 28, 28).astype('float32')\n",
    "test_images_n28 = test_images.reshape(test_images.shape[0], 1, 28, 28).astype('float32')\n",
    "# reshape labels\n",
    "train_labels2 = np.array([ np.where(r==1)[0][0] for r in train_labels ])\n",
    "test_labels2 = np.array([ np.where(r==1)[0][0] for r in test_labels ])"
   ]
  },
  {
   "cell_type": "code",
   "execution_count": 16,
   "metadata": {},
   "outputs": [
    {
     "data": {
      "text/plain": [
       "(55000, 28, 28)"
      ]
     },
     "execution_count": 16,
     "metadata": {},
     "output_type": "execute_result"
    }
   ],
   "source": [
    "train_images28.shape"
   ]
  },
  {
   "cell_type": "code",
   "execution_count": 17,
   "metadata": {},
   "outputs": [
    {
     "data": {
      "text/plain": [
       "(55000, 1, 28, 28)"
      ]
     },
     "execution_count": 17,
     "metadata": {},
     "output_type": "execute_result"
    }
   ],
   "source": [
    "train_images_n28.shape"
   ]
  },
  {
   "cell_type": "code",
   "execution_count": 18,
   "metadata": {},
   "outputs": [
    {
     "data": {
      "text/plain": [
       "(55000, 10)"
      ]
     },
     "execution_count": 18,
     "metadata": {},
     "output_type": "execute_result"
    }
   ],
   "source": [
    "train_labels.shape"
   ]
  },
  {
   "cell_type": "code",
   "execution_count": 19,
   "metadata": {},
   "outputs": [
    {
     "data": {
      "text/plain": [
       "(55000,)"
      ]
     },
     "execution_count": 19,
     "metadata": {},
     "output_type": "execute_result"
    }
   ],
   "source": [
    "train_labels2.shape"
   ]
  },
  {
   "cell_type": "code",
   "execution_count": 20,
   "metadata": {},
   "outputs": [
    {
     "data": {
      "image/png": "[encoded data removed]",
      "text/plain": [
       "<matplotlib.figure.Figure at 0x129418cf8>"
      ]
     },
     "metadata": {},
     "output_type": "display_data"
    }
   ],
   "source": [
    "hide_code\n",
    "\n",
    "plt.figure(figsize=(1,1))\n",
    "plt.imshow(train_images28[2], cmap=plt.cm.Blues)\n",
    "plt.xticks([])\n",
    "plt.yticks([])\n",
    "plt.title('Example of the 784-dimensional digits');"
   ]
  },
  {
   "cell_type": "code",
   "execution_count": 21,
   "metadata": {},
   "outputs": [
    {
     "data": {
      "image/png": "[encoded data removed]",
      "text/plain": [
       "<matplotlib.figure.Figure at 0x129482668>"
      ]
     },
     "metadata": {},
     "output_type": "display_data"
    }
   ],
   "source": [
    "hide_code\n",
    "\n",
    "fig, ax = plt.subplots(figsize=(18, 2), nrows=1, ncols=15, sharex=True, sharey=True,)\n",
    "ax = ax.flatten()\n",
    "for i in range(15):\n",
    "    image = train_images28[i]\n",
    "    ax[i].imshow(image, cmap=plt.cm.Blues)\n",
    "\n",
    "ax[0].set_xticks([])\n",
    "ax[0].set_yticks([])\n",
    "plt.tight_layout()\n",
    "plt.gcf()\n",
    "ax[7].set_title('Examples of the 784-dimensional digits', fontsize=15);"
   ]
  },
  {
   "cell_type": "markdown",
   "metadata": {},
   "source": [
    "#### Dataset #3. Stanford.edu. Housenumbers\n",
    "\n",
    "http://ufldl.stanford.edu/housenumbers/"
   ]
  },
  {
   "cell_type": "code",
   "execution_count": 22,
   "metadata": {
    "collapsed": true
   },
   "outputs": [],
   "source": [
    "hide_code\n",
    "\n",
    "url = 'http://ufldl.stanford.edu/housenumbers/'\n",
    "last_percent_reported = None\n",
    "\n",
    "def download_progress_hook(count, blockSize, totalSize):\n",
    "    \"\"\"\n",
    "    A hook to report the progress of a download. This is mostly intended for users with\n",
    "    slow internet connections. Reports every 1% change in download progress.\n",
    "    \"\"\"\n",
    "    global last_percent_reported\n",
    "    percent = int(count * blockSize * 100 / totalSize)\n",
    "\n",
    "    if last_percent_reported != percent:\n",
    "        if percent % 5 == 0:\n",
    "            sys.stdout.write(\"%s%%\" % percent)\n",
    "            sys.stdout.flush()\n",
    "        else:\n",
    "            sys.stdout.write(\".\")\n",
    "            sys.stdout.flush()\n",
    "\n",
    "        last_percent_reported = percent\n",
    "               \n",
    "def maybe_download(filename, force=False):\n",
    "    \"\"\"\n",
    "    Download a file if not present, and make sure it's the right size.\n",
    "    \"\"\"\n",
    "    if force or not os.path.exists(filename):\n",
    "        print('Attempting to download:', filename) \n",
    "        filename, _ = urlretrieve(url + filename, filename, reporthook=download_progress_hook)\n",
    "        print('\\nDownload Complete!')\n",
    "    else:\n",
    "        print(filename, 'is already downloaded. Skipped.')\n",
    "    return filename\n",
    "\n",
    "def maybe_extract(file_, force=False):\n",
    "    filename = os.path.splitext(os.path.splitext(file_)[0])[0]  # remove .tar.gz\n",
    "    \n",
    "    if os.path.isdir(filename) and not force:\n",
    "        # You may override by setting force=True.\n",
    "        print('%s is already presented - Skipping extraction of %s.' % (filename, file_))\n",
    "    else:\n",
    "        print('Extracting %s file data. Please wait...' % file_)\n",
    "        tar = tarfile.open(file_)\n",
    "        sys.stdout.flush()\n",
    "        tar.extractall()\n",
    "        tar.close()\n",
    "        print('File %s is successfully extracted into %s directory.' % (file_, filename))        \n",
    "    \n",
    "    return filename"
   ]
  },
  {
   "cell_type": "code",
   "execution_count": 23,
   "metadata": {},
   "outputs": [
    {
     "name": "stdout",
     "output_type": "stream",
     "text": [
      "train.tar.gz is already downloaded. Skipped.\n",
      "test.tar.gz is already downloaded. Skipped.\n",
      "extra.tar.gz is already downloaded. Skipped.\n"
     ]
    }
   ],
   "source": [
    "hide_code\n",
    "\n",
    "train_filename = maybe_download('train.tar.gz')\n",
    "test_filename = maybe_download('test.tar.gz')\n",
    "extra_filename = maybe_download('extra.tar.gz')"
   ]
  },
  {
   "cell_type": "code",
   "execution_count": 24,
   "metadata": {},
   "outputs": [
    {
     "name": "stdout",
     "output_type": "stream",
     "text": [
      "train is already presented - Skipping extraction of train.tar.gz.\n",
      "test is already presented - Skipping extraction of test.tar.gz.\n",
      "extra is already presented - Skipping extraction of extra.tar.gz.\n"
     ]
    }
   ],
   "source": [
    "hide_code\n",
    "\n",
    "train_folder = maybe_extract(train_filename)\n",
    "test_folder = maybe_extract(test_filename)\n",
    "extra_folder = maybe_extract(extra_filename)"
   ]
  },
  {
   "cell_type": "code",
   "execution_count": null,
   "metadata": {
    "collapsed": true
   },
   "outputs": [],
   "source": []
  },
  {
   "cell_type": "code",
   "execution_count": null,
   "metadata": {
    "collapsed": true
   },
   "outputs": [],
   "source": []
  },
  {
   "cell_type": "code",
   "execution_count": null,
   "metadata": {
    "collapsed": true
   },
   "outputs": [],
   "source": []
  },
  {
   "cell_type": "code",
   "execution_count": null,
   "metadata": {
    "collapsed": true
   },
   "outputs": [],
   "source": []
  },
  {
   "cell_type": "markdown",
   "metadata": {},
   "source": [
    "#### Dataset #4. Newly-Captured Images"
   ]
  },
  {
   "cell_type": "markdown",
   "metadata": {},
   "source": [
    "#### Image examples: \n",
    "<div style=\"width: 960px; height: 50px; overflow:auto;\">\n",
    "    <img src=\"00.png\" width=\"30\" height=\"30\"/>\n",
    "\t<img src=\"01.png\" width=\"30\" height=\"30\"/>\n",
    "\t<img src=\"02.png\" width=\"30\" height=\"30\"/>\n",
    "\t<img src=\"03.png\" width=\"30\" height=\"30\"/>\n",
    "\t<img src=\"04.png\" width=\"30\" height=\"30\"/>\n",
    "\t<img src=\"05.png\" width=\"30\" height=\"30\"/>\n",
    "\t<img src=\"06.png\" width=\"30\" height=\"30\"/>\n",
    "\t<img src=\"07.png\" width=\"30\" height=\"30\"/>\n",
    "\t<img src=\"08.png\" width=\"30\" height=\"30\"/>\n",
    "\t<img src=\"09.png\" width=\"30\" height=\"30\"/>\n",
    "</div>"
   ]
  },
  {
   "cell_type": "code",
   "execution_count": null,
   "metadata": {
    "collapsed": true
   },
   "outputs": [],
   "source": []
  },
  {
   "cell_type": "code",
   "execution_count": null,
   "metadata": {
    "collapsed": true
   },
   "outputs": [],
   "source": []
  },
  {
   "cell_type": "markdown",
   "metadata": {
    "collapsed": true
   },
   "source": [
    "----\n",
    "## $\\mathfrak {\\color{#348ABD} {Step \\ 1:\\ Design \\ and \\ Test \\ a \\ Model \\ Architecture}}$\n",
    "In this project we will design and implement a deep learning model that learns to recognize sequences of digits. Also we will train the model using synthetic data generated by concatenating character images from [notMNIST](http://yaroslavvb.blogspot.com/2011/09/notmnist-dataset.html) or [MNIST](http://yann.lecun.com/exdb/mnist/). To produce a synthetic sequence of digits for testing, we can for example limit ourself to sequences up to five digits, and use five classifiers on top of the deep network. We would have to incorporate an additional ‘blank’ character to account for shorter number sequences.\n",
    "\n",
    "There are various aspects to consider when thinking about this problem:\n",
    "- The model can be derived from a deep neural net or a convolutional network.\n",
    "- We could experiment sharing or not the weights between the softmax classifiers.\n",
    "- We can also use a recurrent network in your deep neural net to replace the classification layers and directly emit the sequence of digits one-at-a-time.\n",
    "\n",
    "We can use ** Keras ** to implement your model. Read more at [keras.io](https://keras.io/).\n",
    "\n",
    "Here is an example of a [published baseline model on this problem](http://static.googleusercontent.com/media/research.google.com/en//pubs/archive/42241.pdf). ([video](https://www.youtube.com/watch?v=vGPI_JvLoN0)). You are not expected to model your architecture precisely using this model nor get the same performance levels, but this is more to show an exampe of an approach used to solve this particular problem. We encourage you to try out different architectures for yourself and see what works best for you. Here is a useful [forum post](https://discussions.udacity.com/t/goodfellow-et-al-2013-architecture/202363) discussing the architecture as described in the paper and here is [another one](https://discussions.udacity.com/t/what-loss-function-to-use-for-multi-digit-svhn-training/176897) discussing the loss function."
   ]
  },
  {
   "cell_type": "markdown",
   "metadata": {},
   "source": [
    "***Models N1 and N2 are classic examples, models N3, N4 and N5 are designed for this project.***"
   ]
  },
  {
   "cell_type": "markdown",
   "metadata": {},
   "source": [
    "#### Model #1. https://www.packtpub.com/big-data-and-business-intelligence/python-machine-learning"
   ]
  },
  {
   "cell_type": "code",
   "execution_count": 20,
   "metadata": {
    "collapsed": true
   },
   "outputs": [],
   "source": [
    "hide_code\n",
    "\n",
    "class NeuralNetMLP(object):\n",
    "    def __init__(self, n_output, n_features, n_hidden=30,\n",
    "                 l1=0.0, l2=0.0, epochs=500, eta=0.001, \n",
    "                 alpha=0.0, decrease_const=0.0, shuffle=True, \n",
    "                 minibatches=1, random_state=None):\n",
    "        np.random.seed(random_state)\n",
    "        self.n_output = n_output\n",
    "        self.n_features = n_features\n",
    "        self.n_hidden = n_hidden\n",
    "        self.w1, self.w2 = self._initialize_weights()\n",
    "        self.l1 = l1\n",
    "        self.l2 = l2\n",
    "        self.epochs = epochs\n",
    "        self.eta = eta\n",
    "        self.alpha = alpha\n",
    "        self.decrease_const = decrease_const\n",
    "        self.shuffle = shuffle\n",
    "        self.minibatches = minibatches\n",
    "\n",
    "    def _encode_labels(self, y, k):\n",
    "        onehot = np.zeros((k, y.shape[0]))\n",
    "        for idx, val in enumerate(y):\n",
    "            onehot[val, idx] = 1.0\n",
    "        return onehot\n",
    "\n",
    "    def _initialize_weights(self):\n",
    "        w1 = np.random.uniform(-1.0, 1.0, size=self.n_hidden*(self.n_features + 1))\n",
    "        w1 = w1.reshape(self.n_hidden, self.n_features + 1)\n",
    "        \n",
    "        w2 = np.random.uniform(-1.0, 1.0, size=self.n_output*(self.n_hidden + 1))\n",
    "        w2 = w2.reshape(self.n_output, self.n_hidden + 1)\n",
    "        \n",
    "        return w1, w2\n",
    "\n",
    "    def _sigmoid(self, z):\n",
    "        # expit is equivalent to 1.0/(1.0 + np.exp(-z))\n",
    "        return expit(z)\n",
    "\n",
    "    def _sigmoid_gradient(self, z):\n",
    "        sg = self._sigmoid(z)\n",
    "        return sg * (1 - sg)\n",
    "\n",
    "    def _add_bias_unit(self, X, how='column'):\n",
    "        if how == 'column':\n",
    "            X_new = np.ones((X.shape[0], X.shape[1]+1))\n",
    "            X_new[:, 1:] = X\n",
    "        elif how == 'row':\n",
    "            X_new = np.ones((X.shape[0]+1, X.shape[1]))\n",
    "            X_new[1:, :] = X\n",
    "        else:\n",
    "            raise AttributeError('`how` must be `column` or `row`')\n",
    "        return X_new\n",
    "\n",
    "    def _feedforward(self, X, w1, w2):\n",
    "        a1 = self._add_bias_unit(X, how='column')\n",
    "        z2 = w1.dot(a1.T)\n",
    "        a2 = self._sigmoid(z2)\n",
    "        a2 = self._add_bias_unit(a2, how='row')\n",
    "        z3 = w2.dot(a2)\n",
    "        a3 = self._sigmoid(z3)\n",
    "        return a1, z2, a2, z3, a3\n",
    "\n",
    "    def _L2_reg(self, lambda_, w1, w2):\n",
    "        return (lambda_/2.0) * (np.sum(w1[:, 1:] ** 2) + np.sum(w2[:, 1:] ** 2))\n",
    "\n",
    "    def _L1_reg(self, lambda_, w1, w2):\n",
    "        return (lambda_/2.0) * (np.abs(w1[:, 1:]).sum() + np.abs(w2[:, 1:]).sum())\n",
    "\n",
    "    def _get_cost(self, y_enc, output, w1, w2):\n",
    "        term1 = -y_enc * (np.log(output))\n",
    "        term2 = (1 - y_enc) * np.log(1 - output)\n",
    "        cost = np.sum(term1 - term2)\n",
    "        L1_term = self._L1_reg(self.l1, w1, w2)\n",
    "        L2_term = self._L2_reg(self.l2, w1, w2)\n",
    "        cost = cost + L1_term + L2_term\n",
    "        return cost\n",
    "\n",
    "    def _get_gradient(self, a1, a2, a3, z2, y_enc, w1, w2):\n",
    "        # backpropagation\n",
    "        sigma3 = a3 - y_enc\n",
    "        z2 = self._add_bias_unit(z2, how='row')\n",
    "        sigma2 = w2.T.dot(sigma3) * self._sigmoid_gradient(z2)\n",
    "        sigma2 = sigma2[1:, :]\n",
    "        grad1 = sigma2.dot(a1)\n",
    "        grad2 = sigma3.dot(a2.T)\n",
    "\n",
    "        # regularize\n",
    "        grad1[:, 1:] += (w1[:, 1:] * (self.l1 + self.l2))\n",
    "        grad2[:, 1:] += (w2[:, 1:] * (self.l1 + self.l2))\n",
    "\n",
    "        return grad1, grad2\n",
    "\n",
    "    def predict(self, X):\n",
    "        a1, z2, a2, z3, a3 = self._feedforward(X, self.w1, self.w2)\n",
    "        y_pred = np.argmax(z3, axis=0)\n",
    "        return y_pred\n",
    "\n",
    "    def fit(self, X, y, print_progress=False):\n",
    "        self.cost_ = []\n",
    "        X_data, y_data = X.copy(), y.copy()\n",
    "        y_enc = self._encode_labels(y, self.n_output)\n",
    "\n",
    "        delta_w1_prev = np.zeros(self.w1.shape)\n",
    "        delta_w2_prev = np.zeros(self.w2.shape)\n",
    "\n",
    "        for i in range(self.epochs):\n",
    "\n",
    "            # adaptive learning rate\n",
    "            self.eta /= (1 + self.decrease_const*i)\n",
    "\n",
    "            if print_progress:\n",
    "                sys.stderr.write('\\rEpoch: %d/%d' % (i+1, self.epochs))\n",
    "                sys.stderr.flush()\n",
    "\n",
    "            if self.shuffle:\n",
    "                idx = np.random.permutation(y_data.shape[0])\n",
    "                X_data, y_enc = X_data[idx], y_enc[:,idx]\n",
    "\n",
    "            mini = np.array_split(range(y_data.shape[0]), self.minibatches)\n",
    "            \n",
    "            for idx in mini:\n",
    "\n",
    "                # feedforward\n",
    "                a1, z2, a2, z3, a3 = self._feedforward(X_data[idx], self.w1, self.w2)\n",
    "                cost = self._get_cost(y_enc=y_enc[:, idx], output=a3, w1=self.w1, w2=self.w2)\n",
    "                \n",
    "                self.cost_.append(cost)\n",
    "\n",
    "                # compute gradient via backpropagation\n",
    "                grad1, grad2 = self._get_gradient(a1=a1, a2=a2, a3=a3, z2=z2,\n",
    "                                                  y_enc=y_enc[:, idx], w1=self.w1, w2=self.w2)\n",
    "\n",
    "                # update weights\n",
    "                delta_w1, delta_w2 = self.eta * grad1, self.eta * grad2\n",
    "                self.w1 -= (delta_w1 + (self.alpha * delta_w1_prev))\n",
    "                self.w2 -= (delta_w2 + (self.alpha * delta_w2_prev))\n",
    "                delta_w1_prev, delta_w2_prev = delta_w1, delta_w2\n",
    "\n",
    "        return self"
   ]
  },
  {
   "cell_type": "code",
   "execution_count": 21,
   "metadata": {},
   "outputs": [
    {
     "name": "stderr",
     "output_type": "stream",
     "text": [
      "\r",
      "Epoch: 1/1000"
     ]
    },
    {
     "name": "stdout",
     "output_type": "stream",
     "text": [
      "Digit dataset. Rows: 1797, columns: 64\n"
     ]
    },
    {
     "name": "stderr",
     "output_type": "stream",
     "text": [
      "Epoch: 1000/1000"
     ]
    }
   ],
   "source": [
    "hide_code\n",
    "\n",
    "print('Digit dataset. Rows: %d, columns: %d' % (X.shape[0],X.shape[1]))\n",
    "nn1 = NeuralNetMLP(n_output=10, n_features=X.shape[1], n_hidden=128, \n",
    "                  l2=0.1, l1=0.0, epochs=1000, \n",
    "                  eta=0.01, alpha=0.01, decrease_const=0.001,\n",
    "                  shuffle=True, minibatches=128, random_state=0)\n",
    "nn1.fit(X, y, print_progress=True);"
   ]
  },
  {
   "cell_type": "code",
   "execution_count": 22,
   "metadata": {},
   "outputs": [
    {
     "name": "stdout",
     "output_type": "stream",
     "text": [
      "Train accuracy: 99.78%\n"
     ]
    }
   ],
   "source": [
    "hide_code\n",
    "\n",
    "y_predict = nn1.predict(X)\n",
    "y_accuracy = np.sum(y == y_predict, axis=0) / X.shape[0]\n",
    "print('Train accuracy: %.2f%%' % (y_accuracy * 100))"
   ]
  },
  {
   "cell_type": "code",
   "execution_count": 23,
   "metadata": {},
   "outputs": [
    {
     "name": "stdout",
     "output_type": "stream",
     "text": [
      "MNIST. Train dataset. Rows: 55000, columns: 784\n",
      "MNIST. Test dataset. Rows: 10000, columns: 784\n"
     ]
    },
    {
     "name": "stderr",
     "output_type": "stream",
     "text": [
      "Epoch: 1000/1000"
     ]
    }
   ],
   "source": [
    "hide_code\n",
    "\n",
    "print('MNIST. Train dataset. Rows: %d, columns: %d' % (train_images.shape[0],train_images.shape[1]))\n",
    "print('MNIST. Test dataset. Rows: %d, columns: %d' % (test_images.shape[0],test_images.shape[1]))\n",
    "nn2 = NeuralNetMLP(n_output=10, n_features=train_images.shape[1], n_hidden=50, \n",
    "                  l2=0.01, l1=0.0, epochs=1000, \n",
    "                  eta=0.001, alpha=0.001, decrease_const=0.00001,\n",
    "                  shuffle=True, minibatches=50, random_state=1)\n",
    "nn2.fit(train_images, train_labels2, print_progress=True);"
   ]
  },
  {
   "cell_type": "code",
   "execution_count": 24,
   "metadata": {},
   "outputs": [
    {
     "name": "stdout",
     "output_type": "stream",
     "text": [
      "Train accuracy: 99.30%\n",
      "Test accuracy: 96.77%\n"
     ]
    }
   ],
   "source": [
    "hide_code\n",
    "\n",
    "train_labels_predict = nn2.predict(train_images)\n",
    "train_accuracy = np.sum(train_labels2 == train_labels_predict, axis=0) / train_images.shape[0]\n",
    "print('MNIST. Train accuracy: %.2f%%' % (train_accuracy * 100))\n",
    "\n",
    "test_labels_predict = nn2.predict(test_images)\n",
    "test_accuracy = np.sum(test_labels2 == test_labels_predict, axis=0) / test_images.shape[0]\n",
    "print('MNIST. Test accuracy: %.2f%%' % (test_accuracy * 100))"
   ]
  },
  {
   "cell_type": "code",
   "execution_count": 25,
   "metadata": {},
   "outputs": [
    {
     "data": {
      "image/png": "[encoded data removed]",
      "text/plain": [
       "<matplotlib.figure.Figure at 0x128fb20b8>"
      ]
     },
     "metadata": {},
     "output_type": "display_data"
    }
   ],
   "source": [
    "hide_code\n",
    "\n",
    "batches = np.array_split(range(len(nn2.cost_)), 1000)\n",
    "cost_ary = np.array(nn2.cost_)\n",
    "cost_avgs = [np.mean(cost_ary[i]) for i in batches]\n",
    "\n",
    "plt.figure(figsize=(18,6))\n",
    "plt.plot(range(len(cost_avgs)), cost_avgs, color='steelblue')\n",
    "plt.ylim([0, 2000])\n",
    "plt.ylabel('Cost')\n",
    "plt.xlabel('Epochs')\n",
    "plt.tight_layout()\n",
    "plt.title('Cost Function');"
   ]
  },
  {
   "cell_type": "code",
   "execution_count": 26,
   "metadata": {},
   "outputs": [
    {
     "name": "stdout",
     "output_type": "stream",
     "text": [
      "Misclassified images: 323\n"
     ]
    }
   ],
   "source": [
    "print('Misclassified images: {}'.format(len(test_images[test_labels2 != test_labels_predict])))"
   ]
  },
  {
   "cell_type": "code",
   "execution_count": 27,
   "metadata": {},
   "outputs": [
    {
     "data": {
      "image/png": "[encoded data removed]",
      "text/plain": [
       "<matplotlib.figure.Figure at 0x128d8c470>"
      ]
     },
     "metadata": {},
     "output_type": "display_data"
    }
   ],
   "source": [
    "hide_code\n",
    "\n",
    "miscl_images = test_images[test_labels2 != test_labels_predict][:18]\n",
    "correct_labels = test_labels2[test_labels2 != test_labels_predict][:18]\n",
    "miscl_labels = test_labels_predict[test_labels2 != test_labels_predict][:18]\n",
    "\n",
    "fig, ax = plt.subplots(nrows=3, ncols=6, sharex=True, sharey=True, figsize=(18,6))\n",
    "ax = ax.flatten()\n",
    "for i in range(18):\n",
    "    image = miscl_images[i].reshape(28, 28)\n",
    "    ax[i].imshow(image, cmap=plt.cm.Blues)\n",
    "    ax[i].set_title('%d) t: %d p: %d' % (i+1, correct_labels[i], miscl_labels[i]))\n",
    "ax[0].set_xticks([])\n",
    "ax[0].set_yticks([])\n",
    "plt.tight_layout()"
   ]
  },
  {
   "cell_type": "markdown",
   "metadata": {},
   "source": [
    "#### Model #2. http://cs231n.github.io/neural-networks-case-study/"
   ]
  },
  {
   "cell_type": "code",
   "execution_count": 49,
   "metadata": {},
   "outputs": [
    {
     "name": "stdout",
     "output_type": "stream",
     "text": [
      "Digit dataset. Rows: 1797, columns: 64\n"
     ]
    }
   ],
   "source": [
    "hide_code\n",
    "\n",
    "print('Digit dataset. Rows: %d, columns: %d' % (X.shape[0],X.shape[1]))"
   ]
  },
  {
   "cell_type": "code",
   "execution_count": 57,
   "metadata": {},
   "outputs": [
    {
     "name": "stdout",
     "output_type": "stream",
     "text": [
      "iteration 0: loss 2.302513\n",
      "iteration 100: loss 1.757568\n",
      "iteration 200: loss 0.530534\n",
      "iteration 300: loss 0.291664\n",
      "iteration 400: loss 0.205333\n",
      "iteration 500: loss 0.162027\n",
      "iteration 600: loss 0.136052\n",
      "iteration 700: loss 0.118655\n",
      "iteration 800: loss 0.106057\n",
      "iteration 900: loss 0.096394\n",
      "iteration 1000: loss 0.088644\n",
      "iteration 1100: loss 0.082218\n",
      "iteration 1200: loss 0.076740\n",
      "iteration 1300: loss 0.071983\n",
      "iteration 1400: loss 0.067777\n",
      "iteration 1500: loss 0.064011\n",
      "iteration 1600: loss 0.060610\n",
      "iteration 1700: loss 0.057522\n",
      "iteration 1800: loss 0.054695\n",
      "iteration 1900: loss 0.052098\n"
     ]
    }
   ],
   "source": [
    "hide_code\n",
    "\n",
    "D1 = 64 # dimensionality\n",
    "K1 = 10 # number of classes\n",
    "h1 = 500 # size of hidden layer\n",
    "\n",
    "W11 = 0.001 * np.random.randn(D1, h1)\n",
    "b11 = np.zeros((1, h1))\n",
    "W12 = 0.001 * np.random.randn(h1, K1)\n",
    "b12 = np.zeros((1, K1))\n",
    "\n",
    "# some hyperparameters\n",
    "step_size1 = 1e-2\n",
    "reg1 = 1e-4 # regularization strength\n",
    "\n",
    "# gradient descent loop\n",
    "num_examples1 = X.shape[0]\n",
    "\n",
    "for i in range(2000):\n",
    "  \n",
    "    # evaluate class scores\n",
    "    hidden_layer1 = np.maximum(0, np.dot(X, W11) + b11) # ReLU activation\n",
    "    scores1 = np.dot(hidden_layer1, W12) + b12\n",
    "  \n",
    "    # compute the class probabilities\n",
    "    exp_scores1 = np.exp(scores1)\n",
    "    probs1 = exp_scores1 / np.sum(exp_scores1, axis=1, keepdims=True) \n",
    "  \n",
    "    # compute the loss: average cross-entropy loss and regularization\n",
    "    corect_logprobs1 = -np.log(probs1[range(num_examples1), y])\n",
    "    data_loss1 = np.sum(corect_logprobs1) / num_examples1\n",
    "    reg_loss1 = 0.5 * reg1 * np.sum(W11 * W11) + 0.5 * reg1 * np.sum(W12 * W12)\n",
    "    loss1 = data_loss1 + reg_loss1\n",
    "    if i % 100 == 0:\n",
    "        print (\"iteration %d: loss %f\" % (i, loss1))\n",
    "  \n",
    "    # compute the gradient on scores\n",
    "    dscores1 = probs1\n",
    "    dscores1[range(num_examples1), y] -= 1\n",
    "    dscores1 /= num_examples1\n",
    "  \n",
    "    # backpropate the gradient to the parameters\n",
    "    # first backprop into parameters W2 and b2\n",
    "    dW12 = np.dot(hidden_layer1.T, dscores1)\n",
    "    db12 = np.sum(dscores1, axis=0, keepdims=True)\n",
    "    # next backprop into hidden layer\n",
    "    dhidden1 = np.dot(dscores1, W12.T)\n",
    "    # backprop the ReLU non-linearity\n",
    "    dhidden1[hidden_layer1 <= 0] = 0\n",
    "    # finally into W,b\n",
    "    dW11 = np.dot(X.T, dhidden1)\n",
    "    db11 = np.sum(dhidden1, axis=0, keepdims=True)\n",
    "  \n",
    "    # add regularization gradient contribution\n",
    "    dW12 += reg1 * W12\n",
    "    dW11 += reg1 * W11\n",
    "  \n",
    "    # perform a parameter update\n",
    "    W11 += -step_size1 * dW11\n",
    "    b11 += -step_size1 * db11\n",
    "    W12 += -step_size1 * dW12\n",
    "    b12 += -step_size1 * db12"
   ]
  },
  {
   "cell_type": "code",
   "execution_count": 58,
   "metadata": {},
   "outputs": [
    {
     "name": "stdout",
     "output_type": "stream",
     "text": [
      "Digit dataset. Accuracy: 99.22\n"
     ]
    }
   ],
   "source": [
    "hide_code\n",
    "\n",
    "# evaluate training set accuracy\n",
    "hidden_layer1 = np.maximum(0, np.dot(X, W11) + b11)\n",
    "scores1 = np.dot(hidden_layer1, W12) + b12\n",
    "predicted_y = np.argmax(scores1, axis=1)\n",
    "print ('Digit dataset. Accuracy: %.2f' % (np.mean(predicted_y == y) * 100))"
   ]
  },
  {
   "cell_type": "code",
   "execution_count": 59,
   "metadata": {},
   "outputs": [
    {
     "name": "stdout",
     "output_type": "stream",
     "text": [
      "MNIST. Train dataset. Rows: 55000, columns: 784\n",
      "MNIST. Test dataset. Rows: 10000, columns: 784\n"
     ]
    }
   ],
   "source": [
    "hide_code\n",
    "\n",
    "print('MNIST. Train dataset. Rows: %d, columns: %d' % (train_images.shape[0], train_images.shape[1]))\n",
    "print('MNIST. Test dataset. Rows: %d, columns: %d' % (test_images.shape[0], test_images.shape[1]))"
   ]
  },
  {
   "cell_type": "code",
   "execution_count": 64,
   "metadata": {},
   "outputs": [
    {
     "name": "stdout",
     "output_type": "stream",
     "text": [
      "iteration 0: loss 2.302636\n",
      "iteration 100: loss 2.063946\n",
      "iteration 200: loss 0.766694\n",
      "iteration 300: loss 0.527520\n",
      "iteration 400: loss 0.446654\n",
      "iteration 500: loss 0.406136\n",
      "iteration 600: loss 0.380341\n",
      "iteration 700: loss 0.361745\n",
      "iteration 800: loss 0.347386\n",
      "iteration 900: loss 0.335671\n",
      "iteration 1000: loss 0.325733\n",
      "iteration 1100: loss 0.317013\n",
      "iteration 1200: loss 0.309166\n",
      "iteration 1300: loss 0.301955\n",
      "iteration 1400: loss 0.295309\n",
      "iteration 1500: loss 0.289083\n",
      "iteration 1600: loss 0.283198\n",
      "iteration 1700: loss 0.277637\n",
      "iteration 1800: loss 0.272390\n",
      "iteration 1900: loss 0.267433\n",
      "iteration 2000: loss 0.262767\n",
      "iteration 2100: loss 0.258365\n",
      "iteration 2200: loss 0.254220\n",
      "iteration 2300: loss 0.250310\n",
      "iteration 2400: loss 0.246633\n",
      "iteration 2500: loss 0.243176\n",
      "iteration 2600: loss 0.239919\n",
      "iteration 2700: loss 0.236823\n",
      "iteration 2800: loss 0.233884\n",
      "iteration 2900: loss 0.231089\n"
     ]
    }
   ],
   "source": [
    "hide_code\n",
    "\n",
    "D2 = 784 # dimensionality\n",
    "K2 = 10 # number of classes\n",
    "h2 = 112 # size of hidden layer\n",
    "\n",
    "W21 = 0.001 * np.random.randn(D2, h2)\n",
    "b21 = np.zeros((1, h2))\n",
    "W22 = 0.001 * np.random.randn(h2, K2)\n",
    "b22 = np.zeros((1, K2))\n",
    "\n",
    "# some hyperparameters\n",
    "step_size2 = 1e-1\n",
    "reg2 = 1e-3 # regularization strength\n",
    "\n",
    "# gradient descent loop\n",
    "num_examples2 = train_images.shape[0]\n",
    "\n",
    "for i in range(3000):\n",
    "  \n",
    "    # evaluate class scores\n",
    "    hidden_layer2 = np.maximum(0, np.dot(train_images, W21) + b21) # ReLU activation\n",
    "    scores2 = np.dot(hidden_layer2, W22) + b22\n",
    "  \n",
    "    # compute the class probabilities\n",
    "    exp_scores2 = np.exp(scores2)\n",
    "    probs2 = exp_scores2 / np.sum(exp_scores2, axis=1, keepdims=True)\n",
    "  \n",
    "    # compute the loss: average cross-entropy loss and regularization\n",
    "    corect_logprobs2 = -np.log(probs2[range(num_examples2), train_labels2])\n",
    "    data_loss2 = np.sum(corect_logprobs2) / num_examples2\n",
    "    reg_loss2 = 0.5 * reg2 * np.sum(W21 * W21) + 0.5 * reg2 * np.sum(W22 * W22)\n",
    "    loss2 = data_loss2 + reg_loss2\n",
    "    if i % 100 == 0:\n",
    "        print (\"iteration %d: loss %f\" % (i, loss2))\n",
    "  \n",
    "    # compute the gradient on scores\n",
    "    dscores2 = probs2\n",
    "    dscores2[range(num_examples2), train_labels2] -= 1\n",
    "    dscores2 /= num_examples2\n",
    "  \n",
    "    # backpropate the gradient to the parameters\n",
    "    # first backprop into parameters W2 and b2\n",
    "    dW22 = np.dot(hidden_layer2.T, dscores2)\n",
    "    db22 = np.sum(dscores2, axis=0, keepdims=True)\n",
    "    # next backprop into hidden layer\n",
    "    dhidden2 = np.dot(dscores2, W22.T)\n",
    "    # backprop the ReLU non-linearity\n",
    "    dhidden2[hidden_layer2 <= 0] = 0\n",
    "    # finally into W,b\n",
    "    dW21 = np.dot(train_images.T, dhidden2)\n",
    "    db21 = np.sum(dhidden2, axis=0, keepdims=True)\n",
    "  \n",
    "    # add regularization gradient contribution\n",
    "    dW22 += reg2 * W22\n",
    "    dW21 += reg2 * W21\n",
    "  \n",
    "    # perform a parameter update\n",
    "    W21 += -step_size2 * dW21\n",
    "    b21 += -step_size2 * db21\n",
    "    W22 += -step_size2 * dW22\n",
    "    b22 += -step_size2 * db22   "
   ]
  },
  {
   "cell_type": "code",
   "execution_count": 66,
   "metadata": {},
   "outputs": [
    {
     "name": "stdout",
     "output_type": "stream",
     "text": [
      "MNIST. Train accuracy: 95.00\n",
      "MNIST. Test accuracy: 94.81\n"
     ]
    }
   ],
   "source": [
    "hide_code\n",
    "\n",
    "# evaluate training set accuracy\n",
    "hidden_layer2 = np.maximum(0, np.dot(train_images, W21) + b21)\n",
    "scores2 = np.dot(hidden_layer2, W22) + b22\n",
    "predicted_train_labels = np.argmax(scores2, axis=1)\n",
    "print ('MNIST. Train accuracy: %.2f' % (np.mean(predicted_train_labels == train_labels2) * 100))\n",
    "\n",
    "hidden_layer3 = np.maximum(0, np.dot(test_images, W21) + b21)\n",
    "scores3 = np.dot(hidden_layer3, W22) + b22\n",
    "predicted_test_labels = np.argmax(scores3, axis=1)\n",
    "print ('MNIST. Test accuracy: %.2f' % (np.mean(predicted_test_labels == test_labels2) * 100))"
   ]
  },
  {
   "cell_type": "markdown",
   "metadata": {},
   "source": [
    "#### Model #3. Multi-layer Model. TensorFlow"
   ]
  },
  {
   "cell_type": "code",
   "execution_count": 113,
   "metadata": {
    "collapsed": true
   },
   "outputs": [],
   "source": [
    "hide_code\n",
    "\n",
    "image_size = 28\n",
    "num_labels = 10\n",
    "batch_size = 256\n",
    "hidden_nodes = 1024\n",
    "parameter = 0.0005 \n",
    "dropout = 0.75\n",
    "\n",
    "graph = tf.Graph()\n",
    "with graph.as_default():\n",
    "\n",
    "    # Input data. For the training data, we use a placeholder that will be fed\n",
    "    # at run time with a training minibatch.\n",
    "    tf_train_dataset = tf.placeholder(tf.float32, shape=(batch_size, image_size * image_size))\n",
    "    tf_train_labels = tf.placeholder(tf.float32, shape=(batch_size, num_labels))\n",
    "    tf_test_dataset = tf.constant(test_images)\n",
    "\n",
    "    # Variables.\n",
    "    weights1 = tf.Variable(tf.truncated_normal([image_size * image_size, hidden_nodes], stddev=0.05))\n",
    "    weights2 = tf.Variable(tf.truncated_normal([hidden_nodes, hidden_nodes], stddev=0.05))\n",
    "    weights3 = tf.Variable(tf.truncated_normal([hidden_nodes, hidden_nodes], stddev=0.05))\n",
    "    weights4 = tf.Variable(tf.truncated_normal([hidden_nodes, hidden_nodes], stddev=0.05))\n",
    "    weights5 = tf.Variable(tf.truncated_normal([hidden_nodes, num_labels], stddev=0.05))\n",
    "    \n",
    "    biases1 = tf.Variable(tf.constant(0.05, shape=[hidden_nodes]))\n",
    "    biases2 = tf.Variable(tf.constant(0.05, shape=[hidden_nodes]))\n",
    "    biases3 = tf.Variable(tf.constant(0.05, shape=[hidden_nodes]))\n",
    "    biases4 = tf.Variable(tf.constant(0.05, shape=[hidden_nodes]))\n",
    "    biases5 = tf.Variable(tf.constant(0.05, shape=[num_labels]))\n",
    "    \n",
    "    # Training computation with Dropout.   \n",
    "    \n",
    "    train_hidden1 = tf.nn.dropout(tf.nn.relu(tf.matmul(tf_train_dataset, weights1) + biases1), dropout)\n",
    "    train_hidden2 = tf.nn.dropout(tf.nn.relu(tf.matmul(train_hidden1, weights2) + biases2), dropout)\n",
    "    train_hidden3 = tf.nn.dropout(tf.nn.relu(tf.matmul(train_hidden2, weights3) + biases3), dropout)\n",
    "    train_hidden4 = tf.nn.dropout(tf.nn.relu(tf.matmul(train_hidden3, weights4) + biases4), dropout)   \n",
    "    train_logits = tf.matmul(train_hidden4, weights5) + biases5\n",
    "    \n",
    "    test_hidden1 = tf.nn.dropout(tf.nn.relu(tf.matmul(tf_test_dataset, weights1) + biases1), dropout)\n",
    "    test_hidden2 = tf.nn.dropout(tf.nn.relu(tf.matmul(test_hidden1, weights2) + biases2), dropout)\n",
    "    test_hidden3 = tf.nn.dropout(tf.nn.relu(tf.matmul(test_hidden2, weights3) + biases3), dropout)\n",
    "    test_hidden4 = tf.nn.dropout(tf.nn.relu(tf.matmul(test_hidden3, weights4) + biases4), dropout)\n",
    "    test_logits = tf.matmul(test_hidden4, weights5) + biases5\n",
    "    \n",
    "    loss = tf.reduce_mean(tf.nn.softmax_cross_entropy_with_logits(labels=tf_train_labels, logits=train_logits))\n",
    "    \n",
    "    # Regularization.\n",
    "    regularizers = tf.nn.l2_loss(weights1) + tf.nn.l2_loss(biases1) \\\n",
    "    + tf.nn.l2_loss(weights2) + tf.nn.l2_loss(biases2) \\\n",
    "    + tf.nn.l2_loss(weights3) + tf.nn.l2_loss(biases3) \\\n",
    "    + tf.nn.l2_loss(weights4) + tf.nn.l2_loss(biases4) \\\n",
    "    + tf.nn.l2_loss(weights5) + tf.nn.l2_loss(biases5) \n",
    "    \n",
    "    loss += parameter * regularizers    \n",
    "  \n",
    "    # Optimizer.\n",
    "    # Note: altering step size can lead to NaNs in matrices\n",
    "    optimizer = tf.train.GradientDescentOptimizer(0.05).minimize(loss)\n",
    "\n",
    "    # Predictions for the train and test data.\n",
    "    train_prediction = tf.nn.softmax(train_logits)    \n",
    "    test_prediction = tf.nn.softmax(test_logits) "
   ]
  },
  {
   "cell_type": "code",
   "execution_count": 116,
   "metadata": {
    "collapsed": true
   },
   "outputs": [],
   "source": [
    "hide_code\n",
    "\n",
    "def accuracy(predictions, labels):\n",
    "    return (100.0 * np.sum(np.argmax(predictions, 1) == np.argmax(labels, 1)) / predictions.shape[0])\n",
    "\n",
    "def run_test(num_steps):\n",
    "\n",
    "    with tf.Session(graph=graph) as session:\n",
    "        tf.global_variables_initializer().run()\n",
    "        print(\"Initialized\")\n",
    "        for step in range(num_steps):\n",
    "            # Pick an offset within the training data, which has been randomized.\n",
    "            # Note: we could use better randomization across epochs.\n",
    "            offset = (step * batch_size) % (train_labels.shape[0] - batch_size)\n",
    "            # Generate a minibatch.\n",
    "            batch_data = train_images[offset:(offset + batch_size), :]\n",
    "            batch_labels = train_labels[offset:(offset + batch_size), :]\n",
    "            # Prepare a dictionary telling the session where to feed the minibatch.\n",
    "            # The key of the dictionary is the placeholder node of the graph to be fed,\n",
    "            # and the value is the numpy array to feed to it.\n",
    "            feed_dict = {tf_train_dataset : batch_data, tf_train_labels : batch_labels}\n",
    "            _, l, predictions = session.run([optimizer, loss, train_prediction], feed_dict=feed_dict)\n",
    "            if (step % 300 == 0):\n",
    "                print(\"Minibatch loss at step %d: %f\" % (step, l))\n",
    "                print(\"Minibatch accuracy: %.1f%%\" % accuracy(predictions, batch_labels))\n",
    "        print(\"Test accuracy: %.1f%%\" % accuracy(test_prediction.eval(), test_labels))"
   ]
  },
  {
   "cell_type": "code",
   "execution_count": 117,
   "metadata": {},
   "outputs": [
    {
     "name": "stdout",
     "output_type": "stream",
     "text": [
      "Initialized\n",
      "Minibatch loss at step 0: 4.609770\n",
      "Minibatch accuracy: 8.6%\n",
      "Minibatch loss at step 300: 2.277668\n",
      "Minibatch accuracy: 88.7%\n",
      "Minibatch loss at step 600: 2.120021\n",
      "Minibatch accuracy: 91.0%\n",
      "Minibatch loss at step 900: 2.086948\n",
      "Minibatch accuracy: 94.1%\n",
      "Minibatch loss at step 1200: 2.038336\n",
      "Minibatch accuracy: 93.4%\n",
      "Minibatch loss at step 1500: 1.917827\n",
      "Minibatch accuracy: 96.9%\n",
      "Minibatch loss at step 1800: 1.809130\n",
      "Minibatch accuracy: 99.2%\n",
      "Minibatch loss at step 2100: 1.815230\n",
      "Minibatch accuracy: 98.0%\n",
      "Minibatch loss at step 2400: 1.764551\n",
      "Minibatch accuracy: 98.4%\n",
      "Minibatch loss at step 2700: 1.840882\n",
      "Minibatch accuracy: 95.7%\n",
      "Minibatch loss at step 3000: 1.728817\n",
      "Minibatch accuracy: 97.7%\n",
      "Test accuracy: 96.3%\n"
     ]
    }
   ],
   "source": [
    "hide_code\n",
    "\n",
    "run_test(3001)"
   ]
  },
  {
   "cell_type": "markdown",
   "metadata": {},
   "source": [
    "#### Model #4. Multi-layer Perceptron. Keras"
   ]
  },
  {
   "cell_type": "code",
   "execution_count": 67,
   "metadata": {},
   "outputs": [
    {
     "data": {
      "text/plain": [
       "'tensorflow'"
      ]
     },
     "execution_count": 67,
     "metadata": {},
     "output_type": "execute_result"
    }
   ],
   "source": [
    "hide_code\n",
    "\n",
    "ks.backend.backend()"
   ]
  },
  {
   "cell_type": "code",
   "execution_count": 123,
   "metadata": {},
   "outputs": [
    {
     "name": "stdout",
     "output_type": "stream",
     "text": [
      "Epoch 1/20\n",
      "55000/55000 [==============================] - 22s - loss: 0.9739 - acc: 0.6815    \n",
      "Epoch 2/20\n",
      "55000/55000 [==============================] - 3s - loss: 0.4938 - acc: 0.8537     \n",
      "Epoch 3/20\n",
      "55000/55000 [==============================] - 3s - loss: 0.3982 - acc: 0.8837     \n",
      "Epoch 4/20\n",
      "55000/55000 [==============================] - 3s - loss: 0.3511 - acc: 0.9010     \n",
      "Epoch 5/20\n",
      "55000/55000 [==============================] - 3s - loss: 0.3168 - acc: 0.9098     \n",
      "Epoch 6/20\n",
      "55000/55000 [==============================] - 3s - loss: 0.2938 - acc: 0.9178     \n",
      "Epoch 7/20\n",
      "55000/55000 [==============================] - 3s - loss: 0.2784 - acc: 0.9223     \n",
      "Epoch 8/20\n",
      "55000/55000 [==============================] - 4s - loss: 0.2573 - acc: 0.9275     \n",
      "Epoch 9/20\n",
      "55000/55000 [==============================] - 4s - loss: 0.2481 - acc: 0.9308     \n",
      "Epoch 10/20\n",
      "55000/55000 [==============================] - 4s - loss: 0.2361 - acc: 0.9340     \n",
      "Epoch 11/20\n",
      "55000/55000 [==============================] - 3s - loss: 0.2251 - acc: 0.9358     \n",
      "Epoch 12/20\n",
      "55000/55000 [==============================] - 4s - loss: 0.2184 - acc: 0.9384     \n",
      "Epoch 13/20\n",
      "55000/55000 [==============================] - 3s - loss: 0.2116 - acc: 0.9404     \n",
      "Epoch 14/20\n",
      "55000/55000 [==============================] - 3s - loss: 0.2062 - acc: 0.9421     \n",
      "Epoch 15/20\n",
      "55000/55000 [==============================] - 3s - loss: 0.2050 - acc: 0.9413     \n",
      "Epoch 16/20\n",
      "55000/55000 [==============================] - 3s - loss: 0.1990 - acc: 0.9438     \n",
      "Epoch 17/20\n",
      "55000/55000 [==============================] - 3s - loss: 0.1967 - acc: 0.9451     \n",
      "Epoch 18/20\n",
      "55000/55000 [==============================] - 3s - loss: 0.1897 - acc: 0.9463     \n",
      "Epoch 19/20\n",
      "55000/55000 [==============================] - 3s - loss: 0.1841 - acc: 0.9486     \n",
      "Epoch 20/20\n",
      "55000/55000 [==============================] - 3s - loss: 0.1798 - acc: 0.9486     \n"
     ]
    }
   ],
   "source": [
    "hide_code\n",
    "\n",
    "mlp_model = Sequential()\n",
    "\n",
    "mlp_model.add(Dense(128, activation='relu', input_dim=784))\n",
    "mlp_model.add(Dropout(0.5))\n",
    "\n",
    "mlp_model.add(Dense(64, activation='relu'))\n",
    "mlp_model.add(Dropout(0.5))\n",
    "\n",
    "mlp_model.add(Dense(10, activation='softmax'))\n",
    "\n",
    "sgd = SGD(lr=0.01, decay=1e-6, momentum=0.9, nesterov=True)\n",
    "\n",
    "mlp_model.compile(loss='categorical_crossentropy', optimizer=sgd, metrics=['accuracy'])\n",
    "\n",
    "mlp_model.fit(train_images, train_labels, epochs=20, batch_size=128);"
   ]
  },
  {
   "cell_type": "code",
   "execution_count": 124,
   "metadata": {},
   "outputs": [
    {
     "name": "stdout",
     "output_type": "stream",
     "text": [
      " 9984/10000 [============================>.] - ETA: 0s\n",
      "MLP Scores:  [0.10365629611033947, 0.97050000000000003]\n",
      "MLP Error: 2.95%\n",
      "_________________________________________________________________\n",
      "Layer (type)                 Output Shape              Param #   \n",
      "=================================================================\n",
      "dense_19 (Dense)             (None, 128)               100480    \n",
      "_________________________________________________________________\n",
      "dropout_8 (Dropout)          (None, 128)               0         \n",
      "_________________________________________________________________\n",
      "dense_20 (Dense)             (None, 64)                8256      \n",
      "_________________________________________________________________\n",
      "dropout_9 (Dropout)          (None, 64)                0         \n",
      "_________________________________________________________________\n",
      "dense_21 (Dense)             (None, 10)                650       \n",
      "=================================================================\n",
      "Total params: 109,386\n",
      "Trainable params: 109,386\n",
      "Non-trainable params: 0\n",
      "_________________________________________________________________\n",
      "None\n"
     ]
    }
   ],
   "source": [
    "hide_code\n",
    "\n",
    "mlp_scores = mlp_model.evaluate(test_images, test_labels)\n",
    "print(\"\\nMLP Scores: \", (mlp_scores))\n",
    "print(\"MLP Error: %.2f%%\" % (100 - mlp_scores[1] * 100))\n",
    "print(mlp_model.summary())"
   ]
  },
  {
   "cell_type": "markdown",
   "metadata": {},
   "source": [
    "#### Model #5. Convolutional Neural Network. Keras"
   ]
  },
  {
   "cell_type": "code",
   "execution_count": 129,
   "metadata": {
    "collapsed": true
   },
   "outputs": [],
   "source": [
    "hide_code\n",
    "\n",
    "ks.backend.set_image_dim_ordering('th')"
   ]
  },
  {
   "cell_type": "code",
   "execution_count": 130,
   "metadata": {
    "collapsed": true
   },
   "outputs": [],
   "source": [
    "hide_code\n",
    "\n",
    "def cnn_model1():\n",
    "    model = Sequential()\n",
    "    \n",
    "    model.add(Conv2D(28, (7, 7), input_shape=(1, 28, 28), activation='relu'))\n",
    "    model.add(MaxPooling2D(pool_size=(2, 2)))\n",
    "    \n",
    "    model.add(Conv2D(14, (3, 3), activation='relu'))\n",
    "    model.add(MaxPooling2D(pool_size=(2, 2)))\n",
    "    \n",
    "    model.add(Dropout(0.2))\n",
    "    model.add(Flatten())\n",
    "    \n",
    "    model.add(Dense(128, activation='relu'))\n",
    "    model.add(Dense(64, activation='relu'))\n",
    "    \n",
    "    model.add(Dense(10, activation='softmax'))\n",
    "\n",
    "    model.compile(loss='categorical_crossentropy', optimizer='adam', metrics=['accuracy'])\n",
    "    return model"
   ]
  },
  {
   "cell_type": "code",
   "execution_count": 131,
   "metadata": {},
   "outputs": [
    {
     "name": "stdout",
     "output_type": "stream",
     "text": [
      "Train on 55000 samples, validate on 10000 samples\n",
      "Epoch 1/10\n",
      "55000/55000 [==============================] - 178s - loss: 0.3207 - acc: 0.8996 - val_loss: 0.0688 - val_acc: 0.9780\n",
      "Epoch 2/10\n",
      "55000/55000 [==============================] - 170s - loss: 0.0982 - acc: 0.9698 - val_loss: 0.0517 - val_acc: 0.9822\n",
      "Epoch 3/10\n",
      "55000/55000 [==============================] - 173s - loss: 0.0705 - acc: 0.9781 - val_loss: 0.0425 - val_acc: 0.9856\n",
      "Epoch 4/10\n",
      "55000/55000 [==============================] - 164s - loss: 0.0596 - acc: 0.9811 - val_loss: 0.0341 - val_acc: 0.9890\n",
      "Epoch 5/10\n",
      "55000/55000 [==============================] - 170s - loss: 0.0517 - acc: 0.9838 - val_loss: 0.0329 - val_acc: 0.9896\n",
      "Epoch 6/10\n",
      "55000/55000 [==============================] - 166s - loss: 0.0456 - acc: 0.9852 - val_loss: 0.0285 - val_acc: 0.9911\n",
      "Epoch 7/10\n",
      "55000/55000 [==============================] - 175s - loss: 0.0411 - acc: 0.9867 - val_loss: 0.0252 - val_acc: 0.9919\n",
      "Epoch 8/10\n",
      "55000/55000 [==============================] - 168s - loss: 0.0368 - acc: 0.9880 - val_loss: 0.0305 - val_acc: 0.9904\n",
      "Epoch 9/10\n",
      "55000/55000 [==============================] - 157s - loss: 0.0328 - acc: 0.9888 - val_loss: 0.0254 - val_acc: 0.9922\n",
      "Epoch 10/10\n",
      "55000/55000 [==============================] - 164s - loss: 0.0328 - acc: 0.9893 - val_loss: 0.0236 - val_acc: 0.9920\n"
     ]
    }
   ],
   "source": [
    "hide_code\n",
    "\n",
    "cnn_model11 = cnn_model1()\n",
    "\n",
    "cnn_model11.fit(train_images_n28, train_labels, \n",
    "                validation_data=(test_images_n28, test_labels), \n",
    "                epochs=10, batch_size=100);"
   ]
  },
  {
   "cell_type": "code",
   "execution_count": 132,
   "metadata": {},
   "outputs": [
    {
     "name": "stdout",
     "output_type": "stream",
     "text": [
      "Model 5.1. CNN Scores:  [0.023566197849460877, 0.99199999999999999]\n",
      "Model 5.1. CNN Error: 0.80%\n",
      "_________________________________________________________________\n",
      "Layer (type)                 Output Shape              Param #   \n",
      "=================================================================\n",
      "conv2d_13 (Conv2D)           (None, 28, 22, 22)        1400      \n",
      "_________________________________________________________________\n",
      "max_pooling2d_13 (MaxPooling (None, 28, 11, 11)        0         \n",
      "_________________________________________________________________\n",
      "conv2d_14 (Conv2D)           (None, 14, 9, 9)          3542      \n",
      "_________________________________________________________________\n",
      "max_pooling2d_14 (MaxPooling (None, 14, 4, 4)          0         \n",
      "_________________________________________________________________\n",
      "dropout_11 (Dropout)         (None, 14, 4, 4)          0         \n",
      "_________________________________________________________________\n",
      "flatten_7 (Flatten)          (None, 224)               0         \n",
      "_________________________________________________________________\n",
      "dense_25 (Dense)             (None, 128)               28800     \n",
      "_________________________________________________________________\n",
      "dense_26 (Dense)             (None, 64)                8256      \n",
      "_________________________________________________________________\n",
      "dense_27 (Dense)             (None, 10)                650       \n",
      "=================================================================\n",
      "Total params: 42,648\n",
      "Trainable params: 42,648\n",
      "Non-trainable params: 0\n",
      "_________________________________________________________________\n",
      "None\n"
     ]
    }
   ],
   "source": [
    "hide_code\n",
    "\n",
    "cnn_scores1 = cnn_model11.evaluate(test_images_n28, test_labels, verbose=0)\n",
    "\n",
    "print(\"Model 5.1. CNN Scores: \" , (cnn_scores1))\n",
    "print(\"Model 5.1. CNN Error: %.2f%%\" % (100 - cnn_scores1[1]*100))\n",
    "print(cnn_model11.summary())"
   ]
  },
  {
   "cell_type": "code",
   "execution_count": 120,
   "metadata": {
    "collapsed": true
   },
   "outputs": [],
   "source": [
    "hide_code\n",
    "\n",
    "def cnn_model2():\n",
    "    model = Sequential()\n",
    "    \n",
    "    model.add(Conv2D(128, (5, 5), input_shape=(1, 28, 28), activation='relu'))\n",
    "    model.add(MaxPooling2D(pool_size=(2, 2)))\n",
    "    \n",
    "    model.add(Conv2D(64, (3, 3), activation='relu'))\n",
    "    model.add(MaxPooling2D(pool_size=(2, 2)))\n",
    "    \n",
    "    model.add(Dropout(0.2))\n",
    "    model.add(Flatten())\n",
    "    \n",
    "    model.add(Dense(128, activation='relu'))\n",
    "    model.add(Dense(64, activation='relu'))\n",
    "    \n",
    "    model.add(Dense(10, activation='softmax'))\n",
    "\n",
    "    model.compile(loss='categorical_crossentropy', optimizer='adam', metrics=['accuracy'])\n",
    "    return model"
   ]
  },
  {
   "cell_type": "code",
   "execution_count": 121,
   "metadata": {},
   "outputs": [
    {
     "name": "stdout",
     "output_type": "stream",
     "text": [
      "Train on 55000 samples, validate on 10000 samples\n",
      "Epoch 1/10\n",
      "55000/55000 [==============================] - 826s - loss: 0.2008 - acc: 0.9385 - val_loss: 0.0453 - val_acc: 0.9860\n",
      "Epoch 2/10\n",
      "55000/55000 [==============================] - 810s - loss: 0.0557 - acc: 0.9831 - val_loss: 0.0339 - val_acc: 0.9889\n",
      "Epoch 3/10\n",
      "55000/55000 [==============================] - 757s - loss: 0.0404 - acc: 0.9874 - val_loss: 0.0304 - val_acc: 0.9899\n",
      "Epoch 4/10\n",
      "55000/55000 [==============================] - 815s - loss: 0.0323 - acc: 0.9895 - val_loss: 0.0236 - val_acc: 0.9926\n",
      "Epoch 5/10\n",
      "55000/55000 [==============================] - 791s - loss: 0.0249 - acc: 0.9921 - val_loss: 0.0255 - val_acc: 0.9911\n",
      "Epoch 6/10\n",
      "55000/55000 [==============================] - 829s - loss: 0.0217 - acc: 0.9929 - val_loss: 0.0265 - val_acc: 0.9913\n",
      "Epoch 7/10\n",
      "55000/55000 [==============================] - 866s - loss: 0.0189 - acc: 0.9941 - val_loss: 0.0265 - val_acc: 0.9919\n",
      "Epoch 8/10\n",
      "55000/55000 [==============================] - 881s - loss: 0.0172 - acc: 0.9945 - val_loss: 0.0229 - val_acc: 0.9927\n",
      "Epoch 9/10\n",
      "55000/55000 [==============================] - 775s - loss: 0.0144 - acc: 0.9953 - val_loss: 0.0277 - val_acc: 0.9918\n",
      "Epoch 10/10\n",
      "55000/55000 [==============================] - 844s - loss: 0.0127 - acc: 0.9959 - val_loss: 0.0260 - val_acc: 0.9920\n"
     ]
    },
    {
     "data": {
      "text/plain": [
       "<keras.callbacks.History at 0x13638de48>"
      ]
     },
     "execution_count": 121,
     "metadata": {},
     "output_type": "execute_result"
    }
   ],
   "source": [
    "hide_code\n",
    "\n",
    "cnn_model12 = cnn_model2()\n",
    "\n",
    "cnn_model12.fit(train_images_n28, train_labels, \n",
    "              validation_data=(test_images_n28, test_labels), \n",
    "              epochs=10, batch_size=128)"
   ]
  },
  {
   "cell_type": "code",
   "execution_count": 122,
   "metadata": {},
   "outputs": [
    {
     "name": "stdout",
     "output_type": "stream",
     "text": [
      "Model 5.2. CNN Scores:  [0.025999592774480697, 0.99199999999999999]\n",
      "Model 5.2. CNN Error: 0.80%\n",
      "_________________________________________________________________\n",
      "Layer (type)                 Output Shape              Param #   \n",
      "=================================================================\n",
      "conv2d_9 (Conv2D)            (None, 128, 24, 24)       3328      \n",
      "_________________________________________________________________\n",
      "max_pooling2d_9 (MaxPooling2 (None, 128, 12, 12)       0         \n",
      "_________________________________________________________________\n",
      "conv2d_10 (Conv2D)           (None, 64, 10, 10)        73792     \n",
      "_________________________________________________________________\n",
      "max_pooling2d_10 (MaxPooling (None, 64, 5, 5)          0         \n",
      "_________________________________________________________________\n",
      "dropout_7 (Dropout)          (None, 64, 5, 5)          0         \n",
      "_________________________________________________________________\n",
      "flatten_5 (Flatten)          (None, 1600)              0         \n",
      "_________________________________________________________________\n",
      "dense_16 (Dense)             (None, 128)               204928    \n",
      "_________________________________________________________________\n",
      "dense_17 (Dense)             (None, 64)                8256      \n",
      "_________________________________________________________________\n",
      "dense_18 (Dense)             (None, 10)                650       \n",
      "=================================================================\n",
      "Total params: 290,954\n",
      "Trainable params: 290,954\n",
      "Non-trainable params: 0\n",
      "_________________________________________________________________\n",
      "None\n"
     ]
    }
   ],
   "source": [
    "cnn_scores2 = cnn_model12.evaluate(test_images_n28, test_labels, verbose=0)\n",
    "\n",
    "print(\"Model 5.2. CNN Scores: \" , (cnn_scores2))\n",
    "print(\"Model 5.2. CNN Error: %.2f%%\" % (100 - cnn_scores2[1]*100))\n",
    "print(cnn_model12.summary())"
   ]
  },
  {
   "cell_type": "code",
   "execution_count": 126,
   "metadata": {
    "collapsed": true
   },
   "outputs": [],
   "source": [
    "hide_code\n",
    "\n",
    "def cnn_model3():\n",
    "    model = Sequential()\n",
    "    \n",
    "    model.add(Conv2D(56, (7, 7), input_shape=(1, 28, 28), activation='relu'))\n",
    "    model.add(MaxPooling2D(pool_size=(2, 2)))\n",
    "    \n",
    "    model.add(Conv2D(28, (3, 3), activation='relu'))\n",
    "    model.add(MaxPooling2D(pool_size=(2, 2)))\n",
    "    \n",
    "    model.add(Dropout(0.1))\n",
    "    model.add(Flatten())\n",
    "    \n",
    "    model.add(Dense(128, activation='relu'))\n",
    "    model.add(Dense(64, activation='relu'))\n",
    "    \n",
    "    model.add(Dense(10, activation='softmax'))\n",
    "\n",
    "    model.compile(loss='categorical_crossentropy', optimizer='adam', metrics=['accuracy'])\n",
    "    return model"
   ]
  },
  {
   "cell_type": "code",
   "execution_count": 127,
   "metadata": {},
   "outputs": [
    {
     "name": "stdout",
     "output_type": "stream",
     "text": [
      "Train on 55000 samples, validate on 10000 samples\n",
      "Epoch 1/10\n",
      "55000/55000 [==============================] - 310s - loss: 0.2894 - acc: 0.9073 - val_loss: 0.0796 - val_acc: 0.9757\n",
      "Epoch 2/10\n",
      "55000/55000 [==============================] - 304s - loss: 0.0774 - acc: 0.9753 - val_loss: 0.0442 - val_acc: 0.9855\n",
      "Epoch 3/10\n",
      "55000/55000 [==============================] - 299s - loss: 0.0535 - acc: 0.9830 - val_loss: 0.0424 - val_acc: 0.9864\n",
      "Epoch 4/10\n",
      "55000/55000 [==============================] - 298s - loss: 0.0428 - acc: 0.9869 - val_loss: 0.0333 - val_acc: 0.9891\n",
      "Epoch 5/10\n",
      "55000/55000 [==============================] - 295s - loss: 0.0352 - acc: 0.9887 - val_loss: 0.0274 - val_acc: 0.9905\n",
      "Epoch 6/10\n",
      "55000/55000 [==============================] - 296s - loss: 0.0296 - acc: 0.9906 - val_loss: 0.0354 - val_acc: 0.9885\n",
      "Epoch 7/10\n",
      "55000/55000 [==============================] - 291s - loss: 0.0268 - acc: 0.9919 - val_loss: 0.0262 - val_acc: 0.9911\n",
      "Epoch 8/10\n",
      "55000/55000 [==============================] - 287s - loss: 0.0229 - acc: 0.9925 - val_loss: 0.0310 - val_acc: 0.9902\n",
      "Epoch 9/10\n",
      "55000/55000 [==============================] - 302s - loss: 0.0198 - acc: 0.9935 - val_loss: 0.0291 - val_acc: 0.9914\n",
      "Epoch 10/10\n",
      "55000/55000 [==============================] - 317s - loss: 0.0181 - acc: 0.9941 - val_loss: 0.0290 - val_acc: 0.9921\n"
     ]
    },
    {
     "data": {
      "text/plain": [
       "<keras.callbacks.History at 0x131377908>"
      ]
     },
     "execution_count": 127,
     "metadata": {},
     "output_type": "execute_result"
    }
   ],
   "source": [
    "hide_code\n",
    "\n",
    "cnn_model13 = cnn_model3()\n",
    "\n",
    "cnn_model13.fit(train_images_n28, train_labels, \n",
    "              validation_data=(test_images_n28, test_labels), \n",
    "              epochs=10, batch_size=128);"
   ]
  },
  {
   "cell_type": "code",
   "execution_count": 128,
   "metadata": {},
   "outputs": [
    {
     "name": "stdout",
     "output_type": "stream",
     "text": [
      "Model 5.3. CNN Scores:  [0.028982271286641118, 0.99209999999999998]\n",
      "Model 5.3. CNN Error: 0.79%\n",
      "_________________________________________________________________\n",
      "Layer (type)                 Output Shape              Param #   \n",
      "=================================================================\n",
      "conv2d_11 (Conv2D)           (None, 56, 22, 22)        2800      \n",
      "_________________________________________________________________\n",
      "max_pooling2d_11 (MaxPooling (None, 56, 11, 11)        0         \n",
      "_________________________________________________________________\n",
      "conv2d_12 (Conv2D)           (None, 28, 9, 9)          14140     \n",
      "_________________________________________________________________\n",
      "max_pooling2d_12 (MaxPooling (None, 28, 4, 4)          0         \n",
      "_________________________________________________________________\n",
      "dropout_10 (Dropout)         (None, 28, 4, 4)          0         \n",
      "_________________________________________________________________\n",
      "flatten_6 (Flatten)          (None, 448)               0         \n",
      "_________________________________________________________________\n",
      "dense_22 (Dense)             (None, 128)               57472     \n",
      "_________________________________________________________________\n",
      "dense_23 (Dense)             (None, 64)                8256      \n",
      "_________________________________________________________________\n",
      "dense_24 (Dense)             (None, 10)                650       \n",
      "=================================================================\n",
      "Total params: 83,318\n",
      "Trainable params: 83,318\n",
      "Non-trainable params: 0\n",
      "_________________________________________________________________\n",
      "None\n"
     ]
    }
   ],
   "source": [
    "cnn_scores3 = cnn_model13.evaluate(test_images_n28, test_labels, verbose=0)\n",
    "\n",
    "print(\"Model 5.3. CNN Scores: \" , (cnn_scores3))\n",
    "print(\"Model 5.3. CNN Error: %.2f%%\" % (100 - cnn_scores3[1]*100))\n",
    "print(cnn_model13.summary())"
   ]
  },
  {
   "cell_type": "markdown",
   "metadata": {},
   "source": [
    "#### Model #6. MLPClassifier. Scikit-learn"
   ]
  },
  {
   "cell_type": "code",
   "execution_count": 27,
   "metadata": {},
   "outputs": [
    {
     "name": "stdout",
     "output_type": "stream",
     "text": [
      "Iteration 1, loss = 0.60156824\n",
      "Iteration 2, loss = 0.27297370\n",
      "Iteration 3, loss = 0.20647665\n",
      "Iteration 4, loss = 0.17051029\n",
      "Iteration 5, loss = 0.14766734\n",
      "Iteration 6, loss = 0.13066736\n",
      "Iteration 7, loss = 0.11707463\n",
      "Iteration 8, loss = 0.10379596\n",
      "Iteration 9, loss = 0.09576563\n",
      "Iteration 10, loss = 0.08580545\n",
      "Iteration 11, loss = 0.07876979\n",
      "Iteration 12, loss = 0.07143936\n",
      "Iteration 13, loss = 0.06422787\n",
      "Iteration 14, loss = 0.05865670\n",
      "Iteration 15, loss = 0.05444742\n",
      "Iteration 16, loss = 0.05104569\n",
      "Iteration 17, loss = 0.04502452\n",
      "Iteration 18, loss = 0.04091311\n",
      "Iteration 19, loss = 0.03783826\n",
      "Iteration 20, loss = 0.03472363\n",
      "Iteration 21, loss = 0.03240190\n",
      "Iteration 22, loss = 0.02882075\n",
      "Iteration 23, loss = 0.02590460\n",
      "Iteration 24, loss = 0.02426535\n",
      "Iteration 25, loss = 0.02127423\n",
      "Iteration 26, loss = 0.01985075\n",
      "Iteration 27, loss = 0.01848932\n",
      "Iteration 28, loss = 0.01739222\n",
      "Iteration 29, loss = 0.01442560\n",
      "Iteration 30, loss = 0.01318563\n",
      "Iteration 31, loss = 0.01165906\n",
      "Iteration 32, loss = 0.01081314\n",
      "Iteration 33, loss = 0.01023427\n",
      "Iteration 34, loss = 0.00945244\n",
      "Iteration 35, loss = 0.00863456\n",
      "Iteration 36, loss = 0.00807347\n",
      "Iteration 37, loss = 0.00751514\n",
      "Iteration 38, loss = 0.00705181\n",
      "Iteration 39, loss = 0.00686093\n",
      "Iteration 40, loss = 0.00640312\n",
      "Iteration 41, loss = 0.00601985\n",
      "Iteration 42, loss = 0.00553678\n",
      "Iteration 43, loss = 0.00528085\n",
      "Iteration 44, loss = 0.00513325\n",
      "Iteration 45, loss = 0.00490632\n",
      "Iteration 46, loss = 0.00479794\n",
      "Iteration 47, loss = 0.00455585\n",
      "Iteration 48, loss = 0.00440715\n",
      "Iteration 49, loss = 0.00425342\n",
      "Iteration 50, loss = 0.00409615\n",
      "Iteration 51, loss = 0.00399118\n",
      "Iteration 52, loss = 0.00390171\n",
      "Iteration 53, loss = 0.00374273\n",
      "Iteration 54, loss = 0.00366609\n",
      "Iteration 55, loss = 0.00358211\n",
      "Iteration 56, loss = 0.00347165\n",
      "Iteration 57, loss = 0.00337382\n",
      "Iteration 58, loss = 0.00332926\n",
      "Iteration 59, loss = 0.00322446\n",
      "Iteration 60, loss = 0.00316987\n",
      "Iteration 61, loss = 0.00313216\n",
      "Iteration 62, loss = 0.00306905\n",
      "Training loss did not improve more than tol=0.000100 for two consecutive epochs. Stopping.\n"
     ]
    }
   ],
   "source": [
    "hide_code\n",
    "\n",
    "clf1 = MLPClassifier(hidden_layer_sizes=(100,), max_iter=70, alpha=1e-4,\n",
    "                    solver='sgd', verbose=10, tol=1e-4, random_state=1,\n",
    "                    learning_rate_init=.1)\n",
    "clf1.fit(train_images, train_labels);"
   ]
  },
  {
   "cell_type": "code",
   "execution_count": 30,
   "metadata": {},
   "outputs": [
    {
     "name": "stdout",
     "output_type": "stream",
     "text": [
      "MNIST. MLPClassifier. Train score: 1.000000\n",
      "MNIST. MLPClassifier. Test score: 0.955200\n"
     ]
    }
   ],
   "source": [
    "train_predict1 = clf1.predict(train_images)\n",
    "test_predict1 = clf1.predict(test_images)\n",
    "print(\"MNIST. MLPClassifier. Train score: %f\" % clf1.score(train_images, train_labels))\n",
    "print(\"MNIST. MLPClassifier. Test score: %f\" % clf1.score(test_images, test_labels))"
   ]
  },
  {
   "cell_type": "code",
   "execution_count": 68,
   "metadata": {},
   "outputs": [
    {
     "data": {
      "image/png": "[encoded data removed]",
      "text/plain": [
       "<matplotlib.figure.Figure at 0x1295d77b8>"
      ]
     },
     "metadata": {},
     "output_type": "display_data"
    }
   ],
   "source": [
    "hide_code\n",
    "\n",
    "# Visualization of MLPClassifier weights on MNIST\n",
    "fig, axes = plt.subplots(nrows=2, ncols=8, sharex=True, sharey=True, figsize=(18, 4.5))\n",
    "\n",
    "vmin, vmax = clf1.coefs_[0].min(), clf1.coefs_[0].max()\n",
    "for coef, ax in zip(clf1.coefs_[0].T, axes.ravel()):\n",
    "    ax.matshow(coef.reshape(28, 28), cmap=plt.cm.binary, vmin=0.6*vmin, vmax=0.6*vmax)\n",
    "    ax.set_xticks(())\n",
    "    ax.set_yticks(())"
   ]
  },
  {
   "cell_type": "code",
   "execution_count": 52,
   "metadata": {},
   "outputs": [
    {
     "name": "stdout",
     "output_type": "stream",
     "text": [
      "Iteration 1, loss = 0.56711763\n",
      "Iteration 2, loss = 0.24278367\n",
      "Iteration 3, loss = 0.19203708\n",
      "Iteration 4, loss = 0.15520479\n",
      "Iteration 5, loss = 0.13367705\n",
      "Iteration 6, loss = 0.11569477\n",
      "Iteration 7, loss = 0.10584244\n",
      "Iteration 8, loss = 0.09487140\n",
      "Iteration 9, loss = 0.09082862\n",
      "Iteration 10, loss = 0.08086343\n",
      "Iteration 11, loss = 0.06900338\n",
      "Iteration 12, loss = 0.06925387\n",
      "Iteration 13, loss = 0.06813594\n",
      "Iteration 14, loss = 0.06480021\n",
      "Iteration 15, loss = 0.06303774\n",
      "Iteration 16, loss = 0.04984380\n",
      "Iteration 17, loss = 0.05158701\n",
      "Iteration 18, loss = 0.06045313\n",
      "Iteration 19, loss = 0.05337105\n",
      "Training loss did not improve more than tol=0.000010 for two consecutive epochs. Stopping.\n"
     ]
    }
   ],
   "source": [
    "clf2 = MLPClassifier(hidden_layer_sizes=(150,), max_iter=20, alpha=1e-5,\n",
    "                    solver='adam', verbose=10, tol=1e-5, random_state=1,\n",
    "                    learning_rate_init=.01)\n",
    "clf2.fit(train_images, train_labels);"
   ]
  },
  {
   "cell_type": "code",
   "execution_count": 53,
   "metadata": {},
   "outputs": [
    {
     "name": "stdout",
     "output_type": "stream",
     "text": [
      "MNIST. MLPClassifier. Train score: 0.989327\n",
      "MNIST. MLPClassifier. Test score: 0.959100\n"
     ]
    }
   ],
   "source": [
    "train_predict2 = clf2.predict(train_images)\n",
    "test_predict2 = clf2.predict(test_images)\n",
    "print(\"MNIST. MLPClassifier. Train score: %f\" % clf2.score(train_images, train_labels))\n",
    "print(\"MNIST. MLPClassifier. Test score: %f\" % clf2.score(test_images, test_labels))"
   ]
  },
  {
   "cell_type": "code",
   "execution_count": 72,
   "metadata": {},
   "outputs": [
    {
     "data": {
      "image/png": "[encoded data removed]",
      "text/plain": [
       "<matplotlib.figure.Figure at 0x124276978>"
      ]
     },
     "metadata": {},
     "output_type": "display_data"
    }
   ],
   "source": [
    "hide_code\n",
    "\n",
    "# Visualization of MLPClassifier weights on MNIST\n",
    "fig, axes = plt.subplots(nrows=2, ncols=8, sharex=True, sharey=True, figsize=(18, 4.5))\n",
    "\n",
    "vmin, vmax = clf2.coefs_[0].min(), clf2.coefs_[0].max()\n",
    "for coef, ax in zip(clf2.coefs_[0].T, axes.ravel()):\n",
    "    ax.matshow(coef.reshape(28, 28), cmap=plt.cm.binary, vmin=0.6*vmin, vmax=0.6*vmax)\n",
    "    ax.set_xticks(())\n",
    "    ax.set_yticks(())"
   ]
  },
  {
   "cell_type": "markdown",
   "metadata": {
    "collapsed": true
   },
   "source": [
    "### Question 1\n",
    "_What approach did you take in coming up with a solution to this problem?_\n",
    "### Answer 1\n",
    "### Question 2\n",
    "_What does your final architecture look like? (Type of model, layers, sizes, connectivity, etc.)_\n",
    "### Answer 2\n",
    "### Question 3\n",
    "_How did you train your model? How did you generate your synthetic dataset?_ Include examples of images from the synthetic data you constructed.\n",
    "### Answer 3\n"
   ]
  },
  {
   "cell_type": "markdown",
   "metadata": {
    "collapsed": true
   },
   "source": [
    "----\n",
    "## $\\mathfrak {\\color{#348ABD} {Step \\ 2:\\ Train \\ a \\ Model \\ on \\ a \\ Realistic \\ Dataset}}$\n",
    "Once we have settled on a good architecture, we can train the model on real data. In particular, the [Street View House Numbers (SVHN)](http://ufldl.stanford.edu/housenumbers/) dataset is a good large-scale dataset collected from house numbers in Google Street View. Training on this more challenging dataset, where the digits are not neatly lined-up and have various skews, fonts and colors, likely means you have to do some hyperparameter exploration to perform well."
   ]
  },
  {
   "cell_type": "markdown",
   "metadata": {},
   "source": [
    "### Implementation\n",
    "Use the code cell (or multiple code cells, if necessary) to implement the first step of your project. Once you have completed your implementation and are satisfied with the results, be sure to thoroughly answer the questions that follow."
   ]
  },
  {
   "cell_type": "code",
   "execution_count": 26,
   "metadata": {},
   "outputs": [
    {
     "data": {
      "text/plain": [
       "''"
      ]
     },
     "execution_count": 26,
     "metadata": {},
     "output_type": "execute_result"
    }
   ],
   "source": [
    "hide_code\n",
    "# Model training"
   ]
  },
  {
   "cell_type": "code",
   "execution_count": null,
   "metadata": {
    "collapsed": true
   },
   "outputs": [],
   "source": []
  },
  {
   "cell_type": "code",
   "execution_count": null,
   "metadata": {
    "collapsed": true
   },
   "outputs": [],
   "source": []
  },
  {
   "cell_type": "code",
   "execution_count": null,
   "metadata": {
    "collapsed": true
   },
   "outputs": [],
   "source": []
  },
  {
   "cell_type": "markdown",
   "metadata": {
    "collapsed": true
   },
   "source": [
    "### Question 4\n",
    "_Describe how you set up the training and testing data for your model. How does the model perform on a realistic dataset?_\n",
    "### Answer 4\n",
    "\n",
    "### Question 5\n",
    "_What changes did you have to make, if any, to achieve \"good\" results? Were there any options you explored that made the results worse?_\n",
    "### Answer 5\n",
    "\n",
    "### Question 6\n",
    "_What were your initial and final results with testing on a realistic dataset? Do you believe your model is doing a good enough job at classifying numbers correctly?_\n",
    "### Answer 6"
   ]
  },
  {
   "cell_type": "markdown",
   "metadata": {
    "collapsed": true
   },
   "source": [
    "----\n",
    "## $\\mathfrak {\\color{#348ABD} {Step \\ 3: \\ Test \\ a \\ Model \\ on \\ Newly-Captured \\ Images}}$\n",
    "\n",
    "Take several pictures of numbers that you find around you (at least five), and run them through your classifier on your computer to produce example results. Alternatively (optionally), you can try using OpenCV / SimpleCV / Pygame to capture live images from a webcam and run those through your classifier."
   ]
  },
  {
   "cell_type": "code",
   "execution_count": 27,
   "metadata": {},
   "outputs": [
    {
     "data": {
      "text/plain": [
       "''"
      ]
     },
     "execution_count": 27,
     "metadata": {},
     "output_type": "execute_result"
    }
   ],
   "source": [
    "hide_code\n",
    "# Model testing"
   ]
  },
  {
   "cell_type": "code",
   "execution_count": null,
   "metadata": {
    "collapsed": true
   },
   "outputs": [],
   "source": []
  },
  {
   "cell_type": "code",
   "execution_count": null,
   "metadata": {
    "collapsed": true
   },
   "outputs": [],
   "source": []
  },
  {
   "cell_type": "markdown",
   "metadata": {},
   "source": [
    "### Question 7\n",
    "_Choose five candidate images of numbers you took from around you and provide them in the report. Are there any particular qualities of the image(s) that might make classification difficult?_\n",
    "\n",
    "### Answer 7"
   ]
  },
  {
   "cell_type": "markdown",
   "metadata": {},
   "source": [
    "### Question 8\n",
    "_Is your model able to perform equally well on captured pictures or a live camera stream when compared to testing on the realistic dataset?_\n",
    "\n",
    "### Answer 8"
   ]
  },
  {
   "cell_type": "markdown",
   "metadata": {},
   "source": [
    "### Optional: Question 9\n",
    "_If necessary, provide documentation for how an interface was built for your model to load and classify newly-acquired images._\n",
    "\n",
    "### Answer 9"
   ]
  },
  {
   "cell_type": "markdown",
   "metadata": {},
   "source": [
    "----\n",
    "## $\\mathfrak {\\color{#348ABD} {Step \\ 4: \\ Explore \\ an \\ Improvement \\ for \\ a \\ Model}}$\n",
    "\n",
    "There are many things you can do once you have the basic classifier in place. One example would be to also localize where the numbers are on the image. The SVHN dataset provides bounding boxes that you can tune to train a localizer. Train a regression loss to the coordinates of the bounding box, and then test it. "
   ]
  },
  {
   "cell_type": "code",
   "execution_count": null,
   "metadata": {
    "collapsed": true
   },
   "outputs": [],
   "source": [
    "hide_code\n",
    "# "
   ]
  },
  {
   "cell_type": "code",
   "execution_count": null,
   "metadata": {
    "collapsed": true
   },
   "outputs": [],
   "source": [
    "hide_code\n",
    "#\n"
   ]
  },
  {
   "cell_type": "code",
   "execution_count": null,
   "metadata": {
    "collapsed": true
   },
   "outputs": [],
   "source": []
  },
  {
   "cell_type": "markdown",
   "metadata": {},
   "source": [
    "### Question 10\n",
    "_How well does your model localize numbers on the testing set from the realistic dataset? Do your classification results change at all with localization included?_\n",
    "### Answer 10"
   ]
  },
  {
   "cell_type": "markdown",
   "metadata": {
    "collapsed": true
   },
   "source": [
    "### Question 11\n",
    "_Test the localization function on the images you captured in **Step 3**. Does the model accurately calculate a bounding box for the numbers in the images you found? If you did not use a graphical interface, you may need to investigate the bounding boxes by hand._ Provide an example of the localization created on a captured image.\n",
    "\n",
    "### Answer 11"
   ]
  },
  {
   "cell_type": "markdown",
   "metadata": {
    "collapsed": true
   },
   "source": [
    "----\n",
    "## $\\mathfrak {\\color{#348ABD} {Optional \\ Step \\ 5: \\ Build \\ an \\ Application \\ or \\ Program \\ for \\ a \\ Model}}$\n",
    "Take your project one step further. If you're interested, look to build an Android application or even a more robust Python program that can interface with input images and display the classified numbers and even the bounding boxes. You can for example try to build an augmented reality app by overlaying your answer on the image like the [Word Lens](https://en.wikipedia.org/wiki/Word_Lens) app does.\n",
    "\n",
    "Loading a TensorFlow model into a camera app on Android is demonstrated in the [TensorFlow Android demo app](https://github.com/tensorflow/tensorflow/tree/master/tensorflow/examples/android), which you can simply modify.\n",
    "\n",
    "If you decide to explore this optional route, be sure to document your interface and implementation, along with significant results you find. You can see the additional rubric items that you could be evaluated on by [following this link](https://review.udacity.com/#!/rubrics/413/view)."
   ]
  },
  {
   "cell_type": "code",
   "execution_count": null,
   "metadata": {
    "collapsed": true
   },
   "outputs": [],
   "source": []
  },
  {
   "cell_type": "code",
   "execution_count": null,
   "metadata": {
    "collapsed": true
   },
   "outputs": [],
   "source": []
  },
  {
   "cell_type": "code",
   "execution_count": null,
   "metadata": {
    "collapsed": true
   },
   "outputs": [],
   "source": []
  },
  {
   "cell_type": "markdown",
   "metadata": {},
   "source": [
    "### Documentation\n",
    "Provide additional documentation sufficient for detailing the implementation of the Android application or Python program for visualizing the classification of numbers in images. It should be clear how the program or application works. Demonstrations should be provided. "
   ]
  },
  {
   "cell_type": "code",
   "execution_count": null,
   "metadata": {
    "collapsed": true
   },
   "outputs": [],
   "source": []
  }
 ],
 "metadata": {
  "anaconda-cloud": {},
  "hide_input": false,
  "kernelspec": {
   "display_name": "Python [conda root]",
   "language": "python",
   "name": "conda-root-py"
  },
  "language_info": {
   "codemirror_mode": {
    "name": "ipython",
    "version": 3
   },
   "file_extension": ".py",
   "mimetype": "text/x-python",
   "name": "python",
   "nbconvert_exporter": "python",
   "pygments_lexer": "ipython3",
   "version": "3.5.2"
  },
  "latex_envs": {
   "bibliofile": "biblio.bib",
   "cite_by": "apalike",
   "current_citInitial": 1,
   "eqLabelWithNumbers": true,
   "eqNumInitial": 0
  }
 },
 "nbformat": 4,
 "nbformat_minor": 2
}
