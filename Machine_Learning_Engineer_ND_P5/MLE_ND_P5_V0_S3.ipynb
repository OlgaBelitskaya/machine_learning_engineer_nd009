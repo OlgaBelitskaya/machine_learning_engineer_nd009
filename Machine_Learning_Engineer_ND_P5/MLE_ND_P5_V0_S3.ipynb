{
 "cells": [
  {
   "cell_type": "markdown",
   "metadata": {},
   "source": [
    "# Machine Learning Engineer Nanodegree\n",
    "## Deep Learning\n",
    "# &#x1F4D1; &nbsp;  P5: Build a Digit Recognition Program. Step 3"
   ]
  },
  {
   "cell_type": "markdown",
   "metadata": {},
   "source": [
    "## Code Library and Links\n",
    "- [Multi-dimensional image processing](https://docs.scipy.org/doc/scipy/reference/ndimage.html)\n",
    "- [Keras: Deep Learning library for Theano and TensorFlow](https://keras.io/) \n",
    "- [Deep MNIST for Experts](https://www.tensorflow.org/get_started/mnist/pros)\n",
    "- [Tensorflow Deep MNIST Advanced Tutorial](http://docs.seldon.io/tensorflow-deep-mnist-example.html)\n",
    "- [Handwritten Digit Recognition using Convolutional Neural Networks in Python with Keras](http://machinelearningmastery.com/handwritten-digit-recognition-using-convolutional-neural-networks-python-keras/)"
   ]
  },
  {
   "cell_type": "code",
   "execution_count": 1,
   "metadata": {},
   "outputs": [
    {
     "data": {
      "text/html": [
       "<style>\n",
       "@import url('https://fonts.googleapis.com/css?family=Orbitron|Roboto');\n",
       "body {background-color: #b8e2fc;} \n",
       "a {color: royalblue; font-family: 'Roboto';} \n",
       "h1 {color: #191970; font-family: 'Orbitron'; text-shadow: 4px 4px 4px #ccc;} \n",
       "h2, h3 {color: slategray; font-family: 'Orbitron'; text-shadow: 4px 4px 4px #ccc;}\n",
       "h4 {color: royalblue; font-family: 'Roboto';}\n",
       "span {text-shadow: 4px 4px 4px #ccc;}\n",
       "div.output_prompt, div.output_area pre {color: slategray;}\n",
       "div.input_prompt, div.output_subarea {color: #191970;}      \n",
       "div.output_stderr pre {background-color: #b8e2fc;}  \n",
       "div.output_stderr {background-color: slategrey;}                        \n",
       "</style>\n",
       "<script>\n",
       "code_show = true; \n",
       "function code_display() {\n",
       "    if (code_show) {\n",
       "        $('div.input').each(function(id) {\n",
       "            if (id == 0 || $(this).html().indexOf('hide_code') > -1) {$(this).hide();}\n",
       "        });\n",
       "        $('div.output_prompt').css('opacity', 0);\n",
       "    } else {\n",
       "        $('div.input').each(function(id) {$(this).show();});\n",
       "        $('div.output_prompt').css('opacity', 1);\n",
       "    };\n",
       "    code_show = !code_show;\n",
       "} \n",
       "$(document).ready(code_display);\n",
       "</script>\n",
       "<form action=\"javascript: code_display()\">\n",
       "<input style=\"color: #191970; background: #b8e2fc; opacity: 0.8;\" \\ \n",
       "type=\"submit\" value=\"Click to display or hide code cells\">\n",
       "</form>      "
      ],
      "text/plain": [
       "<IPython.core.display.HTML object>"
      ]
     },
     "metadata": {},
     "output_type": "display_data"
    }
   ],
   "source": [
    "%%html\n",
    "<style>\n",
    "@import url('https://fonts.googleapis.com/css?family=Orbitron|Roboto');\n",
    "body {background-color: #b8e2fc;} \n",
    "a {color: royalblue; font-family: 'Roboto';} \n",
    "h1 {color: #191970; font-family: 'Orbitron'; text-shadow: 4px 4px 4px #ccc;} \n",
    "h2, h3 {color: slategray; font-family: 'Orbitron'; text-shadow: 4px 4px 4px #ccc;}\n",
    "h4 {color: royalblue; font-family: 'Roboto';}\n",
    "span {text-shadow: 4px 4px 4px #ccc;}\n",
    "div.output_prompt, div.output_area pre {color: slategray;}\n",
    "div.input_prompt, div.output_subarea {color: #191970;}      \n",
    "div.output_stderr pre {background-color: #b8e2fc;}  \n",
    "div.output_stderr {background-color: slategrey;}                        \n",
    "</style>\n",
    "<script>\n",
    "code_show = true; \n",
    "function code_display() {\n",
    "    if (code_show) {\n",
    "        $('div.input').each(function(id) {\n",
    "            if (id == 0 || $(this).html().indexOf('hide_code') > -1) {$(this).hide();}\n",
    "        });\n",
    "        $('div.output_prompt').css('opacity', 0);\n",
    "    } else {\n",
    "        $('div.input').each(function(id) {$(this).show();});\n",
    "        $('div.output_prompt').css('opacity', 1);\n",
    "    };\n",
    "    code_show = !code_show;\n",
    "} \n",
    "$(document).ready(code_display);\n",
    "</script>\n",
    "<form action=\"javascript: code_display()\">\n",
    "<input style=\"color: #191970; background: #b8e2fc; opacity: 0.8;\" \\ \n",
    "type=\"submit\" value=\"Click to display or hide code cells\">\n",
    "</form>      "
   ]
  },
  {
   "cell_type": "code",
   "execution_count": 378,
   "metadata": {},
   "outputs": [],
   "source": [
    "hide_code = ''\n",
    "import numpy as np\n",
    "import pandas as pd\n",
    "\n",
    "import cv2\n",
    "\n",
    "import scipy as sp\n",
    "import scipy.ndimage\n",
    "import scipy.misc\n",
    "from scipy.special import expit\n",
    "\n",
    "import random\n",
    "from time import time\n",
    "\n",
    "import os\n",
    "import sys\n",
    "\n",
    "import h5py\n",
    "import tarfile\n",
    "\n",
    "from six.moves.urllib.request import urlretrieve\n",
    "from six.moves import cPickle as pickle\n",
    "\n",
    "import tensorflow as tf\n",
    "import tensorflow.examples.tutorials.mnist as mnist\n",
    "\n",
    "from skimage.feature import hog\n",
    "from sklearn.externals import joblib\n",
    "from sklearn.neural_network import MLPClassifier, BernoulliRBM\n",
    "from sklearn import linear_model, datasets, metrics\n",
    "from sklearn.pipeline import Pipeline\n",
    "from sklearn import manifold, decomposition, ensemble\n",
    "from sklearn import discriminant_analysis, random_projection\n",
    "from sklearn.model_selection import train_test_split\n",
    "\n",
    "import keras as ks\n",
    "from keras.models import Sequential, load_model, Model\n",
    "from keras.preprocessing import sequence\n",
    "from keras.optimizers import SGD, RMSprop\n",
    "from keras.layers import Dense, Dropout, LSTM\n",
    "from keras.layers import Activation, Flatten, Input, BatchNormalization\n",
    "from keras.layers import Conv1D, MaxPooling1D, Conv2D, MaxPooling2D, GlobalAveragePooling2D\n",
    "from keras.layers.embeddings import Embedding\n",
    "from keras.callbacks import ModelCheckpoint\n",
    "\n",
    "from IPython.display import display, Image, IFrame\n",
    "import matplotlib.pylab as plt\n",
    "import matplotlib.cm as cm\n",
    "from matplotlib import offsetbox\n",
    "%matplotlib inline\n",
    "\n",
    "import warnings\n",
    "warnings.filterwarnings('ignore')"
   ]
  },
  {
   "cell_type": "code",
   "execution_count": 3,
   "metadata": {
    "collapsed": true
   },
   "outputs": [],
   "source": [
    "hide_code\n",
    "def fivedigit_label(label):\n",
    "    size = len(label)\n",
    "    if size >= 5:\n",
    "        return label\n",
    "    else:\n",
    "        num_zeros = np.full((5-size), 10)\n",
    "        return np.array(np.concatenate((num_zeros, label), axis = 0))\n",
    "    \n",
    "def get_filenames(folder):\n",
    "    image_path = os.path.join(folder)\n",
    "    return np.array([f for f in os.listdir(image_path) if f.endswith('.png')])\n",
    "\n",
    "def get_image(folder, image_file):\n",
    "    filename=os.path.join(folder, image_file)\n",
    "    image = scipy.ndimage.imread(filename, mode='RGB')\n",
    "    \n",
    "    if folder == 'new':\n",
    "        n = np.where(new_filenames == image_file)[0]\n",
    "        label = new_labels[n]\n",
    "        \n",
    "    image64_1 = scipy.misc.imresize(image, (32, 32, 3))/255\n",
    "    image64_2 = np.dot(np.array(image64_1, dtype='float32'), [0.299, 0.587, 0.114])\n",
    "    \n",
    "    return image64_1, image64_2, label\n",
    "\n",
    "def digit_to_categorical(data):\n",
    "    n = data.shape[1]\n",
    "    data_cat = np.empty([len(data), n, 11])\n",
    "    \n",
    "    for i in range(n):\n",
    "        data_cat[:, i] = ks.utils.to_categorical(data[:, i], num_classes=11)\n",
    "        \n",
    "    return data_cat"
   ]
  },
  {
   "cell_type": "code",
   "execution_count": 307,
   "metadata": {
    "collapsed": true
   },
   "outputs": [],
   "source": [
    "hide_code\n",
    "def get_image2(folder, image_file, boxes):\n",
    "    filename=os.path.join(folder, image_file)\n",
    "    image = scipy.ndimage.imread(filename, mode='RGB')\n",
    "    box = boxes.loc[image_file]\n",
    "    image = image[box[0]:box[1], box[2]:box[3]]\n",
    "    \n",
    "    if folder == 'new':\n",
    "        n = np.where(new_filenames == image_file)[0]\n",
    "        label = new_labels[n]\n",
    "        \n",
    "    image32_1 = scipy.misc.imresize(image, (32, 32, 3))/255\n",
    "    image32_2 = np.dot(np.array(image32_1, dtype='float32'), [0.299, 0.587, 0.114])\n",
    "    \n",
    "    return image32_1, image32_2, label\n",
    "\n",
    "def get_image3(folder, image_file, boxes):\n",
    "    filename=os.path.join(folder, image_file)\n",
    "    image = cv2.imread(filename)\n",
    "    box = boxes.loc[image_file]\n",
    "    image = image[box[0]:box[1], box[2]:box[3]]\n",
    "    image_gray = cv2.cvtColor(image, cv2.COLOR_BGR2GRAY)\n",
    "#    image_hist = cv2.equalizeHist(image_gray)\n",
    "    image_r = cv2.resize(image_gray,(32, 32), interpolation = cv2.INTER_CUBIC)\n",
    "    \n",
    "    if folder == 'new':\n",
    "        n = np.where(new_filenames == image_file)[0]\n",
    "        label = new_labels[n]\n",
    "    \n",
    "    return image_r, label\n",
    "\n",
    "def get_image4(folder, image_file):\n",
    "    filename = os.path.join(folder, image_file)\n",
    "    img = cv2.cvtColor(cv2.imread(filename), cv2.COLOR_BGR2RGB)\n",
    "    \n",
    "    img = cv2.GaussianBlur(img, (7, 7), -1)[3:-3, 3:-3]    \n",
    "    img_gray = cv2.cvtColor(img, cv2.COLOR_BGR2GRAY)    \n",
    "    edges = cv2.Canny(img_gray, 100, 200)\n",
    "#    img[edges!=0] = (255, 255, 255)\n",
    "#    img_gray = cv2.cvtColor(img, cv2.COLOR_BGR2GRAY)\n",
    "    \n",
    "    rectangle = cv2.boundingRect(edges)    \n",
    "    n1, n2, n3, n4 = rectangle[1], rectangle[1]+rectangle[3], rectangle[0], rectangle[0]+rectangle[2]\n",
    "    if (n2 == 0): n2 = img.shape[0]\n",
    "    if (n4 == 0): n4 = img.shape[1]\n",
    "    image_box = img_gray[n1:n2, n3:n4]\n",
    "    \n",
    "    image_resize = cv2.resize(image_box, (32, 32), interpolation = cv2.INTER_CUBIC)\n",
    "    return image_resize"
   ]
  },
  {
   "cell_type": "markdown",
   "metadata": {},
   "source": [
    "## Experimental Datasets"
   ]
  },
  {
   "cell_type": "markdown",
   "metadata": {},
   "source": [
    "### Dataset #6. Newly-Captured Images\n",
    "####  &nbsp;\n",
    "<div style=\"width: 230px; height: 230px; overflow:auto;\">\n",
    "    <img src=\"new/1.png\" width=\"200\" height=\"200\"/>\n",
    "    <img src=\"new/10.png\" width=\"200\" height=\"200\"/>\n",
    "    <img src=\"new/11.png\" width=\"200\" height=\"200\"/>\n",
    "\t<img src=\"new/12.png\" width=\"200\" height=\"200\"/>\n",
    "\t<img src=\"new/13.png\" width=\"200\" height=\"200\"/>\n",
    "\t<img src=\"new/14.png\" width=\"200\" height=\"200\"/>\n",
    "\t<img src=\"new/15.png\" width=\"200\" height=\"200\"/>\n",
    "\t<img src=\"new/16.png\" width=\"200\" height=\"200\"/>\n",
    "\t<img src=\"new/17.png\" width=\"200\" height=\"200\"/>\n",
    "\t<img src=\"new/18.png\" width=\"200\" height=\"200\"/>\n",
    "\t<img src=\"new/19.png\" width=\"200\" height=\"200\"/>    \n",
    "\t<img src=\"new/2.png\" width=\"200\" height=\"200\"/>\n",
    "    <img src=\"new/20.png\" width=\"200\" height=\"200\"/>\n",
    "    <img src=\"new/21.png\" width=\"200\" height=\"200\"/> \n",
    "    <img src=\"new/22.png\" width=\"200\" height=\"200\"/>\n",
    "    <img src=\"new/23.png\" width=\"200\" height=\"200\"/>\n",
    "    <img src=\"new/24.png\" width=\"200\" height=\"200\"/>\n",
    "    <img src=\"new/25.png\" width=\"200\" height=\"200\"/>\n",
    "    <img src=\"new/26.png\" width=\"200\" height=\"200\"/> \n",
    "    <img src=\"new/27.png\" width=\"200\" height=\"200\"/>\n",
    "    <img src=\"new/28.png\" width=\"200\" height=\"200\"/>\n",
    "    <img src=\"new/29.png\" width=\"200\" height=\"200\"/>        \n",
    "\t<img src=\"new/3.png\" width=\"200\" height=\"200\"/>\n",
    "\t<img src=\"new/30.png\" width=\"200\" height=\"200\"/>    \n",
    "\t<img src=\"new/4.png\" width=\"200\" height=\"200\"/>\n",
    "\t<img src=\"new/5.png\" width=\"200\" height=\"200\"/>\n",
    "\t<img src=\"new/6.png\" width=\"200\" height=\"200\"/>\n",
    "\t<img src=\"new/7.png\" width=\"200\" height=\"200\"/>\n",
    "\t<img src=\"new/8.png\" width=\"200\" height=\"200\"/>\n",
    "\t<img src=\"new/9.png\" width=\"200\" height=\"200\"/>\n",
    "</div>"
   ]
  },
  {
   "cell_type": "code",
   "execution_count": 258,
   "metadata": {},
   "outputs": [
    {
     "name": "stdout",
     "output_type": "stream",
     "text": [
      "New files list:\n",
      " ['1.png' '10.png' '11.png' '12.png' '13.png' '14.png' '15.png' '16.png'\n",
      " '17.png' '18.png' '19.png' '2.png' '20.png' '21.png' '22.png' '23.png'\n",
      " '24.png' '25.png' '26.png' '27.png' '28.png' '29.png' '3.png' '30.png'\n",
      " '4.png' '5.png' '6.png' '7.png' '8.png' '9.png']\n",
      "New labels: \n",
      " [[10 10 10 10  8]\n",
      " [10 10  5  6  3]\n",
      " [10 10 10  5  7]\n",
      " [10 10 10 10  6]\n",
      " [10 10  6  1  1]\n",
      " [10 10 10 10  8]\n",
      " [10 10 10  5  9]\n",
      " [10 10  1  0  1]\n",
      " [10  1  0  0  0]\n",
      " [10  1  9  1  3]\n",
      " [10 10 10 10  4]\n",
      " [10 10 10 10  1]\n",
      " [10 10  3  4  4]\n",
      " [10  2  4  4  8]\n",
      " [10 10 10  1  5]\n",
      " [10 10 10 10  7]\n",
      " [10  7  8  2  2]\n",
      " [10 10  6  4  8]\n",
      " [10 10 10 10  2]\n",
      " [10 10 10  3  0]\n",
      " [10 10 10 10  3]\n",
      " [10 10 10  4  3]\n",
      " [10  2  0  1  0]\n",
      " [10 10  7  8  3]\n",
      " [10  1  0  1  1]\n",
      " [10 10 10 10  7]\n",
      " [10 10 10  1  0]\n",
      " [10 10 10 10  2]\n",
      " [10 10 10 10  9]\n",
      " [10 10 10 10  8]]\n"
     ]
    }
   ],
   "source": [
    "hide_code\n",
    "new_filenames = get_filenames('new')\n",
    "print('New files list:\\n', new_filenames)\n",
    "\n",
    "new_labels = [[8], [5, 6, 3], [5, 7], [6], [6, 1, 1],\n",
    "              [8], [5, 9], [1, 0, 1], [1, 0, 0, 0], [1, 9, 1, 3], \n",
    "              [4], [1], [3, 4, 4], [2, 4, 4, 8], [1, 5], \n",
    "              [7], [7, 8, 2, 2], [6, 4, 8], [2], [3, 0],              \n",
    "              [3], [4, 3], [2, 0, 1, 0], [7, 8, 3], [1, 0, 1, 1], \n",
    "              [7], [1, 0], [2], [9], [8]]\n",
    "new_labels = np.array([fivedigit_label(new_labels[i]) for i in range(len(new_labels))])\n",
    "print('New labels: \\n',new_labels)"
   ]
  },
  {
   "cell_type": "code",
   "execution_count": 259,
   "metadata": {},
   "outputs": [
    {
     "name": "stdout",
     "output_type": "stream",
     "text": [
      "Image size:  (32, 32, 3)\n",
      "Image label:  [[10 10  7  8  3]]\n",
      "\n",
      "Example of image preprocessing\n"
     ]
    },
    {
     "data": {
      "image/png": "[encoded data removed]",
      "text/plain": [
       "<matplotlib.figure.Figure at 0x127619e80>"
      ]
     },
     "metadata": {},
     "output_type": "display_data"
    }
   ],
   "source": [
    "hide_code\n",
    "image_example = get_image('new', '30.png')\n",
    "\n",
    "print(\"Image size: \", image_example[0].shape)\n",
    "print(\"Image label: \", image_example[2])\n",
    "print('\\nExample of image preprocessing')\n",
    "plt.imshow(image_example[1], cmap=cm.Blues);"
   ]
  },
  {
   "cell_type": "code",
   "execution_count": 260,
   "metadata": {},
   "outputs": [],
   "source": [
    "hide_code\n",
    "new_images1 = np.array([get_image('new', x)[0] for x in new_filenames])\n",
    "new_images2 = np.array([get_image('new', x)[1] for x in new_filenames])"
   ]
  },
  {
   "cell_type": "markdown",
   "metadata": {},
   "source": [
    "#### The '.pickle' file"
   ]
  },
  {
   "cell_type": "code",
   "execution_count": 261,
   "metadata": {},
   "outputs": [
    {
     "name": "stdout",
     "output_type": "stream",
     "text": [
      "Compressed pickle size: 985369\n"
     ]
    }
   ],
   "source": [
    "hide_code\n",
    "pickle_file = 'new_digits.pickle'\n",
    "\n",
    "try:\n",
    "    f = open(pickle_file, 'wb')\n",
    "    save = {'new_images1': new_images1, 'new_images2': new_images2,\n",
    "            'new_labels': new_labels, 'new_filenames': new_filenames}\n",
    "    pickle.dump(save, f, pickle.HIGHEST_PROTOCOL)\n",
    "    f.close()\n",
    "except Exception as e:\n",
    "    print('Unable to save data to', pickle_file, ':', e)\n",
    "    raise\n",
    "    \n",
    "statinfo = os.stat(pickle_file)\n",
    "print('Compressed pickle size:', statinfo.st_size)"
   ]
  },
  {
   "cell_type": "code",
   "execution_count": 262,
   "metadata": {},
   "outputs": [
    {
     "name": "stdout",
     "output_type": "stream",
     "text": [
      "Number of new images:  30\n"
     ]
    }
   ],
   "source": [
    "hide_code\n",
    "pickle_file = 'new_digits.pickle'\n",
    "\n",
    "with open(pickle_file, 'rb') as f:\n",
    "    save = pickle.load(f)\n",
    "    new_images1 = save['new_images1']\n",
    "    new_images2 = save['new_images2']\n",
    "    new_labels = save['new_labels']\n",
    "    new_filenames = save['new_filenames']\n",
    "    del save\n",
    "    \n",
    "print('Number of new images: ', len(new_images1))\n"
   ]
  },
  {
   "cell_type": "code",
   "execution_count": 263,
   "metadata": {},
   "outputs": [
    {
     "name": "stdout",
     "output_type": "stream",
     "text": [
      "The sixth dataset\n",
      "Shape of the features - (30, 32, 32), shape of the target - (30, 5, 11)\n"
     ]
    }
   ],
   "source": [
    "hide_code\n",
    "new_labels_cat = digit_to_categorical(new_labels)\n",
    "print('The sixth dataset')\n",
    "print(\"Shape of the features - {}, shape of the target - {}\".\\\n",
    "      format(new_images2.shape, new_labels_cat.shape))"
   ]
  },
  {
   "cell_type": "code",
   "execution_count": 264,
   "metadata": {
    "collapsed": true
   },
   "outputs": [],
   "source": [
    "hide_code\n",
    "X_new = new_images2.reshape(30, 32, 32, 1)\n",
    "y_new_cat_list = [new_labels_cat[:, i] for i in range(5)]"
   ]
  },
  {
   "cell_type": "code",
   "execution_count": 265,
   "metadata": {},
   "outputs": [
    {
     "name": "stdout",
     "output_type": "stream",
     "text": [
      "File:  30.png\n",
      "Label:  [10 10  7  8  3]\n",
      "Categorical label: \n",
      " [[ 0.  0.  0.  0.  0.  0.  0.  0.  0.  0.  1.]\n",
      " [ 0.  0.  0.  0.  0.  0.  0.  0.  0.  0.  1.]\n",
      " [ 0.  0.  0.  0.  0.  0.  0.  1.  0.  0.  0.]\n",
      " [ 0.  0.  0.  0.  0.  0.  0.  0.  1.  0.  0.]\n",
      " [ 0.  0.  0.  1.  0.  0.  0.  0.  0.  0.  0.]]\n",
      "\n",
      "Example of loaded images\n"
     ]
    },
    {
     "data": {
      "image/png": "[encoded data removed]",
      "text/plain": [
       "<matplotlib.figure.Figure at 0x127856eb8>"
      ]
     },
     "metadata": {},
     "output_type": "display_data"
    }
   ],
   "source": [
    "hide_code\n",
    "print ('File: ', new_filenames[23])\n",
    "print ('Label: ', new_labels[23])\n",
    "print ('Categorical label: \\n', new_labels_cat[23])\n",
    "print('\\nExample of loaded images')\n",
    "plt.imshow(new_images2[23], cmap=plt.cm.Blues);"
   ]
  },
  {
   "cell_type": "markdown",
   "metadata": {},
   "source": [
    "#### The image boxes"
   ]
  },
  {
   "cell_type": "code",
   "execution_count": 267,
   "metadata": {},
   "outputs": [
    {
     "data": {
      "text/html": [
       "<div>\n",
       "<style>\n",
       "    .dataframe thead tr:only-child th {\n",
       "        text-align: right;\n",
       "    }\n",
       "\n",
       "    .dataframe thead th {\n",
       "        text-align: left;\n",
       "    }\n",
       "\n",
       "    .dataframe tbody tr th {\n",
       "        vertical-align: top;\n",
       "    }\n",
       "</style>\n",
       "<table border=\"1\" class=\"dataframe\">\n",
       "  <thead>\n",
       "    <tr style=\"text-align: right;\">\n",
       "      <th></th>\n",
       "      <th>0</th>\n",
       "      <th>1</th>\n",
       "      <th>2</th>\n",
       "      <th>3</th>\n",
       "    </tr>\n",
       "  </thead>\n",
       "  <tbody>\n",
       "    <tr>\n",
       "      <th>1.png</th>\n",
       "      <td>10</td>\n",
       "      <td>120</td>\n",
       "      <td>15</td>\n",
       "      <td>100</td>\n",
       "    </tr>\n",
       "    <tr>\n",
       "      <th>10.png</th>\n",
       "      <td>20</td>\n",
       "      <td>55</td>\n",
       "      <td>0</td>\n",
       "      <td>120</td>\n",
       "    </tr>\n",
       "    <tr>\n",
       "      <th>11.png</th>\n",
       "      <td>5</td>\n",
       "      <td>90</td>\n",
       "      <td>15</td>\n",
       "      <td>140</td>\n",
       "    </tr>\n",
       "    <tr>\n",
       "      <th>12.png</th>\n",
       "      <td>100</td>\n",
       "      <td>500</td>\n",
       "      <td>200</td>\n",
       "      <td>500</td>\n",
       "    </tr>\n",
       "    <tr>\n",
       "      <th>13.png</th>\n",
       "      <td>20</td>\n",
       "      <td>100</td>\n",
       "      <td>30</td>\n",
       "      <td>160</td>\n",
       "    </tr>\n",
       "    <tr>\n",
       "      <th>14.png</th>\n",
       "      <td>5</td>\n",
       "      <td>220</td>\n",
       "      <td>70</td>\n",
       "      <td>250</td>\n",
       "    </tr>\n",
       "    <tr>\n",
       "      <th>15.png</th>\n",
       "      <td>10</td>\n",
       "      <td>180</td>\n",
       "      <td>20</td>\n",
       "      <td>130</td>\n",
       "    </tr>\n",
       "  </tbody>\n",
       "</table>\n",
       "</div>"
      ],
      "text/plain": [
       "          0    1    2    3\n",
       "1.png    10  120   15  100\n",
       "10.png   20   55    0  120\n",
       "11.png    5   90   15  140\n",
       "12.png  100  500  200  500\n",
       "13.png   20  100   30  160\n",
       "14.png    5  220   70  250\n",
       "15.png   10  180   20  130"
      ]
     },
     "execution_count": 267,
     "metadata": {},
     "output_type": "execute_result"
    }
   ],
   "source": [
    "hide_code\n",
    "boxes = np.array([[10, 120, 15, 100], [20, 55, 0, 120], [5, 90, 15, 140], [100, 500, 200, 500], [20, 100, 30, 160],\n",
    "                 [5, 220, 70, 250], [10, 180, 20, 130], [5, 100, 15, 110], [10, 120, 10, 220], [150, 400, 10, 480],\n",
    "                 [30, 150, 0, 100], [70, 220, 80, 210], [130, 250, 80, 300], [10, 60, 5, 155], [40, 80, 60, 110],\n",
    "                 [0, 120, 0, 100], [40, 90, 10, 170], [40, 80, 30, 130], [30, 180, 20, 140], [70, 120, 40, 90],\n",
    "                 [10, 140, 20, 90], [20, 120, 0, 130], [20, 140, 10, 290], [60, 120, 10, 110], [10, 140, 10, 340],\n",
    "                 [20, 150, 20, 130], [10, 170, 20, 190], [10, 230, 20, 170], [10, 240, 200, 400], [10, 140, 20, 150]])\n",
    "\n",
    "new_boxes = pd.DataFrame(data=boxes, index = new_filenames)\n",
    "new_boxes.head(7)"
   ]
  },
  {
   "cell_type": "code",
   "execution_count": 268,
   "metadata": {
    "collapsed": true
   },
   "outputs": [],
   "source": [
    "hide_code\n",
    "new_images1_2 = np.array([get_image2('new', x, new_boxes)[0] for x in new_filenames])\n",
    "new_images2_2 = np.array([get_image2('new', x, new_boxes)[1] for x in new_filenames])\n",
    "\n",
    "X_new2 = new_images2_2.reshape(30, 32, 32, 1)"
   ]
  },
  {
   "cell_type": "code",
   "execution_count": 271,
   "metadata": {},
   "outputs": [
    {
     "name": "stdout",
     "output_type": "stream",
     "text": [
      "File:  10.png\n",
      "Label:  [10 10  5  6  3]\n",
      "Categorical label: \n",
      " [[ 0.  0.  0.  0.  0.  0.  0.  0.  0.  0.  1.]\n",
      " [ 0.  0.  0.  0.  0.  0.  0.  0.  0.  0.  1.]\n",
      " [ 0.  0.  0.  0.  0.  1.  0.  0.  0.  0.  0.]\n",
      " [ 0.  0.  0.  0.  0.  0.  1.  0.  0.  0.  0.]\n",
      " [ 0.  0.  0.  1.  0.  0.  0.  0.  0.  0.  0.]]\n",
      "\n",
      "Example of loaded images\n"
     ]
    },
    {
     "data": {
      "image/png": "[encoded data removed]",
      "text/plain": [
       "<matplotlib.figure.Figure at 0x1274c4ac8>"
      ]
     },
     "metadata": {},
     "output_type": "display_data"
    }
   ],
   "source": [
    "hide_code\n",
    "print ('File: ', new_filenames[1])\n",
    "print ('Label: ', new_labels[1])\n",
    "print ('Categorical label: \\n', new_labels_cat[1])\n",
    "print('\\nExample of loaded images')\n",
    "plt.imshow(new_images2_2[1], cmap=plt.cm.Blues);"
   ]
  },
  {
   "cell_type": "markdown",
   "metadata": {},
   "source": [
    "#### With image boxes. OpenCV"
   ]
  },
  {
   "cell_type": "code",
   "execution_count": 348,
   "metadata": {},
   "outputs": [],
   "source": [
    "hide_code\n",
    "new_images2_3 = np.array([get_image3('new', x, new_boxes)[0] for x in new_filenames])\n",
    "X_new3 = new_images2_3.reshape(30, 32, 32, 1)/255\n",
    "\n",
    "new_images2_4 = np.array([get_image4('new', x) for x in new_filenames])\n",
    "X_new4 = new_images2_4.reshape(30, 32, 32, 1)/255"
   ]
  },
  {
   "cell_type": "markdown",
   "metadata": {
    "collapsed": true
   },
   "source": [
    "## Step 3: Test a Model on Newly-Captured Images\n",
    "\n",
    "Take several pictures of numbers that you find around you (at least five), and run them through your classifier on your computer to produce example results. Alternatively (optionally), you can try using OpenCV / SimpleCV / Pygame to capture live images from a webcam and run those through your classifier.\n",
    "\n",
    "#### Load models"
   ]
  },
  {
   "cell_type": "code",
   "execution_count": 278,
   "metadata": {},
   "outputs": [],
   "source": [
    "hide_code\n",
    "cnn_model = load_model('cnn_model.h5')\n",
    "cnn_model2 = load_model('cnn_model2.h5')"
   ]
  },
  {
   "cell_type": "markdown",
   "metadata": {},
   "source": [
    "#### Predictions without boxes"
   ]
  },
  {
   "cell_type": "code",
   "execution_count": 279,
   "metadata": {},
   "outputs": [
    {
     "name": "stdout",
     "output_type": "stream",
     "text": [
      "CNN Model 1. Predictions: \n",
      "[[10 10 10 10  8]\n",
      " [10 10 10 10  2]\n",
      " [10 10 10  5  7]\n",
      " [10 10 10 10  6]\n",
      " [10 10  1  4  1]\n",
      " [10 10 10 10  6]\n",
      " [10 10 10  5  9]\n",
      " [10 10  1  0  1]\n",
      " [10  1  0  0  0]\n",
      " [10  1  9  1  3]\n",
      " [10 10 10  4  1]\n",
      " [10 10 10 10  1]\n",
      " [10 10  2  2  1]\n",
      " [10 10 10  4  4]\n",
      " [10 10 10 10  4]\n",
      " [10 10 10  7  2]\n",
      " [10 10 10  1  5]\n",
      " [10 10  1  0  4]\n",
      " [10 10 10 10  2]\n",
      " [10 10 10 10  0]\n",
      " [10 10 10 10  3]\n",
      " [10 10  4  4  3]\n",
      " [10  2  0  0  0]\n",
      " [10 10 10  2  5]\n",
      " [10  1  0  3  1]\n",
      " [10 10 10 10  7]\n",
      " [10 10 10  1  0]\n",
      " [10 10 10 10  2]\n",
      " [10 10 10  9  9]\n",
      " [10 10 10 10  8]]\n"
     ]
    }
   ],
   "source": [
    "hide_code\n",
    "y_new_predict = cnn_model.predict(X_new)\n",
    "\n",
    "y_predict = []\n",
    "for i in range(30):\n",
    "    for j in range(5):\n",
    "        y_predict.append(np.argmax(y_new_predict[j][i]))\n",
    "y_predict = np.array(y_predict).reshape(30,5)\n",
    "print('CNN Model 1. Predictions: ')\n",
    "print(y_predict)"
   ]
  },
  {
   "cell_type": "code",
   "execution_count": 280,
   "metadata": {},
   "outputs": [
    {
     "name": "stdout",
     "output_type": "stream",
     "text": [
      "CNN Model 2. Predictions: \n",
      "[[10 10 10 10  8]\n",
      " [10 10 10  2  2]\n",
      " [10 10 10  5  7]\n",
      " [10 10 10  1  6]\n",
      " [10  1  1  5  1]\n",
      " [10 10 10  1  3]\n",
      " [10 10 10  5  9]\n",
      " [10 10  1  0  1]\n",
      " [10  1  0  0  0]\n",
      " [10  1  9  1  2]\n",
      " [10 10 10  4  1]\n",
      " [10 10 10 10  0]\n",
      " [10 10 10  1  4]\n",
      " [10  2 10  4  4]\n",
      " [10 10 10 10  1]\n",
      " [10 10 10  7  7]\n",
      " [10 10 10  4  9]\n",
      " [10 10  1  4  4]\n",
      " [10 10 10 10  1]\n",
      " [10 10  1  5  4]\n",
      " [10 10 10 10  3]\n",
      " [10 10 10  4  3]\n",
      " [10  2  0  1  0]\n",
      " [10 10 10 10  5]\n",
      " [10  1  0  4  1]\n",
      " [10 10 10 10  7]\n",
      " [10 10 10  1  0]\n",
      " [10 10 10 10  2]\n",
      " [10 10 10  1  9]\n",
      " [10 10 10 10  3]]\n"
     ]
    }
   ],
   "source": [
    "hide_code\n",
    "y_new_predict_2 = cnn_model2.predict(X_new)\n",
    "\n",
    "y_predict_2 = []\n",
    "for i in range(30):\n",
    "    for j in range(5):\n",
    "        y_predict_2.append(np.argmax(y_new_predict_2[j][i]))\n",
    "y_predict_2 = np.array(y_predict_2).reshape(30,5)\n",
    "print('CNN Model 2. Predictions: ')\n",
    "print(y_predict_2)"
   ]
  },
  {
   "cell_type": "code",
   "execution_count": 281,
   "metadata": {},
   "outputs": [
    {
     "name": "stdout",
     "output_type": "stream",
     "text": [
      "CNN Model 1. Scores: \n",
      " [4.0245327949523926, 0.0035858158953487873, 0.4717223048210144, 1.1623708009719849, 1.413460373878479, 0.97339349985122681, 1.0, 0.93333333730697632, 0.73333334922790527, 0.56666666269302368, 0.66666668653488159]\n",
      "CNN Model 1. First digit. Accuracy: 100.00%\n",
      "CNN Model 1. Second digit. Accuracy: 93.33%\n",
      "CNN Model 1. Third digit. Accuracy: 73.33%\n",
      "CNN Model 1. Fourth digit. Accuracy: 56.67%\n",
      "CNN Model 1. Fifth digit. Accuracy: 66.67%\n"
     ]
    }
   ],
   "source": [
    "hide_code\n",
    "cnn_scores = cnn_model.evaluate(X_new, y_new_cat_list, verbose=0)\n",
    "\n",
    "print(\"CNN Model 1. Scores: \\n\" , (cnn_scores))\n",
    "print(\"CNN Model 1. First digit. Accuracy: %.2f%%\" % (cnn_scores[6]*100))\n",
    "print(\"CNN Model 1. Second digit. Accuracy: %.2f%%\" % (cnn_scores[7]*100))\n",
    "print(\"CNN Model 1. Third digit. Accuracy: %.2f%%\" % (cnn_scores[8]*100))\n",
    "print(\"CNN Model 1. Fourth digit. Accuracy: %.2f%%\" % (cnn_scores[9]*100))\n",
    "print(\"CNN Model 1. Fifth digit. Accuracy: %.2f%%\" % (cnn_scores[10]*100))"
   ]
  },
  {
   "cell_type": "code",
   "execution_count": 282,
   "metadata": {},
   "outputs": [
    {
     "name": "stdout",
     "output_type": "stream",
     "text": [
      "CNN Model 1. Average Accuracy: 78.00%\n"
     ]
    }
   ],
   "source": [
    "hide_code\n",
    "avg_accuracy = sum([cnn_scores[i] for i in range(6, 11)])/5\n",
    "\n",
    "print(\"CNN Model 1. Average Accuracy: %.2f%%\" % (avg_accuracy*100))"
   ]
  },
  {
   "cell_type": "code",
   "execution_count": 283,
   "metadata": {},
   "outputs": [
    {
     "name": "stdout",
     "output_type": "stream",
     "text": [
      "CNN Model 2. Scores: \n",
      " [4.6979498863220215, 0.0025169970467686653, 0.36192399263381958, 1.4037339687347412, 1.7670741081237793, 1.162700891494751, 1.0, 0.93333333730697632, 0.73333334922790527, 0.56666666269302368, 0.56666666269302368]\n",
      "CNN Model 2. First digit. Accuracy: 100.00%\n",
      "CNN Model 2. Second digit. Accuracy: 93.33%\n",
      "CNN Model 2. Third digit. Accuracy: 73.33%\n",
      "CNN Model 2. Fourth digit. Accuracy: 56.67%\n",
      "CNN Model 2. Fifth digit. Accuracy: 56.67%\n"
     ]
    }
   ],
   "source": [
    "hide_code\n",
    "cnn_scores_2 = cnn_model2.evaluate(X_new, y_new_cat_list, verbose=0)\n",
    "\n",
    "print(\"CNN Model 2. Scores: \\n\" , (cnn_scores_2))\n",
    "print(\"CNN Model 2. First digit. Accuracy: %.2f%%\" % (cnn_scores_2[6]*100))\n",
    "print(\"CNN Model 2. Second digit. Accuracy: %.2f%%\" % (cnn_scores_2[7]*100))\n",
    "print(\"CNN Model 2. Third digit. Accuracy: %.2f%%\" % (cnn_scores_2[8]*100))\n",
    "print(\"CNN Model 2. Fourth digit. Accuracy: %.2f%%\" % (cnn_scores_2[9]*100))\n",
    "print(\"CNN Model 2. Fifth digit. Accuracy: %.2f%%\" % (cnn_scores_2[10]*100))"
   ]
  },
  {
   "cell_type": "code",
   "execution_count": 284,
   "metadata": {},
   "outputs": [
    {
     "name": "stdout",
     "output_type": "stream",
     "text": [
      "CNN Model 2. Average Accuracy: 76.00%\n"
     ]
    }
   ],
   "source": [
    "hide_code\n",
    "avg_accuracy_2 = sum([cnn_scores_2[i] for i in range(6, 11)])/5\n",
    "\n",
    "print(\"CNN Model 2. Average Accuracy: %.2f%%\" % (avg_accuracy_2*100))"
   ]
  },
  {
   "cell_type": "markdown",
   "metadata": {},
   "source": [
    "## Questions and Answers"
   ]
  },
  {
   "cell_type": "markdown",
   "metadata": {},
   "source": [
    "### Question 7\n",
    "_Choose five candidate images of numbers you took from around you and provide them in the report. Are there any particular qualities of the image(s) that might make classification difficult?_\n",
    "\n",
    "### Answer 7\n",
    "\"10.png\" | \"11.png\" | \"27.png\" | \"13.png\" | \"19.png\"\n",
    "------------ | ------------- | ------------- | ------------- | -------------\n",
    "![](new/10.png) | ![](new/11.png) | ![](new/24.png) | ![](new/27.png) | ![](new/19.png)\n",
    "\n",
    "Here are five candidate images. It's not so easy to recognize digits for some reasons: additional symbols (\"-\", border lines, strokes, circles, etc.), too stylish fonts, lines and cells as a background."
   ]
  },
  {
   "cell_type": "markdown",
   "metadata": {},
   "source": [
    "---\n",
    "### Question 8\n",
    "_Is your model able to perform equally well on captured pictures or a live camera stream when compared to testing on the realistic dataset?_\n",
    "\n",
    "### Answer 8\n",
    "\n",
    "Accuracy indicators of predictions are worse than for the testing data set of street photos. They have decreased till 76-78%."
   ]
  },
  {
   "cell_type": "markdown",
   "metadata": {},
   "source": [
    "---\n",
    "### Optional: Question 9\n",
    "_If necessary, provide documentation for how an interface was built for your model to load and classify newly-acquired images._\n",
    "\n",
    "### Answer 9\n",
    "I took the simplest procedures that can be used to process the images and to locate the digits in the photos. They are built with programming libraries *'SciPy'* and *'OpenCV'*. They do not require special skills in application and documentation. \n",
    "\n",
    "And the model was also built with a very well-known library *'Keras'*. By ease of use and by endless possibilities in creating models, this resource is similar to the set \"Lego\" for constructing. I do not think that in this case, any special documentation is needed."
   ]
  },
  {
   "cell_type": "markdown",
   "metadata": {},
   "source": [
    "## Step 4: Explore an Improvement for a Model\n",
    "\n",
    "There are many things you can do once you have the basic classifier in place. One example would be to also localize where the numbers are on the image. The SVHN dataset provides bounding boxes that you can tune to train a localizer. Train a regression loss to the coordinates of the bounding box, and then test it. "
   ]
  },
  {
   "cell_type": "markdown",
   "metadata": {},
   "source": [
    "#### Predictions with boxes"
   ]
  },
  {
   "cell_type": "code",
   "execution_count": 285,
   "metadata": {},
   "outputs": [
    {
     "name": "stdout",
     "output_type": "stream",
     "text": [
      "CNN Model 1. Predictions: \n",
      "[[10 10 10 10  8]\n",
      " [10 10  3  5  3]\n",
      " [10 10 10  5  7]\n",
      " [10 10 10 10  6]\n",
      " [10 10  6  4  0]\n",
      " [10 10 10 10  8]\n",
      " [10 10 10  5  9]\n",
      " [10 10  1  0  1]\n",
      " [10  1  0  0  0]\n",
      " [10  1  9  1  3]\n",
      " [10 10 10  4  1]\n",
      " [10 10 10 10  1]\n",
      " [10 10  3  4  4]\n",
      " [10 10 10  4  4]\n",
      " [10 10 10  1  5]\n",
      " [10 10 10  7  2]\n",
      " [10  2  3  0  2]\n",
      " [10  1  6  6  8]\n",
      " [10 10 10 10  2]\n",
      " [10 10 10  3  0]\n",
      " [10 10 10  1  3]\n",
      " [10 10  4  4  3]\n",
      " [10  2  0  0  0]\n",
      " [10 10  7  8  3]\n",
      " [10  1  0  5  0]\n",
      " [10 10 10 10  7]\n",
      " [10 10 10  1  0]\n",
      " [10 10 10 10  2]\n",
      " [10 10 10 10  9]\n",
      " [10 10 10 10  8]]\n"
     ]
    }
   ],
   "source": [
    "hide_code\n",
    "y_new_predict2 = cnn_model.predict(X_new2)\n",
    "\n",
    "y_predict2 = []\n",
    "for i in range(30):\n",
    "    for j in range(5):\n",
    "        y_predict2.append(np.argmax(y_new_predict2[j][i]))\n",
    "y_predict2 = np.array(y_predict2).reshape(30,5)\n",
    "print('CNN Model 1. Predictions: ')\n",
    "print(y_predict2)"
   ]
  },
  {
   "cell_type": "code",
   "execution_count": 286,
   "metadata": {},
   "outputs": [
    {
     "name": "stdout",
     "output_type": "stream",
     "text": [
      "CNN Model 1. Scores: \n",
      " [1.7664835453033447, 0.00093853432917967439, 0.27404701709747314, 0.29167380928993225, 0.75607544183731079, 0.44374877214431763, 1.0, 0.89999997615814209, 0.86666667461395264, 0.69999998807907104, 0.83333331346511841]\n",
      "CNN Model 1. First digit. Accuracy: 100.00%\n",
      "CNN Model 1. Second digit. Accuracy: 90.00%\n",
      "CNN Model 1. Third digit. Accuracy: 86.67%\n",
      "CNN Model 1. Fourth digit. Accuracy: 70.00%\n",
      "CNN Model 1. Fifth digit. Accuracy: 83.33%\n"
     ]
    }
   ],
   "source": [
    "hide_code\n",
    "cnn_scores2 = cnn_model.evaluate(X_new2, y_new_cat_list, verbose=0)\n",
    "\n",
    "print(\"CNN Model 1. Scores: \\n\" , (cnn_scores2))\n",
    "print(\"CNN Model 1. First digit. Accuracy: %.2f%%\" % (cnn_scores2[6]*100))\n",
    "print(\"CNN Model 1. Second digit. Accuracy: %.2f%%\" % (cnn_scores2[7]*100))\n",
    "print(\"CNN Model 1. Third digit. Accuracy: %.2f%%\" % (cnn_scores2[8]*100))\n",
    "print(\"CNN Model 1. Fourth digit. Accuracy: %.2f%%\" % (cnn_scores2[9]*100))\n",
    "print(\"CNN Model 1. Fifth digit. Accuracy: %.2f%%\" % (cnn_scores2[10]*100))"
   ]
  },
  {
   "cell_type": "code",
   "execution_count": 287,
   "metadata": {},
   "outputs": [
    {
     "name": "stdout",
     "output_type": "stream",
     "text": [
      "CNN Model 1. Average Accuracy: 86.00%\n"
     ]
    }
   ],
   "source": [
    "hide_code\n",
    "avg_accuracy2 = sum([cnn_scores2[i] for i in range(6, 11)])/5\n",
    "\n",
    "print(\"CNN Model 1. Average Accuracy: %.2f%%\" % (avg_accuracy2*100))"
   ]
  },
  {
   "cell_type": "code",
   "execution_count": 288,
   "metadata": {},
   "outputs": [
    {
     "name": "stdout",
     "output_type": "stream",
     "text": [
      "CNN Model 2. Predictions: \n",
      "[[10 10 10 10  8]\n",
      " [10 10  3  8  5]\n",
      " [10 10 10  5  7]\n",
      " [10 10 10 10  6]\n",
      " [10 10 10  5  1]\n",
      " [10 10 10 10  8]\n",
      " [10 10 10  5  9]\n",
      " [10 10  1  0  1]\n",
      " [10  1  0  0  0]\n",
      " [10  1  9  1  3]\n",
      " [10 10 10  2  1]\n",
      " [10 10 10 10  1]\n",
      " [10 10  3  4  4]\n",
      " [10  2 10  4  4]\n",
      " [10 10 10  4  5]\n",
      " [10 10 10 10  7]\n",
      " [10  2  7  1  7]\n",
      " [10  1  4  4  8]\n",
      " [10 10 10 10  2]\n",
      " [10 10 10  3  0]\n",
      " [10 10 10 10  3]\n",
      " [10 10 10  4  3]\n",
      " [10  2  0  1  0]\n",
      " [10 10  7  8  3]\n",
      " [10  1  0  9  1]\n",
      " [10 10 10 10  7]\n",
      " [10 10 10  1  0]\n",
      " [10 10 10 10  2]\n",
      " [10 10 10 10  9]\n",
      " [10 10 10 10  8]]\n"
     ]
    }
   ],
   "source": [
    "hide_code\n",
    "y_new_predict2_2 = cnn_model2.predict(X_new2)\n",
    "\n",
    "y_predict2_2 = []\n",
    "for i in range(30):\n",
    "    for j in range(5):\n",
    "        y_predict2_2.append(np.argmax(y_new_predict2_2[j][i]))\n",
    "y_predict2_2 = np.array(y_predict2_2).reshape(30,5)\n",
    "print('CNN Model 2. Predictions: ')\n",
    "print(y_predict2_2)"
   ]
  },
  {
   "cell_type": "code",
   "execution_count": 289,
   "metadata": {},
   "outputs": [
    {
     "name": "stdout",
     "output_type": "stream",
     "text": [
      "CNN Model 2. Scores: \n",
      " [1.7370322942733765, 0.00017315873992629349, 0.21628722548484802, 0.42631766200065613, 0.59386265277862549, 0.50039160251617432, 1.0, 0.93333333730697632, 0.83333331346511841, 0.80000001192092896, 0.86666667461395264]\n",
      "CNN Model 2. First digit. Accuracy: 100.00%\n",
      "CNN Model 2. Second digit. Accuracy: 93.33%\n",
      "CNN Model 2. Third digit. Accuracy: 83.33%\n",
      "CNN Model 2. Fourth digit. Accuracy: 80.00%\n",
      "CNN Model 2. Fifth digit. Accuracy: 86.67%\n"
     ]
    }
   ],
   "source": [
    "hide_code\n",
    "cnn_scores2_2 = cnn_model2.evaluate(X_new2, y_new_cat_list, verbose=0)\n",
    "\n",
    "print(\"CNN Model 2. Scores: \\n\" , (cnn_scores2_2))\n",
    "print(\"CNN Model 2. First digit. Accuracy: %.2f%%\" % (cnn_scores2_2[6]*100))\n",
    "print(\"CNN Model 2. Second digit. Accuracy: %.2f%%\" % (cnn_scores2_2[7]*100))\n",
    "print(\"CNN Model 2. Third digit. Accuracy: %.2f%%\" % (cnn_scores2_2[8]*100))\n",
    "print(\"CNN Model 2. Fourth digit. Accuracy: %.2f%%\" % (cnn_scores2_2[9]*100))\n",
    "print(\"CNN Model 2. Fifth digit. Accuracy: %.2f%%\" % (cnn_scores2_2[10]*100))"
   ]
  },
  {
   "cell_type": "code",
   "execution_count": 290,
   "metadata": {},
   "outputs": [
    {
     "name": "stdout",
     "output_type": "stream",
     "text": [
      "CNN Model 2. Average Accuracy: 88.67%\n"
     ]
    }
   ],
   "source": [
    "hide_code\n",
    "avg_accuracy2_2 = sum([cnn_scores2_2[i] for i in range(6, 11)])/5\n",
    "\n",
    "print(\"CNN Model 2. Average Accuracy: %.2f%%\" % (avg_accuracy2_2*100))"
   ]
  },
  {
   "cell_type": "markdown",
   "metadata": {},
   "source": [
    "#### Individual predictions for images. OpenCV"
   ]
  },
  {
   "cell_type": "code",
   "execution_count": 300,
   "metadata": {},
   "outputs": [
    {
     "name": "stdout",
     "output_type": "stream",
     "text": [
      "File:  10.png\n",
      "Label:  [10 10  5  6  3]\n",
      "Categorical label: \n",
      " [[ 0.  0.  0.  0.  0.  0.  0.  0.  0.  0.  1.]\n",
      " [ 0.  0.  0.  0.  0.  0.  0.  0.  0.  0.  1.]\n",
      " [ 0.  0.  0.  0.  0.  1.  0.  0.  0.  0.  0.]\n",
      " [ 0.  0.  0.  0.  0.  0.  1.  0.  0.  0.  0.]\n",
      " [ 0.  0.  0.  1.  0.  0.  0.  0.  0.  0.  0.]]\n"
     ]
    },
    {
     "data": {
      "image/png": "[encoded data removed]",
      "text/plain": [
       "<matplotlib.figure.Figure at 0x12b5c6fd0>"
      ]
     },
     "metadata": {},
     "output_type": "display_data"
    }
   ],
   "source": [
    "hide_code\n",
    "image_gray = get_image3('new', '10.png', new_boxes)[0]\n",
    "print ('File: ', new_filenames[1])\n",
    "print ('Label: ', new_labels[1])\n",
    "print ('Categorical label: \\n', new_labels_cat[1])\n",
    "plt.imshow(image_gray, cmap=plt.cm.Blues);"
   ]
  },
  {
   "cell_type": "code",
   "execution_count": 311,
   "metadata": {},
   "outputs": [
    {
     "name": "stdout",
     "output_type": "stream",
     "text": [
      "Predicted label:\n",
      "[10, 10, 3, 6, 3]\n"
     ]
    }
   ],
   "source": [
    "hide_code\n",
    "image_for_predict = image_gray.reshape(1, 32, 32, 1)/255\n",
    "y_image_predict = cnn_model.predict(image_for_predict)\n",
    "y_predict_example = [np.argmax(y) for y in y_image_predict]\n",
    "\n",
    "print('Predicted label:')\n",
    "print(y_predict_example)"
   ]
  },
  {
   "cell_type": "code",
   "execution_count": 336,
   "metadata": {},
   "outputs": [
    {
     "name": "stdout",
     "output_type": "stream",
     "text": [
      "File:  30.png\n",
      "Label:  [10 10  7  8  3]\n",
      "Categorical label: \n",
      " [[ 0.  0.  0.  0.  0.  0.  0.  0.  0.  0.  1.]\n",
      " [ 0.  0.  0.  0.  0.  0.  0.  0.  0.  0.  1.]\n",
      " [ 0.  0.  0.  0.  0.  0.  0.  1.  0.  0.  0.]\n",
      " [ 0.  0.  0.  0.  0.  0.  0.  0.  1.  0.  0.]\n",
      " [ 0.  0.  0.  1.  0.  0.  0.  0.  0.  0.  0.]]\n"
     ]
    },
    {
     "data": {
      "image/png": "[encoded data removed]",
      "text/plain": [
       "<matplotlib.figure.Figure at 0x12c386ba8>"
      ]
     },
     "metadata": {},
     "output_type": "display_data"
    }
   ],
   "source": [
    "hide_code\n",
    "image_gray_2 = get_image4('new', '30.png')\n",
    "print ('File: ', new_filenames[23])\n",
    "print ('Label: ', new_labels[23])\n",
    "print ('Categorical label: \\n', new_labels_cat[23])\n",
    "plt.imshow(image_gray_2, cmap=plt.cm.Blues);"
   ]
  },
  {
   "cell_type": "code",
   "execution_count": 337,
   "metadata": {},
   "outputs": [
    {
     "name": "stdout",
     "output_type": "stream",
     "text": [
      "Predicted label:\n",
      "[10, 10, 7, 8, 3]\n"
     ]
    }
   ],
   "source": [
    "hide_code\n",
    "image_for_predict_2 = image_gray_2.reshape(1, 32, 32, 1)/255\n",
    "y_image_predict_2 = cnn_model2.predict(image_for_predict_2)\n",
    "y_predict_example_2 = [np.argmax(y) for y in y_image_predict_2]\n",
    "\n",
    "print('Predicted label:')\n",
    "print(y_predict_example_2)"
   ]
  },
  {
   "cell_type": "markdown",
   "metadata": {},
   "source": [
    "#### Predictions with boxes. OpenCV"
   ]
  },
  {
   "cell_type": "code",
   "execution_count": 349,
   "metadata": {},
   "outputs": [
    {
     "name": "stdout",
     "output_type": "stream",
     "text": [
      "File:  10.png\n",
      "Label:  [10 10  5  6  3]\n",
      "Categorical label: \n",
      " [[ 0.  0.  0.  0.  0.  0.  0.  0.  0.  0.  1.]\n",
      " [ 0.  0.  0.  0.  0.  0.  0.  0.  0.  0.  1.]\n",
      " [ 0.  0.  0.  0.  0.  1.  0.  0.  0.  0.  0.]\n",
      " [ 0.  0.  0.  0.  0.  0.  1.  0.  0.  0.  0.]\n",
      " [ 0.  0.  0.  1.  0.  0.  0.  0.  0.  0.  0.]]\n"
     ]
    },
    {
     "data": {
      "image/png": "[encoded data removed]",
      "text/plain": [
       "<matplotlib.figure.Figure at 0x12b52a048>"
      ]
     },
     "metadata": {},
     "output_type": "display_data"
    }
   ],
   "source": [
    "hide_code\n",
    "image_gray2 = new_images2_4[1]\n",
    "print ('File: ', new_filenames[1])\n",
    "print ('Label: ', new_labels[1])\n",
    "print ('Categorical label: \\n', new_labels_cat[1])\n",
    "plt.imshow(image_gray2, cmap=plt.cm.Blues);"
   ]
  },
  {
   "cell_type": "code",
   "execution_count": 350,
   "metadata": {},
   "outputs": [
    {
     "name": "stdout",
     "output_type": "stream",
     "text": [
      "File:  30.png\n",
      "Label:  [10 10  7  8  3]\n",
      "Categorical label: \n",
      " [[ 0.  0.  0.  0.  0.  0.  0.  0.  0.  0.  1.]\n",
      " [ 0.  0.  0.  0.  0.  0.  0.  0.  0.  0.  1.]\n",
      " [ 0.  0.  0.  0.  0.  0.  0.  1.  0.  0.  0.]\n",
      " [ 0.  0.  0.  0.  0.  0.  0.  0.  1.  0.  0.]\n",
      " [ 0.  0.  0.  1.  0.  0.  0.  0.  0.  0.  0.]]\n"
     ]
    },
    {
     "data": {
      "image/png": "[encoded data removed]",
      "text/plain": [
       "<matplotlib.figure.Figure at 0x12c5bea20>"
      ]
     },
     "metadata": {},
     "output_type": "display_data"
    }
   ],
   "source": [
    "hide_code\n",
    "\n",
    "image_gray2_2 = new_images2_4[23]\n",
    "print ('File: ', new_filenames[23])\n",
    "print ('Label: ', new_labels[23])\n",
    "print ('Categorical label: \\n', new_labels_cat[23])\n",
    "plt.imshow(image_gray2_2, cmap=plt.cm.Blues);"
   ]
  },
  {
   "cell_type": "code",
   "execution_count": 351,
   "metadata": {},
   "outputs": [
    {
     "name": "stdout",
     "output_type": "stream",
     "text": [
      "CNN Model 1. Predictions: \n",
      "[[10 10 10 10  9]\n",
      " [10  2  3  3  5]\n",
      " [10 10 10  5  7]\n",
      " [10 10 10 10  6]\n",
      " [10 10  4  4  0]\n",
      " [10 10 10 10  2]\n",
      " [10 10  5  4  9]\n",
      " [10 10  1  0  1]\n",
      " [10  1  0  0  0]\n",
      " [10 10 10 10  1]\n",
      " [10 10 10  4  1]\n",
      " [10 10 10 10  1]\n",
      " [10 10  3  4  4]\n",
      " [10 10 10  2  4]\n",
      " [10 10 10  1  5]\n",
      " [10 10 10  7  7]\n",
      " [10 10 10  4  1]\n",
      " [10  2  4  4  8]\n",
      " [10 10 10 10  4]\n",
      " [10 10 10  3  0]\n",
      " [10 10 10 10  3]\n",
      " [10 10  4  0  3]\n",
      " [10  2  0  1  0]\n",
      " [10 10  7  8  3]\n",
      " [10  1  0  3  1]\n",
      " [10 10 10 10  7]\n",
      " [10 10 10  1  0]\n",
      " [10 10 10 10  2]\n",
      " [10 10 10  5  9]\n",
      " [10 10 10 10  8]]\n"
     ]
    }
   ],
   "source": [
    "hide_code\n",
    "y_new_predict4 = cnn_model.predict(X_new4)\n",
    "y_predict4 = []\n",
    "for i in range(30):\n",
    "    for j in range(5):\n",
    "        y_predict4.append(np.argmax(y_new_predict4[j][i]))\n",
    "y_predict4 = np.array(y_predict4).reshape(30,5)\n",
    "print('CNN Model 1. Predictions: ')\n",
    "print(y_predict4)"
   ]
  },
  {
   "cell_type": "code",
   "execution_count": 352,
   "metadata": {},
   "outputs": [
    {
     "name": "stdout",
     "output_type": "stream",
     "text": [
      "CNN Model 1. \n",
      "\n",
      "Scores: \n",
      " [7.1819477081298828, 0.00027177872834727168, 1.3892989158630371, 1.9871330261230469, 2.1887195110321045, 1.6165248155593872, 1.0, 0.83333331346511841, 0.73333334922790527, 0.63333332538604736, 0.69999998807907104]\n",
      "First digit. Accuracy: 100.00%\n",
      "Second digit. Accuracy: 83.33%\n",
      "Third digit. Accuracy: 73.33%\n",
      "Fourth digit. Accuracy: 63.33%\n",
      "Fifth digit. Accuracy: 70.00%\n"
     ]
    }
   ],
   "source": [
    "hide_code\n",
    "cnn_scores4 = cnn_model.evaluate(X_new4, y_new_cat_list, verbose=0)\n",
    "\n",
    "print(\"CNN Model 1. \\n\")\n",
    "print(\"Scores: \\n\" , (cnn_scores4))\n",
    "print(\"First digit. Accuracy: %.2f%%\" % (cnn_scores4[6]*100))\n",
    "print(\"Second digit. Accuracy: %.2f%%\" % (cnn_scores4[7]*100))\n",
    "print(\"Third digit. Accuracy: %.2f%%\" % (cnn_scores4[8]*100))\n",
    "print(\"Fourth digit. Accuracy: %.2f%%\" % (cnn_scores4[9]*100))\n",
    "print(\"Fifth digit. Accuracy: %.2f%%\" % (cnn_scores4[10]*100))"
   ]
  },
  {
   "cell_type": "code",
   "execution_count": 353,
   "metadata": {},
   "outputs": [
    {
     "name": "stdout",
     "output_type": "stream",
     "text": [
      "CNN Model 1. Average Accuracy: 78.00%\n"
     ]
    }
   ],
   "source": [
    "hide_code\n",
    "avg_accuracy4 = sum([cnn_scores4[i] for i in range(6, 11)])/5\n",
    "\n",
    "print(\"CNN Model 1. Average Accuracy: %.2f%%\" % (avg_accuracy4*100))"
   ]
  },
  {
   "cell_type": "code",
   "execution_count": 354,
   "metadata": {},
   "outputs": [
    {
     "name": "stdout",
     "output_type": "stream",
     "text": [
      "CNN Model 2. Predictions: \n",
      "[[10 10 10 10  0]\n",
      " [10 10  3  3  5]\n",
      " [10 10 10  5  5]\n",
      " [10 10 10  1  6]\n",
      " [10 10 10  4  1]\n",
      " [10 10 10 10  8]\n",
      " [10 10 10  6  9]\n",
      " [10 10  1  0  1]\n",
      " [10  1  0  0  0]\n",
      " [10 10 10 10  1]\n",
      " [10 10 10  2  1]\n",
      " [10 10 10 10  0]\n",
      " [10 10  3  4  4]\n",
      " [10 10 10  2  4]\n",
      " [10 10 10  1  5]\n",
      " [10 10 10  7  7]\n",
      " [10  1  1  7  4]\n",
      " [10  1  4  5  8]\n",
      " [10 10 10  1  4]\n",
      " [10 10 10  3  0]\n",
      " [10 10 10 10  3]\n",
      " [10 10 10  4  3]\n",
      " [10  2  0  1  0]\n",
      " [10 10  7  8  3]\n",
      " [10  1  1  5  1]\n",
      " [10 10 10 10  7]\n",
      " [10 10 10  1  0]\n",
      " [10 10 10 10  2]\n",
      " [10 10 10  7  9]\n",
      " [10 10 10  4  8]]\n"
     ]
    }
   ],
   "source": [
    "hide_code\n",
    "y_new_predict4_2 = cnn_model2.predict(X_new4)\n",
    "y_predict4_2 = []\n",
    "for i in range(30):\n",
    "    for j in range(5):\n",
    "        y_predict4_2.append(np.argmax(y_new_predict4_2[j][i]))\n",
    "y_predict4_2 = np.array(y_predict4_2).reshape(30,5)\n",
    "print('CNN Model 2. Predictions: ')\n",
    "print(y_predict4_2)"
   ]
  },
  {
   "cell_type": "code",
   "execution_count": 355,
   "metadata": {},
   "outputs": [
    {
     "name": "stdout",
     "output_type": "stream",
     "text": [
      "CNN Model 2. \n",
      "\n",
      "CNN Scores: \n",
      " [6.5221505165100098, 0.0010312354424968362, 1.1571204662322998, 1.6763014793395996, 2.0833380222320557, 1.6043590307235718, 1.0, 0.86666667461395264, 0.76666665077209473, 0.53333336114883423, 0.69999998807907104]\n",
      "First digit. Accuracy: 100.00%\n",
      "Second digit. Accuracy: 86.67%\n",
      "Third digit. Accuracy: 76.67%\n",
      "Fourth digit. Accuracy: 53.33%\n",
      "Fifth digit. Accuracy: 70.00%\n"
     ]
    }
   ],
   "source": [
    "hide_code\n",
    "cnn_scores4_2 = cnn_model2.evaluate(X_new4, y_new_cat_list, verbose=0)\n",
    "\n",
    "print(\"CNN Model 2. \\n\")\n",
    "print(\"CNN Scores: \\n\" , (cnn_scores4_2))\n",
    "print(\"First digit. Accuracy: %.2f%%\" % (cnn_scores4_2[6]*100))\n",
    "print(\"Second digit. Accuracy: %.2f%%\" % (cnn_scores4_2[7]*100))\n",
    "print(\"Third digit. Accuracy: %.2f%%\" % (cnn_scores4_2[8]*100))\n",
    "print(\"Fourth digit. Accuracy: %.2f%%\" % (cnn_scores4_2[9]*100))\n",
    "print(\"Fifth digit. Accuracy: %.2f%%\" % (cnn_scores4_2[10]*100))"
   ]
  },
  {
   "cell_type": "code",
   "execution_count": 356,
   "metadata": {},
   "outputs": [
    {
     "name": "stdout",
     "output_type": "stream",
     "text": [
      "CNN Model 2. Average Accuracy: 77.33%\n"
     ]
    }
   ],
   "source": [
    "hide_code\n",
    "avg_accuracy4_2 = sum([cnn_scores4_2[i] for i in range(6, 11)])/5\n",
    "\n",
    "print(\"CNN Model 2. Average Accuracy: %.2f%%\" % (avg_accuracy4_2*100))"
   ]
  },
  {
   "cell_type": "markdown",
   "metadata": {},
   "source": [
    "---\n",
    "### Question 10\n",
    "_How well does your model localize numbers on the testing set from the realistic dataset? Do your classification results change at all with localization included?_\n",
    "### Answer 10\n",
    "On the testing realistic set of localized digits, the model works well enough and on average shows the accuracy of predictions about 95 percents. \n",
    "\n",
    "I didn't train and test the model on the sets without localization. On my opinion, images include a lot of useless information for digit recognition without localization. This creates unnecessary interference and difficulties for the neural network."
   ]
  },
  {
   "cell_type": "markdown",
   "metadata": {
    "collapsed": true
   },
   "source": [
    "---\n",
    "### Question 11\n",
    "_Test the localization function on the images you captured in **Step 3**. Does the model accurately calculate a bounding box for the numbers in the images you found? If you did not use a graphical interface, you may need to investigate the bounding boxes by hand._ Provide an example of the localization created on a captured image.\n",
    "\n",
    "### Answer 11\n",
    "The model predicts very well for the newly-captured images with bounding boxes constructed by hand but shows about the same accuracy for the programming procedure for finding digits in the photos and for images without bounding boxes at all. It means that I need to improve only the part for cutting image spaces without digits.\n",
    "\n",
    "I have illustrated this fact by two examples of files."
   ]
  },
  {
   "cell_type": "markdown",
   "metadata": {
    "collapsed": true
   },
   "source": [
    "## Step 5: Build an Application or Program for a Model\n",
    "Take your project one step further. If you're interested, look to build an Android application or even a more robust Python program that can interface with input images and display the classified numbers and even the bounding boxes. You can for example try to build an augmented reality app by overlaying your answer on the image like the [Word Lens](https://en.wikipedia.org/wiki/Word_Lens) app does.\n",
    "\n",
    "Loading a TensorFlow model into a camera app on Android is demonstrated in the [TensorFlow Android demo app](https://github.com/tensorflow/tensorflow/tree/master/tensorflow/examples/android), which you can simply modify.\n",
    "\n",
    "If you decide to explore this optional route, be sure to document your interface and implementation, along with significant results you find. You can see the additional rubric items that you could be evaluated on by [following this link](https://review.udacity.com/#!/rubrics/413/view)."
   ]
  },
  {
   "cell_type": "code",
   "execution_count": 383,
   "metadata": {},
   "outputs": [],
   "source": [
    "hide_code\n",
    "def digit_to_categorical(data):\n",
    "    n = data.shape[1]\n",
    "    data_cat = np.empty([len(data), n, 11])\n",
    "    \n",
    "    for i in range(n):\n",
    "        data_cat[:, i] = ks.utils.to_categorical(data[:, i], num_classes=11)\n",
    "        \n",
    "    return data_cat\n",
    "\n",
    "train_images = pd.read_csv(\"train_images1.csv\")\n",
    "train_images = np.array(train_images.drop('filename', axis=1))\n",
    "train_images = train_images.reshape(-1, 32, 32, 3)\n",
    "\n",
    "train_labels = pd.read_csv(\"train_labels.csv\")\n",
    "train_labels = np.array(train_labels[[\"0\", \"1\", \"2\", \"3\", \"4\"]])\n",
    "train_labels_cat = digit_to_categorical(train_labels)\n",
    "train_labels_cat_list = [train_labels_cat[:, i] for i in range(5)]\n",
    "\n",
    "test_images = pd.read_csv(\"test_images1.csv\")\n",
    "test_images = np.array(test_images.drop('filename', axis=1)) \n",
    "test_images = test_images.reshape(-1, 32, 32, 3)\n",
    "\n",
    "test_labels = pd.read_csv(\"test_labels.csv\")\n",
    "test_labels = np.array(test_labels[[\"0\", \"1\", \"2\", \"3\", \"4\"]])\n",
    "test_labels_cat = digit_to_categorical(test_labels)\n",
    "test_labels_cat_list = [test_labels_cat[:, i] for i in range(5)]"
   ]
  },
  {
   "cell_type": "code",
   "execution_count": 384,
   "metadata": {},
   "outputs": [
    {
     "data": {
      "text/plain": [
       "((13000, 32, 32, 3), (6000, 32, 32, 3), (13000, 5, 11), (6000, 5, 11))"
      ]
     },
     "execution_count": 384,
     "metadata": {},
     "output_type": "execute_result"
    }
   ],
   "source": [
    "hide_code\n",
    "train_images.shape, test_images.shape, train_labels_cat.shape, test_labels_cat.shape"
   ]
  },
  {
   "cell_type": "code",
   "execution_count": 364,
   "metadata": {},
   "outputs": [],
   "source": [
    "hide_code\n",
    "from keras.applications.vgg16 import VGG16\n",
    "\n",
    "VGG16_model = VGG16(weights='imagenet', include_top=False)\n",
    "bn_train = VGG16_model.predict(train_images)\n",
    "bn_test = VGG16_model.predict(test_images)"
   ]
  },
  {
   "cell_type": "code",
   "execution_count": 367,
   "metadata": {},
   "outputs": [],
   "source": [
    "hide_code\n",
    "np.save('bn_train.npy', bn_train.reshape(-1, bn_train.shape[3]))\n",
    "np.save('bn_test.npy', bn_test.reshape(-1, bn_test.shape[3]))"
   ]
  },
  {
   "cell_type": "code",
   "execution_count": 369,
   "metadata": {},
   "outputs": [],
   "source": [
    "hide_code\n",
    "bn_train = np.load('bn_train.npy')\n",
    "bn_test = np.load('bn_test.npy')\n",
    "bn_train = bn_train.reshape(-1, 1, 1, bn_train.shape[1])\n",
    "bn_test = bn_test.reshape(-1, 1, 1, bn_test.shape[1])"
   ]
  },
  {
   "cell_type": "code",
   "execution_count": 455,
   "metadata": {},
   "outputs": [],
   "source": [
    "hide_code\n",
    "def vgg16_add_model():\n",
    "    model_input = Input(shape=(bn_train.shape[1:]))\n",
    "    x = GlobalAveragePooling2D()(model_input)\n",
    "\n",
    "    x = Dense(1024, activation='relu')(x)\n",
    "    x = Dropout(0.5)(x)\n",
    "    \n",
    "    x = Dense(256, activation='relu')(x)\n",
    "    x = Dropout(0.5)(x)\n",
    "    \n",
    "    y1 = Dense(11, activation='softmax')(x)\n",
    "    y2 = Dense(11, activation='softmax')(x)\n",
    "    y3 = Dense(11, activation='softmax')(x)\n",
    "    y4 = Dense(11, activation='softmax')(x)\n",
    "    y5 = Dense(11, activation='softmax')(x) \n",
    "                        \n",
    "    model = Model(input=model_input, output=[y1, y2, y3, y4, y5])\n",
    "\n",
    "    model.compile(loss='categorical_crossentropy', optimizer='nadam', metrics=['accuracy'])\n",
    "    return model"
   ]
  },
  {
   "cell_type": "code",
   "execution_count": 456,
   "metadata": {},
   "outputs": [],
   "source": [
    "hide_code\n",
    "vgg16_add_model = vgg16_add_model()\n",
    "vgg16_checkpointer = ModelCheckpoint(filepath='weights.best.vgg16_add.hdf5', \n",
    "                                     verbose=2, save_best_only=True)"
   ]
  },
  {
   "cell_type": "code",
   "execution_count": 457,
   "metadata": {},
   "outputs": [
    {
     "name": "stdout",
     "output_type": "stream",
     "text": [
      "Epoch 00000: val_loss improved from inf to 4.21974, saving model to weights.best.vgg16_add.hdf5\n",
      "Epoch 00001: val_loss improved from 4.21974 to 4.06842, saving model to weights.best.vgg16_add.hdf5\n",
      "Epoch 00002: val_loss improved from 4.06842 to 3.91739, saving model to weights.best.vgg16_add.hdf5\n",
      "Epoch 00003: val_loss improved from 3.91739 to 3.85889, saving model to weights.best.vgg16_add.hdf5\n",
      "Epoch 00004: val_loss did not improve\n",
      "Epoch 00005: val_loss improved from 3.85889 to 3.80666, saving model to weights.best.vgg16_add.hdf5\n",
      "Epoch 00006: val_loss improved from 3.80666 to 3.76943, saving model to weights.best.vgg16_add.hdf5\n",
      "Epoch 00007: val_loss did not improve\n",
      "Epoch 00008: val_loss improved from 3.76943 to 3.69798, saving model to weights.best.vgg16_add.hdf5\n",
      "Epoch 00009: val_loss improved from 3.69798 to 3.67708, saving model to weights.best.vgg16_add.hdf5\n",
      "Epoch 00010: val_loss improved from 3.67708 to 3.65413, saving model to weights.best.vgg16_add.hdf5\n",
      "Epoch 00011: val_loss did not improve\n",
      "Epoch 00012: val_loss improved from 3.65413 to 3.65114, saving model to weights.best.vgg16_add.hdf5\n",
      "Epoch 00013: val_loss improved from 3.65114 to 3.62319, saving model to weights.best.vgg16_add.hdf5\n",
      "Epoch 00014: val_loss did not improve\n",
      "Epoch 00015: val_loss did not improve\n",
      "Epoch 00016: val_loss did not improve\n",
      "Epoch 00017: val_loss did not improve\n",
      "Epoch 00018: val_loss improved from 3.62319 to 3.60385, saving model to weights.best.vgg16_add.hdf5\n",
      "Epoch 00019: val_loss did not improve\n",
      "Epoch 00020: val_loss improved from 3.60385 to 3.58485, saving model to weights.best.vgg16_add.hdf5\n",
      "Epoch 00021: val_loss did not improve\n",
      "Epoch 00022: val_loss did not improve\n",
      "Epoch 00023: val_loss did not improve\n",
      "Epoch 00024: val_loss did not improve\n",
      "Epoch 00025: val_loss did not improve\n",
      "Epoch 00026: val_loss did not improve\n",
      "Epoch 00027: val_loss did not improve\n",
      "Epoch 00028: val_loss did not improve\n",
      "Epoch 00029: val_loss did not improve\n",
      "Epoch 00030: val_loss did not improve\n",
      "Epoch 00031: val_loss did not improve\n",
      "Epoch 00032: val_loss did not improve\n",
      "Epoch 00033: val_loss did not improve\n",
      "Epoch 00034: val_loss did not improve\n",
      "Epoch 00035: val_loss did not improve\n",
      "Epoch 00036: val_loss did not improve\n",
      "Epoch 00037: val_loss did not improve\n",
      "Epoch 00038: val_loss did not improve\n",
      "Epoch 00039: val_loss did not improve\n",
      "Epoch 00040: val_loss did not improve\n",
      "Epoch 00041: val_loss did not improve\n",
      "Epoch 00042: val_loss did not improve\n",
      "Epoch 00043: val_loss did not improve\n",
      "Epoch 00044: val_loss did not improve\n",
      "Epoch 00045: val_loss did not improve\n",
      "Epoch 00046: val_loss did not improve\n",
      "Epoch 00047: val_loss did not improve\n",
      "Epoch 00048: val_loss did not improve\n",
      "Epoch 00049: val_loss did not improve\n"
     ]
    }
   ],
   "source": [
    "hide_code\n",
    "vgg16_add_history = vgg16_add_model.fit(bn_train, train_labels_cat_list, \n",
    "                                        validation_data=(bn_test, test_labels_cat_list),\n",
    "                                        epochs=50, batch_size=128, \n",
    "                                        callbacks=[vgg16_checkpointer], verbose=0);"
   ]
  },
  {
   "cell_type": "code",
   "execution_count": 458,
   "metadata": {},
   "outputs": [
    {
     "name": "stdout",
     "output_type": "stream",
     "text": [
      "VGG16 ADD Model. \n",
      "\n",
      "Scores: \n",
      " [3.5848494021097821, 0.002440998214505271, 0.046322134738788011, 0.42428658004601799, 1.4356047627131143, 1.6761949189503988, 0.99983333333333335, 0.98683333333333334, 0.8763333333333333, 0.52033333333333331, 0.42566666666666669]\n",
      "First digit. Accuracy: 99.98%\n",
      "Second digit. Accuracy: 98.68%\n",
      "Third digit. Accuracy: 87.63%\n",
      "Fourth digit. Accuracy: 52.03%\n",
      "Fifth digit. Accuracy: 42.57%\n"
     ]
    }
   ],
   "source": [
    "hide_code\n",
    "vgg16_add_model.load_weights('weights.best.vgg16_add.hdf5')\n",
    "vgg16_add_scores = vgg16_add_model.evaluate(bn_test, test_labels_cat_list, verbose=0)\n",
    "\n",
    "print(\"VGG16 ADD Model. \\n\")\n",
    "print(\"Scores: \\n\" , (vgg16_add_scores))\n",
    "print(\"First digit. Accuracy: %.2f%%\" % (vgg16_add_scores[6]*100))\n",
    "print(\"Second digit. Accuracy: %.2f%%\" % (vgg16_add_scores[7]*100))\n",
    "print(\"Third digit. Accuracy: %.2f%%\" % (vgg16_add_scores[8]*100))\n",
    "print(\"Fourth digit. Accuracy: %.2f%%\" % (vgg16_add_scores[9]*100))\n",
    "print(\"Fifth digit. Accuracy: %.2f%%\" % (vgg16_add_scores[10]*100))"
   ]
  },
  {
   "cell_type": "code",
   "execution_count": 461,
   "metadata": {},
   "outputs": [
    {
     "name": "stdout",
     "output_type": "stream",
     "text": [
      "VGG16 Model. Average Accuracy: 76.18%\n"
     ]
    }
   ],
   "source": [
    "vgg16_avg_accuracy = sum([vgg16_add_scores[i] for i in range(6, 11)])/5\n",
    "\n",
    "print(\"VGG16 Model. Average Accuracy: %.2f%%\" % (vgg16_avg_accuracy*100))"
   ]
  },
  {
   "cell_type": "code",
   "execution_count": 459,
   "metadata": {},
   "outputs": [
    {
     "name": "stdout",
     "output_type": "stream",
     "text": [
      "File:  6.png\n",
      "Label:  [10 10 10  1  0]\n",
      "Categorical label: \n",
      " [[ 0.  0.  0.  0.  0.  0.  0.  0.  0.  0.  1.]\n",
      " [ 0.  0.  0.  0.  0.  0.  0.  0.  0.  0.  1.]\n",
      " [ 0.  0.  0.  0.  0.  0.  0.  0.  0.  0.  1.]\n",
      " [ 0.  1.  0.  0.  0.  0.  0.  0.  0.  0.  0.]\n",
      " [ 1.  0.  0.  0.  0.  0.  0.  0.  0.  0.  0.]]\n"
     ]
    },
    {
     "data": {
      "image/png": "[encoded data removed]",
      "text/plain": [
       "<matplotlib.figure.Figure at 0x146634f28>"
      ]
     },
     "metadata": {},
     "output_type": "display_data"
    }
   ],
   "source": [
    "filename = os.path.join('new', '6.png')\n",
    "img = cv2.cvtColor(cv2.imread(filename), cv2.COLOR_BGR2RGB)\n",
    "img_vgg16 = cv2.resize(img, (32, 32))\n",
    "\n",
    "print ('File: ', new_filenames[26])\n",
    "print ('Label: ', new_labels[26])\n",
    "print ('Categorical label: \\n', new_labels_cat[26])\n",
    "plt.imshow(img_vgg16);"
   ]
  },
  {
   "cell_type": "code",
   "execution_count": 460,
   "metadata": {},
   "outputs": [
    {
     "name": "stdout",
     "output_type": "stream",
     "text": [
      "Predicted label:\n",
      "[10, 10, 10, 8, 0]\n"
     ]
    }
   ],
   "source": [
    "img_vgg16 = img_vgg16.reshape(1,32,32,3)\n",
    "predict_vgg16 = VGG16_model.predict(img_vgg16)\n",
    "predict_vgg16_add = vgg16_add_model.predict(predict_vgg16)\n",
    "predict_label_vgg16 = [np.argmax(y) for y in predict_vgg16_add]\n",
    "\n",
    "print('Predicted label:')\n",
    "print(predict_label_vgg16)"
   ]
  },
  {
   "cell_type": "markdown",
   "metadata": {},
   "source": [
    "### Documentation\n",
    "Provide additional documentation sufficient for detailing the implementation of the Android application or Python program for visualizing the classification of numbers in images. It should be clear how the program or application works. Demonstrations should be provided. "
   ]
  },
  {
   "cell_type": "code",
   "execution_count": null,
   "metadata": {
    "collapsed": true
   },
   "outputs": [],
   "source": [
    "hide_code\n",
    "#"
   ]
  }
 ],
 "metadata": {
  "anaconda-cloud": {},
  "hide_input": false,
  "kernelspec": {
   "display_name": "Python 3",
   "language": "python",
   "name": "python3"
  },
  "language_info": {
   "codemirror_mode": {
    "name": "ipython",
    "version": 3
   },
   "file_extension": ".py",
   "mimetype": "text/x-python",
   "name": "python",
   "nbconvert_exporter": "python",
   "pygments_lexer": "ipython3",
   "version": "3.6.1"
  },
  "latex_envs": {
   "bibliofile": "biblio.bib",
   "cite_by": "apalike",
   "current_citInitial": 1,
   "eqLabelWithNumbers": true,
   "eqNumInitial": 0
  }
 },
 "nbformat": 4,
 "nbformat_minor": 2
}
