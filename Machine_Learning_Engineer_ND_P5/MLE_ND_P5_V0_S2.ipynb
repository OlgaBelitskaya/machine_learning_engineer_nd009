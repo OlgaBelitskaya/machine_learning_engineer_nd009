{
 "cells": [
  {
   "cell_type": "markdown",
   "metadata": {},
   "source": [
    "# &#x1F4D1; &nbsp;  $\\mathfrak {\\color{#348ABD} {P5: \\ Build \\ a \\ Digit \\ Recognition \\ Program. \\ Step \\ 2}}$"
   ]
  },
  {
   "cell_type": "markdown",
   "metadata": {},
   "source": [
    "----\n",
    "## $\\mathfrak {\\color{#348ABD} {Code \\ Library \\ and \\ Links}}$"
   ]
  },
  {
   "cell_type": "markdown",
   "metadata": {},
   "source": [
    "Multi-dimensional image processing https://docs.scipy.org/doc/scipy/reference/ndimage.html\n",
    "\n",
    "Keras: Deep Learning library for Theano and TensorFlow https://keras.io/\n",
    " \n",
    "Deep MNIST for Experts https://www.tensorflow.org/get_started/mnist/pros\n",
    "\n",
    "Tensorflow Deep MNIST Advanced Tutorial http://docs.seldon.io/tensorflow-deep-mnist-example.html\n",
    "\n",
    "Handwritten Digit Recognition using Convolutional Neural Networks in Python with Keras\n",
    "\n",
    "http://machinelearningmastery.com/handwritten-digit-recognition-using-convolutional-neural-networks-python-keras/"
   ]
  },
  {
   "cell_type": "code",
   "execution_count": 1,
   "metadata": {
    "collapsed": false
   },
   "outputs": [
    {
     "data": {
      "text/html": [
       "<script>code_show = true; \n",
       "function code_display() {\n",
       "    if (code_show) {\n",
       "        $('div.input').each(function(id) {\n",
       "            if (id == 0 || $(this).html().indexOf('hide_code') > -1) {$(this).hide();}\n",
       "        });\n",
       "        $('div.output_prompt').css('opacity', 0);\n",
       "    } else {\n",
       "        $('div.input').each(function(id) {$(this).show();});\n",
       "        $('div.output_prompt').css('opacity', 1);\n",
       "    }\n",
       "    code_show = !code_show;\n",
       "} \n",
       "$(document).ready(code_display);</script>\n",
       "<form action=\"javascript: code_display()\"><input style=\"color: #348ABD; background: ghostwhite; opacity: 0.9; \" type=\"submit\" value=\"Click to display or hide code\"></form>"
      ],
      "text/plain": [
       "<IPython.core.display.HTML object>"
      ]
     },
     "execution_count": 1,
     "metadata": {},
     "output_type": "execute_result"
    }
   ],
   "source": [
    "from IPython.core.display import HTML\n",
    "hide_code = ''\n",
    "HTML('''<script>code_show = true; \n",
    "function code_display() {\n",
    "    if (code_show) {\n",
    "        $('div.input').each(function(id) {\n",
    "            if (id == 0 || $(this).html().indexOf('hide_code') > -1) {$(this).hide();}\n",
    "        });\n",
    "        $('div.output_prompt').css('opacity', 0);\n",
    "    } else {\n",
    "        $('div.input').each(function(id) {$(this).show();});\n",
    "        $('div.output_prompt').css('opacity', 1);\n",
    "    }\n",
    "    code_show = !code_show;\n",
    "} \n",
    "$(document).ready(code_display);</script>\n",
    "<form action=\"javascript: code_display()\"><input style=\"color: #348ABD; background: ghostwhite; opacity: 0.9; \" \\\n",
    "type=\"submit\" value=\"Click to display or hide code\"></form>''')"
   ]
  },
  {
   "cell_type": "code",
   "execution_count": 2,
   "metadata": {
    "collapsed": false
   },
   "outputs": [],
   "source": [
    "hide_code\n",
    "\n",
    "import numpy as np\n",
    "import scipy as sp\n",
    "import pandas as pd\n",
    "import random\n",
    "import scipy.ndimage\n",
    "from scipy.special import expit\n",
    "from time import time\n",
    "\n",
    "import os\n",
    "import sys\n",
    "import h5py\n",
    "import tarfile\n",
    "\n",
    "from six.moves.urllib.request import urlretrieve\n",
    "from six.moves import cPickle as pickle\n",
    "\n",
    "from IPython.display import display, Image, IFrame\n",
    "import matplotlib.pylab as plt\n",
    "import matplotlib.cm as cm\n",
    "from matplotlib import offsetbox\n",
    "%matplotlib inline"
   ]
  },
  {
   "cell_type": "code",
   "execution_count": 3,
   "metadata": {
    "collapsed": true
   },
   "outputs": [],
   "source": [
    "hide_code\n",
    "\n",
    "import tensorflow as tf\n",
    "import tensorflow.examples.tutorials.mnist as mnist"
   ]
  },
  {
   "cell_type": "code",
   "execution_count": 4,
   "metadata": {
    "collapsed": true
   },
   "outputs": [],
   "source": [
    "hide_code\n",
    "\n",
    "from sklearn.neural_network import MLPClassifier, BernoulliRBM\n",
    "from sklearn import linear_model, datasets, metrics\n",
    "from sklearn.pipeline import Pipeline\n",
    "from sklearn import manifold, decomposition, ensemble\n",
    "from sklearn import discriminant_analysis, random_projection\n",
    "from sklearn.model_selection import train_test_split"
   ]
  },
  {
   "cell_type": "code",
   "execution_count": 5,
   "metadata": {
    "collapsed": false
   },
   "outputs": [
    {
     "name": "stderr",
     "output_type": "stream",
     "text": [
      "Using TensorFlow backend.\n"
     ]
    }
   ],
   "source": [
    "hide_code\n",
    "\n",
    "import keras as ks\n",
    "from keras.models import Sequential, load_model\n",
    "from keras.preprocessing import sequence\n",
    "from keras.optimizers import SGD, RMSprop\n",
    "from keras.layers import Dense, Dropout, LSTM\n",
    "from keras.layers import Activation, Flatten\n",
    "from keras.layers import Conv1D, MaxPooling1D, Conv2D, MaxPooling2D\n",
    "from keras.layers.embeddings import Embedding"
   ]
  },
  {
   "cell_type": "code",
   "execution_count": 6,
   "metadata": {
    "collapsed": true
   },
   "outputs": [],
   "source": [
    "hide_code\n",
    "\n",
    "import warnings\n",
    "warnings.filterwarnings('ignore')"
   ]
  },
  {
   "cell_type": "code",
   "execution_count": 7,
   "metadata": {
    "collapsed": true
   },
   "outputs": [],
   "source": [
    "hide_code\n",
    "\n",
    "def download_progress_hook(count, blockSize, totalSize):\n",
    "    \"\"\"A hook to report the progress of a download. This is mostly intended for users with\n",
    "    slow internet connections. Reports every 5% change in download progress.\n",
    "    \"\"\"\n",
    "    global last_percent_reported\n",
    "    percent = int(count * blockSize * 100 / totalSize)\n",
    "\n",
    "    if last_percent_reported != percent:\n",
    "        if percent % 5 == 0:\n",
    "            sys.stdout.write(\"%s%%\" % percent)\n",
    "            sys.stdout.flush()\n",
    "        else:\n",
    "            sys.stdout.write(\".\")\n",
    "            sys.stdout.flush()\n",
    "      \n",
    "        last_percent_reported = percent\n",
    "        \n",
    "def maybe_download(filename, expected_bytes, force=False):\n",
    "    \"\"\"Download a file if not present, and make sure it's the right size.\"\"\"\n",
    "    dest_filename = os.path.join(data_root, filename)\n",
    "    if force or not os.path.exists(dest_filename):\n",
    "        print('Attempting to download:', filename) \n",
    "        filename, _ = urlretrieve(url + filename, dest_filename, reporthook=download_progress_hook)\n",
    "        print('\\nDownload Complete!')\n",
    "    statinfo = os.stat(dest_filename)\n",
    "    if statinfo.st_size == expected_bytes:\n",
    "        print('Found and verified', dest_filename)\n",
    "    else:\n",
    "        raise Exception('Failed to verify ' + dest_filename + '. Can you get to it with a browser?')\n",
    "    return dest_filename\n",
    "\n",
    "def maybe_extract(file_, force=False):\n",
    "    filename = os.path.splitext(os.path.splitext(file_)[0])[0]  # remove .tar.gz\n",
    "    \n",
    "    if os.path.isdir(filename) and not force:\n",
    "        # You may override by setting force=True.\n",
    "        print('%s is already presented - Skipping extraction of %s.' % (filename, file_))\n",
    "    else:\n",
    "        print('Extracting %s file data. Please wait...' % file_)\n",
    "        tar = tarfile.open(file_)\n",
    "        sys.stdout.flush()\n",
    "        tar.extractall()\n",
    "        tar.close()\n",
    "        print('File %s is successfully extracted into %s directory.' % (file_, filename))        \n",
    "    \n",
    "    return filename"
   ]
  },
  {
   "cell_type": "code",
   "execution_count": 8,
   "metadata": {
    "collapsed": false
   },
   "outputs": [],
   "source": [
    "hide_code\n",
    "# https://github.com/sarahrn/Py-Gsvhn-DigitStruct-Reader/blob/master/digitStruct.py\n",
    "\n",
    "#\n",
    "# Bounding Box\n",
    "#\n",
    "class BBox:\n",
    "    def __init__(self):\n",
    "        self.label = \"\"     # Digit\n",
    "        self.left = 0\n",
    "        self.top = 0\n",
    "        self.width = 0\n",
    "        self.height = 0\n",
    "\n",
    "class DigitStruct:\n",
    "    def __init__(self):\n",
    "        self.name = None    # Image file name\n",
    "        self.bboxList = None # List of BBox structs\n",
    "\n",
    "# Function for debugging\n",
    "def printHDFObj(theObj, theObjName):\n",
    "    isFile = isinstance(theObj, h5py.File)\n",
    "    isGroup = isinstance(theObj, h5py.Group)\n",
    "    isDataSet = isinstance(theObj, h5py.Dataset)\n",
    "    isReference = isinstance(theObj, h5py.Reference)\n",
    "    print (\"{}\".format(theObjName))\n",
    "    print (\"    type(): {}\".format(type(theObj)))\n",
    "    if isFile or isGroup or isDataSet:\n",
    "        # if theObj.name != None:\n",
    "        #    print \"    name: {}\".format(theObj.name)\n",
    "        print (\"    id: {}\".format(theObj.id))\n",
    "    if isFile or isGroup:\n",
    "        print (\"    keys: {}\".format(theObj.keys()))\n",
    "    if not isReference:\n",
    "        print (\"    Len: {}\".format(len(theObj)))\n",
    "\n",
    "    if not (isFile or isGroup or isDataSet or isReference):\n",
    "        print (theObj)\n",
    "\n",
    "def readDigitStructGroup(dsFile):\n",
    "    dsGroup = dsFile[\"digitStruct\"]\n",
    "    return dsGroup\n",
    "\n",
    "#\n",
    "# Reads a string from the file using its reference\n",
    "#\n",
    "def readString(strRef, dsFile):\n",
    "    strObj = dsFile[strRef]\n",
    "    str = ''.join(chr(i) for i in strObj)\n",
    "    return str\n",
    "\n",
    "#\n",
    "# Reads an integer value from the file\n",
    "#\n",
    "def readInt(intArray, dsFile):\n",
    "    intRef = intArray[0]\n",
    "    isReference = isinstance(intRef, h5py.Reference)\n",
    "    intVal = 0\n",
    "    if isReference:\n",
    "        intObj = dsFile[intRef]\n",
    "        intVal = int(intObj[0])\n",
    "    else: # Assuming value type\n",
    "        intVal = int(intRef)\n",
    "    return intVal\n",
    "\n",
    "def yieldNextInt(intDataset, dsFile):\n",
    "    for intData in intDataset:\n",
    "        intVal = readInt(intData, dsFile)\n",
    "        yield intVal \n",
    "\n",
    "def yieldNextBBox(bboxDataset, dsFile):\n",
    "    for bboxArray in bboxDataset:\n",
    "        bboxGroupRef = bboxArray[0]\n",
    "        bboxGroup = dsFile[bboxGroupRef]\n",
    "        labelDataset = bboxGroup[\"label\"]\n",
    "        leftDataset = bboxGroup[\"left\"]\n",
    "        topDataset = bboxGroup[\"top\"]\n",
    "        widthDataset = bboxGroup[\"width\"]\n",
    "        heightDataset = bboxGroup[\"height\"]\n",
    "\n",
    "        left = yieldNextInt(leftDataset, dsFile)\n",
    "        top = yieldNextInt(topDataset, dsFile)\n",
    "        width = yieldNextInt(widthDataset, dsFile)\n",
    "        height = yieldNextInt(heightDataset, dsFile)\n",
    "\n",
    "        bboxList = []\n",
    "\n",
    "        for label in yieldNextInt(labelDataset, dsFile):\n",
    "            bbox = BBox()\n",
    "            bbox.label = label\n",
    "            bbox.left = next(left)\n",
    "            bbox.top = next(top)\n",
    "            bbox.width = next(width)\n",
    "            bbox.height = next(height)\n",
    "            bboxList.append(bbox)\n",
    "\n",
    "        yield bboxList\n",
    "\n",
    "def yieldNextFileName(nameDataset, dsFile):\n",
    "    for nameArray in nameDataset:\n",
    "        nameRef = nameArray[0]\n",
    "        name = readString(nameRef, dsFile)\n",
    "        yield name\n",
    "\n",
    "def yieldNextDigitStruct(dsFileName):\n",
    "    dsFile = h5py.File(dsFileName, 'r')\n",
    "    dsGroup = readDigitStructGroup(dsFile)\n",
    "    nameDataset = dsGroup[\"name\"]\n",
    "    bboxDataset = dsGroup[\"bbox\"]\n",
    "\n",
    "    bboxListIter = yieldNextBBox(bboxDataset, dsFile)\n",
    "    for name in yieldNextFileName(nameDataset, dsFile):\n",
    "        bboxList = next(bboxListIter)\n",
    "        obj = DigitStruct()\n",
    "        obj.name = name\n",
    "        obj.bboxList = bboxList\n",
    "        yield obj\n",
    "        \n",
    "def testMain():\n",
    "\n",
    "    dsFileName = 'train/digitStruct.mat'\n",
    "    testCounter = 0\n",
    "    for dsObj in yieldNextDigitStruct(dsFileName):\n",
    "        # testCounter += 1\n",
    "        print (dsObj.name)\n",
    "        for bbox in dsObj.bboxList:\n",
    "            print (\"    {}:{},{},{},{}\".format(bbox.label, bbox.left, bbox.top, bbox.width, bbox.height))\n",
    "        if testCounter >= 5:\n",
    "            break\n",
    "\n",
    "# if __name__ == \"__main__\":\n",
    "#     testMain()"
   ]
  },
  {
   "cell_type": "code",
   "execution_count": 9,
   "metadata": {
    "collapsed": false
   },
   "outputs": [],
   "source": [
    "hide_code\n",
    "\n",
    "def testMain():\n",
    "\n",
    "    dsFileName = 'test/digitStruct.mat'\n",
    "    testCounter = 0\n",
    "    for dsObj in yieldNextDigitStruct(dsFileName):\n",
    "        # testCounter += 1\n",
    "        print (dsObj.name)\n",
    "        for bbox in dsObj.bboxList:\n",
    "            print (\"    {}:{},{},{},{}\".format(bbox.label, bbox.left, bbox.top, bbox.width, bbox.height))\n",
    "        if testCounter >= 5:\n",
    "            break\n",
    "\n",
    "# if __name__ == \"__main__\":\n",
    "#     testMain()"
   ]
  },
  {
   "cell_type": "code",
   "execution_count": 10,
   "metadata": {
    "collapsed": false
   },
   "outputs": [],
   "source": [
    "hide_code\n",
    "\n",
    "def testMain():\n",
    "\n",
    "    dsFileName = 'extra/digitStruct.mat'\n",
    "    testCounter = 0\n",
    "    for dsObj in yieldNextDigitStruct(dsFileName):\n",
    "        # testCounter += 1\n",
    "        print (dsObj.name)\n",
    "        for bbox in dsObj.bboxList:\n",
    "            print (\"    {}:{},{},{},{}\".format(bbox.label, bbox.left, bbox.top, bbox.width, bbox.height))\n",
    "        if testCounter >= 5:\n",
    "            break\n",
    "\n",
    "# if __name__ == \"__main__\":\n",
    "#     testMain()"
   ]
  },
  {
   "cell_type": "code",
   "execution_count": 11,
   "metadata": {
    "collapsed": false
   },
   "outputs": [],
   "source": [
    "hide_code\n",
    "# https://github.com/sarahrn/Py-Gsvhn-DigitStruct-Reader/blob/master/digitStructMatToCsv.py\n",
    "\n",
    "def writeToCsvFile(dsFileName, csvFile):\n",
    "    fileCount = 0\n",
    "    csvFile.write(\"FileName,DigitLabel,Left,Top,Width,Height\\n\")\n",
    "    for dsObj in yieldNextDigitStruct(dsFileName):\n",
    "        fileCount += 1\n",
    "        for bbox in dsObj.bboxList:\n",
    "            csvLine = \"{},{},{},{},{},{}\\n\".format(\n",
    "                dsObj.name,\n",
    "                bbox.label, bbox.left, bbox.top, bbox.width, bbox.height)\n",
    "            csvFile.write(csvLine)\n",
    "    print(\"Number of image files: {}\".format(fileCount))\n",
    "\n",
    "def convertToCsv(dsFilePath, csvFilePath):\n",
    "    with open(csvFilePath, \"w\") as csvFile:\n",
    "        writeToCsvFile(dsFilePath, csvFile)\n",
    "\n",
    "def main():\n",
    "    dsFilePath = 'train/digitStruct.mat'\n",
    "    csvFilePath = 'train_digitStruct.csv'\n",
    "    print(\"Converting {0} to {1}\".format(dsFilePath, csvFilePath))\n",
    "    convertToCsv(dsFilePath, csvFilePath)\n",
    "\n",
    "# if __name__ == \"__main__\":\n",
    "#     main()"
   ]
  },
  {
   "cell_type": "code",
   "execution_count": 12,
   "metadata": {
    "collapsed": false
   },
   "outputs": [],
   "source": [
    "hide_code\n",
    "\n",
    "def main():\n",
    "    dsFilePath = 'test/digitStruct.mat'\n",
    "    csvFilePath = 'test_digitStruct.csv'\n",
    "    print(\"Converting {0} to {1}\".format(dsFilePath, csvFilePath))\n",
    "    convertToCsv(dsFilePath, csvFilePath)\n",
    "\n",
    "# if __name__ == \"__main__\":\n",
    "#     main()"
   ]
  },
  {
   "cell_type": "code",
   "execution_count": 13,
   "metadata": {
    "collapsed": false
   },
   "outputs": [],
   "source": [
    "hide_code\n",
    "\n",
    "def main():\n",
    "    dsFilePath = 'extra/digitStruct.mat'\n",
    "    csvFilePath = 'extra_digitStruct.csv'\n",
    "    print(\"Converting {0} to {1}\".format(dsFilePath, csvFilePath))\n",
    "    convertToCsv(dsFilePath, csvFilePath)\n",
    "\n",
    "# if __name__ == \"__main__\":\n",
    "#     main()"
   ]
  },
  {
   "cell_type": "code",
   "execution_count": 14,
   "metadata": {
    "collapsed": false
   },
   "outputs": [],
   "source": [
    "hide_code\n",
    "\n",
    "def write_pickle(data, filename):\n",
    "    try:\n",
    "        with open(filename, 'wb') as f:\n",
    "            pickle.dump(data, f, pickle.HIGHEST_PROTOCOL)\n",
    "            print (filename + \" is pickled!\")\n",
    "    except Exception as e:\n",
    "        print('Unable to save the data to', filename, ':', e)\n",
    "\n",
    "def load_pickle(file):\n",
    "    with open(file, 'rb') as pickle_file:\n",
    "        return pickle.load(pickle_file)"
   ]
  },
  {
   "cell_type": "code",
   "execution_count": 15,
   "metadata": {
    "collapsed": false
   },
   "outputs": [],
   "source": [
    "hide_code\n",
    "\n",
    "def grouped_by_filename(data):    \n",
    "    filename_set = np.array(list(set(data['filename'])))\n",
    "    n = filename_set.shape[0]\n",
    "    labels = []\n",
    "    boxes = []\n",
    "    data_gr = data.groupby(['filename'])\n",
    "    for i in range(n):\n",
    "        x = filename_set[i]\n",
    "        labels.append(np.array(data_gr.get_group(x)['label']))\n",
    "        boxes.append(np.array(data_gr.get_group(x)['box']))\n",
    "    labels = np.array(labels)\n",
    "    boxes = np.array(boxes)\n",
    "    data_g = {'filename': filename_set, 'label': labels, 'box': boxes}\n",
    "    new_data = pd.DataFrame(data=data_g)\n",
    "    return new_data"
   ]
  },
  {
   "cell_type": "code",
   "execution_count": 76,
   "metadata": {
    "collapsed": true
   },
   "outputs": [],
   "source": [
    "hide_code\n",
    "\n",
    "def fivedigit_label(label):\n",
    "    size = len(label)\n",
    "    if size >= 5:\n",
    "        return label\n",
    "    else:\n",
    "        num_zeros = np.full((5-size), 10)\n",
    "        return np.array(np.concatenate((num_zeros, label), axis = 0))\n",
    "    \n",
    "def get_labels(data):\n",
    "    string = data.replace('[', '').replace(']', '').replace(',', '')\n",
    "    labels = np.array([int(n) for n in string.split()])\n",
    "    return labels\n",
    "\n",
    "def image_box(box):\n",
    "        left, top, width, height = box[:, 0], box[:, 1], box[:, 2], box[:, 3]\n",
    "        \n",
    "        image_left = min(left) + 1\n",
    "        image_top = min(top) + 1\n",
    "        image_bottom = max(top) + max(height)\n",
    "        image_right = max(left) + max(width)\n",
    "        return np.array([image_left, image_right, image_top, image_bottom])\n",
    "\n",
    "def get_box(data):\n",
    "    value = data.values[0]\n",
    "    string = value.replace('[', '').replace(']', '').replace(',', '')\n",
    "    numbers = np.array([int(n) for n in string.split()])        \n",
    "    k = len(numbers)/4\n",
    "    numbers = numbers.reshape(k, 4)       \n",
    "    return numbers\n",
    "\n",
    "def get_image(folder, image_file):\n",
    "    filename=os.path.join(folder, image_file)\n",
    "    image = scipy.ndimage.imread(filename, mode='RGB')\n",
    "    \n",
    "    if folder == 'train':\n",
    "        n = np.where(train_filenames == image_file)[0]\n",
    "        box = np.array(get_box(train_b['box'][n]))\n",
    "        label = train_labels[n]\n",
    "        \n",
    "    elif folder == 'test':\n",
    "        n = np.where(test_filenames == image_file)[0]\n",
    "        box = np.array(get_box(test_b['box'][n]))\n",
    "        label = test_labels[n]\n",
    "        \n",
    "    elif folder == 'extra':\n",
    "        n = np.where(extra_filenames == image_file)[0]\n",
    "        box = np.array(get_box(extra_b['box'][n]))\n",
    "        label = extra_labels[n]\n",
    "        \n",
    "    nbox = image_box(box)\n",
    "    image_left, image_right, image_top, image_bottom = nbox[0], nbox[1], nbox[2], nbox[3]\n",
    "    \n",
    "    image_bottom = min(image.shape[0], image_bottom)\n",
    "    image_right = min(image.shape[1], image_right)\n",
    "                   \n",
    "    nimage = image[image_top:image_bottom, image_left:image_right]\n",
    "    \n",
    "    image64_1 = scipy.misc.imresize(nimage, (32, 32, 3)) / 255\n",
    "    image64_2 = np.dot(np.array(image64_1, dtype='float32'), [0.299, 0.587, 0.114])\n",
    "    return image64_1, image64_2, label"
   ]
  },
  {
   "cell_type": "markdown",
   "metadata": {},
   "source": [
    "----\n",
    "## $\\mathfrak {\\color{#348ABD} {Experimental \\ Datasets}}$"
   ]
  },
  {
   "cell_type": "markdown",
   "metadata": {},
   "source": [
    "#### Dataset #5. Stanford.edu. Housenumbers\n",
    "\n",
    "http://ufldl.stanford.edu/housenumbers/"
   ]
  },
  {
   "cell_type": "code",
   "execution_count": 17,
   "metadata": {
    "collapsed": false
   },
   "outputs": [
    {
     "name": "stdout",
     "output_type": "stream",
     "text": [
      "Found and verified ./train.tar.gz\n",
      "Found and verified ./test.tar.gz\n",
      "Found and verified ./extra.tar.gz\n"
     ]
    }
   ],
   "source": [
    "hide_code\n",
    "\n",
    "url = 'http://ufldl.stanford.edu/housenumbers/'\n",
    "last_percent_reported = None\n",
    "data_root = '.' # Change me to store data elsewhere\n",
    "\n",
    "train_filename = maybe_download('train.tar.gz', 404141560)\n",
    "test_filename = maybe_download('test.tar.gz', 276555967)\n",
    "extra_filename = maybe_download('extra.tar.gz', 1955489752)"
   ]
  },
  {
   "cell_type": "code",
   "execution_count": 18,
   "metadata": {
    "collapsed": false
   },
   "outputs": [
    {
     "name": "stdout",
     "output_type": "stream",
     "text": [
      "./train is already presented - Skipping extraction of ./train.tar.gz.\n",
      "./test is already presented - Skipping extraction of ./test.tar.gz.\n",
      "./extra is already presented - Skipping extraction of ./extra.tar.gz.\n"
     ]
    }
   ],
   "source": [
    "hide_code\n",
    "\n",
    "train_folder = maybe_extract(train_filename)\n",
    "test_folder = maybe_extract(test_filename)\n",
    "extra_folder = maybe_extract(extra_filename)"
   ]
  },
  {
   "cell_type": "code",
   "execution_count": 19,
   "metadata": {
    "collapsed": false
   },
   "outputs": [
    {
     "name": "stdout",
     "output_type": "stream",
     "text": [
      "A few examples of images\n"
     ]
    },
    {
     "data": {
      "image/png": "[encoded data removed]",
      "text/plain": [
       "<IPython.core.display.Image object>"
      ]
     },
     "metadata": {},
     "output_type": "display_data"
    },
    {
     "data": {
      "image/png": "[encoded data removed]",
      "text/plain": [
       "<IPython.core.display.Image object>"
      ]
     },
     "metadata": {},
     "output_type": "display_data"
    },
    {
     "data": {
      "image/png": "[encoded data removed]",
      "text/plain": [
       "<IPython.core.display.Image object>"
      ]
     },
     "metadata": {},
     "output_type": "display_data"
    },
    {
     "data": {
      "image/png": "[encoded data removed]",
      "text/plain": [
       "<IPython.core.display.Image object>"
      ]
     },
     "metadata": {},
     "output_type": "display_data"
    },
    {
     "data": {
      "image/png": "[encoded data removed]",
      "text/plain": [
       "<IPython.core.display.Image object>"
      ]
     },
     "metadata": {},
     "output_type": "display_data"
    }
   ],
   "source": [
    "hide_code\n",
    "\n",
    "print('A few examples of images')\n",
    "image_path = os.path.join('extra')\n",
    "images = [f for f in os.listdir(image_path) if f.endswith('.png')][1010:1015]\n",
    "for image in images:\n",
    "    display(Image(filename=os.path.join(image_path,image)))"
   ]
  },
  {
   "cell_type": "code",
   "execution_count": 20,
   "metadata": {
    "collapsed": false
   },
   "outputs": [
    {
     "data": {
      "text/html": [
       "<div>\n",
       "<table border=\"1\" class=\"dataframe\">\n",
       "  <thead>\n",
       "    <tr style=\"text-align: right;\">\n",
       "      <th></th>\n",
       "      <th>FileName</th>\n",
       "      <th>DigitLabel</th>\n",
       "      <th>Left</th>\n",
       "      <th>Top</th>\n",
       "      <th>Width</th>\n",
       "      <th>Height</th>\n",
       "    </tr>\n",
       "  </thead>\n",
       "  <tbody>\n",
       "    <tr>\n",
       "      <th>0</th>\n",
       "      <td>1.png</td>\n",
       "      <td>1</td>\n",
       "      <td>246</td>\n",
       "      <td>77</td>\n",
       "      <td>81</td>\n",
       "      <td>219</td>\n",
       "    </tr>\n",
       "    <tr>\n",
       "      <th>1</th>\n",
       "      <td>1.png</td>\n",
       "      <td>9</td>\n",
       "      <td>323</td>\n",
       "      <td>81</td>\n",
       "      <td>96</td>\n",
       "      <td>219</td>\n",
       "    </tr>\n",
       "    <tr>\n",
       "      <th>2</th>\n",
       "      <td>2.png</td>\n",
       "      <td>2</td>\n",
       "      <td>77</td>\n",
       "      <td>29</td>\n",
       "      <td>23</td>\n",
       "      <td>32</td>\n",
       "    </tr>\n",
       "  </tbody>\n",
       "</table>\n",
       "</div>"
      ],
      "text/plain": [
       "  FileName  DigitLabel  Left  Top  Width  Height\n",
       "0    1.png           1   246   77     81     219\n",
       "1    1.png           9   323   81     96     219\n",
       "2    2.png           2    77   29     23      32"
      ]
     },
     "metadata": {},
     "output_type": "display_data"
    },
    {
     "data": {
      "text/html": [
       "<div>\n",
       "<table border=\"1\" class=\"dataframe\">\n",
       "  <thead>\n",
       "    <tr style=\"text-align: right;\">\n",
       "      <th></th>\n",
       "      <th>FileName</th>\n",
       "      <th>DigitLabel</th>\n",
       "      <th>Left</th>\n",
       "      <th>Top</th>\n",
       "      <th>Width</th>\n",
       "      <th>Height</th>\n",
       "    </tr>\n",
       "  </thead>\n",
       "  <tbody>\n",
       "    <tr>\n",
       "      <th>0</th>\n",
       "      <td>1.png</td>\n",
       "      <td>5</td>\n",
       "      <td>43</td>\n",
       "      <td>7</td>\n",
       "      <td>19</td>\n",
       "      <td>30</td>\n",
       "    </tr>\n",
       "    <tr>\n",
       "      <th>1</th>\n",
       "      <td>2.png</td>\n",
       "      <td>2</td>\n",
       "      <td>99</td>\n",
       "      <td>5</td>\n",
       "      <td>14</td>\n",
       "      <td>23</td>\n",
       "    </tr>\n",
       "    <tr>\n",
       "      <th>2</th>\n",
       "      <td>2.png</td>\n",
       "      <td>1</td>\n",
       "      <td>114</td>\n",
       "      <td>8</td>\n",
       "      <td>8</td>\n",
       "      <td>23</td>\n",
       "    </tr>\n",
       "  </tbody>\n",
       "</table>\n",
       "</div>"
      ],
      "text/plain": [
       "  FileName  DigitLabel  Left  Top  Width  Height\n",
       "0    1.png           5    43    7     19      30\n",
       "1    2.png           2    99    5     14      23\n",
       "2    2.png           1   114    8      8      23"
      ]
     },
     "metadata": {},
     "output_type": "display_data"
    },
    {
     "data": {
      "text/html": [
       "<div>\n",
       "<table border=\"1\" class=\"dataframe\">\n",
       "  <thead>\n",
       "    <tr style=\"text-align: right;\">\n",
       "      <th></th>\n",
       "      <th>FileName</th>\n",
       "      <th>DigitLabel</th>\n",
       "      <th>Left</th>\n",
       "      <th>Top</th>\n",
       "      <th>Width</th>\n",
       "      <th>Height</th>\n",
       "    </tr>\n",
       "  </thead>\n",
       "  <tbody>\n",
       "    <tr>\n",
       "      <th>0</th>\n",
       "      <td>1.png</td>\n",
       "      <td>4</td>\n",
       "      <td>24</td>\n",
       "      <td>70</td>\n",
       "      <td>38</td>\n",
       "      <td>56</td>\n",
       "    </tr>\n",
       "    <tr>\n",
       "      <th>1</th>\n",
       "      <td>1.png</td>\n",
       "      <td>7</td>\n",
       "      <td>55</td>\n",
       "      <td>41</td>\n",
       "      <td>36</td>\n",
       "      <td>56</td>\n",
       "    </tr>\n",
       "    <tr>\n",
       "      <th>2</th>\n",
       "      <td>1.png</td>\n",
       "      <td>8</td>\n",
       "      <td>79</td>\n",
       "      <td>23</td>\n",
       "      <td>47</td>\n",
       "      <td>56</td>\n",
       "    </tr>\n",
       "  </tbody>\n",
       "</table>\n",
       "</div>"
      ],
      "text/plain": [
       "  FileName  DigitLabel  Left  Top  Width  Height\n",
       "0    1.png           4    24   70     38      56\n",
       "1    1.png           7    55   41     36      56\n",
       "2    1.png           8    79   23     47      56"
      ]
     },
     "metadata": {},
     "output_type": "display_data"
    }
   ],
   "source": [
    "hide_code\n",
    "\n",
    "train_set = pd.read_csv(\"train_digitStruct.csv\")\n",
    "test_set = pd.read_csv(\"test_digitStruct.csv\")\n",
    "extra_set = pd.read_csv(\"extra_digitStruct.csv\")\n",
    "display(train_set.head(3))\n",
    "display(test_set.head(3))\n",
    "display(extra_set.head(3))"
   ]
  },
  {
   "cell_type": "code",
   "execution_count": 19,
   "metadata": {
    "collapsed": false
   },
   "outputs": [],
   "source": [
    "hide_code\n",
    "\n",
    "train_box = [[train_set['Left'][i], train_set['Top'][i], \n",
    "              train_set['Width'][i], train_set['Height'][i]] \n",
    "             for i in range(len(train_set))]\n",
    "\n",
    "test_box = [[test_set['Left'][i], test_set['Top'][i], \n",
    "             test_set['Width'][i], test_set['Height'][i]] \n",
    "            for i in range(len(test_set))]\n",
    "\n",
    "extra_box = [[extra_set['Left'][i], extra_set['Top'][i], \n",
    "              extra_set['Width'][i], extra_set['Height'][i]] \n",
    "             for i in range(len(extra_set))]"
   ]
  },
  {
   "cell_type": "code",
   "execution_count": 23,
   "metadata": {
    "collapsed": false
   },
   "outputs": [
    {
     "data": {
      "text/html": [
       "<div>\n",
       "<table border=\"1\" class=\"dataframe\">\n",
       "  <thead>\n",
       "    <tr style=\"text-align: right;\">\n",
       "      <th></th>\n",
       "      <th>box</th>\n",
       "      <th>filename</th>\n",
       "      <th>label</th>\n",
       "    </tr>\n",
       "  </thead>\n",
       "  <tbody>\n",
       "    <tr>\n",
       "      <th>0</th>\n",
       "      <td>[246, 77, 81, 219]</td>\n",
       "      <td>1.png</td>\n",
       "      <td>1</td>\n",
       "    </tr>\n",
       "    <tr>\n",
       "      <th>1</th>\n",
       "      <td>[323, 81, 96, 219]</td>\n",
       "      <td>1.png</td>\n",
       "      <td>9</td>\n",
       "    </tr>\n",
       "    <tr>\n",
       "      <th>2</th>\n",
       "      <td>[77, 29, 23, 32]</td>\n",
       "      <td>2.png</td>\n",
       "      <td>2</td>\n",
       "    </tr>\n",
       "  </tbody>\n",
       "</table>\n",
       "</div>"
      ],
      "text/plain": [
       "                  box filename  label\n",
       "0  [246, 77, 81, 219]    1.png      1\n",
       "1  [323, 81, 96, 219]    1.png      9\n",
       "2    [77, 29, 23, 32]    2.png      2"
      ]
     },
     "metadata": {},
     "output_type": "display_data"
    },
    {
     "data": {
      "text/html": [
       "<div>\n",
       "<table border=\"1\" class=\"dataframe\">\n",
       "  <thead>\n",
       "    <tr style=\"text-align: right;\">\n",
       "      <th></th>\n",
       "      <th>box</th>\n",
       "      <th>filename</th>\n",
       "      <th>label</th>\n",
       "    </tr>\n",
       "  </thead>\n",
       "  <tbody>\n",
       "    <tr>\n",
       "      <th>0</th>\n",
       "      <td>[43, 7, 19, 30]</td>\n",
       "      <td>1.png</td>\n",
       "      <td>5</td>\n",
       "    </tr>\n",
       "    <tr>\n",
       "      <th>1</th>\n",
       "      <td>[99, 5, 14, 23]</td>\n",
       "      <td>2.png</td>\n",
       "      <td>2</td>\n",
       "    </tr>\n",
       "    <tr>\n",
       "      <th>2</th>\n",
       "      <td>[114, 8, 8, 23]</td>\n",
       "      <td>2.png</td>\n",
       "      <td>1</td>\n",
       "    </tr>\n",
       "  </tbody>\n",
       "</table>\n",
       "</div>"
      ],
      "text/plain": [
       "               box filename  label\n",
       "0  [43, 7, 19, 30]    1.png      5\n",
       "1  [99, 5, 14, 23]    2.png      2\n",
       "2  [114, 8, 8, 23]    2.png      1"
      ]
     },
     "metadata": {},
     "output_type": "display_data"
    },
    {
     "data": {
      "text/html": [
       "<div>\n",
       "<table border=\"1\" class=\"dataframe\">\n",
       "  <thead>\n",
       "    <tr style=\"text-align: right;\">\n",
       "      <th></th>\n",
       "      <th>box</th>\n",
       "      <th>filename</th>\n",
       "      <th>label</th>\n",
       "    </tr>\n",
       "  </thead>\n",
       "  <tbody>\n",
       "    <tr>\n",
       "      <th>0</th>\n",
       "      <td>[24, 70, 38, 56]</td>\n",
       "      <td>1.png</td>\n",
       "      <td>4</td>\n",
       "    </tr>\n",
       "    <tr>\n",
       "      <th>1</th>\n",
       "      <td>[55, 41, 36, 56]</td>\n",
       "      <td>1.png</td>\n",
       "      <td>7</td>\n",
       "    </tr>\n",
       "    <tr>\n",
       "      <th>2</th>\n",
       "      <td>[79, 23, 47, 56]</td>\n",
       "      <td>1.png</td>\n",
       "      <td>8</td>\n",
       "    </tr>\n",
       "  </tbody>\n",
       "</table>\n",
       "</div>"
      ],
      "text/plain": [
       "                box filename  label\n",
       "0  [24, 70, 38, 56]    1.png      4\n",
       "1  [55, 41, 36, 56]    1.png      7\n",
       "2  [79, 23, 47, 56]    1.png      8"
      ]
     },
     "metadata": {},
     "output_type": "display_data"
    }
   ],
   "source": [
    "hide_code\n",
    "\n",
    "train_d = {'filename': train_set['FileName'], 'label': train_set['DigitLabel'], 'box': train_box}\n",
    "train_df = pd.DataFrame(data=train_d)\n",
    "\n",
    "test_d = {'filename': test_set['FileName'], 'label': test_set['DigitLabel'], 'box': test_box}\n",
    "test_df = pd.DataFrame(data=test_d)\n",
    "\n",
    "extra_d = {'filename': extra_set['FileName'], 'label': extra_set['DigitLabel'], 'box': extra_box}\n",
    "extra_df = pd.DataFrame(data=extra_d)\n",
    "\n",
    "display(train_df.head(3))\n",
    "display(test_df.head(3))\n",
    "display(extra_df.head(3))"
   ]
  },
  {
   "cell_type": "code",
   "execution_count": 23,
   "metadata": {
    "collapsed": false
   },
   "outputs": [
    {
     "data": {
      "text/plain": [
       "''"
      ]
     },
     "execution_count": 23,
     "metadata": {},
     "output_type": "execute_result"
    }
   ],
   "source": [
    "hide_code\n",
    "\n",
    "# train_g = grouped_by_filename(train_df)\n",
    "# test_g = grouped_by_filename(test_df)\n",
    "# extra_g = grouped_by_filename(extra_df)"
   ]
  },
  {
   "cell_type": "code",
   "execution_count": 543,
   "metadata": {
    "collapsed": false
   },
   "outputs": [
    {
     "data": {
      "text/html": [
       "<div>\n",
       "<table border=\"1\" class=\"dataframe\">\n",
       "  <thead>\n",
       "    <tr style=\"text-align: right;\">\n",
       "      <th></th>\n",
       "      <th>box</th>\n",
       "      <th>filename</th>\n",
       "      <th>label</th>\n",
       "    </tr>\n",
       "  </thead>\n",
       "  <tbody>\n",
       "    <tr>\n",
       "      <th>0</th>\n",
       "      <td>[[33, 10, 12, 24], [45, 10, 11, 24]]</td>\n",
       "      <td>5502.png</td>\n",
       "      <td>[3, 5]</td>\n",
       "    </tr>\n",
       "    <tr>\n",
       "      <th>1</th>\n",
       "      <td>[[35, 7, 11, 37], [44, 3, 11, 37]]</td>\n",
       "      <td>6876.png</td>\n",
       "      <td>[1, 5]</td>\n",
       "    </tr>\n",
       "    <tr>\n",
       "      <th>2</th>\n",
       "      <td>[[99, 32, 35, 51], [125, 29, 31, 51]]</td>\n",
       "      <td>12741.png</td>\n",
       "      <td>[2, 9]</td>\n",
       "    </tr>\n",
       "  </tbody>\n",
       "</table>\n",
       "</div>"
      ],
      "text/plain": [
       "                                     box   filename   label\n",
       "0   [[33, 10, 12, 24], [45, 10, 11, 24]]   5502.png  [3, 5]\n",
       "1     [[35, 7, 11, 37], [44, 3, 11, 37]]   6876.png  [1, 5]\n",
       "2  [[99, 32, 35, 51], [125, 29, 31, 51]]  12741.png  [2, 9]"
      ]
     },
     "metadata": {},
     "output_type": "display_data"
    },
    {
     "data": {
      "text/html": [
       "<div>\n",
       "<table border=\"1\" class=\"dataframe\">\n",
       "  <thead>\n",
       "    <tr style=\"text-align: right;\">\n",
       "      <th></th>\n",
       "      <th>box</th>\n",
       "      <th>filename</th>\n",
       "      <th>label</th>\n",
       "    </tr>\n",
       "  </thead>\n",
       "  <tbody>\n",
       "    <tr>\n",
       "      <th>0</th>\n",
       "      <td>[[35, 10, 15, 22], [51, 9, 12, 22], [63, 10, 1...</td>\n",
       "      <td>5502.png</td>\n",
       "      <td>[1, 7, 1]</td>\n",
       "    </tr>\n",
       "    <tr>\n",
       "      <th>1</th>\n",
       "      <td>[[135, 40, 10, 22], [146, 38, 16, 22]]</td>\n",
       "      <td>1166.png</td>\n",
       "      <td>[1, 7]</td>\n",
       "    </tr>\n",
       "    <tr>\n",
       "      <th>2</th>\n",
       "      <td>[[125, 37, 17, 25], [141, 41, 16, 25]]</td>\n",
       "      <td>506.png</td>\n",
       "      <td>[2, 8]</td>\n",
       "    </tr>\n",
       "  </tbody>\n",
       "</table>\n",
       "</div>"
      ],
      "text/plain": [
       "                                                 box  filename      label\n",
       "0  [[35, 10, 15, 22], [51, 9, 12, 22], [63, 10, 1...  5502.png  [1, 7, 1]\n",
       "1             [[135, 40, 10, 22], [146, 38, 16, 22]]  1166.png     [1, 7]\n",
       "2             [[125, 37, 17, 25], [141, 41, 16, 25]]   506.png     [2, 8]"
      ]
     },
     "metadata": {},
     "output_type": "display_data"
    },
    {
     "data": {
      "text/html": [
       "<div>\n",
       "<table border=\"1\" class=\"dataframe\">\n",
       "  <thead>\n",
       "    <tr style=\"text-align: right;\">\n",
       "      <th></th>\n",
       "      <th>box</th>\n",
       "      <th>filename</th>\n",
       "      <th>label</th>\n",
       "    </tr>\n",
       "  </thead>\n",
       "  <tbody>\n",
       "    <tr>\n",
       "      <th>0</th>\n",
       "      <td>[[21, 16, 34, 56], [55, 6, 26, 56], [80, 1, 42...</td>\n",
       "      <td>1380.png</td>\n",
       "      <td>[5, 10, 10]</td>\n",
       "    </tr>\n",
       "    <tr>\n",
       "      <th>1</th>\n",
       "      <td>[[5, 4, 11, 22], [15, 2, 14, 22]]</td>\n",
       "      <td>1781.png</td>\n",
       "      <td>[5, 3]</td>\n",
       "    </tr>\n",
       "    <tr>\n",
       "      <th>2</th>\n",
       "      <td>[[9, 16, 24, 48], [36, 17, 25, 48], [63, 14, 2...</td>\n",
       "      <td>1166.png</td>\n",
       "      <td>[4, 9, 10]</td>\n",
       "    </tr>\n",
       "  </tbody>\n",
       "</table>\n",
       "</div>"
      ],
      "text/plain": [
       "                                                 box  filename        label\n",
       "0  [[21, 16, 34, 56], [55, 6, 26, 56], [80, 1, 42...  1380.png  [5, 10, 10]\n",
       "1                  [[5, 4, 11, 22], [15, 2, 14, 22]]  1781.png       [5, 3]\n",
       "2  [[9, 16, 24, 48], [36, 17, 25, 48], [63, 14, 2...  1166.png   [4, 9, 10]"
      ]
     },
     "metadata": {},
     "output_type": "display_data"
    }
   ],
   "source": [
    "hide_code\n",
    "\n",
    "# train_g.to_csv('train_group.csv', index=False)\n",
    "# test_g.to_csv('test_group.csv', index=False)\n",
    "# extra_g.to_csv('extra_group.csv', index=False)\n",
    "display(train_g.head(3))\n",
    "display(test_g.head(3))\n",
    "display(extra_g.head(3))"
   ]
  },
  {
   "cell_type": "code",
   "execution_count": 19,
   "metadata": {
    "collapsed": false
   },
   "outputs": [
    {
     "data": {
      "text/html": [
       "<div>\n",
       "<table border=\"1\" class=\"dataframe\">\n",
       "  <thead>\n",
       "    <tr style=\"text-align: right;\">\n",
       "      <th></th>\n",
       "      <th>box</th>\n",
       "      <th>filename</th>\n",
       "      <th>label</th>\n",
       "    </tr>\n",
       "  </thead>\n",
       "  <tbody>\n",
       "    <tr>\n",
       "      <th>0</th>\n",
       "      <td>[[33, 10, 12, 24] [45, 10, 11, 24]]</td>\n",
       "      <td>5502.png</td>\n",
       "      <td>[3 5]</td>\n",
       "    </tr>\n",
       "    <tr>\n",
       "      <th>1</th>\n",
       "      <td>[[35, 7, 11, 37] [44, 3, 11, 37]]</td>\n",
       "      <td>6876.png</td>\n",
       "      <td>[1 5]</td>\n",
       "    </tr>\n",
       "    <tr>\n",
       "      <th>2</th>\n",
       "      <td>[[99, 32, 35, 51] [125, 29, 31, 51]]</td>\n",
       "      <td>12741.png</td>\n",
       "      <td>[2 9]</td>\n",
       "    </tr>\n",
       "  </tbody>\n",
       "</table>\n",
       "</div>"
      ],
      "text/plain": [
       "                                    box   filename  label\n",
       "0   [[33, 10, 12, 24] [45, 10, 11, 24]]   5502.png  [3 5]\n",
       "1     [[35, 7, 11, 37] [44, 3, 11, 37]]   6876.png  [1 5]\n",
       "2  [[99, 32, 35, 51] [125, 29, 31, 51]]  12741.png  [2 9]"
      ]
     },
     "metadata": {},
     "output_type": "display_data"
    },
    {
     "data": {
      "text/html": [
       "<div>\n",
       "<table border=\"1\" class=\"dataframe\">\n",
       "  <thead>\n",
       "    <tr style=\"text-align: right;\">\n",
       "      <th></th>\n",
       "      <th>box</th>\n",
       "      <th>filename</th>\n",
       "      <th>label</th>\n",
       "    </tr>\n",
       "  </thead>\n",
       "  <tbody>\n",
       "    <tr>\n",
       "      <th>0</th>\n",
       "      <td>[[35, 10, 15, 22] [51, 9, 12, 22] [63, 10, 12,...</td>\n",
       "      <td>5502.png</td>\n",
       "      <td>[1 7 1]</td>\n",
       "    </tr>\n",
       "    <tr>\n",
       "      <th>1</th>\n",
       "      <td>[[135, 40, 10, 22] [146, 38, 16, 22]]</td>\n",
       "      <td>1166.png</td>\n",
       "      <td>[1 7]</td>\n",
       "    </tr>\n",
       "    <tr>\n",
       "      <th>2</th>\n",
       "      <td>[[125, 37, 17, 25] [141, 41, 16, 25]]</td>\n",
       "      <td>506.png</td>\n",
       "      <td>[2 8]</td>\n",
       "    </tr>\n",
       "  </tbody>\n",
       "</table>\n",
       "</div>"
      ],
      "text/plain": [
       "                                                 box  filename    label\n",
       "0  [[35, 10, 15, 22] [51, 9, 12, 22] [63, 10, 12,...  5502.png  [1 7 1]\n",
       "1              [[135, 40, 10, 22] [146, 38, 16, 22]]  1166.png    [1 7]\n",
       "2              [[125, 37, 17, 25] [141, 41, 16, 25]]   506.png    [2 8]"
      ]
     },
     "metadata": {},
     "output_type": "display_data"
    },
    {
     "data": {
      "text/html": [
       "<div>\n",
       "<table border=\"1\" class=\"dataframe\">\n",
       "  <thead>\n",
       "    <tr style=\"text-align: right;\">\n",
       "      <th></th>\n",
       "      <th>box</th>\n",
       "      <th>filename</th>\n",
       "      <th>label</th>\n",
       "    </tr>\n",
       "  </thead>\n",
       "  <tbody>\n",
       "    <tr>\n",
       "      <th>0</th>\n",
       "      <td>[[21, 16, 34, 56] [55, 6, 26, 56] [80, 1, 42, ...</td>\n",
       "      <td>1380.png</td>\n",
       "      <td>[ 5 10 10]</td>\n",
       "    </tr>\n",
       "    <tr>\n",
       "      <th>1</th>\n",
       "      <td>[[5, 4, 11, 22] [15, 2, 14, 22]]</td>\n",
       "      <td>1781.png</td>\n",
       "      <td>[5 3]</td>\n",
       "    </tr>\n",
       "    <tr>\n",
       "      <th>2</th>\n",
       "      <td>[[9, 16, 24, 48] [36, 17, 25, 48] [63, 14, 29,...</td>\n",
       "      <td>1166.png</td>\n",
       "      <td>[ 4  9 10]</td>\n",
       "    </tr>\n",
       "  </tbody>\n",
       "</table>\n",
       "</div>"
      ],
      "text/plain": [
       "                                                 box  filename       label\n",
       "0  [[21, 16, 34, 56] [55, 6, 26, 56] [80, 1, 42, ...  1380.png  [ 5 10 10]\n",
       "1                   [[5, 4, 11, 22] [15, 2, 14, 22]]  1781.png       [5 3]\n",
       "2  [[9, 16, 24, 48] [36, 17, 25, 48] [63, 14, 29,...  1166.png  [ 4  9 10]"
      ]
     },
     "metadata": {},
     "output_type": "display_data"
    }
   ],
   "source": [
    "hide_code\n",
    "\n",
    "train_b = pd.read_csv(\"train_group.csv\")\n",
    "test_b = pd.read_csv(\"test_group.csv\")\n",
    "extra_b = pd.read_csv(\"extra_group.csv\")\n",
    "\n",
    "display(train_b.head(3))\n",
    "display(test_b.head(3))\n",
    "display(extra_b.head(3))"
   ]
  },
  {
   "cell_type": "code",
   "execution_count": 20,
   "metadata": {
    "collapsed": false
   },
   "outputs": [],
   "source": [
    "hide_code\n",
    "\n",
    "train_labels = np.array([get_labels(train_b['label'][i]) for i in range(len(train_b))])\n",
    "train_filenames = train_b['filename']\n",
    "\n",
    "test_labels = np.array([get_labels(test_b['label'][i]) for i in range(len(test_b))])\n",
    "test_filenames = test_b['filename']\n",
    "\n",
    "extra_labels = np.array([get_labels(extra_b['label'][i]) for i in range(len(extra_b))])\n",
    "extra_filenames = extra_b['filename']"
   ]
  },
  {
   "cell_type": "code",
   "execution_count": 21,
   "metadata": {
    "collapsed": false
   },
   "outputs": [
    {
     "data": {
      "text/plain": [
       "array([29190])"
      ]
     },
     "execution_count": 21,
     "metadata": {},
     "output_type": "execute_result"
    }
   ],
   "source": [
    "hide_code\n",
    "\n",
    "np.where([len(train_labels[i])>5 for i in range(len(train_b))])[0]"
   ]
  },
  {
   "cell_type": "code",
   "execution_count": 22,
   "metadata": {
    "collapsed": false
   },
   "outputs": [
    {
     "data": {
      "text/plain": [
       "array([], dtype=int64)"
      ]
     },
     "execution_count": 22,
     "metadata": {},
     "output_type": "execute_result"
    }
   ],
   "source": [
    "hide_code\n",
    "\n",
    "np.where([len(test_labels[i])>5 for i in range(len(test_b))])[0]"
   ]
  },
  {
   "cell_type": "code",
   "execution_count": 23,
   "metadata": {
    "collapsed": false
   },
   "outputs": [
    {
     "data": {
      "text/plain": [
       "array([], dtype=int64)"
      ]
     },
     "execution_count": 23,
     "metadata": {},
     "output_type": "execute_result"
    }
   ],
   "source": [
    "hide_code\n",
    "\n",
    "np.where([len(extra_labels[i])>5 for i in range(len(extra_b))])[0]"
   ]
  },
  {
   "cell_type": "code",
   "execution_count": 24,
   "metadata": {
    "collapsed": false
   },
   "outputs": [
    {
     "data": {
      "text/plain": [
       "0"
      ]
     },
     "execution_count": 24,
     "metadata": {},
     "output_type": "execute_result"
    }
   ],
   "source": [
    "hide_code\n",
    "\n",
    "sum(np.array([len(train_labels[i])==0 for i in range(len(train_b))]))"
   ]
  },
  {
   "cell_type": "code",
   "execution_count": 25,
   "metadata": {
    "collapsed": false
   },
   "outputs": [
    {
     "data": {
      "text/plain": [
       "0"
      ]
     },
     "execution_count": 25,
     "metadata": {},
     "output_type": "execute_result"
    }
   ],
   "source": [
    "hide_code\n",
    "\n",
    "sum(np.array([len(test_labels[i])==0 for i in range(len(test_b))]))"
   ]
  },
  {
   "cell_type": "code",
   "execution_count": 26,
   "metadata": {
    "collapsed": false
   },
   "outputs": [
    {
     "data": {
      "text/plain": [
       "0"
      ]
     },
     "execution_count": 26,
     "metadata": {},
     "output_type": "execute_result"
    }
   ],
   "source": [
    "hide_code\n",
    "\n",
    "sum(np.array([len(extra_labels[i])==0 for i in range(len(extra_b))]))"
   ]
  },
  {
   "cell_type": "code",
   "execution_count": 27,
   "metadata": {
    "collapsed": false
   },
   "outputs": [],
   "source": [
    "hide_code\n",
    "\n",
    "for i in range(len(train_labels)):\n",
    "    train_labels[i][train_labels[i] > 9] = 0\n",
    "    \n",
    "for i in range(len(test_labels)):\n",
    "    test_labels[i][test_labels[i] > 9] = 0\n",
    "    \n",
    "for i in range(len(extra_labels)):\n",
    "    extra_labels[i][extra_labels[i] > 9] = 0"
   ]
  },
  {
   "cell_type": "code",
   "execution_count": 28,
   "metadata": {
    "collapsed": false
   },
   "outputs": [],
   "source": [
    "hide_code\n",
    "\n",
    "train_labels = np.delete(train_labels, 29190, 0)\n",
    "train_filenames = train_filenames.drop([29190])\n",
    "\n",
    "train_labels = np.array([fivedigit_label(train_labels[i]) for i in range(len(train_labels))])\n",
    "test_labels = np.array([fivedigit_label(test_labels[i]) for i in range(len(test_labels))])\n",
    "extra_labels = np.array([fivedigit_label(extra_labels[i]) for i in range(len(extra_labels))])"
   ]
  },
  {
   "cell_type": "code",
   "execution_count": 29,
   "metadata": {
    "collapsed": false
   },
   "outputs": [
    {
     "name": "stdout",
     "output_type": "stream",
     "text": [
      "Initial image size: (81, 120, 3)\n",
      "Digit boxes:\n",
      " [[12  9 30 55]\n",
      " [36 11 31 55]]\n",
      "Digits' box:  [13 67 10 66]\n",
      "Final image size:  (64, 64)\n",
      "Final image label:  [[ 10.  10.  10.   4.   1.]]\n",
      "\n",
      "Example of image preprocessing\n"
     ]
    },
    {
     "data": {
      "image/png": "[encoded data removed]",
      "text/plain": [
       "<matplotlib.figure.Figure at 0x1254fd4a8>"
      ]
     },
     "metadata": {},
     "output_type": "display_data"
    }
   ],
   "source": [
    "hide_code\n",
    "\n",
    "image1 = scipy.ndimage.imread('train/30065.png')\n",
    "print(\"Initial image size:\", image1.shape)\n",
    "\n",
    "n1 = np.where(train_filenames == '30065.png')[0]\n",
    "label1 = train_labels[n1]\n",
    "\n",
    "box1 = np.array(get_box(train_b['box'][n1]))\n",
    "print(\"Digit boxes:\\n\", box1)\n",
    "box_n1 = image_box(box1)\n",
    "print(\"Digits' box: \", box_n1)\n",
    "\n",
    "image_n1 = image1[box_n1[2]:box_n1[3], box_n1[0]:box_n1[1]]\n",
    "image64_1 = scipy.misc.imresize(image_n1, (64, 64))/255\n",
    "image64_2 = np.dot(np.array(image64_1, dtype='float32'), [0.299, 0.587, 0.114])\n",
    "\n",
    "print(\"Final image size: \", image64_2.shape)\n",
    "print(\"Final image label: \", label1)\n",
    "print('\\nExample of image preprocessing')\n",
    "\n",
    "plt.imshow(image64_1, cmap=plt.cm.Blues);"
   ]
  },
  {
   "cell_type": "code",
   "execution_count": 30,
   "metadata": {
    "collapsed": false
   },
   "outputs": [
    {
     "name": "stdout",
     "output_type": "stream",
     "text": [
      "Image size:  (32, 32)\n",
      "Image label:  [[ 10.  10.  10.   2.   1.]]\n",
      "\n",
      "Example of image preprocessing with the function\n"
     ]
    },
    {
     "data": {
      "image/png": "[encoded data removed]",
      "text/plain": [
       "<matplotlib.figure.Figure at 0x12914af28>"
      ]
     },
     "metadata": {},
     "output_type": "display_data"
    }
   ],
   "source": [
    "hide_code\n",
    "\n",
    "image_example = get_image('train', '178.png')\n",
    "\n",
    "print(\"Image size: \", image_example[1].shape)\n",
    "print(\"Image label: \", image_example[2])\n",
    "print('\\nExample of image preprocessing with the function')\n",
    "plt.imshow(image_example[1], cmap=plt.cm.Blues);"
   ]
  },
  {
   "cell_type": "markdown",
   "metadata": {},
   "source": [
    "***Image preprocessing. Variant #1***"
   ]
  },
  {
   "cell_type": "code",
   "execution_count": 29,
   "metadata": {
    "collapsed": false
   },
   "outputs": [
    {
     "data": {
      "text/plain": [
       "''"
      ]
     },
     "execution_count": 29,
     "metadata": {},
     "output_type": "execute_result"
    }
   ],
   "source": [
    "hide_code\n",
    "\n",
    "# train_images1 = np.array([get_image('train', x)[0] for x in train_filenames])\n",
    "# train_images2 = np.array([get_image('train', x)[1] for x in train_filenames])\n",
    "\n",
    "# test_images1 = np.array([get_image('test', x)[0] for x in test_filenames])\n",
    "# test_images2 = np.array([get_image('test', x)[1] for x in test_filenames])\n",
    "\n",
    "# extra_images1 = np.array([get_image('extra', x)[0] for x in extra_filenames])\n",
    "# extra_images2 = np.array([get_image('extra', x)[1] for x in extra_filenames])"
   ]
  },
  {
   "cell_type": "markdown",
   "metadata": {},
   "source": [
    "***Image preprocessing. Variant #2***"
   ]
  },
  {
   "cell_type": "markdown",
   "metadata": {},
   "source": [
    "#### Set #1: 13 000 train data points, 6 000 test data points, 13 000 extra data points"
   ]
  },
  {
   "cell_type": "code",
   "execution_count": 31,
   "metadata": {
    "collapsed": false
   },
   "outputs": [
    {
     "name": "stdout",
     "output_type": "stream",
     "text": [
      "1000\n",
      "2000\n",
      "3000\n",
      "4000\n",
      "5000\n",
      "6000\n",
      "7000\n",
      "8000\n"
     ]
    }
   ],
   "source": [
    "hide_code\n",
    "\n",
    "train_images01 = np.array([get_image('train', x)[0] for x in train_filenames[:1000]])\n",
    "train_images02 = np.array([get_image('train', x)[1] for x in train_filenames[:1000]]) \n",
    "\n",
    "i= 1000\n",
    "print(i)\n",
    "\n",
    "while i < 7001: \n",
    "\n",
    "        train_images11 = np.array([get_image('train', x)[0] for x in train_filenames[i:i+1000]])\n",
    "        train_images12 = np.array([get_image('train', x)[1] for x in train_filenames[i:i+1000]]) \n",
    "        \n",
    "        train_images1 = np.concatenate((train_images01, train_images11), axis=0)\n",
    "        train_images2 = np.concatenate((train_images02, train_images12), axis=0)\n",
    "        \n",
    "        train_images01 = train_images1\n",
    "        train_images02 = train_images2\n",
    "        \n",
    "        i += 1000\n",
    "        print(i)"
   ]
  },
  {
   "cell_type": "code",
   "execution_count": 32,
   "metadata": {
    "collapsed": false
   },
   "outputs": [
    {
     "data": {
      "text/plain": [
       "8000"
      ]
     },
     "execution_count": 32,
     "metadata": {},
     "output_type": "execute_result"
    }
   ],
   "source": [
    "hide_code\n",
    "\n",
    "train_images_8000_1 = train_images1\n",
    "train_images_8000_2 = train_images2\n",
    "\n",
    "len(train_images_8000_1)"
   ]
  },
  {
   "cell_type": "code",
   "execution_count": 33,
   "metadata": {
    "collapsed": false
   },
   "outputs": [
    {
     "name": "stdout",
     "output_type": "stream",
     "text": [
      "9000\n",
      "10000\n",
      "11000\n",
      "12000\n",
      "13000\n"
     ]
    }
   ],
   "source": [
    "hide_code\n",
    "\n",
    "train_images01 = np.array([get_image('train', x)[0] for x in train_filenames[8000:9000]])\n",
    "train_images02 = np.array([get_image('train', x)[1] for x in train_filenames[8000:9000]]) \n",
    "\n",
    "i= 9000\n",
    "print(i)\n",
    "\n",
    "while i < 12001: \n",
    "\n",
    "        train_images11 = np.array([get_image('train', x)[0] for x in train_filenames[i:i+1000]])\n",
    "        train_images12 = np.array([get_image('train', x)[1] for x in train_filenames[i:i+1000]]) \n",
    "        \n",
    "        train_images1 = np.concatenate((train_images01, train_images11), axis=0)\n",
    "        train_images2 = np.concatenate((train_images02, train_images12), axis=0)\n",
    "        \n",
    "        train_images01 = train_images1\n",
    "        train_images02 = train_images2\n",
    "        \n",
    "        i += 1000\n",
    "        print(i)"
   ]
  },
  {
   "cell_type": "code",
   "execution_count": 35,
   "metadata": {
    "collapsed": false
   },
   "outputs": [
    {
     "data": {
      "text/plain": [
       "5000"
      ]
     },
     "execution_count": 35,
     "metadata": {},
     "output_type": "execute_result"
    }
   ],
   "source": [
    "hide_code\n",
    "\n",
    "train_images_13000_1 = train_images1\n",
    "train_images_13000_2 = train_images2\n",
    "\n",
    "len(train_images_13000_1)"
   ]
  },
  {
   "cell_type": "code",
   "execution_count": 36,
   "metadata": {
    "collapsed": false
   },
   "outputs": [],
   "source": [
    "hide_code\n",
    "\n",
    "train_images1 = np.concatenate((train_images_8000_1, train_images_13000_1), axis=0)\n",
    "train_images2 = np.concatenate((train_images_8000_2, train_images_13000_2), axis=0)"
   ]
  },
  {
   "cell_type": "code",
   "execution_count": 37,
   "metadata": {
    "collapsed": false
   },
   "outputs": [
    {
     "data": {
      "text/plain": [
       "13000"
      ]
     },
     "execution_count": 37,
     "metadata": {},
     "output_type": "execute_result"
    }
   ],
   "source": [
    "len(train_images1)"
   ]
  },
  {
   "cell_type": "code",
   "execution_count": 39,
   "metadata": {
    "collapsed": false
   },
   "outputs": [],
   "source": [
    "hide_code\n",
    "\n",
    "train_images1t = train_images1.reshape(13000, 32*32*3)\n",
    "train_images2t = train_images2.reshape(13000, 32*32)\n",
    "\n",
    "train_images_df1 = pd.DataFrame(data=train_images1t, index = train_filenames[:13000])\n",
    "train_images_df2 = pd.DataFrame(data=train_images2t, index = train_filenames[:13000])\n",
    "train_labels_df = pd.DataFrame(data=train_labels[:13000], index = train_filenames[:13000])\n",
    "\n",
    "with open('train_images1.csv', 'w') as f:\n",
    "    train_images_df1.to_csv(f)\n",
    "with open('train_images2.csv', 'w') as f:\n",
    "    train_images_df2.to_csv(f)    \n",
    "with open('train_labels.csv', 'w') as f:\n",
    "    train_labels_df.to_csv(f)"
   ]
  },
  {
   "cell_type": "code",
   "execution_count": 40,
   "metadata": {
    "collapsed": false
   },
   "outputs": [
    {
     "name": "stdout",
     "output_type": "stream",
     "text": [
      "1000\n",
      "2000\n",
      "3000\n",
      "4000\n",
      "5000\n",
      "6000\n"
     ]
    }
   ],
   "source": [
    "hide_code\n",
    "\n",
    "test_images01 = np.array([get_image('test', x)[0] for x in test_filenames[:1000]])\n",
    "test_images02 = np.array([get_image('test', x)[1] for x in test_filenames[:1000]]) \n",
    "\n",
    "i= 1000\n",
    "print(i)\n",
    "\n",
    "while i < 5001:\n",
    "    \n",
    "    test_images11 = np.array([get_image('test', x)[0] for x in test_filenames[i:i+1000]])\n",
    "    test_images12 = np.array([get_image('test', x)[1] for x in test_filenames[i:i+1000]]) \n",
    "        \n",
    "    test_images1 = np.concatenate((test_images01, test_images11), axis=0)\n",
    "    test_images2 = np.concatenate((test_images02, test_images12), axis=0)\n",
    "        \n",
    "    test_images01 = test_images1\n",
    "    test_images02 = test_images2\n",
    "        \n",
    "    i += 1000\n",
    "    print(i)"
   ]
  },
  {
   "cell_type": "code",
   "execution_count": 41,
   "metadata": {
    "collapsed": false
   },
   "outputs": [
    {
     "data": {
      "text/plain": [
       "6000"
      ]
     },
     "execution_count": 41,
     "metadata": {},
     "output_type": "execute_result"
    }
   ],
   "source": [
    "hide_code\n",
    "\n",
    "test_images_6000_1 = test_images1\n",
    "test_images_6000_2 = test_images2\n",
    "len(test_images_6000_1)"
   ]
  },
  {
   "cell_type": "code",
   "execution_count": 42,
   "metadata": {
    "collapsed": false
   },
   "outputs": [
    {
     "data": {
      "text/plain": [
       "6000"
      ]
     },
     "execution_count": 42,
     "metadata": {},
     "output_type": "execute_result"
    }
   ],
   "source": [
    "len(test_images1)"
   ]
  },
  {
   "cell_type": "code",
   "execution_count": 43,
   "metadata": {
    "collapsed": true
   },
   "outputs": [],
   "source": [
    "hide_code\n",
    "\n",
    "test_images1t = test_images1.reshape(6000, 32*32*3)\n",
    "test_images2t = test_images2.reshape(6000, 32*32)\n",
    "\n",
    "test_images_df1 = pd.DataFrame(data=test_images1t, index = test_filenames[:6000])\n",
    "test_images_df2 = pd.DataFrame(data=test_images2t, index = test_filenames[:6000])\n",
    "test_labels_df = pd.DataFrame(data=test_labels[:6000], index = test_filenames[:6000])\n",
    "\n",
    "with open('test_images1.csv', 'w') as f:\n",
    "    test_images_df1.to_csv(f)\n",
    "with open('test_images2.csv', 'w') as f:\n",
    "    test_images_df2.to_csv(f)    \n",
    "with open('test_labels.csv', 'w') as f:\n",
    "    test_labels_df.to_csv(f)"
   ]
  },
  {
   "cell_type": "code",
   "execution_count": 44,
   "metadata": {
    "collapsed": false
   },
   "outputs": [
    {
     "name": "stdout",
     "output_type": "stream",
     "text": [
      "1000\n",
      "2000\n",
      "3000\n",
      "4000\n",
      "5000\n",
      "6000\n",
      "7000\n",
      "8000\n"
     ]
    }
   ],
   "source": [
    "hide_code\n",
    "\n",
    "extra_images01 = np.array([get_image('extra', x)[0] for x in extra_filenames[:1000]])\n",
    "extra_images02 = np.array([get_image('extra', x)[1] for x in extra_filenames[:1000]])\n",
    "\n",
    "i= 1000\n",
    "print(i)\n",
    "\n",
    "while i < 7001:\n",
    "    \n",
    "    extra_images11 = np.array([get_image('extra', x)[0] for x in extra_filenames[i:i+1000]])\n",
    "    extra_images12 = np.array([get_image('extra', x)[1] for x in extra_filenames[i:i+1000]]) \n",
    "        \n",
    "    extra_images1 = np.concatenate((extra_images01, extra_images11), axis=0)\n",
    "    extra_images2 = np.concatenate((extra_images02, extra_images12), axis=0)\n",
    "        \n",
    "    extra_images01 = extra_images1\n",
    "    extra_images02 = extra_images2\n",
    "        \n",
    "    i += 1000\n",
    "    print(i)"
   ]
  },
  {
   "cell_type": "code",
   "execution_count": 45,
   "metadata": {
    "collapsed": false
   },
   "outputs": [
    {
     "data": {
      "text/plain": [
       "8000"
      ]
     },
     "execution_count": 45,
     "metadata": {},
     "output_type": "execute_result"
    }
   ],
   "source": [
    "hide_code\n",
    "\n",
    "extra_images_8000_1 = extra_images1\n",
    "extra_images_8000_2 = extra_images2\n",
    "len(extra_images_8000_1)"
   ]
  },
  {
   "cell_type": "code",
   "execution_count": 46,
   "metadata": {
    "collapsed": false
   },
   "outputs": [
    {
     "name": "stdout",
     "output_type": "stream",
     "text": [
      "9000\n",
      "10000\n",
      "11000\n",
      "12000\n",
      "13000\n"
     ]
    }
   ],
   "source": [
    "hide_code\n",
    "\n",
    "extra_images01 = np.array([get_image('extra', x)[0] for x in extra_filenames[8000:9000]])\n",
    "extra_images02 = np.array([get_image('extra', x)[1] for x in extra_filenames[8000:9000]])\n",
    "\n",
    "i = 9000\n",
    "print(i)\n",
    "\n",
    "while i < 12001:\n",
    "    \n",
    "    extra_images11 = np.array([get_image('extra', x)[0] for x in extra_filenames[i:i+1000]])\n",
    "    extra_images12 = np.array([get_image('extra', x)[1] for x in extra_filenames[i:i+1000]]) \n",
    "        \n",
    "    extra_images1 = np.concatenate((extra_images01, extra_images11), axis=0)\n",
    "    extra_images2 = np.concatenate((extra_images02, extra_images12), axis=0)\n",
    "        \n",
    "    extra_images01 = extra_images1\n",
    "    extra_images02 = extra_images2\n",
    "        \n",
    "    i += 1000\n",
    "    print(i)"
   ]
  },
  {
   "cell_type": "code",
   "execution_count": 47,
   "metadata": {
    "collapsed": false
   },
   "outputs": [
    {
     "data": {
      "text/plain": [
       "5000"
      ]
     },
     "execution_count": 47,
     "metadata": {},
     "output_type": "execute_result"
    }
   ],
   "source": [
    "hide_code\n",
    "\n",
    "extra_images_13000_1 = extra_images1\n",
    "extra_images_13000_2 = extra_images2\n",
    "len(extra_images_13000_1)"
   ]
  },
  {
   "cell_type": "code",
   "execution_count": 48,
   "metadata": {
    "collapsed": true
   },
   "outputs": [],
   "source": [
    "hide_code\n",
    "\n",
    "extra_images1 = np.concatenate((extra_images_8000_1, extra_images_13000_1), axis=0)\n",
    "extra_images2 = np.concatenate((extra_images_8000_2, extra_images_13000_2), axis=0)"
   ]
  },
  {
   "cell_type": "code",
   "execution_count": 49,
   "metadata": {
    "collapsed": false
   },
   "outputs": [
    {
     "data": {
      "text/plain": [
       "13000"
      ]
     },
     "execution_count": 49,
     "metadata": {},
     "output_type": "execute_result"
    }
   ],
   "source": [
    "len(extra_images1)"
   ]
  },
  {
   "cell_type": "code",
   "execution_count": 50,
   "metadata": {
    "collapsed": true
   },
   "outputs": [],
   "source": [
    "hide_code\n",
    "\n",
    "extra_images1t = extra_images1.reshape(13000, 32*32*3)\n",
    "extra_images2t = extra_images2.reshape(13000, 32*32)\n",
    "\n",
    "extra_images_df1 = pd.DataFrame(data=extra_images1t, index = extra_filenames[:13000])\n",
    "extra_images_df2 = pd.DataFrame(data=extra_images2t, index = extra_filenames[:13000])\n",
    "extra_labels_df = pd.DataFrame(data=extra_labels[:13000], index = extra_filenames[:13000])\n",
    "\n",
    "with open('extra_images1.csv', 'w') as f:\n",
    "    extra_images_df1.to_csv(f)\n",
    "with open('extra_images2.csv', 'w') as f:\n",
    "    extra_images_df2.to_csv(f)    \n",
    "with open('extra_labels.csv', 'w') as f:\n",
    "    extra_labels_df.to_csv(f)"
   ]
  },
  {
   "cell_type": "code",
   "execution_count": 51,
   "metadata": {
    "collapsed": false
   },
   "outputs": [
    {
     "name": "stdout",
     "output_type": "stream",
     "text": [
      "Compressed pickle size: 1050431359\n"
     ]
    }
   ],
   "source": [
    "hide_code\n",
    "\n",
    "pickle_file = 'svhn1.pickle'\n",
    "\n",
    "try:\n",
    "    f = open(pickle_file, 'wb')\n",
    "    save = {'train_images1': train_images1, 'train_images2': train_images2,\n",
    "            'train_labels': train_labels[:13000], 'train_filenames': train_filenames[:13000],\n",
    "            'test_images1': test_images1, 'test_images2': test_images2,\n",
    "            'test_labels': test_labels[:6000], 'test_filenames': test_filenames[:6000],\n",
    "            'extra_images1': extra_images1, 'extra_images2': extra_images2,\n",
    "            'extra_labels': extra_labels[:13000], 'extra_filenames': extra_filenames[:13000]}\n",
    "    pickle.dump(save, f, pickle.HIGHEST_PROTOCOL)\n",
    "    f.close()\n",
    "except Exception as e:\n",
    "    print('Unable to save data to', pickle_file, ':', e)\n",
    "    raise\n",
    "\n",
    "del save\n",
    "    \n",
    "statinfo = os.stat(pickle_file)\n",
    "print('Compressed pickle size:', statinfo.st_size)"
   ]
  },
  {
   "cell_type": "markdown",
   "metadata": {},
   "source": [
    "#### Set #2: 13 000 train data points, 6 000 test data points, 13 000 extra data points"
   ]
  },
  {
   "cell_type": "code",
   "execution_count": 54,
   "metadata": {
    "collapsed": false
   },
   "outputs": [
    {
     "name": "stdout",
     "output_type": "stream",
     "text": [
      "14000\n",
      "15000\n",
      "16000\n",
      "17000\n",
      "18000\n",
      "19000\n"
     ]
    }
   ],
   "source": [
    "hide_code\n",
    "\n",
    "train_images01 = np.array([get_image('train', x)[0] for x in train_filenames[13000:14000]])\n",
    "train_images02 = np.array([get_image('train', x)[1] for x in train_filenames[13000:14000]]) \n",
    "\n",
    "i= 14000\n",
    "print(i)\n",
    "\n",
    "while i < 18001: \n",
    "    \n",
    "        train_images11 = np.array([get_image('train', x)[0] for x in train_filenames[i:i+1000]])\n",
    "        train_images12 = np.array([get_image('train', x)[1] for x in train_filenames[i:i+1000]]) \n",
    "        \n",
    "        train_images1 = np.concatenate((train_images01, train_images11), axis=0)\n",
    "        train_images2 = np.concatenate((train_images02, train_images12), axis=0)\n",
    "        \n",
    "        train_images01 = train_images1\n",
    "        train_images02 = train_images2\n",
    "        \n",
    "        i += 1000\n",
    "        print(i)"
   ]
  },
  {
   "cell_type": "code",
   "execution_count": 55,
   "metadata": {
    "collapsed": false
   },
   "outputs": [
    {
     "data": {
      "text/plain": [
       "6000"
      ]
     },
     "execution_count": 55,
     "metadata": {},
     "output_type": "execute_result"
    }
   ],
   "source": [
    "hide_code\n",
    "\n",
    "train_images_19000_1 = train_images1\n",
    "train_images_19000_2 = train_images2\n",
    "len(train_images_19000_1)"
   ]
  },
  {
   "cell_type": "code",
   "execution_count": 56,
   "metadata": {
    "collapsed": false
   },
   "outputs": [
    {
     "name": "stdout",
     "output_type": "stream",
     "text": [
      "20000\n",
      "21000\n",
      "22000\n",
      "23000\n",
      "24000\n",
      "25000\n",
      "26000\n"
     ]
    }
   ],
   "source": [
    "hide_code\n",
    "\n",
    "train_images01 = np.array([get_image('train', x)[0] for x in train_filenames[19000:20000]])\n",
    "train_images02 = np.array([get_image('train', x)[1] for x in train_filenames[19000:20000]]) \n",
    "\n",
    "i= 20000\n",
    "print(i)\n",
    "\n",
    "while i < 25001: \n",
    "    \n",
    "        train_images11 = np.array([get_image('train', x)[0] for x in train_filenames[i:i+1000]])\n",
    "        train_images12 = np.array([get_image('train', x)[1] for x in train_filenames[i:i+1000]]) \n",
    "        \n",
    "        train_images1 = np.concatenate((train_images01, train_images11), axis=0)\n",
    "        train_images2 = np.concatenate((train_images02, train_images12), axis=0)\n",
    "        \n",
    "        train_images01 = train_images1\n",
    "        train_images02 = train_images2\n",
    "        \n",
    "        i += 1000\n",
    "        print(i)"
   ]
  },
  {
   "cell_type": "code",
   "execution_count": 57,
   "metadata": {
    "collapsed": false
   },
   "outputs": [
    {
     "data": {
      "text/plain": [
       "7000"
      ]
     },
     "execution_count": 57,
     "metadata": {},
     "output_type": "execute_result"
    }
   ],
   "source": [
    "hide_code\n",
    "\n",
    "train_images_26000_1 = train_images1\n",
    "train_images_26000_2 = train_images2\n",
    "len(train_images_26000_1)"
   ]
  },
  {
   "cell_type": "code",
   "execution_count": 58,
   "metadata": {
    "collapsed": true
   },
   "outputs": [],
   "source": [
    "hide_code\n",
    "\n",
    "train_images1 = np.concatenate((train_images_19000_1, train_images_26000_1), axis=0)\n",
    "train_images2 = np.concatenate((train_images_19000_2, train_images_26000_2), axis=0)"
   ]
  },
  {
   "cell_type": "code",
   "execution_count": 60,
   "metadata": {
    "collapsed": false
   },
   "outputs": [
    {
     "data": {
      "text/plain": [
       "13000"
      ]
     },
     "execution_count": 60,
     "metadata": {},
     "output_type": "execute_result"
    }
   ],
   "source": [
    "len(train_images1)"
   ]
  },
  {
   "cell_type": "code",
   "execution_count": 61,
   "metadata": {
    "collapsed": true
   },
   "outputs": [],
   "source": [
    "hide_code\n",
    "\n",
    "train_images1t = train_images1.reshape(13000, 32*32*3)\n",
    "train_images2t = train_images2.reshape(13000, 32*32)\n",
    "\n",
    "train_images_df1 = pd.DataFrame(data=train_images1t, index = train_filenames[13000:26000])\n",
    "train_images_df2 = pd.DataFrame(data=train_images2t, index = train_filenames[13000:26000])\n",
    "train_labels_df = pd.DataFrame(data=train_labels[13000:26000], index = train_filenames[13000:26000])\n",
    "\n",
    "with open('train_images1_2.csv', 'w') as f:\n",
    "    train_images_df1.to_csv(f)\n",
    "with open('train_images2_2.csv', 'w') as f:\n",
    "    train_images_df2.to_csv(f)    \n",
    "with open('train_labels_2.csv', 'w') as f:\n",
    "    train_labels_df.to_csv(f)"
   ]
  },
  {
   "cell_type": "code",
   "execution_count": 62,
   "metadata": {
    "collapsed": false
   },
   "outputs": [
    {
     "name": "stdout",
     "output_type": "stream",
     "text": [
      "8000\n",
      "9000\n",
      "10000\n",
      "11000\n",
      "12000\n",
      "13000\n"
     ]
    }
   ],
   "source": [
    "hide_code\n",
    "\n",
    "test_images01 = np.array([get_image('test', x)[0] for x in test_filenames[7000:8000]])\n",
    "test_images02 = np.array([get_image('test', x)[1] for x in test_filenames[7000:8000]])\n",
    "\n",
    "i= 8000\n",
    "print(i)\n",
    "\n",
    "while i < 12001:\n",
    "    \n",
    "    test_images11 = np.array([get_image('test', x)[0] for x in test_filenames[i:i+1000]])\n",
    "    test_images12 = np.array([get_image('test', x)[1] for x in test_filenames[i:i+1000]]) \n",
    "        \n",
    "    test_images1 = np.concatenate((test_images01, test_images11), axis=0)\n",
    "    test_images2 = np.concatenate((test_images02, test_images12), axis=0)\n",
    "        \n",
    "    test_images01 = test_images1\n",
    "    test_images02 = test_images2\n",
    "        \n",
    "    i += 1000\n",
    "    print(i)"
   ]
  },
  {
   "cell_type": "code",
   "execution_count": 63,
   "metadata": {
    "collapsed": false
   },
   "outputs": [
    {
     "data": {
      "text/plain": [
       "6000"
      ]
     },
     "execution_count": 63,
     "metadata": {},
     "output_type": "execute_result"
    }
   ],
   "source": [
    "hide_code\n",
    "\n",
    "test_images_13000_1 = test_images1\n",
    "test_images_13000_2 = test_images2\n",
    "len(test_images_13000_1)"
   ]
  },
  {
   "cell_type": "code",
   "execution_count": 65,
   "metadata": {
    "collapsed": false
   },
   "outputs": [
    {
     "data": {
      "text/plain": [
       "6000"
      ]
     },
     "execution_count": 65,
     "metadata": {},
     "output_type": "execute_result"
    }
   ],
   "source": [
    "len(test_images1)"
   ]
  },
  {
   "cell_type": "code",
   "execution_count": 66,
   "metadata": {
    "collapsed": true
   },
   "outputs": [],
   "source": [
    "hide_code\n",
    "\n",
    "test_images1t = test_images1.reshape(6000, 32*32*3)\n",
    "test_images2t = test_images2.reshape(6000, 32*32)\n",
    "\n",
    "test_images_df1 = pd.DataFrame(data=test_images1t, index = test_filenames[7000:13000])\n",
    "test_images_df2 = pd.DataFrame(data=test_images2t, index = test_filenames[7000:13000])\n",
    "test_labels_df = pd.DataFrame(data=test_labels[7000:13000], index = test_filenames[7000:13000])\n",
    "\n",
    "with open('test_images1_2.csv', 'w') as f:\n",
    "    test_images_df1.to_csv(f)\n",
    "with open('test_images2_2.csv', 'w') as f:\n",
    "    test_images_df2.to_csv(f)    \n",
    "with open('test_labels_2.csv', 'w') as f:\n",
    "    test_labels_df.to_csv(f)"
   ]
  },
  {
   "cell_type": "code",
   "execution_count": 67,
   "metadata": {
    "collapsed": false
   },
   "outputs": [
    {
     "name": "stdout",
     "output_type": "stream",
     "text": [
      "14000\n",
      "15000\n",
      "16000\n",
      "17000\n",
      "18000\n",
      "19000\n"
     ]
    }
   ],
   "source": [
    "hide_code\n",
    "\n",
    "extra_images01 = np.array([get_image('extra', x)[0] for x in extra_filenames[13000:14000]])\n",
    "extra_images02 = np.array([get_image('extra', x)[1] for x in extra_filenames[13000:14000]])\n",
    "\n",
    "i= 14000\n",
    "print(i)\n",
    "\n",
    "while i < 18001:\n",
    "    \n",
    "    extra_images11 = np.array([get_image('extra', x)[0] for x in extra_filenames[i:i+1000]])\n",
    "    extra_images12 = np.array([get_image('extra', x)[1] for x in extra_filenames[i:i+1000]]) \n",
    "        \n",
    "    extra_images1 = np.concatenate((extra_images01, extra_images11), axis=0)\n",
    "    extra_images2 = np.concatenate((extra_images02, extra_images12), axis=0)\n",
    "        \n",
    "    extra_images01 = extra_images1\n",
    "    extra_images02 = extra_images2\n",
    "        \n",
    "    i += 1000\n",
    "    print(i)"
   ]
  },
  {
   "cell_type": "code",
   "execution_count": 68,
   "metadata": {
    "collapsed": false
   },
   "outputs": [
    {
     "data": {
      "text/plain": [
       "6000"
      ]
     },
     "execution_count": 68,
     "metadata": {},
     "output_type": "execute_result"
    }
   ],
   "source": [
    "hide_code\n",
    "\n",
    "extra_images_19000_1 = extra_images1\n",
    "extra_images_19000_2 = extra_images2\n",
    "len(extra_images_19000_1)"
   ]
  },
  {
   "cell_type": "code",
   "execution_count": 78,
   "metadata": {
    "collapsed": false
   },
   "outputs": [
    {
     "name": "stdout",
     "output_type": "stream",
     "text": [
      "26000\n",
      "27000\n",
      "28000\n",
      "29000\n",
      "30000\n",
      "31000\n",
      "32000\n"
     ]
    }
   ],
   "source": [
    "hide_code\n",
    "\n",
    "extra_images01 = np.array([get_image('extra', x)[0] for x in extra_filenames[25000:26000]])\n",
    "extra_images02 = np.array([get_image('extra', x)[1] for x in extra_filenames[25000:26000]])\n",
    "\n",
    "i= 26000\n",
    "print(i)\n",
    "\n",
    "while i < 31001:\n",
    "    \n",
    "    extra_images11 = np.array([get_image('extra', x)[0] for x in extra_filenames[i:i+1000]])\n",
    "    extra_images12 = np.array([get_image('extra', x)[1] for x in extra_filenames[i:i+1000]]) \n",
    "        \n",
    "    extra_images1 = np.concatenate((extra_images01, extra_images11), axis=0)\n",
    "    extra_images2 = np.concatenate((extra_images02, extra_images12), axis=0)\n",
    "        \n",
    "    extra_images01 = extra_images1\n",
    "    extra_images02 = extra_images2\n",
    "        \n",
    "    i += 1000\n",
    "    print(i)"
   ]
  },
  {
   "cell_type": "code",
   "execution_count": 79,
   "metadata": {
    "collapsed": false
   },
   "outputs": [
    {
     "data": {
      "text/plain": [
       "7000"
      ]
     },
     "execution_count": 79,
     "metadata": {},
     "output_type": "execute_result"
    }
   ],
   "source": [
    "hide_code\n",
    "\n",
    "extra_images_32000_1 = extra_images1\n",
    "extra_images_32000_2 = extra_images2\n",
    "len(extra_images_32000_1)"
   ]
  },
  {
   "cell_type": "code",
   "execution_count": 80,
   "metadata": {
    "collapsed": true
   },
   "outputs": [],
   "source": [
    "hide_code\n",
    "\n",
    "extra_images1 = np.concatenate((extra_images_19000_1, extra_images_32000_1), axis=0)\n",
    "extra_images2 = np.concatenate((extra_images_19000_2, extra_images_32000_2), axis=0)\n",
    "extra_filenames2 = np.concatenate((extra_filenames[13000:19000], extra_filenames[25000:32000]), axis=0)\n",
    "extra_labels2 = np.concatenate((extra_labels[13000:19000], extra_labels[25000:32000]), axis=0)"
   ]
  },
  {
   "cell_type": "code",
   "execution_count": 81,
   "metadata": {
    "collapsed": false
   },
   "outputs": [
    {
     "data": {
      "text/plain": [
       "13000"
      ]
     },
     "execution_count": 81,
     "metadata": {},
     "output_type": "execute_result"
    }
   ],
   "source": [
    "len(extra_images1)"
   ]
  },
  {
   "cell_type": "code",
   "execution_count": 82,
   "metadata": {
    "collapsed": true
   },
   "outputs": [],
   "source": [
    "hide_code\n",
    "\n",
    "extra_images1t = extra_images1.reshape(13000, 32*32*3)\n",
    "extra_images2t = extra_images2.reshape(13000, 32*32)\n",
    "\n",
    "extra_images_df1 = pd.DataFrame(data=extra_images1t, index = extra_filenames2)\n",
    "extra_images_df2 = pd.DataFrame(data=extra_images2t, index = extra_filenames2)\n",
    "extra_labels_df = pd.DataFrame(data=extra_labels2, index = extra_filenames2)\n",
    "\n",
    "with open('extra_images1_2.csv', 'w') as f:\n",
    "    extra_images_df1.to_csv(f)\n",
    "with open('extra_images2_2.csv', 'w') as f:\n",
    "    extra_images_df2.to_csv(f)    \n",
    "with open('extra_labels_2.csv', 'w') as f:\n",
    "    extra_labels_df.to_csv(f)"
   ]
  },
  {
   "cell_type": "code",
   "execution_count": 83,
   "metadata": {
    "collapsed": false
   },
   "outputs": [
    {
     "name": "stdout",
     "output_type": "stream",
     "text": [
      "Compressed pickle size: 1050440267\n"
     ]
    }
   ],
   "source": [
    "hide_code\n",
    "\n",
    "pickle_file = 'svhn2.pickle'\n",
    "\n",
    "try:\n",
    "    f = open(pickle_file, 'wb')\n",
    "    save = {'train_images1': train_images1, 'train_images2': train_images2,\n",
    "            'train_labels': train_labels[13000:26000], 'train_filenames': train_filenames[13000:26000],\n",
    "            'test_images1': test_images1, 'test_images2': test_images2,\n",
    "            'test_labels': test_labels[7000:13000], 'test_filenames': test_filenames[7000:13000],\n",
    "            'extra_images1': extra_images1, 'extra_images2': extra_images2,\n",
    "            'extra_labels': extra_labels2, 'extra_filenames': extra_filenames2}\n",
    "    pickle.dump(save, f, pickle.HIGHEST_PROTOCOL)\n",
    "    f.close()\n",
    "except Exception as e:\n",
    "    print('Unable to save data to', pickle_file, ':', e)\n",
    "    raise\n",
    "\n",
    "del save\n",
    "    \n",
    "statinfo = os.stat(pickle_file)\n",
    "print('Compressed pickle size:', statinfo.st_size)"
   ]
  },
  {
   "cell_type": "markdown",
   "metadata": {
    "collapsed": true
   },
   "source": [
    "*** Load and prepare features and targets***"
   ]
  },
  {
   "cell_type": "code",
   "execution_count": null,
   "metadata": {
    "collapsed": true
   },
   "outputs": [],
   "source": []
  },
  {
   "cell_type": "code",
   "execution_count": null,
   "metadata": {
    "collapsed": true
   },
   "outputs": [],
   "source": []
  },
  {
   "cell_type": "code",
   "execution_count": null,
   "metadata": {
    "collapsed": true
   },
   "outputs": [],
   "source": []
  },
  {
   "cell_type": "code",
   "execution_count": null,
   "metadata": {
    "collapsed": true
   },
   "outputs": [],
   "source": []
  },
  {
   "cell_type": "code",
   "execution_count": null,
   "metadata": {
    "collapsed": true
   },
   "outputs": [],
   "source": []
  },
  {
   "cell_type": "code",
   "execution_count": null,
   "metadata": {
    "collapsed": true
   },
   "outputs": [],
   "source": []
  },
  {
   "cell_type": "code",
   "execution_count": null,
   "metadata": {
    "collapsed": true
   },
   "outputs": [],
   "source": []
  },
  {
   "cell_type": "markdown",
   "metadata": {
    "collapsed": true
   },
   "source": [
    "----\n",
    "## $\\mathfrak {\\color{#348ABD} {Step \\ 2:\\ Train \\ a \\ Model \\ on \\ a \\ Realistic \\ Dataset}}$\n",
    "Once we have settled on a good architecture, we can train the model on real data. In particular, the [Street View House Numbers (SVHN)](http://ufldl.stanford.edu/housenumbers/) dataset is a good large-scale dataset collected from house numbers in Google Street View. Training on this more challenging dataset, where the digits are not neatly lined-up and have various skews, fonts and colors, likely means you have to do some hyperparameter exploration to perform well."
   ]
  },
  {
   "cell_type": "code",
   "execution_count": null,
   "metadata": {
    "collapsed": true
   },
   "outputs": [],
   "source": [
    "hide_code\n",
    "\n",
    "\n",
    "#"
   ]
  },
  {
   "cell_type": "code",
   "execution_count": null,
   "metadata": {
    "collapsed": true
   },
   "outputs": [],
   "source": [
    "hide_code\n",
    "\n",
    "\n",
    "#"
   ]
  },
  {
   "cell_type": "code",
   "execution_count": 26,
   "metadata": {
    "collapsed": false
   },
   "outputs": [
    {
     "data": {
      "text/plain": [
       "''"
      ]
     },
     "execution_count": 26,
     "metadata": {},
     "output_type": "execute_result"
    }
   ],
   "source": [
    "hide_code\n",
    "\n",
    "def cnn_model15():    \n",
    "    model_input = Input(shape=(32, 32, 3))\n",
    "    \n",
    "    x = Conv2D(16, (3, 3), activation='relu', border_mode='same')(model_input)\n",
    "    x = MaxPooling2D(pool_size=(2, 2))(x)\n",
    "    \n",
    "    x = Conv2D(16, (3, 3), activation='relu')(x)\n",
    "    x = MaxPooling2D(pool_size=(2, 2))(x)\n",
    "    \n",
    "    x = Dropout(0.25)(x)\n",
    "    \n",
    "    x = Conv2D(32, (1, 1), activation='relu')(x)\n",
    "    x = MaxPooling2D(pool_size=(1, 1))(x)\n",
    "    \n",
    "    x = Conv2D(32, (1, 1), activation='relu')(x)\n",
    "    x = MaxPooling2D(pool_size=(1, 1))(x)\n",
    "    \n",
    "    x = Dropout(0.25)(x)\n",
    "              \n",
    "    x = Flatten()(x)\n",
    "    \n",
    "    x = Dense(512, activation='relu')(x)\n",
    "    x = Dropout(0.5)(x)\n",
    "    \n",
    "    y1 = Dense(11, activation='softmax')(x)\n",
    "    y2 = Dense(11, activation='softmax')(x)\n",
    "    y3 = Dense(11, activation='softmax')(x)\n",
    "    y4 = Dense(11, activation='softmax')(x)\n",
    "    y5 = Dense(11, activation='softmax')(x)\n",
    "    \n",
    "    model = Model(input=model_input, output=[y1, y2, y3, y4, y5])\n",
    "\n",
    "    model.compile(loss='categorical_crossentropy', optimizer='adam', metrics=['accuracy'])\n",
    "    return model"
   ]
  },
  {
   "cell_type": "code",
   "execution_count": null,
   "metadata": {
    "collapsed": true
   },
   "outputs": [],
   "source": [
    "hide_code\n",
    "\n",
    "cnn_model15 = cnn_model15()\n",
    "\n",
    "cnn_model15.fit(X_train, y_train_cat_list, \n",
    "                validation_data=(X_test, y_test_cat_list), \n",
    "                epochs=20, batch_size=128)"
   ]
  },
  {
   "cell_type": "markdown",
   "metadata": {},
   "source": [
    "----\n",
    "## $\\mathfrak {\\color{#348ABD} {Questions \\ and \\ Answers}}$"
   ]
  },
  {
   "cell_type": "markdown",
   "metadata": {
    "collapsed": true
   },
   "source": [
    "### Question 4\n",
    "_Describe how you set up the training and testing data for your model. How does the model perform on a realistic dataset?_\n",
    "### Answer 4\n"
   ]
  },
  {
   "cell_type": "markdown",
   "metadata": {
    "collapsed": true
   },
   "source": [
    "### Question 5\n",
    "_What changes did you have to make, if any, to achieve \"good\" results? Were there any options you explored that made the results worse?_\n",
    "### Answer 5"
   ]
  },
  {
   "cell_type": "markdown",
   "metadata": {
    "collapsed": true
   },
   "source": [
    "### Question 6\n",
    "_What were your initial and final results with testing on a realistic dataset? Do you believe your model is doing a good enough job at classifying numbers correctly?_\n",
    "### Answer 6"
   ]
  },
  {
   "cell_type": "code",
   "execution_count": null,
   "metadata": {
    "collapsed": true
   },
   "outputs": [],
   "source": []
  }
 ],
 "metadata": {
  "anaconda-cloud": {},
  "hide_input": false,
  "kernelspec": {
   "display_name": "Python 3",
   "language": "python",
   "name": "python3"
  },
  "language_info": {
   "codemirror_mode": {
    "name": "ipython",
    "version": 3
   },
   "file_extension": ".py",
   "mimetype": "text/x-python",
   "name": "python",
   "nbconvert_exporter": "python",
   "pygments_lexer": "ipython3",
   "version": "3.6.0"
  },
  "latex_envs": {
   "bibliofile": "biblio.bib",
   "cite_by": "apalike",
   "current_citInitial": 1,
   "eqLabelWithNumbers": true,
   "eqNumInitial": 0
  }
 },
 "nbformat": 4,
 "nbformat_minor": 2
}
