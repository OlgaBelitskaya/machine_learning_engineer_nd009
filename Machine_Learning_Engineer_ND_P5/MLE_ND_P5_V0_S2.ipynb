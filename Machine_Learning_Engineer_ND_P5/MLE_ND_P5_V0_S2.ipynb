{
 "cells": [
  {
   "cell_type": "markdown",
   "metadata": {},
   "source": [
    "# &#x1F4D1; &nbsp;  $\\mathfrak {\\color{#191970} {P5: \\ Build \\ a \\ Digit \\ Recognition \\ Program. \\ Step \\ 2}}$"
   ]
  },
  {
   "cell_type": "markdown",
   "metadata": {},
   "source": [
    "---\n",
    "## $\\mathfrak {\\color{##191970} {Code \\ Library \\ and \\ Links}}$\n",
    "Multi-dimensional image processing https://docs.scipy.org/doc/scipy/reference/ndimage.html\n",
    "\n",
    "Keras: Deep Learning library for Theano and TensorFlow https://keras.io/\n",
    " \n",
    "Deep MNIST for Experts https://www.tensorflow.org/get_started/mnist/pros\n",
    "\n",
    "Tensorflow Deep MNIST Advanced Tutorial http://docs.seldon.io/tensorflow-deep-mnist-example.html\n",
    "\n",
    "Handwritten Digit Recognition using Convolutional Neural Networks in Python with Keras\n",
    "\n",
    "http://machinelearningmastery.com/handwritten-digit-recognition-using-convolutional-neural-networks-python-keras/"
   ]
  },
  {
   "cell_type": "code",
   "execution_count": 3,
   "metadata": {
    "collapsed": false
   },
   "outputs": [
    {
     "data": {
      "text/html": [
       "\n",
       "<script>\n",
       "code_show = true; \n",
       "function code_display() {\n",
       "    if (code_show) {\n",
       "        $('div.input').each(function(id) {\n",
       "            if (id == 0 || $(this).html().indexOf('hide_code') > -1) {$(this).hide();}\n",
       "        });\n",
       "        $('div.output_prompt').css('opacity', 0);\n",
       "    } else {\n",
       "        $('div.input').each(function(id) {$(this).show();});\n",
       "        $('div.output_prompt').css('opacity', 1);\n",
       "    }\n",
       "    code_show = !code_show;\n",
       "} \n",
       "$(document).ready(code_display);\n",
       "</script>\n",
       "<form action=\"javascript: code_display()\">\n",
       "<input style=\"color: #191970; background: ghostwhite; opacity: 0.9; \" type=\"submit\" value=\"Click to display or hide code\">\n",
       "</form>\n"
      ],
      "text/plain": [
       "<IPython.core.display.HTML object>"
      ]
     },
     "execution_count": 3,
     "metadata": {},
     "output_type": "execute_result"
    }
   ],
   "source": [
    "from IPython.core.display import HTML\n",
    "hide_code = ''\n",
    "HTML('''\n",
    "<script>\n",
    "code_show = true; \n",
    "function code_display() {\n",
    "    if (code_show) {\n",
    "        $('div.input').each(function(id) {\n",
    "            if (id == 0 || $(this).html().indexOf('hide_code') > -1) {$(this).hide();}\n",
    "        });\n",
    "        $('div.output_prompt').css('opacity', 0);\n",
    "    } else {\n",
    "        $('div.input').each(function(id) {$(this).show();});\n",
    "        $('div.output_prompt').css('opacity', 1);\n",
    "    }\n",
    "    code_show = !code_show;\n",
    "} \n",
    "$(document).ready(code_display);\n",
    "</script>\n",
    "<form action=\"javascript: code_display()\">\n",
    "<input style=\"color: #191970; background: ghostwhite; opacity: 0.9; \" \\\n",
    "type=\"submit\" value=\"Click to display or hide code\">\n",
    "</form>\n",
    "''')"
   ]
  },
  {
   "cell_type": "code",
   "execution_count": 4,
   "metadata": {
    "collapsed": false
   },
   "outputs": [],
   "source": [
    "hide_code\n",
    "import numpy as np\n",
    "import pandas as pd\n",
    "import scipy as sp\n",
    "import scipy.ndimage\n",
    "import random\n",
    "import scipy.misc\n",
    "from scipy.special import expit\n",
    "from time import time\n",
    "\n",
    "import os\n",
    "import sys\n",
    "import h5py\n",
    "import tarfile\n",
    "\n",
    "from six.moves.urllib.request import urlretrieve\n",
    "from six.moves import cPickle as pickle\n",
    "\n",
    "from IPython.display import display, Image, IFrame\n",
    "import matplotlib.pylab as plt\n",
    "import matplotlib.cm as cm\n",
    "from matplotlib import offsetbox\n",
    "\n",
    "%matplotlib inline\n",
    "import warnings\n",
    "warnings.filterwarnings('ignore')"
   ]
  },
  {
   "cell_type": "code",
   "execution_count": 5,
   "metadata": {
    "collapsed": false
   },
   "outputs": [
    {
     "name": "stderr",
     "output_type": "stream",
     "text": [
      "Using TensorFlow backend.\n"
     ]
    }
   ],
   "source": [
    "hide_code\n",
    "from sklearn.neural_network import MLPClassifier, BernoulliRBM\n",
    "from sklearn import linear_model, datasets, metrics\n",
    "from sklearn.pipeline import Pipeline\n",
    "from sklearn import manifold, decomposition, ensemble\n",
    "from sklearn import discriminant_analysis, random_projection\n",
    "from sklearn.model_selection import train_test_split\n",
    "\n",
    "import tensorflow as tf\n",
    "import tensorflow.examples.tutorials.mnist as mnist\n",
    "\n",
    "import keras as ks\n",
    "from keras.models import Sequential, load_model\n",
    "from keras.preprocessing import sequence\n",
    "from keras.optimizers import SGD, RMSprop\n",
    "from keras.layers import Dense, Dropout, LSTM\n",
    "from keras.layers import Activation, Flatten, Input, BatchNormalization\n",
    "from keras.layers import Conv1D, MaxPooling1D, Conv2D, MaxPooling2D\n",
    "from keras.layers.embeddings import Embedding\n",
    "from keras.models import Model"
   ]
  },
  {
   "cell_type": "code",
   "execution_count": 6,
   "metadata": {
    "collapsed": true
   },
   "outputs": [],
   "source": [
    "hide_code\n",
    "def download_progress_hook(count, blockSize, totalSize):\n",
    "    \"\"\"A hook to report the progress of a download. This is mostly intended for users with\n",
    "    slow internet connections. Reports every 5% change in download progress.\n",
    "    \"\"\"\n",
    "    global last_percent_reported\n",
    "    percent = int(count * blockSize * 100 / totalSize)\n",
    "\n",
    "    if last_percent_reported != percent:\n",
    "        if percent % 5 == 0:\n",
    "            sys.stdout.write(\"%s%%\" % percent)\n",
    "            sys.stdout.flush()\n",
    "        else:\n",
    "            sys.stdout.write(\".\")\n",
    "            sys.stdout.flush()\n",
    "      \n",
    "        last_percent_reported = percent\n",
    "        \n",
    "def maybe_download(filename, expected_bytes, force=False):\n",
    "    \"\"\"Download a file if not present, and make sure it's the right size.\"\"\"\n",
    "    dest_filename = os.path.join(data_root, filename)\n",
    "    if force or not os.path.exists(dest_filename):\n",
    "        print('Attempting to download:', filename) \n",
    "        filename, _ = urlretrieve(url + filename, dest_filename, reporthook=download_progress_hook)\n",
    "        print('\\nDownload Complete!')\n",
    "    statinfo = os.stat(dest_filename)\n",
    "    if statinfo.st_size == expected_bytes:\n",
    "        print('Found and verified', dest_filename)\n",
    "    else:\n",
    "        raise Exception('Failed to verify ' + dest_filename + '. Can you get to it with a browser?')\n",
    "    return dest_filename\n",
    "\n",
    "def maybe_extract(file_, force=False):\n",
    "    filename = os.path.splitext(os.path.splitext(file_)[0])[0]  # remove .tar.gz\n",
    "    \n",
    "    if os.path.isdir(filename) and not force:\n",
    "        # You may override by setting force=True.\n",
    "        print('%s is already presented - Skipping extraction of %s.' % (filename, file_))\n",
    "    else:\n",
    "        print('Extracting %s file data. Please wait...' % file_)\n",
    "        tar = tarfile.open(file_)\n",
    "        sys.stdout.flush()\n",
    "        tar.extractall()\n",
    "        tar.close()\n",
    "        print('File %s is successfully extracted into %s directory.' % (file_, filename))        \n",
    "    \n",
    "    return filename"
   ]
  },
  {
   "cell_type": "code",
   "execution_count": 7,
   "metadata": {
    "collapsed": false
   },
   "outputs": [],
   "source": [
    "hide_code\n",
    "# https://github.com/sarahrn/Py-Gsvhn-DigitStruct-Reader/blob/master/digitStruct.py\n",
    "#################\n",
    "# Bounding Box #\n",
    "################\n",
    "class BBox:\n",
    "    def __init__(self):\n",
    "        self.label = \"\"     # Digit\n",
    "        self.left = 0\n",
    "        self.top = 0\n",
    "        self.width = 0\n",
    "        self.height = 0\n",
    "\n",
    "class DigitStruct:\n",
    "    def __init__(self):\n",
    "        self.name = None    # Image file name\n",
    "        self.bboxList = None # List of BBox structs\n",
    "\n",
    "# Function for debugging\n",
    "def printHDFObj(theObj, theObjName):\n",
    "    isFile = isinstance(theObj, h5py.File)\n",
    "    isGroup = isinstance(theObj, h5py.Group)\n",
    "    isDataSet = isinstance(theObj, h5py.Dataset)\n",
    "    isReference = isinstance(theObj, h5py.Reference)\n",
    "    print (\"{}\".format(theObjName))\n",
    "    print (\"    type(): {}\".format(type(theObj)))\n",
    "    if isFile or isGroup or isDataSet:\n",
    "        # if theObj.name != None:\n",
    "        #    print \"    name: {}\".format(theObj.name)\n",
    "        print (\"    id: {}\".format(theObj.id))\n",
    "    if isFile or isGroup:\n",
    "        print (\"    keys: {}\".format(theObj.keys()))\n",
    "    if not isReference:\n",
    "        print (\"    Len: {}\".format(len(theObj)))\n",
    "\n",
    "    if not (isFile or isGroup or isDataSet or isReference):\n",
    "        print (theObj)\n",
    "\n",
    "def readDigitStructGroup(dsFile):\n",
    "    dsGroup = dsFile[\"digitStruct\"]\n",
    "    return dsGroup\n",
    "\n",
    "#####################################################\n",
    "# Reads a string from the file using its reference #\n",
    "####################################################\n",
    "def readString(strRef, dsFile):\n",
    "    strObj = dsFile[strRef]\n",
    "    str = ''.join(chr(i) for i in strObj)\n",
    "    return str\n",
    "#########################################\n",
    "# Reads an integer value from the file #\n",
    "########################################\n",
    "def readInt(intArray, dsFile):\n",
    "    intRef = intArray[0]\n",
    "    isReference = isinstance(intRef, h5py.Reference)\n",
    "    intVal = 0\n",
    "    if isReference:\n",
    "        intObj = dsFile[intRef]\n",
    "        intVal = int(intObj[0])\n",
    "    else: # Assuming value type\n",
    "        intVal = int(intRef)\n",
    "    return intVal\n",
    "\n",
    "def yieldNextInt(intDataset, dsFile):\n",
    "    for intData in intDataset:\n",
    "        intVal = readInt(intData, dsFile)\n",
    "        yield intVal \n",
    "\n",
    "def yieldNextBBox(bboxDataset, dsFile):\n",
    "    for bboxArray in bboxDataset:\n",
    "        bboxGroupRef = bboxArray[0]\n",
    "        bboxGroup = dsFile[bboxGroupRef]\n",
    "        labelDataset = bboxGroup[\"label\"]\n",
    "        leftDataset = bboxGroup[\"left\"]\n",
    "        topDataset = bboxGroup[\"top\"]\n",
    "        widthDataset = bboxGroup[\"width\"]\n",
    "        heightDataset = bboxGroup[\"height\"]\n",
    "\n",
    "        left = yieldNextInt(leftDataset, dsFile)\n",
    "        top = yieldNextInt(topDataset, dsFile)\n",
    "        width = yieldNextInt(widthDataset, dsFile)\n",
    "        height = yieldNextInt(heightDataset, dsFile)\n",
    "\n",
    "        bboxList = []\n",
    "\n",
    "        for label in yieldNextInt(labelDataset, dsFile):\n",
    "            bbox = BBox()\n",
    "            bbox.label = label\n",
    "            bbox.left = next(left)\n",
    "            bbox.top = next(top)\n",
    "            bbox.width = next(width)\n",
    "            bbox.height = next(height)\n",
    "            bboxList.append(bbox)\n",
    "\n",
    "        yield bboxList\n",
    "\n",
    "def yieldNextFileName(nameDataset, dsFile):\n",
    "    for nameArray in nameDataset:\n",
    "        nameRef = nameArray[0]\n",
    "        name = readString(nameRef, dsFile)\n",
    "        yield name\n",
    "\n",
    "def yieldNextDigitStruct(dsFileName):\n",
    "    dsFile = h5py.File(dsFileName, 'r')\n",
    "    dsGroup = readDigitStructGroup(dsFile)\n",
    "    nameDataset = dsGroup[\"name\"]\n",
    "    bboxDataset = dsGroup[\"bbox\"]\n",
    "\n",
    "    bboxListIter = yieldNextBBox(bboxDataset, dsFile)\n",
    "    for name in yieldNextFileName(nameDataset, dsFile):\n",
    "        bboxList = next(bboxListIter)\n",
    "        obj = DigitStruct()\n",
    "        obj.name = name\n",
    "        obj.bboxList = bboxList\n",
    "        yield obj\n",
    "        \n",
    "def testMain():\n",
    "\n",
    "    dsFileName = 'train/digitStruct.mat'\n",
    "    testCounter = 0\n",
    "    for dsObj in yieldNextDigitStruct(dsFileName):\n",
    "        # testCounter += 1\n",
    "        print (dsObj.name)\n",
    "        for bbox in dsObj.bboxList:\n",
    "            print (\"    {}:{},{},{},{}\".format(bbox.label, bbox.left, bbox.top, bbox.width, bbox.height))\n",
    "        if testCounter >= 5:\n",
    "            break\n",
    "\n",
    "# if __name__ == \"__main__\":\n",
    "#     testMain()"
   ]
  },
  {
   "cell_type": "code",
   "execution_count": 8,
   "metadata": {
    "collapsed": false
   },
   "outputs": [],
   "source": [
    "hide_code\n",
    "def testMain():\n",
    "\n",
    "    dsFileName = 'test/digitStruct.mat'\n",
    "    testCounter = 0\n",
    "    for dsObj in yieldNextDigitStruct(dsFileName):\n",
    "        # testCounter += 1\n",
    "        print (dsObj.name)\n",
    "        for bbox in dsObj.bboxList:\n",
    "            print (\"    {}:{},{},{},{}\".format(bbox.label, bbox.left, bbox.top, bbox.width, bbox.height))\n",
    "        if testCounter >= 5:\n",
    "            break\n",
    "\n",
    "# if __name__ == \"__main__\":\n",
    "#     testMain()"
   ]
  },
  {
   "cell_type": "code",
   "execution_count": 9,
   "metadata": {
    "collapsed": false
   },
   "outputs": [],
   "source": [
    "hide_code\n",
    "def testMain():\n",
    "\n",
    "    dsFileName = 'extra/digitStruct.mat'\n",
    "    testCounter = 0\n",
    "    for dsObj in yieldNextDigitStruct(dsFileName):\n",
    "        # testCounter += 1\n",
    "        print (dsObj.name)\n",
    "        for bbox in dsObj.bboxList:\n",
    "            print (\"    {}:{},{},{},{}\".format(bbox.label, bbox.left, bbox.top, bbox.width, bbox.height))\n",
    "        if testCounter >= 5:\n",
    "            break\n",
    "\n",
    "# if __name__ == \"__main__\":\n",
    "#     testMain()"
   ]
  },
  {
   "cell_type": "code",
   "execution_count": 10,
   "metadata": {
    "collapsed": false
   },
   "outputs": [],
   "source": [
    "hide_code\n",
    "# https://github.com/sarahrn/Py-Gsvhn-DigitStruct-Reader/blob/master/digitStructMatToCsv.py\n",
    "def writeToCsvFile(dsFileName, csvFile):\n",
    "    fileCount = 0\n",
    "    csvFile.write(\"FileName,DigitLabel,Left,Top,Width,Height\\n\")\n",
    "    for dsObj in yieldNextDigitStruct(dsFileName):\n",
    "        fileCount += 1\n",
    "        for bbox in dsObj.bboxList:\n",
    "            csvLine = \"{},{},{},{},{},{}\\n\".format(\n",
    "                dsObj.name,\n",
    "                bbox.label, bbox.left, bbox.top, bbox.width, bbox.height)\n",
    "            csvFile.write(csvLine)\n",
    "    print(\"Number of image files: {}\".format(fileCount))\n",
    "\n",
    "def convertToCsv(dsFilePath, csvFilePath):\n",
    "    with open(csvFilePath, \"w\") as csvFile:\n",
    "        writeToCsvFile(dsFilePath, csvFile)\n",
    "\n",
    "def main():\n",
    "    dsFilePath = 'train/digitStruct.mat'\n",
    "    csvFilePath = 'train_digitStruct.csv'\n",
    "    print(\"Converting {0} to {1}\".format(dsFilePath, csvFilePath))\n",
    "    convertToCsv(dsFilePath, csvFilePath)\n",
    "\n",
    "# if __name__ == \"__main__\":\n",
    "#     main()"
   ]
  },
  {
   "cell_type": "code",
   "execution_count": 11,
   "metadata": {
    "collapsed": false
   },
   "outputs": [],
   "source": [
    "hide_code\n",
    "def main():\n",
    "    dsFilePath = 'test/digitStruct.mat'\n",
    "    csvFilePath = 'test_digitStruct.csv'\n",
    "    print(\"Converting {0} to {1}\".format(dsFilePath, csvFilePath))\n",
    "    convertToCsv(dsFilePath, csvFilePath)\n",
    "\n",
    "# if __name__ == \"__main__\":\n",
    "#     main()"
   ]
  },
  {
   "cell_type": "code",
   "execution_count": 12,
   "metadata": {
    "collapsed": false
   },
   "outputs": [],
   "source": [
    "hide_code\n",
    "def main():\n",
    "    dsFilePath = 'extra/digitStruct.mat'\n",
    "    csvFilePath = 'extra_digitStruct.csv'\n",
    "    print(\"Converting {0} to {1}\".format(dsFilePath, csvFilePath))\n",
    "    convertToCsv(dsFilePath, csvFilePath)\n",
    "\n",
    "# if __name__ == \"__main__\":\n",
    "#     main()"
   ]
  },
  {
   "cell_type": "code",
   "execution_count": 13,
   "metadata": {
    "collapsed": false
   },
   "outputs": [],
   "source": [
    "hide_code\n",
    "def grouped_by_filename(data):    \n",
    "    filename_set = np.array(list(set(data['filename'])))\n",
    "    n = filename_set.shape[0]\n",
    "    labels = []\n",
    "    boxes = []\n",
    "    data_gr = data.groupby(['filename'])\n",
    "    for i in range(n):\n",
    "        x = filename_set[i]\n",
    "        labels.append(np.array(data_gr.get_group(x)['label']))\n",
    "        boxes.append(np.array(data_gr.get_group(x)['box']))\n",
    "    labels = np.array(labels)\n",
    "    boxes = np.array(boxes)\n",
    "    data_g = {'filename': filename_set, 'label': labels, 'box': boxes}\n",
    "    new_data = pd.DataFrame(data=data_g)\n",
    "    return new_data"
   ]
  },
  {
   "cell_type": "code",
   "execution_count": 14,
   "metadata": {
    "collapsed": true
   },
   "outputs": [],
   "source": [
    "hide_code\n",
    "def fivedigit_label(label):\n",
    "    size = len(label)\n",
    "    if size >= 5:\n",
    "        return label\n",
    "    else:\n",
    "        num_zeros = np.full((5-size), 10)\n",
    "        return np.array(np.concatenate((num_zeros, label), axis = 0))\n",
    "    \n",
    "def get_labels(data):\n",
    "    string = data.replace('[', '').replace(']', '').replace(',', '')\n",
    "    labels = np.array([int(n) for n in string.split()])\n",
    "    return labels\n",
    "\n",
    "def image_box(box):\n",
    "        left, top, width, height = box[:, 0], box[:, 1], box[:, 2], box[:, 3]\n",
    "        \n",
    "        image_left = min(left) + 1\n",
    "        image_top = min(top) + 1\n",
    "        image_bottom = max(top) + max(height)\n",
    "        image_right = max(left) + max(width)\n",
    "        return np.array([image_left, image_right, image_top, image_bottom])\n",
    "\n",
    "def get_box(data):\n",
    "    value = data.values[0]\n",
    "    string = value.replace('[', '').replace(']', '').replace(',', '')\n",
    "    numbers = np.array([int(n) for n in string.split()])        \n",
    "    k = len(numbers)/4\n",
    "    numbers = numbers.reshape(k, 4)       \n",
    "    return numbers\n",
    "\n",
    "def get_image(folder, image_file):\n",
    "    filename=os.path.join(folder, image_file)\n",
    "    image = scipy.ndimage.imread(filename, mode='RGB')\n",
    "    \n",
    "    if folder == 'train':\n",
    "        n = np.where(train_filenames == image_file)[0]\n",
    "        box = np.array(get_box(train_b['box'][n]))\n",
    "        label = train_labels[n]\n",
    "        \n",
    "    elif folder == 'test':\n",
    "        n = np.where(test_filenames == image_file)[0]\n",
    "        box = np.array(get_box(test_b['box'][n]))\n",
    "        label = test_labels[n]\n",
    "        \n",
    "    elif folder == 'extra':\n",
    "        n = np.where(extra_filenames == image_file)[0]\n",
    "        box = np.array(get_box(extra_b['box'][n]))\n",
    "        label = extra_labels[n]\n",
    "        \n",
    "    nbox = image_box(box)\n",
    "    image_left, image_right, image_top, image_bottom = nbox[0], nbox[1], nbox[2], nbox[3]\n",
    "    \n",
    "    image_bottom = min(image.shape[0], image_bottom)\n",
    "    image_right = min(image.shape[1], image_right)\n",
    "                   \n",
    "    nimage = image[image_top:image_bottom, image_left:image_right]\n",
    "    \n",
    "    image32_1 = scipy.misc.imresize(nimage, (32, 32, 3)) / 255\n",
    "    image32_2 = np.dot(np.array(image64_1, dtype='float32'), [0.299, 0.587, 0.114])\n",
    "    return image32_1, image32_2, label"
   ]
  },
  {
   "cell_type": "markdown",
   "metadata": {},
   "source": [
    "---\n",
    "## $\\mathfrak {\\color{#191970} {Experimental \\ Datasets}}$"
   ]
  },
  {
   "cell_type": "markdown",
   "metadata": {},
   "source": [
    "#### Dataset #5. Stanford.edu. Housenumbers\n",
    "\n",
    "http://ufldl.stanford.edu/housenumbers/"
   ]
  },
  {
   "cell_type": "code",
   "execution_count": 15,
   "metadata": {
    "collapsed": false
   },
   "outputs": [
    {
     "name": "stdout",
     "output_type": "stream",
     "text": [
      "Found and verified ./train.tar.gz\n",
      "Found and verified ./test.tar.gz\n",
      "Found and verified ./extra.tar.gz\n"
     ]
    }
   ],
   "source": [
    "hide_code\n",
    "url = 'http://ufldl.stanford.edu/housenumbers/'\n",
    "last_percent_reported = None\n",
    "data_root = '.' # Change me to store data elsewhere\n",
    "\n",
    "train_filename = maybe_download('train.tar.gz', 404141560)\n",
    "test_filename = maybe_download('test.tar.gz', 276555967)\n",
    "extra_filename = maybe_download('extra.tar.gz', 1955489752)"
   ]
  },
  {
   "cell_type": "code",
   "execution_count": 16,
   "metadata": {
    "collapsed": false
   },
   "outputs": [
    {
     "name": "stdout",
     "output_type": "stream",
     "text": [
      "./train is already presented - Skipping extraction of ./train.tar.gz.\n",
      "./test is already presented - Skipping extraction of ./test.tar.gz.\n",
      "./extra is already presented - Skipping extraction of ./extra.tar.gz.\n"
     ]
    }
   ],
   "source": [
    "hide_code\n",
    "train_folder = maybe_extract(train_filename)\n",
    "test_folder = maybe_extract(test_filename)\n",
    "extra_folder = maybe_extract(extra_filename)"
   ]
  },
  {
   "cell_type": "code",
   "execution_count": 18,
   "metadata": {
    "collapsed": false
   },
   "outputs": [
    {
     "name": "stdout",
     "output_type": "stream",
     "text": [
      "A few examples of images\n"
     ]
    },
    {
     "data": {
      "image/png": "[encoded data removed]",
      "text/plain": [
       "<IPython.core.display.Image object>"
      ]
     },
     "metadata": {},
     "output_type": "display_data"
    },
    {
     "data": {
      "image/png": "[encoded data removed]",
      "text/plain": [
       "<IPython.core.display.Image object>"
      ]
     },
     "metadata": {},
     "output_type": "display_data"
    },
    {
     "data": {
      "image/png": "[encoded data removed]",
      "text/plain": [
       "<IPython.core.display.Image object>"
      ]
     },
     "metadata": {},
     "output_type": "display_data"
    },
    {
     "data": {
      "image/png": "[encoded data removed]",
      "text/plain": [
       "<IPython.core.display.Image object>"
      ]
     },
     "metadata": {},
     "output_type": "display_data"
    },
    {
     "data": {
      "image/png": "[encoded data removed]",
      "text/plain": [
       "<IPython.core.display.Image object>"
      ]
     },
     "metadata": {},
     "output_type": "display_data"
    }
   ],
   "source": [
    "hide_code\n",
    "print('A few examples of images')\n",
    "image_path = os.path.join('extra')\n",
    "images = [f for f in os.listdir(image_path) if f.endswith('.png')][1010:1015]\n",
    "for image in images:\n",
    "    display(Image(filename=os.path.join(image_path,image)))"
   ]
  },
  {
   "cell_type": "code",
   "execution_count": 21,
   "metadata": {
    "collapsed": false
   },
   "outputs": [
    {
     "data": {
      "text/html": [
       "<div>\n",
       "<style>\n",
       "    .dataframe thead tr:only-child th {\n",
       "        text-align: right;\n",
       "    }\n",
       "\n",
       "    .dataframe thead th {\n",
       "        text-align: left;\n",
       "    }\n",
       "\n",
       "    .dataframe tbody tr th {\n",
       "        vertical-align: top;\n",
       "    }\n",
       "</style>\n",
       "<table border=\"1\" class=\"dataframe\">\n",
       "  <thead>\n",
       "    <tr style=\"text-align: right;\">\n",
       "      <th></th>\n",
       "      <th>FileName</th>\n",
       "      <th>DigitLabel</th>\n",
       "      <th>Left</th>\n",
       "      <th>Top</th>\n",
       "      <th>Width</th>\n",
       "      <th>Height</th>\n",
       "    </tr>\n",
       "  </thead>\n",
       "  <tbody>\n",
       "    <tr>\n",
       "      <th>0</th>\n",
       "      <td>1.png</td>\n",
       "      <td>1</td>\n",
       "      <td>246</td>\n",
       "      <td>77</td>\n",
       "      <td>81</td>\n",
       "      <td>219</td>\n",
       "    </tr>\n",
       "    <tr>\n",
       "      <th>1</th>\n",
       "      <td>1.png</td>\n",
       "      <td>9</td>\n",
       "      <td>323</td>\n",
       "      <td>81</td>\n",
       "      <td>96</td>\n",
       "      <td>219</td>\n",
       "    </tr>\n",
       "    <tr>\n",
       "      <th>2</th>\n",
       "      <td>2.png</td>\n",
       "      <td>2</td>\n",
       "      <td>77</td>\n",
       "      <td>29</td>\n",
       "      <td>23</td>\n",
       "      <td>32</td>\n",
       "    </tr>\n",
       "  </tbody>\n",
       "</table>\n",
       "</div>"
      ],
      "text/plain": [
       "  FileName  DigitLabel  Left  Top  Width  Height\n",
       "0    1.png           1   246   77     81     219\n",
       "1    1.png           9   323   81     96     219\n",
       "2    2.png           2    77   29     23      32"
      ]
     },
     "metadata": {},
     "output_type": "display_data"
    },
    {
     "data": {
      "text/html": [
       "<div>\n",
       "<style>\n",
       "    .dataframe thead tr:only-child th {\n",
       "        text-align: right;\n",
       "    }\n",
       "\n",
       "    .dataframe thead th {\n",
       "        text-align: left;\n",
       "    }\n",
       "\n",
       "    .dataframe tbody tr th {\n",
       "        vertical-align: top;\n",
       "    }\n",
       "</style>\n",
       "<table border=\"1\" class=\"dataframe\">\n",
       "  <thead>\n",
       "    <tr style=\"text-align: right;\">\n",
       "      <th></th>\n",
       "      <th>FileName</th>\n",
       "      <th>DigitLabel</th>\n",
       "      <th>Left</th>\n",
       "      <th>Top</th>\n",
       "      <th>Width</th>\n",
       "      <th>Height</th>\n",
       "    </tr>\n",
       "  </thead>\n",
       "  <tbody>\n",
       "    <tr>\n",
       "      <th>0</th>\n",
       "      <td>1.png</td>\n",
       "      <td>5</td>\n",
       "      <td>43</td>\n",
       "      <td>7</td>\n",
       "      <td>19</td>\n",
       "      <td>30</td>\n",
       "    </tr>\n",
       "    <tr>\n",
       "      <th>1</th>\n",
       "      <td>2.png</td>\n",
       "      <td>2</td>\n",
       "      <td>99</td>\n",
       "      <td>5</td>\n",
       "      <td>14</td>\n",
       "      <td>23</td>\n",
       "    </tr>\n",
       "    <tr>\n",
       "      <th>2</th>\n",
       "      <td>2.png</td>\n",
       "      <td>1</td>\n",
       "      <td>114</td>\n",
       "      <td>8</td>\n",
       "      <td>8</td>\n",
       "      <td>23</td>\n",
       "    </tr>\n",
       "  </tbody>\n",
       "</table>\n",
       "</div>"
      ],
      "text/plain": [
       "  FileName  DigitLabel  Left  Top  Width  Height\n",
       "0    1.png           5    43    7     19      30\n",
       "1    2.png           2    99    5     14      23\n",
       "2    2.png           1   114    8      8      23"
      ]
     },
     "metadata": {},
     "output_type": "display_data"
    },
    {
     "data": {
      "text/html": [
       "<div>\n",
       "<style>\n",
       "    .dataframe thead tr:only-child th {\n",
       "        text-align: right;\n",
       "    }\n",
       "\n",
       "    .dataframe thead th {\n",
       "        text-align: left;\n",
       "    }\n",
       "\n",
       "    .dataframe tbody tr th {\n",
       "        vertical-align: top;\n",
       "    }\n",
       "</style>\n",
       "<table border=\"1\" class=\"dataframe\">\n",
       "  <thead>\n",
       "    <tr style=\"text-align: right;\">\n",
       "      <th></th>\n",
       "      <th>FileName</th>\n",
       "      <th>DigitLabel</th>\n",
       "      <th>Left</th>\n",
       "      <th>Top</th>\n",
       "      <th>Width</th>\n",
       "      <th>Height</th>\n",
       "    </tr>\n",
       "  </thead>\n",
       "  <tbody>\n",
       "    <tr>\n",
       "      <th>0</th>\n",
       "      <td>1.png</td>\n",
       "      <td>4</td>\n",
       "      <td>24</td>\n",
       "      <td>70</td>\n",
       "      <td>38</td>\n",
       "      <td>56</td>\n",
       "    </tr>\n",
       "    <tr>\n",
       "      <th>1</th>\n",
       "      <td>1.png</td>\n",
       "      <td>7</td>\n",
       "      <td>55</td>\n",
       "      <td>41</td>\n",
       "      <td>36</td>\n",
       "      <td>56</td>\n",
       "    </tr>\n",
       "    <tr>\n",
       "      <th>2</th>\n",
       "      <td>1.png</td>\n",
       "      <td>8</td>\n",
       "      <td>79</td>\n",
       "      <td>23</td>\n",
       "      <td>47</td>\n",
       "      <td>56</td>\n",
       "    </tr>\n",
       "  </tbody>\n",
       "</table>\n",
       "</div>"
      ],
      "text/plain": [
       "  FileName  DigitLabel  Left  Top  Width  Height\n",
       "0    1.png           4    24   70     38      56\n",
       "1    1.png           7    55   41     36      56\n",
       "2    1.png           8    79   23     47      56"
      ]
     },
     "metadata": {},
     "output_type": "display_data"
    }
   ],
   "source": [
    "hide_code\n",
    "train_set = pd.read_csv(\"train_digitStruct.csv\")\n",
    "test_set = pd.read_csv(\"test_digitStruct.csv\")\n",
    "extra_set = pd.read_csv(\"extra_digitStruct.csv\")\n",
    "display(train_set.head(3))\n",
    "display(test_set.head(3))\n",
    "display(extra_set.head(3))"
   ]
  },
  {
   "cell_type": "code",
   "execution_count": 19,
   "metadata": {
    "collapsed": false
   },
   "outputs": [],
   "source": [
    "hide_code\n",
    "train_box = [[train_set['Left'][i], train_set['Top'][i], \n",
    "              train_set['Width'][i], train_set['Height'][i]] \n",
    "             for i in range(len(train_set))]\n",
    "\n",
    "test_box = [[test_set['Left'][i], test_set['Top'][i], \n",
    "             test_set['Width'][i], test_set['Height'][i]] \n",
    "            for i in range(len(test_set))]\n",
    "\n",
    "extra_box = [[extra_set['Left'][i], extra_set['Top'][i], \n",
    "              extra_set['Width'][i], extra_set['Height'][i]] \n",
    "             for i in range(len(extra_set))]"
   ]
  },
  {
   "cell_type": "code",
   "execution_count": 23,
   "metadata": {
    "collapsed": false
   },
   "outputs": [
    {
     "data": {
      "text/html": [
       "<div>\n",
       "<table border=\"1\" class=\"dataframe\">\n",
       "  <thead>\n",
       "    <tr style=\"text-align: right;\">\n",
       "      <th></th>\n",
       "      <th>box</th>\n",
       "      <th>filename</th>\n",
       "      <th>label</th>\n",
       "    </tr>\n",
       "  </thead>\n",
       "  <tbody>\n",
       "    <tr>\n",
       "      <th>0</th>\n",
       "      <td>[246, 77, 81, 219]</td>\n",
       "      <td>1.png</td>\n",
       "      <td>1</td>\n",
       "    </tr>\n",
       "    <tr>\n",
       "      <th>1</th>\n",
       "      <td>[323, 81, 96, 219]</td>\n",
       "      <td>1.png</td>\n",
       "      <td>9</td>\n",
       "    </tr>\n",
       "    <tr>\n",
       "      <th>2</th>\n",
       "      <td>[77, 29, 23, 32]</td>\n",
       "      <td>2.png</td>\n",
       "      <td>2</td>\n",
       "    </tr>\n",
       "  </tbody>\n",
       "</table>\n",
       "</div>"
      ],
      "text/plain": [
       "                  box filename  label\n",
       "0  [246, 77, 81, 219]    1.png      1\n",
       "1  [323, 81, 96, 219]    1.png      9\n",
       "2    [77, 29, 23, 32]    2.png      2"
      ]
     },
     "metadata": {},
     "output_type": "display_data"
    },
    {
     "data": {
      "text/html": [
       "<div>\n",
       "<table border=\"1\" class=\"dataframe\">\n",
       "  <thead>\n",
       "    <tr style=\"text-align: right;\">\n",
       "      <th></th>\n",
       "      <th>box</th>\n",
       "      <th>filename</th>\n",
       "      <th>label</th>\n",
       "    </tr>\n",
       "  </thead>\n",
       "  <tbody>\n",
       "    <tr>\n",
       "      <th>0</th>\n",
       "      <td>[43, 7, 19, 30]</td>\n",
       "      <td>1.png</td>\n",
       "      <td>5</td>\n",
       "    </tr>\n",
       "    <tr>\n",
       "      <th>1</th>\n",
       "      <td>[99, 5, 14, 23]</td>\n",
       "      <td>2.png</td>\n",
       "      <td>2</td>\n",
       "    </tr>\n",
       "    <tr>\n",
       "      <th>2</th>\n",
       "      <td>[114, 8, 8, 23]</td>\n",
       "      <td>2.png</td>\n",
       "      <td>1</td>\n",
       "    </tr>\n",
       "  </tbody>\n",
       "</table>\n",
       "</div>"
      ],
      "text/plain": [
       "               box filename  label\n",
       "0  [43, 7, 19, 30]    1.png      5\n",
       "1  [99, 5, 14, 23]    2.png      2\n",
       "2  [114, 8, 8, 23]    2.png      1"
      ]
     },
     "metadata": {},
     "output_type": "display_data"
    },
    {
     "data": {
      "text/html": [
       "<div>\n",
       "<table border=\"1\" class=\"dataframe\">\n",
       "  <thead>\n",
       "    <tr style=\"text-align: right;\">\n",
       "      <th></th>\n",
       "      <th>box</th>\n",
       "      <th>filename</th>\n",
       "      <th>label</th>\n",
       "    </tr>\n",
       "  </thead>\n",
       "  <tbody>\n",
       "    <tr>\n",
       "      <th>0</th>\n",
       "      <td>[24, 70, 38, 56]</td>\n",
       "      <td>1.png</td>\n",
       "      <td>4</td>\n",
       "    </tr>\n",
       "    <tr>\n",
       "      <th>1</th>\n",
       "      <td>[55, 41, 36, 56]</td>\n",
       "      <td>1.png</td>\n",
       "      <td>7</td>\n",
       "    </tr>\n",
       "    <tr>\n",
       "      <th>2</th>\n",
       "      <td>[79, 23, 47, 56]</td>\n",
       "      <td>1.png</td>\n",
       "      <td>8</td>\n",
       "    </tr>\n",
       "  </tbody>\n",
       "</table>\n",
       "</div>"
      ],
      "text/plain": [
       "                box filename  label\n",
       "0  [24, 70, 38, 56]    1.png      4\n",
       "1  [55, 41, 36, 56]    1.png      7\n",
       "2  [79, 23, 47, 56]    1.png      8"
      ]
     },
     "metadata": {},
     "output_type": "display_data"
    }
   ],
   "source": [
    "hide_code\n",
    "train_d = {'filename': train_set['FileName'], 'label': train_set['DigitLabel'], 'box': train_box}\n",
    "train_df = pd.DataFrame(data=train_d)\n",
    "\n",
    "test_d = {'filename': test_set['FileName'], 'label': test_set['DigitLabel'], 'box': test_box}\n",
    "test_df = pd.DataFrame(data=test_d)\n",
    "\n",
    "extra_d = {'filename': extra_set['FileName'], 'label': extra_set['DigitLabel'], 'box': extra_box}\n",
    "extra_df = pd.DataFrame(data=extra_d)\n",
    "\n",
    "display(train_df.head(3))\n",
    "display(test_df.head(3))\n",
    "display(extra_df.head(3))"
   ]
  },
  {
   "cell_type": "markdown",
   "metadata": {},
   "source": [
    "***Group by file name***"
   ]
  },
  {
   "cell_type": "code",
   "execution_count": 23,
   "metadata": {
    "collapsed": false
   },
   "outputs": [
    {
     "data": {
      "text/plain": [
       "''"
      ]
     },
     "execution_count": 23,
     "metadata": {},
     "output_type": "execute_result"
    }
   ],
   "source": [
    "hide_code\n",
    "# train_g = grouped_by_filename(train_df)\n",
    "# test_g = grouped_by_filename(test_df)\n",
    "# extra_g = grouped_by_filename(extra_df)"
   ]
  },
  {
   "cell_type": "code",
   "execution_count": 543,
   "metadata": {
    "collapsed": false
   },
   "outputs": [
    {
     "data": {
      "text/html": [
       "<div>\n",
       "<table border=\"1\" class=\"dataframe\">\n",
       "  <thead>\n",
       "    <tr style=\"text-align: right;\">\n",
       "      <th></th>\n",
       "      <th>box</th>\n",
       "      <th>filename</th>\n",
       "      <th>label</th>\n",
       "    </tr>\n",
       "  </thead>\n",
       "  <tbody>\n",
       "    <tr>\n",
       "      <th>0</th>\n",
       "      <td>[[33, 10, 12, 24], [45, 10, 11, 24]]</td>\n",
       "      <td>5502.png</td>\n",
       "      <td>[3, 5]</td>\n",
       "    </tr>\n",
       "    <tr>\n",
       "      <th>1</th>\n",
       "      <td>[[35, 7, 11, 37], [44, 3, 11, 37]]</td>\n",
       "      <td>6876.png</td>\n",
       "      <td>[1, 5]</td>\n",
       "    </tr>\n",
       "    <tr>\n",
       "      <th>2</th>\n",
       "      <td>[[99, 32, 35, 51], [125, 29, 31, 51]]</td>\n",
       "      <td>12741.png</td>\n",
       "      <td>[2, 9]</td>\n",
       "    </tr>\n",
       "  </tbody>\n",
       "</table>\n",
       "</div>"
      ],
      "text/plain": [
       "                                     box   filename   label\n",
       "0   [[33, 10, 12, 24], [45, 10, 11, 24]]   5502.png  [3, 5]\n",
       "1     [[35, 7, 11, 37], [44, 3, 11, 37]]   6876.png  [1, 5]\n",
       "2  [[99, 32, 35, 51], [125, 29, 31, 51]]  12741.png  [2, 9]"
      ]
     },
     "metadata": {},
     "output_type": "display_data"
    },
    {
     "data": {
      "text/html": [
       "<div>\n",
       "<table border=\"1\" class=\"dataframe\">\n",
       "  <thead>\n",
       "    <tr style=\"text-align: right;\">\n",
       "      <th></th>\n",
       "      <th>box</th>\n",
       "      <th>filename</th>\n",
       "      <th>label</th>\n",
       "    </tr>\n",
       "  </thead>\n",
       "  <tbody>\n",
       "    <tr>\n",
       "      <th>0</th>\n",
       "      <td>[[35, 10, 15, 22], [51, 9, 12, 22], [63, 10, 1...</td>\n",
       "      <td>5502.png</td>\n",
       "      <td>[1, 7, 1]</td>\n",
       "    </tr>\n",
       "    <tr>\n",
       "      <th>1</th>\n",
       "      <td>[[135, 40, 10, 22], [146, 38, 16, 22]]</td>\n",
       "      <td>1166.png</td>\n",
       "      <td>[1, 7]</td>\n",
       "    </tr>\n",
       "    <tr>\n",
       "      <th>2</th>\n",
       "      <td>[[125, 37, 17, 25], [141, 41, 16, 25]]</td>\n",
       "      <td>506.png</td>\n",
       "      <td>[2, 8]</td>\n",
       "    </tr>\n",
       "  </tbody>\n",
       "</table>\n",
       "</div>"
      ],
      "text/plain": [
       "                                                 box  filename      label\n",
       "0  [[35, 10, 15, 22], [51, 9, 12, 22], [63, 10, 1...  5502.png  [1, 7, 1]\n",
       "1             [[135, 40, 10, 22], [146, 38, 16, 22]]  1166.png     [1, 7]\n",
       "2             [[125, 37, 17, 25], [141, 41, 16, 25]]   506.png     [2, 8]"
      ]
     },
     "metadata": {},
     "output_type": "display_data"
    },
    {
     "data": {
      "text/html": [
       "<div>\n",
       "<table border=\"1\" class=\"dataframe\">\n",
       "  <thead>\n",
       "    <tr style=\"text-align: right;\">\n",
       "      <th></th>\n",
       "      <th>box</th>\n",
       "      <th>filename</th>\n",
       "      <th>label</th>\n",
       "    </tr>\n",
       "  </thead>\n",
       "  <tbody>\n",
       "    <tr>\n",
       "      <th>0</th>\n",
       "      <td>[[21, 16, 34, 56], [55, 6, 26, 56], [80, 1, 42...</td>\n",
       "      <td>1380.png</td>\n",
       "      <td>[5, 10, 10]</td>\n",
       "    </tr>\n",
       "    <tr>\n",
       "      <th>1</th>\n",
       "      <td>[[5, 4, 11, 22], [15, 2, 14, 22]]</td>\n",
       "      <td>1781.png</td>\n",
       "      <td>[5, 3]</td>\n",
       "    </tr>\n",
       "    <tr>\n",
       "      <th>2</th>\n",
       "      <td>[[9, 16, 24, 48], [36, 17, 25, 48], [63, 14, 2...</td>\n",
       "      <td>1166.png</td>\n",
       "      <td>[4, 9, 10]</td>\n",
       "    </tr>\n",
       "  </tbody>\n",
       "</table>\n",
       "</div>"
      ],
      "text/plain": [
       "                                                 box  filename        label\n",
       "0  [[21, 16, 34, 56], [55, 6, 26, 56], [80, 1, 42...  1380.png  [5, 10, 10]\n",
       "1                  [[5, 4, 11, 22], [15, 2, 14, 22]]  1781.png       [5, 3]\n",
       "2  [[9, 16, 24, 48], [36, 17, 25, 48], [63, 14, 2...  1166.png   [4, 9, 10]"
      ]
     },
     "metadata": {},
     "output_type": "display_data"
    }
   ],
   "source": [
    "hide_code\n",
    "# train_g.to_csv('train_group.csv', index=False)\n",
    "# test_g.to_csv('test_group.csv', index=False)\n",
    "# extra_g.to_csv('extra_group.csv', index=False)\n",
    "display(train_g.head(3))\n",
    "display(test_g.head(3))\n",
    "display(extra_g.head(3))"
   ]
  },
  {
   "cell_type": "code",
   "execution_count": 19,
   "metadata": {
    "collapsed": false
   },
   "outputs": [
    {
     "data": {
      "text/html": [
       "<div>\n",
       "<table border=\"1\" class=\"dataframe\">\n",
       "  <thead>\n",
       "    <tr style=\"text-align: right;\">\n",
       "      <th></th>\n",
       "      <th>box</th>\n",
       "      <th>filename</th>\n",
       "      <th>label</th>\n",
       "    </tr>\n",
       "  </thead>\n",
       "  <tbody>\n",
       "    <tr>\n",
       "      <th>0</th>\n",
       "      <td>[[33, 10, 12, 24] [45, 10, 11, 24]]</td>\n",
       "      <td>5502.png</td>\n",
       "      <td>[3 5]</td>\n",
       "    </tr>\n",
       "    <tr>\n",
       "      <th>1</th>\n",
       "      <td>[[35, 7, 11, 37] [44, 3, 11, 37]]</td>\n",
       "      <td>6876.png</td>\n",
       "      <td>[1 5]</td>\n",
       "    </tr>\n",
       "    <tr>\n",
       "      <th>2</th>\n",
       "      <td>[[99, 32, 35, 51] [125, 29, 31, 51]]</td>\n",
       "      <td>12741.png</td>\n",
       "      <td>[2 9]</td>\n",
       "    </tr>\n",
       "  </tbody>\n",
       "</table>\n",
       "</div>"
      ],
      "text/plain": [
       "                                    box   filename  label\n",
       "0   [[33, 10, 12, 24] [45, 10, 11, 24]]   5502.png  [3 5]\n",
       "1     [[35, 7, 11, 37] [44, 3, 11, 37]]   6876.png  [1 5]\n",
       "2  [[99, 32, 35, 51] [125, 29, 31, 51]]  12741.png  [2 9]"
      ]
     },
     "metadata": {},
     "output_type": "display_data"
    },
    {
     "data": {
      "text/html": [
       "<div>\n",
       "<table border=\"1\" class=\"dataframe\">\n",
       "  <thead>\n",
       "    <tr style=\"text-align: right;\">\n",
       "      <th></th>\n",
       "      <th>box</th>\n",
       "      <th>filename</th>\n",
       "      <th>label</th>\n",
       "    </tr>\n",
       "  </thead>\n",
       "  <tbody>\n",
       "    <tr>\n",
       "      <th>0</th>\n",
       "      <td>[[35, 10, 15, 22] [51, 9, 12, 22] [63, 10, 12,...</td>\n",
       "      <td>5502.png</td>\n",
       "      <td>[1 7 1]</td>\n",
       "    </tr>\n",
       "    <tr>\n",
       "      <th>1</th>\n",
       "      <td>[[135, 40, 10, 22] [146, 38, 16, 22]]</td>\n",
       "      <td>1166.png</td>\n",
       "      <td>[1 7]</td>\n",
       "    </tr>\n",
       "    <tr>\n",
       "      <th>2</th>\n",
       "      <td>[[125, 37, 17, 25] [141, 41, 16, 25]]</td>\n",
       "      <td>506.png</td>\n",
       "      <td>[2 8]</td>\n",
       "    </tr>\n",
       "  </tbody>\n",
       "</table>\n",
       "</div>"
      ],
      "text/plain": [
       "                                                 box  filename    label\n",
       "0  [[35, 10, 15, 22] [51, 9, 12, 22] [63, 10, 12,...  5502.png  [1 7 1]\n",
       "1              [[135, 40, 10, 22] [146, 38, 16, 22]]  1166.png    [1 7]\n",
       "2              [[125, 37, 17, 25] [141, 41, 16, 25]]   506.png    [2 8]"
      ]
     },
     "metadata": {},
     "output_type": "display_data"
    },
    {
     "data": {
      "text/html": [
       "<div>\n",
       "<table border=\"1\" class=\"dataframe\">\n",
       "  <thead>\n",
       "    <tr style=\"text-align: right;\">\n",
       "      <th></th>\n",
       "      <th>box</th>\n",
       "      <th>filename</th>\n",
       "      <th>label</th>\n",
       "    </tr>\n",
       "  </thead>\n",
       "  <tbody>\n",
       "    <tr>\n",
       "      <th>0</th>\n",
       "      <td>[[21, 16, 34, 56] [55, 6, 26, 56] [80, 1, 42, ...</td>\n",
       "      <td>1380.png</td>\n",
       "      <td>[ 5 10 10]</td>\n",
       "    </tr>\n",
       "    <tr>\n",
       "      <th>1</th>\n",
       "      <td>[[5, 4, 11, 22] [15, 2, 14, 22]]</td>\n",
       "      <td>1781.png</td>\n",
       "      <td>[5 3]</td>\n",
       "    </tr>\n",
       "    <tr>\n",
       "      <th>2</th>\n",
       "      <td>[[9, 16, 24, 48] [36, 17, 25, 48] [63, 14, 29,...</td>\n",
       "      <td>1166.png</td>\n",
       "      <td>[ 4  9 10]</td>\n",
       "    </tr>\n",
       "  </tbody>\n",
       "</table>\n",
       "</div>"
      ],
      "text/plain": [
       "                                                 box  filename       label\n",
       "0  [[21, 16, 34, 56] [55, 6, 26, 56] [80, 1, 42, ...  1380.png  [ 5 10 10]\n",
       "1                   [[5, 4, 11, 22] [15, 2, 14, 22]]  1781.png       [5 3]\n",
       "2  [[9, 16, 24, 48] [36, 17, 25, 48] [63, 14, 29,...  1166.png  [ 4  9 10]"
      ]
     },
     "metadata": {},
     "output_type": "display_data"
    }
   ],
   "source": [
    "hide_code\n",
    "train_b = pd.read_csv(\"train_group.csv\")\n",
    "test_b = pd.read_csv(\"test_group.csv\")\n",
    "extra_b = pd.read_csv(\"extra_group.csv\")\n",
    "\n",
    "display(train_b.head(3))\n",
    "display(test_b.head(3))\n",
    "display(extra_b.head(3))"
   ]
  },
  {
   "cell_type": "markdown",
   "metadata": {},
   "source": [
    "***Check labels***"
   ]
  },
  {
   "cell_type": "code",
   "execution_count": 20,
   "metadata": {
    "collapsed": false
   },
   "outputs": [],
   "source": [
    "hide_code\n",
    "train_labels = np.array([get_labels(train_b['label'][i]) for i in range(len(train_b))])\n",
    "train_filenames = train_b['filename']\n",
    "\n",
    "test_labels = np.array([get_labels(test_b['label'][i]) for i in range(len(test_b))])\n",
    "test_filenames = test_b['filename']\n",
    "\n",
    "extra_labels = np.array([get_labels(extra_b['label'][i]) for i in range(len(extra_b))])\n",
    "extra_filenames = extra_b['filename']"
   ]
  },
  {
   "cell_type": "code",
   "execution_count": 21,
   "metadata": {
    "collapsed": false
   },
   "outputs": [
    {
     "data": {
      "text/plain": [
       "array([29190])"
      ]
     },
     "execution_count": 21,
     "metadata": {},
     "output_type": "execute_result"
    }
   ],
   "source": [
    "hide_code\n",
    "np.where([len(train_labels[i])>5 for i in range(len(train_b))])[0]"
   ]
  },
  {
   "cell_type": "code",
   "execution_count": 22,
   "metadata": {
    "collapsed": false
   },
   "outputs": [
    {
     "data": {
      "text/plain": [
       "array([], dtype=int64)"
      ]
     },
     "execution_count": 22,
     "metadata": {},
     "output_type": "execute_result"
    }
   ],
   "source": [
    "hide_code\n",
    "np.where([len(test_labels[i])>5 for i in range(len(test_b))])[0]"
   ]
  },
  {
   "cell_type": "code",
   "execution_count": 23,
   "metadata": {
    "collapsed": false
   },
   "outputs": [
    {
     "data": {
      "text/plain": [
       "array([], dtype=int64)"
      ]
     },
     "execution_count": 23,
     "metadata": {},
     "output_type": "execute_result"
    }
   ],
   "source": [
    "hide_code\n",
    "np.where([len(extra_labels[i])>5 for i in range(len(extra_b))])[0]"
   ]
  },
  {
   "cell_type": "code",
   "execution_count": 24,
   "metadata": {
    "collapsed": false
   },
   "outputs": [
    {
     "data": {
      "text/plain": [
       "0"
      ]
     },
     "execution_count": 24,
     "metadata": {},
     "output_type": "execute_result"
    }
   ],
   "source": [
    "hide_code\n",
    "sum(np.array([len(train_labels[i])==0 for i in range(len(train_b))]))"
   ]
  },
  {
   "cell_type": "code",
   "execution_count": 25,
   "metadata": {
    "collapsed": false
   },
   "outputs": [
    {
     "data": {
      "text/plain": [
       "0"
      ]
     },
     "execution_count": 25,
     "metadata": {},
     "output_type": "execute_result"
    }
   ],
   "source": [
    "hide_code\n",
    "sum(np.array([len(test_labels[i])==0 for i in range(len(test_b))]))"
   ]
  },
  {
   "cell_type": "code",
   "execution_count": 26,
   "metadata": {
    "collapsed": false
   },
   "outputs": [
    {
     "data": {
      "text/plain": [
       "0"
      ]
     },
     "execution_count": 26,
     "metadata": {},
     "output_type": "execute_result"
    }
   ],
   "source": [
    "hide_code\n",
    "sum(np.array([len(extra_labels[i])==0 for i in range(len(extra_b))]))"
   ]
  },
  {
   "cell_type": "code",
   "execution_count": 27,
   "metadata": {
    "collapsed": false
   },
   "outputs": [],
   "source": [
    "hide_code\n",
    "for i in range(len(train_labels)):\n",
    "    train_labels[i][train_labels[i] > 9] = 0\n",
    "    \n",
    "for i in range(len(test_labels)):\n",
    "    test_labels[i][test_labels[i] > 9] = 0\n",
    "    \n",
    "for i in range(len(extra_labels)):\n",
    "    extra_labels[i][extra_labels[i] > 9] = 0"
   ]
  },
  {
   "cell_type": "code",
   "execution_count": 28,
   "metadata": {
    "collapsed": false
   },
   "outputs": [],
   "source": [
    "hide_code\n",
    "train_labels = np.delete(train_labels, 29190, 0)\n",
    "train_filenames = train_filenames.drop([29190])\n",
    "\n",
    "train_labels = np.array([fivedigit_label(train_labels[i]) for i in range(len(train_labels))])\n",
    "test_labels = np.array([fivedigit_label(test_labels[i]) for i in range(len(test_labels))])\n",
    "extra_labels = np.array([fivedigit_label(extra_labels[i]) for i in range(len(extra_labels))])"
   ]
  },
  {
   "cell_type": "markdown",
   "metadata": {},
   "source": [
    "***Display examples of preprocessing***"
   ]
  },
  {
   "cell_type": "code",
   "execution_count": 29,
   "metadata": {
    "collapsed": false
   },
   "outputs": [
    {
     "name": "stdout",
     "output_type": "stream",
     "text": [
      "Initial image size: (81, 120, 3)\n",
      "Digit boxes:\n",
      " [[12  9 30 55]\n",
      " [36 11 31 55]]\n",
      "Digits' box:  [13 67 10 66]\n",
      "Final image size:  (64, 64)\n",
      "Final image label:  [[ 10.  10.  10.   4.   1.]]\n",
      "\n",
      "Example of image preprocessing\n"
     ]
    },
    {
     "data": {
      "image/png": "[encoded data removed]",
      "text/plain": [
       "<matplotlib.figure.Figure at 0x1254fd4a8>"
      ]
     },
     "metadata": {},
     "output_type": "display_data"
    }
   ],
   "source": [
    "hide_code\n",
    "image1 = scipy.ndimage.imread('train/30065.png')\n",
    "print(\"Initial image size:\", image1.shape)\n",
    "\n",
    "n1 = np.where(train_filenames == '30065.png')[0]\n",
    "label1 = train_labels[n1]\n",
    "\n",
    "box1 = np.array(get_box(train_b['box'][n1]))\n",
    "print(\"Digit boxes:\\n\", box1)\n",
    "box_n1 = image_box(box1)\n",
    "print(\"Digits' box: \", box_n1)\n",
    "\n",
    "image_n1 = image1[box_n1[2]:box_n1[3], box_n1[0]:box_n1[1]]\n",
    "image64_1 = scipy.misc.imresize(image_n1, (64, 64))/255\n",
    "image64_2 = np.dot(np.array(image64_1, dtype='float32'), [0.299, 0.587, 0.114])\n",
    "\n",
    "print(\"Final image size: \", image64_2.shape)\n",
    "print(\"Final image label: \", label1)\n",
    "print('\\nExample of image preprocessing')\n",
    "\n",
    "plt.imshow(image64_1, cmap=plt.cm.Blues);"
   ]
  },
  {
   "cell_type": "code",
   "execution_count": 30,
   "metadata": {
    "collapsed": false
   },
   "outputs": [
    {
     "name": "stdout",
     "output_type": "stream",
     "text": [
      "Image size:  (32, 32)\n",
      "Image label:  [[ 10.  10.  10.   2.   1.]]\n",
      "\n",
      "Example of image preprocessing with the function\n"
     ]
    },
    {
     "data": {
      "image/png": "[encoded data removed]",
      "text/plain": [
       "<matplotlib.figure.Figure at 0x12914af28>"
      ]
     },
     "metadata": {},
     "output_type": "display_data"
    }
   ],
   "source": [
    "hide_code\n",
    "image_example = get_image('train', '178.png')\n",
    "\n",
    "print(\"Image size: \", image_example[1].shape)\n",
    "print(\"Image label: \", image_example[2])\n",
    "print('\\nExample of image preprocessing with the function')\n",
    "plt.imshow(image_example[1], cmap=plt.cm.Blues);"
   ]
  },
  {
   "cell_type": "markdown",
   "metadata": {},
   "source": [
    "***Image preprocessing. Variant #1***"
   ]
  },
  {
   "cell_type": "code",
   "execution_count": 60,
   "metadata": {
    "collapsed": false
   },
   "outputs": [
    {
     "name": "stdout",
     "output_type": "stream",
     "text": [
      "Applying the preprocessing function\n"
     ]
    }
   ],
   "source": [
    "hide_code\n",
    "\n",
    "print(\"Applying the preprocessing function\")\n",
    "# train_images1 = np.array([get_image('train', x)[0] for x in train_filenames[:13000])\n",
    "# train_images2 = np.array([get_image('train', x)[1] for x in train_filenames[:13000]])\n",
    "\n",
    "# test_images1 = np.array([get_image('test', x)[0] for x in test_filenames[:6000]])\n",
    "# test_images2 = np.array([get_image('test', x)[1] for x in test_filenames[:6000]])\n",
    "\n",
    "# extra_images1 = np.array([get_image('extra', x)[0] for x in extra_filenames[:13000]])\n",
    "# extra_images2 = np.array([get_image('extra', x)[1] for x in extra_filenames[:13000]])"
   ]
  },
  {
   "cell_type": "markdown",
   "metadata": {},
   "source": [
    "***Image preprocessing. Variant #2***"
   ]
  },
  {
   "cell_type": "markdown",
   "metadata": {},
   "source": [
    "#### Set #1: 13 000 train data points, 6 000 test data points, 13 000 extra data points"
   ]
  },
  {
   "cell_type": "code",
   "execution_count": 31,
   "metadata": {
    "collapsed": false
   },
   "outputs": [
    {
     "name": "stdout",
     "output_type": "stream",
     "text": [
      "1000\n",
      "2000\n",
      "3000\n",
      "4000\n",
      "5000\n",
      "6000\n",
      "7000\n",
      "8000\n"
     ]
    }
   ],
   "source": [
    "hide_code\n",
    "train_images01 = np.array([get_image('train', x)[0] for x in train_filenames[:1000]])\n",
    "train_images02 = np.array([get_image('train', x)[1] for x in train_filenames[:1000]]) \n",
    "\n",
    "i= 1000\n",
    "print(i)\n",
    "\n",
    "while i < 7001: \n",
    "\n",
    "        train_images11 = np.array([get_image('train', x)[0] for x in train_filenames[i:i+1000]])\n",
    "        train_images12 = np.array([get_image('train', x)[1] for x in train_filenames[i:i+1000]]) \n",
    "        \n",
    "        train_images1 = np.concatenate((train_images01, train_images11), axis=0)\n",
    "        train_images2 = np.concatenate((train_images02, train_images12), axis=0)\n",
    "        \n",
    "        train_images01 = train_images1\n",
    "        train_images02 = train_images2\n",
    "        \n",
    "        i += 1000\n",
    "        print(i)"
   ]
  },
  {
   "cell_type": "code",
   "execution_count": 32,
   "metadata": {
    "collapsed": false
   },
   "outputs": [
    {
     "data": {
      "text/plain": [
       "8000"
      ]
     },
     "execution_count": 32,
     "metadata": {},
     "output_type": "execute_result"
    }
   ],
   "source": [
    "hide_code\n",
    "train_images_8000_1 = train_images1\n",
    "train_images_8000_2 = train_images2\n",
    "\n",
    "len(train_images_8000_1)"
   ]
  },
  {
   "cell_type": "code",
   "execution_count": 33,
   "metadata": {
    "collapsed": false
   },
   "outputs": [
    {
     "name": "stdout",
     "output_type": "stream",
     "text": [
      "9000\n",
      "10000\n",
      "11000\n",
      "12000\n",
      "13000\n"
     ]
    }
   ],
   "source": [
    "hide_code\n",
    "train_images01 = np.array([get_image('train', x)[0] for x in train_filenames[8000:9000]])\n",
    "train_images02 = np.array([get_image('train', x)[1] for x in train_filenames[8000:9000]]) \n",
    "\n",
    "i= 9000\n",
    "print(i)\n",
    "\n",
    "while i < 12001: \n",
    "\n",
    "        train_images11 = np.array([get_image('train', x)[0] for x in train_filenames[i:i+1000]])\n",
    "        train_images12 = np.array([get_image('train', x)[1] for x in train_filenames[i:i+1000]]) \n",
    "        \n",
    "        train_images1 = np.concatenate((train_images01, train_images11), axis=0)\n",
    "        train_images2 = np.concatenate((train_images02, train_images12), axis=0)\n",
    "        \n",
    "        train_images01 = train_images1\n",
    "        train_images02 = train_images2\n",
    "        \n",
    "        i += 1000\n",
    "        print(i)"
   ]
  },
  {
   "cell_type": "code",
   "execution_count": 35,
   "metadata": {
    "collapsed": false
   },
   "outputs": [
    {
     "data": {
      "text/plain": [
       "5000"
      ]
     },
     "execution_count": 35,
     "metadata": {},
     "output_type": "execute_result"
    }
   ],
   "source": [
    "hide_code\n",
    "train_images_13000_1 = train_images1\n",
    "train_images_13000_2 = train_images2\n",
    "\n",
    "len(train_images_13000_1)"
   ]
  },
  {
   "cell_type": "code",
   "execution_count": 36,
   "metadata": {
    "collapsed": false
   },
   "outputs": [],
   "source": [
    "hide_code\n",
    "train_images1 = np.concatenate((train_images_8000_1, train_images_13000_1), axis=0)\n",
    "train_images2 = np.concatenate((train_images_8000_2, train_images_13000_2), axis=0)"
   ]
  },
  {
   "cell_type": "code",
   "execution_count": 39,
   "metadata": {
    "collapsed": false
   },
   "outputs": [],
   "source": [
    "hide_code\n",
    "train_images1t = train_images1.reshape(13000, 32*32*3)\n",
    "train_images2t = train_images2.reshape(13000, 32*32)\n",
    "\n",
    "train_images_df1 = pd.DataFrame(data=train_images1t, index = train_filenames[:13000])\n",
    "train_images_df2 = pd.DataFrame(data=train_images2t, index = train_filenames[:13000])\n",
    "train_labels_df = pd.DataFrame(data=train_labels[:13000], index = train_filenames[:13000])\n",
    "\n",
    "with open('train_images1.csv', 'w') as f:\n",
    "    train_images_df1.to_csv(f)\n",
    "with open('train_images2.csv', 'w') as f:\n",
    "    train_images_df2.to_csv(f)    \n",
    "with open('train_labels.csv', 'w') as f:\n",
    "    train_labels_df.to_csv(f)"
   ]
  },
  {
   "cell_type": "code",
   "execution_count": 40,
   "metadata": {
    "collapsed": false
   },
   "outputs": [
    {
     "name": "stdout",
     "output_type": "stream",
     "text": [
      "1000\n",
      "2000\n",
      "3000\n",
      "4000\n",
      "5000\n",
      "6000\n"
     ]
    }
   ],
   "source": [
    "hide_code\n",
    "test_images01 = np.array([get_image('test', x)[0] for x in test_filenames[:1000]])\n",
    "test_images02 = np.array([get_image('test', x)[1] for x in test_filenames[:1000]]) \n",
    "\n",
    "i= 1000\n",
    "print(i)\n",
    "\n",
    "while i < 5001:\n",
    "    \n",
    "    test_images11 = np.array([get_image('test', x)[0] for x in test_filenames[i:i+1000]])\n",
    "    test_images12 = np.array([get_image('test', x)[1] for x in test_filenames[i:i+1000]]) \n",
    "        \n",
    "    test_images1 = np.concatenate((test_images01, test_images11), axis=0)\n",
    "    test_images2 = np.concatenate((test_images02, test_images12), axis=0)\n",
    "        \n",
    "    test_images01 = test_images1\n",
    "    test_images02 = test_images2\n",
    "        \n",
    "    i += 1000\n",
    "    print(i)"
   ]
  },
  {
   "cell_type": "code",
   "execution_count": 41,
   "metadata": {
    "collapsed": false
   },
   "outputs": [
    {
     "data": {
      "text/plain": [
       "6000"
      ]
     },
     "execution_count": 41,
     "metadata": {},
     "output_type": "execute_result"
    }
   ],
   "source": [
    "hide_code\n",
    "test_images_6000_1 = test_images1\n",
    "test_images_6000_2 = test_images2\n",
    "len(test_images_6000_1)"
   ]
  },
  {
   "cell_type": "code",
   "execution_count": 43,
   "metadata": {
    "collapsed": true
   },
   "outputs": [],
   "source": [
    "hide_code\n",
    "test_images1t = test_images1.reshape(6000, 32*32*3)\n",
    "test_images2t = test_images2.reshape(6000, 32*32)\n",
    "\n",
    "test_images_df1 = pd.DataFrame(data=test_images1t, index = test_filenames[:6000])\n",
    "test_images_df2 = pd.DataFrame(data=test_images2t, index = test_filenames[:6000])\n",
    "test_labels_df = pd.DataFrame(data=test_labels[:6000], index = test_filenames[:6000])\n",
    "\n",
    "with open('test_images1.csv', 'w') as f:\n",
    "    test_images_df1.to_csv(f)\n",
    "with open('test_images2.csv', 'w') as f:\n",
    "    test_images_df2.to_csv(f)    \n",
    "with open('test_labels.csv', 'w') as f:\n",
    "    test_labels_df.to_csv(f)"
   ]
  },
  {
   "cell_type": "code",
   "execution_count": 44,
   "metadata": {
    "collapsed": false
   },
   "outputs": [
    {
     "name": "stdout",
     "output_type": "stream",
     "text": [
      "1000\n",
      "2000\n",
      "3000\n",
      "4000\n",
      "5000\n",
      "6000\n",
      "7000\n",
      "8000\n"
     ]
    }
   ],
   "source": [
    "hide_code\n",
    "extra_images01 = np.array([get_image('extra', x)[0] for x in extra_filenames[:1000]])\n",
    "extra_images02 = np.array([get_image('extra', x)[1] for x in extra_filenames[:1000]])\n",
    "\n",
    "i= 1000\n",
    "print(i)\n",
    "\n",
    "while i < 7001:\n",
    "    \n",
    "    extra_images11 = np.array([get_image('extra', x)[0] for x in extra_filenames[i:i+1000]])\n",
    "    extra_images12 = np.array([get_image('extra', x)[1] for x in extra_filenames[i:i+1000]]) \n",
    "        \n",
    "    extra_images1 = np.concatenate((extra_images01, extra_images11), axis=0)\n",
    "    extra_images2 = np.concatenate((extra_images02, extra_images12), axis=0)\n",
    "        \n",
    "    extra_images01 = extra_images1\n",
    "    extra_images02 = extra_images2\n",
    "        \n",
    "    i += 1000\n",
    "    print(i)"
   ]
  },
  {
   "cell_type": "code",
   "execution_count": 45,
   "metadata": {
    "collapsed": false
   },
   "outputs": [
    {
     "data": {
      "text/plain": [
       "8000"
      ]
     },
     "execution_count": 45,
     "metadata": {},
     "output_type": "execute_result"
    }
   ],
   "source": [
    "hide_code\n",
    "extra_images_8000_1 = extra_images1\n",
    "extra_images_8000_2 = extra_images2\n",
    "len(extra_images_8000_1)"
   ]
  },
  {
   "cell_type": "code",
   "execution_count": 46,
   "metadata": {
    "collapsed": false
   },
   "outputs": [
    {
     "name": "stdout",
     "output_type": "stream",
     "text": [
      "9000\n",
      "10000\n",
      "11000\n",
      "12000\n",
      "13000\n"
     ]
    }
   ],
   "source": [
    "hide_code\n",
    "extra_images01 = np.array([get_image('extra', x)[0] for x in extra_filenames[8000:9000]])\n",
    "extra_images02 = np.array([get_image('extra', x)[1] for x in extra_filenames[8000:9000]])\n",
    "\n",
    "i = 9000\n",
    "print(i)\n",
    "\n",
    "while i < 12001:\n",
    "    \n",
    "    extra_images11 = np.array([get_image('extra', x)[0] for x in extra_filenames[i:i+1000]])\n",
    "    extra_images12 = np.array([get_image('extra', x)[1] for x in extra_filenames[i:i+1000]]) \n",
    "        \n",
    "    extra_images1 = np.concatenate((extra_images01, extra_images11), axis=0)\n",
    "    extra_images2 = np.concatenate((extra_images02, extra_images12), axis=0)\n",
    "        \n",
    "    extra_images01 = extra_images1\n",
    "    extra_images02 = extra_images2\n",
    "        \n",
    "    i += 1000\n",
    "    print(i)"
   ]
  },
  {
   "cell_type": "code",
   "execution_count": 47,
   "metadata": {
    "collapsed": false
   },
   "outputs": [
    {
     "data": {
      "text/plain": [
       "5000"
      ]
     },
     "execution_count": 47,
     "metadata": {},
     "output_type": "execute_result"
    }
   ],
   "source": [
    "hide_code\n",
    "extra_images_13000_1 = extra_images1\n",
    "extra_images_13000_2 = extra_images2\n",
    "len(extra_images_13000_1)"
   ]
  },
  {
   "cell_type": "code",
   "execution_count": 48,
   "metadata": {
    "collapsed": true
   },
   "outputs": [],
   "source": [
    "hide_code\n",
    "extra_images1 = np.concatenate((extra_images_8000_1, extra_images_13000_1), axis=0)\n",
    "extra_images2 = np.concatenate((extra_images_8000_2, extra_images_13000_2), axis=0)"
   ]
  },
  {
   "cell_type": "code",
   "execution_count": 50,
   "metadata": {
    "collapsed": true
   },
   "outputs": [],
   "source": [
    "hide_code\n",
    "extra_images1t = extra_images1.reshape(13000, 32*32*3)\n",
    "extra_images2t = extra_images2.reshape(13000, 32*32)\n",
    "\n",
    "extra_images_df1 = pd.DataFrame(data=extra_images1t, index = extra_filenames[:13000])\n",
    "extra_images_df2 = pd.DataFrame(data=extra_images2t, index = extra_filenames[:13000])\n",
    "extra_labels_df = pd.DataFrame(data=extra_labels[:13000], index = extra_filenames[:13000])\n",
    "\n",
    "with open('extra_images1.csv', 'w') as f:\n",
    "    extra_images_df1.to_csv(f)\n",
    "with open('extra_images2.csv', 'w') as f:\n",
    "    extra_images_df2.to_csv(f)    \n",
    "with open('extra_labels.csv', 'w') as f:\n",
    "    extra_labels_df.to_csv(f)"
   ]
  },
  {
   "cell_type": "code",
   "execution_count": 51,
   "metadata": {
    "collapsed": false
   },
   "outputs": [
    {
     "name": "stdout",
     "output_type": "stream",
     "text": [
      "Compressed pickle size: 1050431359\n"
     ]
    }
   ],
   "source": [
    "hide_code\n",
    "pickle_file = 'svhn1.pickle'\n",
    "\n",
    "try:\n",
    "    f = open(pickle_file, 'wb')\n",
    "    save = {'train_images1': train_images1, 'train_images2': train_images2,\n",
    "            'train_labels': train_labels[:13000], 'train_filenames': train_filenames[:13000],\n",
    "            'test_images1': test_images1, 'test_images2': test_images2,\n",
    "            'test_labels': test_labels[:6000], 'test_filenames': test_filenames[:6000],\n",
    "            'extra_images1': extra_images1, 'extra_images2': extra_images2,\n",
    "            'extra_labels': extra_labels[:13000], 'extra_filenames': extra_filenames[:13000]}\n",
    "    pickle.dump(save, f, pickle.HIGHEST_PROTOCOL)\n",
    "    f.close()\n",
    "except Exception as e:\n",
    "    print('Unable to save data to', pickle_file, ':', e)\n",
    "    raise\n",
    "\n",
    "del save\n",
    "    \n",
    "statinfo = os.stat(pickle_file)\n",
    "print('Compressed pickle size:', statinfo.st_size)"
   ]
  },
  {
   "cell_type": "markdown",
   "metadata": {},
   "source": [
    "#### Set #2: 13 000 train data points, 6 000 test data points, 13 000 extra data points"
   ]
  },
  {
   "cell_type": "code",
   "execution_count": 54,
   "metadata": {
    "collapsed": false
   },
   "outputs": [
    {
     "name": "stdout",
     "output_type": "stream",
     "text": [
      "14000\n",
      "15000\n",
      "16000\n",
      "17000\n",
      "18000\n",
      "19000\n"
     ]
    }
   ],
   "source": [
    "hide_code\n",
    "train_images01 = np.array([get_image('train', x)[0] for x in train_filenames[13000:14000]])\n",
    "train_images02 = np.array([get_image('train', x)[1] for x in train_filenames[13000:14000]]) \n",
    "\n",
    "i= 14000\n",
    "print(i)\n",
    "\n",
    "while i < 18001: \n",
    "    \n",
    "        train_images11 = np.array([get_image('train', x)[0] for x in train_filenames[i:i+1000]])\n",
    "        train_images12 = np.array([get_image('train', x)[1] for x in train_filenames[i:i+1000]]) \n",
    "        \n",
    "        train_images1 = np.concatenate((train_images01, train_images11), axis=0)\n",
    "        train_images2 = np.concatenate((train_images02, train_images12), axis=0)\n",
    "        \n",
    "        train_images01 = train_images1\n",
    "        train_images02 = train_images2\n",
    "        \n",
    "        i += 1000\n",
    "        print(i)"
   ]
  },
  {
   "cell_type": "code",
   "execution_count": 55,
   "metadata": {
    "collapsed": false
   },
   "outputs": [
    {
     "data": {
      "text/plain": [
       "6000"
      ]
     },
     "execution_count": 55,
     "metadata": {},
     "output_type": "execute_result"
    }
   ],
   "source": [
    "hide_code\n",
    "train_images_19000_1 = train_images1\n",
    "train_images_19000_2 = train_images2\n",
    "len(train_images_19000_1)"
   ]
  },
  {
   "cell_type": "code",
   "execution_count": 56,
   "metadata": {
    "collapsed": false
   },
   "outputs": [
    {
     "name": "stdout",
     "output_type": "stream",
     "text": [
      "20000\n",
      "21000\n",
      "22000\n",
      "23000\n",
      "24000\n",
      "25000\n",
      "26000\n"
     ]
    }
   ],
   "source": [
    "hide_code\n",
    "train_images01 = np.array([get_image('train', x)[0] for x in train_filenames[19000:20000]])\n",
    "train_images02 = np.array([get_image('train', x)[1] for x in train_filenames[19000:20000]]) \n",
    "\n",
    "i= 20000\n",
    "print(i)\n",
    "\n",
    "while i < 25001: \n",
    "    \n",
    "        train_images11 = np.array([get_image('train', x)[0] for x in train_filenames[i:i+1000]])\n",
    "        train_images12 = np.array([get_image('train', x)[1] for x in train_filenames[i:i+1000]]) \n",
    "        \n",
    "        train_images1 = np.concatenate((train_images01, train_images11), axis=0)\n",
    "        train_images2 = np.concatenate((train_images02, train_images12), axis=0)\n",
    "        \n",
    "        train_images01 = train_images1\n",
    "        train_images02 = train_images2\n",
    "        \n",
    "        i += 1000\n",
    "        print(i)"
   ]
  },
  {
   "cell_type": "code",
   "execution_count": 57,
   "metadata": {
    "collapsed": false
   },
   "outputs": [
    {
     "data": {
      "text/plain": [
       "7000"
      ]
     },
     "execution_count": 57,
     "metadata": {},
     "output_type": "execute_result"
    }
   ],
   "source": [
    "hide_code\n",
    "train_images_26000_1 = train_images1\n",
    "train_images_26000_2 = train_images2\n",
    "len(train_images_26000_1)"
   ]
  },
  {
   "cell_type": "code",
   "execution_count": 58,
   "metadata": {
    "collapsed": true
   },
   "outputs": [],
   "source": [
    "hide_code\n",
    "train_images1 = np.concatenate((train_images_19000_1, train_images_26000_1), axis=0)\n",
    "train_images2 = np.concatenate((train_images_19000_2, train_images_26000_2), axis=0)"
   ]
  },
  {
   "cell_type": "code",
   "execution_count": 61,
   "metadata": {
    "collapsed": true
   },
   "outputs": [],
   "source": [
    "hide_code\n",
    "train_images1t = train_images1.reshape(13000, 32*32*3)\n",
    "train_images2t = train_images2.reshape(13000, 32*32)\n",
    "\n",
    "train_images_df1 = pd.DataFrame(data=train_images1t, index = train_filenames[13000:26000])\n",
    "train_images_df2 = pd.DataFrame(data=train_images2t, index = train_filenames[13000:26000])\n",
    "train_labels_df = pd.DataFrame(data=train_labels[13000:26000], index = train_filenames[13000:26000])\n",
    "\n",
    "with open('train_images1_2.csv', 'w') as f:\n",
    "    train_images_df1.to_csv(f)\n",
    "with open('train_images2_2.csv', 'w') as f:\n",
    "    train_images_df2.to_csv(f)    \n",
    "with open('train_labels_2.csv', 'w') as f:\n",
    "    train_labels_df.to_csv(f)"
   ]
  },
  {
   "cell_type": "code",
   "execution_count": 62,
   "metadata": {
    "collapsed": false
   },
   "outputs": [
    {
     "name": "stdout",
     "output_type": "stream",
     "text": [
      "8000\n",
      "9000\n",
      "10000\n",
      "11000\n",
      "12000\n",
      "13000\n"
     ]
    }
   ],
   "source": [
    "hide_code\n",
    "test_images01 = np.array([get_image('test', x)[0] for x in test_filenames[7000:8000]])\n",
    "test_images02 = np.array([get_image('test', x)[1] for x in test_filenames[7000:8000]])\n",
    "\n",
    "i= 8000\n",
    "print(i)\n",
    "\n",
    "while i < 12001:\n",
    "    \n",
    "    test_images11 = np.array([get_image('test', x)[0] for x in test_filenames[i:i+1000]])\n",
    "    test_images12 = np.array([get_image('test', x)[1] for x in test_filenames[i:i+1000]]) \n",
    "        \n",
    "    test_images1 = np.concatenate((test_images01, test_images11), axis=0)\n",
    "    test_images2 = np.concatenate((test_images02, test_images12), axis=0)\n",
    "        \n",
    "    test_images01 = test_images1\n",
    "    test_images02 = test_images2\n",
    "        \n",
    "    i += 1000\n",
    "    print(i)"
   ]
  },
  {
   "cell_type": "code",
   "execution_count": 63,
   "metadata": {
    "collapsed": false
   },
   "outputs": [
    {
     "data": {
      "text/plain": [
       "6000"
      ]
     },
     "execution_count": 63,
     "metadata": {},
     "output_type": "execute_result"
    }
   ],
   "source": [
    "hide_code\n",
    "test_images_13000_1 = test_images1\n",
    "test_images_13000_2 = test_images2\n",
    "len(test_images_13000_1)"
   ]
  },
  {
   "cell_type": "code",
   "execution_count": 66,
   "metadata": {
    "collapsed": true
   },
   "outputs": [],
   "source": [
    "hide_code\n",
    "test_images1t = test_images1.reshape(6000, 32*32*3)\n",
    "test_images2t = test_images2.reshape(6000, 32*32)\n",
    "\n",
    "test_images_df1 = pd.DataFrame(data=test_images1t, index = test_filenames[7000:13000])\n",
    "test_images_df2 = pd.DataFrame(data=test_images2t, index = test_filenames[7000:13000])\n",
    "test_labels_df = pd.DataFrame(data=test_labels[7000:13000], index = test_filenames[7000:13000])\n",
    "\n",
    "with open('test_images1_2.csv', 'w') as f:\n",
    "    test_images_df1.to_csv(f)\n",
    "with open('test_images2_2.csv', 'w') as f:\n",
    "    test_images_df2.to_csv(f)    \n",
    "with open('test_labels_2.csv', 'w') as f:\n",
    "    test_labels_df.to_csv(f)"
   ]
  },
  {
   "cell_type": "code",
   "execution_count": 67,
   "metadata": {
    "collapsed": false
   },
   "outputs": [
    {
     "name": "stdout",
     "output_type": "stream",
     "text": [
      "14000\n",
      "15000\n",
      "16000\n",
      "17000\n",
      "18000\n",
      "19000\n"
     ]
    }
   ],
   "source": [
    "hide_code\n",
    "extra_images01 = np.array([get_image('extra', x)[0] for x in extra_filenames[13000:14000]])\n",
    "extra_images02 = np.array([get_image('extra', x)[1] for x in extra_filenames[13000:14000]])\n",
    "\n",
    "i= 14000\n",
    "print(i)\n",
    "\n",
    "while i < 18001:\n",
    "    \n",
    "    extra_images11 = np.array([get_image('extra', x)[0] for x in extra_filenames[i:i+1000]])\n",
    "    extra_images12 = np.array([get_image('extra', x)[1] for x in extra_filenames[i:i+1000]]) \n",
    "        \n",
    "    extra_images1 = np.concatenate((extra_images01, extra_images11), axis=0)\n",
    "    extra_images2 = np.concatenate((extra_images02, extra_images12), axis=0)\n",
    "        \n",
    "    extra_images01 = extra_images1\n",
    "    extra_images02 = extra_images2\n",
    "        \n",
    "    i += 1000\n",
    "    print(i)"
   ]
  },
  {
   "cell_type": "code",
   "execution_count": 68,
   "metadata": {
    "collapsed": false
   },
   "outputs": [
    {
     "data": {
      "text/plain": [
       "6000"
      ]
     },
     "execution_count": 68,
     "metadata": {},
     "output_type": "execute_result"
    }
   ],
   "source": [
    "hide_code\n",
    "extra_images_19000_1 = extra_images1\n",
    "extra_images_19000_2 = extra_images2\n",
    "len(extra_images_19000_1)"
   ]
  },
  {
   "cell_type": "code",
   "execution_count": 78,
   "metadata": {
    "collapsed": false
   },
   "outputs": [
    {
     "name": "stdout",
     "output_type": "stream",
     "text": [
      "26000\n",
      "27000\n",
      "28000\n",
      "29000\n",
      "30000\n",
      "31000\n",
      "32000\n"
     ]
    }
   ],
   "source": [
    "hide_code\n",
    "extra_images01 = np.array([get_image('extra', x)[0] for x in extra_filenames[25000:26000]])\n",
    "extra_images02 = np.array([get_image('extra', x)[1] for x in extra_filenames[25000:26000]])\n",
    "\n",
    "i= 26000\n",
    "print(i)\n",
    "\n",
    "while i < 31001:\n",
    "    \n",
    "    extra_images11 = np.array([get_image('extra', x)[0] for x in extra_filenames[i:i+1000]])\n",
    "    extra_images12 = np.array([get_image('extra', x)[1] for x in extra_filenames[i:i+1000]]) \n",
    "        \n",
    "    extra_images1 = np.concatenate((extra_images01, extra_images11), axis=0)\n",
    "    extra_images2 = np.concatenate((extra_images02, extra_images12), axis=0)\n",
    "        \n",
    "    extra_images01 = extra_images1\n",
    "    extra_images02 = extra_images2\n",
    "        \n",
    "    i += 1000\n",
    "    print(i)"
   ]
  },
  {
   "cell_type": "code",
   "execution_count": 79,
   "metadata": {
    "collapsed": false
   },
   "outputs": [
    {
     "data": {
      "text/plain": [
       "7000"
      ]
     },
     "execution_count": 79,
     "metadata": {},
     "output_type": "execute_result"
    }
   ],
   "source": [
    "hide_code\n",
    "extra_images_32000_1 = extra_images1\n",
    "extra_images_32000_2 = extra_images2\n",
    "len(extra_images_32000_1)"
   ]
  },
  {
   "cell_type": "code",
   "execution_count": 80,
   "metadata": {
    "collapsed": true
   },
   "outputs": [],
   "source": [
    "hide_code\n",
    "extra_images1 = np.concatenate((extra_images_19000_1, extra_images_32000_1), axis=0)\n",
    "extra_images2 = np.concatenate((extra_images_19000_2, extra_images_32000_2), axis=0)\n",
    "extra_filenames2 = np.concatenate((extra_filenames[13000:19000], extra_filenames[25000:32000]), axis=0)\n",
    "extra_labels2 = np.concatenate((extra_labels[13000:19000], extra_labels[25000:32000]), axis=0)"
   ]
  },
  {
   "cell_type": "code",
   "execution_count": 82,
   "metadata": {
    "collapsed": true
   },
   "outputs": [],
   "source": [
    "hide_code\n",
    "extra_images1t = extra_images1.reshape(13000, 32*32*3)\n",
    "extra_images2t = extra_images2.reshape(13000, 32*32)\n",
    "\n",
    "extra_images_df1 = pd.DataFrame(data=extra_images1t, index = extra_filenames2)\n",
    "extra_images_df2 = pd.DataFrame(data=extra_images2t, index = extra_filenames2)\n",
    "extra_labels_df = pd.DataFrame(data=extra_labels2, index = extra_filenames2)\n",
    "\n",
    "with open('extra_images1_2.csv', 'w') as f:\n",
    "    extra_images_df1.to_csv(f)\n",
    "with open('extra_images2_2.csv', 'w') as f:\n",
    "    extra_images_df2.to_csv(f)    \n",
    "with open('extra_labels_2.csv', 'w') as f:\n",
    "    extra_labels_df.to_csv(f)"
   ]
  },
  {
   "cell_type": "code",
   "execution_count": 83,
   "metadata": {
    "collapsed": false
   },
   "outputs": [
    {
     "name": "stdout",
     "output_type": "stream",
     "text": [
      "Compressed pickle size: 1050440267\n"
     ]
    }
   ],
   "source": [
    "hide_code\n",
    "pickle_file = 'svhn2.pickle'\n",
    "\n",
    "try:\n",
    "    f = open(pickle_file, 'wb')\n",
    "    save = {'train_images1': train_images1, 'train_images2': train_images2,\n",
    "            'train_labels': train_labels[13000:26000], 'train_filenames': train_filenames[13000:26000],\n",
    "            'test_images1': test_images1, 'test_images2': test_images2,\n",
    "            'test_labels': test_labels[7000:13000], 'test_filenames': test_filenames[7000:13000],\n",
    "            'extra_images1': extra_images1, 'extra_images2': extra_images2,\n",
    "            'extra_labels': extra_labels2, 'extra_filenames': extra_filenames2}\n",
    "    pickle.dump(save, f, pickle.HIGHEST_PROTOCOL)\n",
    "    f.close()\n",
    "except Exception as e:\n",
    "    print('Unable to save data to', pickle_file, ':', e)\n",
    "    raise\n",
    "\n",
    "del save\n",
    "    \n",
    "statinfo = os.stat(pickle_file)\n",
    "print('Compressed pickle size:', statinfo.st_size)"
   ]
  },
  {
   "cell_type": "markdown",
   "metadata": {
    "collapsed": true
   },
   "source": [
    "#### Checkpoint 2. Load the realistic data and prepare features and targets"
   ]
  },
  {
   "cell_type": "code",
   "execution_count": 15,
   "metadata": {
    "collapsed": false
   },
   "outputs": [
    {
     "data": {
      "text/html": [
       "<div>\n",
       "<style>\n",
       "    .dataframe thead tr:only-child th {\n",
       "        text-align: right;\n",
       "    }\n",
       "\n",
       "    .dataframe thead th {\n",
       "        text-align: left;\n",
       "    }\n",
       "\n",
       "    .dataframe tbody tr th {\n",
       "        vertical-align: top;\n",
       "    }\n",
       "</style>\n",
       "<table border=\"1\" class=\"dataframe\">\n",
       "  <thead>\n",
       "    <tr style=\"text-align: right;\">\n",
       "      <th></th>\n",
       "      <th>0</th>\n",
       "      <th>1</th>\n",
       "      <th>2</th>\n",
       "      <th>3</th>\n",
       "      <th>4</th>\n",
       "      <th>5</th>\n",
       "    </tr>\n",
       "  </thead>\n",
       "  <tbody>\n",
       "    <tr>\n",
       "      <th>0</th>\n",
       "      <td>0.352349</td>\n",
       "      <td>0.366906</td>\n",
       "      <td>0.373620</td>\n",
       "      <td>0.360278</td>\n",
       "      <td>0.330929</td>\n",
       "      <td>0.309424</td>\n",
       "    </tr>\n",
       "    <tr>\n",
       "      <th>1</th>\n",
       "      <td>0.754941</td>\n",
       "      <td>0.726082</td>\n",
       "      <td>0.680365</td>\n",
       "      <td>0.628380</td>\n",
       "      <td>0.572475</td>\n",
       "      <td>0.520447</td>\n",
       "    </tr>\n",
       "    <tr>\n",
       "      <th>2</th>\n",
       "      <td>0.180714</td>\n",
       "      <td>0.192925</td>\n",
       "      <td>0.204243</td>\n",
       "      <td>0.226600</td>\n",
       "      <td>0.233271</td>\n",
       "      <td>0.227729</td>\n",
       "    </tr>\n",
       "  </tbody>\n",
       "</table>\n",
       "</div>"
      ],
      "text/plain": [
       "          0         1         2         3         4         5\n",
       "0  0.352349  0.366906  0.373620  0.360278  0.330929  0.309424\n",
       "1  0.754941  0.726082  0.680365  0.628380  0.572475  0.520447\n",
       "2  0.180714  0.192925  0.204243  0.226600  0.233271  0.227729"
      ]
     },
     "metadata": {},
     "output_type": "display_data"
    },
    {
     "data": {
      "text/html": [
       "<div>\n",
       "<style>\n",
       "    .dataframe thead tr:only-child th {\n",
       "        text-align: right;\n",
       "    }\n",
       "\n",
       "    .dataframe thead th {\n",
       "        text-align: left;\n",
       "    }\n",
       "\n",
       "    .dataframe tbody tr th {\n",
       "        vertical-align: top;\n",
       "    }\n",
       "</style>\n",
       "<table border=\"1\" class=\"dataframe\">\n",
       "  <thead>\n",
       "    <tr style=\"text-align: right;\">\n",
       "      <th></th>\n",
       "      <th>filename</th>\n",
       "      <th>0</th>\n",
       "      <th>1</th>\n",
       "      <th>2</th>\n",
       "      <th>3</th>\n",
       "      <th>4</th>\n",
       "    </tr>\n",
       "  </thead>\n",
       "  <tbody>\n",
       "    <tr>\n",
       "      <th>0</th>\n",
       "      <td>5502.png</td>\n",
       "      <td>10.0</td>\n",
       "      <td>10.0</td>\n",
       "      <td>10.0</td>\n",
       "      <td>3.0</td>\n",
       "      <td>5.0</td>\n",
       "    </tr>\n",
       "    <tr>\n",
       "      <th>1</th>\n",
       "      <td>6876.png</td>\n",
       "      <td>10.0</td>\n",
       "      <td>10.0</td>\n",
       "      <td>10.0</td>\n",
       "      <td>1.0</td>\n",
       "      <td>5.0</td>\n",
       "    </tr>\n",
       "    <tr>\n",
       "      <th>2</th>\n",
       "      <td>12741.png</td>\n",
       "      <td>10.0</td>\n",
       "      <td>10.0</td>\n",
       "      <td>10.0</td>\n",
       "      <td>2.0</td>\n",
       "      <td>9.0</td>\n",
       "    </tr>\n",
       "  </tbody>\n",
       "</table>\n",
       "</div>"
      ],
      "text/plain": [
       "    filename     0     1     2    3    4\n",
       "0   5502.png  10.0  10.0  10.0  3.0  5.0\n",
       "1   6876.png  10.0  10.0  10.0  1.0  5.0\n",
       "2  12741.png  10.0  10.0  10.0  2.0  9.0"
      ]
     },
     "metadata": {},
     "output_type": "display_data"
    },
    {
     "data": {
      "text/html": [
       "<div>\n",
       "<style>\n",
       "    .dataframe thead tr:only-child th {\n",
       "        text-align: right;\n",
       "    }\n",
       "\n",
       "    .dataframe thead th {\n",
       "        text-align: left;\n",
       "    }\n",
       "\n",
       "    .dataframe tbody tr th {\n",
       "        vertical-align: top;\n",
       "    }\n",
       "</style>\n",
       "<table border=\"1\" class=\"dataframe\">\n",
       "  <thead>\n",
       "    <tr style=\"text-align: right;\">\n",
       "      <th></th>\n",
       "      <th>0</th>\n",
       "      <th>1</th>\n",
       "      <th>2</th>\n",
       "      <th>3</th>\n",
       "      <th>4</th>\n",
       "      <th>5</th>\n",
       "    </tr>\n",
       "  </thead>\n",
       "  <tbody>\n",
       "    <tr>\n",
       "      <th>0</th>\n",
       "      <td>0.731729</td>\n",
       "      <td>0.731729</td>\n",
       "      <td>0.731729</td>\n",
       "      <td>0.732859</td>\n",
       "      <td>0.732859</td>\n",
       "      <td>0.732859</td>\n",
       "    </tr>\n",
       "    <tr>\n",
       "      <th>1</th>\n",
       "      <td>0.605008</td>\n",
       "      <td>0.630882</td>\n",
       "      <td>0.635082</td>\n",
       "      <td>0.611831</td>\n",
       "      <td>0.572169</td>\n",
       "      <td>0.529757</td>\n",
       "    </tr>\n",
       "    <tr>\n",
       "      <th>2</th>\n",
       "      <td>0.194851</td>\n",
       "      <td>0.167078</td>\n",
       "      <td>0.128478</td>\n",
       "      <td>0.133976</td>\n",
       "      <td>0.132525</td>\n",
       "      <td>0.134549</td>\n",
       "    </tr>\n",
       "  </tbody>\n",
       "</table>\n",
       "</div>"
      ],
      "text/plain": [
       "          0         1         2         3         4         5\n",
       "0  0.731729  0.731729  0.731729  0.732859  0.732859  0.732859\n",
       "1  0.605008  0.630882  0.635082  0.611831  0.572169  0.529757\n",
       "2  0.194851  0.167078  0.128478  0.133976  0.132525  0.134549"
      ]
     },
     "metadata": {},
     "output_type": "display_data"
    },
    {
     "data": {
      "text/html": [
       "<div>\n",
       "<style>\n",
       "    .dataframe thead tr:only-child th {\n",
       "        text-align: right;\n",
       "    }\n",
       "\n",
       "    .dataframe thead th {\n",
       "        text-align: left;\n",
       "    }\n",
       "\n",
       "    .dataframe tbody tr th {\n",
       "        vertical-align: top;\n",
       "    }\n",
       "</style>\n",
       "<table border=\"1\" class=\"dataframe\">\n",
       "  <thead>\n",
       "    <tr style=\"text-align: right;\">\n",
       "      <th></th>\n",
       "      <th>filename</th>\n",
       "      <th>0</th>\n",
       "      <th>1</th>\n",
       "      <th>2</th>\n",
       "      <th>3</th>\n",
       "      <th>4</th>\n",
       "    </tr>\n",
       "  </thead>\n",
       "  <tbody>\n",
       "    <tr>\n",
       "      <th>5997</th>\n",
       "      <td>10065.png</td>\n",
       "      <td>10.0</td>\n",
       "      <td>10.0</td>\n",
       "      <td>10.0</td>\n",
       "      <td>10.0</td>\n",
       "      <td>1.0</td>\n",
       "    </tr>\n",
       "    <tr>\n",
       "      <th>5998</th>\n",
       "      <td>10210.png</td>\n",
       "      <td>10.0</td>\n",
       "      <td>10.0</td>\n",
       "      <td>10.0</td>\n",
       "      <td>1.0</td>\n",
       "      <td>9.0</td>\n",
       "    </tr>\n",
       "    <tr>\n",
       "      <th>5999</th>\n",
       "      <td>11166.png</td>\n",
       "      <td>10.0</td>\n",
       "      <td>10.0</td>\n",
       "      <td>10.0</td>\n",
       "      <td>5.0</td>\n",
       "      <td>0.0</td>\n",
       "    </tr>\n",
       "  </tbody>\n",
       "</table>\n",
       "</div>"
      ],
      "text/plain": [
       "       filename     0     1     2     3    4\n",
       "5997  10065.png  10.0  10.0  10.0  10.0  1.0\n",
       "5998  10210.png  10.0  10.0  10.0   1.0  9.0\n",
       "5999  11166.png  10.0  10.0  10.0   5.0  0.0"
      ]
     },
     "metadata": {},
     "output_type": "display_data"
    },
    {
     "data": {
      "text/html": [
       "<div>\n",
       "<style>\n",
       "    .dataframe thead tr:only-child th {\n",
       "        text-align: right;\n",
       "    }\n",
       "\n",
       "    .dataframe thead th {\n",
       "        text-align: left;\n",
       "    }\n",
       "\n",
       "    .dataframe tbody tr th {\n",
       "        vertical-align: top;\n",
       "    }\n",
       "</style>\n",
       "<table border=\"1\" class=\"dataframe\">\n",
       "  <thead>\n",
       "    <tr style=\"text-align: right;\">\n",
       "      <th></th>\n",
       "      <th>0</th>\n",
       "      <th>1</th>\n",
       "      <th>2</th>\n",
       "      <th>3</th>\n",
       "      <th>4</th>\n",
       "      <th>5</th>\n",
       "    </tr>\n",
       "  </thead>\n",
       "  <tbody>\n",
       "    <tr>\n",
       "      <th>0</th>\n",
       "      <td>0.857800</td>\n",
       "      <td>0.857800</td>\n",
       "      <td>0.853878</td>\n",
       "      <td>0.843733</td>\n",
       "      <td>0.848102</td>\n",
       "      <td>0.845800</td>\n",
       "    </tr>\n",
       "    <tr>\n",
       "      <th>1</th>\n",
       "      <td>0.300451</td>\n",
       "      <td>0.338773</td>\n",
       "      <td>0.371553</td>\n",
       "      <td>0.384278</td>\n",
       "      <td>0.404569</td>\n",
       "      <td>0.421384</td>\n",
       "    </tr>\n",
       "    <tr>\n",
       "      <th>2</th>\n",
       "      <td>0.263635</td>\n",
       "      <td>0.266596</td>\n",
       "      <td>0.236608</td>\n",
       "      <td>0.205769</td>\n",
       "      <td>0.195455</td>\n",
       "      <td>0.208671</td>\n",
       "    </tr>\n",
       "  </tbody>\n",
       "</table>\n",
       "</div>"
      ],
      "text/plain": [
       "          0         1         2         3         4         5\n",
       "0  0.857800  0.857800  0.853878  0.843733  0.848102  0.845800\n",
       "1  0.300451  0.338773  0.371553  0.384278  0.404569  0.421384\n",
       "2  0.263635  0.266596  0.236608  0.205769  0.195455  0.208671"
      ]
     },
     "metadata": {},
     "output_type": "display_data"
    },
    {
     "data": {
      "text/html": [
       "<div>\n",
       "<style>\n",
       "    .dataframe thead tr:only-child th {\n",
       "        text-align: right;\n",
       "    }\n",
       "\n",
       "    .dataframe thead th {\n",
       "        text-align: left;\n",
       "    }\n",
       "\n",
       "    .dataframe tbody tr th {\n",
       "        vertical-align: top;\n",
       "    }\n",
       "</style>\n",
       "<table border=\"1\" class=\"dataframe\">\n",
       "  <thead>\n",
       "    <tr style=\"text-align: right;\">\n",
       "      <th></th>\n",
       "      <th>filename</th>\n",
       "      <th>0</th>\n",
       "      <th>1</th>\n",
       "      <th>2</th>\n",
       "      <th>3</th>\n",
       "      <th>4</th>\n",
       "    </tr>\n",
       "  </thead>\n",
       "  <tbody>\n",
       "    <tr>\n",
       "      <th>12997</th>\n",
       "      <td>11978.png</td>\n",
       "      <td>10.0</td>\n",
       "      <td>10.0</td>\n",
       "      <td>8.0</td>\n",
       "      <td>5.0</td>\n",
       "      <td>7.0</td>\n",
       "    </tr>\n",
       "    <tr>\n",
       "      <th>12998</th>\n",
       "      <td>13237.png</td>\n",
       "      <td>10.0</td>\n",
       "      <td>10.0</td>\n",
       "      <td>10.0</td>\n",
       "      <td>9.0</td>\n",
       "      <td>0.0</td>\n",
       "    </tr>\n",
       "    <tr>\n",
       "      <th>12999</th>\n",
       "      <td>11985.png</td>\n",
       "      <td>10.0</td>\n",
       "      <td>10.0</td>\n",
       "      <td>10.0</td>\n",
       "      <td>5.0</td>\n",
       "      <td>6.0</td>\n",
       "    </tr>\n",
       "  </tbody>\n",
       "</table>\n",
       "</div>"
      ],
      "text/plain": [
       "        filename     0     1     2    3    4\n",
       "12997  11978.png  10.0  10.0   8.0  5.0  7.0\n",
       "12998  13237.png  10.0  10.0  10.0  9.0  0.0\n",
       "12999  11985.png  10.0  10.0  10.0  5.0  6.0"
      ]
     },
     "metadata": {},
     "output_type": "display_data"
    }
   ],
   "source": [
    "hide_code\n",
    "train_images2 = pd.read_csv(\"train_images2.csv\")\n",
    "train_labels = pd.read_csv(\"train_labels.csv\")\n",
    "\n",
    "test_images2 = pd.read_csv(\"test_images2.csv\")\n",
    "test_labels = pd.read_csv(\"test_labels.csv\")\n",
    "\n",
    "extra_images2 = pd.read_csv(\"extra_images2.csv\")\n",
    "extra_labels = pd.read_csv(\"extra_labels.csv\")\n",
    "\n",
    "display(train_images2[[\"0\", \"1\", \"2\", \"3\", \"4\", \"5\"]].head(3))\n",
    "display(train_labels.head(3))\n",
    "\n",
    "display(test_images2[[\"0\", \"1\", \"2\", \"3\", \"4\", \"5\"]].head(3))\n",
    "display(test_labels.tail(3))\n",
    "\n",
    "display(extra_images2[[\"0\", \"1\", \"2\", \"3\", \"4\", \"5\"]].head(3))\n",
    "display(extra_labels.tail(3))"
   ]
  },
  {
   "cell_type": "code",
   "execution_count": 16,
   "metadata": {
    "collapsed": false
   },
   "outputs": [
    {
     "data": {
      "text/html": [
       "<div>\n",
       "<style>\n",
       "    .dataframe thead tr:only-child th {\n",
       "        text-align: right;\n",
       "    }\n",
       "\n",
       "    .dataframe thead th {\n",
       "        text-align: left;\n",
       "    }\n",
       "\n",
       "    .dataframe tbody tr th {\n",
       "        vertical-align: top;\n",
       "    }\n",
       "</style>\n",
       "<table border=\"1\" class=\"dataframe\">\n",
       "  <thead>\n",
       "    <tr style=\"text-align: right;\">\n",
       "      <th></th>\n",
       "      <th>0</th>\n",
       "      <th>1</th>\n",
       "      <th>2</th>\n",
       "      <th>3</th>\n",
       "      <th>4</th>\n",
       "      <th>5</th>\n",
       "    </tr>\n",
       "  </thead>\n",
       "  <tbody>\n",
       "    <tr>\n",
       "      <th>0</th>\n",
       "      <td>0.775827</td>\n",
       "      <td>0.747204</td>\n",
       "      <td>0.702894</td>\n",
       "      <td>0.695498</td>\n",
       "      <td>0.694773</td>\n",
       "      <td>0.713933</td>\n",
       "    </tr>\n",
       "    <tr>\n",
       "      <th>1</th>\n",
       "      <td>0.924996</td>\n",
       "      <td>0.893624</td>\n",
       "      <td>0.846353</td>\n",
       "      <td>0.800020</td>\n",
       "      <td>0.749486</td>\n",
       "      <td>0.703769</td>\n",
       "    </tr>\n",
       "    <tr>\n",
       "      <th>2</th>\n",
       "      <td>0.595980</td>\n",
       "      <td>0.603780</td>\n",
       "      <td>0.615224</td>\n",
       "      <td>0.632933</td>\n",
       "      <td>0.653882</td>\n",
       "      <td>0.679435</td>\n",
       "    </tr>\n",
       "  </tbody>\n",
       "</table>\n",
       "</div>"
      ],
      "text/plain": [
       "          0         1         2         3         4         5\n",
       "0  0.775827  0.747204  0.702894  0.695498  0.694773  0.713933\n",
       "1  0.924996  0.893624  0.846353  0.800020  0.749486  0.703769\n",
       "2  0.595980  0.603780  0.615224  0.632933  0.653882  0.679435"
      ]
     },
     "metadata": {},
     "output_type": "display_data"
    },
    {
     "data": {
      "text/html": [
       "<div>\n",
       "<style>\n",
       "    .dataframe thead tr:only-child th {\n",
       "        text-align: right;\n",
       "    }\n",
       "\n",
       "    .dataframe thead th {\n",
       "        text-align: left;\n",
       "    }\n",
       "\n",
       "    .dataframe tbody tr th {\n",
       "        vertical-align: top;\n",
       "    }\n",
       "</style>\n",
       "<table border=\"1\" class=\"dataframe\">\n",
       "  <thead>\n",
       "    <tr style=\"text-align: right;\">\n",
       "      <th></th>\n",
       "      <th>filename</th>\n",
       "      <th>0</th>\n",
       "      <th>1</th>\n",
       "      <th>2</th>\n",
       "      <th>3</th>\n",
       "      <th>4</th>\n",
       "    </tr>\n",
       "  </thead>\n",
       "  <tbody>\n",
       "    <tr>\n",
       "      <th>0</th>\n",
       "      <td>20953.png</td>\n",
       "      <td>10.0</td>\n",
       "      <td>10.0</td>\n",
       "      <td>1.0</td>\n",
       "      <td>9.0</td>\n",
       "      <td>5.0</td>\n",
       "    </tr>\n",
       "    <tr>\n",
       "      <th>1</th>\n",
       "      <td>30030.png</td>\n",
       "      <td>10.0</td>\n",
       "      <td>10.0</td>\n",
       "      <td>10.0</td>\n",
       "      <td>3.0</td>\n",
       "      <td>4.0</td>\n",
       "    </tr>\n",
       "    <tr>\n",
       "      <th>2</th>\n",
       "      <td>2036.png</td>\n",
       "      <td>10.0</td>\n",
       "      <td>10.0</td>\n",
       "      <td>10.0</td>\n",
       "      <td>8.0</td>\n",
       "      <td>2.0</td>\n",
       "    </tr>\n",
       "  </tbody>\n",
       "</table>\n",
       "</div>"
      ],
      "text/plain": [
       "    filename     0     1     2    3    4\n",
       "0  20953.png  10.0  10.0   1.0  9.0  5.0\n",
       "1  30030.png  10.0  10.0  10.0  3.0  4.0\n",
       "2   2036.png  10.0  10.0  10.0  8.0  2.0"
      ]
     },
     "metadata": {},
     "output_type": "display_data"
    },
    {
     "data": {
      "text/html": [
       "<div>\n",
       "<style>\n",
       "    .dataframe thead tr:only-child th {\n",
       "        text-align: right;\n",
       "    }\n",
       "\n",
       "    .dataframe thead th {\n",
       "        text-align: left;\n",
       "    }\n",
       "\n",
       "    .dataframe tbody tr th {\n",
       "        vertical-align: top;\n",
       "    }\n",
       "</style>\n",
       "<table border=\"1\" class=\"dataframe\">\n",
       "  <thead>\n",
       "    <tr style=\"text-align: right;\">\n",
       "      <th></th>\n",
       "      <th>0</th>\n",
       "      <th>1</th>\n",
       "      <th>2</th>\n",
       "      <th>3</th>\n",
       "      <th>4</th>\n",
       "      <th>5</th>\n",
       "    </tr>\n",
       "  </thead>\n",
       "  <tbody>\n",
       "    <tr>\n",
       "      <th>0</th>\n",
       "      <td>0.160784</td>\n",
       "      <td>0.163533</td>\n",
       "      <td>0.165835</td>\n",
       "      <td>0.160784</td>\n",
       "      <td>0.161914</td>\n",
       "      <td>0.161914</td>\n",
       "    </tr>\n",
       "    <tr>\n",
       "      <th>1</th>\n",
       "      <td>0.642588</td>\n",
       "      <td>0.638388</td>\n",
       "      <td>0.637427</td>\n",
       "      <td>0.638769</td>\n",
       "      <td>0.628067</td>\n",
       "      <td>0.590192</td>\n",
       "    </tr>\n",
       "    <tr>\n",
       "      <th>2</th>\n",
       "      <td>0.059059</td>\n",
       "      <td>0.066220</td>\n",
       "      <td>0.077302</td>\n",
       "      <td>0.085145</td>\n",
       "      <td>0.094396</td>\n",
       "      <td>0.078710</td>\n",
       "    </tr>\n",
       "  </tbody>\n",
       "</table>\n",
       "</div>"
      ],
      "text/plain": [
       "          0         1         2         3         4         5\n",
       "0  0.160784  0.163533  0.165835  0.160784  0.161914  0.161914\n",
       "1  0.642588  0.638388  0.637427  0.638769  0.628067  0.590192\n",
       "2  0.059059  0.066220  0.077302  0.085145  0.094396  0.078710"
      ]
     },
     "metadata": {},
     "output_type": "display_data"
    },
    {
     "data": {
      "text/html": [
       "<div>\n",
       "<style>\n",
       "    .dataframe thead tr:only-child th {\n",
       "        text-align: right;\n",
       "    }\n",
       "\n",
       "    .dataframe thead th {\n",
       "        text-align: left;\n",
       "    }\n",
       "\n",
       "    .dataframe tbody tr th {\n",
       "        vertical-align: top;\n",
       "    }\n",
       "</style>\n",
       "<table border=\"1\" class=\"dataframe\">\n",
       "  <thead>\n",
       "    <tr style=\"text-align: right;\">\n",
       "      <th></th>\n",
       "      <th>filename</th>\n",
       "      <th>0</th>\n",
       "      <th>1</th>\n",
       "      <th>2</th>\n",
       "      <th>3</th>\n",
       "      <th>4</th>\n",
       "    </tr>\n",
       "  </thead>\n",
       "  <tbody>\n",
       "    <tr>\n",
       "      <th>5997</th>\n",
       "      <td>9152.png</td>\n",
       "      <td>10.0</td>\n",
       "      <td>10.0</td>\n",
       "      <td>1.0</td>\n",
       "      <td>2.0</td>\n",
       "      <td>6.0</td>\n",
       "    </tr>\n",
       "    <tr>\n",
       "      <th>5998</th>\n",
       "      <td>2724.png</td>\n",
       "      <td>10.0</td>\n",
       "      <td>10.0</td>\n",
       "      <td>10.0</td>\n",
       "      <td>4.0</td>\n",
       "      <td>8.0</td>\n",
       "    </tr>\n",
       "    <tr>\n",
       "      <th>5999</th>\n",
       "      <td>7566.png</td>\n",
       "      <td>10.0</td>\n",
       "      <td>10.0</td>\n",
       "      <td>10.0</td>\n",
       "      <td>1.0</td>\n",
       "      <td>4.0</td>\n",
       "    </tr>\n",
       "  </tbody>\n",
       "</table>\n",
       "</div>"
      ],
      "text/plain": [
       "      filename     0     1     2    3    4\n",
       "5997  9152.png  10.0  10.0   1.0  2.0  6.0\n",
       "5998  2724.png  10.0  10.0  10.0  4.0  8.0\n",
       "5999  7566.png  10.0  10.0  10.0  1.0  4.0"
      ]
     },
     "metadata": {},
     "output_type": "display_data"
    },
    {
     "data": {
      "text/html": [
       "<div>\n",
       "<style>\n",
       "    .dataframe thead tr:only-child th {\n",
       "        text-align: right;\n",
       "    }\n",
       "\n",
       "    .dataframe thead th {\n",
       "        text-align: left;\n",
       "    }\n",
       "\n",
       "    .dataframe tbody tr th {\n",
       "        vertical-align: top;\n",
       "    }\n",
       "</style>\n",
       "<table border=\"1\" class=\"dataframe\">\n",
       "  <thead>\n",
       "    <tr style=\"text-align: right;\">\n",
       "      <th></th>\n",
       "      <th>0</th>\n",
       "      <th>1</th>\n",
       "      <th>2</th>\n",
       "      <th>3</th>\n",
       "      <th>4</th>\n",
       "      <th>5</th>\n",
       "    </tr>\n",
       "  </thead>\n",
       "  <tbody>\n",
       "    <tr>\n",
       "      <th>0</th>\n",
       "      <td>0.349059</td>\n",
       "      <td>0.394220</td>\n",
       "      <td>0.455067</td>\n",
       "      <td>0.517937</td>\n",
       "      <td>0.553188</td>\n",
       "      <td>0.557110</td>\n",
       "    </tr>\n",
       "    <tr>\n",
       "      <th>1</th>\n",
       "      <td>0.199129</td>\n",
       "      <td>0.195208</td>\n",
       "      <td>0.192416</td>\n",
       "      <td>0.182271</td>\n",
       "      <td>0.183890</td>\n",
       "      <td>0.169612</td>\n",
       "    </tr>\n",
       "    <tr>\n",
       "      <th>2</th>\n",
       "      <td>0.220420</td>\n",
       "      <td>0.220420</td>\n",
       "      <td>0.219694</td>\n",
       "      <td>0.218243</td>\n",
       "      <td>0.223059</td>\n",
       "      <td>0.225529</td>\n",
       "    </tr>\n",
       "  </tbody>\n",
       "</table>\n",
       "</div>"
      ],
      "text/plain": [
       "          0         1         2         3         4         5\n",
       "0  0.349059  0.394220  0.455067  0.517937  0.553188  0.557110\n",
       "1  0.199129  0.195208  0.192416  0.182271  0.183890  0.169612\n",
       "2  0.220420  0.220420  0.219694  0.218243  0.223059  0.225529"
      ]
     },
     "metadata": {},
     "output_type": "display_data"
    },
    {
     "data": {
      "text/html": [
       "<div>\n",
       "<style>\n",
       "    .dataframe thead tr:only-child th {\n",
       "        text-align: right;\n",
       "    }\n",
       "\n",
       "    .dataframe thead th {\n",
       "        text-align: left;\n",
       "    }\n",
       "\n",
       "    .dataframe tbody tr th {\n",
       "        vertical-align: top;\n",
       "    }\n",
       "</style>\n",
       "<table border=\"1\" class=\"dataframe\">\n",
       "  <thead>\n",
       "    <tr style=\"text-align: right;\">\n",
       "      <th></th>\n",
       "      <th>filename</th>\n",
       "      <th>0</th>\n",
       "      <th>1</th>\n",
       "      <th>2</th>\n",
       "      <th>3</th>\n",
       "      <th>4</th>\n",
       "    </tr>\n",
       "  </thead>\n",
       "  <tbody>\n",
       "    <tr>\n",
       "      <th>12997</th>\n",
       "      <td>31666.png</td>\n",
       "      <td>10.0</td>\n",
       "      <td>10.0</td>\n",
       "      <td>1.0</td>\n",
       "      <td>5.0</td>\n",
       "      <td>7.0</td>\n",
       "    </tr>\n",
       "    <tr>\n",
       "      <th>12998</th>\n",
       "      <td>32070.png</td>\n",
       "      <td>10.0</td>\n",
       "      <td>10.0</td>\n",
       "      <td>10.0</td>\n",
       "      <td>3.0</td>\n",
       "      <td>8.0</td>\n",
       "    </tr>\n",
       "    <tr>\n",
       "      <th>12999</th>\n",
       "      <td>31858.png</td>\n",
       "      <td>10.0</td>\n",
       "      <td>10.0</td>\n",
       "      <td>2.0</td>\n",
       "      <td>1.0</td>\n",
       "      <td>2.0</td>\n",
       "    </tr>\n",
       "  </tbody>\n",
       "</table>\n",
       "</div>"
      ],
      "text/plain": [
       "        filename     0     1     2    3    4\n",
       "12997  31666.png  10.0  10.0   1.0  5.0  7.0\n",
       "12998  32070.png  10.0  10.0  10.0  3.0  8.0\n",
       "12999  31858.png  10.0  10.0   2.0  1.0  2.0"
      ]
     },
     "metadata": {},
     "output_type": "display_data"
    }
   ],
   "source": [
    "hide_code\n",
    "train_images2_2 = pd.read_csv(\"train_images2_2.csv\")\n",
    "train_labels_2 = pd.read_csv(\"train_labels_2.csv\")\n",
    "\n",
    "test_images2_2 = pd.read_csv(\"test_images2_2.csv\")\n",
    "test_labels_2 = pd.read_csv(\"test_labels_2.csv\")\n",
    "\n",
    "extra_images2_2 = pd.read_csv(\"extra_images2_2.csv\")\n",
    "extra_labels_2 = pd.read_csv(\"extra_labels_2.csv\")\n",
    "\n",
    "display(train_images2_2[[\"0\", \"1\", \"2\", \"3\", \"4\", \"5\"]].head(3))\n",
    "display(train_labels_2.head(3))\n",
    "\n",
    "display(test_images2_2[[\"0\", \"1\", \"2\", \"3\", \"4\", \"5\"]].head(3))\n",
    "display(test_labels_2.tail(3))\n",
    "\n",
    "display(extra_images2_2[[\"0\", \"1\", \"2\", \"3\", \"4\", \"5\"]].head(3))\n",
    "display(extra_labels_2.tail(3))"
   ]
  },
  {
   "cell_type": "code",
   "execution_count": 17,
   "metadata": {
    "collapsed": true
   },
   "outputs": [],
   "source": [
    "hide_code\n",
    "images = np.concatenate((np.array(train_images2.drop('filename', axis=1)), \n",
    "                         np.array(extra_images2.drop('filename', axis=1))), \n",
    "                        axis=0)\n",
    "labels = np.concatenate((np.array(train_labels[[\"0\", \"1\", \"2\", \"3\", \"4\"]]), \n",
    "                         np.array(extra_labels[[\"0\", \"1\", \"2\", \"3\", \"4\"]])), \n",
    "                        axis=0)"
   ]
  },
  {
   "cell_type": "code",
   "execution_count": 18,
   "metadata": {
    "collapsed": false
   },
   "outputs": [],
   "source": [
    "hide_code\n",
    "images_2 = np.concatenate((np.array(train_images2_2.drop('filename', axis=1)), \n",
    "                           np.array(extra_images2_2.drop('filename', axis=1))), \n",
    "                          axis=0)\n",
    "labels_2 = np.concatenate((np.array(train_labels_2[[\"0\", \"1\", \"2\", \"3\", \"4\"]]), \n",
    "                           np.array(extra_labels_2[[\"0\", \"1\", \"2\", \"3\", \"4\"]])), \n",
    "                          axis=0)"
   ]
  },
  {
   "cell_type": "code",
   "execution_count": 19,
   "metadata": {
    "collapsed": true
   },
   "outputs": [],
   "source": [
    "hide_code\n",
    "images = np.concatenate((images, images_2), axis=0)\n",
    "labels = np.concatenate((labels, labels_2), axis=0)"
   ]
  },
  {
   "cell_type": "code",
   "execution_count": 20,
   "metadata": {
    "collapsed": true
   },
   "outputs": [],
   "source": [
    "hide_code\n",
    "images_t = np.concatenate((np.array(test_images2.drop('filename', axis=1)), \n",
    "                           np.array(test_images2_2.drop('filename', axis=1))), \n",
    "                          axis=0)\n",
    "labels_t = np.concatenate((np.array(test_labels[[\"0\", \"1\", \"2\", \"3\", \"4\"]]), \n",
    "                           np.array(test_labels_2[[\"0\", \"1\", \"2\", \"3\", \"4\"]])), \n",
    "                          axis=0)"
   ]
  },
  {
   "cell_type": "code",
   "execution_count": 21,
   "metadata": {
    "collapsed": false
   },
   "outputs": [],
   "source": [
    "hide_code\n",
    "X_train = images.reshape(52000, 32, 32, 1)\n",
    "y_train = labels\n",
    "X_test = images_t.reshape(12000, 32, 32, 1)\n",
    "y_test = labels_t"
   ]
  },
  {
   "cell_type": "code",
   "execution_count": 22,
   "metadata": {
    "collapsed": true
   },
   "outputs": [],
   "source": [
    "hide_code\n",
    "def digit_to_categorical(data):\n",
    "    n = data.shape[1]\n",
    "    data_cat = np.empty([len(data), n, 11])\n",
    "    \n",
    "    for i in range(n):\n",
    "        data_cat[:, i] = ks.utils.to_categorical(data[:, i], num_classes=11)\n",
    "        \n",
    "    return data_cat\n",
    "\n",
    "y_train_cat = digit_to_categorical(y_train)\n",
    "y_test_cat = digit_to_categorical(y_test)\n",
    "\n",
    "y_train_cat_list = [y_train_cat[:, i] for i in range(5)]\n",
    "y_test_cat_list = [y_test_cat[:, i] for i in range(5)]"
   ]
  },
  {
   "cell_type": "code",
   "execution_count": 23,
   "metadata": {
    "collapsed": false
   },
   "outputs": [
    {
     "name": "stdout",
     "output_type": "stream",
     "text": [
      "Train loaded set (52000, 32, 32, 1) (52000, 5, 11)\n",
      "Test loaded set (12000, 32, 32, 1) (12000, 5, 11)\n"
     ]
    }
   ],
   "source": [
    "hide_code\n",
    "print('Train loaded set', X_train.shape, y_train_cat.shape)\n",
    "print('Test loaded set', X_test.shape, y_test_cat.shape)"
   ]
  },
  {
   "cell_type": "code",
   "execution_count": 24,
   "metadata": {
    "collapsed": false
   },
   "outputs": [
    {
     "name": "stdout",
     "output_type": "stream",
     "text": [
      "8629.png\n",
      "[ 10.  10.   5.   0.   7.]\n",
      "[[ 0.  0.  0.  0.  0.  0.  0.  0.  0.  0.  1.]\n",
      " [ 0.  0.  0.  0.  0.  0.  0.  0.  0.  0.  1.]\n",
      " [ 0.  0.  0.  0.  0.  1.  0.  0.  0.  0.  0.]\n",
      " [ 1.  0.  0.  0.  0.  0.  0.  0.  0.  0.  0.]\n",
      " [ 0.  0.  0.  0.  0.  0.  0.  1.  0.  0.  0.]]\n"
     ]
    },
    {
     "data": {
      "image/png": "[encoded data removed]",
      "text/plain": [
       "<matplotlib.figure.Figure at 0x117cd07f0>"
      ]
     },
     "metadata": {},
     "output_type": "display_data"
    }
   ],
   "source": [
    "hide_code\n",
    "plt.imshow(X_train[12].reshape(32, 32), cmap=plt.cm.Blues)\n",
    "print(train_images2['filename'][12])\n",
    "print(y_train[12])\n",
    "print(y_train_cat[:][12])"
   ]
  },
  {
   "cell_type": "markdown",
   "metadata": {
    "collapsed": true
   },
   "source": [
    "---\n",
    "## $\\mathfrak {\\color{#191970} {Step \\ 2:\\ Train \\ a \\ Model \\ on \\ a \\ Realistic \\ Dataset}}$\n",
    "Once we have settled on a good architecture, we can train the model on real data. In particular, the [Street View House Numbers (SVHN)](http://ufldl.stanford.edu/housenumbers/) dataset is a good large-scale dataset collected from house numbers in Google Street View. Training on this more challenging dataset, where the digits are not neatly lined-up and have various skews, fonts and colors, likely means you have to do some hyperparameter exploration to perform well."
   ]
  },
  {
   "cell_type": "code",
   "execution_count": 25,
   "metadata": {
    "collapsed": false
   },
   "outputs": [],
   "source": [
    "hide_code\n",
    "def cnn_model():    \n",
    "    model_input = Input(shape=(32, 32, 1))    \n",
    "        \n",
    "    x = Conv2D(32, (3, 3), activation='relu', border_mode='same')(model_input)\n",
    "    x = MaxPooling2D(pool_size=(2, 2))(x)\n",
    "    \n",
    "    x = Conv2D(32, (3, 3), activation='relu')(x)\n",
    "    x = MaxPooling2D(pool_size=(2, 2))(x)\n",
    "    \n",
    "    x = Dropout(0.25)(x)\n",
    "    \n",
    "    x = Conv2D(64, (3, 3), activation='relu')(x)       \n",
    "    x = Conv2D(64, (3, 3), activation='relu')(x)\n",
    "    \n",
    "    x = Dropout(0.25)(x)\n",
    "    \n",
    "    x = Conv2D(128, (3, 3), activation='relu')(x)\n",
    "    \n",
    "    x = Dropout(0.25)(x)\n",
    "              \n",
    "    x = Flatten()(x)\n",
    "    \n",
    "    x = Dense(512, activation='relu')(x)\n",
    "    x = Dropout(0.5)(x)\n",
    "    \n",
    "    y1 = Dense(11, activation='softmax')(x)\n",
    "    y2 = Dense(11, activation='softmax')(x)\n",
    "    y3 = Dense(11, activation='softmax')(x)\n",
    "    y4 = Dense(11, activation='softmax')(x)\n",
    "    y5 = Dense(11, activation='softmax')(x)\n",
    "    \n",
    "    model = Model(input=model_input, output=[y1, y2, y3, y4, y5])\n",
    "\n",
    "    model.compile(loss='categorical_crossentropy', optimizer='adam', metrics=['accuracy'])\n",
    "    return model"
   ]
  },
  {
   "cell_type": "code",
   "execution_count": 26,
   "metadata": {
    "collapsed": false
   },
   "outputs": [
    {
     "name": "stdout",
     "output_type": "stream",
     "text": [
      "Train on 52000 samples, validate on 12000 samples\n",
      "Epoch 1/50\n",
      "124s - loss: 6.3544 - dense_2_loss: 0.0414 - dense_3_loss: 0.3000 - dense_4_loss: 1.4141 - dense_5_loss: 2.2722 - dense_6_loss: 2.3267 - dense_2_acc: 0.9971 - dense_3_acc: 0.9402 - dense_4_acc: 0.5650 - dense_5_acc: 0.1729 - dense_6_acc: 0.1216 - val_loss: 4.6298 - val_dense_2_loss: 0.0015 - val_dense_3_loss: 0.0474 - val_dense_4_loss: 0.4785 - val_dense_5_loss: 1.8496 - val_dense_6_loss: 2.2529 - val_dense_2_acc: 0.9998 - val_dense_3_acc: 0.9885 - val_dense_4_acc: 0.8562 - val_dense_5_acc: 0.3618 - val_dense_6_acc: 0.1647\n",
      "Epoch 2/50\n",
      "110s - loss: 4.9020 - dense_2_loss: 0.0043 - dense_3_loss: 0.2038 - dense_4_loss: 0.9423 - dense_5_loss: 1.6818 - dense_6_loss: 2.0699 - dense_2_acc: 0.9996 - dense_3_acc: 0.9445 - dense_4_acc: 0.7020 - dense_5_acc: 0.4159 - dense_6_acc: 0.2387 - val_loss: 3.1799 - val_dense_2_loss: 0.0020 - val_dense_3_loss: 0.0478 - val_dense_4_loss: 0.3254 - val_dense_5_loss: 1.1307 - val_dense_6_loss: 1.6741 - val_dense_2_acc: 0.9998 - val_dense_3_acc: 0.9908 - val_dense_4_acc: 0.9113 - val_dense_5_acc: 0.6377 - val_dense_6_acc: 0.4270\n",
      "Epoch 3/50\n",
      "109s - loss: 3.7005 - dense_2_loss: 0.0038 - dense_3_loss: 0.1567 - dense_4_loss: 0.7606 - dense_5_loss: 1.2796 - dense_6_loss: 1.4998 - dense_2_acc: 0.9996 - dense_3_acc: 0.9543 - dense_4_acc: 0.7597 - dense_5_acc: 0.5617 - dense_6_acc: 0.4662 - val_loss: 2.2464 - val_dense_2_loss: 0.0018 - val_dense_3_loss: 0.0330 - val_dense_4_loss: 0.2630 - val_dense_5_loss: 0.8516 - val_dense_6_loss: 1.0971 - val_dense_2_acc: 0.9998 - val_dense_3_acc: 0.9921 - val_dense_4_acc: 0.9263 - val_dense_5_acc: 0.7322 - val_dense_6_acc: 0.6407\n",
      "Epoch 4/50\n",
      "107s - loss: 3.0745 - dense_2_loss: 0.0036 - dense_3_loss: 0.1379 - dense_4_loss: 0.6786 - dense_5_loss: 1.0559 - dense_6_loss: 1.1986 - dense_2_acc: 0.9996 - dense_3_acc: 0.9594 - dense_4_acc: 0.7843 - dense_5_acc: 0.6450 - dense_6_acc: 0.5859 - val_loss: 1.9168 - val_dense_2_loss: 0.0017 - val_dense_3_loss: 0.0366 - val_dense_4_loss: 0.2517 - val_dense_5_loss: 0.7119 - val_dense_6_loss: 0.9148 - val_dense_2_acc: 0.9998 - val_dense_3_acc: 0.9929 - val_dense_4_acc: 0.9312 - val_dense_5_acc: 0.7835 - val_dense_6_acc: 0.7208\n",
      "Epoch 5/50\n",
      "106s - loss: 2.7208 - dense_2_loss: 0.0035 - dense_3_loss: 0.1262 - dense_4_loss: 0.6350 - dense_5_loss: 0.9233 - dense_6_loss: 1.0328 - dense_2_acc: 0.9996 - dense_3_acc: 0.9629 - dense_4_acc: 0.7983 - dense_5_acc: 0.6932 - dense_6_acc: 0.6514 - val_loss: 1.6462 - val_dense_2_loss: 0.0016 - val_dense_3_loss: 0.0299 - val_dense_4_loss: 0.2356 - val_dense_5_loss: 0.6187 - val_dense_6_loss: 0.7605 - val_dense_2_acc: 0.9998 - val_dense_3_acc: 0.9922 - val_dense_4_acc: 0.9310 - val_dense_5_acc: 0.8148 - val_dense_6_acc: 0.7654\n",
      "Epoch 6/50\n",
      "110s - loss: 2.4851 - dense_2_loss: 0.0036 - dense_3_loss: 0.1183 - dense_4_loss: 0.6003 - dense_5_loss: 0.8355 - dense_6_loss: 0.9273 - dense_2_acc: 0.9996 - dense_3_acc: 0.9656 - dense_4_acc: 0.8105 - dense_5_acc: 0.7273 - dense_6_acc: 0.6904 - val_loss: 1.5320 - val_dense_2_loss: 0.0017 - val_dense_3_loss: 0.0333 - val_dense_4_loss: 0.2249 - val_dense_5_loss: 0.5716 - val_dense_6_loss: 0.7005 - val_dense_2_acc: 0.9998 - val_dense_3_acc: 0.9923 - val_dense_4_acc: 0.9349 - val_dense_5_acc: 0.8318 - val_dense_6_acc: 0.7893\n",
      "Epoch 7/50\n",
      "117s - loss: 2.3044 - dense_2_loss: 0.0034 - dense_3_loss: 0.1107 - dense_4_loss: 0.5729 - dense_5_loss: 0.7653 - dense_6_loss: 0.8521 - dense_2_acc: 0.9996 - dense_3_acc: 0.9676 - dense_4_acc: 0.8153 - dense_5_acc: 0.7524 - dense_6_acc: 0.7196 - val_loss: 1.4508 - val_dense_2_loss: 0.0017 - val_dense_3_loss: 0.0355 - val_dense_4_loss: 0.2270 - val_dense_5_loss: 0.5337 - val_dense_6_loss: 0.6529 - val_dense_2_acc: 0.9998 - val_dense_3_acc: 0.9911 - val_dense_4_acc: 0.9359 - val_dense_5_acc: 0.8442 - val_dense_6_acc: 0.8049\n",
      "Epoch 8/50\n",
      "118s - loss: 2.1543 - dense_2_loss: 0.0031 - dense_3_loss: 0.1056 - dense_4_loss: 0.5436 - dense_5_loss: 0.7145 - dense_6_loss: 0.7875 - dense_2_acc: 0.9996 - dense_3_acc: 0.9702 - dense_4_acc: 0.8287 - dense_5_acc: 0.7699 - dense_6_acc: 0.7418 - val_loss: 1.2756 - val_dense_2_loss: 0.0014 - val_dense_3_loss: 0.0229 - val_dense_4_loss: 0.1878 - val_dense_5_loss: 0.4865 - val_dense_6_loss: 0.5769 - val_dense_2_acc: 0.9998 - val_dense_3_acc: 0.9945 - val_dense_4_acc: 0.9456 - val_dense_5_acc: 0.8567 - val_dense_6_acc: 0.8253\n",
      "Epoch 9/50\n",
      "105s - loss: 2.0393 - dense_2_loss: 0.0029 - dense_3_loss: 0.1019 - dense_4_loss: 0.5274 - dense_5_loss: 0.6650 - dense_6_loss: 0.7421 - dense_2_acc: 0.9996 - dense_3_acc: 0.9705 - dense_4_acc: 0.8327 - dense_5_acc: 0.7878 - dense_6_acc: 0.7563 - val_loss: 1.1871 - val_dense_2_loss: 0.0015 - val_dense_3_loss: 0.0229 - val_dense_4_loss: 0.1853 - val_dense_5_loss: 0.4424 - val_dense_6_loss: 0.5351 - val_dense_2_acc: 0.9998 - val_dense_3_acc: 0.9944 - val_dense_4_acc: 0.9440 - val_dense_5_acc: 0.8715 - val_dense_6_acc: 0.8345\n",
      "Epoch 10/50\n",
      "120s - loss: 1.9433 - dense_2_loss: 0.0029 - dense_3_loss: 0.0991 - dense_4_loss: 0.5070 - dense_5_loss: 0.6344 - dense_6_loss: 0.7000 - dense_2_acc: 0.9996 - dense_3_acc: 0.9723 - dense_4_acc: 0.8402 - dense_5_acc: 0.8009 - dense_6_acc: 0.7743 - val_loss: 1.1834 - val_dense_2_loss: 0.0015 - val_dense_3_loss: 0.0247 - val_dense_4_loss: 0.1848 - val_dense_5_loss: 0.4498 - val_dense_6_loss: 0.5225 - val_dense_2_acc: 0.9998 - val_dense_3_acc: 0.9942 - val_dense_4_acc: 0.9478 - val_dense_5_acc: 0.8708 - val_dense_6_acc: 0.8442\n",
      "Epoch 11/50\n",
      "126s - loss: 1.8697 - dense_2_loss: 0.0032 - dense_3_loss: 0.0963 - dense_4_loss: 0.4895 - dense_5_loss: 0.6079 - dense_6_loss: 0.6729 - dense_2_acc: 0.9996 - dense_3_acc: 0.9721 - dense_4_acc: 0.8454 - dense_5_acc: 0.8085 - dense_6_acc: 0.7830 - val_loss: 1.1236 - val_dense_2_loss: 0.0016 - val_dense_3_loss: 0.0249 - val_dense_4_loss: 0.1770 - val_dense_5_loss: 0.4253 - val_dense_6_loss: 0.4949 - val_dense_2_acc: 0.9998 - val_dense_3_acc: 0.9938 - val_dense_4_acc: 0.9495 - val_dense_5_acc: 0.8760 - val_dense_6_acc: 0.8497\n",
      "Epoch 12/50\n",
      "111s - loss: 1.7930 - dense_2_loss: 0.0030 - dense_3_loss: 0.0935 - dense_4_loss: 0.4733 - dense_5_loss: 0.5795 - dense_6_loss: 0.6437 - dense_2_acc: 0.9996 - dense_3_acc: 0.9738 - dense_4_acc: 0.8521 - dense_5_acc: 0.8175 - dense_6_acc: 0.7917 - val_loss: 1.1251 - val_dense_2_loss: 0.0015 - val_dense_3_loss: 0.0220 - val_dense_4_loss: 0.1772 - val_dense_5_loss: 0.4188 - val_dense_6_loss: 0.5056 - val_dense_2_acc: 0.9998 - val_dense_3_acc: 0.9941 - val_dense_4_acc: 0.9490 - val_dense_5_acc: 0.8774 - val_dense_6_acc: 0.8423\n",
      "Epoch 13/50\n",
      "99s - loss: 1.7465 - dense_2_loss: 0.0027 - dense_3_loss: 0.0918 - dense_4_loss: 0.4630 - dense_5_loss: 0.5637 - dense_6_loss: 0.6253 - dense_2_acc: 0.9996 - dense_3_acc: 0.9740 - dense_4_acc: 0.8548 - dense_5_acc: 0.8234 - dense_6_acc: 0.8006 - val_loss: 1.0621 - val_dense_2_loss: 0.0013 - val_dense_3_loss: 0.0197 - val_dense_4_loss: 0.1667 - val_dense_5_loss: 0.4038 - val_dense_6_loss: 0.4706 - val_dense_2_acc: 0.9998 - val_dense_3_acc: 0.9947 - val_dense_4_acc: 0.9510 - val_dense_5_acc: 0.8848 - val_dense_6_acc: 0.8543\n",
      "Epoch 14/50\n",
      "105s - loss: 1.6923 - dense_2_loss: 0.0030 - dense_3_loss: 0.0900 - dense_4_loss: 0.4462 - dense_5_loss: 0.5481 - dense_6_loss: 0.6050 - dense_2_acc: 0.9996 - dense_3_acc: 0.9750 - dense_4_acc: 0.8592 - dense_5_acc: 0.8274 - dense_6_acc: 0.8070 - val_loss: 1.0225 - val_dense_2_loss: 0.0015 - val_dense_3_loss: 0.0200 - val_dense_4_loss: 0.1560 - val_dense_5_loss: 0.3861 - val_dense_6_loss: 0.4591 - val_dense_2_acc: 0.9998 - val_dense_3_acc: 0.9948 - val_dense_4_acc: 0.9540 - val_dense_5_acc: 0.8892 - val_dense_6_acc: 0.8585\n",
      "Epoch 15/50\n",
      "126s - loss: 1.6465 - dense_2_loss: 0.0027 - dense_3_loss: 0.0889 - dense_4_loss: 0.4349 - dense_5_loss: 0.5343 - dense_6_loss: 0.5857 - dense_2_acc: 0.9996 - dense_3_acc: 0.9740 - dense_4_acc: 0.8633 - dense_5_acc: 0.8351 - dense_6_acc: 0.8148 - val_loss: 1.0533 - val_dense_2_loss: 0.0015 - val_dense_3_loss: 0.0283 - val_dense_4_loss: 0.1782 - val_dense_5_loss: 0.3929 - val_dense_6_loss: 0.4523 - val_dense_2_acc: 0.9998 - val_dense_3_acc: 0.9928 - val_dense_4_acc: 0.9491 - val_dense_5_acc: 0.8872 - val_dense_6_acc: 0.8608\n",
      "Epoch 16/50\n",
      "109s - loss: 1.6123 - dense_2_loss: 0.0024 - dense_3_loss: 0.0860 - dense_4_loss: 0.4263 - dense_5_loss: 0.5186 - dense_6_loss: 0.5791 - dense_2_acc: 0.9996 - dense_3_acc: 0.9754 - dense_4_acc: 0.8659 - dense_5_acc: 0.8396 - dense_6_acc: 0.8171 - val_loss: 0.9864 - val_dense_2_loss: 0.0013 - val_dense_3_loss: 0.0177 - val_dense_4_loss: 0.1466 - val_dense_5_loss: 0.3686 - val_dense_6_loss: 0.4521 - val_dense_2_acc: 0.9998 - val_dense_3_acc: 0.9954 - val_dense_4_acc: 0.9579 - val_dense_5_acc: 0.8938 - val_dense_6_acc: 0.8578\n",
      "Epoch 17/50\n",
      "104s - loss: 1.5701 - dense_2_loss: 0.0028 - dense_3_loss: 0.0851 - dense_4_loss: 0.4124 - dense_5_loss: 0.5095 - dense_6_loss: 0.5604 - dense_2_acc: 0.9996 - dense_3_acc: 0.9759 - dense_4_acc: 0.8706 - dense_5_acc: 0.8424 - dense_6_acc: 0.8215 - val_loss: 0.9698 - val_dense_2_loss: 0.0013 - val_dense_3_loss: 0.0191 - val_dense_4_loss: 0.1461 - val_dense_5_loss: 0.3702 - val_dense_6_loss: 0.4332 - val_dense_2_acc: 0.9998 - val_dense_3_acc: 0.9945 - val_dense_4_acc: 0.9577 - val_dense_5_acc: 0.8913 - val_dense_6_acc: 0.8661\n",
      "Epoch 18/50\n",
      "101s - loss: 1.5366 - dense_2_loss: 0.0024 - dense_3_loss: 0.0839 - dense_4_loss: 0.4015 - dense_5_loss: 0.5003 - dense_6_loss: 0.5485 - dense_2_acc: 0.9996 - dense_3_acc: 0.9759 - dense_4_acc: 0.8739 - dense_5_acc: 0.8462 - dense_6_acc: 0.8288 - val_loss: 0.9588 - val_dense_2_loss: 0.0013 - val_dense_3_loss: 0.0175 - val_dense_4_loss: 0.1462 - val_dense_5_loss: 0.3614 - val_dense_6_loss: 0.4324 - val_dense_2_acc: 0.9998 - val_dense_3_acc: 0.9952 - val_dense_4_acc: 0.9577 - val_dense_5_acc: 0.8942 - val_dense_6_acc: 0.8648\n",
      "Epoch 19/50\n",
      "105s - loss: 1.5062 - dense_2_loss: 0.0023 - dense_3_loss: 0.0840 - dense_4_loss: 0.3980 - dense_5_loss: 0.4863 - dense_6_loss: 0.5357 - dense_2_acc: 0.9996 - dense_3_acc: 0.9762 - dense_4_acc: 0.8772 - dense_5_acc: 0.8502 - dense_6_acc: 0.8302 - val_loss: 0.9541 - val_dense_2_loss: 0.0014 - val_dense_3_loss: 0.0199 - val_dense_4_loss: 0.1489 - val_dense_5_loss: 0.3599 - val_dense_6_loss: 0.4240 - val_dense_2_acc: 0.9998 - val_dense_3_acc: 0.9949 - val_dense_4_acc: 0.9568 - val_dense_5_acc: 0.8972 - val_dense_6_acc: 0.8692\n",
      "Epoch 20/50\n",
      "130s - loss: 1.4922 - dense_2_loss: 0.0025 - dense_3_loss: 0.0805 - dense_4_loss: 0.3914 - dense_5_loss: 0.4790 - dense_6_loss: 0.5388 - dense_2_acc: 0.9996 - dense_3_acc: 0.9765 - dense_4_acc: 0.8779 - dense_5_acc: 0.8529 - dense_6_acc: 0.8324 - val_loss: 0.9385 - val_dense_2_loss: 0.0013 - val_dense_3_loss: 0.0204 - val_dense_4_loss: 0.1488 - val_dense_5_loss: 0.3496 - val_dense_6_loss: 0.4185 - val_dense_2_acc: 0.9998 - val_dense_3_acc: 0.9938 - val_dense_4_acc: 0.9562 - val_dense_5_acc: 0.8975 - val_dense_6_acc: 0.8712\n",
      "Epoch 21/50\n",
      "112s - loss: 1.4544 - dense_2_loss: 0.0022 - dense_3_loss: 0.0804 - dense_4_loss: 0.3743 - dense_5_loss: 0.4724 - dense_6_loss: 0.5251 - dense_2_acc: 0.9996 - dense_3_acc: 0.9767 - dense_4_acc: 0.8846 - dense_5_acc: 0.8553 - dense_6_acc: 0.8363 - val_loss: 0.9029 - val_dense_2_loss: 0.0013 - val_dense_3_loss: 0.0175 - val_dense_4_loss: 0.1351 - val_dense_5_loss: 0.3499 - val_dense_6_loss: 0.3991 - val_dense_2_acc: 0.9998 - val_dense_3_acc: 0.9950 - val_dense_4_acc: 0.9624 - val_dense_5_acc: 0.9037 - val_dense_6_acc: 0.8782\n",
      "Epoch 22/50\n",
      "108s - loss: 1.4328 - dense_2_loss: 0.0025 - dense_3_loss: 0.0794 - dense_4_loss: 0.3712 - dense_5_loss: 0.4647 - dense_6_loss: 0.5149 - dense_2_acc: 0.9996 - dense_3_acc: 0.9777 - dense_4_acc: 0.8841 - dense_5_acc: 0.8577 - dense_6_acc: 0.8399 - val_loss: 0.9712 - val_dense_2_loss: 0.0014 - val_dense_3_loss: 0.0217 - val_dense_4_loss: 0.1596 - val_dense_5_loss: 0.3724 - val_dense_6_loss: 0.4160 - val_dense_2_acc: 0.9998 - val_dense_3_acc: 0.9940 - val_dense_4_acc: 0.9541 - val_dense_5_acc: 0.8956 - val_dense_6_acc: 0.8701\n",
      "Epoch 23/50\n",
      "107s - loss: 1.4169 - dense_2_loss: 0.0024 - dense_3_loss: 0.0808 - dense_4_loss: 0.3711 - dense_5_loss: 0.4557 - dense_6_loss: 0.5070 - dense_2_acc: 0.9996 - dense_3_acc: 0.9768 - dense_4_acc: 0.8854 - dense_5_acc: 0.8599 - dense_6_acc: 0.8435 - val_loss: 0.9193 - val_dense_2_loss: 0.0014 - val_dense_3_loss: 0.0225 - val_dense_4_loss: 0.1507 - val_dense_5_loss: 0.3485 - val_dense_6_loss: 0.3962 - val_dense_2_acc: 0.9998 - val_dense_3_acc: 0.9940 - val_dense_4_acc: 0.9567 - val_dense_5_acc: 0.8995 - val_dense_6_acc: 0.8792\n",
      "Epoch 24/50\n",
      "123s - loss: 1.3827 - dense_2_loss: 0.0022 - dense_3_loss: 0.0782 - dense_4_loss: 0.3608 - dense_5_loss: 0.4425 - dense_6_loss: 0.4990 - dense_2_acc: 0.9996 - dense_3_acc: 0.9780 - dense_4_acc: 0.8884 - dense_5_acc: 0.8643 - dense_6_acc: 0.8453 - val_loss: 0.8827 - val_dense_2_loss: 0.0013 - val_dense_3_loss: 0.0173 - val_dense_4_loss: 0.1353 - val_dense_5_loss: 0.3343 - val_dense_6_loss: 0.3945 - val_dense_2_acc: 0.9998 - val_dense_3_acc: 0.9949 - val_dense_4_acc: 0.9606 - val_dense_5_acc: 0.9002 - val_dense_6_acc: 0.8772\n",
      "Epoch 25/50\n",
      "116s - loss: 1.3696 - dense_2_loss: 0.0025 - dense_3_loss: 0.0793 - dense_4_loss: 0.3496 - dense_5_loss: 0.4411 - dense_6_loss: 0.4971 - dense_2_acc: 0.9996 - dense_3_acc: 0.9769 - dense_4_acc: 0.8916 - dense_5_acc: 0.8667 - dense_6_acc: 0.8453 - val_loss: 0.8777 - val_dense_2_loss: 0.0012 - val_dense_3_loss: 0.0174 - val_dense_4_loss: 0.1398 - val_dense_5_loss: 0.3372 - val_dense_6_loss: 0.3821 - val_dense_2_acc: 0.9998 - val_dense_3_acc: 0.9950 - val_dense_4_acc: 0.9614 - val_dense_5_acc: 0.9049 - val_dense_6_acc: 0.8812\n",
      "Epoch 26/50\n",
      "106s - loss: 1.3543 - dense_2_loss: 0.0024 - dense_3_loss: 0.0770 - dense_4_loss: 0.3459 - dense_5_loss: 0.4353 - dense_6_loss: 0.4936 - dense_2_acc: 0.9996 - dense_3_acc: 0.9788 - dense_4_acc: 0.8931 - dense_5_acc: 0.8677 - dense_6_acc: 0.8463 - val_loss: 0.8930 - val_dense_2_loss: 0.0011 - val_dense_3_loss: 0.0158 - val_dense_4_loss: 0.1305 - val_dense_5_loss: 0.3399 - val_dense_6_loss: 0.4056 - val_dense_2_acc: 0.9998 - val_dense_3_acc: 0.9955 - val_dense_4_acc: 0.9636 - val_dense_5_acc: 0.9021 - val_dense_6_acc: 0.8767\n",
      "Epoch 27/50\n",
      "105s - loss: 1.3510 - dense_2_loss: 0.0025 - dense_3_loss: 0.0787 - dense_4_loss: 0.3481 - dense_5_loss: 0.4366 - dense_6_loss: 0.4852 - dense_2_acc: 0.9996 - dense_3_acc: 0.9781 - dense_4_acc: 0.8925 - dense_5_acc: 0.8661 - dense_6_acc: 0.8499 - val_loss: 0.8981 - val_dense_2_loss: 0.0011 - val_dense_3_loss: 0.0179 - val_dense_4_loss: 0.1390 - val_dense_5_loss: 0.3401 - val_dense_6_loss: 0.4000 - val_dense_2_acc: 0.9998 - val_dense_3_acc: 0.9950 - val_dense_4_acc: 0.9605 - val_dense_5_acc: 0.9001 - val_dense_6_acc: 0.8774\n",
      "Epoch 28/50\n",
      "106s - loss: 1.3189 - dense_2_loss: 0.0023 - dense_3_loss: 0.0751 - dense_4_loss: 0.3382 - dense_5_loss: 0.4225 - dense_6_loss: 0.4808 - dense_2_acc: 0.9996 - dense_3_acc: 0.9787 - dense_4_acc: 0.8953 - dense_5_acc: 0.8709 - dense_6_acc: 0.8509 - val_loss: 0.8610 - val_dense_2_loss: 0.0010 - val_dense_3_loss: 0.0180 - val_dense_4_loss: 0.1357 - val_dense_5_loss: 0.3217 - val_dense_6_loss: 0.3845 - val_dense_2_acc: 0.9998 - val_dense_3_acc: 0.9948 - val_dense_4_acc: 0.9606 - val_dense_5_acc: 0.9109 - val_dense_6_acc: 0.8832\n",
      "Epoch 29/50\n",
      "110s - loss: 1.2972 - dense_2_loss: 0.0021 - dense_3_loss: 0.0730 - dense_4_loss: 0.3337 - dense_5_loss: 0.4196 - dense_6_loss: 0.4688 - dense_2_acc: 0.9996 - dense_3_acc: 0.9791 - dense_4_acc: 0.8979 - dense_5_acc: 0.8726 - dense_6_acc: 0.8548 - val_loss: 0.9021 - val_dense_2_loss: 0.0013 - val_dense_3_loss: 0.0190 - val_dense_4_loss: 0.1479 - val_dense_5_loss: 0.3391 - val_dense_6_loss: 0.3948 - val_dense_2_acc: 0.9998 - val_dense_3_acc: 0.9943 - val_dense_4_acc: 0.9585 - val_dense_5_acc: 0.9040 - val_dense_6_acc: 0.8775\n",
      "Epoch 30/50\n",
      "111s - loss: 1.2974 - dense_2_loss: 0.0022 - dense_3_loss: 0.0738 - dense_4_loss: 0.3304 - dense_5_loss: 0.4187 - dense_6_loss: 0.4724 - dense_2_acc: 0.9996 - dense_3_acc: 0.9786 - dense_4_acc: 0.8998 - dense_5_acc: 0.8723 - dense_6_acc: 0.8541 - val_loss: 0.8637 - val_dense_2_loss: 0.0011 - val_dense_3_loss: 0.0196 - val_dense_4_loss: 0.1392 - val_dense_5_loss: 0.3232 - val_dense_6_loss: 0.3807 - val_dense_2_acc: 0.9998 - val_dense_3_acc: 0.9947 - val_dense_4_acc: 0.9613 - val_dense_5_acc: 0.9093 - val_dense_6_acc: 0.8829\n",
      "Epoch 31/50\n",
      "109s - loss: 1.2838 - dense_2_loss: 0.0027 - dense_3_loss: 0.0746 - dense_4_loss: 0.3262 - dense_5_loss: 0.4134 - dense_6_loss: 0.4670 - dense_2_acc: 0.9996 - dense_3_acc: 0.9786 - dense_4_acc: 0.9011 - dense_5_acc: 0.8741 - dense_6_acc: 0.8556 - val_loss: 0.8410 - val_dense_2_loss: 0.0013 - val_dense_3_loss: 0.0184 - val_dense_4_loss: 0.1377 - val_dense_5_loss: 0.3214 - val_dense_6_loss: 0.3622 - val_dense_2_acc: 0.9998 - val_dense_3_acc: 0.9944 - val_dense_4_acc: 0.9627 - val_dense_5_acc: 0.9111 - val_dense_6_acc: 0.8898\n",
      "Epoch 32/50\n",
      "105s - loss: 1.2692 - dense_2_loss: 0.0020 - dense_3_loss: 0.0733 - dense_4_loss: 0.3233 - dense_5_loss: 0.4091 - dense_6_loss: 0.4615 - dense_2_acc: 0.9996 - dense_3_acc: 0.9789 - dense_4_acc: 0.9011 - dense_5_acc: 0.8767 - dense_6_acc: 0.8579 - val_loss: 0.8770 - val_dense_2_loss: 0.0011 - val_dense_3_loss: 0.0161 - val_dense_4_loss: 0.1327 - val_dense_5_loss: 0.3381 - val_dense_6_loss: 0.3891 - val_dense_2_acc: 0.9998 - val_dense_3_acc: 0.9953 - val_dense_4_acc: 0.9641 - val_dense_5_acc: 0.9028 - val_dense_6_acc: 0.8828\n",
      "Epoch 33/50\n",
      "103s - loss: 1.2510 - dense_2_loss: 0.0023 - dense_3_loss: 0.0746 - dense_4_loss: 0.3177 - dense_5_loss: 0.4044 - dense_6_loss: 0.4520 - dense_2_acc: 0.9996 - dense_3_acc: 0.9792 - dense_4_acc: 0.9026 - dense_5_acc: 0.8783 - dense_6_acc: 0.8605 - val_loss: 0.8120 - val_dense_2_loss: 0.0012 - val_dense_3_loss: 0.0180 - val_dense_4_loss: 0.1288 - val_dense_5_loss: 0.3064 - val_dense_6_loss: 0.3577 - val_dense_2_acc: 0.9998 - val_dense_3_acc: 0.9951 - val_dense_4_acc: 0.9648 - val_dense_5_acc: 0.9123 - val_dense_6_acc: 0.8923\n",
      "Epoch 34/50\n",
      "102s - loss: 1.2469 - dense_2_loss: 0.0023 - dense_3_loss: 0.0711 - dense_4_loss: 0.3134 - dense_5_loss: 0.4039 - dense_6_loss: 0.4562 - dense_2_acc: 0.9996 - dense_3_acc: 0.9794 - dense_4_acc: 0.9047 - dense_5_acc: 0.8788 - dense_6_acc: 0.8592 - val_loss: 0.8236 - val_dense_2_loss: 0.0011 - val_dense_3_loss: 0.0177 - val_dense_4_loss: 0.1263 - val_dense_5_loss: 0.3145 - val_dense_6_loss: 0.3640 - val_dense_2_acc: 0.9998 - val_dense_3_acc: 0.9949 - val_dense_4_acc: 0.9646 - val_dense_5_acc: 0.9113 - val_dense_6_acc: 0.8903\n",
      "Epoch 35/50\n",
      "98s - loss: 1.2487 - dense_2_loss: 0.0019 - dense_3_loss: 0.0723 - dense_4_loss: 0.3171 - dense_5_loss: 0.4000 - dense_6_loss: 0.4574 - dense_2_acc: 0.9996 - dense_3_acc: 0.9794 - dense_4_acc: 0.9048 - dense_5_acc: 0.8778 - dense_6_acc: 0.8598 - val_loss: 0.8306 - val_dense_2_loss: 8.5431e-04 - val_dense_3_loss: 0.0167 - val_dense_4_loss: 0.1249 - val_dense_5_loss: 0.3141 - val_dense_6_loss: 0.3742 - val_dense_2_acc: 0.9998 - val_dense_3_acc: 0.9948 - val_dense_4_acc: 0.9671 - val_dense_5_acc: 0.9102 - val_dense_6_acc: 0.8827\n",
      "Epoch 36/50\n",
      "103s - loss: 1.2216 - dense_2_loss: 0.0019 - dense_3_loss: 0.0702 - dense_4_loss: 0.3066 - dense_5_loss: 0.3945 - dense_6_loss: 0.4484 - dense_2_acc: 0.9996 - dense_3_acc: 0.9799 - dense_4_acc: 0.9079 - dense_5_acc: 0.8802 - dense_6_acc: 0.8613 - val_loss: 0.8375 - val_dense_2_loss: 0.0013 - val_dense_3_loss: 0.0179 - val_dense_4_loss: 0.1323 - val_dense_5_loss: 0.3191 - val_dense_6_loss: 0.3671 - val_dense_2_acc: 0.9998 - val_dense_3_acc: 0.9942 - val_dense_4_acc: 0.9627 - val_dense_5_acc: 0.9089 - val_dense_6_acc: 0.8891\n",
      "Epoch 37/50\n",
      "104s - loss: 1.2145 - dense_2_loss: 0.0021 - dense_3_loss: 0.0715 - dense_4_loss: 0.3042 - dense_5_loss: 0.3929 - dense_6_loss: 0.4439 - dense_2_acc: 0.9996 - dense_3_acc: 0.9794 - dense_4_acc: 0.9073 - dense_5_acc: 0.8812 - dense_6_acc: 0.8621 - val_loss: 0.8202 - val_dense_2_loss: 0.0014 - val_dense_3_loss: 0.0186 - val_dense_4_loss: 0.1314 - val_dense_5_loss: 0.3116 - val_dense_6_loss: 0.3572 - val_dense_2_acc: 0.9998 - val_dense_3_acc: 0.9947 - val_dense_4_acc: 0.9639 - val_dense_5_acc: 0.9117 - val_dense_6_acc: 0.8927\n",
      "Epoch 38/50\n",
      "113s - loss: 1.2097 - dense_2_loss: 0.0020 - dense_3_loss: 0.0725 - dense_4_loss: 0.3055 - dense_5_loss: 0.3894 - dense_6_loss: 0.4403 - dense_2_acc: 0.9995 - dense_3_acc: 0.9796 - dense_4_acc: 0.9073 - dense_5_acc: 0.8835 - dense_6_acc: 0.8651 - val_loss: 0.9055 - val_dense_2_loss: 0.0015 - val_dense_3_loss: 0.0240 - val_dense_4_loss: 0.1596 - val_dense_5_loss: 0.3354 - val_dense_6_loss: 0.3850 - val_dense_2_acc: 0.9998 - val_dense_3_acc: 0.9927 - val_dense_4_acc: 0.9546 - val_dense_5_acc: 0.9045 - val_dense_6_acc: 0.8835\n",
      "Epoch 39/50\n",
      "107s - loss: 1.2014 - dense_2_loss: 0.0022 - dense_3_loss: 0.0690 - dense_4_loss: 0.2958 - dense_5_loss: 0.3923 - dense_6_loss: 0.4420 - dense_2_acc: 0.9995 - dense_3_acc: 0.9801 - dense_4_acc: 0.9104 - dense_5_acc: 0.8808 - dense_6_acc: 0.8643 - val_loss: 0.8864 - val_dense_2_loss: 0.0015 - val_dense_3_loss: 0.0260 - val_dense_4_loss: 0.1559 - val_dense_5_loss: 0.3318 - val_dense_6_loss: 0.3711 - val_dense_2_acc: 0.9998 - val_dense_3_acc: 0.9915 - val_dense_4_acc: 0.9556 - val_dense_5_acc: 0.9074 - val_dense_6_acc: 0.8869\n",
      "Epoch 40/50\n",
      "99s - loss: 1.1804 - dense_2_loss: 0.0020 - dense_3_loss: 0.0709 - dense_4_loss: 0.2964 - dense_5_loss: 0.3778 - dense_6_loss: 0.4332 - dense_2_acc: 0.9996 - dense_3_acc: 0.9802 - dense_4_acc: 0.9094 - dense_5_acc: 0.8851 - dense_6_acc: 0.8669 - val_loss: 0.8417 - val_dense_2_loss: 0.0015 - val_dense_3_loss: 0.0196 - val_dense_4_loss: 0.1520 - val_dense_5_loss: 0.3206 - val_dense_6_loss: 0.3480 - val_dense_2_acc: 0.9998 - val_dense_3_acc: 0.9941 - val_dense_4_acc: 0.9569 - val_dense_5_acc: 0.9105 - val_dense_6_acc: 0.8962\n",
      "Epoch 41/50\n",
      "95s - loss: 1.1828 - dense_2_loss: 0.0016 - dense_3_loss: 0.0686 - dense_4_loss: 0.2945 - dense_5_loss: 0.3825 - dense_6_loss: 0.4356 - dense_2_acc: 0.9996 - dense_3_acc: 0.9806 - dense_4_acc: 0.9112 - dense_5_acc: 0.8857 - dense_6_acc: 0.8678 - val_loss: 0.8743 - val_dense_2_loss: 0.0015 - val_dense_3_loss: 0.0270 - val_dense_4_loss: 0.1521 - val_dense_5_loss: 0.3289 - val_dense_6_loss: 0.3648 - val_dense_2_acc: 0.9998 - val_dense_3_acc: 0.9920 - val_dense_4_acc: 0.9560 - val_dense_5_acc: 0.9075 - val_dense_6_acc: 0.8928\n",
      "Epoch 42/50\n",
      "110s - loss: 1.1730 - dense_2_loss: 0.0024 - dense_3_loss: 0.0658 - dense_4_loss: 0.2926 - dense_5_loss: 0.3753 - dense_6_loss: 0.4368 - dense_2_acc: 0.9996 - dense_3_acc: 0.9814 - dense_4_acc: 0.9107 - dense_5_acc: 0.8871 - dense_6_acc: 0.8673 - val_loss: 0.8229 - val_dense_2_loss: 9.6179e-04 - val_dense_3_loss: 0.0196 - val_dense_4_loss: 0.1392 - val_dense_5_loss: 0.3098 - val_dense_6_loss: 0.3533 - val_dense_2_acc: 0.9998 - val_dense_3_acc: 0.9942 - val_dense_4_acc: 0.9617 - val_dense_5_acc: 0.9116 - val_dense_6_acc: 0.8955\n",
      "Epoch 43/50\n",
      "129s - loss: 1.1626 - dense_2_loss: 0.0022 - dense_3_loss: 0.0692 - dense_4_loss: 0.2868 - dense_5_loss: 0.3770 - dense_6_loss: 0.4275 - dense_2_acc: 0.9996 - dense_3_acc: 0.9799 - dense_4_acc: 0.9124 - dense_5_acc: 0.8865 - dense_6_acc: 0.8683 - val_loss: 0.8470 - val_dense_2_loss: 0.0012 - val_dense_3_loss: 0.0183 - val_dense_4_loss: 0.1314 - val_dense_5_loss: 0.3159 - val_dense_6_loss: 0.3802 - val_dense_2_acc: 0.9998 - val_dense_3_acc: 0.9945 - val_dense_4_acc: 0.9640 - val_dense_5_acc: 0.9130 - val_dense_6_acc: 0.8844\n",
      "Epoch 44/50\n",
      "128s - loss: 1.1611 - dense_2_loss: 0.0023 - dense_3_loss: 0.0668 - dense_4_loss: 0.2896 - dense_5_loss: 0.3763 - dense_6_loss: 0.4261 - dense_2_acc: 0.9996 - dense_3_acc: 0.9808 - dense_4_acc: 0.9120 - dense_5_acc: 0.8855 - dense_6_acc: 0.8686 - val_loss: 0.8007 - val_dense_2_loss: 0.0014 - val_dense_3_loss: 0.0151 - val_dense_4_loss: 0.1236 - val_dense_5_loss: 0.3010 - val_dense_6_loss: 0.3596 - val_dense_2_acc: 0.9998 - val_dense_3_acc: 0.9958 - val_dense_4_acc: 0.9663 - val_dense_5_acc: 0.9173 - val_dense_6_acc: 0.8928\n",
      "Epoch 45/50\n",
      "130s - loss: 1.1449 - dense_2_loss: 0.0019 - dense_3_loss: 0.0641 - dense_4_loss: 0.2838 - dense_5_loss: 0.3701 - dense_6_loss: 0.4249 - dense_2_acc: 0.9996 - dense_3_acc: 0.9812 - dense_4_acc: 0.9132 - dense_5_acc: 0.8878 - dense_6_acc: 0.8695 - val_loss: 0.8455 - val_dense_2_loss: 0.0013 - val_dense_3_loss: 0.0258 - val_dense_4_loss: 0.1517 - val_dense_5_loss: 0.3150 - val_dense_6_loss: 0.3517 - val_dense_2_acc: 0.9998 - val_dense_3_acc: 0.9925 - val_dense_4_acc: 0.9568 - val_dense_5_acc: 0.9118 - val_dense_6_acc: 0.8938\n",
      "Epoch 46/50\n",
      "115s - loss: 1.1439 - dense_2_loss: 0.0018 - dense_3_loss: 0.0681 - dense_4_loss: 0.2827 - dense_5_loss: 0.3691 - dense_6_loss: 0.4222 - dense_2_acc: 0.9996 - dense_3_acc: 0.9803 - dense_4_acc: 0.9138 - dense_5_acc: 0.8886 - dense_6_acc: 0.8708 - val_loss: 0.7800 - val_dense_2_loss: 0.0011 - val_dense_3_loss: 0.0148 - val_dense_4_loss: 0.1212 - val_dense_5_loss: 0.3001 - val_dense_6_loss: 0.3427 - val_dense_2_acc: 0.9998 - val_dense_3_acc: 0.9954 - val_dense_4_acc: 0.9671 - val_dense_5_acc: 0.9202 - val_dense_6_acc: 0.8971\n",
      "Epoch 47/50\n",
      "122s - loss: 1.1427 - dense_2_loss: 0.0026 - dense_3_loss: 0.0678 - dense_4_loss: 0.2821 - dense_5_loss: 0.3687 - dense_6_loss: 0.4213 - dense_2_acc: 0.9996 - dense_3_acc: 0.9806 - dense_4_acc: 0.9149 - dense_5_acc: 0.8904 - dense_6_acc: 0.8722 - val_loss: 0.8226 - val_dense_2_loss: 0.0013 - val_dense_3_loss: 0.0238 - val_dense_4_loss: 0.1379 - val_dense_5_loss: 0.3049 - val_dense_6_loss: 0.3547 - val_dense_2_acc: 0.9998 - val_dense_3_acc: 0.9927 - val_dense_4_acc: 0.9620 - val_dense_5_acc: 0.9157 - val_dense_6_acc: 0.8948\n",
      "Epoch 48/50\n",
      "113s - loss: 1.1358 - dense_2_loss: 0.0021 - dense_3_loss: 0.0651 - dense_4_loss: 0.2805 - dense_5_loss: 0.3677 - dense_6_loss: 0.4204 - dense_2_acc: 0.9995 - dense_3_acc: 0.9817 - dense_4_acc: 0.9158 - dense_5_acc: 0.8898 - dense_6_acc: 0.8708 - val_loss: 0.8115 - val_dense_2_loss: 0.0012 - val_dense_3_loss: 0.0170 - val_dense_4_loss: 0.1278 - val_dense_5_loss: 0.3008 - val_dense_6_loss: 0.3647 - val_dense_2_acc: 0.9998 - val_dense_3_acc: 0.9948 - val_dense_4_acc: 0.9644 - val_dense_5_acc: 0.9181 - val_dense_6_acc: 0.8916\n",
      "Epoch 49/50\n",
      "107s - loss: 1.1256 - dense_2_loss: 0.0023 - dense_3_loss: 0.0638 - dense_4_loss: 0.2812 - dense_5_loss: 0.3611 - dense_6_loss: 0.4172 - dense_2_acc: 0.9995 - dense_3_acc: 0.9818 - dense_4_acc: 0.9155 - dense_5_acc: 0.8912 - dense_6_acc: 0.8729 - val_loss: 0.8059 - val_dense_2_loss: 0.0013 - val_dense_3_loss: 0.0201 - val_dense_4_loss: 0.1404 - val_dense_5_loss: 0.3040 - val_dense_6_loss: 0.3400 - val_dense_2_acc: 0.9998 - val_dense_3_acc: 0.9941 - val_dense_4_acc: 0.9604 - val_dense_5_acc: 0.9163 - val_dense_6_acc: 0.9004\n",
      "Epoch 50/50\n",
      "101s - loss: 1.1268 - dense_2_loss: 0.0021 - dense_3_loss: 0.0660 - dense_4_loss: 0.2760 - dense_5_loss: 0.3655 - dense_6_loss: 0.4174 - dense_2_acc: 0.9996 - dense_3_acc: 0.9806 - dense_4_acc: 0.9153 - dense_5_acc: 0.8899 - dense_6_acc: 0.8723 - val_loss: 0.7720 - val_dense_2_loss: 0.0012 - val_dense_3_loss: 0.0166 - val_dense_4_loss: 0.1279 - val_dense_5_loss: 0.2826 - val_dense_6_loss: 0.3438 - val_dense_2_acc: 0.9998 - val_dense_3_acc: 0.9952 - val_dense_4_acc: 0.9652 - val_dense_5_acc: 0.9228 - val_dense_6_acc: 0.8973\n"
     ]
    }
   ],
   "source": [
    "hide_code\n",
    "cnn_model = cnn_model()\n",
    "\n",
    "history1 = cnn_model.fit(X_train, y_train_cat_list, validation_data=(X_test, y_test_cat_list), \n",
    "                         epochs=50, batch_size=128, verbose=2)"
   ]
  },
  {
   "cell_type": "code",
   "execution_count": 27,
   "metadata": {
    "collapsed": false
   },
   "outputs": [
    {
     "name": "stdout",
     "output_type": "stream",
     "text": [
      "CNN Model 1. Scores: \n",
      " [0.77204345868031188, 0.0011618133640643388, 0.016621892407115715, 0.12785550048202277, 0.28263009973367054, 0.34377415227890012, 0.99983333333333335, 0.99516666666666664, 0.96525000000000005, 0.92283333333333328, 0.89733333333333332]\n",
      "CNN Model 1. First digit. CNN Accuracy: 99.98%\n",
      "CNN Model 1. Second digit. CNN Accuracy: 99.52%\n",
      "CNN Model 1. Third digit. CNN Accuracy: 96.53%\n",
      "CNN Model 1. Fourth digit. CNN Accuracy: 92.28%\n",
      "CNN Model 1. Fifth digit. CNN Accuracy: 89.73%\n",
      "____________________________________________________________________________________________________\n",
      "Layer (type)                     Output Shape          Param #     Connected to                     \n",
      "====================================================================================================\n",
      "input_1 (InputLayer)             (None, 32, 32, 1)     0                                            \n",
      "____________________________________________________________________________________________________\n",
      "conv2d_1 (Conv2D)                (None, 32, 32, 32)    320         input_1[0][0]                    \n",
      "____________________________________________________________________________________________________\n",
      "max_pooling2d_1 (MaxPooling2D)   (None, 16, 16, 32)    0           conv2d_1[0][0]                   \n",
      "____________________________________________________________________________________________________\n",
      "conv2d_2 (Conv2D)                (None, 14, 14, 32)    9248        max_pooling2d_1[0][0]            \n",
      "____________________________________________________________________________________________________\n",
      "max_pooling2d_2 (MaxPooling2D)   (None, 7, 7, 32)      0           conv2d_2[0][0]                   \n",
      "____________________________________________________________________________________________________\n",
      "dropout_1 (Dropout)              (None, 7, 7, 32)      0           max_pooling2d_2[0][0]            \n",
      "____________________________________________________________________________________________________\n",
      "conv2d_3 (Conv2D)                (None, 5, 5, 64)      18496       dropout_1[0][0]                  \n",
      "____________________________________________________________________________________________________\n",
      "conv2d_4 (Conv2D)                (None, 3, 3, 64)      36928       conv2d_3[0][0]                   \n",
      "____________________________________________________________________________________________________\n",
      "dropout_2 (Dropout)              (None, 3, 3, 64)      0           conv2d_4[0][0]                   \n",
      "____________________________________________________________________________________________________\n",
      "conv2d_5 (Conv2D)                (None, 1, 1, 128)     73856       dropout_2[0][0]                  \n",
      "____________________________________________________________________________________________________\n",
      "dropout_3 (Dropout)              (None, 1, 1, 128)     0           conv2d_5[0][0]                   \n",
      "____________________________________________________________________________________________________\n",
      "flatten_1 (Flatten)              (None, 128)           0           dropout_3[0][0]                  \n",
      "____________________________________________________________________________________________________\n",
      "dense_1 (Dense)                  (None, 512)           66048       flatten_1[0][0]                  \n",
      "____________________________________________________________________________________________________\n",
      "dropout_4 (Dropout)              (None, 512)           0           dense_1[0][0]                    \n",
      "____________________________________________________________________________________________________\n",
      "dense_2 (Dense)                  (None, 11)            5643        dropout_4[0][0]                  \n",
      "____________________________________________________________________________________________________\n",
      "dense_3 (Dense)                  (None, 11)            5643        dropout_4[0][0]                  \n",
      "____________________________________________________________________________________________________\n",
      "dense_4 (Dense)                  (None, 11)            5643        dropout_4[0][0]                  \n",
      "____________________________________________________________________________________________________\n",
      "dense_5 (Dense)                  (None, 11)            5643        dropout_4[0][0]                  \n",
      "____________________________________________________________________________________________________\n",
      "dense_6 (Dense)                  (None, 11)            5643        dropout_4[0][0]                  \n",
      "====================================================================================================\n",
      "Total params: 233,111\n",
      "Trainable params: 233,111\n",
      "Non-trainable params: 0\n",
      "____________________________________________________________________________________________________\n",
      "None\n"
     ]
    }
   ],
   "source": [
    "hide_code\n",
    "cnn_scores = cnn_model.evaluate(X_test, y_test_cat_list, verbose=0)\n",
    "\n",
    "print(\"CNN Model 1. Scores: \\n\" , (cnn_scores))\n",
    "print(\"CNN Model 1. First digit. CNN Accuracy: %.2f%%\" % (cnn_scores[6]*100))\n",
    "print(\"CNN Model 1. Second digit. CNN Accuracy: %.2f%%\" % (cnn_scores[7]*100))\n",
    "print(\"CNN Model 1. Third digit. CNN Accuracy: %.2f%%\" % (cnn_scores[8]*100))\n",
    "print(\"CNN Model 1. Fourth digit. CNN Accuracy: %.2f%%\" % (cnn_scores[9]*100))\n",
    "print(\"CNN Model 1. Fifth digit. CNN Accuracy: %.2f%%\" % (cnn_scores[10]*100))\n",
    "\n",
    "print(cnn_model.summary())"
   ]
  },
  {
   "cell_type": "code",
   "execution_count": 28,
   "metadata": {
    "collapsed": false
   },
   "outputs": [
    {
     "data": {
      "image/png": "[encoded data removed]",
      "text/plain": [
       "<matplotlib.figure.Figure at 0x15edb6b38>"
      ]
     },
     "metadata": {},
     "output_type": "display_data"
    }
   ],
   "source": [
    "hide_code\n",
    "plt.figure(figsize=(18, 4))\n",
    "\n",
    "plt.plot(history1.history['val_dense_2_acc'], label = 'First digit')\n",
    "plt.plot(history1.history['val_dense_3_acc'], label = 'Second digit')\n",
    "plt.plot(history1.history['val_dense_4_acc'], label = 'Third digit')\n",
    "plt.plot(history1.history['val_dense_5_acc'], label = 'Fourth digit')\n",
    "plt.plot(history1.history['val_dense_6_acc'], label = 'Fifth digit')\n",
    "\n",
    "plt.legend()\n",
    "plt.title('Accuracy');"
   ]
  },
  {
   "cell_type": "code",
   "execution_count": 29,
   "metadata": {
    "collapsed": false
   },
   "outputs": [
    {
     "name": "stdout",
     "output_type": "stream",
     "text": [
      "CNN Model 1. Average Accuracy: 95.61%\n"
     ]
    }
   ],
   "source": [
    "hide_code\n",
    "avg_accuracy = sum([cnn_scores[i] for i in range(6, 11)])/5\n",
    "\n",
    "print(\"CNN Model 1. Average Accuracy: %.2f%%\" % (avg_accuracy*100))"
   ]
  },
  {
   "cell_type": "code",
   "execution_count": 34,
   "metadata": {
    "collapsed": true
   },
   "outputs": [],
   "source": [
    "hide_code\n",
    "def cnn_model2():    \n",
    "    model_input = Input(shape=(32, 32, 1))  \n",
    "    \n",
    "    x = BatchNormalization()(model_input)\n",
    "        \n",
    "    x = Conv2D(32, (5, 5), activation='relu')(x)\n",
    "    x = MaxPooling2D(pool_size=(2, 2))(x)\n",
    "    \n",
    "    x = Dropout(0.25)(x)\n",
    "    \n",
    "    x = Conv2D(64, (5, 5), activation='relu')(x)\n",
    "    x = MaxPooling2D(pool_size=(2, 2))(x)\n",
    "    \n",
    "    x = Dropout(0.25)(x)\n",
    "              \n",
    "    x = Flatten()(x)\n",
    "    \n",
    "    x = Dense(256, activation='relu')(x)\n",
    "    x = Dropout(0.5)(x)\n",
    "    \n",
    "    y1 = Dense(11, activation='softmax')(x)\n",
    "    y2 = Dense(11, activation='softmax')(x)\n",
    "    y3 = Dense(11, activation='softmax')(x)\n",
    "    y4 = Dense(11, activation='softmax')(x)\n",
    "    y5 = Dense(11, activation='softmax')(x)\n",
    "    \n",
    "    model = Model(input=model_input, output=[y1, y2, y3, y4, y5])\n",
    "\n",
    "    model.compile(loss='categorical_crossentropy', optimizer='adam', metrics=['accuracy'])\n",
    "    return model"
   ]
  },
  {
   "cell_type": "code",
   "execution_count": 35,
   "metadata": {
    "collapsed": false
   },
   "outputs": [
    {
     "name": "stdout",
     "output_type": "stream",
     "text": [
      "Train on 52000 samples, validate on 12000 samples\n",
      "Epoch 1/75\n",
      "154s - loss: 4.8541 - dense_14_loss: 0.0313 - dense_15_loss: 0.2388 - dense_16_loss: 1.0507 - dense_17_loss: 1.7147 - dense_18_loss: 1.8185 - dense_14_acc: 0.9973 - dense_15_acc: 0.9421 - dense_16_acc: 0.6795 - dense_17_acc: 0.4175 - dense_18_acc: 0.3633 - val_loss: 2.4020 - val_dense_14_loss: 0.0024 - val_dense_15_loss: 0.0399 - val_dense_16_loss: 0.2985 - val_dense_17_loss: 0.9222 - val_dense_18_loss: 1.1390 - val_dense_14_acc: 0.9998 - val_dense_15_acc: 0.9907 - val_dense_16_acc: 0.9238 - val_dense_17_acc: 0.7421 - val_dense_18_acc: 0.6617\n",
      "Epoch 2/75\n",
      "149s - loss: 2.9997 - dense_14_loss: 0.0045 - dense_15_loss: 0.1497 - dense_16_loss: 0.6885 - dense_17_loss: 1.0196 - dense_18_loss: 1.1373 - dense_14_acc: 0.9996 - dense_15_acc: 0.9554 - dense_16_acc: 0.7855 - dense_17_acc: 0.6656 - dense_18_acc: 0.6192 - val_loss: 1.7951 - val_dense_14_loss: 0.0026 - val_dense_15_loss: 0.0337 - val_dense_16_loss: 0.2306 - val_dense_17_loss: 0.6709 - val_dense_18_loss: 0.8573 - val_dense_14_acc: 0.9998 - val_dense_15_acc: 0.9928 - val_dense_16_acc: 0.9362 - val_dense_17_acc: 0.8090 - val_dense_18_acc: 0.7530\n",
      "Epoch 3/75\n",
      "143s - loss: 2.5554 - dense_14_loss: 0.0040 - dense_15_loss: 0.1284 - dense_16_loss: 0.5987 - dense_17_loss: 0.8515 - dense_18_loss: 0.9728 - dense_14_acc: 0.9996 - dense_15_acc: 0.9620 - dense_16_acc: 0.8109 - dense_17_acc: 0.7263 - dense_18_acc: 0.6823 - val_loss: 1.5707 - val_dense_14_loss: 0.0020 - val_dense_15_loss: 0.0242 - val_dense_16_loss: 0.2009 - val_dense_17_loss: 0.5893 - val_dense_18_loss: 0.7544 - val_dense_14_acc: 0.9998 - val_dense_15_acc: 0.9940 - val_dense_16_acc: 0.9421 - val_dense_17_acc: 0.8276 - val_dense_18_acc: 0.7675\n",
      "Epoch 4/75\n",
      "141s - loss: 2.2973 - dense_14_loss: 0.0042 - dense_15_loss: 0.1170 - dense_16_loss: 0.5472 - dense_17_loss: 0.7577 - dense_18_loss: 0.8712 - dense_14_acc: 0.9996 - dense_15_acc: 0.9655 - dense_16_acc: 0.8285 - dense_17_acc: 0.7583 - dense_18_acc: 0.7152 - val_loss: 1.4956 - val_dense_14_loss: 0.0027 - val_dense_15_loss: 0.0274 - val_dense_16_loss: 0.2044 - val_dense_17_loss: 0.5444 - val_dense_18_loss: 0.7167 - val_dense_14_acc: 0.9998 - val_dense_15_acc: 0.9937 - val_dense_16_acc: 0.9447 - val_dense_17_acc: 0.8421 - val_dense_18_acc: 0.7865\n",
      "Epoch 5/75\n",
      "155s - loss: 2.1355 - dense_14_loss: 0.0041 - dense_15_loss: 0.1117 - dense_16_loss: 0.5149 - dense_17_loss: 0.6944 - dense_18_loss: 0.8103 - dense_14_acc: 0.9996 - dense_15_acc: 0.9663 - dense_16_acc: 0.8398 - dense_17_acc: 0.7802 - dense_18_acc: 0.7347 - val_loss: 1.4242 - val_dense_14_loss: 0.0030 - val_dense_15_loss: 0.0288 - val_dense_16_loss: 0.1955 - val_dense_17_loss: 0.5228 - val_dense_18_loss: 0.6742 - val_dense_14_acc: 0.9998 - val_dense_15_acc: 0.9946 - val_dense_16_acc: 0.9466 - val_dense_17_acc: 0.8498 - val_dense_18_acc: 0.7957\n",
      "Epoch 6/75\n",
      "141s - loss: 1.9988 - dense_14_loss: 0.0036 - dense_15_loss: 0.1034 - dense_16_loss: 0.4867 - dense_17_loss: 0.6457 - dense_18_loss: 0.7594 - dense_14_acc: 0.9996 - dense_15_acc: 0.9694 - dense_16_acc: 0.8486 - dense_17_acc: 0.7950 - dense_18_acc: 0.7528 - val_loss: 1.3039 - val_dense_14_loss: 0.0022 - val_dense_15_loss: 0.0232 - val_dense_16_loss: 0.1820 - val_dense_17_loss: 0.4821 - val_dense_18_loss: 0.6143 - val_dense_14_acc: 0.9998 - val_dense_15_acc: 0.9945 - val_dense_16_acc: 0.9472 - val_dense_17_acc: 0.8591 - val_dense_18_acc: 0.8152\n",
      "Epoch 7/75\n",
      "132s - loss: 1.8974 - dense_14_loss: 0.0036 - dense_15_loss: 0.0986 - dense_16_loss: 0.4600 - dense_17_loss: 0.6160 - dense_18_loss: 0.7192 - dense_14_acc: 0.9996 - dense_15_acc: 0.9708 - dense_16_acc: 0.8568 - dense_17_acc: 0.8077 - dense_18_acc: 0.7680 - val_loss: 1.2236 - val_dense_14_loss: 0.0019 - val_dense_15_loss: 0.0204 - val_dense_16_loss: 0.1675 - val_dense_17_loss: 0.4505 - val_dense_18_loss: 0.5834 - val_dense_14_acc: 0.9998 - val_dense_15_acc: 0.9945 - val_dense_16_acc: 0.9517 - val_dense_17_acc: 0.8717 - val_dense_18_acc: 0.8232\n",
      "Epoch 8/75\n",
      "132s - loss: 1.8139 - dense_14_loss: 0.0033 - dense_15_loss: 0.0997 - dense_16_loss: 0.4414 - dense_17_loss: 0.5838 - dense_18_loss: 0.6857 - dense_14_acc: 0.9996 - dense_15_acc: 0.9704 - dense_16_acc: 0.8610 - dense_17_acc: 0.8160 - dense_18_acc: 0.7774 - val_loss: 1.2318 - val_dense_14_loss: 0.0020 - val_dense_15_loss: 0.0223 - val_dense_16_loss: 0.1702 - val_dense_17_loss: 0.4517 - val_dense_18_loss: 0.5856 - val_dense_14_acc: 0.9998 - val_dense_15_acc: 0.9952 - val_dense_16_acc: 0.9522 - val_dense_17_acc: 0.8699 - val_dense_18_acc: 0.8238\n",
      "Epoch 9/75\n",
      "134s - loss: 1.7449 - dense_14_loss: 0.0031 - dense_15_loss: 0.0928 - dense_16_loss: 0.4230 - dense_17_loss: 0.5663 - dense_18_loss: 0.6597 - dense_14_acc: 0.9996 - dense_15_acc: 0.9725 - dense_16_acc: 0.8670 - dense_17_acc: 0.8217 - dense_18_acc: 0.7859 - val_loss: 1.1893 - val_dense_14_loss: 0.0018 - val_dense_15_loss: 0.0216 - val_dense_16_loss: 0.1678 - val_dense_17_loss: 0.4299 - val_dense_18_loss: 0.5681 - val_dense_14_acc: 0.9998 - val_dense_15_acc: 0.9952 - val_dense_16_acc: 0.9523 - val_dense_17_acc: 0.8769 - val_dense_18_acc: 0.8252\n",
      "Epoch 10/75\n",
      "158s - loss: 1.6934 - dense_14_loss: 0.0029 - dense_15_loss: 0.0907 - dense_16_loss: 0.4131 - dense_17_loss: 0.5449 - dense_18_loss: 0.6418 - dense_14_acc: 0.9996 - dense_15_acc: 0.9725 - dense_16_acc: 0.8722 - dense_17_acc: 0.8284 - dense_18_acc: 0.7928 - val_loss: 1.1536 - val_dense_14_loss: 0.0017 - val_dense_15_loss: 0.0211 - val_dense_16_loss: 0.1608 - val_dense_17_loss: 0.4210 - val_dense_18_loss: 0.5489 - val_dense_14_acc: 0.9998 - val_dense_15_acc: 0.9951 - val_dense_16_acc: 0.9542 - val_dense_17_acc: 0.8792 - val_dense_18_acc: 0.8344\n",
      "Epoch 11/75\n",
      "149s - loss: 1.6460 - dense_14_loss: 0.0029 - dense_15_loss: 0.0880 - dense_16_loss: 0.3996 - dense_17_loss: 0.5275 - dense_18_loss: 0.6281 - dense_14_acc: 0.9996 - dense_15_acc: 0.9734 - dense_16_acc: 0.8763 - dense_17_acc: 0.8357 - dense_18_acc: 0.7964 - val_loss: 1.1276 - val_dense_14_loss: 0.0018 - val_dense_15_loss: 0.0212 - val_dense_16_loss: 0.1629 - val_dense_17_loss: 0.4157 - val_dense_18_loss: 0.5260 - val_dense_14_acc: 0.9998 - val_dense_15_acc: 0.9948 - val_dense_16_acc: 0.9545 - val_dense_17_acc: 0.8833 - val_dense_18_acc: 0.8407\n",
      "Epoch 12/75\n",
      "152s - loss: 1.6030 - dense_14_loss: 0.0026 - dense_15_loss: 0.0872 - dense_16_loss: 0.3899 - dense_17_loss: 0.5110 - dense_18_loss: 0.6124 - dense_14_acc: 0.9996 - dense_15_acc: 0.9738 - dense_16_acc: 0.8792 - dense_17_acc: 0.8377 - dense_18_acc: 0.8013 - val_loss: 1.1034 - val_dense_14_loss: 0.0018 - val_dense_15_loss: 0.0184 - val_dense_16_loss: 0.1527 - val_dense_17_loss: 0.4055 - val_dense_18_loss: 0.5250 - val_dense_14_acc: 0.9998 - val_dense_15_acc: 0.9957 - val_dense_16_acc: 0.9550 - val_dense_17_acc: 0.8855 - val_dense_18_acc: 0.8391\n",
      "Epoch 13/75\n",
      "153s - loss: 1.5651 - dense_14_loss: 0.0026 - dense_15_loss: 0.0842 - dense_16_loss: 0.3767 - dense_17_loss: 0.5038 - dense_18_loss: 0.5977 - dense_14_acc: 0.9996 - dense_15_acc: 0.9755 - dense_16_acc: 0.8821 - dense_17_acc: 0.8416 - dense_18_acc: 0.8080 - val_loss: 1.0987 - val_dense_14_loss: 0.0015 - val_dense_15_loss: 0.0188 - val_dense_16_loss: 0.1516 - val_dense_17_loss: 0.4101 - val_dense_18_loss: 0.5168 - val_dense_14_acc: 0.9998 - val_dense_15_acc: 0.9952 - val_dense_16_acc: 0.9555 - val_dense_17_acc: 0.8817 - val_dense_18_acc: 0.8429\n",
      "Epoch 14/75\n",
      "152s - loss: 1.5336 - dense_14_loss: 0.0028 - dense_15_loss: 0.0827 - dense_16_loss: 0.3701 - dense_17_loss: 0.4906 - dense_18_loss: 0.5873 - dense_14_acc: 0.9996 - dense_15_acc: 0.9750 - dense_16_acc: 0.8835 - dense_17_acc: 0.8463 - dense_18_acc: 0.8098 - val_loss: 1.0457 - val_dense_14_loss: 0.0014 - val_dense_15_loss: 0.0185 - val_dense_16_loss: 0.1459 - val_dense_17_loss: 0.3810 - val_dense_18_loss: 0.4989 - val_dense_14_acc: 0.9998 - val_dense_15_acc: 0.9953 - val_dense_16_acc: 0.9574 - val_dense_17_acc: 0.8926 - val_dense_18_acc: 0.8479\n",
      "Epoch 15/75\n",
      "148s - loss: 1.5126 - dense_14_loss: 0.0022 - dense_15_loss: 0.0829 - dense_16_loss: 0.3636 - dense_17_loss: 0.4845 - dense_18_loss: 0.5794 - dense_14_acc: 0.9996 - dense_15_acc: 0.9746 - dense_16_acc: 0.8865 - dense_17_acc: 0.8469 - dense_18_acc: 0.8129 - val_loss: 1.0995 - val_dense_14_loss: 0.0018 - val_dense_15_loss: 0.0223 - val_dense_16_loss: 0.1578 - val_dense_17_loss: 0.4063 - val_dense_18_loss: 0.5113 - val_dense_14_acc: 0.9998 - val_dense_15_acc: 0.9952 - val_dense_16_acc: 0.9556 - val_dense_17_acc: 0.8866 - val_dense_18_acc: 0.8417\n",
      "Epoch 16/75\n",
      "134s - loss: 1.4775 - dense_14_loss: 0.0024 - dense_15_loss: 0.0796 - dense_16_loss: 0.3538 - dense_17_loss: 0.4734 - dense_18_loss: 0.5684 - dense_14_acc: 0.9996 - dense_15_acc: 0.9752 - dense_16_acc: 0.8890 - dense_17_acc: 0.8508 - dense_18_acc: 0.8152 - val_loss: 1.0349 - val_dense_14_loss: 0.0019 - val_dense_15_loss: 0.0217 - val_dense_16_loss: 0.1481 - val_dense_17_loss: 0.3807 - val_dense_18_loss: 0.4825 - val_dense_14_acc: 0.9998 - val_dense_15_acc: 0.9949 - val_dense_16_acc: 0.9565 - val_dense_17_acc: 0.8928 - val_dense_18_acc: 0.8556\n",
      "Epoch 17/75\n",
      "142s - loss: 1.4584 - dense_14_loss: 0.0019 - dense_15_loss: 0.0779 - dense_16_loss: 0.3491 - dense_17_loss: 0.4654 - dense_18_loss: 0.5642 - dense_14_acc: 0.9996 - dense_15_acc: 0.9767 - dense_16_acc: 0.8902 - dense_17_acc: 0.8542 - dense_18_acc: 0.8207 - val_loss: 1.0362 - val_dense_14_loss: 0.0018 - val_dense_15_loss: 0.0194 - val_dense_16_loss: 0.1503 - val_dense_17_loss: 0.3835 - val_dense_18_loss: 0.4813 - val_dense_14_acc: 0.9998 - val_dense_15_acc: 0.9948 - val_dense_16_acc: 0.9558 - val_dense_17_acc: 0.8922 - val_dense_18_acc: 0.8557\n",
      "Epoch 18/75\n",
      "137s - loss: 1.4329 - dense_14_loss: 0.0021 - dense_15_loss: 0.0780 - dense_16_loss: 0.3444 - dense_17_loss: 0.4605 - dense_18_loss: 0.5480 - dense_14_acc: 0.9996 - dense_15_acc: 0.9762 - dense_16_acc: 0.8911 - dense_17_acc: 0.8572 - dense_18_acc: 0.8219 - val_loss: 1.0148 - val_dense_14_loss: 0.0015 - val_dense_15_loss: 0.0166 - val_dense_16_loss: 0.1407 - val_dense_17_loss: 0.3700 - val_dense_18_loss: 0.4861 - val_dense_14_acc: 0.9998 - val_dense_15_acc: 0.9954 - val_dense_16_acc: 0.9585 - val_dense_17_acc: 0.8951 - val_dense_18_acc: 0.8538\n",
      "Epoch 19/75\n",
      "130s - loss: 1.4097 - dense_14_loss: 0.0020 - dense_15_loss: 0.0752 - dense_16_loss: 0.3382 - dense_17_loss: 0.4465 - dense_18_loss: 0.5477 - dense_14_acc: 0.9996 - dense_15_acc: 0.9773 - dense_16_acc: 0.8930 - dense_17_acc: 0.8582 - dense_18_acc: 0.8242 - val_loss: 1.0136 - val_dense_14_loss: 0.0017 - val_dense_15_loss: 0.0186 - val_dense_16_loss: 0.1494 - val_dense_17_loss: 0.3744 - val_dense_18_loss: 0.4695 - val_dense_14_acc: 0.9998 - val_dense_15_acc: 0.9952 - val_dense_16_acc: 0.9555 - val_dense_17_acc: 0.8937 - val_dense_18_acc: 0.8588\n",
      "Epoch 20/75\n",
      "146s - loss: 1.3748 - dense_14_loss: 0.0021 - dense_15_loss: 0.0753 - dense_16_loss: 0.3270 - dense_17_loss: 0.4403 - dense_18_loss: 0.5301 - dense_14_acc: 0.9996 - dense_15_acc: 0.9772 - dense_16_acc: 0.8959 - dense_17_acc: 0.8610 - dense_18_acc: 0.8277 - val_loss: 1.0031 - val_dense_14_loss: 0.0017 - val_dense_15_loss: 0.0169 - val_dense_16_loss: 0.1388 - val_dense_17_loss: 0.3641 - val_dense_18_loss: 0.4815 - val_dense_14_acc: 0.9998 - val_dense_15_acc: 0.9952 - val_dense_16_acc: 0.9595 - val_dense_17_acc: 0.8985 - val_dense_18_acc: 0.8542\n",
      "Epoch 21/75\n",
      "158s - loss: 1.3629 - dense_14_loss: 0.0021 - dense_15_loss: 0.0725 - dense_16_loss: 0.3285 - dense_17_loss: 0.4312 - dense_18_loss: 0.5287 - dense_14_acc: 0.9996 - dense_15_acc: 0.9783 - dense_16_acc: 0.8965 - dense_17_acc: 0.8636 - dense_18_acc: 0.8287 - val_loss: 1.0046 - val_dense_14_loss: 0.0016 - val_dense_15_loss: 0.0166 - val_dense_16_loss: 0.1390 - val_dense_17_loss: 0.3748 - val_dense_18_loss: 0.4726 - val_dense_14_acc: 0.9998 - val_dense_15_acc: 0.9953 - val_dense_16_acc: 0.9600 - val_dense_17_acc: 0.8952 - val_dense_18_acc: 0.8548\n",
      "Epoch 22/75\n",
      "167s - loss: 1.3486 - dense_14_loss: 0.0018 - dense_15_loss: 0.0715 - dense_16_loss: 0.3206 - dense_17_loss: 0.4328 - dense_18_loss: 0.5220 - dense_14_acc: 0.9996 - dense_15_acc: 0.9783 - dense_16_acc: 0.8984 - dense_17_acc: 0.8639 - dense_18_acc: 0.8321 - val_loss: 0.9944 - val_dense_14_loss: 0.0014 - val_dense_15_loss: 0.0157 - val_dense_16_loss: 0.1410 - val_dense_17_loss: 0.3723 - val_dense_18_loss: 0.4640 - val_dense_14_acc: 0.9998 - val_dense_15_acc: 0.9957 - val_dense_16_acc: 0.9594 - val_dense_17_acc: 0.8979 - val_dense_18_acc: 0.8580\n",
      "Epoch 23/75\n",
      "200s - loss: 1.3325 - dense_14_loss: 0.0017 - dense_15_loss: 0.0728 - dense_16_loss: 0.3195 - dense_17_loss: 0.4266 - dense_18_loss: 0.5118 - dense_14_acc: 0.9996 - dense_15_acc: 0.9778 - dense_16_acc: 0.8999 - dense_17_acc: 0.8659 - dense_18_acc: 0.8328 - val_loss: 0.9894 - val_dense_14_loss: 0.0016 - val_dense_15_loss: 0.0199 - val_dense_16_loss: 0.1471 - val_dense_17_loss: 0.3657 - val_dense_18_loss: 0.4553 - val_dense_14_acc: 0.9998 - val_dense_15_acc: 0.9950 - val_dense_16_acc: 0.9572 - val_dense_17_acc: 0.8973 - val_dense_18_acc: 0.8609\n",
      "Epoch 24/75\n",
      "193s - loss: 1.3273 - dense_14_loss: 0.0018 - dense_15_loss: 0.0735 - dense_16_loss: 0.3153 - dense_17_loss: 0.4256 - dense_18_loss: 0.5110 - dense_14_acc: 0.9996 - dense_15_acc: 0.9783 - dense_16_acc: 0.9007 - dense_17_acc: 0.8662 - dense_18_acc: 0.8362 - val_loss: 0.9745 - val_dense_14_loss: 0.0021 - val_dense_15_loss: 0.0150 - val_dense_16_loss: 0.1387 - val_dense_17_loss: 0.3638 - val_dense_18_loss: 0.4549 - val_dense_14_acc: 0.9998 - val_dense_15_acc: 0.9962 - val_dense_16_acc: 0.9602 - val_dense_17_acc: 0.8974 - val_dense_18_acc: 0.8642\n",
      "Epoch 25/75\n",
      "171s - loss: 1.3071 - dense_14_loss: 0.0018 - dense_15_loss: 0.0726 - dense_16_loss: 0.3083 - dense_17_loss: 0.4204 - dense_18_loss: 0.5039 - dense_14_acc: 0.9996 - dense_15_acc: 0.9781 - dense_16_acc: 0.9027 - dense_17_acc: 0.8674 - dense_18_acc: 0.8380 - val_loss: 0.9870 - val_dense_14_loss: 0.0011 - val_dense_15_loss: 0.0174 - val_dense_16_loss: 0.1418 - val_dense_17_loss: 0.3689 - val_dense_18_loss: 0.4578 - val_dense_14_acc: 0.9998 - val_dense_15_acc: 0.9954 - val_dense_16_acc: 0.9584 - val_dense_17_acc: 0.8982 - val_dense_18_acc: 0.8620\n",
      "Epoch 26/75\n",
      "178s - loss: 1.2816 - dense_14_loss: 0.0020 - dense_15_loss: 0.0699 - dense_16_loss: 0.3052 - dense_17_loss: 0.4136 - dense_18_loss: 0.4909 - dense_14_acc: 0.9996 - dense_15_acc: 0.9782 - dense_16_acc: 0.9059 - dense_17_acc: 0.8683 - dense_18_acc: 0.8412 - val_loss: 0.9877 - val_dense_14_loss: 0.0014 - val_dense_15_loss: 0.0162 - val_dense_16_loss: 0.1431 - val_dense_17_loss: 0.3638 - val_dense_18_loss: 0.4632 - val_dense_14_acc: 0.9998 - val_dense_15_acc: 0.9954 - val_dense_16_acc: 0.9580 - val_dense_17_acc: 0.8986 - val_dense_18_acc: 0.8592\n",
      "Epoch 27/75\n",
      "174s - loss: 1.2721 - dense_14_loss: 0.0019 - dense_15_loss: 0.0677 - dense_16_loss: 0.2999 - dense_17_loss: 0.4065 - dense_18_loss: 0.4962 - dense_14_acc: 0.9996 - dense_15_acc: 0.9793 - dense_16_acc: 0.9052 - dense_17_acc: 0.8719 - dense_18_acc: 0.8387 - val_loss: 0.9572 - val_dense_14_loss: 0.0013 - val_dense_15_loss: 0.0162 - val_dense_16_loss: 0.1401 - val_dense_17_loss: 0.3538 - val_dense_18_loss: 0.4458 - val_dense_14_acc: 0.9998 - val_dense_15_acc: 0.9956 - val_dense_16_acc: 0.9600 - val_dense_17_acc: 0.9000 - val_dense_18_acc: 0.8659\n",
      "Epoch 28/75\n",
      "192s - loss: 1.2701 - dense_14_loss: 0.0016 - dense_15_loss: 0.0705 - dense_16_loss: 0.3014 - dense_17_loss: 0.4027 - dense_18_loss: 0.4939 - dense_14_acc: 0.9996 - dense_15_acc: 0.9785 - dense_16_acc: 0.9049 - dense_17_acc: 0.8724 - dense_18_acc: 0.8409 - val_loss: 0.9662 - val_dense_14_loss: 0.0016 - val_dense_15_loss: 0.0162 - val_dense_16_loss: 0.1395 - val_dense_17_loss: 0.3658 - val_dense_18_loss: 0.4431 - val_dense_14_acc: 0.9998 - val_dense_15_acc: 0.9956 - val_dense_16_acc: 0.9609 - val_dense_17_acc: 0.8993 - val_dense_18_acc: 0.8662\n",
      "Epoch 29/75\n",
      "185s - loss: 1.2501 - dense_14_loss: 0.0013 - dense_15_loss: 0.0684 - dense_16_loss: 0.2976 - dense_17_loss: 0.3956 - dense_18_loss: 0.4872 - dense_14_acc: 0.9996 - dense_15_acc: 0.9790 - dense_16_acc: 0.9063 - dense_17_acc: 0.8754 - dense_18_acc: 0.8428 - val_loss: 0.9501 - val_dense_14_loss: 0.0015 - val_dense_15_loss: 0.0173 - val_dense_16_loss: 0.1386 - val_dense_17_loss: 0.3512 - val_dense_18_loss: 0.4415 - val_dense_14_acc: 0.9998 - val_dense_15_acc: 0.9954 - val_dense_16_acc: 0.9604 - val_dense_17_acc: 0.9014 - val_dense_18_acc: 0.8657\n",
      "Epoch 30/75\n",
      "188s - loss: 1.2388 - dense_14_loss: 0.0016 - dense_15_loss: 0.0659 - dense_16_loss: 0.2943 - dense_17_loss: 0.3983 - dense_18_loss: 0.4787 - dense_14_acc: 0.9996 - dense_15_acc: 0.9798 - dense_16_acc: 0.9074 - dense_17_acc: 0.8743 - dense_18_acc: 0.8466 - val_loss: 0.9711 - val_dense_14_loss: 0.0013 - val_dense_15_loss: 0.0180 - val_dense_16_loss: 0.1398 - val_dense_17_loss: 0.3615 - val_dense_18_loss: 0.4507 - val_dense_14_acc: 0.9998 - val_dense_15_acc: 0.9958 - val_dense_16_acc: 0.9594 - val_dense_17_acc: 0.8982 - val_dense_18_acc: 0.8603\n",
      "Epoch 31/75\n",
      "181s - loss: 1.2257 - dense_14_loss: 0.0017 - dense_15_loss: 0.0670 - dense_16_loss: 0.2897 - dense_17_loss: 0.3904 - dense_18_loss: 0.4769 - dense_14_acc: 0.9996 - dense_15_acc: 0.9797 - dense_16_acc: 0.9066 - dense_17_acc: 0.8752 - dense_18_acc: 0.8441 - val_loss: 0.9711 - val_dense_14_loss: 0.0016 - val_dense_15_loss: 0.0166 - val_dense_16_loss: 0.1419 - val_dense_17_loss: 0.3609 - val_dense_18_loss: 0.4500 - val_dense_14_acc: 0.9998 - val_dense_15_acc: 0.9953 - val_dense_16_acc: 0.9605 - val_dense_17_acc: 0.9026 - val_dense_18_acc: 0.8607\n",
      "Epoch 32/75\n",
      "185s - loss: 1.2126 - dense_14_loss: 0.0016 - dense_15_loss: 0.0650 - dense_16_loss: 0.2887 - dense_17_loss: 0.3885 - dense_18_loss: 0.4688 - dense_14_acc: 0.9996 - dense_15_acc: 0.9802 - dense_16_acc: 0.9090 - dense_17_acc: 0.8775 - dense_18_acc: 0.8493 - val_loss: 0.9622 - val_dense_14_loss: 0.0016 - val_dense_15_loss: 0.0175 - val_dense_16_loss: 0.1448 - val_dense_17_loss: 0.3615 - val_dense_18_loss: 0.4367 - val_dense_14_acc: 0.9998 - val_dense_15_acc: 0.9949 - val_dense_16_acc: 0.9593 - val_dense_17_acc: 0.9007 - val_dense_18_acc: 0.8689\n",
      "Epoch 33/75\n",
      "186s - loss: 1.2027 - dense_14_loss: 0.0016 - dense_15_loss: 0.0656 - dense_16_loss: 0.2858 - dense_17_loss: 0.3811 - dense_18_loss: 0.4685 - dense_14_acc: 0.9995 - dense_15_acc: 0.9805 - dense_16_acc: 0.9103 - dense_17_acc: 0.8789 - dense_18_acc: 0.8487 - val_loss: 0.9475 - val_dense_14_loss: 0.0023 - val_dense_15_loss: 0.0149 - val_dense_16_loss: 0.1338 - val_dense_17_loss: 0.3575 - val_dense_18_loss: 0.4390 - val_dense_14_acc: 0.9998 - val_dense_15_acc: 0.9953 - val_dense_16_acc: 0.9622 - val_dense_17_acc: 0.9017 - val_dense_18_acc: 0.8676\n",
      "Epoch 34/75\n",
      "188s - loss: 1.1924 - dense_14_loss: 0.0017 - dense_15_loss: 0.0651 - dense_16_loss: 0.2827 - dense_17_loss: 0.3803 - dense_18_loss: 0.4626 - dense_14_acc: 0.9995 - dense_15_acc: 0.9802 - dense_16_acc: 0.9103 - dense_17_acc: 0.8789 - dense_18_acc: 0.8510 - val_loss: 0.9262 - val_dense_14_loss: 0.0014 - val_dense_15_loss: 0.0154 - val_dense_16_loss: 0.1312 - val_dense_17_loss: 0.3482 - val_dense_18_loss: 0.4301 - val_dense_14_acc: 0.9998 - val_dense_15_acc: 0.9955 - val_dense_16_acc: 0.9625 - val_dense_17_acc: 0.9025 - val_dense_18_acc: 0.8696\n",
      "Epoch 35/75\n",
      "189s - loss: 1.1973 - dense_14_loss: 0.0018 - dense_15_loss: 0.0641 - dense_16_loss: 0.2830 - dense_17_loss: 0.3837 - dense_18_loss: 0.4646 - dense_14_acc: 0.9996 - dense_15_acc: 0.9806 - dense_16_acc: 0.9098 - dense_17_acc: 0.8782 - dense_18_acc: 0.8507 - val_loss: 0.9293 - val_dense_14_loss: 0.0014 - val_dense_15_loss: 0.0184 - val_dense_16_loss: 0.1426 - val_dense_17_loss: 0.3451 - val_dense_18_loss: 0.4218 - val_dense_14_acc: 0.9998 - val_dense_15_acc: 0.9948 - val_dense_16_acc: 0.9582 - val_dense_17_acc: 0.9035 - val_dense_18_acc: 0.8733\n",
      "Epoch 36/75\n",
      "222s - loss: 1.1755 - dense_14_loss: 0.0017 - dense_15_loss: 0.0635 - dense_16_loss: 0.2753 - dense_17_loss: 0.3786 - dense_18_loss: 0.4564 - dense_14_acc: 0.9996 - dense_15_acc: 0.9803 - dense_16_acc: 0.9115 - dense_17_acc: 0.8797 - dense_18_acc: 0.8518 - val_loss: 0.9252 - val_dense_14_loss: 0.0016 - val_dense_15_loss: 0.0163 - val_dense_16_loss: 0.1374 - val_dense_17_loss: 0.3466 - val_dense_18_loss: 0.4234 - val_dense_14_acc: 0.9998 - val_dense_15_acc: 0.9952 - val_dense_16_acc: 0.9619 - val_dense_17_acc: 0.9022 - val_dense_18_acc: 0.8703\n",
      "Epoch 37/75\n",
      "218s - loss: 1.1599 - dense_14_loss: 0.0015 - dense_15_loss: 0.0620 - dense_16_loss: 0.2714 - dense_17_loss: 0.3764 - dense_18_loss: 0.4486 - dense_14_acc: 0.9996 - dense_15_acc: 0.9808 - dense_16_acc: 0.9133 - dense_17_acc: 0.8799 - dense_18_acc: 0.8553 - val_loss: 0.9426 - val_dense_14_loss: 0.0019 - val_dense_15_loss: 0.0164 - val_dense_16_loss: 0.1388 - val_dense_17_loss: 0.3539 - val_dense_18_loss: 0.4316 - val_dense_14_acc: 0.9998 - val_dense_15_acc: 0.9949 - val_dense_16_acc: 0.9615 - val_dense_17_acc: 0.9026 - val_dense_18_acc: 0.8689\n",
      "Epoch 38/75\n",
      "166s - loss: 1.1636 - dense_14_loss: 0.0016 - dense_15_loss: 0.0636 - dense_16_loss: 0.2754 - dense_17_loss: 0.3700 - dense_18_loss: 0.4530 - dense_14_acc: 0.9995 - dense_15_acc: 0.9802 - dense_16_acc: 0.9133 - dense_17_acc: 0.8824 - dense_18_acc: 0.8527 - val_loss: 0.9288 - val_dense_14_loss: 0.0020 - val_dense_15_loss: 0.0167 - val_dense_16_loss: 0.1359 - val_dense_17_loss: 0.3449 - val_dense_18_loss: 0.4293 - val_dense_14_acc: 0.9998 - val_dense_15_acc: 0.9954 - val_dense_16_acc: 0.9623 - val_dense_17_acc: 0.9046 - val_dense_18_acc: 0.8694\n",
      "Epoch 39/75\n",
      "140s - loss: 1.1541 - dense_14_loss: 0.0017 - dense_15_loss: 0.0613 - dense_16_loss: 0.2755 - dense_17_loss: 0.3694 - dense_18_loss: 0.4461 - dense_14_acc: 0.9996 - dense_15_acc: 0.9815 - dense_16_acc: 0.9138 - dense_17_acc: 0.8825 - dense_18_acc: 0.8554 - val_loss: 0.9271 - val_dense_14_loss: 0.0017 - val_dense_15_loss: 0.0169 - val_dense_16_loss: 0.1397 - val_dense_17_loss: 0.3490 - val_dense_18_loss: 0.4199 - val_dense_14_acc: 0.9998 - val_dense_15_acc: 0.9957 - val_dense_16_acc: 0.9599 - val_dense_17_acc: 0.9053 - val_dense_18_acc: 0.8736\n",
      "Epoch 40/75\n",
      "153s - loss: 1.1571 - dense_14_loss: 0.0016 - dense_15_loss: 0.0619 - dense_16_loss: 0.2713 - dense_17_loss: 0.3697 - dense_18_loss: 0.4526 - dense_14_acc: 0.9995 - dense_15_acc: 0.9807 - dense_16_acc: 0.9138 - dense_17_acc: 0.8823 - dense_18_acc: 0.8527 - val_loss: 0.9291 - val_dense_14_loss: 0.0017 - val_dense_15_loss: 0.0154 - val_dense_16_loss: 0.1342 - val_dense_17_loss: 0.3498 - val_dense_18_loss: 0.4279 - val_dense_14_acc: 0.9998 - val_dense_15_acc: 0.9957 - val_dense_16_acc: 0.9633 - val_dense_17_acc: 0.9054 - val_dense_18_acc: 0.8737\n",
      "Epoch 41/75\n",
      "148s - loss: 1.1376 - dense_14_loss: 0.0017 - dense_15_loss: 0.0626 - dense_16_loss: 0.2627 - dense_17_loss: 0.3681 - dense_18_loss: 0.4424 - dense_14_acc: 0.9996 - dense_15_acc: 0.9811 - dense_16_acc: 0.9162 - dense_17_acc: 0.8824 - dense_18_acc: 0.8565 - val_loss: 0.9150 - val_dense_14_loss: 0.0016 - val_dense_15_loss: 0.0169 - val_dense_16_loss: 0.1343 - val_dense_17_loss: 0.3482 - val_dense_18_loss: 0.4139 - val_dense_14_acc: 0.9998 - val_dense_15_acc: 0.9951 - val_dense_16_acc: 0.9627 - val_dense_17_acc: 0.9043 - val_dense_18_acc: 0.8776\n",
      "Epoch 42/75\n",
      "158s - loss: 1.1363 - dense_14_loss: 0.0014 - dense_15_loss: 0.0603 - dense_16_loss: 0.2656 - dense_17_loss: 0.3667 - dense_18_loss: 0.4423 - dense_14_acc: 0.9996 - dense_15_acc: 0.9810 - dense_16_acc: 0.9161 - dense_17_acc: 0.8833 - dense_18_acc: 0.8564 - val_loss: 0.8914 - val_dense_14_loss: 0.0016 - val_dense_15_loss: 0.0145 - val_dense_16_loss: 0.1295 - val_dense_17_loss: 0.3380 - val_dense_18_loss: 0.4077 - val_dense_14_acc: 0.9998 - val_dense_15_acc: 0.9958 - val_dense_16_acc: 0.9631 - val_dense_17_acc: 0.9063 - val_dense_18_acc: 0.8788\n",
      "Epoch 43/75\n",
      "166s - loss: 1.1237 - dense_14_loss: 0.0012 - dense_15_loss: 0.0602 - dense_16_loss: 0.2633 - dense_17_loss: 0.3605 - dense_18_loss: 0.4384 - dense_14_acc: 0.9996 - dense_15_acc: 0.9809 - dense_16_acc: 0.9161 - dense_17_acc: 0.8836 - dense_18_acc: 0.8573 - val_loss: 0.8940 - val_dense_14_loss: 0.0015 - val_dense_15_loss: 0.0157 - val_dense_16_loss: 0.1306 - val_dense_17_loss: 0.3369 - val_dense_18_loss: 0.4091 - val_dense_14_acc: 0.9998 - val_dense_15_acc: 0.9956 - val_dense_16_acc: 0.9632 - val_dense_17_acc: 0.9065 - val_dense_18_acc: 0.8772\n",
      "Epoch 44/75\n",
      "159s - loss: 1.1274 - dense_14_loss: 0.0015 - dense_15_loss: 0.0613 - dense_16_loss: 0.2648 - dense_17_loss: 0.3563 - dense_18_loss: 0.4435 - dense_14_acc: 0.9996 - dense_15_acc: 0.9810 - dense_16_acc: 0.9153 - dense_17_acc: 0.8868 - dense_18_acc: 0.8558 - val_loss: 0.9023 - val_dense_14_loss: 0.0012 - val_dense_15_loss: 0.0152 - val_dense_16_loss: 0.1315 - val_dense_17_loss: 0.3374 - val_dense_18_loss: 0.4170 - val_dense_14_acc: 0.9998 - val_dense_15_acc: 0.9960 - val_dense_16_acc: 0.9643 - val_dense_17_acc: 0.9078 - val_dense_18_acc: 0.8757\n",
      "Epoch 45/75\n",
      "156s - loss: 1.1026 - dense_14_loss: 0.0012 - dense_15_loss: 0.0588 - dense_16_loss: 0.2571 - dense_17_loss: 0.3544 - dense_18_loss: 0.4311 - dense_14_acc: 0.9997 - dense_15_acc: 0.9819 - dense_16_acc: 0.9185 - dense_17_acc: 0.8858 - dense_18_acc: 0.8602 - val_loss: 0.9152 - val_dense_14_loss: 0.0016 - val_dense_15_loss: 0.0163 - val_dense_16_loss: 0.1380 - val_dense_17_loss: 0.3430 - val_dense_18_loss: 0.4163 - val_dense_14_acc: 0.9998 - val_dense_15_acc: 0.9958 - val_dense_16_acc: 0.9597 - val_dense_17_acc: 0.9058 - val_dense_18_acc: 0.8712\n",
      "Epoch 46/75\n",
      "140s - loss: 1.1023 - dense_14_loss: 0.0013 - dense_15_loss: 0.0596 - dense_16_loss: 0.2546 - dense_17_loss: 0.3523 - dense_18_loss: 0.4346 - dense_14_acc: 0.9996 - dense_15_acc: 0.9817 - dense_16_acc: 0.9188 - dense_17_acc: 0.8871 - dense_18_acc: 0.8588 - val_loss: 0.8931 - val_dense_14_loss: 0.0018 - val_dense_15_loss: 0.0154 - val_dense_16_loss: 0.1300 - val_dense_17_loss: 0.3365 - val_dense_18_loss: 0.4095 - val_dense_14_acc: 0.9998 - val_dense_15_acc: 0.9956 - val_dense_16_acc: 0.9621 - val_dense_17_acc: 0.9067 - val_dense_18_acc: 0.8776\n",
      "Epoch 47/75\n",
      "148s - loss: 1.0907 - dense_14_loss: 0.0017 - dense_15_loss: 0.0596 - dense_16_loss: 0.2551 - dense_17_loss: 0.3470 - dense_18_loss: 0.4273 - dense_14_acc: 0.9995 - dense_15_acc: 0.9814 - dense_16_acc: 0.9186 - dense_17_acc: 0.8917 - dense_18_acc: 0.8620 - val_loss: 0.9004 - val_dense_14_loss: 0.0018 - val_dense_15_loss: 0.0152 - val_dense_16_loss: 0.1289 - val_dense_17_loss: 0.3450 - val_dense_18_loss: 0.4095 - val_dense_14_acc: 0.9998 - val_dense_15_acc: 0.9952 - val_dense_16_acc: 0.9615 - val_dense_17_acc: 0.9052 - val_dense_18_acc: 0.8746\n",
      "Epoch 48/75\n",
      "148s - loss: 1.1022 - dense_14_loss: 0.0014 - dense_15_loss: 0.0602 - dense_16_loss: 0.2582 - dense_17_loss: 0.3540 - dense_18_loss: 0.4284 - dense_14_acc: 0.9996 - dense_15_acc: 0.9816 - dense_16_acc: 0.9195 - dense_17_acc: 0.8883 - dense_18_acc: 0.8607 - val_loss: 0.8876 - val_dense_14_loss: 0.0018 - val_dense_15_loss: 0.0160 - val_dense_16_loss: 0.1317 - val_dense_17_loss: 0.3321 - val_dense_18_loss: 0.4060 - val_dense_14_acc: 0.9998 - val_dense_15_acc: 0.9954 - val_dense_16_acc: 0.9610 - val_dense_17_acc: 0.9094 - val_dense_18_acc: 0.8784\n",
      "Epoch 49/75\n",
      "136s - loss: 1.0947 - dense_14_loss: 0.0011 - dense_15_loss: 0.0587 - dense_16_loss: 0.2573 - dense_17_loss: 0.3506 - dense_18_loss: 0.4271 - dense_14_acc: 0.9996 - dense_15_acc: 0.9814 - dense_16_acc: 0.9184 - dense_17_acc: 0.8875 - dense_18_acc: 0.8616 - val_loss: 0.8966 - val_dense_14_loss: 0.0014 - val_dense_15_loss: 0.0140 - val_dense_16_loss: 0.1289 - val_dense_17_loss: 0.3383 - val_dense_18_loss: 0.4140 - val_dense_14_acc: 0.9998 - val_dense_15_acc: 0.9958 - val_dense_16_acc: 0.9630 - val_dense_17_acc: 0.9059 - val_dense_18_acc: 0.8758\n",
      "Epoch 50/75\n",
      "147s - loss: 1.0856 - dense_14_loss: 0.0013 - dense_15_loss: 0.0607 - dense_16_loss: 0.2553 - dense_17_loss: 0.3466 - dense_18_loss: 0.4216 - dense_14_acc: 0.9996 - dense_15_acc: 0.9816 - dense_16_acc: 0.9186 - dense_17_acc: 0.8891 - dense_18_acc: 0.8630 - val_loss: 0.8869 - val_dense_14_loss: 0.0017 - val_dense_15_loss: 0.0163 - val_dense_16_loss: 0.1318 - val_dense_17_loss: 0.3373 - val_dense_18_loss: 0.3997 - val_dense_14_acc: 0.9998 - val_dense_15_acc: 0.9957 - val_dense_16_acc: 0.9626 - val_dense_17_acc: 0.9060 - val_dense_18_acc: 0.8779\n",
      "Epoch 51/75\n",
      "155s - loss: 1.0788 - dense_14_loss: 0.0018 - dense_15_loss: 0.0579 - dense_16_loss: 0.2501 - dense_17_loss: 0.3439 - dense_18_loss: 0.4250 - dense_14_acc: 0.9996 - dense_15_acc: 0.9821 - dense_16_acc: 0.9205 - dense_17_acc: 0.8902 - dense_18_acc: 0.8627 - val_loss: 0.8795 - val_dense_14_loss: 0.0021 - val_dense_15_loss: 0.0139 - val_dense_16_loss: 0.1278 - val_dense_17_loss: 0.3347 - val_dense_18_loss: 0.4010 - val_dense_14_acc: 0.9998 - val_dense_15_acc: 0.9961 - val_dense_16_acc: 0.9630 - val_dense_17_acc: 0.9081 - val_dense_18_acc: 0.8798\n",
      "Epoch 52/75\n",
      "137s - loss: 1.0667 - dense_14_loss: 0.0012 - dense_15_loss: 0.0570 - dense_16_loss: 0.2492 - dense_17_loss: 0.3414 - dense_18_loss: 0.4178 - dense_14_acc: 0.9997 - dense_15_acc: 0.9822 - dense_16_acc: 0.9211 - dense_17_acc: 0.8897 - dense_18_acc: 0.8624 - val_loss: 0.8805 - val_dense_14_loss: 0.0020 - val_dense_15_loss: 0.0148 - val_dense_16_loss: 0.1290 - val_dense_17_loss: 0.3295 - val_dense_18_loss: 0.4052 - val_dense_14_acc: 0.9998 - val_dense_15_acc: 0.9956 - val_dense_16_acc: 0.9635 - val_dense_17_acc: 0.9087 - val_dense_18_acc: 0.8772\n",
      "Epoch 53/75\n",
      "153s - loss: 1.0732 - dense_14_loss: 0.0013 - dense_15_loss: 0.0585 - dense_16_loss: 0.2500 - dense_17_loss: 0.3425 - dense_18_loss: 0.4210 - dense_14_acc: 0.9997 - dense_15_acc: 0.9824 - dense_16_acc: 0.9197 - dense_17_acc: 0.8902 - dense_18_acc: 0.8627 - val_loss: 0.8831 - val_dense_14_loss: 0.0016 - val_dense_15_loss: 0.0142 - val_dense_16_loss: 0.1288 - val_dense_17_loss: 0.3363 - val_dense_18_loss: 0.4021 - val_dense_14_acc: 0.9998 - val_dense_15_acc: 0.9962 - val_dense_16_acc: 0.9638 - val_dense_17_acc: 0.9061 - val_dense_18_acc: 0.8787\n",
      "Epoch 54/75\n",
      "155s - loss: 1.0751 - dense_14_loss: 0.0015 - dense_15_loss: 0.0594 - dense_16_loss: 0.2529 - dense_17_loss: 0.3456 - dense_18_loss: 0.4157 - dense_14_acc: 0.9995 - dense_15_acc: 0.9814 - dense_16_acc: 0.9203 - dense_17_acc: 0.8896 - dense_18_acc: 0.8651 - val_loss: 0.8820 - val_dense_14_loss: 0.0017 - val_dense_15_loss: 0.0145 - val_dense_16_loss: 0.1295 - val_dense_17_loss: 0.3313 - val_dense_18_loss: 0.4050 - val_dense_14_acc: 0.9998 - val_dense_15_acc: 0.9963 - val_dense_16_acc: 0.9638 - val_dense_17_acc: 0.9087 - val_dense_18_acc: 0.8758\n",
      "Epoch 55/75\n",
      "158s - loss: 1.0516 - dense_14_loss: 0.0015 - dense_15_loss: 0.0572 - dense_16_loss: 0.2494 - dense_17_loss: 0.3306 - dense_18_loss: 0.4128 - dense_14_acc: 0.9996 - dense_15_acc: 0.9823 - dense_16_acc: 0.9212 - dense_17_acc: 0.8934 - dense_18_acc: 0.8670 - val_loss: 0.8766 - val_dense_14_loss: 0.0016 - val_dense_15_loss: 0.0166 - val_dense_16_loss: 0.1277 - val_dense_17_loss: 0.3297 - val_dense_18_loss: 0.4011 - val_dense_14_acc: 0.9998 - val_dense_15_acc: 0.9955 - val_dense_16_acc: 0.9637 - val_dense_17_acc: 0.9080 - val_dense_18_acc: 0.8788\n",
      "Epoch 56/75\n",
      "157s - loss: 1.0540 - dense_14_loss: 0.0014 - dense_15_loss: 0.0584 - dense_16_loss: 0.2476 - dense_17_loss: 0.3351 - dense_18_loss: 0.4115 - dense_14_acc: 0.9996 - dense_15_acc: 0.9818 - dense_16_acc: 0.9225 - dense_17_acc: 0.8930 - dense_18_acc: 0.8670 - val_loss: 0.8725 - val_dense_14_loss: 0.0017 - val_dense_15_loss: 0.0150 - val_dense_16_loss: 0.1270 - val_dense_17_loss: 0.3273 - val_dense_18_loss: 0.4015 - val_dense_14_acc: 0.9998 - val_dense_15_acc: 0.9959 - val_dense_16_acc: 0.9644 - val_dense_17_acc: 0.9092 - val_dense_18_acc: 0.8796\n",
      "Epoch 57/75\n",
      "146s - loss: 1.0487 - dense_14_loss: 9.7862e-04 - dense_15_loss: 0.0566 - dense_16_loss: 0.2457 - dense_17_loss: 0.3342 - dense_18_loss: 0.4112 - dense_14_acc: 0.9997 - dense_15_acc: 0.9823 - dense_16_acc: 0.9215 - dense_17_acc: 0.8947 - dense_18_acc: 0.8665 - val_loss: 0.9121 - val_dense_14_loss: 0.0018 - val_dense_15_loss: 0.0169 - val_dense_16_loss: 0.1337 - val_dense_17_loss: 0.3420 - val_dense_18_loss: 0.4177 - val_dense_14_acc: 0.9998 - val_dense_15_acc: 0.9954 - val_dense_16_acc: 0.9637 - val_dense_17_acc: 0.9067 - val_dense_18_acc: 0.8762\n",
      "Epoch 58/75\n",
      "153s - loss: 1.0393 - dense_14_loss: 0.0013 - dense_15_loss: 0.0548 - dense_16_loss: 0.2446 - dense_17_loss: 0.3308 - dense_18_loss: 0.4077 - dense_14_acc: 0.9996 - dense_15_acc: 0.9835 - dense_16_acc: 0.9218 - dense_17_acc: 0.8944 - dense_18_acc: 0.8670 - val_loss: 0.8815 - val_dense_14_loss: 0.0016 - val_dense_15_loss: 0.0156 - val_dense_16_loss: 0.1340 - val_dense_17_loss: 0.3298 - val_dense_18_loss: 0.4003 - val_dense_14_acc: 0.9998 - val_dense_15_acc: 0.9958 - val_dense_16_acc: 0.9631 - val_dense_17_acc: 0.9083 - val_dense_18_acc: 0.8812\n",
      "Epoch 59/75\n",
      "136s - loss: 1.0361 - dense_14_loss: 0.0014 - dense_15_loss: 0.0563 - dense_16_loss: 0.2466 - dense_17_loss: 0.3297 - dense_18_loss: 0.4020 - dense_14_acc: 0.9996 - dense_15_acc: 0.9819 - dense_16_acc: 0.9220 - dense_17_acc: 0.8939 - dense_18_acc: 0.8695 - val_loss: 0.8902 - val_dense_14_loss: 0.0017 - val_dense_15_loss: 0.0147 - val_dense_16_loss: 0.1318 - val_dense_17_loss: 0.3344 - val_dense_18_loss: 0.4076 - val_dense_14_acc: 0.9998 - val_dense_15_acc: 0.9959 - val_dense_16_acc: 0.9638 - val_dense_17_acc: 0.9083 - val_dense_18_acc: 0.8774\n",
      "Epoch 60/75\n",
      "135s - loss: 1.0352 - dense_14_loss: 0.0012 - dense_15_loss: 0.0568 - dense_16_loss: 0.2419 - dense_17_loss: 0.3322 - dense_18_loss: 0.4031 - dense_14_acc: 0.9996 - dense_15_acc: 0.9822 - dense_16_acc: 0.9224 - dense_17_acc: 0.8949 - dense_18_acc: 0.8686 - val_loss: 0.8662 - val_dense_14_loss: 0.0020 - val_dense_15_loss: 0.0149 - val_dense_16_loss: 0.1248 - val_dense_17_loss: 0.3248 - val_dense_18_loss: 0.3996 - val_dense_14_acc: 0.9998 - val_dense_15_acc: 0.9957 - val_dense_16_acc: 0.9659 - val_dense_17_acc: 0.9109 - val_dense_18_acc: 0.8818\n",
      "Epoch 61/75\n",
      "134s - loss: 1.0245 - dense_14_loss: 0.0013 - dense_15_loss: 0.0554 - dense_16_loss: 0.2410 - dense_17_loss: 0.3277 - dense_18_loss: 0.3991 - dense_14_acc: 0.9997 - dense_15_acc: 0.9824 - dense_16_acc: 0.9228 - dense_17_acc: 0.8942 - dense_18_acc: 0.8685 - val_loss: 0.8865 - val_dense_14_loss: 0.0021 - val_dense_15_loss: 0.0140 - val_dense_16_loss: 0.1323 - val_dense_17_loss: 0.3349 - val_dense_18_loss: 0.4031 - val_dense_14_acc: 0.9998 - val_dense_15_acc: 0.9964 - val_dense_16_acc: 0.9634 - val_dense_17_acc: 0.9085 - val_dense_18_acc: 0.8790\n",
      "Epoch 62/75\n",
      "135s - loss: 1.0184 - dense_14_loss: 0.0014 - dense_15_loss: 0.0549 - dense_16_loss: 0.2387 - dense_17_loss: 0.3250 - dense_18_loss: 0.3984 - dense_14_acc: 0.9996 - dense_15_acc: 0.9828 - dense_16_acc: 0.9243 - dense_17_acc: 0.8967 - dense_18_acc: 0.8705 - val_loss: 0.8805 - val_dense_14_loss: 0.0021 - val_dense_15_loss: 0.0142 - val_dense_16_loss: 0.1303 - val_dense_17_loss: 0.3283 - val_dense_18_loss: 0.4055 - val_dense_14_acc: 0.9998 - val_dense_15_acc: 0.9960 - val_dense_16_acc: 0.9653 - val_dense_17_acc: 0.9101 - val_dense_18_acc: 0.8760\n",
      "Epoch 63/75\n",
      "136s - loss: 1.0237 - dense_14_loss: 0.0011 - dense_15_loss: 0.0557 - dense_16_loss: 0.2403 - dense_17_loss: 0.3244 - dense_18_loss: 0.4022 - dense_14_acc: 0.9997 - dense_15_acc: 0.9819 - dense_16_acc: 0.9242 - dense_17_acc: 0.8968 - dense_18_acc: 0.8681 - val_loss: 0.8898 - val_dense_14_loss: 0.0021 - val_dense_15_loss: 0.0148 - val_dense_16_loss: 0.1338 - val_dense_17_loss: 0.3347 - val_dense_18_loss: 0.4044 - val_dense_14_acc: 0.9998 - val_dense_15_acc: 0.9959 - val_dense_16_acc: 0.9632 - val_dense_17_acc: 0.9074 - val_dense_18_acc: 0.8767\n",
      "Epoch 64/75\n",
      "165s - loss: 1.0217 - dense_14_loss: 0.0013 - dense_15_loss: 0.0571 - dense_16_loss: 0.2407 - dense_17_loss: 0.3263 - dense_18_loss: 0.3963 - dense_14_acc: 0.9996 - dense_15_acc: 0.9827 - dense_16_acc: 0.9235 - dense_17_acc: 0.8965 - dense_18_acc: 0.8709 - val_loss: 0.8845 - val_dense_14_loss: 0.0019 - val_dense_15_loss: 0.0156 - val_dense_16_loss: 0.1367 - val_dense_17_loss: 0.3307 - val_dense_18_loss: 0.3996 - val_dense_14_acc: 0.9998 - val_dense_15_acc: 0.9952 - val_dense_16_acc: 0.9632 - val_dense_17_acc: 0.9081 - val_dense_18_acc: 0.8789\n",
      "Epoch 65/75\n",
      "135s - loss: 1.0191 - dense_14_loss: 0.0013 - dense_15_loss: 0.0553 - dense_16_loss: 0.2396 - dense_17_loss: 0.3235 - dense_18_loss: 0.3995 - dense_14_acc: 0.9997 - dense_15_acc: 0.9825 - dense_16_acc: 0.9236 - dense_17_acc: 0.8962 - dense_18_acc: 0.8691 - val_loss: 0.8784 - val_dense_14_loss: 0.0023 - val_dense_15_loss: 0.0153 - val_dense_16_loss: 0.1295 - val_dense_17_loss: 0.3289 - val_dense_18_loss: 0.4025 - val_dense_14_acc: 0.9998 - val_dense_15_acc: 0.9956 - val_dense_16_acc: 0.9649 - val_dense_17_acc: 0.9084 - val_dense_18_acc: 0.8819\n",
      "Epoch 66/75\n",
      "133s - loss: 1.0068 - dense_14_loss: 0.0011 - dense_15_loss: 0.0547 - dense_16_loss: 0.2356 - dense_17_loss: 0.3199 - dense_18_loss: 0.3955 - dense_14_acc: 0.9996 - dense_15_acc: 0.9831 - dense_16_acc: 0.9255 - dense_17_acc: 0.8974 - dense_18_acc: 0.8719 - val_loss: 0.8616 - val_dense_14_loss: 0.0019 - val_dense_15_loss: 0.0147 - val_dense_16_loss: 0.1290 - val_dense_17_loss: 0.3221 - val_dense_18_loss: 0.3939 - val_dense_14_acc: 0.9998 - val_dense_15_acc: 0.9962 - val_dense_16_acc: 0.9657 - val_dense_17_acc: 0.9102 - val_dense_18_acc: 0.8841\n",
      "Epoch 67/75\n",
      "135s - loss: 1.0126 - dense_14_loss: 8.4921e-04 - dense_15_loss: 0.0540 - dense_16_loss: 0.2401 - dense_17_loss: 0.3215 - dense_18_loss: 0.3962 - dense_14_acc: 0.9998 - dense_15_acc: 0.9827 - dense_16_acc: 0.9245 - dense_17_acc: 0.8965 - dense_18_acc: 0.8702 - val_loss: 0.8632 - val_dense_14_loss: 0.0019 - val_dense_15_loss: 0.0135 - val_dense_16_loss: 0.1259 - val_dense_17_loss: 0.3224 - val_dense_18_loss: 0.3995 - val_dense_14_acc: 0.9998 - val_dense_15_acc: 0.9959 - val_dense_16_acc: 0.9669 - val_dense_17_acc: 0.9099 - val_dense_18_acc: 0.8814\n",
      "Epoch 68/75\n",
      "132s - loss: 1.0116 - dense_14_loss: 0.0012 - dense_15_loss: 0.0544 - dense_16_loss: 0.2389 - dense_17_loss: 0.3232 - dense_18_loss: 0.3939 - dense_14_acc: 0.9997 - dense_15_acc: 0.9833 - dense_16_acc: 0.9228 - dense_17_acc: 0.8961 - dense_18_acc: 0.8716 - val_loss: 0.8634 - val_dense_14_loss: 0.0018 - val_dense_15_loss: 0.0142 - val_dense_16_loss: 0.1251 - val_dense_17_loss: 0.3226 - val_dense_18_loss: 0.3996 - val_dense_14_acc: 0.9998 - val_dense_15_acc: 0.9961 - val_dense_16_acc: 0.9653 - val_dense_17_acc: 0.9082 - val_dense_18_acc: 0.8797\n",
      "Epoch 69/75\n",
      "149s - loss: 1.0027 - dense_14_loss: 0.0012 - dense_15_loss: 0.0546 - dense_16_loss: 0.2342 - dense_17_loss: 0.3179 - dense_18_loss: 0.3948 - dense_14_acc: 0.9997 - dense_15_acc: 0.9828 - dense_16_acc: 0.9256 - dense_17_acc: 0.8984 - dense_18_acc: 0.8695 - val_loss: 0.8735 - val_dense_14_loss: 0.0018 - val_dense_15_loss: 0.0165 - val_dense_16_loss: 0.1352 - val_dense_17_loss: 0.3243 - val_dense_18_loss: 0.3957 - val_dense_14_acc: 0.9998 - val_dense_15_acc: 0.9953 - val_dense_16_acc: 0.9633 - val_dense_17_acc: 0.9093 - val_dense_18_acc: 0.8769\n",
      "Epoch 70/75\n",
      "147s - loss: 0.9974 - dense_14_loss: 0.0013 - dense_15_loss: 0.0536 - dense_16_loss: 0.2338 - dense_17_loss: 0.3184 - dense_18_loss: 0.3903 - dense_14_acc: 0.9997 - dense_15_acc: 0.9832 - dense_16_acc: 0.9262 - dense_17_acc: 0.8999 - dense_18_acc: 0.8726 - val_loss: 0.8638 - val_dense_14_loss: 0.0017 - val_dense_15_loss: 0.0142 - val_dense_16_loss: 0.1275 - val_dense_17_loss: 0.3305 - val_dense_18_loss: 0.3900 - val_dense_14_acc: 0.9998 - val_dense_15_acc: 0.9962 - val_dense_16_acc: 0.9652 - val_dense_17_acc: 0.9080 - val_dense_18_acc: 0.8870\n",
      "Epoch 71/75\n",
      "143s - loss: 0.9976 - dense_14_loss: 0.0012 - dense_15_loss: 0.0562 - dense_16_loss: 0.2314 - dense_17_loss: 0.3216 - dense_18_loss: 0.3872 - dense_14_acc: 0.9996 - dense_15_acc: 0.9826 - dense_16_acc: 0.9252 - dense_17_acc: 0.8972 - dense_18_acc: 0.8725 - val_loss: 0.8652 - val_dense_14_loss: 0.0019 - val_dense_15_loss: 0.0150 - val_dense_16_loss: 0.1287 - val_dense_17_loss: 0.3237 - val_dense_18_loss: 0.3959 - val_dense_14_acc: 0.9998 - val_dense_15_acc: 0.9955 - val_dense_16_acc: 0.9660 - val_dense_17_acc: 0.9133 - val_dense_18_acc: 0.8828\n",
      "Epoch 72/75\n",
      "147s - loss: 0.9887 - dense_14_loss: 8.5458e-04 - dense_15_loss: 0.0529 - dense_16_loss: 0.2314 - dense_17_loss: 0.3132 - dense_18_loss: 0.3903 - dense_14_acc: 0.9997 - dense_15_acc: 0.9842 - dense_16_acc: 0.9267 - dense_17_acc: 0.8998 - dense_18_acc: 0.8731 - val_loss: 0.8643 - val_dense_14_loss: 0.0022 - val_dense_15_loss: 0.0155 - val_dense_16_loss: 0.1276 - val_dense_17_loss: 0.3269 - val_dense_18_loss: 0.3922 - val_dense_14_acc: 0.9998 - val_dense_15_acc: 0.9959 - val_dense_16_acc: 0.9654 - val_dense_17_acc: 0.9095 - val_dense_18_acc: 0.8863\n",
      "Epoch 73/75\n",
      "151s - loss: 0.9939 - dense_14_loss: 0.0010 - dense_15_loss: 0.0546 - dense_16_loss: 0.2340 - dense_17_loss: 0.3189 - dense_18_loss: 0.3854 - dense_14_acc: 0.9997 - dense_15_acc: 0.9831 - dense_16_acc: 0.9264 - dense_17_acc: 0.8985 - dense_18_acc: 0.8750 - val_loss: 0.8861 - val_dense_14_loss: 0.0019 - val_dense_15_loss: 0.0158 - val_dense_16_loss: 0.1337 - val_dense_17_loss: 0.3346 - val_dense_18_loss: 0.4000 - val_dense_14_acc: 0.9998 - val_dense_15_acc: 0.9955 - val_dense_16_acc: 0.9644 - val_dense_17_acc: 0.9086 - val_dense_18_acc: 0.8818\n",
      "Epoch 74/75\n",
      "149s - loss: 0.9874 - dense_14_loss: 0.0014 - dense_15_loss: 0.0514 - dense_16_loss: 0.2317 - dense_17_loss: 0.3176 - dense_18_loss: 0.3853 - dense_14_acc: 0.9996 - dense_15_acc: 0.9832 - dense_16_acc: 0.9267 - dense_17_acc: 0.8998 - dense_18_acc: 0.8737 - val_loss: 0.8601 - val_dense_14_loss: 0.0017 - val_dense_15_loss: 0.0139 - val_dense_16_loss: 0.1293 - val_dense_17_loss: 0.3219 - val_dense_18_loss: 0.3933 - val_dense_14_acc: 0.9998 - val_dense_15_acc: 0.9962 - val_dense_16_acc: 0.9648 - val_dense_17_acc: 0.9101 - val_dense_18_acc: 0.8838\n",
      "Epoch 75/75\n",
      "131s - loss: 0.9885 - dense_14_loss: 0.0011 - dense_15_loss: 0.0538 - dense_16_loss: 0.2327 - dense_17_loss: 0.3156 - dense_18_loss: 0.3853 - dense_14_acc: 0.9996 - dense_15_acc: 0.9834 - dense_16_acc: 0.9264 - dense_17_acc: 0.8983 - dense_18_acc: 0.8753 - val_loss: 0.8555 - val_dense_14_loss: 0.0019 - val_dense_15_loss: 0.0158 - val_dense_16_loss: 0.1260 - val_dense_17_loss: 0.3200 - val_dense_18_loss: 0.3918 - val_dense_14_acc: 0.9998 - val_dense_15_acc: 0.9960 - val_dense_16_acc: 0.9657 - val_dense_17_acc: 0.9124 - val_dense_18_acc: 0.8827\n"
     ]
    }
   ],
   "source": [
    "hide_code\n",
    "cnn_model2 = cnn_model2()\n",
    "\n",
    "history2 = cnn_model2.fit(X_train, y_train_cat_list, validation_data=(X_test, y_test_cat_list), \n",
    "                          epochs=75, batch_size=128, verbose=2)"
   ]
  },
  {
   "cell_type": "code",
   "execution_count": 36,
   "metadata": {
    "collapsed": false
   },
   "outputs": [
    {
     "name": "stdout",
     "output_type": "stream",
     "text": [
      "CNN Model 2. Scores: \n",
      " [0.85547728419303892, 0.0019149356962359435, 0.01576452326722938, 0.12598609016587337, 0.31996486308177313, 0.39184686940908431, 0.99983333333333335, 0.996, 0.96566666666666667, 0.91241666666666665, 0.88266666666666671]\n",
      "CNN Model 2. First digit. Accuracy: 99.98%\n",
      "CNN Model 2. Second digit. Accuracy: 99.60%\n",
      "CNN Model 2. Third digit. Accuracy: 96.57%\n",
      "CNN Model 2. Fourth digit. Accuracy: 91.24%\n",
      "CNN Model 2. Fifth digit. Accuracy: 88.27%\n",
      "____________________________________________________________________________________________________\n",
      "Layer (type)                     Output Shape          Param #     Connected to                     \n",
      "====================================================================================================\n",
      "input_3 (InputLayer)             (None, 32, 32, 1)     0                                            \n",
      "____________________________________________________________________________________________________\n",
      "batch_normalization_2 (BatchNorm (None, 32, 32, 1)     4           input_3[0][0]                    \n",
      "____________________________________________________________________________________________________\n",
      "conv2d_8 (Conv2D)                (None, 28, 28, 32)    832         batch_normalization_2[0][0]      \n",
      "____________________________________________________________________________________________________\n",
      "max_pooling2d_5 (MaxPooling2D)   (None, 14, 14, 32)    0           conv2d_8[0][0]                   \n",
      "____________________________________________________________________________________________________\n",
      "dropout_8 (Dropout)              (None, 14, 14, 32)    0           max_pooling2d_5[0][0]            \n",
      "____________________________________________________________________________________________________\n",
      "conv2d_9 (Conv2D)                (None, 10, 10, 64)    51264       dropout_8[0][0]                  \n",
      "____________________________________________________________________________________________________\n",
      "max_pooling2d_6 (MaxPooling2D)   (None, 5, 5, 64)      0           conv2d_9[0][0]                   \n",
      "____________________________________________________________________________________________________\n",
      "dropout_9 (Dropout)              (None, 5, 5, 64)      0           max_pooling2d_6[0][0]            \n",
      "____________________________________________________________________________________________________\n",
      "flatten_3 (Flatten)              (None, 1600)          0           dropout_9[0][0]                  \n",
      "____________________________________________________________________________________________________\n",
      "dense_13 (Dense)                 (None, 256)           409856      flatten_3[0][0]                  \n",
      "____________________________________________________________________________________________________\n",
      "dropout_10 (Dropout)             (None, 256)           0           dense_13[0][0]                   \n",
      "____________________________________________________________________________________________________\n",
      "dense_14 (Dense)                 (None, 11)            2827        dropout_10[0][0]                 \n",
      "____________________________________________________________________________________________________\n",
      "dense_15 (Dense)                 (None, 11)            2827        dropout_10[0][0]                 \n",
      "____________________________________________________________________________________________________\n",
      "dense_16 (Dense)                 (None, 11)            2827        dropout_10[0][0]                 \n",
      "____________________________________________________________________________________________________\n",
      "dense_17 (Dense)                 (None, 11)            2827        dropout_10[0][0]                 \n",
      "____________________________________________________________________________________________________\n",
      "dense_18 (Dense)                 (None, 11)            2827        dropout_10[0][0]                 \n",
      "====================================================================================================\n",
      "Total params: 476,091\n",
      "Trainable params: 476,089\n",
      "Non-trainable params: 2\n",
      "____________________________________________________________________________________________________\n",
      "None\n"
     ]
    }
   ],
   "source": [
    "hide_code\n",
    "cnn_scores2 = cnn_model2.evaluate(X_test, y_test_cat_list, verbose=0)\n",
    "\n",
    "print(\"CNN Model 2. Scores: \\n\" , (cnn_scores2))\n",
    "print(\"CNN Model 2. First digit. Accuracy: %.2f%%\" % (cnn_scores2[6]*100))\n",
    "print(\"CNN Model 2. Second digit. Accuracy: %.2f%%\" % (cnn_scores2[7]*100))\n",
    "print(\"CNN Model 2. Third digit. Accuracy: %.2f%%\" % (cnn_scores2[8]*100))\n",
    "print(\"CNN Model 2. Fourth digit. Accuracy: %.2f%%\" % (cnn_scores2[9]*100))\n",
    "print(\"CNN Model 2. Fifth digit. Accuracy: %.2f%%\" % (cnn_scores2[10]*100))\n",
    "\n",
    "print(cnn_model2.summary())"
   ]
  },
  {
   "cell_type": "code",
   "execution_count": 37,
   "metadata": {
    "collapsed": false
   },
   "outputs": [
    {
     "data": {
      "image/png": "[encoded data removed]",
      "text/plain": [
       "<matplotlib.figure.Figure at 0x14451cbe0>"
      ]
     },
     "metadata": {},
     "output_type": "display_data"
    }
   ],
   "source": [
    "hide_code\n",
    "plt.figure(figsize=(18, 4))\n",
    "\n",
    "plt.plot(history2.history['val_dense_14_acc'], label = 'First digit')\n",
    "plt.plot(history2.history['val_dense_15_acc'], label = 'Second digit')\n",
    "plt.plot(history2.history['val_dense_16_acc'], label = 'Third digit')\n",
    "plt.plot(history2.history['val_dense_17_acc'], label = 'Fourth digit')\n",
    "plt.plot(history2.history['val_dense_18_acc'], label = 'Fifth digit')\n",
    "\n",
    "plt.legend()\n",
    "plt.title('Accuracy');"
   ]
  },
  {
   "cell_type": "code",
   "execution_count": 38,
   "metadata": {
    "collapsed": false
   },
   "outputs": [
    {
     "name": "stdout",
     "output_type": "stream",
     "text": [
      "CNN Model 2. Average Accuracy: 95.13%\n"
     ]
    }
   ],
   "source": [
    "hide_code\n",
    "avg_accuracy2 = sum([cnn_scores2[i] for i in range(6, 11)])/5\n",
    "\n",
    "print(\"CNN Model 2. Average Accuracy: %.2f%%\" % (avg_accuracy2*100))"
   ]
  },
  {
   "cell_type": "markdown",
   "metadata": {},
   "source": [
    "***Save the Models***"
   ]
  },
  {
   "cell_type": "code",
   "execution_count": 39,
   "metadata": {
    "collapsed": true
   },
   "outputs": [],
   "source": [
    "cnn_model.save('cnn_model_file1_1.h5')"
   ]
  },
  {
   "cell_type": "code",
   "execution_count": 40,
   "metadata": {
    "collapsed": true
   },
   "outputs": [],
   "source": [
    "cnn_model2.save('cnn_model2_file1_1.h5')"
   ]
  },
  {
   "cell_type": "markdown",
   "metadata": {},
   "source": [
    "---\n",
    "## $\\mathfrak {\\color{#191970} {Questions \\ and \\ Answers}}$"
   ]
  },
  {
   "cell_type": "markdown",
   "metadata": {
    "collapsed": true
   },
   "source": [
    "### Question 4\n",
    "_Describe how you set up the training and testing data for your model. How does the model perform on a realistic dataset?_\n",
    "### Answer 4\n",
    "Tens of thousands of photos were processed as follows:\n",
    "\n",
    "- fields of photos that do not contain digits were cut off;\n",
    "- the photos were formatted to the standard 32X32 size and three color channels were converted into one channel (gray scale);\n",
    "- each of the resulting images was represented as an array of numbers;\n",
    "- two sets of data (training and test data) were made from these arrays; \n",
    "- the data were recorded in files of two different formats for the convenience of repeated use.\n",
    "\n",
    "I have found two ways to impove the model for the best results on a realistic dataset:\n",
    "\n",
    "- the first model shows the average accuracy 95.61%;\n",
    "- the second model shows the average accuracy 95.13%."
   ]
  },
  {
   "cell_type": "markdown",
   "metadata": {
    "collapsed": true
   },
   "source": [
    "---\n",
    "### Question 5\n",
    "_What changes did you have to make, if any, to achieve \"good\" results? Were there any options you explored that made the results worse?_\n",
    "### Answer 5\n",
    "The architecture of the model were changed.\n",
    "\n",
    "- In the first case:\n",
    "   - the layer *Conv2D(128, (3, 3), activation='relu')* was added;\n",
    "   - *Dropout(0.25)*, *Dropout(0.25)*, *Dropout(0.25)*, *Dropout(0.5)* layers were used instead of *Dropout(0.2)*, *Dropout(0.2)*, *Dropout(0.4)*.\n",
    "   \n",
    "- In the second case, there is a big difference between the initial model and the starter one:\n",
    "  - two convolutional layers *Conv2D(32, (5, 5), activation='relu')* and *Conv2D(64, (5, 5), activation='relu')* instead of four *Conv2D(32, (3, 3), activation='relu')*, *Conv2D(32, (3, 3), activation='relu')*, *Conv2D(64, (3, 3), activation='relu')*, *Conv2D(64, (3, 3), activation='relu')*; \n",
    "  - the *BatchNormalization()* layer was added;\n",
    "  - the first *Dense* layer has dimensionality [256] instead of [512];\n",
    "  - *Dropout(0.25)*, *Dropout(0.25)*, *Dropout(0.5)* layers instead of *Dropout(0.2)*, *Dropout(0.2)*, *Dropout(0.4)*.\n",
    "\n",
    "The number of the epochs became greater (50 and 75 instead of 20).\n",
    "\n",
    "In both cases the result became worse with reducing the batch size (for example, 128 -> 64)."
   ]
  },
  {
   "cell_type": "markdown",
   "metadata": {
    "collapsed": true
   },
   "source": [
    "---\n",
    "### Question 6\n",
    "_What were your initial and final results with testing on a realistic dataset? Do you believe your model is doing a good enough job at classifying numbers correctly?_\n",
    "### Answer 6\n",
    "The initial values of accuracy were in 79-86%. The final level about 95% is an advanced result for the real data.\n",
    "So the model can do a good job at classifying numbers. Of course, the result can be improved by further research to achieve even higher accuracy."
   ]
  }
 ],
 "metadata": {
  "anaconda-cloud": {},
  "hide_input": false,
  "kernelspec": {
   "display_name": "Python 3",
   "language": "python",
   "name": "python3"
  },
  "language_info": {
   "codemirror_mode": {
    "name": "ipython",
    "version": 3
   },
   "file_extension": ".py",
   "mimetype": "text/x-python",
   "name": "python",
   "nbconvert_exporter": "python",
   "pygments_lexer": "ipython3",
   "version": "3.6.1"
  },
  "latex_envs": {
   "bibliofile": "biblio.bib",
   "cite_by": "apalike",
   "current_citInitial": 1,
   "eqLabelWithNumbers": true,
   "eqNumInitial": 0
  }
 },
 "nbformat": 4,
 "nbformat_minor": 2
}
