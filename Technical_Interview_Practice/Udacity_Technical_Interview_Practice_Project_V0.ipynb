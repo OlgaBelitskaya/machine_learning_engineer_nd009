{
 "cells": [
  {
   "cell_type": "markdown",
   "metadata": {
    "outputExpanded": false
   },
   "source": [
    "# Udacity CAREER DEVELOPMENT"
   ]
  },
  {
   "cell_type": "markdown",
   "metadata": {
    "outputExpanded": false
   },
   "source": [
    "## &#x1F3E2; &nbsp; Technical Interview Practice. Project\n",
    "\n",
    "### &#x1F4D1; &nbsp; Links\n",
    "#### Classes (python): https://docs.python.org/3.3/tutorial/classes.html\n",
    "#### Data structures: https://docs.python.org/2/tutorial/datastructures.html\n",
    "#### Problem Solving with Algorithms and Data Structures using Python: https://interactivepython.org/runestone/static/pythonds/index.html\n",
    "#### NetworkX: https://networkx.github.io/documentation/networkx-1.10/overview.html\n",
    "#### Big-O Complexity: http://bigocheatsheet.com/\n",
    "#### Data Structure Visualizations:  https://www.cs.usfca.edu/~galles/visualization/Algorithms.html\n",
    "#### Complexity of Python Operations: https://www.ics.uci.edu/~pattis/ICS-33/lectures/complexitypython.txt"
   ]
  },
  {
   "cell_type": "markdown",
   "metadata": {},
   "source": [
    "### &#x1F4D1; &nbsp; Submission Instructions\n",
    "- For each question, create a solution in Python (version 2). All solutions should be functions named as “question1”, “question2”, et cetera. Feel free to make additional helper functions or classes as needed. Code solutions must be in a file called \"solutions.py\".\n",
    "- In the same .py file, include at least 3 test cases for each solution. For each test case, write the function call with the input you want to test and print it to the console, like \"print question1()\". On the next line, comment out the output you expect to see from that function call. At least 2 of these must be edge cases, testing inputs such as null values, empty inputs, unusually large values, et cetera.\n",
    "- Write up an explanation for each question in a single separate text file (called \"explanations.txt\"). Your paragraph should not be a detailed walkthrough of the code you provided, but provide your reasoning behind decisions made in the code. For example, why did you use that data structure? You also need to explain the efficiency (time and space) of your solution.\n",
    "- Compress your one Python and one text file into a .zip, and submit."
   ]
  },
  {
   "cell_type": "markdown",
   "metadata": {
    "collapsed": true,
    "outputExpanded": false
   },
   "source": [
    "###  &#x1F4D1; &nbsp; Question 1\n",
    "Given two strings s and t, determine whether some anagram of t is a substring of s.\n",
    "\n",
    "For example: if s = \"udacity\" and t = \"ad\", then the function returns True.\n",
    "\n",
    "Your function definition should look like: question1(s, t) and return a boolean True or False."
   ]
  },
  {
   "cell_type": "markdown",
   "metadata": {},
   "source": [
    "###  &#x1F4D1; &nbsp; Solution 1"
   ]
  },
  {
   "cell_type": "code",
   "execution_count": 7,
   "metadata": {
    "collapsed": false
   },
   "outputs": [],
   "source": [
    "import time\n",
    "import sys\n",
    "import numpy as np\n",
    "# from enthought.mayavi import mlab"
   ]
  },
  {
   "cell_type": "code",
   "execution_count": 66,
   "metadata": {
    "collapsed": false,
    "outputExpanded": false
   },
   "outputs": [
    {
     "name": "stdout",
     "output_type": "stream",
     "text": [
      "--- 0.0003840923309326172 seconds ---\n"
     ]
    }
   ],
   "source": [
    "start_time = time.time()\n",
    "def question1(s, t):\n",
    "    (result, indices) = (True, [])\n",
    "    \n",
    "    for element in list(t):\n",
    "        boolean = element in (list(s))            \n",
    "        if boolean == False: \n",
    "            (result, indices) = (False,[])\n",
    "        else:\n",
    "            indices.append(list(s).index(element))\n",
    "            result = np.logical_and(result, boolean)\n",
    "    \n",
    "    if (result == True) & (sum(map(abs, np.diff(indices))) == len(indices) - 1):\n",
    "        return True\n",
    "    else: \n",
    "        return False\n",
    "print(\"--- %s seconds ---\" % (time.time() - start_time))"
   ]
  },
  {
   "cell_type": "markdown",
   "metadata": {},
   "source": [
    "### &#x1F52C; &nbsp; Test 1"
   ]
  },
  {
   "cell_type": "code",
   "execution_count": 35,
   "metadata": {
    "collapsed": false
   },
   "outputs": [
    {
     "name": "stdout",
     "output_type": "stream",
     "text": [
      "cit in udacity : True\n",
      "ad in udacity : True\n",
      "mod in udacity : False\n",
      "CPU times: user 1.45 ms, sys: 3.64 ms, total: 5.09 ms\n",
      "Wall time: 88.3 ms\n",
      "--- 0.09206795692443848 seconds ---\n"
     ]
    }
   ],
   "source": [
    "def print_question1():\n",
    "    s = \"udacity\"\n",
    "    t = [\"cit\", \"ad\", \"mod\"]\n",
    "    for el in t:\n",
    "        print (el + \" in \" + s + \" : \" + str(question1(s, el)))\n",
    "        \n",
    "start_time = time.time()\n",
    "%time print_question1()\n",
    "print(\"--- %s seconds ---\" % (time.time() - start_time))"
   ]
  },
  {
   "cell_type": "markdown",
   "metadata": {},
   "source": [
    "### &#x1F52C; &nbsp;  Explanation 1"
   ]
  },
  {
   "cell_type": "markdown",
   "metadata": {
    "collapsed": true
   },
   "source": [
    "The solution is based on the clear reasons:\n",
    "\n",
    "- creating the lists of elements from both strings list() is needed for analysis;\n",
    "- the use the boolean AND np.logical_and() gives the result \"True\" if all symbols from the second string are in the first one;\n",
    "- the list of indices of the first string for elements from the second string is made in the same loop;\n",
    "- applying functions for the indices [sum(), map(), abs(), .diff()] helps to find exactly anagrams: if sorted indices have the absolute values of differences 1 and therefore symbols from the second string stand consecutively in the first one then the function returns \"True\".\n",
    "\n",
    "Efficiency: $\\mathscr Q(n^2 \\star m)$, where n - the length of s and m - the length of t.\n",
    "                                              \n",
    "Space complexity: $\\mathscr Q(N\\star M)$, where N=len(s), M=len(t)."
   ]
  },
  {
   "cell_type": "markdown",
   "metadata": {
    "collapsed": true,
    "outputExpanded": false
   },
   "source": [
    "###  &#x1F4D1; &nbsp; Question 2\n",
    "Given a string a, find the longest palindromic substring contained in a.\n",
    "\n",
    "Your function definition should look like question2(a), and return a string."
   ]
  },
  {
   "cell_type": "markdown",
   "metadata": {},
   "source": [
    "###  &#x1F4D1; &nbsp; Solution 2"
   ]
  },
  {
   "cell_type": "code",
   "execution_count": 67,
   "metadata": {
    "collapsed": false,
    "outputExpanded": false
   },
   "outputs": [
    {
     "name": "stdout",
     "output_type": "stream",
     "text": [
      "--- 0.000537872314453125 seconds ---\n"
     ]
    }
   ],
   "source": [
    "start_time = time.time()\n",
    "def question2(a):\n",
    "    result = search_palindrome_in(a)\n",
    "    if (len(list(a)) == 0):        \n",
    "        return '' \n",
    "    elif (len(list(a)) == 1) | (result == []):\n",
    "        if 'a' in list(a):\n",
    "            return 'a'\n",
    "        else:\n",
    "            return None\n",
    "    else:\n",
    "        max_length = max(len(s) for s in result)\n",
    "        longest_result = [s for s in result if len(s) == max_length]\n",
    "        return longest_result[0]\n",
    "    \n",
    "def is_palindrome(string):\n",
    "    if string == \"\":\n",
    "        return True\n",
    "    else:\n",
    "        if string[0] == string[-1]:\n",
    "            return is_palindrome(string[1:-1])\n",
    "        else:\n",
    "            return False\n",
    "        \n",
    "def substrings(string):\n",
    "    for n in range(2, len(string)):\n",
    "        for start in range(0, len(string)-n+1):\n",
    "            yield string[start:start+n]\n",
    "\n",
    "def search_palindrome_in(string):\n",
    "    palindromes = []\n",
    "    parts = substrings(string)\n",
    "    for element in parts:\n",
    "        if is_palindrome(element):\n",
    "            palindromes.append(element)\n",
    "    if is_palindrome(string):\n",
    "        palindromes.append(string)\n",
    "    return palindromes\n",
    "print(\"--- %s seconds ---\" % (time.time() - start_time))"
   ]
  },
  {
   "cell_type": "markdown",
   "metadata": {},
   "source": [
    "### &#x1F52C; &nbsp; Test 2"
   ]
  },
  {
   "cell_type": "code",
   "execution_count": 21,
   "metadata": {
    "collapsed": false
   },
   "outputs": [
    {
     "name": "stdout",
     "output_type": "stream",
     "text": [
      "\n",
      "None\n",
      "a\n",
      "ette\n",
      "ara\n",
      "rotator\n",
      "CPU times: user 1.62 ms, sys: 1.65 ms, total: 3.27 ms\n",
      "Wall time: 3.07 ms\n",
      "--- 0.005610942840576172 seconds ---\n"
     ]
    }
   ],
   "source": [
    "def print_question2():\n",
    "    test_cases = ['', 'test', 'mart', 'letter', 'parallelogram', 'radarrotator']\n",
    "    for test in test_cases:   \n",
    "#        print (list(test))\n",
    "#        print (list(substrings(test)))\n",
    "#        print (search_palindrome_in(test))\n",
    "        print (question2(test))\n",
    "    \n",
    "start_time = time.time()\n",
    "%time print_question2()\n",
    "print(\"--- %s seconds ---\" % (time.time() - start_time))  "
   ]
  },
  {
   "cell_type": "markdown",
   "metadata": {},
   "source": [
    "### &#x1F52C; &nbsp; Explanation 2"
   ]
  },
  {
   "cell_type": "markdown",
   "metadata": {
    "collapsed": true
   },
   "source": [
    "In this case, the solution includes several helper functions. \n",
    "\n",
    "It's the most convenient way for me to build every step as a separate function in the logical order. \n",
    "\n",
    "For all helper functions, I try to find the easiest and quickest way for every concrete operation.\n",
    "\n",
    "The final function indicates that the word 'a' consists of one letter and can be considered as a palindrome.\n",
    "\n",
    "Efficiency: $\\mathscr Q(n\\star m\\star p)$, \n",
    "\n",
    "where n - the length of a, m - the length of the list with string parts, p - the length if the palindrome list.\n",
    "\n",
    "Space complexity: $\\mathscr Q(N^2)$, where N=len(a)."
   ]
  },
  {
   "cell_type": "markdown",
   "metadata": {
    "collapsed": true,
    "outputExpanded": false
   },
   "source": [
    "###  &#x1F4D1; &nbsp; Question 3\n",
    "Given an undirected graph G, find the minimum spanning tree within G.\n",
    "\n",
    "A minimum spanning tree connects all vertices in a graph with the smallest possible total weight of edges. \n",
    "\n",
    "Your function should take in and return an adjacency list structured like this:"
   ]
  },
  {
   "cell_type": "code",
   "execution_count": 16,
   "metadata": {
    "collapsed": false,
    "outputExpanded": false
   },
   "outputs": [],
   "source": [
    "GE = {'A': [('B', 2)],\n",
    "      'B': [('A', 2), ('C', 5)], \n",
    "      'C': [('B', 5)]}"
   ]
  },
  {
   "cell_type": "markdown",
   "metadata": {
    "collapsed": false
   },
   "source": [
    "Vertices are represented as unique strings. The function definition should be question3(G)"
   ]
  },
  {
   "cell_type": "markdown",
   "metadata": {},
   "source": [
    "###  &#x1F4D1; &nbsp; Solution 3"
   ]
  },
  {
   "cell_type": "code",
   "execution_count": 24,
   "metadata": {
    "collapsed": true
   },
   "outputs": [],
   "source": [
    "import networkx as nx\n",
    "from collections import OrderedDict\n",
    "import matplotlib.pyplot as plt\n",
    "% matplotlib inline"
   ]
  },
  {
   "cell_type": "code",
   "execution_count": 68,
   "metadata": {
    "collapsed": false
   },
   "outputs": [
    {
     "name": "stdout",
     "output_type": "stream",
     "text": [
      "--- 0.00037789344787597656 seconds ---\n"
     ]
    }
   ],
   "source": [
    "start_time = time.time()\n",
    "def question3(G):\n",
    "    GW = create_wgraph(G)\n",
    "    MST = nx.minimum_spanning_tree(GW)\n",
    "    D = create_wdictionary(MST)\n",
    "    OD = OrderedDict(sorted(D.items(), key=lambda t: t[0]))\n",
    "    return OD\n",
    "\n",
    "def create_wgraph(G):\n",
    "    W = nx.Graph()\n",
    "    for n, edges in G.items():\n",
    "        for (u,v) in edges:\n",
    "            W.add_edge(n, u, weight=v)\n",
    "    return W\n",
    "\n",
    "def create_wdictionary(W):\n",
    "    D ={}\n",
    "    Ws = nx.get_edge_attributes(W,'weight')\n",
    "    for ((u,v), n) in Ws.items():\n",
    "        D[u] = [(v, n)]\n",
    "    return D\n",
    "print(\"--- %s seconds ---\" % (time.time() - start_time))"
   ]
  },
  {
   "cell_type": "markdown",
   "metadata": {},
   "source": [
    "### &#x1F52C; &nbsp;  Test 3"
   ]
  },
  {
   "cell_type": "code",
   "execution_count": 26,
   "metadata": {
    "collapsed": false
   },
   "outputs": [
    {
     "name": "stdout",
     "output_type": "stream",
     "text": [
      "{('G', 'F'): 7, ('D', 'E'): 8, ('E', 'F'): 3, ('B', 'A'): 2, ('J', 'A'): 3, ('D', 'A'): 6, ('B', 'C'): 5, ('G', 'A'): 4, ('I', 'G'): 3, ('I', 'J'): 7, ('E', 'C'): 5, ('H', 'G'): 8}\n",
      "\n",
      "-----------------------------------------------------------------------------------------------------------\n",
      "\n",
      "{('G', 'A'): 4, ('C', 'E'): 5, ('I', 'G'): 3, ('B', 'A'): 2, ('E', 'F'): 3, ('C', 'B'): 5, ('J', 'A'): 3, ('D', 'A'): 6, ('G', 'H'): 8}\n",
      "\n",
      "-----------------------------------------------------------------------------------------------------------\n",
      "\n",
      "{'D': [('A', 6)], 'I': [('G', 3)], 'C': [('B', 5)], 'B': [('A', 2)], 'J': [('A', 3)], 'G': [('H', 8)], 'E': [('F', 3)]}\n",
      "\n",
      "-----------------------------------------------------------------------------------------------------------\n",
      "\n",
      "OrderedDict([('B', [('A', 2)]), ('C', [('B', 5)]), ('D', [('A', 6)]), ('E', [('F', 3)]), ('G', [('H', 8)]), ('I', [('G', 3)]), ('J', [('A', 3)])])\n",
      "\n",
      "--- 0.007030010223388672 seconds ---\n"
     ]
    }
   ],
   "source": [
    "G = {'A': [('B', 2), ('D', 6), ('G', 4), ('J', 3)],\n",
    "     'B': [('A', 2), ('C', 5)], \n",
    "     'C': [('B', 5), ('E', 5)],\n",
    "     'D': [('A', 6), ('E', 8)],\n",
    "     'E': [('C', 5), ('D', 8), ('F', 3)],\n",
    "     'F': [('E', 3), ('G', 7)],\n",
    "     'G': [('A', 4), ('F', 7), ('H', 8), ('I', 3)],\n",
    "     'H': [('G', 8)], \n",
    "     'I': [('G', 3), ('J', 7)],\n",
    "     'J': [('A', 3), ('I', 7)]}\n",
    "\n",
    "WG = create_wgraph(G)\n",
    "weights = nx.get_edge_attributes(WG,'weight')\n",
    "print (weights)\n",
    "print('')\n",
    "print ('-----------------------------------------------------------------------------------------------------------')\n",
    "print('')\n",
    "MST = nx.minimum_spanning_tree(WG)\n",
    "weightsMST = nx.get_edge_attributes(MST,'weight')\n",
    "print (weightsMST)\n",
    "print('')\n",
    "print ('-----------------------------------------------------------------------------------------------------------')\n",
    "print('')\n",
    "print (create_wdictionary(MST))\n",
    "print('')\n",
    "print ('-----------------------------------------------------------------------------------------------------------')\n",
    "print('')\n",
    "\n",
    "start_time = time.time()\n",
    "\n",
    "print (question3(G))\n",
    "print('')\n",
    "\n",
    "print(\"--- %s seconds ---\" % (time.time() - start_time))"
   ]
  },
  {
   "cell_type": "code",
   "execution_count": 68,
   "metadata": {
    "collapsed": false
   },
   "outputs": [
    {
     "name": "stdout",
     "output_type": "stream",
     "text": [
      "{('G', 'H'): 8, ('E', 'C'): 5, ('G', 'F'): 7, ('J', 'I'): 7, ('A', 'G'): 4, ('E', 'F'): 3, ('B', 'C'): 5, ('A', 'D'): 6, ('A', 'B'): 2, ('D', 'E'): 8, ('A', 'J'): 3, ('G', 'I'): 3}\n"
     ]
    },
    {
     "data": {
      "image/png": "[encoded data removed]",
      "text/plain": [
       "<matplotlib.figure.Figure at 0x11dd5a4e0>"
      ]
     },
     "metadata": {},
     "output_type": "display_data"
    }
   ],
   "source": [
    "pos=nx.fruchterman_reingold_layout(WG)\n",
    "nx.draw(WG, pos, with_labels=True, node_shape='8', node_size=800, \n",
    "        node_color='steelblue', edge_color='skyblue', width=7, alpha=0.7)\n",
    "nx.draw_networkx_edge_labels(WG, pos, edge_labels=weights)\n",
    "print (weights)"
   ]
  },
  {
   "cell_type": "code",
   "execution_count": 69,
   "metadata": {
    "collapsed": false
   },
   "outputs": [
    {
     "name": "stdout",
     "output_type": "stream",
     "text": [
      "{('G', 'H'): 8, ('E', 'C'): 5, ('A', 'D'): 6, ('A', 'B'): 2, ('F', 'E'): 3, ('B', 'C'): 5, ('A', 'J'): 3, ('G', 'I'): 3, ('A', 'G'): 4}\n"
     ]
    },
    {
     "data": {
      "image/png": "[encoded data removed]",
      "text/plain": [
       "<matplotlib.figure.Figure at 0x11ddaaef0>"
      ]
     },
     "metadata": {},
     "output_type": "display_data"
    }
   ],
   "source": [
    "nx.draw(MST, pos, with_labels=True, node_shape='8', node_size=1000, \n",
    "        node_color='steelblue', edge_color='skyblue', width=7, alpha=0.7)\n",
    "nx.draw_networkx_edge_labels(WG, pos, edge_labels=weights)\n",
    "print (weightsMST)"
   ]
  },
  {
   "cell_type": "code",
   "execution_count": 13,
   "metadata": {
    "code_folding": [],
    "collapsed": true
   },
   "outputs": [],
   "source": [
    "G1 = {'A': [('B', 2), ('D', 6), ('G', 4), ('J', 3)],\n",
    "      'B': [('A', 2), ('C', 5), ('L', 4)], \n",
    "      'C': [('B', 5), ('E', 5), ('K', 8)],\n",
    "      'D': [('A', 6), ('E', 8)],\n",
    "      'E': [('C', 5), ('D', 8), ('F', 3)],\n",
    "      'F': [('E', 3), ('G', 7)],\n",
    "      'G': [('A', 4), ('F', 7), ('H', 8), ('I', 3)],\n",
    "      'H': [('G', 8), ('K', 5), ('O', 2)], \n",
    "      'I': [('G', 3), ('J', 7), ('N', 4)],\n",
    "      'J': [('A', 3), ('I', 7)],\n",
    "      'K': [('C', 8), ('H', 5), ('L', 3)],  \n",
    "      'L': [('B', 4), ('K', 3), ('M', 2)],\n",
    "      'M': [('L', 2), ('N', 7)],\n",
    "      'N': [('I', 4), ('M', 7), ('O', 5)],\n",
    "      'O': [('N', 5), ('H', 2)]}\n",
    "WG1 = create_wgraph(G1)\n",
    "weights1 = nx.get_edge_attributes(WG1,'weight')\n",
    "MST1 = nx.minimum_spanning_tree(WG1)\n",
    "weightsMST1 = nx.get_edge_attributes(MST1,'weight')"
   ]
  },
  {
   "cell_type": "code",
   "execution_count": 17,
   "metadata": {
    "collapsed": false
   },
   "outputs": [
    {
     "name": "stdout",
     "output_type": "stream",
     "text": [
      "{('C', 'B'): 5, ('B', 'L'): 4, ('B', 'A'): 2, ('I', 'N'): 4, ('J', 'I'): 7, ('J', 'A'): 3, ('C', 'K'): 8, ('D', 'A'): 6, ('M', 'N'): 7, ('G', 'F'): 7, ('O', 'H'): 2, ('K', 'L'): 3, ('G', 'I'): 3, ('K', 'H'): 5, ('G', 'A'): 4, ('E', 'D'): 8, ('G', 'H'): 8, ('O', 'N'): 5, ('C', 'E'): 5, ('M', 'L'): 2, ('E', 'F'): 3}\n"
     ]
    },
    {
     "data": {
      "image/png": "[encoded data removed]",
      "text/plain": [
       "<matplotlib.figure.Figure at 0x110fc5e10>"
      ]
     },
     "metadata": {},
     "output_type": "display_data"
    }
   ],
   "source": [
    "pos1=nx.fruchterman_reingold_layout(WG1)\n",
    "nx.draw(WG1, pos1, with_labels=True, node_shape='8', node_size=800, \n",
    "        node_color='steelblue', edge_color='skyblue', width=7, alpha=0.5)\n",
    "nx.draw_networkx_edge_labels(WG1, pos1, edge_labels=weights1)\n",
    "print (weights1)"
   ]
  },
  {
   "cell_type": "code",
   "execution_count": 19,
   "metadata": {
    "collapsed": false
   },
   "outputs": [
    {
     "name": "stdout",
     "output_type": "stream",
     "text": [
      "{('C', 'B'): 5, ('I', 'N'): 4, ('C', 'E'): 5, ('A', 'B'): 2, ('L', 'B'): 4, ('H', 'O'): 2, ('G', 'I'): 3, ('K', 'H'): 5, ('G', 'A'): 4, ('K', 'L'): 3, ('E', 'F'): 3, ('D', 'A'): 6, ('M', 'L'): 2, ('J', 'A'): 3}\n"
     ]
    },
    {
     "data": {
      "image/png": "[encoded data removed]",
      "text/plain": [
       "<matplotlib.figure.Figure at 0x1106365c0>"
      ]
     },
     "metadata": {},
     "output_type": "display_data"
    }
   ],
   "source": [
    "nx.draw(MST1, pos1, with_labels=True, node_shape='8', node_size=1000, \n",
    "        node_color='steelblue', edge_color='skyblue', width=7, alpha=0.5)\n",
    "nx.draw_networkx_edge_labels(WG1, pos1, edge_labels=weights1)\n",
    "print (weightsMST1)"
   ]
  },
  {
   "cell_type": "code",
   "execution_count": 14,
   "metadata": {
    "collapsed": false
   },
   "outputs": [
    {
     "name": "stdout",
     "output_type": "stream",
     "text": [
      "OrderedDict([('A', [('B', 2)]), ('B', [('C', 5)]), ('E', [('C', 5)]), ('H', [('O', 2)]), ('I', [('G', 3)]), ('J', [('A', 3)]), ('L', [('M', 2)])])\n",
      "--- 0.0011379718780517578 seconds ---\n"
     ]
    }
   ],
   "source": [
    "# final test\n",
    "start_time = time.time()\n",
    "\n",
    "print (question3(G1))\n",
    "\n",
    "print(\"--- %s seconds ---\" % (time.time() - start_time))"
   ]
  },
  {
   "cell_type": "code",
   "execution_count": 18,
   "metadata": {
    "collapsed": false
   },
   "outputs": [
    {
     "name": "stdout",
     "output_type": "stream",
     "text": [
      "OrderedDict([('A', [('B', 2)]), ('B', [('C', 5)])])\n",
      "--- 0.0006361007690429688 seconds ---\n"
     ]
    }
   ],
   "source": [
    "start_time = time.time()\n",
    "\n",
    "print (question3(GE))\n",
    "\n",
    "print(\"--- %s seconds ---\" % (time.time() - start_time))"
   ]
  },
  {
   "cell_type": "code",
   "execution_count": 27,
   "metadata": {
    "collapsed": false
   },
   "outputs": [
    {
     "name": "stdout",
     "output_type": "stream",
     "text": [
      "TEST 3.0, GRAPH G OrderedDict([('A', [('B', 2)]), ('C', [('B', 5)])])\n",
      "TEST 3.0, GRAPH G OrderedDict([('B', [('A', 2)]), ('C', [('B', 5)]), ('D', [('A', 6)]), ('E', [('F', 3)]), ('G', [('H', 8)]), ('I', [('G', 3)]), ('J', [('A', 3)])])\n",
      "TEST 3.1, GRAPH G1 OrderedDict([('A', [('B', 2)]), ('B', [('L', 4)]), ('C', [('B', 5)]), ('D', [('A', 6)]), ('E', [('F', 3)]), ('G', [('I', 3)]), ('H', [('O', 2)]), ('I', [('N', 4)]), ('J', [('A', 3)]), ('K', [('L', 3)]), ('M', [('L', 2)])])\n",
      "CPU times: user 1.72 ms, sys: 1.87 ms, total: 3.59 ms\n",
      "Wall time: 3.19 ms\n",
      "--- 0.006695985794067383 seconds ---\n"
     ]
    }
   ],
   "source": [
    "def print_question3():\n",
    "    GE = {'A': [('B', 2)],\n",
    "          'B': [('A', 2), ('C', 5)], \n",
    "          'C': [('B', 5)]}\n",
    "    print (\"TEST 3.0, GRAPH G\", question3(GE))\n",
    "    G = {'A': [('B', 2), ('D', 6), ('G', 4), ('J', 3)],\n",
    "         'B': [('A', 2), ('C', 5)], \n",
    "         'C': [('B', 5), ('E', 5)],\n",
    "         'D': [('A', 6), ('E', 8)],\n",
    "         'E': [('C', 5), ('D', 8), ('F', 3)],\n",
    "         'F': [('E', 3), ('G', 7)],\n",
    "         'G': [('A', 4), ('F', 7), ('H', 8), ('I', 3)],\n",
    "         'H': [('G', 8)], \n",
    "         'I': [('G', 3), ('J', 7)],\n",
    "         'J': [('A', 3), ('I', 7)]}\n",
    "    print (\"TEST 3.0, GRAPH G\", question3(G))\n",
    "    G1 = {'A': [('B', 2), ('D', 6), ('G', 4), ('J', 3)],\n",
    "          'B': [('A', 2), ('C', 5), ('L', 4)], \n",
    "          'C': [('B', 5), ('E', 5), ('K', 8)],\n",
    "          'D': [('A', 6), ('E', 8)],\n",
    "          'E': [('C', 5), ('D', 8), ('F', 3)],\n",
    "          'F': [('E', 3), ('G', 7)],\n",
    "          'G': [('A', 4), ('F', 7), ('H', 8), ('I', 3)],\n",
    "          'H': [('G', 8), ('K', 5), ('O', 2)], \n",
    "          'I': [('G', 3), ('J', 7), ('N', 4)],\n",
    "          'J': [('A', 3), ('I', 7)],\n",
    "          'K': [('C', 8), ('H', 5), ('L', 3)],  \n",
    "          'L': [('B', 4), ('K', 3), ('M', 2)],\n",
    "          'M': [('L', 2), ('N', 7)],\n",
    "          'N': [('I', 4), ('M', 7), ('O', 5)],\n",
    "          'O': [('N', 5), ('H', 2)]}\n",
    "    print (\"TEST 3.1, GRAPH G1\", question3(G1))\n",
    "\n",
    "start_time = time.time()\n",
    "%time print_question3()\n",
    "print(\"--- %s seconds ---\" % (time.time() - start_time))"
   ]
  },
  {
   "cell_type": "markdown",
   "metadata": {},
   "source": [
    "### &#x1F52C; &nbsp; Explanation 3"
   ]
  },
  {
   "cell_type": "markdown",
   "metadata": {
    "collapsed": true
   },
   "source": [
    "I have chosen the package Networkx as an optimal decision in this case. It makes my task very simple. \n",
    "\n",
    "I need only to create a graph, apply the function *minimum_spanning_tree*, and convert the result into the certain format of dictionary.\n",
    "\n",
    "Efficiency: $\\mathscr O(n \\star m \\star log \\ n)$, where n - the number of nodes and m - the number of edges.\n",
    "                                                     \n",
    "Space complexity: $\\mathscr Q(N\\star M)$, where N=len(n), M=len(m)."
   ]
  },
  {
   "cell_type": "markdown",
   "metadata": {
    "collapsed": true,
    "outputExpanded": false
   },
   "source": [
    "###  &#x1F4D1; &nbsp; Question 4\n",
    "Find the least common ancestor between two nodes on a binary search tree. \n",
    "\n",
    "The least common ancestor is the farthest node from the root that is an ancestor of both nodes. \n",
    "\n",
    "For example, the root is a common ancestor of all nodes on the tree, but if both nodes are descendents \n",
    "\n",
    "of the root's left child, then that left child might be the lowest common ancestor. \n",
    "\n",
    "You can assume that both nodes are in the tree, and the tree itself adheres to all BST properties. \n",
    "\n",
    "The function definition should look like question4(T, r, n1, n2), where T is the tree represented as a matrix, \n",
    "\n",
    "where the index of the list is equal to the integer stored in that node and a 1 represents a child node, \n",
    "\n",
    "r is a non-negative integer representing the root, and n1 and n2 are non-negative integers representing \n",
    "\n",
    "the two nodes in no particular order. For example, one test case might be"
   ]
  },
  {
   "cell_type": "code",
   "execution_count": null,
   "metadata": {
    "collapsed": true,
    "outputExpanded": false
   },
   "outputs": [],
   "source": [
    "question4([[0, 1, 0, 0, 0],\n",
    "           [0, 0, 0, 0, 0],\n",
    "           [0, 0, 0, 0, 0],\n",
    "           [1, 0, 0, 0, 1],\n",
    "           [0, 0, 0, 0, 0]],\n",
    "          3,\n",
    "          1,\n",
    "          4)"
   ]
  },
  {
   "cell_type": "markdown",
   "metadata": {
    "collapsed": true,
    "outputExpanded": false
   },
   "source": [
    "and the answer would be 3."
   ]
  },
  {
   "cell_type": "markdown",
   "metadata": {
    "collapsed": true,
    "outputExpanded": false
   },
   "source": [
    "###  &#x1F4D1; &nbsp; Solution 4"
   ]
  },
  {
   "cell_type": "code",
   "execution_count": 28,
   "metadata": {
    "collapsed": true
   },
   "outputs": [],
   "source": [
    "import scipy as sp\n",
    "import pandas as pd"
   ]
  },
  {
   "cell_type": "code",
   "execution_count": 60,
   "metadata": {
    "collapsed": false
   },
   "outputs": [
    {
     "name": "stdout",
     "output_type": "stream",
     "text": [
      "--- 0.0008320808410644531 seconds ---\n"
     ]
    }
   ],
   "source": [
    "start_time = time.time()\n",
    "def question4(T, node1, node2, root):\n",
    "    DF = create_df(T)\n",
    "    BTG = create_graph(DF)\n",
    "\n",
    "    if BTG != None:   \n",
    "        nodes = nx.shortest_path(BTG, node1, node2)   \n",
    "        shortest_paths_nodes = []\n",
    "        for element in nodes:\n",
    "            shortest_paths_nodes.append(nx.shortest_path(BTG, root, element))\n",
    "        \n",
    "        index = []\n",
    "        for path in shortest_paths_nodes:\n",
    "            index.append(len(path))\n",
    "        root_path_nodes = shortest_paths_nodes[min(index)]\n",
    "    \n",
    "        result = list(set(nodes) & set(root_path_nodes))\n",
    "        return result[0]\n",
    "    \n",
    "    else: \n",
    "        print (\"This graph is not a binary search tree\")\n",
    "        return None        \n",
    "    \n",
    "def create_df(T):\n",
    "    BT = np.matrix(T)\n",
    "    sparse = sp.sparse.coo_matrix(BT, dtype=np.int32)\n",
    "    nodes = range(BT.shape[0])\n",
    "    DF = pd.DataFrame(sparse.toarray(), index=nodes, columns=nodes)\n",
    "    return DF\n",
    "    \n",
    "def create_graph(DF):\n",
    "    BTG = nx.Graph()\n",
    "    BTG.add_nodes_from(list(DF.index))\n",
    "    for i in range(DF.shape[0]):\n",
    "        column_label = DF.columns[i]\n",
    "        for j in range(DF.shape[1]):\n",
    "            row_label = DF.index[j]\n",
    "            node = DF.iloc[i,j]\n",
    "            if node == 1:\n",
    "                BTG.add_edge(column_label,row_label)\n",
    "    if nx.is_tree(BTG):\n",
    "        return BTG\n",
    "    else:\n",
    "        return None\n",
    "print(\"--- %s seconds ---\" % (time.time() - start_time))"
   ]
  },
  {
   "cell_type": "markdown",
   "metadata": {},
   "source": [
    "### &#x1F52C; &nbsp; Test 4"
   ]
  },
  {
   "cell_type": "code",
   "execution_count": 89,
   "metadata": {
    "collapsed": false
   },
   "outputs": [
    {
     "data": {
      "text/plain": [
       "15"
      ]
     },
     "execution_count": 89,
     "metadata": {},
     "output_type": "execute_result"
    }
   ],
   "source": [
    "T = [[0, 1, 1, 0, 0, 0, 0, 0, 0, 0, 0, 0, 0, 0, 0],\n",
    "     [1, 0, 0, 1, 1, 0, 0, 0, 0, 0, 0, 0, 0, 0, 0],\n",
    "     [1, 0, 0, 0, 0, 1, 1, 0, 0, 0, 0, 0, 0, 0, 0],\n",
    "     [0, 1, 0, 0, 0, 0, 0, 1, 1, 0, 0, 0, 0, 0, 0],\n",
    "     [0, 1, 0, 0, 0, 0, 0, 0, 0, 1, 1, 0, 0, 0, 0],\n",
    "     [0, 0, 1, 0, 0, 0, 0, 0, 0, 0, 0, 1, 1, 0, 0],\n",
    "     [0, 0, 1, 0, 0, 0, 0, 0, 0, 0, 0, 0, 0, 1, 1],\n",
    "     [0, 0, 0, 1, 0, 0, 0, 0, 0, 0, 0, 0, 0, 0, 0],\n",
    "     [0, 0, 0, 1, 0, 0, 0, 0, 0, 0, 0, 0, 0, 0, 0],\n",
    "     [0, 0, 0, 0, 1, 0, 0, 0, 0, 0, 0, 0, 0, 0, 0],\n",
    "     [0, 0, 0, 0, 1, 0, 0, 0, 0, 0, 0, 0, 0, 0, 0],\n",
    "     [0, 0, 0, 0, 0, 1, 0, 0, 0, 0, 0, 0, 0, 0, 0],\n",
    "     [0, 0, 0, 0, 0, 1, 0, 0, 0, 0, 0, 0, 0, 0, 0],\n",
    "     [0, 0, 0, 0, 0, 0, 1, 0, 0, 0, 0, 0, 0, 0, 0],\n",
    "     [0, 0, 0, 0, 0, 0, 1, 0, 0, 0, 0, 0, 0, 0, 0]]\n",
    "\n",
    "BT = np.matrix(T)\n",
    "node1, node2, root = (12, 14, 0)\n",
    "BT.shape[0]"
   ]
  },
  {
   "cell_type": "code",
   "execution_count": 90,
   "metadata": {
    "collapsed": false
   },
   "outputs": [
    {
     "name": "stdout",
     "output_type": "stream",
     "text": [
      "    0   1   2   3   4   5   6   7   8   9   10  11  12  13  14\n",
      "0    0   1   1   0   0   0   0   0   0   0   0   0   0   0   0\n",
      "1    1   0   0   1   1   0   0   0   0   0   0   0   0   0   0\n",
      "2    1   0   0   0   0   1   1   0   0   0   0   0   0   0   0\n",
      "3    0   1   0   0   0   0   0   1   1   0   0   0   0   0   0\n",
      "4    0   1   0   0   0   0   0   0   0   1   1   0   0   0   0\n",
      "5    0   0   1   0   0   0   0   0   0   0   0   1   1   0   0\n",
      "6    0   0   1   0   0   0   0   0   0   0   0   0   0   1   1\n",
      "7    0   0   0   1   0   0   0   0   0   0   0   0   0   0   0\n",
      "8    0   0   0   1   0   0   0   0   0   0   0   0   0   0   0\n",
      "9    0   0   0   0   1   0   0   0   0   0   0   0   0   0   0\n",
      "10   0   0   0   0   1   0   0   0   0   0   0   0   0   0   0\n",
      "11   0   0   0   0   0   1   0   0   0   0   0   0   0   0   0\n",
      "12   0   0   0   0   0   1   0   0   0   0   0   0   0   0   0\n",
      "13   0   0   0   0   0   0   1   0   0   0   0   0   0   0   0\n",
      "14   0   0   0   0   0   0   1   0   0   0   0   0   0   0   0\n",
      "[0, 1, 2, 3, 4, 5, 6, 7, 8, 9, 10, 11, 12, 13, 14]\n"
     ]
    }
   ],
   "source": [
    "sparse = sp.sparse.coo_matrix(BT, dtype=np.int32)\n",
    "nodes = range(BT.shape[0])\n",
    "DF = pd.DataFrame(sparse.toarray(), index=nodes, columns=nodes)\n",
    "print (DF)\n",
    "print (list(DF.index))"
   ]
  },
  {
   "cell_type": "code",
   "execution_count": 91,
   "metadata": {
    "collapsed": false
   },
   "outputs": [
    {
     "data": {
      "text/plain": [
       "True"
      ]
     },
     "execution_count": 91,
     "metadata": {},
     "output_type": "execute_result"
    }
   ],
   "source": [
    "BTG = nx.Graph()\n",
    "BTG.add_nodes_from(nodes)\n",
    "for i in range(DF.shape[0]):\n",
    "    column_label = DF.columns[i]\n",
    "    for j in range(DF.shape[1]):\n",
    "        row_label = DF.index[j]\n",
    "        node = DF.iloc[i,j]\n",
    "        if node == 1:\n",
    "            BTG.add_edge(column_label,row_label)\n",
    "nx.is_tree(BTG)"
   ]
  },
  {
   "cell_type": "code",
   "execution_count": 92,
   "metadata": {
    "collapsed": false
   },
   "outputs": [
    {
     "data": {
      "text/plain": [
       "[(0, 1, {'weight': 1}),\n",
       " (0, 2, {'weight': 1}),\n",
       " (1, 3, {'weight': 1}),\n",
       " (1, 4, {'weight': 1}),\n",
       " (2, 5, {'weight': 1}),\n",
       " (2, 6, {'weight': 1}),\n",
       " (3, 8, {'weight': 1}),\n",
       " (3, 7, {'weight': 1}),\n",
       " (4, 10, {'weight': 1}),\n",
       " (4, 9, {'weight': 1}),\n",
       " (5, 11, {'weight': 1}),\n",
       " (5, 12, {'weight': 1}),\n",
       " (6, 13, {'weight': 1}),\n",
       " (6, 14, {'weight': 1})]"
      ]
     },
     "execution_count": 92,
     "metadata": {},
     "output_type": "execute_result"
    }
   ],
   "source": [
    "BSTG=nx.from_numpy_matrix(np.matrix(T))\n",
    "BSTG.edges(data=True)"
   ]
  },
  {
   "cell_type": "code",
   "execution_count": 93,
   "metadata": {
    "collapsed": false
   },
   "outputs": [
    {
     "data": {
      "text/plain": [
       "2"
      ]
     },
     "execution_count": 93,
     "metadata": {},
     "output_type": "execute_result"
    }
   ],
   "source": [
    "path = nx.all_simple_paths(BSTG, 12,  14)\n",
    "min(list(path)[0])"
   ]
  },
  {
   "cell_type": "code",
   "execution_count": 101,
   "metadata": {
    "collapsed": false
   },
   "outputs": [
    {
     "name": "stdout",
     "output_type": "stream",
     "text": [
      "[12, 5, 2, 6, 14] [12, 5, 2, 6, 14]\n"
     ]
    }
   ],
   "source": [
    "nodes0 = nx.dijkstra_path(BTG, 12, 14)\n",
    "nodes = nx.shortest_path(BTG, 12, 14)\n",
    "print (nodes0, nodes)"
   ]
  },
  {
   "cell_type": "code",
   "execution_count": 102,
   "metadata": {
    "collapsed": false
   },
   "outputs": [
    {
     "data": {
      "text/plain": [
       "[(12, 5), (5, 2), (2, 6), (6, 14)]"
      ]
     },
     "execution_count": 102,
     "metadata": {},
     "output_type": "execute_result"
    }
   ],
   "source": [
    "dijkstra_path = []\n",
    "for i in range(len(nodes)-1):   \n",
    "    dijkstra_path.append((nodes[i], nodes[i+1]))\n",
    "dijkstra_path"
   ]
  },
  {
   "cell_type": "code",
   "execution_count": 103,
   "metadata": {
    "collapsed": false
   },
   "outputs": [
    {
     "data": {
      "text/plain": [
       "[(12, 5), (5, 2), (2, 6), (6, 14)]"
      ]
     },
     "execution_count": 103,
     "metadata": {},
     "output_type": "execute_result"
    }
   ],
   "source": [
    "shortest_path = []\n",
    "for i in range(len(nodes)-1):   \n",
    "    shortest_path.append((nodes[i], nodes[i+1]))\n",
    "shortest_path"
   ]
  },
  {
   "cell_type": "code",
   "execution_count": 104,
   "metadata": {
    "collapsed": false
   },
   "outputs": [
    {
     "data": {
      "text/plain": [
       "[[0, 2, 5, 12], [0, 2, 5], [0, 2], [0, 2, 6], [0, 2, 6, 14]]"
      ]
     },
     "execution_count": 104,
     "metadata": {},
     "output_type": "execute_result"
    }
   ],
   "source": [
    "shortest_paths_nodes = []\n",
    "for element in nodes:\n",
    "    shortest_paths_nodes.append(nx.shortest_path(BTG, 0, element))\n",
    "shortest_paths_nodes"
   ]
  },
  {
   "cell_type": "code",
   "execution_count": 105,
   "metadata": {
    "collapsed": false
   },
   "outputs": [
    {
     "data": {
      "text/plain": [
       "[0, 2]"
      ]
     },
     "execution_count": 105,
     "metadata": {},
     "output_type": "execute_result"
    }
   ],
   "source": [
    "index = []\n",
    "for path in shortest_paths_nodes:\n",
    "    index.append(len(path))\n",
    "root_path_nodes = shortest_paths_nodes[min(index)]\n",
    "root_path_nodes"
   ]
  },
  {
   "cell_type": "code",
   "execution_count": 106,
   "metadata": {
    "collapsed": false
   },
   "outputs": [
    {
     "data": {
      "text/plain": [
       "[(0, 2)]"
      ]
     },
     "execution_count": 106,
     "metadata": {},
     "output_type": "execute_result"
    }
   ],
   "source": [
    "shortest_path_root = []\n",
    "for i in range(len(root_path_nodes)-1):   \n",
    "    shortest_path_root.append((root_path_nodes[i], root_path_nodes[i+1]))\n",
    "shortest_path_root"
   ]
  },
  {
   "cell_type": "code",
   "execution_count": 107,
   "metadata": {
    "collapsed": false
   },
   "outputs": [
    {
     "data": {
      "text/plain": [
       "2"
      ]
     },
     "execution_count": 107,
     "metadata": {},
     "output_type": "execute_result"
    }
   ],
   "source": [
    "result = list(set(nodes) & set(root_path_nodes))\n",
    "result[0]"
   ]
  },
  {
   "cell_type": "code",
   "execution_count": 108,
   "metadata": {
    "collapsed": false
   },
   "outputs": [],
   "source": [
    "pos0 = {0: [ 0.42009075,  0.61535423], \n",
    "        1: [ 0.6099448 ,  0.28029755], \n",
    "        2: [ 0.28414524,  0.93253065], \n",
    "        3: [ 0.96112175,  0.32472961], \n",
    "        4: [ 0.39534523,  0.01803362], \n",
    "        5: [ 0.55470795,  0.96700595], \n",
    "        6: [ 0.0775995 ,  0.75897483], \n",
    "        7: [ 0.87750575,  0.15936774], \n",
    "        8: [ 1.       ,  0.5493866], \n",
    "        9: [ 0.1819502 ,  0.09913342], \n",
    "        10: [ 0.59061407,  0.        ], \n",
    "        11: [ 0.73195428,  0.94294233], \n",
    "        12: [ 0.82716582,  0.80770493], \n",
    "        13: [ 0.        ,  0.43491463], \n",
    "        14: [ 0.00316343,  0.61103969]}                  "
   ]
  },
  {
   "cell_type": "code",
   "execution_count": 92,
   "metadata": {
    "collapsed": false
   },
   "outputs": [
    {
     "data": {
      "text/plain": [
       "<matplotlib.collections.PathCollection at 0x12968cd30>"
      ]
     },
     "execution_count": 92,
     "metadata": {},
     "output_type": "execute_result"
    },
    {
     "data": {
      "image/png": "[encoded data removed]",
      "text/plain": [
       "<matplotlib.figure.Figure at 0x128316048>"
      ]
     },
     "metadata": {},
     "output_type": "display_data"
    }
   ],
   "source": [
    "import matplotlib\n",
    "matplotlib.rcParams['figure.figsize'] = (14, 8)\n",
    "pos=nx.fruchterman_reingold_layout(BTG)\n",
    "nx.draw_networkx(BTG, pos, with_labels=True, \n",
    "                 node_shape='8', node_size=800, node_color='steelblue', \n",
    "                 edge_color='skyblue', width=7, alpha=0.8)\n",
    "nx.draw_networkx_edges(BTG, pos, edgelist=dijkstra_path,\n",
    "                       edge_color = 'navy', width=10, alpha=0.3)\n",
    "nx.draw_networkx_edges(BTG, pos, edgelist=shortest_path_root,\n",
    "                       edge_color = 'black', width=10, alpha=0.3)\n",
    "nx.draw_networkx_nodes(BTG, pos, nodelist=result,\n",
    "                    node_shape='8', node_size=800, node_color='darkblue', alpha=0.6)"
   ]
  },
  {
   "cell_type": "code",
   "execution_count": 85,
   "metadata": {
    "collapsed": false
   },
   "outputs": [
    {
     "name": "stdout",
     "output_type": "stream",
     "text": [
      "[[0, 0, 0, 0, 0], [0, 0, 0, 0, 0], [0, 0, 0, 0, 0], [0, 0, 0, 0, 0], [0, 0, 0, 0, 0]]\n",
      "This graph is not a binary search tree\n",
      "None\n",
      "--- 0.007570028305053711 seconds ---\n"
     ]
    }
   ],
   "source": [
    "# Final test\n",
    "T0 = [[0, 0, 0, 0, 0],\n",
    "      [0, 0, 0, 0, 0],\n",
    "      [0, 0, 0, 0, 0],\n",
    "      [0, 0, 0, 0, 0],\n",
    "      [0, 0, 0, 0, 0]]\n",
    "print (T0)\n",
    "\n",
    "start_time = time.time()\n",
    "\n",
    "print(question4(T0, 2, 4, 0))\n",
    "\n",
    "print(\"--- %s seconds ---\" % (time.time() - start_time))"
   ]
  },
  {
   "cell_type": "code",
   "execution_count": 84,
   "metadata": {
    "collapsed": false
   },
   "outputs": [
    {
     "name": "stdout",
     "output_type": "stream",
     "text": [
      "The least common ancestor between 12 and 14 for T (root 0) 2\n",
      "--- 0.07456707954406738 seconds ---\n"
     ]
    }
   ],
   "source": [
    "start_time = time.time()\n",
    "\n",
    "print('The least common ancestor between 12 and 14 for T (root 0)', question4(T, 12, 14, 0))\n",
    "\n",
    "print(\"--- %s seconds ---\" % (time.time() - start_time))"
   ]
  },
  {
   "cell_type": "code",
   "execution_count": 81,
   "metadata": {
    "collapsed": false
   },
   "outputs": [
    {
     "name": "stdout",
     "output_type": "stream",
     "text": [
      "The least common ancestor between 2 and 4 for T1 (root 0) 0\n",
      "--- 0.026632070541381836 seconds ---\n"
     ]
    }
   ],
   "source": [
    "T1 = [[0, 1, 1, 0, 0, 0, 0],\n",
    "      [1, 0, 0, 1, 1, 0, 0],\n",
    "      [1, 0, 0, 0, 0, 1, 1],\n",
    "      [0, 1, 0, 0, 0, 0, 0],\n",
    "      [0, 1, 0, 0, 0, 0, 0],\n",
    "      [0, 0, 1, 0, 0, 0, 0],\n",
    "      [0, 0, 1, 0, 0, 0, 0]] \n",
    "\n",
    "start_time = time.time()\n",
    "\n",
    "print('The least common ancestor between 2 and 4 for T1 (root 0)', question4(T1, 2, 4, 0))\n",
    "\n",
    "print(\"--- %s seconds ---\" % (time.time() - start_time))"
   ]
  },
  {
   "cell_type": "code",
   "execution_count": 110,
   "metadata": {
    "collapsed": false
   },
   "outputs": [
    {
     "name": "stdout",
     "output_type": "stream",
     "text": [
      "This graph is not a binary search tree\n",
      "T0 None\n",
      "The least common ancestor between 12 and 14 for T (root 0) 2\n",
      "The least common ancestor between 2 and 4 for T1 (root 0) 0\n",
      "CPU times: user 66.8 ms, sys: 11.2 ms, total: 78 ms\n",
      "Wall time: 77.2 ms\n",
      "--- 0.08280801773071289 seconds ---\n"
     ]
    }
   ],
   "source": [
    "# TEST 4\n",
    "def print_question4():\n",
    "    T0 = [[0, 0, 0, 0, 0],\n",
    "          [0, 0, 0, 0, 0],\n",
    "          [0, 0, 0, 0, 0],\n",
    "          [0, 0, 0, 0, 0],\n",
    "          [0, 0, 0, 0, 0]]\n",
    "    print(\"T0\", question4(T0, 2, 4, 0))\n",
    "    T = [[0, 1, 1, 0, 0, 0, 0, 0, 0, 0, 0, 0, 0, 0, 0],\n",
    "         [1, 0, 0, 1, 1, 0, 0, 0, 0, 0, 0, 0, 0, 0, 0],\n",
    "         [1, 0, 0, 0, 0, 1, 1, 0, 0, 0, 0, 0, 0, 0, 0],\n",
    "         [0, 1, 0, 0, 0, 0, 0, 1, 1, 0, 0, 0, 0, 0, 0],\n",
    "         [0, 1, 0, 0, 0, 0, 0, 0, 0, 1, 1, 0, 0, 0, 0],\n",
    "         [0, 0, 1, 0, 0, 0, 0, 0, 0, 0, 0, 1, 1, 0, 0],\n",
    "         [0, 0, 1, 0, 0, 0, 0, 0, 0, 0, 0, 0, 0, 1, 1],\n",
    "         [0, 0, 0, 1, 0, 0, 0, 0, 0, 0, 0, 0, 0, 0, 0],\n",
    "         [0, 0, 0, 1, 0, 0, 0, 0, 0, 0, 0, 0, 0, 0, 0],\n",
    "         [0, 0, 0, 0, 1, 0, 0, 0, 0, 0, 0, 0, 0, 0, 0],\n",
    "         [0, 0, 0, 0, 1, 0, 0, 0, 0, 0, 0, 0, 0, 0, 0],\n",
    "         [0, 0, 0, 0, 0, 1, 0, 0, 0, 0, 0, 0, 0, 0, 0],\n",
    "         [0, 0, 0, 0, 0, 1, 0, 0, 0, 0, 0, 0, 0, 0, 0],\n",
    "         [0, 0, 0, 0, 0, 0, 1, 0, 0, 0, 0, 0, 0, 0, 0],\n",
    "         [0, 0, 0, 0, 0, 0, 1, 0, 0, 0, 0, 0, 0, 0, 0]]\n",
    "    print('The least common ancestor between 12 and 14 for T (root 0)', question4(T, 12, 14, 0))\n",
    "    T1 = [[0, 1, 1, 0, 0, 0, 0],\n",
    "          [1, 0, 0, 1, 1, 0, 0],\n",
    "          [1, 0, 0, 0, 0, 1, 1],\n",
    "          [0, 1, 0, 0, 0, 0, 0],\n",
    "          [0, 1, 0, 0, 0, 0, 0],\n",
    "          [0, 0, 1, 0, 0, 0, 0],\n",
    "          [0, 0, 1, 0, 0, 0, 0]]     \n",
    "    print('The least common ancestor between 2 and 4 for T1 (root 0)', question4(T1, 2, 4, 0))\n",
    "\n",
    "start_time = time.time()\n",
    "%time print_question4()\n",
    "print(\"--- %s seconds ---\" % (time.time() - start_time))"
   ]
  },
  {
   "cell_type": "markdown",
   "metadata": {},
   "source": [
    "### &#x1F52C; &nbsp; Explanation 4"
   ]
  },
  {
   "cell_type": "markdown",
   "metadata": {
    "collapsed": true
   },
   "source": [
    "The first step in this solution (create a data frame from the given matrix) before building the graph is not so needed. I've done it just for training.\n",
    "\n",
    "The tree adheres to all BST properties, so the path between two certain nodes is unique, we can apply the function *networkx.shortest_path()* for this goal and create the path between node1 and node2.\n",
    "\n",
    "To solve the problem in general it's necessary to find the shortest path between the root and this generated path. \n",
    "\n",
    "By properties of the binary search tree, the point of intersection of the two found paths will be the solution. \n",
    "\n",
    "For visual control the result I've displayed some graphs in the full version of the program.\n",
    "\n",
    "Efficiency:  $\\mathscr O(n^2 \\star (log \\ n)^2$), where n - the number of rows (or columns) in the initial matrix.\n",
    "                                        \n",
    "Space complexity: $\\mathscr Q(N^2)$, where N=len(n)."
   ]
  },
  {
   "cell_type": "markdown",
   "metadata": {},
   "source": [
    "###  &#x1F4D1; &nbsp; Solution 4. Variant 2"
   ]
  },
  {
   "cell_type": "code",
   "execution_count": 30,
   "metadata": {
    "collapsed": false
   },
   "outputs": [
    {
     "name": "stdout",
     "output_type": "stream",
     "text": [
      "--- 0.0005590915679931641 seconds ---\n"
     ]
    }
   ],
   "source": [
    "start_time = time.time()\n",
    "def question4_var2(T, node1, node2):\n",
    "    BSTG=nx.from_numpy_matrix(np.matrix(T))\n",
    "    if (nx.is_tree(BSTG) & check_sum(T)):\n",
    "        path = nx.all_simple_paths(BSTG, node1,  node2)\n",
    "        return min(list(path)[0])\n",
    "    else:\n",
    "        print (\"This graph is not a binary search tree\")\n",
    "        return None \n",
    "\n",
    "def check_sum(T):\n",
    "    result = True\n",
    "    for element in T:\n",
    "        if sum(element) in [1, 2, 3]:\n",
    "            result = np.logical_and(result, True)\n",
    "        else:\n",
    "            return False\n",
    "    return result\n",
    "print(\"--- %s seconds ---\" % (time.time() - start_time))"
   ]
  },
  {
   "cell_type": "markdown",
   "metadata": {},
   "source": [
    "### &#x1F52C; &nbsp; Test 4. Variant 2"
   ]
  },
  {
   "cell_type": "code",
   "execution_count": 32,
   "metadata": {
    "collapsed": false
   },
   "outputs": [
    {
     "name": "stdout",
     "output_type": "stream",
     "text": [
      "This graph is not a binary search tree\n",
      "T0 None\n",
      "The least common ancestor between 12 and 14 for T (root 0) 2\n",
      "The least common ancestor between 2 and 4 for T1 (root 0) 0\n",
      "CPU times: user 2.39 ms, sys: 1.14 ms, total: 3.52 ms\n",
      "Wall time: 2.65 ms\n",
      "--- 0.004130125045776367 seconds ---\n"
     ]
    }
   ],
   "source": [
    "# TEST 4. VARIANT 2\n",
    "def print_question4_var2():\n",
    "    T0 = [[0, 0, 0, 0, 0],\n",
    "          [0, 0, 0, 0, 0],\n",
    "          [0, 0, 0, 0, 0],\n",
    "          [0, 0, 0, 0, 0],\n",
    "          [0, 0, 0, 0, 0]]\n",
    "    print(\"T0\", question4_var2(T0, 2, 4))\n",
    "    T = [[0, 1, 1, 0, 0, 0, 0, 0, 0, 0, 0, 0, 0, 0, 0],\n",
    "         [1, 0, 0, 1, 1, 0, 0, 0, 0, 0, 0, 0, 0, 0, 0],\n",
    "         [1, 0, 0, 0, 0, 1, 1, 0, 0, 0, 0, 0, 0, 0, 0],\n",
    "         [0, 1, 0, 0, 0, 0, 0, 1, 1, 0, 0, 0, 0, 0, 0],\n",
    "         [0, 1, 0, 0, 0, 0, 0, 0, 0, 1, 1, 0, 0, 0, 0],\n",
    "         [0, 0, 1, 0, 0, 0, 0, 0, 0, 0, 0, 1, 1, 0, 0],\n",
    "         [0, 0, 1, 0, 0, 0, 0, 0, 0, 0, 0, 0, 0, 1, 1],\n",
    "         [0, 0, 0, 1, 0, 0, 0, 0, 0, 0, 0, 0, 0, 0, 0],\n",
    "         [0, 0, 0, 1, 0, 0, 0, 0, 0, 0, 0, 0, 0, 0, 0],\n",
    "         [0, 0, 0, 0, 1, 0, 0, 0, 0, 0, 0, 0, 0, 0, 0],\n",
    "         [0, 0, 0, 0, 1, 0, 0, 0, 0, 0, 0, 0, 0, 0, 0],\n",
    "         [0, 0, 0, 0, 0, 1, 0, 0, 0, 0, 0, 0, 0, 0, 0],\n",
    "         [0, 0, 0, 0, 0, 1, 0, 0, 0, 0, 0, 0, 0, 0, 0],\n",
    "         [0, 0, 0, 0, 0, 0, 1, 0, 0, 0, 0, 0, 0, 0, 0],\n",
    "         [0, 0, 0, 0, 0, 0, 1, 0, 0, 0, 0, 0, 0, 0, 0]]\n",
    "    print('The least common ancestor between 12 and 14 for T (root 0)', question4_var2(T, 12, 14))\n",
    "    T1 = [[0, 1, 1, 0, 0, 0, 0],\n",
    "          [1, 0, 0, 1, 1, 0, 0],\n",
    "          [1, 0, 0, 0, 0, 1, 1],\n",
    "          [0, 1, 0, 0, 0, 0, 0],\n",
    "          [0, 1, 0, 0, 0, 0, 0],\n",
    "          [0, 0, 1, 0, 0, 0, 0],\n",
    "          [0, 0, 1, 0, 0, 0, 0]]     \n",
    "    print('The least common ancestor between 2 and 4 for T1 (root 0)', question4_var2(T1, 2, 4))\n",
    "\n",
    "start_time = time.time()\n",
    "%time print_question4_var2()\n",
    "print(\"--- %s seconds ---\" % (time.time() - start_time))"
   ]
  },
  {
   "cell_type": "code",
   "execution_count": 108,
   "metadata": {
    "collapsed": false
   },
   "outputs": [
    {
     "data": {
      "text/plain": [
       "False"
      ]
     },
     "execution_count": 108,
     "metadata": {},
     "output_type": "execute_result"
    }
   ],
   "source": [
    "check_sum(T0)"
   ]
  },
  {
   "cell_type": "markdown",
   "metadata": {},
   "source": [
    "### &#x1F52C; &nbsp; Explanation 4. Variant 2"
   ]
  },
  {
   "cell_type": "markdown",
   "metadata": {},
   "source": [
    "The graph was created from the matrix so that the root has the index 0 and all other nodes have received the numbers in order. \n",
    "\n",
    "Created graph was tested for the number of edges per node (1 to 3) and whether or not it is a tree.\n",
    "\n",
    "We know exactly the root index, so we can only use three variables.\n",
    "\n",
    "Now it is possible to find a path between two given nodes in the specified graph and \n",
    "\n",
    "determine in this path the node with the minimum index. This will be the required number.\n",
    "\n",
    "\n",
    "Efficiency:  $\\mathscr O(n^2)$, where n - the number of rows (or columns) in the initial matrix.\n",
    "                                        \n",
    "Space complexity: $\\mathscr Q(N)$, where N=len(n)."
   ]
  },
  {
   "cell_type": "markdown",
   "metadata": {
    "outputExpanded": false
   },
   "source": [
    "###  &#x1F4D1; &nbsp; Question 5. Variant 1\n",
    "Find the element in a singly linked list that's m elements from the end. \n",
    "\n",
    "For example, if a linked list has 5 elements, the 3rd element from the end is the 3rd element. \n",
    "\n",
    "The function definition should look like question5(ll, m), \n",
    "\n",
    "where ll is the first node of a linked list and m is the \"mth number from the end\".\n",
    "\n",
    "You should copy/paste the Node class below to use as a representation of a node in the linked list. \n",
    "\n",
    "Return the value of the node at that position.\n",
    "\n",
    "### The proposed version of the problem formulation. Variant 2\n",
    "\n",
    "Create a class LinkedList for singly linked lists. Convert the list into this class.\n",
    "\n",
    "Find the element in the created list that's m elements from the end. \n",
    "\n",
    "For example, if a linked list has 5 elements, the 3rd element from the end is the 3rd element. \n",
    "\n",
    "The function definition should look like question5(l, m), \n",
    "\n",
    "where l is the initial list and m is the \"mth number from the end in the linked list\".\n",
    "\n",
    "You should copy/paste the Node class below to use as a representation of a node in the linked list. \n",
    "\n",
    "Return the value of the node at that position."
   ]
  },
  {
   "cell_type": "code",
   "execution_count": null,
   "metadata": {
    "collapsed": true,
    "outputExpanded": false
   },
   "outputs": [],
   "source": [
    "class Node(object):\n",
    "    def __init__(self, data):\n",
    "        self.data = data\n",
    "        self.next = None"
   ]
  },
  {
   "cell_type": "markdown",
   "metadata": {},
   "source": [
    "###  &#x1F4D1; &nbsp; Solution 5. Variant 2"
   ]
  },
  {
   "cell_type": "code",
   "execution_count": 72,
   "metadata": {
    "collapsed": false
   },
   "outputs": [
    {
     "name": "stdout",
     "output_type": "stream",
     "text": [
      "--- 0.0014770030975341797 seconds ---\n"
     ]
    }
   ],
   "source": [
    "start_time = time.time()\n",
    "def question5(l, m):\n",
    "    ll = create_linked_list(l)\n",
    "    return ll.getItemLeft(m)\n",
    "\n",
    "def create_linked_list(L):\n",
    "    linked_list = LinkedList()\n",
    "    for el in L:\n",
    "        linked_list.add(el)\n",
    "    return linked_list\n",
    "\n",
    "def create_linked_list_left(L):\n",
    "    linked_list = LinkedList()\n",
    "    for el in L:\n",
    "        linked_list.addLeft(el)\n",
    "    return linked_list\n",
    "\n",
    "class Node:\n",
    "    def __init__(self, data):\n",
    "        self.data = data\n",
    "        self.next = None\n",
    "        \n",
    "    def __repr__(self):\n",
    "        return str(self.data)\n",
    "\n",
    "class LinkedList:\n",
    "    def __init__(self):\n",
    "        self.head = None\n",
    "        \n",
    "    def addLeft(self, data):\n",
    "        new_node = Node(data)\n",
    "        new_node.next = self.head \n",
    "        self.head = new_node\n",
    "        \n",
    "    def add(self, data):\n",
    "        new_node = Node(data)\n",
    "        if self.head == None:\n",
    "            self.head = new_node\n",
    "        else:\n",
    "            current_node = self.head\n",
    "            while current_node.next:\n",
    "                current_node = current_node.next\n",
    "            current_node.next = new_node\n",
    "        \n",
    "    def getLength(self):\n",
    "        current = self.head\n",
    "        count = 1\n",
    "        while current.next != None:\n",
    "            count += 1\n",
    "            current = current.next\n",
    "        return count\n",
    "    \n",
    "    def getIndex(self, data):\n",
    "        current_node = self.head        \n",
    "        index = 1\n",
    "        while current_node.next:\n",
    "            if current_node.data == data:\n",
    "                break\n",
    "            else:     \n",
    "                current_node = current_node.next\n",
    "                index += 1\n",
    "        if (index == self.getLength()) & (current_node.data != data):\n",
    "            print (\"This item is not in the list\")\n",
    "            return None\n",
    "        return index\n",
    "    \n",
    "    def getIndexLeft(self, data):\n",
    "        if self.getIndex(data) == None:\n",
    "            return None\n",
    "        else: \n",
    "            pos = int(self.getIndex(data))\n",
    "            end = int(self.getLength())\n",
    "            return end - pos + 1\n",
    "    \n",
    "    def getItem(self, position):\n",
    "        if position > self.getLength():\n",
    "            print (\"This index is out of the list range\")\n",
    "            return None\n",
    "        else:\n",
    "            current_node = self.head\n",
    "            while (current_node.next != None):\n",
    "                if self.getIndex(current_node.data) == position:\n",
    "                    break\n",
    "                else:\n",
    "                    current_node = current_node.next\n",
    "            return current_node.data\n",
    "        \n",
    "    def getItemLeft(self, position):\n",
    "        if position > self.getLength():\n",
    "            print (\"This index is out of the list range\")\n",
    "            return None\n",
    "        else:\n",
    "            end = int(self.getLength())\n",
    "            pos = end - position + 1\n",
    "            return self.getItem(pos)\n",
    "                    \n",
    "    def insertItem(self, data, position):\n",
    "        if position > int(self.getLength()) + 1:\n",
    "            print (\"This index is out of the list range\")\n",
    "        else:\n",
    "            pos = 1\n",
    "            node = Node(data)\n",
    "            current_node = self.head\n",
    "        \n",
    "            if position == 1:\n",
    "                self.head = current_node\n",
    "            \n",
    "            elif position > 1:\n",
    "                while current_node and pos - 1 < position:\n",
    "                    if pos == position - 1:\n",
    "                        node.next = current_node.next\n",
    "                        current_node.next = node\n",
    "                    current_node = current_node.next\n",
    "                    pos += 1 \n",
    "                           \n",
    "    def deleteItem(self, data):\n",
    "        if (self.getIndex(data) == None):\n",
    "            print (\"This item is not in the list\")        \n",
    "        else:\n",
    "            node = Node(data)\n",
    "            current_node = self.head\n",
    "            previous_node = None\n",
    "        while (current_node.data != data) & (current_node.next != None):\n",
    "            previous_node = current_node\n",
    "            current_node = current_node.next\n",
    "        if current_node.data == data:\n",
    "            if previous_node != None:\n",
    "                previous_node.next = current_node.next\n",
    "            else:\n",
    "                self.head = current_node.next\n",
    "\n",
    "    def displayLinkedList(self):\n",
    "        node = self.head\n",
    "        node_list = []\n",
    "        while node:\n",
    "            node_list.append(node.data)\n",
    "            node = node.next\n",
    "        return node_list\n",
    "print(\"--- %s seconds ---\" % (time.time() - start_time))"
   ]
  },
  {
   "cell_type": "markdown",
   "metadata": {},
   "source": [
    "### &#x1F52C; &nbsp; Test 5"
   ]
  },
  {
   "cell_type": "code",
   "execution_count": 134,
   "metadata": {
    "collapsed": false
   },
   "outputs": [
    {
     "data": {
      "text/plain": [
       "34"
      ]
     },
     "execution_count": 134,
     "metadata": {},
     "output_type": "execute_result"
    }
   ],
   "source": [
    "node = Node(34)\n",
    "node"
   ]
  },
  {
   "cell_type": "code",
   "execution_count": 135,
   "metadata": {
    "collapsed": false
   },
   "outputs": [],
   "source": [
    "test_list = create_linked_list(['aaa', 'bbb', 'ccc', 'ddd', 'eee', 'fff', 'ggg', 'hhh'])\n",
    "test_list2 = create_linked_list([i for i in range(10)])\n",
    "test_list3 = create_linked_list_left(['aaa', 'bbb', 'ccc', 'ddd', 'eee', 'fff', 'ggg', 'hhh'])\n",
    "test_list4 = create_linked_list_left([i for i in range(10)])"
   ]
  },
  {
   "cell_type": "code",
   "execution_count": 136,
   "metadata": {
    "collapsed": false
   },
   "outputs": [
    {
     "name": "stdout",
     "output_type": "stream",
     "text": [
      "8\n",
      "10\n"
     ]
    }
   ],
   "source": [
    "print (test_list.getLength())\n",
    "print (test_list2.getLength())"
   ]
  },
  {
   "cell_type": "code",
   "execution_count": 137,
   "metadata": {
    "collapsed": false
   },
   "outputs": [
    {
     "name": "stdout",
     "output_type": "stream",
     "text": [
      "3\n",
      "This item is not in the list\n",
      "None\n",
      "10\n",
      "This item is not in the list\n",
      "None\n"
     ]
    }
   ],
   "source": [
    "print (test_list.getIndex('ccc'))\n",
    "print (test_list.getIndex('o'))\n",
    "print (test_list2.getIndex(9))\n",
    "print (test_list2.getIndex(100))"
   ]
  },
  {
   "cell_type": "code",
   "execution_count": 138,
   "metadata": {
    "collapsed": false
   },
   "outputs": [
    {
     "name": "stdout",
     "output_type": "stream",
     "text": [
      "6\n",
      "This item is not in the list\n",
      "None\n",
      "1\n",
      "This item is not in the list\n",
      "None\n"
     ]
    }
   ],
   "source": [
    "print (test_list.getIndexLeft('ccc'))\n",
    "print (test_list.getIndexLeft('o'))\n",
    "print (test_list2.getIndexLeft(9))\n",
    "print (test_list2.getIndexLeft(100))"
   ]
  },
  {
   "cell_type": "code",
   "execution_count": 139,
   "metadata": {
    "collapsed": false
   },
   "outputs": [
    {
     "name": "stdout",
     "output_type": "stream",
     "text": [
      "hhh\n",
      "This index is out of the list range\n",
      "None\n",
      "2\n",
      "This index is out of the list range\n",
      "None\n"
     ]
    }
   ],
   "source": [
    "print (test_list.getItem(8))\n",
    "print (test_list.getItem(10))\n",
    "print (test_list2.getItem(3))\n",
    "print (test_list2.getItem(12))"
   ]
  },
  {
   "cell_type": "code",
   "execution_count": 140,
   "metadata": {
    "collapsed": false
   },
   "outputs": [
    {
     "name": "stdout",
     "output_type": "stream",
     "text": [
      "aaa\n",
      "This index is out of the list range\n",
      "None\n",
      "7\n",
      "This index is out of the list range\n",
      "None\n"
     ]
    }
   ],
   "source": [
    "print (test_list.getItemLeft(8))\n",
    "print (test_list.getItemLeft(10))\n",
    "print (test_list2.getItemLeft(3))\n",
    "print (test_list2.getItemLeft(12))"
   ]
  },
  {
   "cell_type": "code",
   "execution_count": 141,
   "metadata": {
    "collapsed": false
   },
   "outputs": [],
   "source": [
    "test_list.insertItem('iii', 9)\n",
    "test_list.insertItem('jjj', 10)\n",
    "test_list2.insertItem(10, 11)\n",
    "test_list2.insertItem(11, 12)"
   ]
  },
  {
   "cell_type": "code",
   "execution_count": 142,
   "metadata": {
    "collapsed": false
   },
   "outputs": [
    {
     "name": "stdout",
     "output_type": "stream",
     "text": [
      "This index is out of the list range\n"
     ]
    }
   ],
   "source": [
    "test_list2.insertItem(20, 100)"
   ]
  },
  {
   "cell_type": "code",
   "execution_count": 143,
   "metadata": {
    "collapsed": false
   },
   "outputs": [
    {
     "name": "stdout",
     "output_type": "stream",
     "text": [
      "['aaa', 'bbb', 'ccc', 'ddd', 'eee', 'fff', 'ggg', 'hhh', 'iii', 'jjj']\n",
      "[0, 1, 2, 3, 4, 5, 6, 7, 8, 9, 10, 11]\n",
      "['hhh', 'ggg', 'fff', 'eee', 'ddd', 'ccc', 'bbb', 'aaa']\n",
      "[9, 8, 7, 6, 5, 4, 3, 2, 1, 0]\n"
     ]
    }
   ],
   "source": [
    "print (test_list.displayLinkedList())\n",
    "print (test_list2.displayLinkedList())\n",
    "print (test_list3.displayLinkedList())\n",
    "print (test_list4.displayLinkedList())"
   ]
  },
  {
   "cell_type": "code",
   "execution_count": 144,
   "metadata": {
    "collapsed": false
   },
   "outputs": [
    {
     "name": "stdout",
     "output_type": "stream",
     "text": [
      "['aaa', 'bbb', 'ccc', 'eee', 'fff', 'ggg', 'hhh', 'iii', 'jjj']\n",
      "[0, 1, 2, 3, 4, 5, 6, 7, 8, 9, 11]\n"
     ]
    }
   ],
   "source": [
    "test_list.deleteItem('ddd')\n",
    "test_list2.deleteItem(10)\n",
    "print (test_list.displayLinkedList())\n",
    "print (test_list2.displayLinkedList())"
   ]
  },
  {
   "cell_type": "code",
   "execution_count": 71,
   "metadata": {
    "collapsed": false
   },
   "outputs": [
    {
     "name": "stdout",
     "output_type": "stream",
     "text": [
      "fff\n",
      "This index is out of the list range\n",
      "None\n",
      "4\n",
      "This index is out of the list range\n",
      "None\n",
      "CPU times: user 2.16 ms, sys: 1.59 ms, total: 3.75 ms\n",
      "Wall time: 2.51 ms\n",
      "--- 0.003679037094116211 seconds ---\n"
     ]
    }
   ],
   "source": [
    "# TEST 5\n",
    "def print_question5():\n",
    "    print (question5(['aaa', 'bbb', 'ccc', 'ddd', 'eee', 'fff', 'ggg', 'hhh'], 3))\n",
    "    print (question5(['aaa', 'bbb', 'ccc', 'ddd', 'eee', 'fff', 'ggg', 'hhh'], 20))   \n",
    "    print (question5([0, 1, 2, 3, 4, 5, 6, 7, 8, 9, 10, 11], 8))\n",
    "    print (question5([0, 1, 2, 3, 4, 5, 6, 7, 8, 9, 10, 11], 100))\n",
    "\n",
    "start_time = time.time()\n",
    "%time print_question5()\n",
    "print(\"--- %s seconds ---\" % (time.time() - start_time))"
   ]
  },
  {
   "cell_type": "markdown",
   "metadata": {},
   "source": [
    "### &#x1F52C; &nbsp; Explanation 5"
   ]
  },
  {
   "cell_type": "markdown",
   "metadata": {
    "collapsed": true
   },
   "source": [
    "Here I am a bit remade the condition of the original problem. This wording seems to me to be more precise.\n",
    "\n",
    "Created class consists of a set of functions that allow to find a specific element from the end of the linked list, and extract other information about a particular linked list.\n",
    "\n",
    "In the full version of the project, I did a lot more procedures within a given class. They do not need to find a given item, and were built for training.\n",
    "\n",
    "Efficiency: $\\mathscr Q(n)$, where n - the length of the linked list l.\n",
    "                      \n",
    "Space complexity: $\\mathscr Q(1)$."
   ]
  }
 ],
 "metadata": {
  "anaconda-cloud": {},
  "gist_id": "c302dd3875a0e05c4c4d39ce3796cb78",
  "hide_input": false,
  "kernel_info": {
   "name": "python3"
  },
  "kernelspec": {
   "display_name": "Python [conda root]",
   "language": "python",
   "name": "conda-root-py"
  },
  "language_info": {
   "codemirror_mode": {
    "name": "ipython",
    "version": 3
   },
   "file_extension": ".py",
   "mimetype": "text/x-python",
   "name": "python",
   "nbconvert_exporter": "python",
   "pygments_lexer": "ipython3",
   "version": "3.5.2"
  },
  "latex_envs": {
   "bibliofile": "biblio.bib",
   "cite_by": "apalike",
   "current_citInitial": 1,
   "eqLabelWithNumbers": true,
   "eqNumInitial": 0
  }
 },
 "nbformat": 4,
 "nbformat_minor": 2
}
